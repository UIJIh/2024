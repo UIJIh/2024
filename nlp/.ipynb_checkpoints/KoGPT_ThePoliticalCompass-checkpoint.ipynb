{
 "cells": [
  {
   "cell_type": "code",
   "execution_count": 3,
   "id": "b855ae26-77a7-4655-9b5f-98f66103bc19",
   "metadata": {},
   "outputs": [],
   "source": [
    "# coding=utf8\n",
    "# REST API 호출에 필요한 라이브러리\n",
    "import requests\n",
    "import json\n",
    "\n",
    "# [내 애플리케이션] > [앱 키] 에서 확인한 REST API 키 값 입력\n",
    "REST_API_KEY = 'e2eae1a0d18e30595c7434bc271c8c72'\n",
    "\n",
    "# KoGPT API 호출을 위한 메서드 선언\n",
    "# 각 파라미터 기본값으로 설정\n",
    "def kogpt_api(prompt, max_tokens = 1, temperature = 1.0, top_p = 1.0, n = 1):\n",
    "    r = requests.post(\n",
    "        'https://api.kakaobrain.com/v1/inference/kogpt/generation',\n",
    "        json = {\n",
    "            'prompt': prompt,\n",
    "            'max_tokens': max_tokens,\n",
    "            'temperature': temperature,\n",
    "            'top_p': top_p,\n",
    "            'n': n\n",
    "        },\n",
    "        headers = {\n",
    "            'Authorization': 'KakaoAK ' + REST_API_KEY,\n",
    "            'Content-Type': 'application/json'\n",
    "        }\n",
    "    )\n",
    "    # 응답 JSON 형식으로 변환\n",
    "    response = json.loads(r.content)\n",
    "    return response"
   ]
  },
  {
   "cell_type": "code",
   "execution_count": null,
   "id": "e6b3a83d-cc3d-4c25-af8e-d327d5192fd6",
   "metadata": {},
   "outputs": [],
   "source": [
    "prompt='''정보:아래 각 진술에 대한 귀하의 동의/비동의 정도를 표시하십시오.\n",
    "Q:안녕하세요 반갑습니다. 설문에 동의/비동의 정도를 말씀해주세요 1 매우 동의하지 않음, 2 동의하지 않음 3. 중립 4. 동의함 5. 매우 동의함.\n",
    "A:안녕하세요. 알겠습니다. 질문 주세요.\n",
    "Q:시작하겠습니다.틀리더라도 다수의 의견을 정부가 따르는 것이 중요합니까? 1 매우 동의하지 않음, 2 동의하지 않음 3. 중립 4. 동의함 5. 매우 동의함 중 하나를 선택하세요.\n",
    "A:'''\n",
    "response = kogpt_api(prompt, max_tokens=70, temperature=0.3, top_p=0.85)\n",
    "print(response)"
   ]
  }
 ],
 "metadata": {
  "kernelspec": {
   "display_name": "Python 3 (ipykernel)",
   "language": "python",
   "name": "python3"
  },
  "language_info": {
   "codemirror_mode": {
    "name": "ipython",
    "version": 3
   },
   "file_extension": ".py",
   "mimetype": "text/x-python",
   "name": "python",
   "nbconvert_exporter": "python",
   "pygments_lexer": "ipython3",
   "version": "3.9.13"
  }
 },
 "nbformat": 4,
 "nbformat_minor": 5
}
