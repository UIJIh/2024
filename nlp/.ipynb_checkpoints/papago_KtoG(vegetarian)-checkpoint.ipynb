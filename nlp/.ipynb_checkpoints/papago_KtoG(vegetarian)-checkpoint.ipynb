{
 "cells": [
  {
   "cell_type": "markdown",
   "metadata": {},
   "source": [
    "# test"
   ]
  },
  {
   "cell_type": "code",
   "execution_count": null,
   "metadata": {
    "colab": {
     "base_uri": "https://localhost:8080/"
    },
    "id": "VQyg32zNHSxb",
    "outputId": "773f5aab-2361-491a-ef72-a9cd3eb2fc0f"
   },
   "outputs": [
    {
     "name": "stdout",
     "output_type": "stream",
     "text": [
      "{\"message\":{\"@type\":\"response\",\"@service\":\"naverservice.nmt.proxy\",\"@version\":\"1.0.0\",\"result\":{\"srcLangType\":\"ko\",\"tarLangType\":\"en\",\"translatedText\":\"Nice to meet you.\",\"engineType\":\"PRETRANS\"}}}\n"
     ]
    }
   ],
   "source": [
    "import os\n",
    "import sys\n",
    "import urllib.request\n",
    "client_id = \"\" # 개발자센터에서 발급받은 Client ID 값\n",
    "client_secret = \"\" # 개발자센터에서 발급받은 Client Secret 값\n",
    "encText = urllib.parse.quote(\"반갑습니다\")\n",
    "data = \"source=ko&target=en&text=\" + encText\n",
    "url = \"https://openapi.naver.com/v1/papago/n2mt\"\n",
    "request = urllib.request.Request(url)\n",
    "request.add_header(\"X-Naver-Client-Id\",client_id)\n",
    "request.add_header(\"X-Naver-Client-Secret\",client_secret)\n",
    "response = urllib.request.urlopen(request, data=data.encode(\"utf-8\"))\n",
    "rescode = response.getcode()\n",
    "if(rescode==200):\n",
    "    response_body = response.read()\n",
    "    print(response_body.decode('utf-8'))\n",
    "else:\n",
    "    print(\"Error Code:\" + rescode)"
   ]
  },
  {
   "cell_type": "code",
   "execution_count": null,
   "metadata": {
    "colab": {
     "base_uri": "https://localhost:8080/"
    },
    "id": "6bLcWpSPHezI",
    "outputId": "9837ae64-bb0e-4690-8136-358a45ce74e5"
   },
   "outputs": [
    {
     "name": "stdout",
     "output_type": "stream",
     "text": [
      "Freut mich, Sie kennenzulernen.\n"
     ]
    }
   ],
   "source": [
    "import os\n",
    "import sys\n",
    "import urllib.request\n",
    "import json\n",
    "client_id = \"\"\n",
    "client_secret = \"\"\n",
    "gerText = urllib.parse.quote(\"반갑습니다\")\n",
    "data = \"source=ko&target=de&text=\" + gerText\n",
    "url = \"https://openapi.naver.com/v1/papago/n2mt\"\n",
    "request = urllib.request.Request(url)\n",
    "request.add_header(\"X-Naver-Client-Id\",client_id)\n",
    "request.add_header(\"X-Naver-Client-Secret\",client_secret)\n",
    "response = urllib.request.urlopen(request, data=data.encode(\"utf-8\"))\n",
    "rescode = response.getcode()\n",
    "if(rescode==200):\n",
    "    response_body = response.read()\n",
    "    response = response_body.decode('utf-8')\n",
    "    translated_text = json.loads(response)\n",
    "    print(translated_text[\"message\"][\"result\"][\"translatedText\"])\n",
    "else:\n",
    "    print(\"Error Code:\" + rescode)"
   ]
  },
  {
   "cell_type": "code",
   "execution_count": null,
   "metadata": {
    "colab": {
     "base_uri": "https://localhost:8080/"
    },
    "id": "3XJRFsXINJ4x",
    "outputId": "0b68852c-9ed0-408b-af07-d5cff7610f03"
   },
   "outputs": [
    {
     "name": "stdout",
     "output_type": "stream",
     "text": [
      "문장의 수: 2\n"
     ]
    },
    {
     "name": "stderr",
     "output_type": "stream",
     "text": [
      "[nltk_data] Downloading package punkt to /root/nltk_data...\n",
      "[nltk_data]   Package punkt is already up-to-date!\n"
     ]
    }
   ],
   "source": [
    "import nltk\n",
    "nltk.download('punkt')\n",
    "\n",
    "def count_sentences_nltk(text):\n",
    "    sentences = nltk.sent_tokenize(text)\n",
    "    return len(sentences)\n",
    "\n",
    "text = \"응. 아니야.\"\n",
    "sentence_count = count_sentences_nltk(text)\n",
    "print(\"문장의 수:\", sentence_count)"
   ]
  },
  {
   "cell_type": "markdown",
   "metadata": {},
   "source": [
    "# Text1"
   ]
  },
  {
   "cell_type": "code",
   "execution_count": null,
   "metadata": {
    "id": "3p4IVUFrM0uR"
   },
   "outputs": [],
   "source": [
    "f = open('채식주의자.txt')"
   ]
  },
  {
   "cell_type": "code",
   "execution_count": null,
   "metadata": {
    "colab": {
     "base_uri": "https://localhost:8080/",
     "height": 349
    },
    "id": "b3X151gWRYwz",
    "outputId": "8539f22a-99a3-44a2-9baf-d2ec1f69064f"
   },
   "outputs": [
    {
     "ename": "UnicodeDecodeError",
     "evalue": "'utf-8' codec can't decode byte 0xbd in position 2: invalid start byte",
     "output_type": "error",
     "traceback": [
      "\u001b[0;31m---------------------------------------------------------------------------\u001b[0m",
      "\u001b[0;31mUnicodeDecodeError\u001b[0m                        Traceback (most recent call last)",
      "\u001b[0;32m<ipython-input-23-fbe2567355c9>\u001b[0m in \u001b[0;36m<cell line: 4>\u001b[0;34m()\u001b[0m\n\u001b[1;32m      2\u001b[0m \u001b[0mf\u001b[0m \u001b[0;34m=\u001b[0m \u001b[0mopen\u001b[0m\u001b[0;34m(\u001b[0m\u001b[0;34m'채식주의자.txt'\u001b[0m\u001b[0;34m)\u001b[0m\u001b[0;34m\u001b[0m\u001b[0;34m\u001b[0m\u001b[0m\n\u001b[1;32m      3\u001b[0m \u001b[0mresultBuffer\u001b[0m \u001b[0;34m=\u001b[0m \u001b[0;34m[\u001b[0m\u001b[0;34m]\u001b[0m\u001b[0;34m\u001b[0m\u001b[0;34m\u001b[0m\u001b[0m\n\u001b[0;32m----> 4\u001b[0;31m \u001b[0mbuffer\u001b[0m \u001b[0;34m=\u001b[0m \u001b[0mf\u001b[0m\u001b[0;34m.\u001b[0m\u001b[0mreadlines\u001b[0m\u001b[0;34m(\u001b[0m\u001b[0;34m)\u001b[0m\u001b[0;34m\u001b[0m\u001b[0;34m\u001b[0m\u001b[0m\n\u001b[0m\u001b[1;32m      5\u001b[0m \u001b[0;32mfor\u001b[0m \u001b[0mline\u001b[0m \u001b[0;32min\u001b[0m \u001b[0mbuffer\u001b[0m\u001b[0;34m:\u001b[0m\u001b[0;34m\u001b[0m\u001b[0;34m\u001b[0m\u001b[0m\n\u001b[1;32m      6\u001b[0m   \u001b[0;32mif\u001b[0m \u001b[0mline\u001b[0m \u001b[0;34m==\u001b[0m\u001b[0;34m'\\n'\u001b[0m\u001b[0;34m:\u001b[0m\u001b[0;34m\u001b[0m\u001b[0;34m\u001b[0m\u001b[0m\n",
      "\u001b[0;32m/usr/lib/python3.10/codecs.py\u001b[0m in \u001b[0;36mdecode\u001b[0;34m(self, input, final)\u001b[0m\n\u001b[1;32m    320\u001b[0m         \u001b[0;31m# decode input (taking the buffer into account)\u001b[0m\u001b[0;34m\u001b[0m\u001b[0;34m\u001b[0m\u001b[0m\n\u001b[1;32m    321\u001b[0m         \u001b[0mdata\u001b[0m \u001b[0;34m=\u001b[0m \u001b[0mself\u001b[0m\u001b[0;34m.\u001b[0m\u001b[0mbuffer\u001b[0m \u001b[0;34m+\u001b[0m \u001b[0minput\u001b[0m\u001b[0;34m\u001b[0m\u001b[0;34m\u001b[0m\u001b[0m\n\u001b[0;32m--> 322\u001b[0;31m         \u001b[0;34m(\u001b[0m\u001b[0mresult\u001b[0m\u001b[0;34m,\u001b[0m \u001b[0mconsumed\u001b[0m\u001b[0;34m)\u001b[0m \u001b[0;34m=\u001b[0m \u001b[0mself\u001b[0m\u001b[0;34m.\u001b[0m\u001b[0m_buffer_decode\u001b[0m\u001b[0;34m(\u001b[0m\u001b[0mdata\u001b[0m\u001b[0;34m,\u001b[0m \u001b[0mself\u001b[0m\u001b[0;34m.\u001b[0m\u001b[0merrors\u001b[0m\u001b[0;34m,\u001b[0m \u001b[0mfinal\u001b[0m\u001b[0;34m)\u001b[0m\u001b[0;34m\u001b[0m\u001b[0;34m\u001b[0m\u001b[0m\n\u001b[0m\u001b[1;32m    323\u001b[0m         \u001b[0;31m# keep undecoded input until the next call\u001b[0m\u001b[0;34m\u001b[0m\u001b[0;34m\u001b[0m\u001b[0m\n\u001b[1;32m    324\u001b[0m         \u001b[0mself\u001b[0m\u001b[0;34m.\u001b[0m\u001b[0mbuffer\u001b[0m \u001b[0;34m=\u001b[0m \u001b[0mdata\u001b[0m\u001b[0;34m[\u001b[0m\u001b[0mconsumed\u001b[0m\u001b[0;34m:\u001b[0m\u001b[0;34m]\u001b[0m\u001b[0;34m\u001b[0m\u001b[0;34m\u001b[0m\u001b[0m\n",
      "\u001b[0;31mUnicodeDecodeError\u001b[0m: 'utf-8' codec can't decode byte 0xbd in position 2: invalid start byte"
     ]
    }
   ],
   "source": [
    "# def readText():\n",
    "f = open('채식주의자.txt')\n",
    "resultBuffer = []\n",
    "buffer = f.readlines()\n",
    "for line in buffer:\n",
    "  if line =='\\n':\n",
    "    continue\n",
    "  text = line.replace('\\n', '')\n",
    "  resultBuffer.append(text)\n",
    "\n",
    "print(\"read Text Len: \", len(resultBuffer))\n",
    "print(\"read Text: \", resultBuffer)"
   ]
  },
  {
   "cell_type": "markdown",
   "metadata": {
    "id": "J_HKQnwPU9f_"
   },
   "source": [
    "# encoding='cp949'"
   ]
  },
  {
   "cell_type": "code",
   "execution_count": null,
   "metadata": {
    "colab": {
     "base_uri": "https://localhost:8080/"
    },
    "id": "4sCKFPf6SUqH",
    "outputId": "11f9ccd5-becf-4feb-a8aa-b2ab7a671bcd"
   },
   "outputs": [],
   "source": [
    "# def readText():\n",
    "f = open('채식주의자.txt', encoding='cp949')\n",
    "resultBuffer = []\n",
    "buffer = f.readlines()\n",
    "for line in buffer:\n",
    "  if line =='\\n':\n",
    "    continue\n",
    "  text = line.replace('\\n', '')\n",
    "  resultBuffer.append(text)\n",
    "\n",
    "print(\"read Text Len: \", len(resultBuffer))\n",
    "print(\"read Text: \", resultBuffer)"
   ]
  },
  {
   "cell_type": "code",
   "execution_count": null,
   "metadata": {
    "colab": {
     "base_uri": "https://localhost:8080/",
     "height": 373
    },
    "id": "_fzjF9S4TAmV",
    "outputId": "367cdfac-838d-48b5-b377-c33756ab09d2"
   },
   "outputs": [
    {
     "ename": "TypeError",
     "evalue": "quote_from_bytes() expected bytes",
     "output_type": "error",
     "traceback": [
      "\u001b[0;31m---------------------------------------------------------------------------\u001b[0m",
      "\u001b[0;31mTypeError\u001b[0m                                 Traceback (most recent call last)",
      "\u001b[0;32m<ipython-input-25-d0c1621892ca>\u001b[0m in \u001b[0;36m<cell line: 7>\u001b[0;34m()\u001b[0m\n\u001b[1;32m      5\u001b[0m \u001b[0mclient_id\u001b[0m \u001b[0;34m=\u001b[0m \u001b[0;34m\"TMgez9IcVkShBR7gjlIl\"\u001b[0m\u001b[0;34m\u001b[0m\u001b[0;34m\u001b[0m\u001b[0m\n\u001b[1;32m      6\u001b[0m \u001b[0mclient_secret\u001b[0m \u001b[0;34m=\u001b[0m \u001b[0;34m\"OgiYuWQQHP\"\u001b[0m\u001b[0;34m\u001b[0m\u001b[0;34m\u001b[0m\u001b[0m\n\u001b[0;32m----> 7\u001b[0;31m \u001b[0mgerText\u001b[0m \u001b[0;34m=\u001b[0m \u001b[0murllib\u001b[0m\u001b[0;34m.\u001b[0m\u001b[0mparse\u001b[0m\u001b[0;34m.\u001b[0m\u001b[0mquote\u001b[0m\u001b[0;34m(\u001b[0m\u001b[0mresultBuffer\u001b[0m\u001b[0;34m)\u001b[0m\u001b[0;34m\u001b[0m\u001b[0;34m\u001b[0m\u001b[0m\n\u001b[0m\u001b[1;32m      8\u001b[0m \u001b[0mdata\u001b[0m \u001b[0;34m=\u001b[0m \u001b[0;34m\"source=ko&target=de&text=\"\u001b[0m \u001b[0;34m+\u001b[0m \u001b[0mgerText\u001b[0m\u001b[0;34m\u001b[0m\u001b[0;34m\u001b[0m\u001b[0m\n\u001b[1;32m      9\u001b[0m \u001b[0murl\u001b[0m \u001b[0;34m=\u001b[0m \u001b[0;34m\"https://openapi.naver.com/v1/papago/n2mt\"\u001b[0m\u001b[0;34m\u001b[0m\u001b[0;34m\u001b[0m\u001b[0m\n",
      "\u001b[0;32m/usr/lib/python3.10/urllib/parse.py\u001b[0m in \u001b[0;36mquote\u001b[0;34m(string, safe, encoding, errors)\u001b[0m\n\u001b[1;32m    879\u001b[0m         \u001b[0;32mif\u001b[0m \u001b[0merrors\u001b[0m \u001b[0;32mis\u001b[0m \u001b[0;32mnot\u001b[0m \u001b[0;32mNone\u001b[0m\u001b[0;34m:\u001b[0m\u001b[0;34m\u001b[0m\u001b[0;34m\u001b[0m\u001b[0m\n\u001b[1;32m    880\u001b[0m             \u001b[0;32mraise\u001b[0m \u001b[0mTypeError\u001b[0m\u001b[0;34m(\u001b[0m\u001b[0;34m\"quote() doesn't support 'errors' for bytes\"\u001b[0m\u001b[0;34m)\u001b[0m\u001b[0;34m\u001b[0m\u001b[0;34m\u001b[0m\u001b[0m\n\u001b[0;32m--> 881\u001b[0;31m     \u001b[0;32mreturn\u001b[0m \u001b[0mquote_from_bytes\u001b[0m\u001b[0;34m(\u001b[0m\u001b[0mstring\u001b[0m\u001b[0;34m,\u001b[0m \u001b[0msafe\u001b[0m\u001b[0;34m)\u001b[0m\u001b[0;34m\u001b[0m\u001b[0;34m\u001b[0m\u001b[0m\n\u001b[0m\u001b[1;32m    882\u001b[0m \u001b[0;34m\u001b[0m\u001b[0m\n\u001b[1;32m    883\u001b[0m \u001b[0;32mdef\u001b[0m \u001b[0mquote_plus\u001b[0m\u001b[0;34m(\u001b[0m\u001b[0mstring\u001b[0m\u001b[0;34m,\u001b[0m \u001b[0msafe\u001b[0m\u001b[0;34m=\u001b[0m\u001b[0;34m''\u001b[0m\u001b[0;34m,\u001b[0m \u001b[0mencoding\u001b[0m\u001b[0;34m=\u001b[0m\u001b[0;32mNone\u001b[0m\u001b[0;34m,\u001b[0m \u001b[0merrors\u001b[0m\u001b[0;34m=\u001b[0m\u001b[0;32mNone\u001b[0m\u001b[0;34m)\u001b[0m\u001b[0;34m:\u001b[0m\u001b[0;34m\u001b[0m\u001b[0;34m\u001b[0m\u001b[0m\n",
      "\u001b[0;32m/usr/lib/python3.10/urllib/parse.py\u001b[0m in \u001b[0;36mquote_from_bytes\u001b[0;34m(bs, safe)\u001b[0m\n\u001b[1;32m    904\u001b[0m     \"\"\"\n\u001b[1;32m    905\u001b[0m     \u001b[0;32mif\u001b[0m \u001b[0;32mnot\u001b[0m \u001b[0misinstance\u001b[0m\u001b[0;34m(\u001b[0m\u001b[0mbs\u001b[0m\u001b[0;34m,\u001b[0m \u001b[0;34m(\u001b[0m\u001b[0mbytes\u001b[0m\u001b[0;34m,\u001b[0m \u001b[0mbytearray\u001b[0m\u001b[0;34m)\u001b[0m\u001b[0;34m)\u001b[0m\u001b[0;34m:\u001b[0m\u001b[0;34m\u001b[0m\u001b[0;34m\u001b[0m\u001b[0m\n\u001b[0;32m--> 906\u001b[0;31m         \u001b[0;32mraise\u001b[0m \u001b[0mTypeError\u001b[0m\u001b[0;34m(\u001b[0m\u001b[0;34m\"quote_from_bytes() expected bytes\"\u001b[0m\u001b[0;34m)\u001b[0m\u001b[0;34m\u001b[0m\u001b[0;34m\u001b[0m\u001b[0m\n\u001b[0m\u001b[1;32m    907\u001b[0m     \u001b[0;32mif\u001b[0m \u001b[0;32mnot\u001b[0m \u001b[0mbs\u001b[0m\u001b[0;34m:\u001b[0m\u001b[0;34m\u001b[0m\u001b[0;34m\u001b[0m\u001b[0m\n\u001b[1;32m    908\u001b[0m         \u001b[0;32mreturn\u001b[0m \u001b[0;34m''\u001b[0m\u001b[0;34m\u001b[0m\u001b[0;34m\u001b[0m\u001b[0m\n",
      "\u001b[0;31mTypeError\u001b[0m: quote_from_bytes() expected bytes"
     ]
    }
   ],
   "source": [
    "import os\n",
    "import sys\n",
    "import urllib.request\n",
    "import json\n",
    "client_id = \"\"\n",
    "client_secret = \"\"\n",
    "gerText = urllib.parse.quote(resultBuffer)\n",
    "data = \"source=ko&target=de&text=\" + gerText\n",
    "url = \"https://openapi.naver.com/v1/papago/n2mt\"\n",
    "request = urllib.request.Request(url)\n",
    "request.add_header(\"X-Naver-Client-Id\",client_id)\n",
    "request.add_header(\"X-Naver-Client-Secret\",client_secret)\n",
    "response = urllib.request.urlopen(request, data=data.encode(\"utf-8\"))\n",
    "rescode = response.getcode()\n",
    "if(rescode==200):\n",
    "    response_body = response.read()\n",
    "    response = response_body.decode('utf-8')\n",
    "    translated_text = json.loads(response)\n",
    "    print(translated_text[\"message\"][\"result\"][\"translatedText\"])\n",
    "else:\n",
    "    print(\"Error Code:\" + rescode)"
   ]
  },
  {
   "cell_type": "markdown",
   "metadata": {
    "id": "ckTwNR6zVC8a"
   },
   "source": [
    "# listToString"
   ]
  },
  {
   "cell_type": "code",
   "execution_count": null,
   "metadata": {
    "colab": {
     "base_uri": "https://localhost:8080/"
    },
    "id": "PI-H6-LSTIZ4",
    "outputId": "783efd68-62dd-4866-c974-bf0a1744265f"
   },
   "outputs": [],
   "source": [
    "def listToString(str_list):\n",
    "    result = \"\"\n",
    "    for s in str_list:\n",
    "        result += s + \" \"\n",
    "    return result.strip()\n",
    "str_list = resultBuffer\n",
    "result = listToString(str_list)\n",
    "print(result)"
   ]
  },
  {
   "cell_type": "code",
   "execution_count": null,
   "metadata": {
    "id": "fdHqha8VUpEd"
   },
   "outputs": [],
   "source": [
    "korean_text = result"
   ]
  },
  {
   "cell_type": "code",
   "execution_count": null,
   "metadata": {
    "colab": {
     "base_uri": "https://localhost:8080/"
    },
    "id": "2XUYJFuZUH9P",
    "outputId": "95368234-9689-41e7-e5d2-efe820a9ca48"
   },
   "outputs": [],
   "source": [
    "import os\n",
    "import sys\n",
    "import urllib.request\n",
    "import json\n",
    "client_id = \"\"\n",
    "client_secret = \"\"\n",
    "gerText = urllib.parse.quote(korean_text)\n",
    "data = \"source=ko&target=de&text=\" + gerText\n",
    "url = \"https://openapi.naver.com/v1/papago/n2mt\"\n",
    "request = urllib.request.Request(url)\n",
    "request.add_header(\"X-Naver-Client-Id\",client_id)\n",
    "request.add_header(\"X-Naver-Client-Secret\",client_secret)\n",
    "response = urllib.request.urlopen(request, data=data.encode(\"utf-8\"))\n",
    "rescode = response.getcode()\n",
    "if(rescode==200):\n",
    "    response_body = response.read()\n",
    "    response = response_body.decode('utf-8')\n",
    "    translated_text = json.loads(response)\n",
    "    print(translated_text[\"message\"][\"result\"][\"translatedText\"])\n",
    "else:\n",
    "    print(\"Error Code:\" + rescode)"
   ]
  },
  {
   "cell_type": "code",
   "execution_count": null,
   "metadata": {
    "id": "kk5u5E4ZUMdL"
   },
   "outputs": [],
   "source": [
    "german_text = translated_text[\"message\"][\"result\"][\"translatedText\"]"
   ]
  },
  {
   "cell_type": "markdown",
   "metadata": {
    "id": "_i3bTmP5bA8m"
   },
   "source": [
    "# 문장 단위로 쪼개서 리스트"
   ]
  },
  {
   "cell_type": "code",
   "execution_count": null,
   "metadata": {
    "id": "M4RI8QoKWQvo"
   },
   "outputs": [],
   "source": [
    "import json\n",
    "import re\n",
    "\n",
    "def split_sentences(text):\n",
    "  # 대문자로 시작하고 마침표, 물음표, 느낌표로 끝나는 문장을 기준\n",
    "    sentences = re.split(r'(?<=[^A-Z].[.?])\\s+(?=[A-Z])', text)\n",
    "    return sentences\n",
    "\n",
    "# 문장 단위로 쪼개기\n",
    "sentences = split_sentences(german_text)\n",
    "\n",
    "# 결과 출력\n",
    "for sentence in sentences:\n",
    "    print(sentence)"
   ]
  },
  {
   "cell_type": "code",
   "execution_count": null,
   "metadata": {
    "colab": {
     "base_uri": "https://localhost:8080/"
    },
    "id": "vZXFEMAiUzo7",
    "outputId": "5539ff86-c944-40c8-8fd5-ca351cd6391d"
   },
   "outputs": [
    {
     "name": "stdout",
     "output_type": "stream",
     "text": [
      "Data has been saved to 채식주의자_1_toDeutch.txt\n"
     ]
    }
   ],
   "source": [
    "# Specify the file path where you want to save the JSON file\n",
    "file_path = \"채식주의자_1_toDeutch.txt\"\n",
    "\n",
    "# Open the file in write mode\n",
    "with open(file_path, \"w\") as json_file:\n",
    "    # Write the data to the file\n",
    "    json.dump(sentences, json_file)\n",
    "\n",
    "print(\"Data has been saved to\", file_path)"
   ]
  },
  {
   "cell_type": "code",
   "execution_count": null,
   "metadata": {
    "colab": {
     "base_uri": "https://localhost:8080/",
     "height": 166
    },
    "id": "HQfseWdiaEun",
    "outputId": "a6a52240-fa85-4702-93b6-300ef7edb860"
   },
   "outputs": [
    {
     "ename": "AttributeError",
     "evalue": "'list' object has no attribute 'items'",
     "output_type": "error",
     "traceback": [
      "\u001b[0;31m---------------------------------------------------------------------------\u001b[0m",
      "\u001b[0;31mAttributeError\u001b[0m                            Traceback (most recent call last)",
      "\u001b[0;32m<ipython-input-59-6eb1fee54689>\u001b[0m in \u001b[0;36m<cell line: 1>\u001b[0;34m()\u001b[0m\n\u001b[0;32m----> 1\u001b[0;31m \u001b[0;32mfor\u001b[0m \u001b[0mkey\u001b[0m\u001b[0;34m,\u001b[0m \u001b[0mvalue\u001b[0m \u001b[0;32min\u001b[0m \u001b[0msentences\u001b[0m\u001b[0;34m.\u001b[0m\u001b[0mitems\u001b[0m\u001b[0;34m(\u001b[0m\u001b[0;34m)\u001b[0m\u001b[0;34m:\u001b[0m\u001b[0;34m\u001b[0m\u001b[0;34m\u001b[0m\u001b[0m\n\u001b[0m\u001b[1;32m      2\u001b[0m     \u001b[0mprint\u001b[0m\u001b[0;34m(\u001b[0m\u001b[0mkey\u001b[0m\u001b[0;34m)\u001b[0m\u001b[0;34m\u001b[0m\u001b[0;34m\u001b[0m\u001b[0m\n",
      "\u001b[0;31mAttributeError\u001b[0m: 'list' object has no attribute 'items'"
     ]
    }
   ],
   "source": [
    "for key, value in sentences.items():\n",
    "    print(key)"
   ]
  },
  {
   "cell_type": "code",
   "execution_count": null,
   "metadata": {
    "id": "K8YZJMrFaK94"
   },
   "outputs": [],
   "source": [
    "# list를 str으로 변환할거임"
   ]
  },
  {
   "cell_type": "code",
   "execution_count": null,
   "metadata": {
    "colab": {
     "base_uri": "https://localhost:8080/"
    },
    "id": "Qj5z47XwaQ_M",
    "outputId": "9810cba8-01be-4493-de66-86f5d8a29b53"
   },
   "outputs": [
    {
     "data": {
      "text/plain": [
       "78"
      ]
     },
     "execution_count": 62,
     "metadata": {},
     "output_type": "execute_result"
    }
   ],
   "source": [
    "len(sentences)"
   ]
  },
  {
   "cell_type": "code",
   "execution_count": null,
   "metadata": {
    "id": "roBit6EVaW09"
   },
   "outputs": [],
   "source": [
    "def listToString(str_list):\n",
    "  return '\\n'.join(str_list)\n",
    "str_list = sentences\n",
    "result = listToString(str_list)\n",
    "print(result)"
   ]
  },
  {
   "cell_type": "code",
   "execution_count": null,
   "metadata": {
    "id": "0xdpv_MzX0uk"
   },
   "outputs": [],
   "source": [
    "with open('채식주의자_1_toDeutch.txt', 'w', encoding='utf-8') as file:\n",
    "    file.write(result)"
   ]
  },
  {
   "cell_type": "code",
   "execution_count": null,
   "metadata": {
    "id": "9vaI0TgsbL7K"
   },
   "outputs": [],
   "source": [
    "import re\n",
    "\n",
    "# 텍스트 파일 읽기\n",
    "with open('채식주의자.txt', 'r', encoding='cp949') as file:\n",
    "    text = file.read()\n",
    "\n",
    "# 문장별로 분리하여 리스트에 저장\n",
    "# ., !, ?, ..., …과 그 뒤에 나오는 공백을 기준으로 문장을 분리\n",
    "sentences = re.split(r'(?<=[.!?…])\\s+', text)\n",
    "\n",
    "# 개행 문자로 구분하여 출력\n",
    "result = '\\n'.join(sentences)\n",
    "print(result)"
   ]
  },
  {
   "cell_type": "code",
   "execution_count": null,
   "metadata": {
    "colab": {
     "base_uri": "https://localhost:8080/",
     "height": 166
    },
    "id": "wRw6A4_HcGyR",
    "outputId": "55bec49f-1175-4068-8878-9522f201dc0b"
   },
   "outputs": [
    {
     "ename": "FileNotFoundError",
     "evalue": "[Errno 2] No such file or directory: 'C:/Users/황의지/Desktop/2024-w/인공지능인문학 학부연구생/채식주의자_1.txt'",
     "output_type": "error",
     "traceback": [
      "\u001b[0;31m---------------------------------------------------------------------------\u001b[0m",
      "\u001b[0;31mFileNotFoundError\u001b[0m                         Traceback (most recent call last)",
      "\u001b[0;32m<ipython-input-71-ba4a23037203>\u001b[0m in \u001b[0;36m<cell line: 1>\u001b[0;34m()\u001b[0m\n\u001b[0;32m----> 1\u001b[0;31m \u001b[0;32mwith\u001b[0m \u001b[0mopen\u001b[0m\u001b[0;34m(\u001b[0m\u001b[0;34m'C:/Users/황의지/Desktop/2024-w/인공지능인문학 학부연구생/채식주의자_1.txt'\u001b[0m\u001b[0;34m,\u001b[0m \u001b[0;34m'w'\u001b[0m\u001b[0;34m,\u001b[0m \u001b[0mencoding\u001b[0m\u001b[0;34m=\u001b[0m\u001b[0;34m'utf-8'\u001b[0m\u001b[0;34m)\u001b[0m \u001b[0;32mas\u001b[0m \u001b[0mfile\u001b[0m\u001b[0;34m:\u001b[0m\u001b[0;34m\u001b[0m\u001b[0;34m\u001b[0m\u001b[0m\n\u001b[0m\u001b[1;32m      2\u001b[0m     \u001b[0mfile\u001b[0m\u001b[0;34m.\u001b[0m\u001b[0mwrite\u001b[0m\u001b[0;34m(\u001b[0m\u001b[0mresult\u001b[0m\u001b[0;34m)\u001b[0m\u001b[0;34m\u001b[0m\u001b[0;34m\u001b[0m\u001b[0m\n",
      "\u001b[0;31mFileNotFoundError\u001b[0m: [Errno 2] No such file or directory: 'C:/Users/황의지/Desktop/2024-w/인공지능인문학 학부연구생/채식주의자_1.txt'"
     ]
    }
   ],
   "source": [
    "with open('C:/Users/Desktop/2024-w/인공지능인문학 학부연구생/채식주의자_1.txt', 'w', encoding='utf-8') as file:\n",
    "    file.write(result)"
   ]
  },
  {
   "cell_type": "markdown",
   "metadata": {
    "id": "SDhrYiv8CklO"
   },
   "source": [
    "## 구글드라이브랑 연동만 가능"
   ]
  },
  {
   "cell_type": "markdown",
   "metadata": {
    "id": "Qx4hIJPqCkf-"
   },
   "source": [
    "# Text2"
   ]
  },
  {
   "cell_type": "markdown",
   "metadata": {
    "id": "MKBDIFg7CusH"
   },
   "source": [
    "1. txt 파일 읽고,\n",
    "2. list -> string 모두 한 문장?으로\n",
    "3. 번역 돌리기\n",
    "\n",
    "**근데 문단으로 돌릴 때랑 그냥 다 한번에 넣는거랑 다를라나?**\n"
   ]
  },
  {
   "cell_type": "code",
   "execution_count": null,
   "metadata": {
    "colab": {
     "base_uri": "https://localhost:8080/"
    },
    "id": "p9Py0zWYCo5Y",
    "outputId": "ac5c1e9b-cc0a-48e7-f982-777177852ada"
   },
   "outputs": [],
   "source": [
    "# def readText():\n",
    "f = open('채식주의자2(원본).txt', encoding='utf-8')\n",
    "resultBuffer = []\n",
    "buffer = f.readlines()\n",
    "for line in buffer:\n",
    "  if line =='\\n':\n",
    "    continue\n",
    "  text = line.replace('\\n', '')\n",
    "  resultBuffer.append(text)\n",
    "\n",
    "print(\"read Text Len: \", len(resultBuffer))\n",
    "print(\"read Text: \", resultBuffer)"
   ]
  },
  {
   "cell_type": "code",
   "execution_count": 6,
   "metadata": {},
   "outputs": [],
   "source": [
    "# 너무 길어서 에러남 400\n",
    "resultBuffer = resultBuffer[:20]"
   ]
  },
  {
   "cell_type": "code",
   "execution_count": null,
   "metadata": {
    "colab": {
     "base_uri": "https://localhost:8080/"
    },
    "id": "55y2J3w5DjHP",
    "outputId": "0931fae5-bbd5-4f38-b0c1-8661f137140b",
    "scrolled": true
   },
   "outputs": [],
   "source": [
    "def listToString(str_list):\n",
    "    result = \"\"\n",
    "    for s in str_list:\n",
    "        result += s + \" \"\n",
    "    return result.strip()\n",
    "str_list = resultBuffer\n",
    "result = listToString(str_list)\n",
    "print(result)\n",
    "korean_text = result"
   ]
  },
  {
   "cell_type": "code",
   "execution_count": null,
   "metadata": {
    "colab": {
     "base_uri": "https://localhost:8080/",
     "height": 379
    },
    "id": "1vaiRE6XEDgd",
    "outputId": "10824fd1-6c11-48e4-d4ab-12d910f2b703"
   },
   "outputs": [],
   "source": [
    "import os\n",
    "import sys\n",
    "import urllib.request\n",
    "import json\n",
    "client_id = \"\"\n",
    "client_secret = \"\"\n",
    "gerText = urllib.parse.quote(korean_text)\n",
    "data = \"source=ko&target=de&text=\" + gerText\n",
    "url = \"https://openapi.naver.com/v1/papago/n2mt\"\n",
    "request = urllib.request.Request(url)\n",
    "request.add_header(\"X-Naver-Client-Id\",client_id)\n",
    "request.add_header(\"X-Naver-Client-Secret\",client_secret)\n",
    "response = urllib.request.urlopen(request, data=data.encode(\"utf-8\"))\n",
    "rescode = response.getcode()\n",
    "if(rescode==200):\n",
    "    response_body = response.read()\n",
    "    response = response_body.decode('utf-8')\n",
    "    translated_text = json.loads(response)\n",
    "    print(translated_text[\"message\"][\"result\"][\"translatedText\"])\n",
    "else:\n",
    "    print(\"Error Code:\" + rescode)"
   ]
  },
  {
   "cell_type": "code",
   "execution_count": 9,
   "metadata": {},
   "outputs": [],
   "source": [
    "german_text = translated_text[\"message\"][\"result\"][\"translatedText\"]"
   ]
  },
  {
   "cell_type": "code",
   "execution_count": null,
   "metadata": {},
   "outputs": [],
   "source": [
    "german_text"
   ]
  },
  {
   "cell_type": "code",
   "execution_count": null,
   "metadata": {
    "id": "SrVXhaDCEF5v"
   },
   "outputs": [],
   "source": [
    "import json\n",
    "import re\n",
    "\n",
    "def split_sentences(text):\n",
    "  # 대문자로 시작하고 마침표, 물음표, 느낌표로 끝나는 문장을 기준\n",
    "    sentences = re.split(r'(?<=[^A-Z].[.?])\\s+(?=[A-Z])', text)\n",
    "    return sentences\n",
    "\n",
    "# 문장 단위로 쪼개기\n",
    "sentences = split_sentences(german_text)\n",
    "\n",
    "# 결과 출력\n",
    "for sentence in sentences:\n",
    "    print(sentence)"
   ]
  },
  {
   "cell_type": "code",
   "execution_count": 38,
   "metadata": {},
   "outputs": [
    {
     "data": {
      "text/plain": [
       "40"
      ]
     },
     "execution_count": 38,
     "metadata": {},
     "output_type": "execute_result"
    }
   ],
   "source": [
    "len(sentences) # list"
   ]
  },
  {
   "cell_type": "code",
   "execution_count": null,
   "metadata": {},
   "outputs": [],
   "source": [
    "def listToString(str_list): # list to string\n",
    "  return '\\n'.join(str_list)\n",
    "str_list = sentences\n",
    "result = listToString(str_list)\n",
    "print(result)"
   ]
  },
  {
   "cell_type": "code",
   "execution_count": 21,
   "metadata": {},
   "outputs": [
    {
     "name": "stdout",
     "output_type": "stream",
     "text": [
      "Data has been saved to data/채식주의자_2_toDeutch.txt\n"
     ]
    }
   ],
   "source": [
    "# Specify the file path where you want to save the JSON file\n",
    "file_path = \"data/채식주의자_2_toDeutch.txt\"\n",
    "\n",
    "# Open the file in write mode\n",
    "with open(file_path, \"w\") as json_file:\n",
    "    # Write the data to the file\n",
    "    json.dump(result, json_file)\n",
    "\n",
    "print(\"Data has been saved to\", file_path)"
   ]
  },
  {
   "cell_type": "code",
   "execution_count": 22,
   "metadata": {},
   "outputs": [],
   "source": [
    "# 위에 이상하게 됨 json아니라 그런가?\n",
    "with open('data/채식주의자_2_toDeutch.txt', 'w', encoding='utf-8') as file:\n",
    "    file.write(result)"
   ]
  },
  {
   "cell_type": "markdown",
   "metadata": {},
   "source": [
    "# Text3"
   ]
  },
  {
   "cell_type": "code",
   "execution_count": null,
   "metadata": {},
   "outputs": [],
   "source": [
    "# def readText():\n",
    "f = open('채식주의자2(원본).txt', encoding='utf-8')\n",
    "resultBuffer = []\n",
    "buffer = f.readlines()\n",
    "for line in buffer:\n",
    "  if line =='\\n':\n",
    "    continue\n",
    "  text = line.replace('\\n', '')\n",
    "  resultBuffer.append(text)\n",
    "\n",
    "print(\"read Text Len: \", len(resultBuffer[20:]))\n",
    "print(\"read Text: \", resultBuffer[20:])"
   ]
  },
  {
   "cell_type": "code",
   "execution_count": null,
   "metadata": {},
   "outputs": [],
   "source": [
    "def listToString(str_list):\n",
    "    result = \"\"\n",
    "    for s in str_list:\n",
    "        result += s + \" \"\n",
    "    return result.strip()\n",
    "str_list = resultBuffer[20:]\n",
    "result = listToString(str_list)\n",
    "print(result)\n",
    "korean_text = result"
   ]
  },
  {
   "cell_type": "code",
   "execution_count": null,
   "metadata": {},
   "outputs": [],
   "source": [
    "import os\n",
    "import sys\n",
    "import urllib.request\n",
    "import json\n",
    "client_id = \"\"\n",
    "client_secret = \"\"\n",
    "gerText = urllib.parse.quote(korean_text)\n",
    "data = \"source=ko&target=de&text=\" + gerText\n",
    "url = \"https://openapi.naver.com/v1/papago/n2mt\"\n",
    "request = urllib.request.Request(url)\n",
    "request.add_header(\"X-Naver-Client-Id\",client_id)\n",
    "request.add_header(\"X-Naver-Client-Secret\",client_secret)\n",
    "response = urllib.request.urlopen(request, data=data.encode(\"utf-8\"))\n",
    "rescode = response.getcode()\n",
    "if(rescode==200):\n",
    "    response_body = response.read()\n",
    "    response = response_body.decode('utf-8')\n",
    "    translated_text = json.loads(response)\n",
    "    print(translated_text[\"message\"][\"result\"][\"translatedText\"])\n",
    "else:\n",
    "    print(\"Error Code:\" + rescode)\n",
    "\n",
    "german_text = translated_text[\"message\"][\"result\"][\"translatedText\"]"
   ]
  },
  {
   "cell_type": "code",
   "execution_count": null,
   "metadata": {},
   "outputs": [],
   "source": [
    "import json\n",
    "import re\n",
    "\n",
    "def split_sentences(text):\n",
    "  # 대문자로 시작하고 마침표, 물음표, 느낌표로 끝나는 문장을 기준\n",
    "    sentences = re.split(r'(?<=[^A-Z].[.?])\\s+(?=[A-Z])', text)\n",
    "    return sentences\n",
    "\n",
    "# 문장 단위로 쪼개기\n",
    "sentences = split_sentences(german_text)\n",
    "\n",
    "# 결과 출력\n",
    "for sentence in sentences:\n",
    "    print(sentence)"
   ]
  },
  {
   "cell_type": "code",
   "execution_count": null,
   "metadata": {},
   "outputs": [],
   "source": [
    "len(sentence)"
   ]
  },
  {
   "cell_type": "code",
   "execution_count": null,
   "metadata": {},
   "outputs": [],
   "source": [
    "def listToString(str_list): # list to string\n",
    "  return '\\n'.join(str_list)\n",
    "str_list = sentences\n",
    "result = listToString(str_list)\n",
    "print(result)"
   ]
  },
  {
   "cell_type": "code",
   "execution_count": 61,
   "metadata": {},
   "outputs": [],
   "source": [
    "# 위에 이상하게 됨 json아니라 그런가?\n",
    "with open('dataset/채식주의자_3_toDeutch.txt', 'w', encoding='utf-8') as file:\n",
    "    file.write(result)"
   ]
  },
  {
   "cell_type": "markdown",
   "metadata": {},
   "source": [
    "# 함수로 묶어서 for문 가능!"
   ]
  },
  {
   "cell_type": "markdown",
   "metadata": {},
   "source": [
    "# Text4"
   ]
  },
  {
   "cell_type": "code",
   "execution_count": 98,
   "metadata": {},
   "outputs": [],
   "source": [
    "import os\n",
    "import sys\n",
    "import urllib.request\n",
    "import json\n",
    "import re\n",
    "\n",
    "class PapagoKtoG:\n",
    "\n",
    "    def __init__(self, fromPath, toPath):\n",
    "        self.fromPath = fromPath\n",
    "        self.toPath = toPath\n",
    "        self.resultBuffer = None\n",
    "        self.result = None\n",
    "        self.translated = None\n",
    "        self.split_translated = None\n",
    "        self.resultBuffer = None\n",
    "        #print(\"init!\")\n",
    "        \n",
    "    def readTxtFile(self):\n",
    "        f = open(self.fromPath, encoding='utf-8')\n",
    "        resultBuffer = []\n",
    "        buffer = f.readlines()\n",
    "        for line in buffer:\n",
    "            if line =='\\n':\n",
    "                continue\n",
    "            text = line.replace('\\n', '')\n",
    "            resultBuffer.append(text)\n",
    "        f.close()\n",
    "        return resultBuffer\n",
    "\n",
    "    def listToString(self, list):\n",
    "        result = \"\"\n",
    "        for s in list:\n",
    "            result += s + \" \"\n",
    "        string = result.strip()\n",
    "        return string\n",
    "\n",
    "    def API(self, string):    \n",
    "        client_id = \"\"\n",
    "        client_secret = \"\"\n",
    "        gerText = urllib.parse.quote(string)\n",
    "        data = \"source=ko&target=de&text=\" + gerText\n",
    "        url = \"https://openapi.naver.com/v1/papago/n2mt\"\n",
    "        request = urllib.request.Request(url)\n",
    "        request.add_header(\"X-Naver-Client-Id\",client_id)\n",
    "        request.add_header(\"X-Naver-Client-Secret\",client_secret)\n",
    "        response = urllib.request.urlopen(request, data=data.encode(\"utf-8\"))\n",
    "        rescode = response.getcode()\n",
    "        if(rescode==200):\n",
    "            response_body = response.read()\n",
    "            response = response_body.decode('utf-8')\n",
    "            translated_text = json.loads(response)\n",
    "            self.translated = translated_text[\"message\"][\"result\"][\"translatedText\"]\n",
    "            return self.translated\n",
    "        else:\n",
    "            print(\"Error Code:\" + rescode)\n",
    "            return None\n",
    "\n",
    "    def split_sentences(self):\n",
    "        # 대문자로 시작하고 마침표, 물음표, 느낌표로 끝나는 문장을 기준\n",
    "        self.split_translated = re.split(r'(?<=[^A-Z].[.?])\\s+(?=[A-Z])', test)\n",
    "        return self.split_translated\n",
    "\n",
    "    def save(self):\n",
    "        # 문장 단위로 쪼개기\n",
    "        final = self.split_sentences()\n",
    "        fianlText = self.listToString(final)\n",
    "        # 결과 출력\n",
    "        # for sentence in sentences:\n",
    "        #     print(sentence)\n",
    "    \n",
    "        with open(self.toPath, 'w', encoding='utf-8') as file:\n",
    "            file.write(fianlText)\n",
    "\n",
    "    def execute(self):\n",
    "        # 텍스트 파일 읽기\n",
    "        texts = self.readTxtFile()\n",
    "\n",
    "        # 텍스트를 문자열로 변환\n",
    "        korean_text = self.listToString(texts)\n",
    "\n",
    "        # 번역 API 호출\n",
    "        translated_text = self.API(korean_text)\n",
    "\n",
    "        if translated_text is not None:\n",
    "            # 번역된 텍스트 저장\n",
    "            self.save()\n",
    "            print(\"all finished!\")\n",
    "        else:\n",
    "            print(\"failed to translate\")"
   ]
  },
  {
   "cell_type": "code",
   "execution_count": null,
   "metadata": {},
   "outputs": [],
   "source": [
    "translator = PapagoKtoG('채식주의자4(원본).txt', 'dataset/채식주의자_4_toDeutch.txt')\n",
    "translator.execute() # 띄어쓰기 적용안된채로 저장됐음"
   ]
  }
 ],
 "metadata": {
  "accelerator": "GPU",
  "colab": {
   "gpuType": "T4",
   "provenance": []
  },
  "kernelspec": {
   "display_name": "Python 3 (ipykernel)",
   "language": "python",
   "name": "python3"
  },
  "language_info": {
   "codemirror_mode": {
    "name": "ipython",
    "version": 3
   },
   "file_extension": ".py",
   "mimetype": "text/x-python",
   "name": "python",
   "nbconvert_exporter": "python",
   "pygments_lexer": "ipython3",
   "version": "3.9.13"
  }
 },
 "nbformat": 4,
 "nbformat_minor": 4
}
