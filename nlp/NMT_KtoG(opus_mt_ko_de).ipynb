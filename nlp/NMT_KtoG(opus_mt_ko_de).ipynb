{
  "nbformat": 4,
  "nbformat_minor": 0,
  "metadata": {
    "colab": {
      "provenance": [],
      "gpuType": "T4"
    },
    "kernelspec": {
      "name": "python3",
      "display_name": "Python 3"
    },
    "language_info": {
      "name": "python"
    },
    "accelerator": "GPU",
    "widgets": {
      "application/vnd.jupyter.widget-state+json": {
        "1a111f9b744940df80f47577ab7266e0": {
          "model_module": "@jupyter-widgets/controls",
          "model_name": "HBoxModel",
          "model_module_version": "1.5.0",
          "state": {
            "_dom_classes": [],
            "_model_module": "@jupyter-widgets/controls",
            "_model_module_version": "1.5.0",
            "_model_name": "HBoxModel",
            "_view_count": null,
            "_view_module": "@jupyter-widgets/controls",
            "_view_module_version": "1.5.0",
            "_view_name": "HBoxView",
            "box_style": "",
            "children": [
              "IPY_MODEL_ffce8116f67e42d0b5e48c051e57d951",
              "IPY_MODEL_407c3abaeab643a683508e787c28b7e3",
              "IPY_MODEL_edbcd75d429447f9b6ab205223550a19"
            ],
            "layout": "IPY_MODEL_64ab111039a64f11ab27d2671de9a063"
          }
        },
        "ffce8116f67e42d0b5e48c051e57d951": {
          "model_module": "@jupyter-widgets/controls",
          "model_name": "HTMLModel",
          "model_module_version": "1.5.0",
          "state": {
            "_dom_classes": [],
            "_model_module": "@jupyter-widgets/controls",
            "_model_module_version": "1.5.0",
            "_model_name": "HTMLModel",
            "_view_count": null,
            "_view_module": "@jupyter-widgets/controls",
            "_view_module_version": "1.5.0",
            "_view_name": "HTMLView",
            "description": "",
            "description_tooltip": null,
            "layout": "IPY_MODEL_2e5d89de744b4e70b0b263949beb7b92",
            "placeholder": "​",
            "style": "IPY_MODEL_d22b4cf848884313a13dffa19b9e639a",
            "value": "Map: 100%"
          }
        },
        "407c3abaeab643a683508e787c28b7e3": {
          "model_module": "@jupyter-widgets/controls",
          "model_name": "FloatProgressModel",
          "model_module_version": "1.5.0",
          "state": {
            "_dom_classes": [],
            "_model_module": "@jupyter-widgets/controls",
            "_model_module_version": "1.5.0",
            "_model_name": "FloatProgressModel",
            "_view_count": null,
            "_view_module": "@jupyter-widgets/controls",
            "_view_module_version": "1.5.0",
            "_view_name": "ProgressView",
            "bar_style": "success",
            "description": "",
            "description_tooltip": null,
            "layout": "IPY_MODEL_b26af92e53844a2095452fcae9a6966f",
            "max": 8661,
            "min": 0,
            "orientation": "horizontal",
            "style": "IPY_MODEL_aae24f56ca56406f9512a67b894f2e6a",
            "value": 8661
          }
        },
        "edbcd75d429447f9b6ab205223550a19": {
          "model_module": "@jupyter-widgets/controls",
          "model_name": "HTMLModel",
          "model_module_version": "1.5.0",
          "state": {
            "_dom_classes": [],
            "_model_module": "@jupyter-widgets/controls",
            "_model_module_version": "1.5.0",
            "_model_name": "HTMLModel",
            "_view_count": null,
            "_view_module": "@jupyter-widgets/controls",
            "_view_module_version": "1.5.0",
            "_view_name": "HTMLView",
            "description": "",
            "description_tooltip": null,
            "layout": "IPY_MODEL_72f0ba84dce3402a8dac9bef21eaa94b",
            "placeholder": "​",
            "style": "IPY_MODEL_8d548ca42b7e4c088b9ae2f2d138cabe",
            "value": " 8661/8661 [00:02&lt;00:00, 3915.09 examples/s]"
          }
        },
        "64ab111039a64f11ab27d2671de9a063": {
          "model_module": "@jupyter-widgets/base",
          "model_name": "LayoutModel",
          "model_module_version": "1.2.0",
          "state": {
            "_model_module": "@jupyter-widgets/base",
            "_model_module_version": "1.2.0",
            "_model_name": "LayoutModel",
            "_view_count": null,
            "_view_module": "@jupyter-widgets/base",
            "_view_module_version": "1.2.0",
            "_view_name": "LayoutView",
            "align_content": null,
            "align_items": null,
            "align_self": null,
            "border": null,
            "bottom": null,
            "display": null,
            "flex": null,
            "flex_flow": null,
            "grid_area": null,
            "grid_auto_columns": null,
            "grid_auto_flow": null,
            "grid_auto_rows": null,
            "grid_column": null,
            "grid_gap": null,
            "grid_row": null,
            "grid_template_areas": null,
            "grid_template_columns": null,
            "grid_template_rows": null,
            "height": null,
            "justify_content": null,
            "justify_items": null,
            "left": null,
            "margin": null,
            "max_height": null,
            "max_width": null,
            "min_height": null,
            "min_width": null,
            "object_fit": null,
            "object_position": null,
            "order": null,
            "overflow": null,
            "overflow_x": null,
            "overflow_y": null,
            "padding": null,
            "right": null,
            "top": null,
            "visibility": null,
            "width": null
          }
        },
        "2e5d89de744b4e70b0b263949beb7b92": {
          "model_module": "@jupyter-widgets/base",
          "model_name": "LayoutModel",
          "model_module_version": "1.2.0",
          "state": {
            "_model_module": "@jupyter-widgets/base",
            "_model_module_version": "1.2.0",
            "_model_name": "LayoutModel",
            "_view_count": null,
            "_view_module": "@jupyter-widgets/base",
            "_view_module_version": "1.2.0",
            "_view_name": "LayoutView",
            "align_content": null,
            "align_items": null,
            "align_self": null,
            "border": null,
            "bottom": null,
            "display": null,
            "flex": null,
            "flex_flow": null,
            "grid_area": null,
            "grid_auto_columns": null,
            "grid_auto_flow": null,
            "grid_auto_rows": null,
            "grid_column": null,
            "grid_gap": null,
            "grid_row": null,
            "grid_template_areas": null,
            "grid_template_columns": null,
            "grid_template_rows": null,
            "height": null,
            "justify_content": null,
            "justify_items": null,
            "left": null,
            "margin": null,
            "max_height": null,
            "max_width": null,
            "min_height": null,
            "min_width": null,
            "object_fit": null,
            "object_position": null,
            "order": null,
            "overflow": null,
            "overflow_x": null,
            "overflow_y": null,
            "padding": null,
            "right": null,
            "top": null,
            "visibility": null,
            "width": null
          }
        },
        "d22b4cf848884313a13dffa19b9e639a": {
          "model_module": "@jupyter-widgets/controls",
          "model_name": "DescriptionStyleModel",
          "model_module_version": "1.5.0",
          "state": {
            "_model_module": "@jupyter-widgets/controls",
            "_model_module_version": "1.5.0",
            "_model_name": "DescriptionStyleModel",
            "_view_count": null,
            "_view_module": "@jupyter-widgets/base",
            "_view_module_version": "1.2.0",
            "_view_name": "StyleView",
            "description_width": ""
          }
        },
        "b26af92e53844a2095452fcae9a6966f": {
          "model_module": "@jupyter-widgets/base",
          "model_name": "LayoutModel",
          "model_module_version": "1.2.0",
          "state": {
            "_model_module": "@jupyter-widgets/base",
            "_model_module_version": "1.2.0",
            "_model_name": "LayoutModel",
            "_view_count": null,
            "_view_module": "@jupyter-widgets/base",
            "_view_module_version": "1.2.0",
            "_view_name": "LayoutView",
            "align_content": null,
            "align_items": null,
            "align_self": null,
            "border": null,
            "bottom": null,
            "display": null,
            "flex": null,
            "flex_flow": null,
            "grid_area": null,
            "grid_auto_columns": null,
            "grid_auto_flow": null,
            "grid_auto_rows": null,
            "grid_column": null,
            "grid_gap": null,
            "grid_row": null,
            "grid_template_areas": null,
            "grid_template_columns": null,
            "grid_template_rows": null,
            "height": null,
            "justify_content": null,
            "justify_items": null,
            "left": null,
            "margin": null,
            "max_height": null,
            "max_width": null,
            "min_height": null,
            "min_width": null,
            "object_fit": null,
            "object_position": null,
            "order": null,
            "overflow": null,
            "overflow_x": null,
            "overflow_y": null,
            "padding": null,
            "right": null,
            "top": null,
            "visibility": null,
            "width": null
          }
        },
        "aae24f56ca56406f9512a67b894f2e6a": {
          "model_module": "@jupyter-widgets/controls",
          "model_name": "ProgressStyleModel",
          "model_module_version": "1.5.0",
          "state": {
            "_model_module": "@jupyter-widgets/controls",
            "_model_module_version": "1.5.0",
            "_model_name": "ProgressStyleModel",
            "_view_count": null,
            "_view_module": "@jupyter-widgets/base",
            "_view_module_version": "1.2.0",
            "_view_name": "StyleView",
            "bar_color": null,
            "description_width": ""
          }
        },
        "72f0ba84dce3402a8dac9bef21eaa94b": {
          "model_module": "@jupyter-widgets/base",
          "model_name": "LayoutModel",
          "model_module_version": "1.2.0",
          "state": {
            "_model_module": "@jupyter-widgets/base",
            "_model_module_version": "1.2.0",
            "_model_name": "LayoutModel",
            "_view_count": null,
            "_view_module": "@jupyter-widgets/base",
            "_view_module_version": "1.2.0",
            "_view_name": "LayoutView",
            "align_content": null,
            "align_items": null,
            "align_self": null,
            "border": null,
            "bottom": null,
            "display": null,
            "flex": null,
            "flex_flow": null,
            "grid_area": null,
            "grid_auto_columns": null,
            "grid_auto_flow": null,
            "grid_auto_rows": null,
            "grid_column": null,
            "grid_gap": null,
            "grid_row": null,
            "grid_template_areas": null,
            "grid_template_columns": null,
            "grid_template_rows": null,
            "height": null,
            "justify_content": null,
            "justify_items": null,
            "left": null,
            "margin": null,
            "max_height": null,
            "max_width": null,
            "min_height": null,
            "min_width": null,
            "object_fit": null,
            "object_position": null,
            "order": null,
            "overflow": null,
            "overflow_x": null,
            "overflow_y": null,
            "padding": null,
            "right": null,
            "top": null,
            "visibility": null,
            "width": null
          }
        },
        "8d548ca42b7e4c088b9ae2f2d138cabe": {
          "model_module": "@jupyter-widgets/controls",
          "model_name": "DescriptionStyleModel",
          "model_module_version": "1.5.0",
          "state": {
            "_model_module": "@jupyter-widgets/controls",
            "_model_module_version": "1.5.0",
            "_model_name": "DescriptionStyleModel",
            "_view_count": null,
            "_view_module": "@jupyter-widgets/base",
            "_view_module_version": "1.2.0",
            "_view_name": "StyleView",
            "description_width": ""
          }
        },
        "1e416f2b3d7b45cca2e007bb8b0ae5b9": {
          "model_module": "@jupyter-widgets/controls",
          "model_name": "HBoxModel",
          "model_module_version": "1.5.0",
          "state": {
            "_dom_classes": [],
            "_model_module": "@jupyter-widgets/controls",
            "_model_module_version": "1.5.0",
            "_model_name": "HBoxModel",
            "_view_count": null,
            "_view_module": "@jupyter-widgets/controls",
            "_view_module_version": "1.5.0",
            "_view_name": "HBoxView",
            "box_style": "",
            "children": [
              "IPY_MODEL_aef5f4c5b7de4b14921e3ca46508aa84",
              "IPY_MODEL_bb765d75694946d69d83186c067f75e2",
              "IPY_MODEL_6c2d0e5ffb0f43ada86913483bd944b0"
            ],
            "layout": "IPY_MODEL_68977d69df8048999062a4fa911ddc53"
          }
        },
        "aef5f4c5b7de4b14921e3ca46508aa84": {
          "model_module": "@jupyter-widgets/controls",
          "model_name": "HTMLModel",
          "model_module_version": "1.5.0",
          "state": {
            "_dom_classes": [],
            "_model_module": "@jupyter-widgets/controls",
            "_model_module_version": "1.5.0",
            "_model_name": "HTMLModel",
            "_view_count": null,
            "_view_module": "@jupyter-widgets/controls",
            "_view_module_version": "1.5.0",
            "_view_name": "HTMLView",
            "description": "",
            "description_tooltip": null,
            "layout": "IPY_MODEL_b62f8744062b46828a0609c10012091f",
            "placeholder": "​",
            "style": "IPY_MODEL_c5483469b31c4b9b88a6129977bd9251",
            "value": "Map: 100%"
          }
        },
        "bb765d75694946d69d83186c067f75e2": {
          "model_module": "@jupyter-widgets/controls",
          "model_name": "FloatProgressModel",
          "model_module_version": "1.5.0",
          "state": {
            "_dom_classes": [],
            "_model_module": "@jupyter-widgets/controls",
            "_model_module_version": "1.5.0",
            "_model_name": "FloatProgressModel",
            "_view_count": null,
            "_view_module": "@jupyter-widgets/controls",
            "_view_module_version": "1.5.0",
            "_view_name": "ProgressView",
            "bar_style": "success",
            "description": "",
            "description_tooltip": null,
            "layout": "IPY_MODEL_a90bba1c96dd474a928531beb44a6559",
            "max": 2166,
            "min": 0,
            "orientation": "horizontal",
            "style": "IPY_MODEL_4b295e41fba443cf8de045477ce67a3d",
            "value": 2166
          }
        },
        "6c2d0e5ffb0f43ada86913483bd944b0": {
          "model_module": "@jupyter-widgets/controls",
          "model_name": "HTMLModel",
          "model_module_version": "1.5.0",
          "state": {
            "_dom_classes": [],
            "_model_module": "@jupyter-widgets/controls",
            "_model_module_version": "1.5.0",
            "_model_name": "HTMLModel",
            "_view_count": null,
            "_view_module": "@jupyter-widgets/controls",
            "_view_module_version": "1.5.0",
            "_view_name": "HTMLView",
            "description": "",
            "description_tooltip": null,
            "layout": "IPY_MODEL_cefba99645cb42e9969e14479d44b8c1",
            "placeholder": "​",
            "style": "IPY_MODEL_34bc5b6848a749f1bc20d7fc26e17c17",
            "value": " 2166/2166 [00:00&lt;00:00, 3861.55 examples/s]"
          }
        },
        "68977d69df8048999062a4fa911ddc53": {
          "model_module": "@jupyter-widgets/base",
          "model_name": "LayoutModel",
          "model_module_version": "1.2.0",
          "state": {
            "_model_module": "@jupyter-widgets/base",
            "_model_module_version": "1.2.0",
            "_model_name": "LayoutModel",
            "_view_count": null,
            "_view_module": "@jupyter-widgets/base",
            "_view_module_version": "1.2.0",
            "_view_name": "LayoutView",
            "align_content": null,
            "align_items": null,
            "align_self": null,
            "border": null,
            "bottom": null,
            "display": null,
            "flex": null,
            "flex_flow": null,
            "grid_area": null,
            "grid_auto_columns": null,
            "grid_auto_flow": null,
            "grid_auto_rows": null,
            "grid_column": null,
            "grid_gap": null,
            "grid_row": null,
            "grid_template_areas": null,
            "grid_template_columns": null,
            "grid_template_rows": null,
            "height": null,
            "justify_content": null,
            "justify_items": null,
            "left": null,
            "margin": null,
            "max_height": null,
            "max_width": null,
            "min_height": null,
            "min_width": null,
            "object_fit": null,
            "object_position": null,
            "order": null,
            "overflow": null,
            "overflow_x": null,
            "overflow_y": null,
            "padding": null,
            "right": null,
            "top": null,
            "visibility": null,
            "width": null
          }
        },
        "b62f8744062b46828a0609c10012091f": {
          "model_module": "@jupyter-widgets/base",
          "model_name": "LayoutModel",
          "model_module_version": "1.2.0",
          "state": {
            "_model_module": "@jupyter-widgets/base",
            "_model_module_version": "1.2.0",
            "_model_name": "LayoutModel",
            "_view_count": null,
            "_view_module": "@jupyter-widgets/base",
            "_view_module_version": "1.2.0",
            "_view_name": "LayoutView",
            "align_content": null,
            "align_items": null,
            "align_self": null,
            "border": null,
            "bottom": null,
            "display": null,
            "flex": null,
            "flex_flow": null,
            "grid_area": null,
            "grid_auto_columns": null,
            "grid_auto_flow": null,
            "grid_auto_rows": null,
            "grid_column": null,
            "grid_gap": null,
            "grid_row": null,
            "grid_template_areas": null,
            "grid_template_columns": null,
            "grid_template_rows": null,
            "height": null,
            "justify_content": null,
            "justify_items": null,
            "left": null,
            "margin": null,
            "max_height": null,
            "max_width": null,
            "min_height": null,
            "min_width": null,
            "object_fit": null,
            "object_position": null,
            "order": null,
            "overflow": null,
            "overflow_x": null,
            "overflow_y": null,
            "padding": null,
            "right": null,
            "top": null,
            "visibility": null,
            "width": null
          }
        },
        "c5483469b31c4b9b88a6129977bd9251": {
          "model_module": "@jupyter-widgets/controls",
          "model_name": "DescriptionStyleModel",
          "model_module_version": "1.5.0",
          "state": {
            "_model_module": "@jupyter-widgets/controls",
            "_model_module_version": "1.5.0",
            "_model_name": "DescriptionStyleModel",
            "_view_count": null,
            "_view_module": "@jupyter-widgets/base",
            "_view_module_version": "1.2.0",
            "_view_name": "StyleView",
            "description_width": ""
          }
        },
        "a90bba1c96dd474a928531beb44a6559": {
          "model_module": "@jupyter-widgets/base",
          "model_name": "LayoutModel",
          "model_module_version": "1.2.0",
          "state": {
            "_model_module": "@jupyter-widgets/base",
            "_model_module_version": "1.2.0",
            "_model_name": "LayoutModel",
            "_view_count": null,
            "_view_module": "@jupyter-widgets/base",
            "_view_module_version": "1.2.0",
            "_view_name": "LayoutView",
            "align_content": null,
            "align_items": null,
            "align_self": null,
            "border": null,
            "bottom": null,
            "display": null,
            "flex": null,
            "flex_flow": null,
            "grid_area": null,
            "grid_auto_columns": null,
            "grid_auto_flow": null,
            "grid_auto_rows": null,
            "grid_column": null,
            "grid_gap": null,
            "grid_row": null,
            "grid_template_areas": null,
            "grid_template_columns": null,
            "grid_template_rows": null,
            "height": null,
            "justify_content": null,
            "justify_items": null,
            "left": null,
            "margin": null,
            "max_height": null,
            "max_width": null,
            "min_height": null,
            "min_width": null,
            "object_fit": null,
            "object_position": null,
            "order": null,
            "overflow": null,
            "overflow_x": null,
            "overflow_y": null,
            "padding": null,
            "right": null,
            "top": null,
            "visibility": null,
            "width": null
          }
        },
        "4b295e41fba443cf8de045477ce67a3d": {
          "model_module": "@jupyter-widgets/controls",
          "model_name": "ProgressStyleModel",
          "model_module_version": "1.5.0",
          "state": {
            "_model_module": "@jupyter-widgets/controls",
            "_model_module_version": "1.5.0",
            "_model_name": "ProgressStyleModel",
            "_view_count": null,
            "_view_module": "@jupyter-widgets/base",
            "_view_module_version": "1.2.0",
            "_view_name": "StyleView",
            "bar_color": null,
            "description_width": ""
          }
        },
        "cefba99645cb42e9969e14479d44b8c1": {
          "model_module": "@jupyter-widgets/base",
          "model_name": "LayoutModel",
          "model_module_version": "1.2.0",
          "state": {
            "_model_module": "@jupyter-widgets/base",
            "_model_module_version": "1.2.0",
            "_model_name": "LayoutModel",
            "_view_count": null,
            "_view_module": "@jupyter-widgets/base",
            "_view_module_version": "1.2.0",
            "_view_name": "LayoutView",
            "align_content": null,
            "align_items": null,
            "align_self": null,
            "border": null,
            "bottom": null,
            "display": null,
            "flex": null,
            "flex_flow": null,
            "grid_area": null,
            "grid_auto_columns": null,
            "grid_auto_flow": null,
            "grid_auto_rows": null,
            "grid_column": null,
            "grid_gap": null,
            "grid_row": null,
            "grid_template_areas": null,
            "grid_template_columns": null,
            "grid_template_rows": null,
            "height": null,
            "justify_content": null,
            "justify_items": null,
            "left": null,
            "margin": null,
            "max_height": null,
            "max_width": null,
            "min_height": null,
            "min_width": null,
            "object_fit": null,
            "object_position": null,
            "order": null,
            "overflow": null,
            "overflow_x": null,
            "overflow_y": null,
            "padding": null,
            "right": null,
            "top": null,
            "visibility": null,
            "width": null
          }
        },
        "34bc5b6848a749f1bc20d7fc26e17c17": {
          "model_module": "@jupyter-widgets/controls",
          "model_name": "DescriptionStyleModel",
          "model_module_version": "1.5.0",
          "state": {
            "_model_module": "@jupyter-widgets/controls",
            "_model_module_version": "1.5.0",
            "_model_name": "DescriptionStyleModel",
            "_view_count": null,
            "_view_module": "@jupyter-widgets/base",
            "_view_module_version": "1.2.0",
            "_view_name": "StyleView",
            "description_width": ""
          }
        },
        "67ba7e02178c4362a4cd18e0cf26a091": {
          "model_module": "@jupyter-widgets/controls",
          "model_name": "HBoxModel",
          "model_module_version": "1.5.0",
          "state": {
            "_dom_classes": [],
            "_model_module": "@jupyter-widgets/controls",
            "_model_module_version": "1.5.0",
            "_model_name": "HBoxModel",
            "_view_count": null,
            "_view_module": "@jupyter-widgets/controls",
            "_view_module_version": "1.5.0",
            "_view_name": "HBoxView",
            "box_style": "",
            "children": [
              "IPY_MODEL_efc3a2e7cb8d4e9296540dfe3fda2bfe",
              "IPY_MODEL_c7ced40dfeb141b9af2e8654191d4d72",
              "IPY_MODEL_1a456024298144d5b8d22feda2e935e6"
            ],
            "layout": "IPY_MODEL_c0645977c60a485dac987df9a7ecb00c"
          }
        },
        "efc3a2e7cb8d4e9296540dfe3fda2bfe": {
          "model_module": "@jupyter-widgets/controls",
          "model_name": "HTMLModel",
          "model_module_version": "1.5.0",
          "state": {
            "_dom_classes": [],
            "_model_module": "@jupyter-widgets/controls",
            "_model_module_version": "1.5.0",
            "_model_name": "HTMLModel",
            "_view_count": null,
            "_view_module": "@jupyter-widgets/controls",
            "_view_module_version": "1.5.0",
            "_view_name": "HTMLView",
            "description": "",
            "description_tooltip": null,
            "layout": "IPY_MODEL_01df63012ac44b45afd6034e406e3cdb",
            "placeholder": "​",
            "style": "IPY_MODEL_47d0b1450bda47f1a8e631b16f2d7bde",
            "value": "Map: 100%"
          }
        },
        "c7ced40dfeb141b9af2e8654191d4d72": {
          "model_module": "@jupyter-widgets/controls",
          "model_name": "FloatProgressModel",
          "model_module_version": "1.5.0",
          "state": {
            "_dom_classes": [],
            "_model_module": "@jupyter-widgets/controls",
            "_model_module_version": "1.5.0",
            "_model_name": "FloatProgressModel",
            "_view_count": null,
            "_view_module": "@jupyter-widgets/controls",
            "_view_module_version": "1.5.0",
            "_view_name": "ProgressView",
            "bar_style": "success",
            "description": "",
            "description_tooltip": null,
            "layout": "IPY_MODEL_af4593bd37cf43cc9879840f7438222d",
            "max": 8661,
            "min": 0,
            "orientation": "horizontal",
            "style": "IPY_MODEL_0541fea814ea445fa942493752b55ebb",
            "value": 8661
          }
        },
        "1a456024298144d5b8d22feda2e935e6": {
          "model_module": "@jupyter-widgets/controls",
          "model_name": "HTMLModel",
          "model_module_version": "1.5.0",
          "state": {
            "_dom_classes": [],
            "_model_module": "@jupyter-widgets/controls",
            "_model_module_version": "1.5.0",
            "_model_name": "HTMLModel",
            "_view_count": null,
            "_view_module": "@jupyter-widgets/controls",
            "_view_module_version": "1.5.0",
            "_view_name": "HTMLView",
            "description": "",
            "description_tooltip": null,
            "layout": "IPY_MODEL_a0290f7c3ac6493fa1f61f91875645ce",
            "placeholder": "​",
            "style": "IPY_MODEL_6f1ba29ebaf84a1aa976c4532a3c08e4",
            "value": " 8661/8661 [00:03&lt;00:00, 2663.19 examples/s]"
          }
        },
        "c0645977c60a485dac987df9a7ecb00c": {
          "model_module": "@jupyter-widgets/base",
          "model_name": "LayoutModel",
          "model_module_version": "1.2.0",
          "state": {
            "_model_module": "@jupyter-widgets/base",
            "_model_module_version": "1.2.0",
            "_model_name": "LayoutModel",
            "_view_count": null,
            "_view_module": "@jupyter-widgets/base",
            "_view_module_version": "1.2.0",
            "_view_name": "LayoutView",
            "align_content": null,
            "align_items": null,
            "align_self": null,
            "border": null,
            "bottom": null,
            "display": null,
            "flex": null,
            "flex_flow": null,
            "grid_area": null,
            "grid_auto_columns": null,
            "grid_auto_flow": null,
            "grid_auto_rows": null,
            "grid_column": null,
            "grid_gap": null,
            "grid_row": null,
            "grid_template_areas": null,
            "grid_template_columns": null,
            "grid_template_rows": null,
            "height": null,
            "justify_content": null,
            "justify_items": null,
            "left": null,
            "margin": null,
            "max_height": null,
            "max_width": null,
            "min_height": null,
            "min_width": null,
            "object_fit": null,
            "object_position": null,
            "order": null,
            "overflow": null,
            "overflow_x": null,
            "overflow_y": null,
            "padding": null,
            "right": null,
            "top": null,
            "visibility": null,
            "width": null
          }
        },
        "01df63012ac44b45afd6034e406e3cdb": {
          "model_module": "@jupyter-widgets/base",
          "model_name": "LayoutModel",
          "model_module_version": "1.2.0",
          "state": {
            "_model_module": "@jupyter-widgets/base",
            "_model_module_version": "1.2.0",
            "_model_name": "LayoutModel",
            "_view_count": null,
            "_view_module": "@jupyter-widgets/base",
            "_view_module_version": "1.2.0",
            "_view_name": "LayoutView",
            "align_content": null,
            "align_items": null,
            "align_self": null,
            "border": null,
            "bottom": null,
            "display": null,
            "flex": null,
            "flex_flow": null,
            "grid_area": null,
            "grid_auto_columns": null,
            "grid_auto_flow": null,
            "grid_auto_rows": null,
            "grid_column": null,
            "grid_gap": null,
            "grid_row": null,
            "grid_template_areas": null,
            "grid_template_columns": null,
            "grid_template_rows": null,
            "height": null,
            "justify_content": null,
            "justify_items": null,
            "left": null,
            "margin": null,
            "max_height": null,
            "max_width": null,
            "min_height": null,
            "min_width": null,
            "object_fit": null,
            "object_position": null,
            "order": null,
            "overflow": null,
            "overflow_x": null,
            "overflow_y": null,
            "padding": null,
            "right": null,
            "top": null,
            "visibility": null,
            "width": null
          }
        },
        "47d0b1450bda47f1a8e631b16f2d7bde": {
          "model_module": "@jupyter-widgets/controls",
          "model_name": "DescriptionStyleModel",
          "model_module_version": "1.5.0",
          "state": {
            "_model_module": "@jupyter-widgets/controls",
            "_model_module_version": "1.5.0",
            "_model_name": "DescriptionStyleModel",
            "_view_count": null,
            "_view_module": "@jupyter-widgets/base",
            "_view_module_version": "1.2.0",
            "_view_name": "StyleView",
            "description_width": ""
          }
        },
        "af4593bd37cf43cc9879840f7438222d": {
          "model_module": "@jupyter-widgets/base",
          "model_name": "LayoutModel",
          "model_module_version": "1.2.0",
          "state": {
            "_model_module": "@jupyter-widgets/base",
            "_model_module_version": "1.2.0",
            "_model_name": "LayoutModel",
            "_view_count": null,
            "_view_module": "@jupyter-widgets/base",
            "_view_module_version": "1.2.0",
            "_view_name": "LayoutView",
            "align_content": null,
            "align_items": null,
            "align_self": null,
            "border": null,
            "bottom": null,
            "display": null,
            "flex": null,
            "flex_flow": null,
            "grid_area": null,
            "grid_auto_columns": null,
            "grid_auto_flow": null,
            "grid_auto_rows": null,
            "grid_column": null,
            "grid_gap": null,
            "grid_row": null,
            "grid_template_areas": null,
            "grid_template_columns": null,
            "grid_template_rows": null,
            "height": null,
            "justify_content": null,
            "justify_items": null,
            "left": null,
            "margin": null,
            "max_height": null,
            "max_width": null,
            "min_height": null,
            "min_width": null,
            "object_fit": null,
            "object_position": null,
            "order": null,
            "overflow": null,
            "overflow_x": null,
            "overflow_y": null,
            "padding": null,
            "right": null,
            "top": null,
            "visibility": null,
            "width": null
          }
        },
        "0541fea814ea445fa942493752b55ebb": {
          "model_module": "@jupyter-widgets/controls",
          "model_name": "ProgressStyleModel",
          "model_module_version": "1.5.0",
          "state": {
            "_model_module": "@jupyter-widgets/controls",
            "_model_module_version": "1.5.0",
            "_model_name": "ProgressStyleModel",
            "_view_count": null,
            "_view_module": "@jupyter-widgets/base",
            "_view_module_version": "1.2.0",
            "_view_name": "StyleView",
            "bar_color": null,
            "description_width": ""
          }
        },
        "a0290f7c3ac6493fa1f61f91875645ce": {
          "model_module": "@jupyter-widgets/base",
          "model_name": "LayoutModel",
          "model_module_version": "1.2.0",
          "state": {
            "_model_module": "@jupyter-widgets/base",
            "_model_module_version": "1.2.0",
            "_model_name": "LayoutModel",
            "_view_count": null,
            "_view_module": "@jupyter-widgets/base",
            "_view_module_version": "1.2.0",
            "_view_name": "LayoutView",
            "align_content": null,
            "align_items": null,
            "align_self": null,
            "border": null,
            "bottom": null,
            "display": null,
            "flex": null,
            "flex_flow": null,
            "grid_area": null,
            "grid_auto_columns": null,
            "grid_auto_flow": null,
            "grid_auto_rows": null,
            "grid_column": null,
            "grid_gap": null,
            "grid_row": null,
            "grid_template_areas": null,
            "grid_template_columns": null,
            "grid_template_rows": null,
            "height": null,
            "justify_content": null,
            "justify_items": null,
            "left": null,
            "margin": null,
            "max_height": null,
            "max_width": null,
            "min_height": null,
            "min_width": null,
            "object_fit": null,
            "object_position": null,
            "order": null,
            "overflow": null,
            "overflow_x": null,
            "overflow_y": null,
            "padding": null,
            "right": null,
            "top": null,
            "visibility": null,
            "width": null
          }
        },
        "6f1ba29ebaf84a1aa976c4532a3c08e4": {
          "model_module": "@jupyter-widgets/controls",
          "model_name": "DescriptionStyleModel",
          "model_module_version": "1.5.0",
          "state": {
            "_model_module": "@jupyter-widgets/controls",
            "_model_module_version": "1.5.0",
            "_model_name": "DescriptionStyleModel",
            "_view_count": null,
            "_view_module": "@jupyter-widgets/base",
            "_view_module_version": "1.2.0",
            "_view_name": "StyleView",
            "description_width": ""
          }
        },
        "ff8eb5beff81407aae8becc8699621dc": {
          "model_module": "@jupyter-widgets/controls",
          "model_name": "HBoxModel",
          "model_module_version": "1.5.0",
          "state": {
            "_dom_classes": [],
            "_model_module": "@jupyter-widgets/controls",
            "_model_module_version": "1.5.0",
            "_model_name": "HBoxModel",
            "_view_count": null,
            "_view_module": "@jupyter-widgets/controls",
            "_view_module_version": "1.5.0",
            "_view_name": "HBoxView",
            "box_style": "",
            "children": [
              "IPY_MODEL_4cc97f938b264145b19c05f94afefd59",
              "IPY_MODEL_a165d99d69ac4a2fbd80e73c8c90f3e3",
              "IPY_MODEL_b439578a1865400e9dbe54ccb9daab47"
            ],
            "layout": "IPY_MODEL_4dd5709c07574b868039104deb8bebf3"
          }
        },
        "4cc97f938b264145b19c05f94afefd59": {
          "model_module": "@jupyter-widgets/controls",
          "model_name": "HTMLModel",
          "model_module_version": "1.5.0",
          "state": {
            "_dom_classes": [],
            "_model_module": "@jupyter-widgets/controls",
            "_model_module_version": "1.5.0",
            "_model_name": "HTMLModel",
            "_view_count": null,
            "_view_module": "@jupyter-widgets/controls",
            "_view_module_version": "1.5.0",
            "_view_name": "HTMLView",
            "description": "",
            "description_tooltip": null,
            "layout": "IPY_MODEL_70b06e9a32564080923e0e57220afe5b",
            "placeholder": "​",
            "style": "IPY_MODEL_9d2b4360690d48429787fa0dce55be3b",
            "value": "Map: 100%"
          }
        },
        "a165d99d69ac4a2fbd80e73c8c90f3e3": {
          "model_module": "@jupyter-widgets/controls",
          "model_name": "FloatProgressModel",
          "model_module_version": "1.5.0",
          "state": {
            "_dom_classes": [],
            "_model_module": "@jupyter-widgets/controls",
            "_model_module_version": "1.5.0",
            "_model_name": "FloatProgressModel",
            "_view_count": null,
            "_view_module": "@jupyter-widgets/controls",
            "_view_module_version": "1.5.0",
            "_view_name": "ProgressView",
            "bar_style": "success",
            "description": "",
            "description_tooltip": null,
            "layout": "IPY_MODEL_645049a9ba8346b2bceb28d2526b5036",
            "max": 2166,
            "min": 0,
            "orientation": "horizontal",
            "style": "IPY_MODEL_8882f54d48234c4b885c8955459746a4",
            "value": 2166
          }
        },
        "b439578a1865400e9dbe54ccb9daab47": {
          "model_module": "@jupyter-widgets/controls",
          "model_name": "HTMLModel",
          "model_module_version": "1.5.0",
          "state": {
            "_dom_classes": [],
            "_model_module": "@jupyter-widgets/controls",
            "_model_module_version": "1.5.0",
            "_model_name": "HTMLModel",
            "_view_count": null,
            "_view_module": "@jupyter-widgets/controls",
            "_view_module_version": "1.5.0",
            "_view_name": "HTMLView",
            "description": "",
            "description_tooltip": null,
            "layout": "IPY_MODEL_cf0e2f6cf3844db9b30531587fa745b9",
            "placeholder": "​",
            "style": "IPY_MODEL_94b87bf55b1c4a5f8df0eaaec22b84d2",
            "value": " 2166/2166 [00:00&lt;00:00, 2457.92 examples/s]"
          }
        },
        "4dd5709c07574b868039104deb8bebf3": {
          "model_module": "@jupyter-widgets/base",
          "model_name": "LayoutModel",
          "model_module_version": "1.2.0",
          "state": {
            "_model_module": "@jupyter-widgets/base",
            "_model_module_version": "1.2.0",
            "_model_name": "LayoutModel",
            "_view_count": null,
            "_view_module": "@jupyter-widgets/base",
            "_view_module_version": "1.2.0",
            "_view_name": "LayoutView",
            "align_content": null,
            "align_items": null,
            "align_self": null,
            "border": null,
            "bottom": null,
            "display": null,
            "flex": null,
            "flex_flow": null,
            "grid_area": null,
            "grid_auto_columns": null,
            "grid_auto_flow": null,
            "grid_auto_rows": null,
            "grid_column": null,
            "grid_gap": null,
            "grid_row": null,
            "grid_template_areas": null,
            "grid_template_columns": null,
            "grid_template_rows": null,
            "height": null,
            "justify_content": null,
            "justify_items": null,
            "left": null,
            "margin": null,
            "max_height": null,
            "max_width": null,
            "min_height": null,
            "min_width": null,
            "object_fit": null,
            "object_position": null,
            "order": null,
            "overflow": null,
            "overflow_x": null,
            "overflow_y": null,
            "padding": null,
            "right": null,
            "top": null,
            "visibility": null,
            "width": null
          }
        },
        "70b06e9a32564080923e0e57220afe5b": {
          "model_module": "@jupyter-widgets/base",
          "model_name": "LayoutModel",
          "model_module_version": "1.2.0",
          "state": {
            "_model_module": "@jupyter-widgets/base",
            "_model_module_version": "1.2.0",
            "_model_name": "LayoutModel",
            "_view_count": null,
            "_view_module": "@jupyter-widgets/base",
            "_view_module_version": "1.2.0",
            "_view_name": "LayoutView",
            "align_content": null,
            "align_items": null,
            "align_self": null,
            "border": null,
            "bottom": null,
            "display": null,
            "flex": null,
            "flex_flow": null,
            "grid_area": null,
            "grid_auto_columns": null,
            "grid_auto_flow": null,
            "grid_auto_rows": null,
            "grid_column": null,
            "grid_gap": null,
            "grid_row": null,
            "grid_template_areas": null,
            "grid_template_columns": null,
            "grid_template_rows": null,
            "height": null,
            "justify_content": null,
            "justify_items": null,
            "left": null,
            "margin": null,
            "max_height": null,
            "max_width": null,
            "min_height": null,
            "min_width": null,
            "object_fit": null,
            "object_position": null,
            "order": null,
            "overflow": null,
            "overflow_x": null,
            "overflow_y": null,
            "padding": null,
            "right": null,
            "top": null,
            "visibility": null,
            "width": null
          }
        },
        "9d2b4360690d48429787fa0dce55be3b": {
          "model_module": "@jupyter-widgets/controls",
          "model_name": "DescriptionStyleModel",
          "model_module_version": "1.5.0",
          "state": {
            "_model_module": "@jupyter-widgets/controls",
            "_model_module_version": "1.5.0",
            "_model_name": "DescriptionStyleModel",
            "_view_count": null,
            "_view_module": "@jupyter-widgets/base",
            "_view_module_version": "1.2.0",
            "_view_name": "StyleView",
            "description_width": ""
          }
        },
        "645049a9ba8346b2bceb28d2526b5036": {
          "model_module": "@jupyter-widgets/base",
          "model_name": "LayoutModel",
          "model_module_version": "1.2.0",
          "state": {
            "_model_module": "@jupyter-widgets/base",
            "_model_module_version": "1.2.0",
            "_model_name": "LayoutModel",
            "_view_count": null,
            "_view_module": "@jupyter-widgets/base",
            "_view_module_version": "1.2.0",
            "_view_name": "LayoutView",
            "align_content": null,
            "align_items": null,
            "align_self": null,
            "border": null,
            "bottom": null,
            "display": null,
            "flex": null,
            "flex_flow": null,
            "grid_area": null,
            "grid_auto_columns": null,
            "grid_auto_flow": null,
            "grid_auto_rows": null,
            "grid_column": null,
            "grid_gap": null,
            "grid_row": null,
            "grid_template_areas": null,
            "grid_template_columns": null,
            "grid_template_rows": null,
            "height": null,
            "justify_content": null,
            "justify_items": null,
            "left": null,
            "margin": null,
            "max_height": null,
            "max_width": null,
            "min_height": null,
            "min_width": null,
            "object_fit": null,
            "object_position": null,
            "order": null,
            "overflow": null,
            "overflow_x": null,
            "overflow_y": null,
            "padding": null,
            "right": null,
            "top": null,
            "visibility": null,
            "width": null
          }
        },
        "8882f54d48234c4b885c8955459746a4": {
          "model_module": "@jupyter-widgets/controls",
          "model_name": "ProgressStyleModel",
          "model_module_version": "1.5.0",
          "state": {
            "_model_module": "@jupyter-widgets/controls",
            "_model_module_version": "1.5.0",
            "_model_name": "ProgressStyleModel",
            "_view_count": null,
            "_view_module": "@jupyter-widgets/base",
            "_view_module_version": "1.2.0",
            "_view_name": "StyleView",
            "bar_color": null,
            "description_width": ""
          }
        },
        "cf0e2f6cf3844db9b30531587fa745b9": {
          "model_module": "@jupyter-widgets/base",
          "model_name": "LayoutModel",
          "model_module_version": "1.2.0",
          "state": {
            "_model_module": "@jupyter-widgets/base",
            "_model_module_version": "1.2.0",
            "_model_name": "LayoutModel",
            "_view_count": null,
            "_view_module": "@jupyter-widgets/base",
            "_view_module_version": "1.2.0",
            "_view_name": "LayoutView",
            "align_content": null,
            "align_items": null,
            "align_self": null,
            "border": null,
            "bottom": null,
            "display": null,
            "flex": null,
            "flex_flow": null,
            "grid_area": null,
            "grid_auto_columns": null,
            "grid_auto_flow": null,
            "grid_auto_rows": null,
            "grid_column": null,
            "grid_gap": null,
            "grid_row": null,
            "grid_template_areas": null,
            "grid_template_columns": null,
            "grid_template_rows": null,
            "height": null,
            "justify_content": null,
            "justify_items": null,
            "left": null,
            "margin": null,
            "max_height": null,
            "max_width": null,
            "min_height": null,
            "min_width": null,
            "object_fit": null,
            "object_position": null,
            "order": null,
            "overflow": null,
            "overflow_x": null,
            "overflow_y": null,
            "padding": null,
            "right": null,
            "top": null,
            "visibility": null,
            "width": null
          }
        },
        "94b87bf55b1c4a5f8df0eaaec22b84d2": {
          "model_module": "@jupyter-widgets/controls",
          "model_name": "DescriptionStyleModel",
          "model_module_version": "1.5.0",
          "state": {
            "_model_module": "@jupyter-widgets/controls",
            "_model_module_version": "1.5.0",
            "_model_name": "DescriptionStyleModel",
            "_view_count": null,
            "_view_module": "@jupyter-widgets/base",
            "_view_module_version": "1.2.0",
            "_view_name": "StyleView",
            "description_width": ""
          }
        },
        "0fc357c09a7e472d895160b545644004": {
          "model_module": "@jupyter-widgets/controls",
          "model_name": "HBoxModel",
          "model_module_version": "1.5.0",
          "state": {
            "_dom_classes": [],
            "_model_module": "@jupyter-widgets/controls",
            "_model_module_version": "1.5.0",
            "_model_name": "HBoxModel",
            "_view_count": null,
            "_view_module": "@jupyter-widgets/controls",
            "_view_module_version": "1.5.0",
            "_view_name": "HBoxView",
            "box_style": "",
            "children": [
              "IPY_MODEL_dda232d25fb24e1db3ffcd75b7b92965",
              "IPY_MODEL_932e5c02e4a24858804c4592ba5a5be1",
              "IPY_MODEL_80a3391ba65b498d80a9695fe269479e"
            ],
            "layout": "IPY_MODEL_7d8746d2274d4d759415209eab74f7ac"
          }
        },
        "dda232d25fb24e1db3ffcd75b7b92965": {
          "model_module": "@jupyter-widgets/controls",
          "model_name": "HTMLModel",
          "model_module_version": "1.5.0",
          "state": {
            "_dom_classes": [],
            "_model_module": "@jupyter-widgets/controls",
            "_model_module_version": "1.5.0",
            "_model_name": "HTMLModel",
            "_view_count": null,
            "_view_module": "@jupyter-widgets/controls",
            "_view_module_version": "1.5.0",
            "_view_name": "HTMLView",
            "description": "",
            "description_tooltip": null,
            "layout": "IPY_MODEL_1dfebb2c209f43d4b555e0b9423f5e20",
            "placeholder": "​",
            "style": "IPY_MODEL_58bc6dd903dc444e9329c7cfb32a735a",
            "value": "Map: 100%"
          }
        },
        "932e5c02e4a24858804c4592ba5a5be1": {
          "model_module": "@jupyter-widgets/controls",
          "model_name": "FloatProgressModel",
          "model_module_version": "1.5.0",
          "state": {
            "_dom_classes": [],
            "_model_module": "@jupyter-widgets/controls",
            "_model_module_version": "1.5.0",
            "_model_name": "FloatProgressModel",
            "_view_count": null,
            "_view_module": "@jupyter-widgets/controls",
            "_view_module_version": "1.5.0",
            "_view_name": "ProgressView",
            "bar_style": "success",
            "description": "",
            "description_tooltip": null,
            "layout": "IPY_MODEL_bb3b13ca630048768cfcefd61bb15825",
            "max": 8661,
            "min": 0,
            "orientation": "horizontal",
            "style": "IPY_MODEL_3b48671206ca40ac8507087c92599ba4",
            "value": 8661
          }
        },
        "80a3391ba65b498d80a9695fe269479e": {
          "model_module": "@jupyter-widgets/controls",
          "model_name": "HTMLModel",
          "model_module_version": "1.5.0",
          "state": {
            "_dom_classes": [],
            "_model_module": "@jupyter-widgets/controls",
            "_model_module_version": "1.5.0",
            "_model_name": "HTMLModel",
            "_view_count": null,
            "_view_module": "@jupyter-widgets/controls",
            "_view_module_version": "1.5.0",
            "_view_name": "HTMLView",
            "description": "",
            "description_tooltip": null,
            "layout": "IPY_MODEL_4aac5131c6434b96a38f34110f77b34f",
            "placeholder": "​",
            "style": "IPY_MODEL_942347c4979c46a5bfd6241ad3e2ec5f",
            "value": " 8661/8661 [00:03&lt;00:00, 3217.20 examples/s]"
          }
        },
        "7d8746d2274d4d759415209eab74f7ac": {
          "model_module": "@jupyter-widgets/base",
          "model_name": "LayoutModel",
          "model_module_version": "1.2.0",
          "state": {
            "_model_module": "@jupyter-widgets/base",
            "_model_module_version": "1.2.0",
            "_model_name": "LayoutModel",
            "_view_count": null,
            "_view_module": "@jupyter-widgets/base",
            "_view_module_version": "1.2.0",
            "_view_name": "LayoutView",
            "align_content": null,
            "align_items": null,
            "align_self": null,
            "border": null,
            "bottom": null,
            "display": null,
            "flex": null,
            "flex_flow": null,
            "grid_area": null,
            "grid_auto_columns": null,
            "grid_auto_flow": null,
            "grid_auto_rows": null,
            "grid_column": null,
            "grid_gap": null,
            "grid_row": null,
            "grid_template_areas": null,
            "grid_template_columns": null,
            "grid_template_rows": null,
            "height": null,
            "justify_content": null,
            "justify_items": null,
            "left": null,
            "margin": null,
            "max_height": null,
            "max_width": null,
            "min_height": null,
            "min_width": null,
            "object_fit": null,
            "object_position": null,
            "order": null,
            "overflow": null,
            "overflow_x": null,
            "overflow_y": null,
            "padding": null,
            "right": null,
            "top": null,
            "visibility": null,
            "width": null
          }
        },
        "1dfebb2c209f43d4b555e0b9423f5e20": {
          "model_module": "@jupyter-widgets/base",
          "model_name": "LayoutModel",
          "model_module_version": "1.2.0",
          "state": {
            "_model_module": "@jupyter-widgets/base",
            "_model_module_version": "1.2.0",
            "_model_name": "LayoutModel",
            "_view_count": null,
            "_view_module": "@jupyter-widgets/base",
            "_view_module_version": "1.2.0",
            "_view_name": "LayoutView",
            "align_content": null,
            "align_items": null,
            "align_self": null,
            "border": null,
            "bottom": null,
            "display": null,
            "flex": null,
            "flex_flow": null,
            "grid_area": null,
            "grid_auto_columns": null,
            "grid_auto_flow": null,
            "grid_auto_rows": null,
            "grid_column": null,
            "grid_gap": null,
            "grid_row": null,
            "grid_template_areas": null,
            "grid_template_columns": null,
            "grid_template_rows": null,
            "height": null,
            "justify_content": null,
            "justify_items": null,
            "left": null,
            "margin": null,
            "max_height": null,
            "max_width": null,
            "min_height": null,
            "min_width": null,
            "object_fit": null,
            "object_position": null,
            "order": null,
            "overflow": null,
            "overflow_x": null,
            "overflow_y": null,
            "padding": null,
            "right": null,
            "top": null,
            "visibility": null,
            "width": null
          }
        },
        "58bc6dd903dc444e9329c7cfb32a735a": {
          "model_module": "@jupyter-widgets/controls",
          "model_name": "DescriptionStyleModel",
          "model_module_version": "1.5.0",
          "state": {
            "_model_module": "@jupyter-widgets/controls",
            "_model_module_version": "1.5.0",
            "_model_name": "DescriptionStyleModel",
            "_view_count": null,
            "_view_module": "@jupyter-widgets/base",
            "_view_module_version": "1.2.0",
            "_view_name": "StyleView",
            "description_width": ""
          }
        },
        "bb3b13ca630048768cfcefd61bb15825": {
          "model_module": "@jupyter-widgets/base",
          "model_name": "LayoutModel",
          "model_module_version": "1.2.0",
          "state": {
            "_model_module": "@jupyter-widgets/base",
            "_model_module_version": "1.2.0",
            "_model_name": "LayoutModel",
            "_view_count": null,
            "_view_module": "@jupyter-widgets/base",
            "_view_module_version": "1.2.0",
            "_view_name": "LayoutView",
            "align_content": null,
            "align_items": null,
            "align_self": null,
            "border": null,
            "bottom": null,
            "display": null,
            "flex": null,
            "flex_flow": null,
            "grid_area": null,
            "grid_auto_columns": null,
            "grid_auto_flow": null,
            "grid_auto_rows": null,
            "grid_column": null,
            "grid_gap": null,
            "grid_row": null,
            "grid_template_areas": null,
            "grid_template_columns": null,
            "grid_template_rows": null,
            "height": null,
            "justify_content": null,
            "justify_items": null,
            "left": null,
            "margin": null,
            "max_height": null,
            "max_width": null,
            "min_height": null,
            "min_width": null,
            "object_fit": null,
            "object_position": null,
            "order": null,
            "overflow": null,
            "overflow_x": null,
            "overflow_y": null,
            "padding": null,
            "right": null,
            "top": null,
            "visibility": null,
            "width": null
          }
        },
        "3b48671206ca40ac8507087c92599ba4": {
          "model_module": "@jupyter-widgets/controls",
          "model_name": "ProgressStyleModel",
          "model_module_version": "1.5.0",
          "state": {
            "_model_module": "@jupyter-widgets/controls",
            "_model_module_version": "1.5.0",
            "_model_name": "ProgressStyleModel",
            "_view_count": null,
            "_view_module": "@jupyter-widgets/base",
            "_view_module_version": "1.2.0",
            "_view_name": "StyleView",
            "bar_color": null,
            "description_width": ""
          }
        },
        "4aac5131c6434b96a38f34110f77b34f": {
          "model_module": "@jupyter-widgets/base",
          "model_name": "LayoutModel",
          "model_module_version": "1.2.0",
          "state": {
            "_model_module": "@jupyter-widgets/base",
            "_model_module_version": "1.2.0",
            "_model_name": "LayoutModel",
            "_view_count": null,
            "_view_module": "@jupyter-widgets/base",
            "_view_module_version": "1.2.0",
            "_view_name": "LayoutView",
            "align_content": null,
            "align_items": null,
            "align_self": null,
            "border": null,
            "bottom": null,
            "display": null,
            "flex": null,
            "flex_flow": null,
            "grid_area": null,
            "grid_auto_columns": null,
            "grid_auto_flow": null,
            "grid_auto_rows": null,
            "grid_column": null,
            "grid_gap": null,
            "grid_row": null,
            "grid_template_areas": null,
            "grid_template_columns": null,
            "grid_template_rows": null,
            "height": null,
            "justify_content": null,
            "justify_items": null,
            "left": null,
            "margin": null,
            "max_height": null,
            "max_width": null,
            "min_height": null,
            "min_width": null,
            "object_fit": null,
            "object_position": null,
            "order": null,
            "overflow": null,
            "overflow_x": null,
            "overflow_y": null,
            "padding": null,
            "right": null,
            "top": null,
            "visibility": null,
            "width": null
          }
        },
        "942347c4979c46a5bfd6241ad3e2ec5f": {
          "model_module": "@jupyter-widgets/controls",
          "model_name": "DescriptionStyleModel",
          "model_module_version": "1.5.0",
          "state": {
            "_model_module": "@jupyter-widgets/controls",
            "_model_module_version": "1.5.0",
            "_model_name": "DescriptionStyleModel",
            "_view_count": null,
            "_view_module": "@jupyter-widgets/base",
            "_view_module_version": "1.2.0",
            "_view_name": "StyleView",
            "description_width": ""
          }
        },
        "fbd07129f7b94cada3bb0f3dfc96c8ad": {
          "model_module": "@jupyter-widgets/controls",
          "model_name": "HBoxModel",
          "model_module_version": "1.5.0",
          "state": {
            "_dom_classes": [],
            "_model_module": "@jupyter-widgets/controls",
            "_model_module_version": "1.5.0",
            "_model_name": "HBoxModel",
            "_view_count": null,
            "_view_module": "@jupyter-widgets/controls",
            "_view_module_version": "1.5.0",
            "_view_name": "HBoxView",
            "box_style": "",
            "children": [
              "IPY_MODEL_4e9875cdd070491e8075aa0548d0199a",
              "IPY_MODEL_c0b04088217f41dba8c1702736f7241e",
              "IPY_MODEL_1cd1d4d72a144ff89d4809a3dfa891a7"
            ],
            "layout": "IPY_MODEL_c48884a4069e46a2ab7ee6258ca64f4d"
          }
        },
        "4e9875cdd070491e8075aa0548d0199a": {
          "model_module": "@jupyter-widgets/controls",
          "model_name": "HTMLModel",
          "model_module_version": "1.5.0",
          "state": {
            "_dom_classes": [],
            "_model_module": "@jupyter-widgets/controls",
            "_model_module_version": "1.5.0",
            "_model_name": "HTMLModel",
            "_view_count": null,
            "_view_module": "@jupyter-widgets/controls",
            "_view_module_version": "1.5.0",
            "_view_name": "HTMLView",
            "description": "",
            "description_tooltip": null,
            "layout": "IPY_MODEL_ea5fd888bbdf462e98b436c9bd1eb4cb",
            "placeholder": "​",
            "style": "IPY_MODEL_8097a83408d0493bae8972692c7a4144",
            "value": "Map: 100%"
          }
        },
        "c0b04088217f41dba8c1702736f7241e": {
          "model_module": "@jupyter-widgets/controls",
          "model_name": "FloatProgressModel",
          "model_module_version": "1.5.0",
          "state": {
            "_dom_classes": [],
            "_model_module": "@jupyter-widgets/controls",
            "_model_module_version": "1.5.0",
            "_model_name": "FloatProgressModel",
            "_view_count": null,
            "_view_module": "@jupyter-widgets/controls",
            "_view_module_version": "1.5.0",
            "_view_name": "ProgressView",
            "bar_style": "success",
            "description": "",
            "description_tooltip": null,
            "layout": "IPY_MODEL_8898ff48409e439baab477742cf73e1f",
            "max": 2166,
            "min": 0,
            "orientation": "horizontal",
            "style": "IPY_MODEL_bd2d7d007553495ca64c05bdcfb749c6",
            "value": 2166
          }
        },
        "1cd1d4d72a144ff89d4809a3dfa891a7": {
          "model_module": "@jupyter-widgets/controls",
          "model_name": "HTMLModel",
          "model_module_version": "1.5.0",
          "state": {
            "_dom_classes": [],
            "_model_module": "@jupyter-widgets/controls",
            "_model_module_version": "1.5.0",
            "_model_name": "HTMLModel",
            "_view_count": null,
            "_view_module": "@jupyter-widgets/controls",
            "_view_module_version": "1.5.0",
            "_view_name": "HTMLView",
            "description": "",
            "description_tooltip": null,
            "layout": "IPY_MODEL_61522a084e0448039331a5231484d548",
            "placeholder": "​",
            "style": "IPY_MODEL_bbcff7d6d04843b289f2d710063cba21",
            "value": " 2166/2166 [00:00&lt;00:00, 3872.57 examples/s]"
          }
        },
        "c48884a4069e46a2ab7ee6258ca64f4d": {
          "model_module": "@jupyter-widgets/base",
          "model_name": "LayoutModel",
          "model_module_version": "1.2.0",
          "state": {
            "_model_module": "@jupyter-widgets/base",
            "_model_module_version": "1.2.0",
            "_model_name": "LayoutModel",
            "_view_count": null,
            "_view_module": "@jupyter-widgets/base",
            "_view_module_version": "1.2.0",
            "_view_name": "LayoutView",
            "align_content": null,
            "align_items": null,
            "align_self": null,
            "border": null,
            "bottom": null,
            "display": null,
            "flex": null,
            "flex_flow": null,
            "grid_area": null,
            "grid_auto_columns": null,
            "grid_auto_flow": null,
            "grid_auto_rows": null,
            "grid_column": null,
            "grid_gap": null,
            "grid_row": null,
            "grid_template_areas": null,
            "grid_template_columns": null,
            "grid_template_rows": null,
            "height": null,
            "justify_content": null,
            "justify_items": null,
            "left": null,
            "margin": null,
            "max_height": null,
            "max_width": null,
            "min_height": null,
            "min_width": null,
            "object_fit": null,
            "object_position": null,
            "order": null,
            "overflow": null,
            "overflow_x": null,
            "overflow_y": null,
            "padding": null,
            "right": null,
            "top": null,
            "visibility": null,
            "width": null
          }
        },
        "ea5fd888bbdf462e98b436c9bd1eb4cb": {
          "model_module": "@jupyter-widgets/base",
          "model_name": "LayoutModel",
          "model_module_version": "1.2.0",
          "state": {
            "_model_module": "@jupyter-widgets/base",
            "_model_module_version": "1.2.0",
            "_model_name": "LayoutModel",
            "_view_count": null,
            "_view_module": "@jupyter-widgets/base",
            "_view_module_version": "1.2.0",
            "_view_name": "LayoutView",
            "align_content": null,
            "align_items": null,
            "align_self": null,
            "border": null,
            "bottom": null,
            "display": null,
            "flex": null,
            "flex_flow": null,
            "grid_area": null,
            "grid_auto_columns": null,
            "grid_auto_flow": null,
            "grid_auto_rows": null,
            "grid_column": null,
            "grid_gap": null,
            "grid_row": null,
            "grid_template_areas": null,
            "grid_template_columns": null,
            "grid_template_rows": null,
            "height": null,
            "justify_content": null,
            "justify_items": null,
            "left": null,
            "margin": null,
            "max_height": null,
            "max_width": null,
            "min_height": null,
            "min_width": null,
            "object_fit": null,
            "object_position": null,
            "order": null,
            "overflow": null,
            "overflow_x": null,
            "overflow_y": null,
            "padding": null,
            "right": null,
            "top": null,
            "visibility": null,
            "width": null
          }
        },
        "8097a83408d0493bae8972692c7a4144": {
          "model_module": "@jupyter-widgets/controls",
          "model_name": "DescriptionStyleModel",
          "model_module_version": "1.5.0",
          "state": {
            "_model_module": "@jupyter-widgets/controls",
            "_model_module_version": "1.5.0",
            "_model_name": "DescriptionStyleModel",
            "_view_count": null,
            "_view_module": "@jupyter-widgets/base",
            "_view_module_version": "1.2.0",
            "_view_name": "StyleView",
            "description_width": ""
          }
        },
        "8898ff48409e439baab477742cf73e1f": {
          "model_module": "@jupyter-widgets/base",
          "model_name": "LayoutModel",
          "model_module_version": "1.2.0",
          "state": {
            "_model_module": "@jupyter-widgets/base",
            "_model_module_version": "1.2.0",
            "_model_name": "LayoutModel",
            "_view_count": null,
            "_view_module": "@jupyter-widgets/base",
            "_view_module_version": "1.2.0",
            "_view_name": "LayoutView",
            "align_content": null,
            "align_items": null,
            "align_self": null,
            "border": null,
            "bottom": null,
            "display": null,
            "flex": null,
            "flex_flow": null,
            "grid_area": null,
            "grid_auto_columns": null,
            "grid_auto_flow": null,
            "grid_auto_rows": null,
            "grid_column": null,
            "grid_gap": null,
            "grid_row": null,
            "grid_template_areas": null,
            "grid_template_columns": null,
            "grid_template_rows": null,
            "height": null,
            "justify_content": null,
            "justify_items": null,
            "left": null,
            "margin": null,
            "max_height": null,
            "max_width": null,
            "min_height": null,
            "min_width": null,
            "object_fit": null,
            "object_position": null,
            "order": null,
            "overflow": null,
            "overflow_x": null,
            "overflow_y": null,
            "padding": null,
            "right": null,
            "top": null,
            "visibility": null,
            "width": null
          }
        },
        "bd2d7d007553495ca64c05bdcfb749c6": {
          "model_module": "@jupyter-widgets/controls",
          "model_name": "ProgressStyleModel",
          "model_module_version": "1.5.0",
          "state": {
            "_model_module": "@jupyter-widgets/controls",
            "_model_module_version": "1.5.0",
            "_model_name": "ProgressStyleModel",
            "_view_count": null,
            "_view_module": "@jupyter-widgets/base",
            "_view_module_version": "1.2.0",
            "_view_name": "StyleView",
            "bar_color": null,
            "description_width": ""
          }
        },
        "61522a084e0448039331a5231484d548": {
          "model_module": "@jupyter-widgets/base",
          "model_name": "LayoutModel",
          "model_module_version": "1.2.0",
          "state": {
            "_model_module": "@jupyter-widgets/base",
            "_model_module_version": "1.2.0",
            "_model_name": "LayoutModel",
            "_view_count": null,
            "_view_module": "@jupyter-widgets/base",
            "_view_module_version": "1.2.0",
            "_view_name": "LayoutView",
            "align_content": null,
            "align_items": null,
            "align_self": null,
            "border": null,
            "bottom": null,
            "display": null,
            "flex": null,
            "flex_flow": null,
            "grid_area": null,
            "grid_auto_columns": null,
            "grid_auto_flow": null,
            "grid_auto_rows": null,
            "grid_column": null,
            "grid_gap": null,
            "grid_row": null,
            "grid_template_areas": null,
            "grid_template_columns": null,
            "grid_template_rows": null,
            "height": null,
            "justify_content": null,
            "justify_items": null,
            "left": null,
            "margin": null,
            "max_height": null,
            "max_width": null,
            "min_height": null,
            "min_width": null,
            "object_fit": null,
            "object_position": null,
            "order": null,
            "overflow": null,
            "overflow_x": null,
            "overflow_y": null,
            "padding": null,
            "right": null,
            "top": null,
            "visibility": null,
            "width": null
          }
        },
        "bbcff7d6d04843b289f2d710063cba21": {
          "model_module": "@jupyter-widgets/controls",
          "model_name": "DescriptionStyleModel",
          "model_module_version": "1.5.0",
          "state": {
            "_model_module": "@jupyter-widgets/controls",
            "_model_module_version": "1.5.0",
            "_model_name": "DescriptionStyleModel",
            "_view_count": null,
            "_view_module": "@jupyter-widgets/base",
            "_view_module_version": "1.2.0",
            "_view_name": "StyleView",
            "description_width": ""
          }
        },
        "b7f305d6c39840778b04d65fe1bb43cc": {
          "model_module": "@jupyter-widgets/controls",
          "model_name": "HBoxModel",
          "model_module_version": "1.5.0",
          "state": {
            "_dom_classes": [],
            "_model_module": "@jupyter-widgets/controls",
            "_model_module_version": "1.5.0",
            "_model_name": "HBoxModel",
            "_view_count": null,
            "_view_module": "@jupyter-widgets/controls",
            "_view_module_version": "1.5.0",
            "_view_name": "HBoxView",
            "box_style": "",
            "children": [
              "IPY_MODEL_b293ac191b2f406f8b069eedf637cbe9",
              "IPY_MODEL_8094d4a6310243649bfc6f6995afe408",
              "IPY_MODEL_fdd4cd34a6364040ab0b5a57f8c45c28"
            ],
            "layout": "IPY_MODEL_2e68a1ce67794f808b933403c892e26a"
          }
        },
        "b293ac191b2f406f8b069eedf637cbe9": {
          "model_module": "@jupyter-widgets/controls",
          "model_name": "HTMLModel",
          "model_module_version": "1.5.0",
          "state": {
            "_dom_classes": [],
            "_model_module": "@jupyter-widgets/controls",
            "_model_module_version": "1.5.0",
            "_model_name": "HTMLModel",
            "_view_count": null,
            "_view_module": "@jupyter-widgets/controls",
            "_view_module_version": "1.5.0",
            "_view_name": "HTMLView",
            "description": "",
            "description_tooltip": null,
            "layout": "IPY_MODEL_af803ae59efd438b9d62df162545d172",
            "placeholder": "​",
            "style": "IPY_MODEL_7d6bd0b0e9c54d529f742d43538e0e3a",
            "value": "Downloading builder script: 100%"
          }
        },
        "8094d4a6310243649bfc6f6995afe408": {
          "model_module": "@jupyter-widgets/controls",
          "model_name": "FloatProgressModel",
          "model_module_version": "1.5.0",
          "state": {
            "_dom_classes": [],
            "_model_module": "@jupyter-widgets/controls",
            "_model_module_version": "1.5.0",
            "_model_name": "FloatProgressModel",
            "_view_count": null,
            "_view_module": "@jupyter-widgets/controls",
            "_view_module_version": "1.5.0",
            "_view_name": "ProgressView",
            "bar_style": "success",
            "description": "",
            "description_tooltip": null,
            "layout": "IPY_MODEL_ab6e6cd5f17d42aaacfbc5fa10d8a8b8",
            "max": 8146,
            "min": 0,
            "orientation": "horizontal",
            "style": "IPY_MODEL_107f8ae9858343fc92a4289a36f20162",
            "value": 8146
          }
        },
        "fdd4cd34a6364040ab0b5a57f8c45c28": {
          "model_module": "@jupyter-widgets/controls",
          "model_name": "HTMLModel",
          "model_module_version": "1.5.0",
          "state": {
            "_dom_classes": [],
            "_model_module": "@jupyter-widgets/controls",
            "_model_module_version": "1.5.0",
            "_model_name": "HTMLModel",
            "_view_count": null,
            "_view_module": "@jupyter-widgets/controls",
            "_view_module_version": "1.5.0",
            "_view_name": "HTMLView",
            "description": "",
            "description_tooltip": null,
            "layout": "IPY_MODEL_1643e506d5614c10bf57e4a57149f0fb",
            "placeholder": "​",
            "style": "IPY_MODEL_a4130bcdec8a4e4e8c5031d74078c96a",
            "value": " 8.15k/8.15k [00:00&lt;00:00, 317kB/s]"
          }
        },
        "2e68a1ce67794f808b933403c892e26a": {
          "model_module": "@jupyter-widgets/base",
          "model_name": "LayoutModel",
          "model_module_version": "1.2.0",
          "state": {
            "_model_module": "@jupyter-widgets/base",
            "_model_module_version": "1.2.0",
            "_model_name": "LayoutModel",
            "_view_count": null,
            "_view_module": "@jupyter-widgets/base",
            "_view_module_version": "1.2.0",
            "_view_name": "LayoutView",
            "align_content": null,
            "align_items": null,
            "align_self": null,
            "border": null,
            "bottom": null,
            "display": null,
            "flex": null,
            "flex_flow": null,
            "grid_area": null,
            "grid_auto_columns": null,
            "grid_auto_flow": null,
            "grid_auto_rows": null,
            "grid_column": null,
            "grid_gap": null,
            "grid_row": null,
            "grid_template_areas": null,
            "grid_template_columns": null,
            "grid_template_rows": null,
            "height": null,
            "justify_content": null,
            "justify_items": null,
            "left": null,
            "margin": null,
            "max_height": null,
            "max_width": null,
            "min_height": null,
            "min_width": null,
            "object_fit": null,
            "object_position": null,
            "order": null,
            "overflow": null,
            "overflow_x": null,
            "overflow_y": null,
            "padding": null,
            "right": null,
            "top": null,
            "visibility": null,
            "width": null
          }
        },
        "af803ae59efd438b9d62df162545d172": {
          "model_module": "@jupyter-widgets/base",
          "model_name": "LayoutModel",
          "model_module_version": "1.2.0",
          "state": {
            "_model_module": "@jupyter-widgets/base",
            "_model_module_version": "1.2.0",
            "_model_name": "LayoutModel",
            "_view_count": null,
            "_view_module": "@jupyter-widgets/base",
            "_view_module_version": "1.2.0",
            "_view_name": "LayoutView",
            "align_content": null,
            "align_items": null,
            "align_self": null,
            "border": null,
            "bottom": null,
            "display": null,
            "flex": null,
            "flex_flow": null,
            "grid_area": null,
            "grid_auto_columns": null,
            "grid_auto_flow": null,
            "grid_auto_rows": null,
            "grid_column": null,
            "grid_gap": null,
            "grid_row": null,
            "grid_template_areas": null,
            "grid_template_columns": null,
            "grid_template_rows": null,
            "height": null,
            "justify_content": null,
            "justify_items": null,
            "left": null,
            "margin": null,
            "max_height": null,
            "max_width": null,
            "min_height": null,
            "min_width": null,
            "object_fit": null,
            "object_position": null,
            "order": null,
            "overflow": null,
            "overflow_x": null,
            "overflow_y": null,
            "padding": null,
            "right": null,
            "top": null,
            "visibility": null,
            "width": null
          }
        },
        "7d6bd0b0e9c54d529f742d43538e0e3a": {
          "model_module": "@jupyter-widgets/controls",
          "model_name": "DescriptionStyleModel",
          "model_module_version": "1.5.0",
          "state": {
            "_model_module": "@jupyter-widgets/controls",
            "_model_module_version": "1.5.0",
            "_model_name": "DescriptionStyleModel",
            "_view_count": null,
            "_view_module": "@jupyter-widgets/base",
            "_view_module_version": "1.2.0",
            "_view_name": "StyleView",
            "description_width": ""
          }
        },
        "ab6e6cd5f17d42aaacfbc5fa10d8a8b8": {
          "model_module": "@jupyter-widgets/base",
          "model_name": "LayoutModel",
          "model_module_version": "1.2.0",
          "state": {
            "_model_module": "@jupyter-widgets/base",
            "_model_module_version": "1.2.0",
            "_model_name": "LayoutModel",
            "_view_count": null,
            "_view_module": "@jupyter-widgets/base",
            "_view_module_version": "1.2.0",
            "_view_name": "LayoutView",
            "align_content": null,
            "align_items": null,
            "align_self": null,
            "border": null,
            "bottom": null,
            "display": null,
            "flex": null,
            "flex_flow": null,
            "grid_area": null,
            "grid_auto_columns": null,
            "grid_auto_flow": null,
            "grid_auto_rows": null,
            "grid_column": null,
            "grid_gap": null,
            "grid_row": null,
            "grid_template_areas": null,
            "grid_template_columns": null,
            "grid_template_rows": null,
            "height": null,
            "justify_content": null,
            "justify_items": null,
            "left": null,
            "margin": null,
            "max_height": null,
            "max_width": null,
            "min_height": null,
            "min_width": null,
            "object_fit": null,
            "object_position": null,
            "order": null,
            "overflow": null,
            "overflow_x": null,
            "overflow_y": null,
            "padding": null,
            "right": null,
            "top": null,
            "visibility": null,
            "width": null
          }
        },
        "107f8ae9858343fc92a4289a36f20162": {
          "model_module": "@jupyter-widgets/controls",
          "model_name": "ProgressStyleModel",
          "model_module_version": "1.5.0",
          "state": {
            "_model_module": "@jupyter-widgets/controls",
            "_model_module_version": "1.5.0",
            "_model_name": "ProgressStyleModel",
            "_view_count": null,
            "_view_module": "@jupyter-widgets/base",
            "_view_module_version": "1.2.0",
            "_view_name": "StyleView",
            "bar_color": null,
            "description_width": ""
          }
        },
        "1643e506d5614c10bf57e4a57149f0fb": {
          "model_module": "@jupyter-widgets/base",
          "model_name": "LayoutModel",
          "model_module_version": "1.2.0",
          "state": {
            "_model_module": "@jupyter-widgets/base",
            "_model_module_version": "1.2.0",
            "_model_name": "LayoutModel",
            "_view_count": null,
            "_view_module": "@jupyter-widgets/base",
            "_view_module_version": "1.2.0",
            "_view_name": "LayoutView",
            "align_content": null,
            "align_items": null,
            "align_self": null,
            "border": null,
            "bottom": null,
            "display": null,
            "flex": null,
            "flex_flow": null,
            "grid_area": null,
            "grid_auto_columns": null,
            "grid_auto_flow": null,
            "grid_auto_rows": null,
            "grid_column": null,
            "grid_gap": null,
            "grid_row": null,
            "grid_template_areas": null,
            "grid_template_columns": null,
            "grid_template_rows": null,
            "height": null,
            "justify_content": null,
            "justify_items": null,
            "left": null,
            "margin": null,
            "max_height": null,
            "max_width": null,
            "min_height": null,
            "min_width": null,
            "object_fit": null,
            "object_position": null,
            "order": null,
            "overflow": null,
            "overflow_x": null,
            "overflow_y": null,
            "padding": null,
            "right": null,
            "top": null,
            "visibility": null,
            "width": null
          }
        },
        "a4130bcdec8a4e4e8c5031d74078c96a": {
          "model_module": "@jupyter-widgets/controls",
          "model_name": "DescriptionStyleModel",
          "model_module_version": "1.5.0",
          "state": {
            "_model_module": "@jupyter-widgets/controls",
            "_model_module_version": "1.5.0",
            "_model_name": "DescriptionStyleModel",
            "_view_count": null,
            "_view_module": "@jupyter-widgets/base",
            "_view_module_version": "1.2.0",
            "_view_name": "StyleView",
            "description_width": ""
          }
        }
      }
    }
  },
  "cells": [
    {
      "cell_type": "markdown",
      "source": [
        "https://github.com/apple/ml-mkqa"
      ],
      "metadata": {
        "id": "PDObdMAWvhh8"
      }
    },
    {
      "cell_type": "markdown",
      "source": [
        "![image.png](data:image/png;base64,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)"
      ],
      "metadata": {
        "id": "LhFl-Ha2vfYS"
      }
    },
    {
      "cell_type": "code",
      "source": [
        "import gzip\n",
        "import json\n",
        "\n",
        "data = []\n",
        "with gzip.open('mkqa.jsonl.gz', 'rt') as f:  # reading text mode\n",
        "    for line in f:\n",
        "        data.append(json.loads(line))"
      ],
      "metadata": {
        "id": "G8KTtQpLunVY"
      },
      "execution_count": null,
      "outputs": []
    },
    {
      "cell_type": "code",
      "source": [
        "ko_de_pairs = []\n",
        "for item in data:\n",
        "    ko = item['queries']['ko']\n",
        "    de = item['queries']['de']\n",
        "    ko_de_pairs.append((ko, de))"
      ],
      "metadata": {
        "id": "-xye1EYwuoy0"
      },
      "execution_count": null,
      "outputs": []
    },
    {
      "cell_type": "code",
      "source": [
        "len(ko_de_pairs)"
      ],
      "metadata": {
        "colab": {
          "base_uri": "https://localhost:8080/"
        },
        "id": "o204rdW_uow3",
        "outputId": "07d46955-5257-41b7-dd70-e81a2a259dc4"
      },
      "execution_count": null,
      "outputs": [
        {
          "output_type": "execute_result",
          "data": {
            "text/plain": [
              "10000"
            ]
          },
          "metadata": {},
          "execution_count": 114
        }
      ]
    },
    {
      "cell_type": "code",
      "source": [
        "ko_de_pairs[:10]"
      ],
      "metadata": {
        "colab": {
          "base_uri": "https://localhost:8080/"
        },
        "id": "nkJVyRoNOWKd",
        "outputId": "c0668fc8-888d-459f-c381-1723e58bc9db"
      },
      "execution_count": null,
      "outputs": [
        {
          "output_type": "execute_result",
          "data": {
            "text/plain": [
              "[('쌍둥이 빌딩이 지어지기 까지 얼마나 걸려',\n",
              "  'Wie lange dauerte es, um die Twin Towers zu bauen?'),\n",
              " ('어디에서 용어 great scott가 나왔나요', 'Woher kommt der Satz great scott'),\n",
              " (\"누가 love you like there's no tomorrow\",\n",
              "  \"Wer singt love you like there's no tomorrow\"),\n",
              " ('스크림 퀸스', \"Wie viele Staffeln von 'Scream Queens' gibt es?\"),\n",
              " ('언제 레이커스가 마지막으로 플레이오프에 진출했나요',\n",
              "  'wann haben es die lakers das leztze mal in die playoffs geschafft'),\n",
              " ('기묘한 이야기 한 시즌에 몇 개의',\n",
              "  'wie viele Folgen in einer Staffel von fremden Dingen'),\n",
              " (\"i hear you knocking but you can't come in는 누가 불렀나요\",\n",
              "  \"wer singt  i hear you knocking but you can't come in\"),\n",
              " ('보이스에 누가 나왔나', 'Wer zeigte als erster die Show \"The Voice\"?'),\n",
              " ('언제 서부 개척 시대가 시작하고 끝', 'Wann begann und endete der Wilde Westen'),\n",
              " ('스타벅스 로고는 어디에서 나왔나요', 'Wo stammte das Logo von Starbucks her?')]"
            ]
          },
          "metadata": {},
          "execution_count": 177
        }
      ]
    },
    {
      "cell_type": "code",
      "source": [
        "test = []\n",
        "for item in data:\n",
        "    ko = item['answers']['ko'][0]['text']\n",
        "    de = item['answers']['de'][0]['text']\n",
        "    test.append((ko, de))"
      ],
      "metadata": {
        "id": "PLXB38S2uouf"
      },
      "execution_count": null,
      "outputs": []
    },
    {
      "cell_type": "code",
      "source": [
        "test[:10]"
      ],
      "metadata": {
        "colab": {
          "base_uri": "https://localhost:8080/"
        },
        "id": "sSxtYRWiuosH",
        "outputId": "2394ee7f-1565-4c4e-df07-5cbd11305479"
      },
      "execution_count": null,
      "outputs": [
        {
          "output_type": "execute_result",
          "data": {
            "text/plain": [
              "[('11.0 연도', '11.0 Jahr'),\n",
              " (None, None),\n",
              " ('크리스 영', 'Chris Young'),\n",
              " ('2.0', '2.0'),\n",
              " ('2013', '2013'),\n",
              " ('3.0', '3.0'),\n",
              " ('데이브 에드먼드', 'Dave Edmunds'),\n",
              " ('존 더몰', 'John de Mol'),\n",
              " ('1865', '1865'),\n",
              " (None, None)]"
            ]
          },
          "metadata": {},
          "execution_count": 5
        }
      ]
    },
    {
      "cell_type": "markdown",
      "source": [
        "답변은 쓸데 없다."
      ],
      "metadata": {
        "id": "Wp2zT3iSwjYq"
      }
    },
    {
      "cell_type": "markdown",
      "source": [
        "![image.png](data:image/png;base64,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)\n",
        "\n",
        "![image.png](data:image/png;base64,iVBORw0KGgoAAAANSUhEUgAABSsAAAHMCAYAAAA9PP0MAAAAAXNSR0IArs4c6QAAAARnQU1BAACxjwv8YQUAAAAJcEhZcwAAFiUAABYlAUlSJPAAAP+lSURBVHhe7J0HgBXF/ce/1wtwdDg6ggoqgliAaCIQFCJG0Ig1BqPkb5cEDaKAiigYIEKCHYMGLFiwgIICEsEKWBA8FVR6uTs8hDvgClf4z2925r19+7a+fe/u3d18YG5nZ2dnZ+c3bX9vSsLh0qPHEDeswfT0czFZnIVx34c4PL4fsOdlXN11JBYH3BC879L52PLilWhNdqL0a0wf3AeT19FJNvpffx2GZOdh2dznsDqf3Prhvk+W464z0umEkYdX/9gR179O9gewsvQe9OXuDP1zr/83llzRnTsbye4xEN2aixO78ExYOzUVgywTQM/FeHbLq7gcxrRg6aMj/5XL0fXat8SZFSKsdtqZPg73fXgUd/XR7AqFQqFQKBQKhUKhiD4VFRX42+234r/PPSdcNK6++mo8/tQcpKSmCpfoMvWhBzF+4r3iLN4oR/53G7An80Sc3mwX3l30ORr1/zN+3VFcjhEVR4pQkpiBRhkpwkWyGx8//z4O9f4DLuiRJdwYRd9GFreD2/DVlmK063EKWqcJt1pHvMlITxG+f/sNfNn0PFzz6/bCjbCQoyNF2P7lDyhp2wsntbF7riIaJIpj/DHoHry0bBmW6M2l5spBOwqXPSkUlcCwZz/EkicewOj7nsaSD+djGHddg8lPv4dCbvdA+97o33+gqQkqKr3Td/xRHC4NmpXjxQVSKG7WXwsqFwNMPhcN01O5mS7eufUVr+ru0ZudeOlqzQ9wHFr7iLNCoVAoFAqFQqFQKCKjuPgIrhxxaZiiknjppZfwh4uH4dChQ8KlPrEf37z5X7zwwVagZDc2fv4FfjooLrlh439wx+iH8D4fpOSWPKz613jc//K34lxPAX5icdi4u1icCyKJG7FzJV6Y9ya+8XpfXBFvMtJTjD0bv8BXPxaIc4mFHB3ZilXz/ovFG/aLc0UsiV9lZZOT0NeoCOzWRFx0Sx5WL5IV/hjc+IfOws7odDFuvEPY578hRlnGG19j7RJhxVt4ZfV2YY8Gedguy3avbDSRA0sVCoVCoVAoFAqFQlEtHPjlF1w09AK89967wiWcD/73P/z+d4Px8759wiVOKfsCz/ztNjy0aLdwCLLxudtwx5RlCP/szsP7U9i10aFm2nt54roNJdvw/lPjcRfd87cxmPbcZ8ivEtdM+Rr/NTzH+Xn6e/6Djcwlf+lDzvdxJVww/KDxqphzB4UdO+JdRnr0cX0ISymt1+tk8dzXmrcw/D5XEW3iV1kZFbZj00vCevWv0D1EIZeO7mdcKewvY9MOYY0G+zdh9eoPhFmDTRH+UrL9lZn49wZxwlh273141S6eNDVdjEId3lW4WbFlPZbJsAedhm7CqlAoFAqFQqFQKBSK2LNzx3YMGnAu1q5ZI1ys+fLLL/Hb/r/Blp9+FC7xx6G1q/E9O/7y6Wp4jmXvv2Dm7McCZtzvssUFC6q2YfG0R7C08Cz830OPYfqEy9Hshxcxbc5nKBFerGg9dGLIs+yfdxr+HPD3F/RkLvr7Le/rGfo+ZKZffQq7kI1mLTUv0YTCJ8VaTIlbGenJxnkT5D0TMZTWB9TH+7rTNG9h6OUszIw/4iR2pXVLN89VRJtao6ykdRTlFOeGco1GJ/ZsR0Bvfnx2cB1LQesOlPU0vt7mUVuum3IdYqayhmbLm7hwyBBhLsf0leIeDxSuvB+jrn2Z//LUuv9AbZ3L/Jdx/Z/+ile/tdB+6qamO01F3/7JW1gt7Dec0xtqYKVCoVAoFAqFQqFQVA/ff/stzhs4AD/88INwcWbbtm0YPOi32PD1euESTxThy3Xb2LfrIJxU9jW++k44x4iKL9/Dql+aY8A1l+CELCC55a9w3R9OAb57Dyv2CE/RZs820JjR/O3bUKG5hLDxP9pIvP/S8EsTtm3fCjRpjmYx0sKQgi3mCksP1IiM9JTtxraf2ZGVG7M5qnKErOXISSav7chCM7VkXo1Qx0dW1j5Kd3yAObcMwekXPoy15ND6Sjw8ZxnmzhObBq17Etef0RNnXDsO81bmoZTcvFK6Bq8+LqYZtL4Hwwd5nV6vUCgUCoVCoVAoFIpI+Gj1Kgwa2B979+4VLu7Jz8/nCsv3ly8TLnFC/mdYu7M9+g68BH17lWDtWqvpttFh2xZS/J2Gnrp9HJJ7noaTsB/5u8qFSzQpwVfvfopfGmQg47s38MLG8LGBPf+ijcj7Mw2/NFK1Dd98V4KMk0+BbnG6qBNPCsvql1Eo+Svfw/dpTF5FK/G6iUJSjt60GrG5/ZtvUZJxCk6KpcAUltQaZWX3S3Ub7bx4D/oLd1saNEYg25n99FERVPV1buFRYXfXIuzJ2xduRvcD+twTspHNs5eKe5w4/AEmnzsEdzz7gbaWR+sLMHXxHFzeicXvivlY+coY9OcayzxsfmUBNpSmRzAishRrZ96FyWIKeN87L0F/NaxSoVAoFAqFQqFQKGLO24vewsXDLkJRUZFw8c6RI0dw+YhLsfDVV4RLzbNnzafI73gWzmCf1T37/goZGz7DV2Xiokf4+pajyYg1B00oKSkB0jKRIc45aRmgPZp/OWi/AYp+zUlupizD+3bPLNuNVY/ehxdymmPo6HtxzdmZ2Pif+/Dkoq+R7/IdS9a9h48PNkff35woXGJHdSgs405GesqLsPHl+zHtvUL0/OO9GP2HE/ELC++h5z/D9oMulaQln2HFx0VodnZ/nCCcFNVLrVFWNu6m22in30loLNxtadIGnXsJ+9rvw4b+bt8k1wY5DdktPGrs0puicZMm4aahuB4JDQdi3BM3ozU6Y8gd8/HlhkUY3SsYr87Dp2HJhh/w+pwxuPaG2Rh3ofcRkdtfuQFXTxbv3eseTL3eas0GhUKhUCgUCoVCoVBEi6efeAx/vOpKlJVFqMXTcfToUVx37Uj8e+YjwqUm2YYvv9yPdmechUZ02v009Ez7Fl+uj2z0XM/r5LqBYs1BE7KaZAFlxaFrH5aVgJ7YrIn9vN2w9RAnDMF5Vs/85UPMHvcPLC06DddMuBPntcnCSVc+gAdu/x0yvpuHF1a6WE6u6Au88ua3yDjrcgzVjTKMJfQupNiLFXElIz3lP+CVB8bjv6RYvv1e/LlnFlqfOxoP3PtnnLz/bTy3cIPjepmoKsJXL76B7zPOxKW/ay8cFdVNHZ8G3h29hoixlSvfwuotmlVjO1Yv+kCztr4AveJkh5nGF07Dtwd/wOtTr4Tp5udNOmPIyGl4fPbF2rTwdhfjSf2oThu2L/prYB1MoB/ue/Qe9PWjXFUoFAqFQqFQKBQKhStuvOU2FBWX8hl4fqEwDpWU4a933ClcapDvPsXag8eh7xlZ2nniKejZKwPff/whDmkuUadz1y7Awa+xUbf2YcXGr/E9snHccTR2L0o0Oxe3PDwL0yf8Eae3DIbb6IRB+PM9s3Dn0Gz2jd4Lw679MwZ0FBf1FH2B/z78X2xMPA1XjDgFycI51pCikhR7NUm1yUhPyom4dMIMTH9oNM6jhTIFyS3PxB/+NhUP/OVMZKALBjB5DetlojAlReW8B/HCRqDnVVfgpDThrqh2aoey8vBBFB7Mw+Z172KDp4VY09H/0jHQBle+i8lTnsNmvjfNQWx+9j5MFst89PprFKZCl1IcmdnxNVav9hpPPelIZ3HJf+Vy8w18wkwW2mW30kwLsc6lkYo8LJs8BIOueFJcz8bl8+bjrj5q/rdCoVAoFAqFQqFQKCLn+6+/Rgm24Y2JwWm7z6wpAXZ+ji8t9oa1o+JIEX7Z/oP9FOsegzCg2X6seuFN/FjE7jn4BV5441vg5EE4x2rUnRnlJThURM/7Ftst4pqckYL89wzTkvVm7EN4Zt5/MfvN0HU6D+W8imkP/Bcbk87En+/7C3qGzIeOHRSnWCsq401GepIzMpC88T/hcgqY8ZjN5PXMs/8TA7kERd/ijYfvxwsbUnD6Xybjz9UlMIUp8ausfH0kukqFXAtSxnXEGecOx7/XeNy1u9fNmHqXtiJq/ks34oxsCrMVzrhFjDDseg+m3hDBVGjjbuBNhMKwWx9cOGQ4llXH7laOlCJ/9Sxc3asjLp0q1sFEP9zw+od49gotTRQKhUKhUCgUCoVCER8E9z7QTNxT9gU+XleCk0Y8gAcemqozN+PXTXbj49W0f7YL1geVS+Mf/gf+/eJ7+L5AXDMj8TgMG3cnhjb+HM9MvA13TXoR+af+GRNv+FXoGokmhKyHePd9+Oc/2fMWfojv91pPEG79O9205H/djL70kMRTcMU0OTWZmeukXmE/Pv7XGNw/5zPgDBan+/9cNxSVcS6jEHr+JSiX2VMxjI96bY4Bd+jkNWGINluV8cuHj+CuiU9iDc7ENRMewDVKUVnj1Lpp4KVmG+XYko7+k5fj9dEDAxlR0rr/GLy+9AH0j/pU6GzsyPWoVDXQ+NfjgxsKCTNzpLjIuQ4zDdeXLLsE3cVVovTLWbh6yDgsltPf+9yMZzcsx8wLlaJSoVAoFAqFQqFQKBT+qNj4Ob7HKTijb3M0ysrSmVPQ94zm+GX957Afx5ON8yboFEjMTCdl54TRGOC0vmPGcTjvpqmYTvf9axbGXX0mmtlqOE7Dn3XP4eaRGXhgMnve32/GBSe7UFBV7cfa//wXaxOz0TrjW7z++DLsCVuasznOuOwvuPne6VqcYjTj2UjsFJW1TEYhlGD7m09g8e7maN1yP1Yx2X1lsrdVs7OuwHW3PoCphun+ipojzpSV3THcqID7cCO28DUZi/gvSy9dYb6tvD2dMWT6Mny14UO8NGcapk59Gi+xcL9aMg1DOgkvbmg+AOOM8SOz9ofgbuAHtR3AHx8eSTyDpLc7LbihEDN9szdh1XxxkfMcXvkkA311fvr37x6y8VD6GWMwczKtY9kZw6Yuw5b//RuXd1NTvxUKhUKhUCgUCoVC4ZcifLyapvWehZ4ma/u1O/M0NPvlU3z8nXCotZSjpGg3Nr73H0wbez9e2dkNV4ydiHH33Ix+Ze/hkbvH45lFX2D7zyWQY6sy2p2CE6pR6RU7RWXtpOLIfmz/9FXMnjgWsz8GBoy+G+PuvhvD2v6AF+4bg2kvrcSPe5i8qsQNGe1xUrfm1bamqMKZOFNWNkG3EOUbM326ozXfadu/kq1xt34YNnIMRt9xHYaxcBt7zYnp2ehljB+ZXp2Du4FHWxdYcRAbXhmHSwf/FYvpvPUFGHahpghdO/lcnPnHWVhtuW1/OnqNXowteT/gpTsGorUqeQqFQqFQKBQKhUKhiApZGPD3xzDzhjPNlTztLsHE2TNwxcli92jdtFt3ZKJdzzNx+gktxHnN8f2bT2DF9iycce1ETJ/8F/RtxhyzTsEfJkzHA7dfhNa57+O5ee9jt1R+VTM1p6iMHxnpyf/oGbyyrgidh96JB/5xN4Z1yQBS2mPALVMxfdy1OKPya7zx9IvY6H9jfkWMSDhcevSYsNce9ryMq7uO1JR3932Iw+OB6ennYjKdXzofW1680mMlqCcPr/6xI65/newPYGXpPejL3SMlgvD2fI3VX6zH6pVvYdGid7FZKiNbD8R9ry3CXSdvwuxrh2H8kuBU885Dbsbllw5E/1P6oe8Z2fCjM107NRWDeGJS8h7FXX00u0KhUCgUCoVCoVAo/EP7HphhXKfSrb9ImfrQgxg/8V5xFsdUlaPkcAmQkYWMGA9YpM1jShIz0CjWD6prKBkpokitW7OyXtD8AFaPvhHT50hFZTa6XTENK79apu3g3fA0jH59I76cNwb9hVZ2+7InMf2Gy/Hq7nRfikqFQqFQKBQKhUKhUCjiisQUZGTFXglGJDfIUkqwSFAyUkSR2qmsbHclXhK7ox0eT2sypqPJoIHoT6adftXGWkr6QIx8+Dr0HzkGM+ctw5d7dnLFZN/m4jqnCVdgLtmyD18um4+ZdzD/l07DDUOaiOuRk95EpCUzTZKEo0KhUCgUCoVCoVAoFAqFQhFjauc0cIVCoVAoFAqFQqFQKBS+qDXTwBUKRb1CKSsVCoVCoVAoFAqFQqFQKBQKRVyg1qxUKBQKhUKhUCgUCoVCoVAoFHGBUlYqFAqFQqFQKBQKhUKhUCgUirhAKSsVCoVCoVAoFAqFQqFQKBQKRVyglJUKhUKhUCgUCoVCoVAoFAqFIi5QykqFQqFQKBQKhUKhUCgUCoVCERcoZaVCoVAoFAqFQqFQKBQKhUKhiAuUslKhUCgUCoVCoVAoFAqFQqFQxAVKWalQKBQKhUKhUCgUCoVCoVAo4gKlrFQoFAqFQqFQKBQKhUKhUCgUcYFSVioUCoVCoVAoFAqFQqFQKBSKuEApKxUKhUKhUCgUCoVCoVAoFApFXKCUlQqFQqFQKBQKhUKhUCgUCoUiLlDKSoVCoVAoFAqFQqFQKBQKhUIRFyhlpUKhUCgUCoVCoVAoFAqFQqGIC5SyUqFQKBQKhUKhUCgUCoVCoVDEBUpZqVAoFAqFQqFQKBQKhUKhUCjiAqWsVCgUCoVCoVAoFAqFQqFQKBRxgVJWKhQKhUKhUCgUCoVCoVAoFIq4QCkrFQqFQqFQKBQKhUKhUCgUCkVckPDO8pXHhF2hUCgUCoVCoVAoFAqFQqFQKGqMhN37i2pUWZmQkCBstQ+/ca/N717bqTp2DJTxzURwjF0j2djJJ8Gh1BzzKVqn8OMZSllKX4kxHWs635N8OSRjzcYJuDuQGHJX9eM3bylqDqe8X9P1itsyYEZSUhI3su6keoDXpfSP3pviHnnwjviJO+G3XvL7fFWurXHKtzy/ifQ3Hgkn2Thd95I3jGFROQhtaUz8eIirE8a4ejk3e08zNyMyznT0Gn+9f3qWMT6JifYTwPymlxNO5TKWfTXKO3Z1phvZxJLaXmf5aQ/5lRjnPbeYxdNtuTD6i1Z5cgqnJvMuPZviR4bsMi7lFRUoP3oUZWVlOMqOlVWVSE5KRmZmJjIyMpCcksxeTHu3hERWNyUkBsKpqqrSwqL6ip3r8fquTv79XKc6pfxoOY9zZWUlKsiUl6OCvTud03tIyA/Vv9SvS0lJQXJyMjepqakBd/7OzATS4Ri7n70+XScj4yKv0z9qD8keAoUjrHbwu8S9Zu9p9+7RwBjvWD9PoaGUlT7wG3eVyWuOUGUlVbay/tMqVJKNnXxqWqkQz1DKSmWlWRrWdL4PNDYkY83GCWs8LVDKSkWkOOX9mq5X3JYBM8yUlfSfqI4y7yfuhN84+n2+KtfWeGkPpRz08nCSjdN1t3nDLBz5cSYx9eMhrk4Y46o/N3sPL9etkHGmo9f46/3Ts4zxUcpKcWKCG9nEktpeZ/lpD/mVGOc9t5jF0225MPqLVnlyCqcm8y49m2JHcaRY8LgwUyWUdaSolApLOk9OSUFmRgbSM9KRkpwSUOjRffI9KCxpSGGpfzuv7+rk3+91fVzpXUhJKRWVdKT3ltekP3qnRBauVFxSvUyKSzqno1RMSiWlvI8Mh0Up9ItL5BF2j31sQ+GhiTDN3tPp3f0SeB9BrJ+n0Ii5srIuC9Lvu6lMXnMoZWXsoJSl9DVLv3jI88HGM7SRNDZCVihlpSJSnPJ/TdcrbsuAGYlJiUhK1JSVvLNKNawIrjrKvZ+4E37j6Pf5qlxb46U9lHLQy8NJNk7X3eQNszC4G7tV39IY/Tmdu8UYR7M4O/lxc48ZMs509Bp/vX96lv55ZKe6xI5I08stTuUyln01fR1qhhvZxJLaXmf5aQ/5lRjnPbeYxdNtuTD6i1Z5cgqnJvOufDaPoYinvq6pqKzA0bKjKC0tRUlJCVfgkYKuQYMGfJQlKehk2aT7AuGxsEjBF+/KSn2dSnHWm0oW/zL23nSsrKjgacEVmZVVQSUtuz+JGQqHRpumpKQiRYy6lMpMgsILwKJE7aB8jiUs7nax53eK+83e02tae8UY91g/T6GhlJU+8PtuKpPXHJTpeWND1adODIGKiDnaSaemlQrxTDBtg8RTXreSsW0DqkMpKxWR4lQOarpecVsGzKCOq97wOkAEVx3l30/cCb9x9Pt8Va6tcdseShkYj074lZ2RkPCYXOVHmh6rZ3qNizHfmuVjN34IN/eaIeNMR6/x1/unZ+mfR3aqS+zw+jyvOJXLWPbV9HWoGW5kE0tqe53lpz3kV2Kc99xiFk+35cLoL1rlySmcms678vkUS4ornVFdwxWR7JwUdKVlpSgpLkFJaSmOVVUhJTUF6WnpaNCwIVfOkT9pCD76kPo+dC7cCK/v6uTf73WJ0Z98D1JK0oCTSlJUVlSivKI8oLCkY0VFRcCvTDO9oWni3J6cxKfR05R5+bUlR2saCaQhi5Nd/LkvnV8jbt89Uoxxj/XzFBpKWekDp3dTmTh+oUzPO4JUherEFKiImKOd9GpaqRDPBNM2SDyVBSsZR0v2sUYpNWovjm2GQ96Kdb1i7Ih5gd6NOq7S0Ln82K6O8u8n7oTfOPp9virX1ritc6UMjEcn/MrOiFN4dte9xkXmW2P+tcrPdvnc7Jqdf4mMMx29xl/vn56lfx7ZqS6xw+vzvOJULmtzX80vtb3O8tMe8isxzntuMYun23Jh9Bet8uQUjpt6JVZQzOjpVLeQnRSRFF9Z38h6iBRrNCWaRleSqaiooNuRlZWFzAYN+AhCCocr8phfuoeUdPzNde/v9V2d/Pu9LuNK6P3q00Cec8WlzlAaHC0v51Pm6b3lu0t50718hGVyEp8yTwreZHZMZunClZYsfP6Fxf+HPpsfmQm6hqNPW7P3NHOLJjKeklg/T6GhlJU+cHo3lYnjF8r0ZDQRUQUq6z/R2WYOdtKraaVCPENRl8pK0zIQTOwaIdDYGGRs5W6kpmVT2z8Q6jOObYZD3op1vWLsiHmFOqrUWZcdfqWsdI8q19Z4ybfS7kUefmUnMQuHyoDZR5kVYded2iNDvrXLx0553Oy6m3Ih40xHp/czovdPz9I/j+zyw9kKr8/zilO5rMn+gJNsajpt4h0/7SG/EuP0dYtZPN3K3ugvWnnGKRw39UqsoJjR03kcmCFlJW0MQzUtucl6hwwp4kg5V1JcjCPFR1BWWoa0tDQ+JZwMjSIkKsRoQ3m/HuO5E07+/V6X8STk0UxexnDIDxnalIeUlfTO5SxtyNB0cam0pHQk6H5aHogrLVM0IxWZtDkR7yeS4b415DOs4FfEdbP3NHOLJsa4xfp5Co2YKytruqMRS5wyqcrE8QvlOjKaiKhxkfWfqCiZg530alqpEM9Q1PkHmkn+JzctmWvuBQN1jkHGVu5Galo2tf0DoT7j2GY45K1Y1yt+2mO6ky/Azjqicu1Kqge0Au/87n7x25fwGz+/z1fl2hov+VbavcjDr+wIszC4G5OrvkUx+qMzvejDwmH50i5ryHxrzL/y3K4M0rn+ecbrhJmbERkGHcPi74Dx+frnkV0pK61xkk1Np02846c95FdinL5uMYunW9kb/UUrzziF46ZeiTUUBx5LEVcZJ/2R+2HXpcKymBkabUmb7jSgXcIzM5CWmhbwR2s98vt4CBoyPLc4+fd7neLJ4yj8yaOUGSkdJUY/EpomTv6k0lI/ypJ2USc7uR+r0sKUU8RJWSnXtpRHMgGlJcWL32GOmbz0mLlFE2O+jvXzFBpKWekDp0yqMnH8EtrJokpb1n/u8mNNKxXiGYq6mbJSnmvJXHMvGKhzWHz0MbRyN1LTsqntHwj1Gcc2wyFvxbpe8dMe051KWRk5qlxb4yXfSrv+6CRbv7IjjGEEztmjZYti6ofFTR+7sLgYrhuhdzO+n/5clkErP/rnGf0QZm5GZBh0DIu/A8bn659HdqWstMZJNjWdNvGOn/aQX4lx+rrFLJ5uZW/0F6084xSOm3olVshn8xiKeJKbrG+ozpQbypAbKdUI2iGcpoMXFRVxZRyNqszIyOAjLNPS03g9T++tV/YRXt/Vyb/f6/K9pCHkUcrNSn7kj67p7+eKS52isqJc25in/KgYdSlGncowpaIyhaVfqhxtKRSWtHEP2a0wysyImVs0MaZLrJ+n0DBVVuoTXwrGKBB5bhRcfcIpk6pMrFAoooFZnayIP/y2CX5lG8vw+Z0299OzZfjU+ZQdfHJzipfCmXgu97HO104YPw4JL8+08svztPhwlZi9q9HNGJ5TXMKus/BkiPKK/gn65znFx+y6HqfrZujvkWnv9Z2NGOMhz+vygAe/OMmuPqdNNIhl+skfESLFa9zc+Nf7cfLvdD2SeqUmsYqvmTuNrjx8+DBXXBK0hmXTZk2RmpKKsqNl/MdaSh8+ypJdpzBkOHSUaWcMW547pa0eYxiEmZsTXu5x45em1VO7KaeJ02hUUlqSIUUvvSP9o+ng1FckxS/fWTw5RdughxSYVPezZ3G/lCb8HuZEhrlLQ8jyxNsL5qT5D7pLvLynW/RhepGdwj1KWekDp0zvdF2hUCjcYFYnK+IPv22CX9nGMnx+p8399GwZvvzlnPcqmZNTvBTOxHO5j3W+diJWykqJPnyzd9W7mYXlFH7IdRaWU2nRP88YH6dzI07XzdDfo5SVNYeT7Opz2kSDWKafUYniFa9xc+Nf78fJv9P1SOqVmsIurmbXSOFWWlaG4iNHUFpayuso2nCnUcOGSEtPR0V5OfcnRwhSWlE40pAiz6xfJM/dyEpiDIMwc3PCyz1u/VIelyNU5TRxSjtSXurd+PuyMCncxERtJCspfmnkJdlJaUlpLA1PHXaPPOrjQ+Ea009ep6PbuHtBH6YX2Snco5SVPnDK9E7XFQqFwg1mdbIi/vDbJviVbazDdyLw6zYpK2laj4iPU7wUzsRzua/pfKdXJkq8PNPJrz58s3fVuxnDchOPED8sLKvUdHo24XRuxOm6Gfp7ZNpE8t56rOJdn5WVkchGT11Om+oglumnlJXxg11cza7RrtakhKORlYePHOFKS0qPRo0aoWnTpvweqrdIWUn1IxmpaJOKSh6OIWx57kZWEtP4mbg54eUeR7/sMvnRt2T0TmRotGkljbCsZKZct0EPc5NpRcgfvMnQxjx85CUpLkW/Uho9xjKl9yOPfsudGfp4eJGdwj2+lZUKa1QaKRSKaKAaw9qBU53vdN2vbGMdvhPUEeRdVBYP6lTqFQ1OcVPYE8/lvqbznfzA0ePlmWZ+9W56u9m7kpsxjIiez8IJCd14LrBKb6O7k1wIN36M6O+Rae/n/QmruCtlZeTU5bSpDmKZfkpZGR+Y1Tt62Zi9BykrCVJY0jqWtIblkeJiVlclIDMjkyss5S7hNHKQkKMs6VxuJmP2bMKLbE3jZ+LmhJd7HP2yy7zlkkcGvRN/L+EmFZN6paUcaSmnipOh9TBpZKXcTVzuKK431EZQih0TO7rrobjGQkGpR58eXmSncI9SVvpApYFCoagOVGNYO3BqE5yu+5VtrMN3C8VDjiTQOpKaElMROfFc7ms630VbWak/N15zelfC6/uS75BQ2TPMnmL1bKO7mzhKvPiV6O9RysrYEYls9NTltKkOYpl+tV1ZWduxqm8It8pKqqUpnWg9Rq6wPHKEK9pIWdmQpoSnBXcJJ+hI9WVdV1Y69vfYJf11ShOumGRHaac0JcOVmNTGsDSh58oRl3RMSU3h08VDlZaa7GQc6ZzSUxq5+WM00YfnRXYK9yhlpQ9UGigUiupANYa1A6c2wem6X9nGOnw7KGT906njSIuk0w7h1GFUykp/xHO5r8l8R0iFmR4vz9T7lXar+2P+riz8kCcYzxl2cXCKnxGv/gn9PTLtje/tNR2M8ZDnSlkZOXU5baqDWKYftYm80YwQr3Fz499LmLU5b1nVNRK9bMzKIFeKsfcnI+snWruSFJa08Q7dQzuEN27cmO8WTuekgCP/ZJdpZwxbnntJW2MYhJmbE17ucfIbiD/zRn654Sd0jbUZLC0C18jCoHv0703tCil++RqXZHSKy2NkhF9KfxrFmpqWhpSUZKSlpnHFZeC5zEh50lE+L5rQMyReZKdwj1JW+kClgUKhqA5UY1g7cGoTnK77lW1Mw2dh24WuD5s6hXKXR/oFXCo0VJsZOfFc7mOdr53wq6wkpH/9Udr17+f1XT1/IBnLme7cTfnxWsa8+if09yhlZeygNLCTj9O71+W0qQ5imX5SgRIpXuPmxr+XMGtz3rKqayR62ZiVPzmy8lgVq9uZnfo6VA+SwpJGVx46dIhfz8jMROOsLK6wJCjNqD6r6xvsBOLPvJFf3oIJO713WJvB/eiOOsgPKShp0yJSVvLRlhXlfOq4XOeSwqV+Jpn09HQ+VZx+KOcjLpkbpbmX9/OKPmwvslO4RykrfaDSQKFQVAeqMawdOLUJTtf9yjam4bOw7ULXh012igvvNCplZVSI53If63zthMxferw+U/qno95O6N/P7l2Nz+TnzLt9ydHBwg7zqXMzPpvO+RNN4ukWv/eEfXgKjOdOmL0boZSV1vJxeve6nDbVQSzTTykraw59mTIrX07KSrpO7qSkpHQgO03tphGDcg1LGmFJyrSsrCw0bdaUj/gzytwYtjz3krZm8TNzc8LLPW79yvfgR3YLtWR0L9Xp5CYNufGp8RQsJZG8xk75NbrAzqmtqayq5GuF8hGXQnkpR2BKJTCFT4pKGnEp17mkfii5JyWzI5NbNNGnB8VbEX0Sdv58MJCy+gSXSDfjNTO/hJW7QlGbcMrHxkbHiN9y4FThxTr8GoW9m5+3c5KNX2Jdx6nGrvai2j8NWQYpPeToSl6oVdZWRIi+XiR7pPWkvM8Ynv4o4ecs39p93NAdNC3NEna/U4tGYXAfsu3TtYFUhmJZr/gN25hmhJmbG8ziEst3r2mc3i3WfRlF5HCx2OTzWH8jSEzrLIY+fLsyanV/rHHM+3bxYLf6+UpwerZf2dC05UNFRThYWMjbBlq/kqaE06g/GTYdydB7khKOjqRMk4o8P0QSfy/32Ppll/zIxi2UQjztKitDlJbySGlKyktqu0lZKRWXdCSFJa1dqSkwSQYiLHYP76uKsM3kIN/dLA38yk1hjVJWKhQmOOXjWHdEnCq9WIdfo7B3i2Ut4vcDINZ1nGrwai+q/dOQZYzSQykrFdFAXy+SPdJ6Ut5nPBLGMPk5y7exVlYGkG2frg2kMhTLesVv2MY0I8zc3GAWl1i+e03j9G5++yqK2MHFYpPPY/2NIDGtsxj68J3KqFUYscQx79vFgd3q5yvB6dl+ZUNxJ4UZja48ePAgV6bxEZZNmyIzMzOQN/TvqB9t6Pf5kdzv5R5bv+ySH9k4QSmmD53OSWGp7Rwu1rks13YTp3QnxTFdl6Mu5UjLZFJcCuWl7KPSe9Hu40wIWuA66Bq/TkpQ0d7LdJDXyNjmW0XEKGWlom7C8mEsc2J1dURihd8KVZVzhULhBNUTfOqN6AgqFJGib7PkR51X5D3Go8T0nGVbp2ljxvsiQvZZrI4xwm+5NHv3SNPDLC51ud5wejenfqai5uBiscnn1fWNYFpnMfThO5XRSMtrbcUp7f3KhqY0JzFDyrJfDhzAgV9+4cqyxlmN+QhLUlhSv4jcKiureP1OaywyQaCispLf64dI4u/lHlu/7FIsWyzKqRS6WRyozNE6oqRMJGUlpaXcmIcMd6uo4Pmd1hpNTkrWRlumpWpKS3GujXANhk/Fg2RF4SYmJmkOOsg/RYdMJXu+XblXRIZSVirqJiwfxjInVldHJFb47ZzE8/s5xU19AChiRX1u/3iRok4gSwNZxsiudfw0o1BEivHjOpI2TN5jPEpMz1mR9qWsZPe77o2w8sJ9yiOht8cAv3WW2bvbpocNZnGpy3Wq07upvkr8wsUSYT6PJqZ1FkOft9yU0UjLbI3AXi2WtaLfOkfen5iUyJVnNLpy//79XFFGispmzZrxTXeSU5K19RcrK1kbw96IGZKD375SJPH3co+tX3Ypti1WKDzXsjTTx0naqf6k9CclJR95WVWFkpKSkHUuZXrL0ZXpTC4pzC5HYCYxGRI04lIqK+3erlaVo1qEUlYq6iYsH8YyJzp1IuO9HPitUOP5/Zzipj4AFLGiPrd/VKT0b0/ljGphShOprKzP6aPwh77NIrvXNkz6Nx71GN34Ocuy1aKsZGWD+7I6xilu0tEtZvVDXa4znN5N9VVqL9UlO9M6i6HPW1bl0ereuIe9mp9aMdZ1itxsh/o8NGqvoqKSKytphCUpykhR2aRJE25IScYVZ5UVfB1FusdJDrGIv5cwbf2yS7FssejZlDo8jUzSScZNHqkckt+AqdKm6NNIS5LFUXakncZJEUmG4HJL1UZbpqal8eniUplJIyzp/Sh8HhcRLt1LR/KniD5KWamom7B8GMucyKon+mNJvJcDqlT9oMq5QhFOfS4XVKOYvT2liVJWKvyib7PkB4JbjPcajzJfGsPk5+xSTJWV7NmBq9Ju5hanmL27bXrYYFY/1OU6w+ndnPqZivilumRnWmcx9HnLqTxahRG3sFfzUyvGuk6hvg4RUH4lkfKyCoVFhTjwywEUlxTzTXeaN2uOho0aciUl7XJN70T3yvusiEX8vYRp65ddqs4Wi+Iio0NHyrraupOaG5VDq/hQOtOalkfLyrjikhSYtJs7jcKkMkBhk4IyLS2NG1JEaqMtk5hMk5DMjHwm+Zf3KKKPUlYy4r5iVniG8qFV3nWDU0fD6brfcuB0v9886+t+FjeashBLYlkm/com1vWF3/gpFDUBlQrKuTL/yjqSzsmodSsVftDXu2T3Ug9Lv1bHQJ41hMnP2SUnZaUvqHzYHeMcY5oRZm5uMKsf6nKd4fRuTv1MRfxSXbIzrbMY+rzlVB4jLa9+sH0mi3osa79Y1yk0spK+kUgZRqP4SAEpR1AeOXIEvxz4hSvGUlNS+cY7jRo14kowfq+4z45YxN9LmLZ+2aVYyo7nGpZ3ZBzoqI8OXed5S2QveV2aSkpadk3eQ17lNHEyJBc58pKOcvq4Fk4C39GdZCkVlzSVn9a6lM+pojUrFVGnXikra6JCVtQMlA+d8qLddaeOhtN1v+XA6X6/ednX/Sxu8aysdJRNIssbPhrTWNcjfvOOQlETUKmgnCvzryyHdE5GKSsVftDXu2T3Ug9Lv1bHQJ41hMnP2SWlrLTGmGaEmZsbzOqHulxnOL2bU19GEb9Ul+xM6yyGPm+5KY+RltlIsX0ei3osa79Y1yk0so+eQCMqqe2gdyVDzyXFZVFREQoKCnDo0CG+hmXLli25wlKOyHSSRSzi7yVMW7/sUixlZ5U23FWkMRmr8kfffwRNB5dh8Xu4gpkHgcqqKj6N/2j5URwtO4rSsjI+4lJOF6dRlbSupRxxyTfnoRGXLAzq5yqiT8Lu/UUm4rRHn1GNmdZ4Xt04FfJoUtPvWt8JkzVVOMIaYo8Eurn6slKtI57zvt9OotO7xbqO8ft8VS/FDvmLtzGN5blKe2v41BnWmZNppC+nbtKtOtt2RXyhl71dPpDXjP7N7tG7JeguG++lvJkgFtm3IiQsfV5mVuqJhDxfuEnIv/xINYP8OpWOkPCjzDGKr6F80vMCz6SjzePpfjuMYTudG/H77nrZRxunuJNgY/h43/DY+5FtPL8cwzbvxLlsHPO9rlya9YmdZOcUvt9y6ZT2zrWeDSxuPu52xLFcO5CcmITi4iNcYVlYWISMjHS0atWaj7IkQVEvk55BaUQj+8guR17SaD8jkcbHeJ/f9+KwIGKb+rGF50uWDtqGR9pISUpzGmlJsigpLkb5UW29SzonUlKSucKSZJSWno6UZLk5T1BxSWlL4fFcb8j6sizQMTCYRvsv3IVF3l8PqTPKStuKL0bU1LsqNEJkzmQRIg3juUdk465kbE48p4tZx8wLTu8W67rG7/NVno0dcjqIHv25SntrlLJSESl62dvlA3nN6igxnkdLWRmWj9kp9UQCYYrzAMxKI2/s8j/5t76qYXyfaEJKDWP86HmBZ9LR5vGOCi1D2E7nRvy+u1JWWsNj70e28fxyDNu8E+eyccz3hnJp7Bc7yc4pfL/l0intnWs9G1jcfNztiGO5diCJj7asQnFxCd8pnEZaJicnoXnzFsw0p0aBb7hD61zKGSlSMUbnxrSLND7G+/y+F4cFEdvUjy36AQkyPSi9aWMdPhqTyaSqqhK0aRIpMOVal6TQrGQyo7dPTU3hmyiRSUlJ5TKTcuTh0T8xspPcqF+clMzFjrIy7fl0jcuZ0lPEhd8vwqhv1HplpbHQVifV/a6KUEJkz2QRIg3juUeoMtE37ErWocRzehhl5xWnd4t1neP3+Sqvxg6ztNent0p7a6hDJqdFEfpy6ibdarKtV9Qsetnb5QN5zeooMZ5bKSsJnjVtRj4SdE9YHmanlr0Q3TW6zy7/kz/rq26gjx5hjQClrIwcp7iTYGP4eN/w2PuRbTy/HMM278S5bBzzvaFcGvvFSlkZOY7l2oFEFjtSTtJbFhcXIz8/HwcOHODKrVatWqJR48b8GfI5pECTP5QrZWVsMUtbzWjnpGSU70cyIWVlWVkpSkpLAyMuCbqH+ry0tiWNuqS1Lmm0JR1lOsswJfRovts4f14wFbk7V6KyZzP510dqpbLSqRJ0jQgn0tCq410V1gTyARNDsFgzdIWcCNg9yMtO4aXkHt9pYCc7N/h9N6f6SeWf2otTJ1HJ1hpKG66spNGVolaW6ekm3aLW7itqHXrZW+UD6W48Enb30znlSKO7hGdNB2VlCMx/aA9Eh8k1yvt2+Z/8W191g1JW2qGUldbw2PuRbTy/HMM278S5bJzyPYmG+9F50/eNa1pZGVNY3BxezxeO5doBam8IUlgmJCTyTXdoSvjhw4dA045btm6FJk2bIiMjFeVHtRF8pPSivlNFRUXY8yONT7TCCYEFEdvUjy18TUsqJiL/0pHSRabNMVIasktBt2MBZTL5PSoUliUlJdzI0ZZ8Mx4mQ220ZUpwrctk8eM9C5Nkz6eBUxqSEe7ScEWml75IHaLWKCt9VXziXh8hmBKrd1W4gxrekEqRycOLRAJ+TeToVuFVX/NAPL+3W9lZ4ffdnOoqVW/UXvSyNcpRydUeSh/qiPERlnJ0pUhPN2nnqw+gqNXoZW+WD8yuWx0l+nMrpQrPlvTHS9km7yH9EsM5oXejcqHZTKGrdtedIcWisEaAUlZGjmO9xi7H8PG+4bH3I9t4fjmGbd6Jc9k45Xu97Ix9YjqP9bv5Kpcs8n5rvVjiWK4doLu50ovZUlK1jVloSvj+/fvxyy+/8GVHWrRogWbNmyM5KYkrwmhEJUHKSiORxsdrXesKFkQ8y84JfRrIPKw/0nqjQcidva24hY7klabsl5dXiFGX2uY8R4+WaVPFSZYsDDnakgxXXKal8nwgiw09iz+X0pMFzA1z1yaJ1z9irqw0nntFZhJPkJCFNXK0EMKerzv1+24KH4QlvagefcpEhmFs3J2ob3khnt/Xq+yMxLrOUvVG7YVka5Sfkqc7qFySkpI63aSw5G66suKUjhH1BRR1Ar3szfKBdHM6SoznRqWKlhVFfqSDyzIelofZaciHm/GcQffY5X1+xRA/b9BHj7Ca4Fju6OEGP5R+gTSko034Na2sdLrfr0LN7vlOzybh+nx8TOGx9yPbeH45ByjqPO/HKY75nv7ovPB30Z87yM4pfCd83c/iZqwnPcHKnY+7Y05QNlrdLPtDpNQqKSnGrj17+Ci8ps2aoUXz5nzTlsqKioDSUpsSHMSxnrHAa13rChZEfKe+PTLfyrSgI7lJ92QhKz3adW5j/mkNarpPMyQqGm1JU8VphGxpaSlXWvK1LtmR+sRp6Wma0pI26aHRlkzGJP8kGk0rkpLC4WVYxKu+EdfKSk+VHWUWYXVG+GQHp3vs4uDn3RRRhsnCSRqB6y7kRrmJd7Q8yLg+5Yd4fldeEzgVbBv8vptTvaXqjbqFkqc7eJ3K0io5iXXAxIYltP6PxCkdPfUHFHUKvezN8oF0czpKjOeg6Vc8+2l5UG/nBxdlPCz/stNAr0RvJ0Ku2fdd+DVDdPW4KTdh76vD8X56uMFPSJh0tImfUlbawC77fHxM4bH3I9t4fjkHKOo878cpjvme/ui88HfRnzvIzil8J3zdz+Lm/EVnAyt3Pu6OORQ3bXYJ7fZN04erkJgY/BF3b14u33SHaNq0KZo0acKVV4RSVsYWmW9lWhjThEbE0vuRu/4S3Ue3JibSYCdyoHuDhq5Rd7eqsjJkmngZs1dWaDu+kz8aZSmniUs7KUC1eB1DosgH9Y24VFa6ruQocwirNcyH9j8CdB0ywhBIJO+miCIy+ZkcNGtk8uB3GWRpbNjN/FhRH/JFPL+jUXZe8ftuTvWXqjfqDkqW7qFyQenF116SuytTURXlxSktXfcLFHUOvezN8gG5mfkxHgm9PUC0lZXMKnslIXYi7DzkLAx+zSTKEjflxvSdBY7308MNfkLCpKNN/JSy0gZ22efjYwqPvR/ZxvPLOUBR53k/TnHM9/TH4IW/j3BTysqaQ1uzkupQbVRlaD1xDJXswr6f96Hg5wJ+vUXLlmjWtClXXMm1EfU41jMWGO+LNJwQWBDxnfr28DUj2VEmsUxrmTZyzUpCutFRJh0dae1JklMVu5dCC9zL/sklkAhag5IrLotL+IhLGnlJo2sJuoX6ymlp6WJncW2DnnqrrNxT4FNZKT86dOive8VVBcf8WPtiV7T/ARJZfFKTk5DC4ppMJrBuVjCDKeo2lK2o4qAKpIJVJBWVVShn5mhFJXeX8OwQ/BOGdilY+VjhpwwQTuXAKXxfHQUX1PTz6zJ+805MZcOCpsY3UviTbZ6v70zHI/KX77oIl2oM057yHWVNGkGQxNrjYKeNOu304MjzVTyg6rzICdZZ2gecrAeM9YHR3W2a60ei6O+ReZLXauIo0Z/Le6z8mIVjPEYKpY2/NkFL00jRnq0Pg+zGc2E1wWvcQ/yT1de7O2OrUGOPdrhs70ERvzjIltDXFUbiXfY0Ws+uXDph9+5usE07nnj8T2xwkC2rUR2e7lBnyrm5FsgNdCKlqopG2iWiqKgQeXn5qKgoR4sWLdGyZUu+1iFt2qJNN07QlGLCEHxdcLG+pRW28aNLNnUuv+xwv5+cw0O2F148FzsuEzucylXhgYOBkZekuKS8QN8dpKhMTk5B48ZZ/EjnKSnapksEKUgp7KSk0HUvZVmT0aJr+ijSOfnj8WLu8bqBj2dlpVEQ0VJWOgmQQwkqrGEYrtFCpRmpSUhnwiRFpUJhBSksS8srUHK0ki9+K+G52CIvk6Lb6pqeSMoC4VQe/FaIfqnp59dlIs0zkpjKhgXt1M2zgz/Z5vm8Fo/jrKOUlZFD+Y6yplJWKowE6yzKC/wv/QkcxZUQO09vce6Ek7JSe34w/2nRCZ5Lf3o3Qrrpr1sdI4Xi5q9NoLQS1gjQnq0PQ0v70HNhNcFr3EP8k9XXuzujlJX1FAfZEvq6wki8y14pK62hPqz90x3qzBgrK6mfSUoq2qSFdgo/cOAXlJSUckVVy1atkJmRiYrKCr6Mjtx4hzZ1ocdSv8pp1KxSVsYOp/bOqVyRbEiWcnMeGnFJRxp1Sf0YCj4pKVnboCcjHelp2gY9fNQl61LTsgIUBxkP/eNk1MgtoNxmjjR1XX7aVAS7SnFFXCgr3VSK5n7CKxRSTmamJiOdGYXCK6VHK1DMDCkv9WhZOpivZR53k9e9lgfCqUw4hemmTPmhpp9fl4kkv+iJqWxY0E7dPDv4k22ez2p04Sk+UcrKyKF8R1mT0pB++adOtZZXqR2nB0eer+IBVedFC61fp68LpN145NdcpLvej9G/Vl2G5r1wN7rHyU/QTX+N8rifOt1ve0Bx95M1g2VUO9fsxnNhNcFr/EP8k9X3+9ujlJX1FAfZEnZ1S7zLvi4rKx3vZ5fsYs/v9JM2DlH3q6yk6b8VtPkK6ytRfUjKyr17c/kIy8aNGyM7O5uPrpPrWJLiidKb/JJhZ9zdCqWsjB1O7Z1juZJyFGlM+YAUlaS8JPuhQ4e4vLlymkF5ID2d1rdM5wpMMuSWnEx5hwfH/GqzSilcGnlJyGiExIce6RD/msKTstIoBH5u8guDk7D0uBFcuI/wzlF6ShIapjNBqVGUiihAoy0Pl5WjrFyrECQ8ZxvLAf9jn+e9lAmFwg9Oec2xzrWDBW3bUXGAP9nP82uYulyO+ZvFVDQUuNaZpjUrafYDTWUidy1P1u609VWuFAKtb8d7fSZH4SPczUXaW/nRinQw7xnPjVhdl+5Wx0jxX+ewlHJOHku05+vDILu/MO0IeV+y+n5/e5Sysp7iIFvCrl6Jd9nr60cznOpMN3WqHbZpxxOP/4kIx/vZJbvY8zv9vJ7DyEq/4VMdSPKjvjYpLEnxXFR0CAUFBSgsLETz5s34tPCsrEag6b+kyKI+Ff0ATOsgOtWZSlkZO5zaa8dyxa5TGPo0pnukIcUlKa1LSkv5qMujZUe54pKUkaSIbNCwIdJSaXdxGm1JikvauImMlm5VlTR0MtgvMUY3TgdWulNWGhM/5NyHstJJaGbXjW5J7FlZmWnIUCMpFTGg5GgFDpWwysCQ78zyuFO+d1suagNO7+JUthXW1KV84hWnDnZNU5dlw98s5mlPDxDKSjG6ktyow13b01bVeX6gjriwCru+LtCPEpLuXuoKK9loWS6Y76zO9ffb3SPtZm6R4r9c6NPWO9rz9WGQ3V+YdoS8L1l9v789SllZT3GQLWFXp8e77J3qR6f2yul6TeJYpzrI1rfsYqysJNklJdKu35oSKjU1DcnJNMKyCLm5e/l6hk2aNEXz5s355itUZ0p5cbk71JlKWRk7nNprp3JFOi3yQv64XxYchckNu05L1ZGNrpVXlKOstAzFxcUoKS1B+VFNcUnKSZoWnppKu4prG/RoykttqjgFy4LRwmdQlGW841ZZuXf/IfuUMxAmiAiVlU4CC7vOzkNc2HlmWgoaZ6bzhFYoYgVlxcKSMpSUlWulWocxrzvlfTdlozbg9B5O5VthTV3JI5Hg1MGuaeqybPibxTztqQPGug1CWUmjKwmlrKzvaPlCHmU9oD/y9GX/hS/NPdI0Z1lN/8GlZT3rc3qO0Y3Qu0m78egX/+WC0k5YI0B7vj4MTRZ+wrQj5H3J6vv97VHKynqKg2wJu/ol3mUv60grnOrOiOtWF0SrbrTEQba+ZRdjZSVfKkeMqKSRdBQiTe2lUZOkkNq1azeOHi1DenoGWrVqhUaNaIQl7T5dheSkZFTS6EoblLIydji1147livWF6R15GtN/Fh4PUTtFpegrczeG3HmcpoiTOXLkMMsb5SgtK0WFWM6ONuKhUZa0tmXDhg35aMtk2rCH9cEpuhQlWuuSP0P0yeONGlFWeq0kQ8+1TlKTBulokJYi3BSK2HOkrByFxWW8cPNSLTDmd6f873S9NuC3jCusqQv5I1KcOtg1TV2WDX+zGKY9pR3VC2RoQW9aJFyun6OUlfWb0PXVtD6evi4wjqzkaR24JixOsOwV6OLr7Fq2E+6CcDd6hrkfvV87t5pDS89I0cqlPgwt/f2EaUdIPUBW/XkMUMrKeoqDbAm7uiXeZc9KqG38nOpN1/VqBPitEx3vZ5dsY08X7WTrUOccc4g6v+wj+biikgIQYcgRltRnSktLwS+/HGTmFxQXH0FGRiaaNW+GzMxMPhqT4q7WrKw5HPOOQ7mikZV6yLvW3mo/mMrdvqnPrHejfZbIXlEBlJUd1UZblpTyJQLk1HG6h/zSSF3KL5mZGVyBSfmK+uQUQLymrSdlpakQPCorbQVFAhFWDRKGsDLoXtqFuVnDdKSlqGnfiuqH1rA8cKQUVbySCOZzbrM5N+JUocU7fitkhTW1PW/4Qd9Bi0fqsmz4m8Uw7SntqF4gxRP9eksjAJSyUkHYKSvpyNPW4Mb/e0lzlr3cKCuN5xr0HHM/ZnbjsWah9BPWCNDKpT4MTR5+wrQjpB4gq/48BihlZT3FQbaEXf0S77KXdaQVTnWnp7rVI37rRcf72SXb2NNFO9k61DmxVlbS8ytpt28WhjZ1V9sdnKYA09I5NMry0KEi5Ofno+jQIT6ysm3btshIz8DR8qNIEhvvWKGUlbHDMe84lSvWFw7AgqLwSO9FKyZRyOUV2jRw7THas/RhktJR/whSctPaliUlmvKSlhAg/2RodhMpK0lxmZ6ejtS0VD7iMh5xVFbKCs8oAHluPHKYVWZmfSLaCSn8mr4zpNlJCM0bZSBFbaKjqEGosuAKS/6BTS6iDPA/ml3mWWO5kZC71bW6Du1mVrC/AEVFB3H4yBGUsYqUGuHqhqagprEKumGDBsjKaoIWzVvwRr8miJc0iSYqfesWfuVJ9Z3WSdJ2JaQdwYPrVhL6Nt+eoqIi7Pt5Hw4ePIDDhw+htKyMr9VTW6F0SBdTdGgtqpYtWrE0zhJXqxdK258LZNoervVp6wdjnm/ZgvJ8Fsu/dDX0g0FvJ4znflFy8Qf9MELrdzViZaxxY1bGWrZEFpOlHVyGttrMyOCy/PlnJkvWHnFZsvaIb3xQe/Fch/GiYffOzIOTVsiC8LISH+kr82DDBpRGrA2lTVIc8mCsKDpUyPIgbdhCfaLD9bpPFKznqW5g9byLuiFWFB0qQkGBqBtILrW8bgjWC43QpCnVu/b1Ai/xNlVurOpk97D+ak0+3gfU96ZRl2Ws76ApL0tQXk5KcW22EynGG7AyQDuKk/JSG3Up79WM1q8JPTdz0xMcBRq53sOVslIqHiX6h0l7SASY1aisDFdGBjFeCzlndjojzXLzLKWoVMQHpLD85XApz6s8p4eVieCHt1nhNC03dZy8/Dzs3r2Lr7XSvk02WrVojsZZjZDJKkVq0Kob+tArZh20wqJD2FewH7tz8/jw+PbtOyC7dbbwFVviLU2iiUrfuoVfeQbrRaoYgzuC06gBOtfXmVbszd2LHTu28w58XZKnWdrSR23Hjp3Qtk1b4Su2UNru3LmjzqWtH8zlQnm+I9pkt2F5mnyFKi0J47kflFyig5UsO3bohDYWZYzLMYofxntzc7FzB8myfrT3tnUYLx7RVVbGe1mxyoMdKA+y+qQ6yM3Lxa5ddTMPRoqSS+wwTVv2Th07duajQY3wEm9T5Ua7TvZO7VVWSqgPTnKh6eGlpSU4UlyM0pJSvuYl9dOpT06jd6kMZGRoG/RQXa6N2gyfBUXKdG2ZgiS+ERQNDuUKSj6gS1NQUjef+vdOfXwrPK9ZSegjKu0hkWdW18pK5q6/ovent5OiUk39VsQTfEr44VJxZiwXPGtrdv4neI0wLTd1FBrV9tOWH3iCnHRCV94QxyvUkH7/4xYur+O7nhizkYC1KU2iiUrfuoUXeWp1nU5ZyTo+NLqSRlYGr5HPcGikzKbN37HOT1W9kadMW5oy3+3Ek2I20pLSdvMP39ertPVDMM8n4sQTu7EPSpKLsX3nf7k9UpRcYo9elt26dQ8bTcXlGIUPYy7LzZvrnSxt6zBePKKjrKzNZcVYn8RqRB+N2Pvhh80sTVV94gYll9gRUi90PzmkXuAl3qbKjVadHDm1WVmpbcaTwPJ0UpJWt1ZWHuNKStpZ/GjZUW2DnvJylB+lNS4reR89LTVNKC4z+DqXdD8pNKkPT313rb8ThJKHZWfR19fwq+vwvcGOPA9xZ1aprCQsFZUMK+Vk0H4MWZnpaJCuNtNRxB/FZeUoKi5jNmM5oPwbLANW5YYwXqtL7M3dg2+/+xZn9OyBE7scJ1zjnx+2bsOXG3NwysmnoG2bdsI1OtTWNIkmKn3rFm7kqdVzQYUkV1byDg8pK2l0pbmykkbGbvhmQ72Vp0zbnqf2Qvt27YVrdNi9Zzc21uO09YOUy6k9eobIRWvO/bXpSi7Vi60sfX4Y795NsvxGtffGOowXEf/KyrpSVgJ58JRT0S7K9fwelkbffFu/82CkKLnEjkC90JPVC+07cDde4m2q3GjUyf6ovcpKqWqgfrbUsZEb9c1ZN5y/VmVFFd+Uh9a3pFGXpaVlfAQmV1wyTzTCMi2NpolnaOtcpqZyxSfdX8Wq8wpaU5OFJ/UaWvjcKp6r2b3ia4Md/XnINYqcluUCCWKGo6KSHTPSUtCkYbp2rlDEIYVHylBSVk6FgJ9blQtj+dFjd622smPnDtYY78I5Z52B5k2bCNfaw/4DB/HJ51+yDkoHdOrYSbj6o7anSTRR6Vu3cJKnsY6jczKa0pKmOYUrK7dt38qnfdd3ecq0palTx3WOzkfNtu3bsHOnSls/BOTSoRM6M7loWVzf5vO/If1bJ5RcagajLAkuPx8fxtu2b+fTvpUsTeowXjb8KSvrWlmRaUTTjzt36ixc/bGdtZ80vVjlwchRcokdgXqBpetxx3XRqgWbKtdvneyf2q+slARVbcEXkiMuyamiopIrLmlpAjpqG/WU8OvUd6ep4qSwpBGXco3L5GRtt3KCjvqw/eg5ku4cN36SsFsiPyokxnMi5JxZpbLSitDOW9CuV1SSFpemfxufpVDEE7Q8QclRbZFallm5m8yz/K8u/1rl5bqWx2l0GzXEA8/phyYxmr4YazIz0tE2uzU2fvsdkpKT+MYKfqgLaRJNVPrWLZzkGagT2ZGssqlPIGUlH1kZCo2o3LZtq5InQ6bthpwc1hlM8T0lnEYjbd+u0tYvQbl8y3fRzMpqzN0pf2v53Vu7ruRSc+hlSbvpUhmLQIQBaETl9m3blCwF5nWY/jvQiH3i18WyElKfJGl50A80cm/HDpUH/aLkEjsCafsN1QvJaCzaUCv81MnRoUYf7hvSU1DfO6iu0AYMyP4KKSjJTkpLUjympqbw0ZTp6do0cFrDkupv2qzn6NFyrsikEZjFxcV8rWC6n0ZhUhg0CIHCITvv77NHOOkGrQj/QjCgvUBkhCokgxgVlfJUr6gkW1aDVF/PVyiqA8qijTJTtW6XyMMyL+vdCHdlonZD6wXSNFz6xbBRgwbCtXZC8af3oPeh94qUupQm0USlb93CSZ7B9lxTWHJ43Rda/9EaZDT1W8kziExbmvJI6RMpdC+FodI2Oii51B2kLL/J2cjXkosUTZbfKFkaUGXFmUAe/PYbf3mQ3UthqDwYHZRcYodM240b/dULCnuoz52SoikiqS9Om+DQGpZ0lNdpkxztGq1nqU3t1ty1DXdIUd+qVSt06NABHTt2ZPaWfFQlTRU/cOAg8vLykJ+fj4KCAhQWHkRxsabApDBpo+xIcRxZaVQWGs8lIe5ktdK9GJQygdOghd+anprE16pUKGoDKUmJKGcFsoLvfkUu4vcDUS4iKke1lO++z+ELRXdoWz276Pmh/HARjpRWIjElBWL0exj0y19aaiq27diBNtmR7cxb02lStHUdNvy0B2WZ7dA0Qzi6pawYRcUlqEQaYrHHWe1P311Y9dxCrPy6CC17d4b978JxgJRnIpNnDDaZtJIn1W1Bo7lRs89HVtKCNzo2bFyPk47vUivqkBAObMW6nB+xp6wR2jVNE45uKEfxvh3Y/N0BpLdrykqaOTJtt27fjnZtI1s/a+M3X9ds2pblImf999h+IJF1dBsh9vucFmHr5xvw494yNLJJWz/o5aKtyee9Ha8WuUScPyWxT0v/sLJUdAQlZaxdT2PtunAl3LSDUpZbtrEy1q5dJKJkH90ba2f9VQ2E1GGUvpZQwpsnfmzLisg/5Yksnua1U6DfaMhf0SKYRjvQtm1ka3qTwv2kE1QejCb1Wi4xbreD9e42Vi9Y92143zGCOjl61OjDfUKb6VRp/W72Gtqa8VqfXLrp++YSzS8ZzS8dk5Jox/AUvmYljbhs2LARH3VJ10k5eaT4CA4dOowjR46g7GgZKsor+PNo9GwkJP39nvGTEhI0BYuZ0f4EoYiYEeJu7oWje3+WGPJMU1DyI7ccQ5MGGTwxFIraQhIriCVHy5lNfowHj/yvroy4Kke1kLz8PBw+VIQ+p/UULtGgHAXrl2HBCy9iwRsL8fobi/DOO+8wswz/+4R9fOwqRoN2ndGmgXnzaf2BkotlUybg0Tc3IqXPAJzQUDib0LxpU2zdsZPvXtewoY1HE2KTJt747rXJeGbJehQffxHONPaRygqw9bsc/LhzDw4ltEKLRqHpmLtsCiY89gY2ppyJASd62L17/VO4cdIzeCe3PS46w75jJtOXGrO4St8q9uFyyPjhYvyY2Yr3nlqEL3en4OSLzoT1m67HUzdOwjPv7EF7W3/yY6iMT7GwM64VjjkLMHbmfHybdDo6b57F5bmvo0lekOQtxaQ7/4kFXyThzIEnwOue7Xp50g7hWr1G7bs0+l9z5S+uWt23N3cvCg8eiF15ke/G6xA7o5eTUNKEdNRN3Da9gslzlmJ9aVdDnmd5ZtePWP/DVuzZX4a0Jk2RGdJn24i5d/wbi74qRleHvEFpu2U7S1uajtaIpqpqHUg3JjcvN7ZpKyg/vAs/btiMrXsPoappYzTWZ9KCj/DEzAX4cGdj9NHnLaFEN8vneuP9R5Pv8MrkZ7DUmLb7VmHWg4/jjZxUnN6vMzKFc6To5WK3K76R6pSLZf50W96rNuCVB+fytOx44ZloZ9Fdsa6/gj8Mrp9zIybNeQd72hvqId/5gJWl0Q9j/op96GgoS7btoI5Ae8++QbzIktibm4uigwdjL8uqIuz6+G3Mf/E5vPzK63hzkVZvLVv1Ib76oQhJ2e3RsYlenSwVzXuwx2j0ymsP7XYIHtt7KisJSbRciE360tp0BrM3b2+M01fkn40pFmVB9hvD85cz7vsAgTyYmMDSiPWJwtLCovAxqD45VFQNedArlmU7WC/kLpmEvz+yAF8mOvQ3TftmERJBXzUhkeXdhhbxC5OVZnJZ3j1UVBhDuYi+aVj6Gk0wvSUFny/Ao48/jedfZd9XS5fhw40FaNLtZLST31VW7bYjuVh6/9/xz5e/RNJZzt9ZWhtqXS/wbG+d9asBc9kGTY1GzgHqB9KGlt4TkXRzUmWnt0sFJCkt0zMy0CCzAd8xnHYQp2sVlRUoYWWeRswWFx/hG/bQ+peUjtqu4lpc6JtA6iI1pSj5IMUqrWvM3HMP0AY74qmmJAYuay8YjpW7Ef1UVzO7PKaxjm3zLL9dR4Wi+vnlEGuIyyu5XZYLffmwsutxW57ikS++/Bw9uh2P9m2yhYszuYsnYNLm8zFj7ADgg2kY+7/umPTg8EBHbtNLYzFrdRFSsntj6HkDcGqvttrotcK9+GbjKqx4dz1yK7MwYPQMXHUSvyUE+ih66kug901P46bewpFDjegkLMprg+EPTMJQhyjvzs1DzuafcOYZZwkXd0SSJsS6p27EgoZjMOua7tj0AjsevgpP39RHXJVQ5/cp9tcK7d3aLDZPg9wPZmHmq5tQpFvnPqXTcEy4eyjaiN+KqPM4aXEu2gxjxwulVMqx6/2n8NTiHBSUsXsadsA5147GVT116+9QB/ApFrMzbsLTN4QkvCnVmr57F2HCA5tw/oxxGIBVmDZ2BbrfPwXDjQM76SP+/kXIzR6OSQ+wNOGOIs0DblIGvXHT0zexvxbsWogJD61AAVrg/IlTMELb/NAEmS/FqQ16eUo5hSLydq4mC5LhjXia+wsvDzpM39sbUp5nnSnzrPwxUkInCaxjmogk1vGX9d5naz7FKSd2jWodEoJ8t1bnY8zYwbAey5uMDNYPSeF2o8wt3MzyfHEO5j/8KD7Zp51qpKDN2cMx9GQ5DncLPvjPKmx1ykMCSttvf9iCX/U7W7i4I5K0RdU6PHXzAmT+bRZGnrQJ88fMQvHVLO+YFdOqXKyaPRMLvtdP5WLv2v8m3HV1D00haJG3zPNvOPp6SNbtlnA5wLx8RiGPG7GSi76/a4TyfSzzvGMaUbo80BGLXKRF8aePYsy8HG7vce0s3H62WT/drv4KtrVW7XIk+SAU6/rYui8QjibLn9CvXz/h4o41a9YwWXpv7z3VYaycLf3HFCzaUa71i34/GH26tUBqaQE2fb4cS6lPVJ6CDhdPwMQLZAgyXUzQ11em7XZs2vtqS1+37T3HJp1CCM9f5btW4KknFyFnfzlLpEx0OHsURl/ZA1mBcTfWedMMmUZ9+hj7fUTw29zIus8jSCMv9byUtRt0dYp12Q7WC+b9TRNc19+xy7t9zrLIu6S0MhHOunXr4iTvhn7zFFF98/JWIKsLBgwZiI5lX2HpO+tZX7UDht87EUPpWVbpXZSDBY/NxSc7ilGemIIWJw/HTTedjw5ax4nh/TvLrm/Du4k8feMV63JZ12E9fP7umgISqKisRFlpGd+Uh5TkdCRFJf0Ak5yUhNTUNGRmZnJDU8kTufZcSzzqMx2rohC1/WsCVWgkUCfLtWLForNmVFTSsUF6IJcrFLWKzDRaeDY8T5th5V5boTXqjh4t89hJL8fWHQXIZPdQ12HndtZgdumq63jk4JOP6MO3N0befxOG/qY7OmRl8XUzsjp0xzkX3oRJ17LORVURVq3RPqKMlEtFXAX9KUduzjrWmSOTg52s8+IWei96Py9rK0aWJsRWlhasn9eOegkF2Lq9GB06ddEuhdAVg/8yCqO4GYHeTcktC70vNbqZsHUhHnt5E4panIOb/vEYnn5sBsac1wHlOxZh0s034sYbNWPWuSz6YCYeei0HhU3PwYhrzkfXxF1Y9fj9mLuRRhZHRnWmb/n2nSjIbINsynTbt2BrYhd0tdZasfxVjMKiIv7rYFER65QJZ9cUb8XCeaSoJAqwYt5CbC3mJya0wdAHnsbTT1ubScOsu+Y9rpmBGTOkuQvntxIXbKCPeClvbqhTShfyWF7QuzPj9hvFTJ6yz2DVbaD0pUW6vcnTqQ6JkOQUoaj0A6uXHidFZSaTyyQ89uTTeOwfY3B+B1YPfboQc/8zVxhSVLqH0ofSycv6TpGlLYOVlS3IRkea9baP1UvFHWC1ef+uNx/jisrMniMxaTbLq7MnYkS3FOSufhRz19iXmjYXTjLN6wFjol3qep6s50ZhRG/t4zOr94iA26jzunK36qL65OI+z4fWB2ZmJHoIv9aUo+Cjp3D/86yNbdgGbRqylvn5+/HURwU2dSEpZILyu+kM4WygcLPWHm89IBwEpFAMkb80ZlpG+pAO1FHyY50+3I1u7tFkWRaBLCNp7z3WYRsWcUUlOg3HJOoXndUFLahP1KoL+lCf6L7hYC05di1ehPWBHyJD5cHNA1IZWs5Hw1L8iw6HS7QoRu19daWv5/aeoB+zTMsLq7/N2tQDqzBz6kLkFLXAOZeNxPnHJ2MXq/fun5djU0bskWlEbWiw7RRG+DFCayJGlAc91PPoMVJLizvORws616eVdGNtAD8fe34gH5vV8Vb1giPFxThCx7JiaPsTmxPTvMvS2i1FTIbVlndJoWhI51CjVxrm4uNVrL5J7IGRD4zDVef14d9VU+4cgKyqXVj0jk3NWbUJ8x94FKt2JaPr4JEY0a8FCnMW4qFpS7X+YwRoaeutDVXEB1QrkaIyMZHWuARSU5PQoEEmmjRpgubNmyM7uzUz2XwTJdp8p6SkmK9tSRtObd++Hfvy9+Hw4cMoP1rO67iUlGRmtF64K2WlrBwlxnM9Vu56tUxQSSOO8pwdaep3eqpSVipqJ+mpyXw6uD5PC4v2N3Be9yjYX+C9g4RdyN3D+uWsY06N5hbqo3fuqF3idMOp/EtqPRbN+wRb9+kUReWsotv6CeYu1hrTHid148dQNKUfsfk7UmYWYP1rUkGwEOsNH0hO0PvRe7olsjRhlOUi90AWunZiPZQq9g67MtGxM+8CGshCl7P6oA83PdCRz+RqgI49g25txOwuI5s+/YSlRibOuWIkejdldW5KFrpfNhojeAe1AwZcF6oECFCVg7cWM0FlnoOb7med8t+MwJjxI9gdxVj3zir46WJUV/ru2rOTfwzyXCc+DPW5Lox9KzBr7FiM5WY+zNXi8uNY92FcVY7c9Qsx695pWLGLRrpMxMRhHVgEVmDa/bOwcH1uUJkuKV+PuWNvEx/Z5sZu5FFKQ6HM56YCu75ch3WbC8VVc/RKH24u7c0/mtG0N0bo3ZkZ3Jnf4gpNnj+LMz26PgSrE2W9uO/nfRHI06kOsSBEpibmBRMphyhvhZzLdiKH//hhks77PsbHP7FjjxG46TdtkMKahpSm3THi6vO19O13u/h4cB5lY4TSidLLLZGlLcuOebkoasrKB0V4x07syuyILqYK8E344GNWdlm9MOrmc7R6J60Dzr9uKKsbgJyPPvFVN5iR1UXWc33Qo4O2WUGDDj0Cbn26GOouM0J+iDAzrM0xllEbqkcu7vN8SiarBzKOYtObs/HgRJG3x9+PmfM+xl6WC7MCo4cZMi/nsHqJnZYf3oVN7y/AtLvHYMIL61HUsDdGjp+ESeNZm9GwCOtfmIAxd0/Dgvc3YVckP+Iwtn6gtcfLRTsdEa3Ox11SWRJQvrKP7zA3b5Bcfv7ZrP4yh/xGUsa81mG5e7Vhq2169UYLs6+4Vr1xOkWjKg+5gayoV94KI3+Uoh/QZljUezFu76sjfT239xGQs3gRtlax/tRNkzDyvHMw4m/38r5U8Zq3sMpjP1MPTyP2Qe+WgoLI0sh9Pc9IydT6F41F3ZGYicayzyHdpJ+Guu95mgZuqF+LLSqN3MWTeB6dtMS8r7N13Vot7x1Yi7XUxpoR674qS2u3FMRt3s3DTqpOWnVFF/1A+eO782diD/sW4Q7hFP1vIT45zL4WLr0XYy49B+dfOwk30Wh71r9dYd5JdgWlk5c2VBE/UFe+vKIKtNTAUWYqK6v4yMj0DNqcpyGaN28K2qCnDZNxy5ateB1Bm/fQBj37f9mPvXv3Ijc3l5WXAt4vIwU/wZeKkspHK6PHeK6HrgWUMSJcToiCJmiXztqBDyBFRmoMdnBQKKqRjNSkkDzNbdJC6E7MlJe1VaFZVHQQrVo0F2cOBEZCTMMK1pHLmUfKmUlYytqnrS+PZXap8ElBn5unYFT/LqyvPR/T7h2D22RH+zb2ATVtPtZXdsGAv0zB7f10nSJB+frl+ER0FKnTuHSvftTaJAz32Heg96P3dIunNCFoOgq922hSiBVhxTRmv3kuS4tifPIvZr8/8l8sjZQU09C+xmgRogPNEucVaNw5VAkQIG8LNtOtPU9HD/mh1JR9HJFGYscmfONhtKqR2KYvTUfR8s6091k3NWc+z0uTlrAPgZ8WYCyzW44azNb/Um2lWKJ8SAq9wayTl8s//m679TZMemoFNiV2wfm3TsXECzqgw4UTMePW85nvTVjx1CTuZ+yjq8SoS0ZKNwz+00gWzu0Y96D82Bbmkcd4HLTRCG3Q0WTozfqntHfkZs5LWE6K+Q9YJ9cGvdKHTPfEAvEhwGJ1fOi1LlYjdU0g2dCOgHq0foU4YVB1p9V5x3Dw4AH38nRdh1gQIlMTYzYdLGS0jVCAHFiPhXKEpEM6RxNKJ0ovt3hKW4YcbXsbTfs9sALTKK3/w1K0+BPMYvbwj8gSGuzCMlMLNNcrUJq20EbaHBYjYVwRrviXCppsq40JKrWvXrEKi3uclNZjp2OFh+8mM7loed7cxD7Pl2PdnAmY++l+tO1/EyayvDvxmh4o/24RZv1jIXYJXxyZl1+jKYDAlrdmYtZrq7ArsQMGXMPqrWk34RyKanP28T+NwhmADjRS6bVZmPnyZh6EV+QISuOAyZB6TG/MKunEFGRKZUlA+Wrm5g1Nlu7bI/LrpYxFWoe1aat1XHLXrUOumSJ97zqso+KSmI02RoWT2YjBa84P9ouMgohxex+79PXR3hOW9cIsk/ogF1t+YomU2AOnB7TiWejdmxJpFzZ9H4kaX4PetzCGedB7PR85ue9PD0vP+RvFRQNyhPyI3uE/0hcz+c3/gMm0YSYyWU9l1fOLsMssieMp77J+ULXlXZMZMUYTvD8bHak62bcldLbP1i1a29CuTWBkrJFNP5GPDjhdN6W+R28qAMX45vvI+0Ja2rrv2yjii8QEWscyiRsagMinhbMuPm3uQxsRk3tDVnZbtGjGR1q2bduWm6ZNm/KRlKWlpVxZvXvXbuzZvYePvjT7Tc4S6liZITtdEn5O2kqBXvUS0MNIizhqh2N8ZJpCUZvRRgbTaCHtPKB8lHmd/41fqCjLMm1lzDh85AgaZ7lcdlmOhGAfTYERELeewzoe3TGCK2h0IyESW6DP1eMwhaYVPjZL18mehcdY5/qxqeNw1Vkmow73f4KnXliPYvahdf7FfZBJUxoeeRSf7BfXI4Dej97TLZ7ShBDTa8acx95HfFRMurQL62ANwO30zropNWGw9+O/kLKOzs6QL9Agcspdzt5ydD2BppXn4qscrpbSKF6Htd+TJRmF24XfXYb3zc/lH7JtWuk7Xi3ER1EO5o8WHSLb3pQ5Mn3N8pxmhEeBt/Rtg/PHBvOWNj3ydpzTEOh+2RSe7iMDmS4SGqM7V+h1YZ8pbXDOBQPR+7wRuH3cDDw2YxxG9NwSUMBs6TkC42Y8hhnjbseI83qj79mnawodTiY68JGxPdClFY1MyGDSYCRmiFEKBWK0THM0NlEchkz7vGaUNvXPaYE2PUXr8NISmYF2Yekr60LWNPWCdXkhQer6CKxupOrx8OFD7uXppQ4xw7FDPwlLNf1YEP0IEqkA0Ss9jenc6tf49fHsmLMQT32kjaItP7AJC19aoSmD1zwqnuWgWDWBpy1LL7d4SluGlo+0KY8tzhvD7JMwgr1LVv/bed666zxjTdQVXWlUdh6rN/ZqLpycb0BqrMwuHa3rLhcUHipn+b8D2rQWDiFo02iJgh1b3Y3wyx7qMFVOGud1tvTEVC4R5fkcfEUKgVYDcOWlvfkyKh36jcLwXsxtfw6+0edxmZfFmmTdr5iCWY+JNvY3HXRr7zESWTi/uQrjpj6Gp598DNOv621QCIaO5LNfNzNIm/Pu4vnLyYTnP8HenUIBy9pDfT6MAE2Wh8WZM+TXSxmLuA7rNRzDO7HUzluKKQ/Mx4qNW1FAI9X2bUXO+/MxaSr9qJmCDpcMR2/jV15IHZaFDLpekYdNYjRtGLFu72OWvt7b+/JiGu3XFVeLPGZvrkZXSnM+NFCMYG3VhrXKQVpka626poSOvJ4/ZJZGYX0jzRw+4i0Peq/n/RO+xEN4HStHyPdoG1qrFG2cjymPrEIu69cPv3M67qKZKqwcPDR5PvRdWU7M+6pe8m519FX1o8mD94e76+9vg18PYN8CVSw9aLbPR+vwyZKnMGnmChRQGv/equ/I0pbrsWV6ClgZoBxT9P40kefdrb+uh6ethzZUER+w6odPASdDdmkktKEOrU9PVLG+MPX5adRlWpq2dmXLFi3Rrm07tM5ujWbNmnG3yspKHDhwoBrWrJSKGgPSVTtqf1loSDPf3k+hqDWkpiTxvMzR5X/zkkBerK7ULspKS5GZni7OHBAjIY4eLmSNW0d0oU4zsxc37YCupKAhRQDt9iemigRMCV94UlCBEuN1Wm+Jdsn8aC4mTGSdF5qi8PtRGHHBKNx1cQekHGYN8sTb8NC7Fto8B+j96D3d4ilNCDF1puIw62K164juzF5SqNm7MXvIlBoj323iSgFi/bp1ph8ecsrdwvUFyDr7QvRhnZ9dr92Ph15agXUfLcSs++diPf91dRdWPSf9GnuAdujWyxxotsamPbFOXz5FurQQhayD1bErs6cx+2H20d2lBU/3TKvkNZv+awN99FR0/DUuO78vOrLvFS2fymmSMl+XsH5eR/Q9/zIMPoF17qzmQ+1bgek0CmHGCtY9JFpg6PjHMGvGKPQxmeIfmAaewdpSu4/QMMpR9P1CPDSe8kAm+6CYgpvOyETx+rkY/4+F2HTAXSh67OQpOzKaolKrA0vLytzL000dIryGIBUE0pitu8WNyXqf+infn29i+ciJLAy4lX1ktCpGzguTcNvNN+K2u2dhBat+MnsO18oJNwPgtbRQOlF6ucVT2jL49OGsClD106Fzd2YvQeF+oGPnblpZCct77F1/3weZLJcunToJTy35hH/0THj8E+0HoyGmX1cMk3o+rKwUoe3Qcbj3/tEY2FBc1yvQi5k85LSznA8cpl3q1y32YLa6qwdjKpeI8rxQIu9bj1XfF/F0Ld+3Cms1DTI6GvO4gI+4um0Mxtwm6z0bc/NtuI38zaGaUX5omxmbNXRle1+mb+OtqSgzyQeM3PXaqFD6UWfdZ5G18xJNlu7bI/LrpYxFXIcltsHQu6di4jXno1vaN1g6ZxomUBtx7zQ89e43SO52PkaOZ9cHmyiaDD/S3HYnjXB7CLPEaFpv+G/vY5m+Xtv7nBeCI/5cG7PlQgwE19GNrJ6nNfzk93bAiOtGyK+nNPJcz/tH/mjOzfsLMZf1NR+dOhYPBX4kNVBOO9kvxVMP3IaxrD0pSGLtyZ13YGjbFLS58A7c3r8NUvZ9gkfH3YZJc5byutq5txKFvqqHvOtZLhH1VfWjycnI+sPoHnp/1sBxmEJ5M2ULVrwwF/PfycGRtudg1APjtM11IqHLAJHnbdbNt4DSyUsbqogvqlh3vrLyGB9JSaaKNsphbglCkUl2cqMp4qSMpP4/30QnKREpqSmgNS2zW2ejbbu2fOQlrXmZkHeQdgO3g0LWFJN6jOcEPdDoXkXqU0FAKcOO3CaO3J2ZtNRktGhsmHKoUNRC9rNOdNlR1ukWHQsi0MHQnUvMypOZW3WgPdb+2YGyrGPFyuW46uKLxJk7cp67EY+WjQLtcr31tbGYlncxHrv9HK2BpSlSgTWVXJI9nN3TG+semISl+9vgnGtvw0jdqMuizSvw0utbcPrfbkKfTG+71EkWvPU2zh80WJzZE0ma0EfW0ocm4JOekzBlWAt88uhteCt7HGZcZtehKmb+xmB+TiYyGxaj+DD7mGHvJncMtNwFtWgTls57Hku/K9A++tjHU5t+I3Hbn/oE1sIK251RyqW3JjfhC4vuZWle0Ae3PzlK+zXX4w6LEkrfwecNEWdGtEZPElH6bpyLGx8vx6gnWR7YvhBjp+Xi4tm34xyzTjl9QB8u0fZmMhIY6UgjiEiBGdzhU6a3Jyidzlrr/Vd+yvMPDAWsdtpsNRST/pCLSSxc093Ay2ka51v4+MvN2EXK/pQ2GHDDHdpumVVFyHl5Jp5arSk8U9r2wDnnXogRrHNv2lc2IShPEpy2ADdBdYhmtLouOTkZS99bEt06JARZ3sWpS7R8nydkbIJIf64WsMzzLB/t2oKcPE3hldm8O7p1ydLFMTwPuYHS9sILfi/O7Fny7jvey8q+pXjo3k9wKu0+2px9DI5+C23GzcAIm6qoaPNSzHtpBTbnkcKRfSR16oOr/nIV+rQSbyvrj0C6yXf3QmidvfW1CZj2fgG69OyBvI05rKIbhSksP2hLcBnTNrJ84KUei7Vc3Od5wf51mD97Pj7J033CZ3XH8BtvxNDjWSqFyYTl2OIihPw26IZkVifKr+DyYsOPi+YkZ4gP50jae0M+IKX1UxNo2ZQO6JCxC7sOdMFVU8dhgPhYtmwHbSBZDr3gAnFmz9J3342gvY9AnhFBCp9NoQrJtBbo0rkFUpGMDKnYyFmAsS98BfS8FjOuZi15NbT3MU1fL+29KW7qZlmn9NaeI/tOtMP7kgL0ufVpjOpJLpHX82FpdIyWXRN2He8uWxr7et5LWdXVKWa7gadkZSEjCWjQvCs69LkQQw/PDe1vEmUs3e5m6VZK/dOrMOqSc9DBsBxx0Y5P8NZ/F+CTveXIPPt2zLq2evLu7wab5F2T3cDfW7Yspnk34j6n7n1pk60Sw48/AcqPoPAwq89TGiO7rdZ30Z7Zgn1r6HYn/5yl5X9YDXzxFEy8gL69Iv/OMmtD+fep2g08bqE+vZPugi7rvVA9pn0H8DNUHavSwhF6iMqqSmdlZQK0IZtWiBGdHDMFht5N2vXHY1UsUsKelZGOrAYZ/JpCUZs5VFyKQ6VlvNDy4kZHUTr5kcqAOCfCC3dioKB6ht2W4Ksyp/jZPJtfCm/RVq5ciUsv/B2SaBswW5w/Fr18TJhSVozixMzQXx/1H0/8o4rFJGc9dpXQtFvrjWj00K9Ary95D4MGDRIu9rhPE8Lpo926sS9mHYQJrINQfPxVmDRkC6Y/vg7Fzc/B7RNHogd7z0g+0iRhykpsxcK7p2FFYQ+MfIR1nEgjsHUhJkxbgYKeo/DYrX20j54IOoAyfX/7298Kl1B4mdBlTS/pa9ZRDsFtPGmReDn6h+ejEvER2ALd+RRwH7j8wA9BKk318eLoPkCFLEyVlbQ26ozxWF7eDX1/cyEG92PvoC83jPIDW7Huf0vwwZrNSBkyFePOc/eWXsoLrXOzYuUKXDo0dnWIbWfcguQ0D6NLIvzoCSoS3OchnrZL38PvhvxOuNjz3rL3XKYtQ76HFboPUM+YKMbCCPmRQJePTShmcZ3A4lrc/HyMe2gwdj4yFgt+AjqcNw53XNYFmREqCCJFymXIYO0HF2OdZYQ+Yi8dOqR62k1ZR+iVisS+VZg1cwn2Zl+IcX8boI005uRgwd3z8FWYu0Rcx+m49h9XiSmHAqc8JHCKc3j7Y0FVLlb9azoWbC5Glytn4PYmL2n5ohVrB++JrB00ytKJZctJlm7b+0jk6XyPKfr6qCgHi15fi4IugzGqPy3eZ2DHKsz93xYgcD3G7X2M0jfi9t61Ii60PuFK5veL0OPaWbidNhmpYuk2kdYi7YFR/7pdzILwXhfJNDr/vPOFiz0r3nfbhjIirefLcpGzcRf0SxxaktEBvXu0sai/aTS1rp5vmImSnEV47UvWEp5xGYbr1kIspwWR01k7IBTBloT0/WOfd88fFJ53+eec4Rts+YrlMc27vn9cclu36PJE+aeP8rVOW7C2dgofTCEHTbTA+ROnYASvXmS47pWVWtouwwW/C/ZtAu0oS1ZtmFu8Ur+VlbEiaspKvVJSoncL2NmRbPKcj7wUbs0aNWAfBancXaGozZQcLceBw8XaNwprufSKSs3Gsj0zeiVlqMJSq/DClZguYLfUhLLy408+wW/P6YdGDZxHR2tKg28wb+x84JoZuLbXJrw2fi6KryA7taHBaQpufzE0/QCpKsKm/72ElxevR65xVgGNIuw9HFdeeT66u9QwHTpyBP/7ZA1+fc45wsUeL2kS6LjlLse0maw7e8c4DE7/ALOnrkN3srfROnPGzhqt4TPtSdrZuwOG3zsRQ9sWY/1z9+OpNUU0/wgjx4xCyju3Ya7VR1rYx0koZh+LxayTMoYWZG/VByMGN0bOWyuw6TDroIxjHRT5a3wEHUAtfT/DOWebp6/xw99T+ooP9W+eH4v5GIkZfzoVm14dj7llV3F72Ae8Hhph+OaTWLB6KwqM+SiFlN3Dce11A9DBeDvPf69h0UebkLdft/MlTfdvno3uvxmOy37bPXQtOMau1XOxfCvQ9bejMIDvzu6egg9mYdqyvWg7ZBzGDBTqBSELc2Vl7PBSXkhZ+dHHH2FgDOoQa/QfS+weJ8Wk/NBv2heXXdwjXKlolecj/AC2g9L2A5a2AwYMEC72rFq1ynXaSqX53mXTMGtjb4wZOxgNVs3GQ5935/a2gVHFZhRg1b+mYUleW1x4xxgMME77tVRWlqNgzULMXfwJtu4Pn8SX0rwLzrlkVHB9Ylru43/zMPO1HD7NXKv7mHvxesy9/ymsY9VfSvb5uGNiVyy/zUJBUF6A9csXYslHW5BXWBScUszyQVZ2Vwy8YATO793CUlFqhszz/c89l587KStXr15dDXk+NJ9bEiZXoVwJk5UkckWwneKweNcnWPrWB1i7PU9b2kXC5NLhhL4YePFQnNOBNA8a5fvWYcHj2sjRTFb2prCyR1dzlzzE6rpdLCO0wfl/m4Cu/7vNk7JSlrH+/fsLF3u8yJLwLk9awoB+YNXOtvxvLlbRBsEDR2FgV2s3NO8e3Blflj+rdtmkDotlex+z9I20vbebTcHZi+UzaJMdQ54v/gSP3kkbI7ZAn0uHovHGhVixuVinyCG8lxdZn5z7m98IF3s+/Ogj930iX/V85JTvYn3O5xchZ4dc7iMI1fMDrrwZI3SKSj/Etq/K5PLr8LzLP9sM32CrP/ww9n1Vx7wrMf+WsMekLZAK+f2Z6D54BHoULcXCNQWgtfdn3U5r7xLelZWyXhg4cKBw0bWjLFmVsrL+kciVJzbGrpMVCSEyFApL/pfZk5M8lRyFIm5J4rtf6apUkdeJkDJQh2jIGuHCIneLIgfXY2mDricwexprZMuz0KZd+HoqGqxzcYfZGlhiMxoLdr3JOmGvrUdh5+EY86C2IQ8t6P3YrCkY8/uuKPxyYfiOqDbQ+9F7usVLmrBU0daVKSvkiseu3Zi9spylUTbadKZ0Ce9clH8/Hw/SGj7IQp8b7hDry2Si93UPaOv4FK3Hx5tL7D+2f9mEdWvWYd1m8xWrGnTojT79+qC3blfwzLPZB+F156BN4TosfGEFtqT0wPCxE2ynh7pBS9+Gpm0RGWN75Cl902g90KMoPACWnl2YPQPlJeXIatWG5zlLRSWD8tGjpD3sPQoTxY7cWj6aiJsGdsT+LxfgoTnGdUJZJ23qWJb/1qGozUCMuHViIM9OvHUE+jYtwLrXZmEs3wwhlAJa04nJZNMvwsED5cWFKDpQhEL9Gphi4yZaLF/Ks3szcS2GeC4vDRu6lqf3OiRIAfuQfHQ8bXpwG/soC64/NoYW3L/5Nkx4dCFyzDbiKt6J9VRW1u8039m682BtnabzpJZAYFwnM8zIhfDdw9OWpZdbvKRtyNq5HbrytXPLWb1Ei+d3pbJi+wHL5MDyX9GBQhSbjWKVaWHYLKx8zVOY8Nwq7Gp4Dm6ayOrqJ8XmC08+hinjRqJ30las+s8kPPW5zNdH8M2aHBTTsgW3yrqPkdkbo6ZOxIiTstC4x+noYhXVshzMvXsCnlq8Geg5GDeN1TYumDFjCsb9ZTBOx2YsemoC7nouJ+yD2g5K40Y6uVAvgH6ctzLVk+dzMF+Xzy1NYF1cA5abUZHixQJSAJjeoxmrHyDLN87FhIfmY8V24PQLbsI4vtEMMw+Ow+3DTge2r8D8hyZg7sagVFIqCrBzH6vXzx6FCX/RFJVEmwsnYspfzkGH5l3QPeyXJGdiWsYY3uWZgjY9aPM1zXQX09sbd7N3Cygq9XxpIR9S2hiIaXsfq/SNtL2P9DM0k9VbD4zCOdmFrF1n+XdrMnoMG4cJtsv3OEPvS/WJWX/IzJBf12nkq56PkKJVeGzqAqzf3xFD/6Zt4CXr+VkTR/F6fsXj07DQ33KzAWLdV3WLJ7lEmnfl+uaOZrrpjvZyB3JzY1LXJ3bBiLvHYHiPZGxZPh8L17GajNXBU/gmYZHD09ZDvaCo+yTkFx621Z04jaxMSNQ6XGYE3KlTptmEG92j2Y/xuemavW3zJkii1TcVilpOZVUV8tgHG+9AkEOgM8FPuBuVBHlNO2hHjeCvM6HuLmDea2Jk5bZt25DIyvPpp54iXBwQ67HwX5i3Wq/Hoo3AsP5VTo78Cx8t4fSLnvdf/L765ltUJSTiuOOOEy72eE4TRsG7D2HCmtP5r5ctaJrF4jYY948RFguzFyNnyVIUnzU8uCacDj51JjMTOXbT3yL4VdkVEYQb+/TNwdybH0X5DZQO2hSh3GGP4faz7TrlMp9YjYawuC5HsNCakQ8OD1HMaIi1k/aF57/oTtu3Q8ZdnLrEXdje5En13LZt25FQVRH1OiSEXQsx4aEVKGjYAyP/Ngp92ul+BCgrxq51czHzhRw+rXji1BEIGWtsOSrQL95H3FDaIjkFx3c1KEYt+GnLFqCi3ENZ0dbOXdebZO127VzCe71KaHm+BYZOnILhJrNT5VpYIfVJeTGrAQ3LfYRhkbayfgpZz0xH1To8dTOtf+heJgTJ5VhSMrp2EelE/VvZmJuwdetWlucrY5vnnbDM1yLtaPMpGmklXINoowJzzNJIpC/tMDxuSPidEuPowUDd9xdW950lHPWY5QNGeVk5UtJsM4LnepWXMZKlyzK2hcpYpYf6i/AhT7P3cXxHKeue2oitMDbM0zaN8dofiLC9j236RtLey/rCCW/1gkZk9XxIfeLAFqpPPKWRx3peytkTuvcV91v2IcKux7aPwokw7x5LTEaX48LzLv9kM3yDeZdLJHnXCbu2WV6jncOvhUnNoOF5tK33/gClbQL1bY4/XrjQZyd92DKLQ3ta8wS/3RXRI2aaQb0CM2ATbrpLDE1xQx8qiV6VMgpFnBLIyyyz67N7IO/LssD/aujLTG2kRYsW2J3rvkdRsCeX/4JLbVd5Xi6KmraxWTeyHMWF2q6wRhMygiyENji1J426zMWKl5Zi077glJPy4gJsWvIyVlB0m/fAqS4/qOn96D3d4jVNiLy8XSzqLfgH4649O4F2bUIVJiFkoseFI0wVlURKZqb7KYwHNoXufms0rneVjpyYp+++ncitYmnbmtnLcpF7IAttsp1SSOaj9Vj43DptExpBefEurH9d5KOep4eOjmvVBV3ox+F9q7Dw/a0o0OVTyn9b31+IVfTrdkPmz2KHXJomaJbnA8Yy7wNHduWYy1EavrtxC/S+TOyI6cGM6O1ORl7l2bJlLOuQKBKyK7iZ2Qp3e0dHDqVTq5YtxZkz5NdTWUEecvcA2Sx9WU3E7R3bWddE4RzBzo1maSNNTsjSHD16UukpwIrnF2D9Lt0uz1XlKNj6CeYupg/kFPTurStlKU6KShs6d0cX6gFvWI4F63ehWBeX8sO7sG7eIk1hcXx3uFOlaFAat/RUh3mTS43l+RhRUR5ah3U9QVOSrF8Wng+Kd63HgmWaoqTLCaFScVJURgKXpYcyRn69lbG6J08vxDx9I2rvBaSgD4x8NzNXo1usO0QMnkZe2lCvfSKv9bycPeDJDA7WoSezfhKrd3P/9zKWfl8QXBqHl+91mPsGle8WrD2QisbY9lEihdKY6m63eJaLn7wbS6pKgjKLEZROrVpadIoV9ZKYjawMUVZKxYz+yAydkV2et29ZDfPSFIpqYk/BAdLCc0U8N+Qo7JTfya45BZX0QXvw1xn9dVcw7zUxspL4/IvP0ePEE9C+jUvtnwvkSAEnTEcSRHHNSmpAc374EWedaTbcw5pYpIlXbEdbuP2lPGzUjQMef62m9P32h59w5plnChd3VEv6RrpmZVEOFj69AKu2it3W9bD81+LkofjTtUPD8p/bPG+Wto6Ls0u8jpzxSCTlhdatJEXWKSceH1N50jTwBS+vQo7J2oiaXAbgqqtHoEdz4SaRo5LEqTVeR914G3HDy8qPP+FX/X4lXNzx2ZrPcMoJsU3b4EgKcWqJcaSFxzUrXWOdtrTW4cJ5r+GTn4rCf4hJyUKXsy/DqMv6oIXLb0RZh/Xr10+4MKh7G/KzpAHWF1i7LvZ53hankZXizBqTfOu2XQmrhygfLMBTr4X+MCRJadgBfS67CVf187aWKJHz0ljM2wicfs0MXOWw7oKpLF2wZs2aapOlr5GV4tQSr+1DhO19/KWv2zxvk8aWRFDPszTq27evcHHH2rVra7Y+caA616x0RYR5t89Z5nmXf7KZfIPVvFzcjKwUpzZ4y/feRlbytGV9m7P7nS2+NTX4FzSdO7WnNY4aWRkLEvYVHXFIVvuE966sJP/Czgx3oSMzHZSyUlGH2F1wgCsaqeHSKlpNUckbMsr43EIH7UjUdmVlXl4e9u7Zg/PPdbcBTbUSthu4t0+dFR9+grbt2iE721tHIx7SpGjrOmzaD7Q4vg+6iDWtYo5Mb5dpzdO3fXu0sUtfajZkwRBUe/qKxc85HvJRyG6NEeS/2kYk5YWUlfn78rFr106c/5vqkGd56MYjtUQulLYdOnZE27bW02vN2Lt3L3btZGkbj/WznpCNAux3A48W2mYnmt3TDvA6TOViUmcZ2Zubi901KRe5u6/tzr01gDEfeN4UInJIlu1Jlm1c/zzHqU5ZmrXrNdLWExG09/GevtFHtjfu6rS6n0b69rd6y3cIEeTddu07sr6quVz4J5vJN1guyWXXrhqUSxFy3noNaw+0QN9Lh6NHNemDtbbVnXxlG9qubTvxramhlJX1m6Sx90yYJOwW6HKLCY56FFJK6o7ylOBWnUPjBhnCplDUfoqKS7mikRcROgrDT/lfhu66dpBXAj50bi5h3r3eEgrdbBMAv6QryDpoUeTcvDxUVlagedPq7Cm7ICkFaWlpmkmxHzFu5Iet21B46DBOOOEE4eKeeEiTtKbt0K5dOzStzipWpreLtJbpe+KJ3YSLe6o9fZMjy0dJKeKeCPJfbSPS8kJ1XeOsxlypVlFRHfJMQoqUSS2RC6Vt0eEj6N69u3BxT6NGjaoxbX2QoJdLisP8nuiQlBrMBynJwtEDlnLh7XGw/TcaUtDTpgl7alIuyY3QirUP7Vo1qpa0do0xH/jq17gnIMtu3tsjXsZyc6tFlmbteo209YTH9r42pG/0kfnZuU6rH2lUM+U7DM991SPoZtNXZdU6r/eNaHLZi8oak0saWnU/Haf37o5W1bjUhNa2OstX34ay1jEkDY3n8UutiGStI9Gs8xRqjvHRk1bGDDmSkjD1Ia6TSOnHh8SqY0jUazEViroA5WlmQnK2zOe6Mqa38zLB7eblTRokVFkbi1GPegLPMzXsuskzA4biFnZP0Jx44on4cmMO9h84KJ5Wu6H3oPdxq3ipD2kSTWT6UhpZtBhBeHFR6RvPBOR5/AmsXWftuweTQPVlVRVO6tZdydMEmbYndTuZpVeiziTw9HNjVNpGn6BcupumuZ2hPJ/A+sBKLvGBXpZJrMGJxChZWqPS15lopBEpOVUejC5SLt26nWj+bSQN68eyg6k56UQlFzMCeb77ybxPzxIxBPqS5rNwnb4RahguZzoqE1WTdNd4p5GV0UGfvUKyGjuhc9LhZDX0s9m9QhFfFBaXkGZFp1Qh1+A5PzMetRNul8hrXnC6J5Iw3UK/UGakp2Pjt9+hbXZrpKWmiiu1j0NHjuDDNZ9zZZjbjULM0rYupUk0kenbzUP6mqHSNz6Q8ux+womeNgWQUNkhk85kmZmZia9zcpQ8BTJtT2GdeT+Lz6ezspKZkcHS9luVtlEgKJeTPG14ZETJpeZRsowtKn2dkWl0Mkuj1j7SKJX6RCyNNqg8GBWkXGjUn9OmUPQFYPWFxfuqmUoueoL1AuvbtGJ9m9h9nsYc1oMVNkU08a2s1I+idEbnV96nc1LKSkVdoqi4JPDxTforXonpzrmLZgkcCb1dYnTTwrA2Trjx4wea1lbFyvjGnO/Qolkz1rFMF1dqD/RLHzWg7du3R4cO7nfBtUrbupAm0SSQvixtO3pIXyt4+lax9P1WpW9NIOXZgZWXju0jk6e+DmvSuDHvJnz9TU69l6dM286dOqNzx87CNXIas7JCIxS+/uZbVVZ8EJRLJyaXTsI1cpRcag4ly9ii0tcZmUYdRRr56aXTpzX1iei4QeVBXwTk0rEjN06Q3Oxkx+XCOjeksKzvcgnWC6Jv45R4cQ7rvQqbIprEdmSlVEhKdKdkpekvekelrFTUJYLKSlGB6T7EeXUm7NwqzrWDdtRj5mZH4DkWpjpo0qQJkpKS8NnnX/BfD2vT+kK0dsrH677gI/6oc2KWhlbGjtqcJtEkJH2joKiUqPStGaQ8uzN5durgrbxIQ7UgHfRuzZj8kpNT8Mm6dfVWnjJtadRBNBSVkqZNKG2TWdp+rspKBATlclJUlC8SJZfqR8kytqj0dUam0Undu6MT9Tn5v8iRX9ZNWZ+I0uhTVZ9EhJQLjah0o6gktN6MDewi76syuXxWj+USrBd0fRvHxItv/JVahRUJPx8q1qkQvWM2sjLgxo7cJo7SnY7czgyt1cP/MXv71pFPA1Qo4o1d+/YHPrrZn4CdnzO4XbMEjtpBO+oxc7PDq/9YcujQIfzwww+8vJ90Qle0b+NtN+3qZHduHr7/cQuXBU39pgWxY0FtSpNootK3bqGXZ7cTTkSWD3kyUVEwSEhMRCIZXR12sLAI32/+XlvPsp7IU6YtpQetUUkjiazhPSzN6pHCIkrbTfUqbf0QIpcTuyErqzHPt9FGySX2hJax7g5lLHLqqyxV+jqjTyNSiNGoO4L2c/BTrVTxL+sgRSyNNm/erOoTl0i5sI4I30xHysUNTrI7xi5K2XC5/LCZCaz+9FVD6wVD34bShhKwlkJriCuiT0LB4RLbXBFQPFpgdl26Ba6xI9m0c1JMCjsZVkD5dWbaZytlpaLuYK2spKvCzq38Lz/XH/WYudnh1X91QDs27961C2VlZbxBbtWiOWukGiEzPZ2PhqtuKisrUVxayjq6h7CvYD9vQGk9GZqW3Ca7ejoM8ZYm0USlb93CSp405Tsa8qTuAFVb1IE1KivpGvuLPbl7sWPHDpTWMXmapW16Wjo6deqMdm3aCl92UALxRIqYupq2frDK8zQ6rG2bNsKXbNNjA8ll+84dKCtVcvGDeRlLY2Wsk8sy5p+6XMZU+jpjWp+kszSi+qRtaBpFW1kpoV3Cd7I0Un2iIFb1PI2kbBOo593jRVkpySW57NxZ5+RiXi/Y9G0obZSyUmGgWpSVIUdm6EzaSVlJdjIdlLJSUYcgZSV9xXClpN7QRWHXrOZHPUY3Mz+1BRr19nNBAQoPHsThI0dY41zKGjTnHcyjTVJSIuuQpKNhgwZo3KQJ3xAkViP9nIiXNIkmKn3rFkmJTJ6s49yI5NlYk6efkZRGqDtA1ZqdslJCI2n2/fwzDhw8gMOHD7OP09otT/oYoQ/7hg0b8amNtIGOt1FIlDbB9PFDXUtbP1AdRh9WDRs25NMpW7VoaTLChtpyYY0BXLIsfBqBQ3I5eEDJJRJCZUllrKXHMhY96mIZU+nrTEgaNW3KN2qxGrEXK2WlhOqTn6k+oT6Rque1vmrDBmhCfRsbubghEmWlhORSwPqqdUUunvs2lDZKWakwEHVlpf5c2vVHbqej5qCUlYo6y07dyMqAoQu6c+3UcNROuF0ir0mM5wqFQuEHqlFqso9I3QGq1twoK2sfPHU1a0ygtInf9DHKz9h+GT+sZZ9RkujwalWGpDWGb7zfa/tpjE8o1JYLawygJ9PHbaTwMm0Tf7qkvR/1wzV71TH2ccyO3Fm4y2NVFZMWXScX5uCUlvK60Z88p7Ku90OG3OS5fIbej14e0l2hqE4oB9qVSz8KK8LpfieclJWRIMsdxYuVWm43g3zR861gpZndbw3dWSnqGDPofpvH8wD8vL1j+A74lr1DneZ03Wt76QaZJlJ2FRWVPB6VlRUoLCzkgwBo93lS9qampmk3RQJ7hlJWKowk/HLIXlnphL7TQOjPpV1/5HY60j9u1dzItG/dnPtTKOoCe38+wCvzoJEVftCNMB7NsLtmhlf/1QmvDajwW8HiHr+xl1G3ib8DfmXD69CI0fJhpDjKzokYy9avbJxwkp2TbPzd7092tQG9/KTSso6/ssIF/uo853JXnzDWkZryUTuX1/R+quiEGe1Ax6Ci0iskBzMjkXb9USouYwM9X1jrIJqIrOWkT/tIcMoDTuH7Ldf21HXZxjLtzNE/syZly0P2Ez6Leyyzht9y5ff+WKPJVtTd7H9FRQVKSkpw5MgRLpysxll8Gn1yUhKXFX8b5pfWS6V7w96Pncf3GweJd9nUVapRBeyjYlEoaj0s/2v/dagyoVAoFAqFIvZo3/eGfgf/+HL3AUZeExK8fTbQx500dsjr6mNQoVAoagdUWyclJiElJQUZtL5mchJXXJaVlqKispJfJwVlZUUl95/I/CoUXvGlrIz0l5Ngfymy+xWK2gHlb2F8ZvVY/kqpUCgUCoWifsG7Fcxo+kFSKIYexRlXIGpKROEmzr0qFvX36e+XR4n+mkKhUOihmkHWEREZLRhFhFAaBklAIq35mZqKjMxMPqKyorwCxcUlKC0p4QpL+fnK0z5Rpb7CO9U3stKga+GngT/SKBR1F2MOV/pHhUKhUCgUsYT6GtoPnlqnw3huh/ZdSh/54mNTfGsGPvw9Gv290i7R2wnjuUKhUChqElmXa20I/aNaOjEpCakpqchIz0B6ehq7VsUVliXFxaiqqgws50HLjigUXvG1ZqXZaC+9m7TzI8/Uml0a7sbdtWP71mqDHUXdYe++X0SlLjrmOjs/Zxjtdjhd1+PFr0KhUMQD1C1gf7ldrVmpUPhHX6YIu3NpNx4ldK71392vW2nsi9C53kg3syMR2zUrFQqFGWZlW++mL6NmuKkb6ipOaeOE3/tjCosbxU+uP0nniQm0SZp2mdzKKyr4qMrSsjLuRtPDafMdmgJO18Nej8IU1ngnrmVTh6k2ZaXRzs91dvqnlJX1m4LKUiw/vBMfF+fi+7IC7CwvQnHVUSSyvNGQVXLHpWThpLRmODuzHQY27IwWSZnizvhEr6zklbHBEEa7HU7X9Xjxq1AoFPEAdQvYX25XykqFwj/6MqW365HuxqOe4LWgcYOxL0LneqPH6GbmR6FQxB6z8q13cyqXbuuHuojfOiuu6zwWt0RmwtsAqqvlMYGPoCwpKUZxSQm/mp6WjrS0VCQlJYW/HzuP4zcOIa5lU4eJnbKSMrLuKN1lBpeG/QnY22crZWV9ZE1JPmb9sgHLDu9A5TFakPcYV1CSYVVewJ4YsFchlVUYgxochxua98GZGe1FSPGFa2WlZgkcrZD3uMGLX4VCoYgHqEvA/nK7UlYqFP7Rlym9neDnrIBRGZPXjEfZl6Bzra8evd3AJWZ241GhUFQfZuVb7+ZULiOpH1zDnu2nVuAxi2H8/NZZ8V3nUd0trIJQWSfwfhv7j4qKSq6spM12yD01LRVpqWlITjZssuNTntWJao9qhmpWVmodILLrDTnSUSkr6xfbyw/h7/mfYunhHVwJGVRSVoXYg9eCyko6Jonjbxt2xYTWg9EhpakIOT6QykpeEYcZ8iHs3Bo8WkF+3eLFr0KhUMQD1B2gfgKhlJUKhX9kmdKXLSJwLvoeRn/yKPsSendSWPK+uwuMfRHe59EZCkf6MR4JvV2hUFQPZuVb7+ZULt3WDxHBnu2nVuAxi2H8/NZZ8V/nyfpbnDLC5M2vJ6CygjbbKeZTwmm6eEZGOtLT04UnAfkV1ngn/mVTN1HKSkWNsPDQVtya+xEOV5WxSkqvkAwqKY0KS6sjKS0bJabgvuwLMTSrp3hCzbPHsGZlqCEfws6twaN2CK8Q9W683Nhgdr/CHVrSWqevSluFIvbwulGUtbpf5mSbEJ841YmKGoTKibBqYgrKSS83owzdyrSKPFqE6RVjedaXccJYzo3nCoWibuD0DVObqRv1lrFPEjyXo+tNYZ4S6MtcjsBnpqqyCkePlqG0tAyVlRVISUlBmm5aOPkJ5Ad25HYeDkMc+dVqyDN+ZefzdoUF1btydezzmaIWMLXgK1y7530crioNKByl0lE71wyduzWlVSWYuPc1PFPwP/GUOEeVBYVCoVAoFFHA7mNOcw5eM55XB/Ij0HiU1I0PfIVCoajPHOP/NLT1LZOSEpGckoLU1BSkpKbyur6isgJHjx5FRUUFV0aSPwldD5yxxoorLy3aNkX9IOYjK+W5zGzSTW+4OzPxNLJyZ/kRvFS0FR8U5+H7soPYV1mKsmOV7IosQjQSkMb+6aGz4PWgXY+8w+yaxOpeSWgYFAvNxerZ0j+5GuNMhIanYQyD0Py5f+/wMJJRiRRUcOWkNnJSU1Zqdv2oSb3d7kjKyqCd3G9oMQijWpwnnlhz2I6sJA/CrlmDbvLciN6NlxsbzO5XuENLWuv0VWmrUMQeXieKslb3yxy9q7DGIU51oqIGkRnH0CeQMjOTnRd5WoUj+yBeyqZZeSa7WRhewlUoFLULp2+Y2kzdqLuMfZLguf3ISvqTSJ74SUIiM8xGG+5UVFZy5SSZSmandEpNSQ2MsNRG8bO72D10P88h+nwSjIB2jAF+ZefzdoUFCQcOl0YsdbPKRrqZHpmhM7Kbmfatm3O/NQkpKScUfInXirahksWJJRF103hh086CBM+lH+lL/g1eD8KuBL3xg7wv3G52ndCep9mkL/aXlZIESkvuTgT9aT61K+QWuItZEqQXRvBeieYz6B56v/Qr7aH+5F+Cnl+FFBzlbpqyUSoppfKRzoP2oLt2pBGUwfOgXe8u7fe1vQrnZ50unl0zeFVWmh316N2ovNhhdr/CHVrSWqevSluFIvZQOZNlre6XOXpXYY1DnOpERfygiSooK6PsvMoy/H7390qM5Vhfno1lu+6XdYVCEUk9UluoG3WYsU8SPHejrJTypXUq5X1VVcdQWVWJivJyHGWG1rNMTEpCamoqUpJTmD2Rj7Ck9KO7eRj6fBKMgHaMAX5l5/N2hQVKWanjncO7MGrvahRVacOSWUyZIZs8Gm1EMGdKFyLgh3IuO4TeJ22a0k871860c+OZdpck6EdDu1sXKrMk0B/tjP3V7FT8Q58YdNPOw20S/TXtrvDwNOgK/Q29X3M5KpSKZA8qIfV2zWj2JkkpaJ+chVQW0OHKUuyvLMLRqjKdH/2oSu2oKSur0CAxFc8c93e0Tam50bqxVFYqFApFXYbqO7v6sG5B7yqscQjrntFfbq+LUP/TmviWjRFNVMH30cvOKEd+zt7NzeuF36vZ3ZZNY1m2uq/ul3WFQmFf59Zu6kYdZmz3gufuR1YSuvvIMHcaZVleXo7yo0f5CEvaSJHWsUxNTUNSclKgPeIhVHM+8Su7OiH6OEQpKwVPHvgO9+SvQxWLIcUxpLAw6FyzSxsrgOJId4T6l9c0O7lqPslG1zQX7R7tb+i5dha8In2ZIZ8UDNkMLQx2nYZRBrxI/7rQxXUtNHktNA6aXdzLD8Erwfs0f4TmkxTAlcxoikXyo1dMymPv9Na4vPEp6N/wOHRMaaIFoGPn0f345MiPeLvwS/xYukenrNTul8rKRPYe/Rp0x4PtbxZ3Vj9KWalQKBSRQfWdXX1Yt6B3FdY4hHXP6C+310Wo/2lNfMtGooko9D2k3IzyCzmncqbZXGEMy23ZNJZleZRpbxYOudnLRqFQ1Ebqcrk2q8tqH8Z2L3jupKzkG+yQ3VTG3APfdKe8/Chft7KyqopPA6cRlsnJyTz9AkbcZR1edPErO5+3KyyoVmWl0W40NaWsfPPQNvxlzypeGFhMWOHQclu3tCYY2fhEDGrYDp1SGiEtIYm7K7zxWUkehux4k1dfmpJSUyxqRtv1u0tqYzzY+rcY2OA4cZczHx7+DrPzFyG//BceDldUJgSVl6TInNbxb+iRcYK4o3qxU1YSRrvZUY+Zm0KhUNRFqL6zqw/rFvSuwhqHsO4Z/eX2ugj1P62Jb9kQmnhC30HKzEx2IW5UzjSbKbLsGcORaZaQmGh7vx6z8kzhmJXv4HODz1QoFHWDulyuzeqz2oex3Queu1FWElqTYSZn7klTWFaU82nh5EvbjCeJTw2n0ZZJ1LYwQ1B+CbQ5/G9s8Cu7OiH6OKR6dwOPQ3aXH8aY3I9ZQtCoPNoAJgENEpLwSPav8PFxF+PmZqfgxNQmSlHpg9n71+sUiJoSUZ6TGdCgA5Z1/pMnRSVxbsOTMe+4MejToKsWbgKFXcntyXTO7G/uf0/4VigUCoVCoajbaN90Zh+J9tfs0D7Cgl9iXj/qpH/90SoMr2ErFAqFIg5gTYvUT1ItLut5zdD6lTQ8SfNAa1TSWpUpKal8bUuaEl5RUYljVVWacpL7EuFoVkU9JeHgkTLvvRaB2S8j0s3saLSTobULpL0mRlbeuncV3ijaqs1kZtFLZQXphQ5DcG5mW82Dwhf7KopxypZ5qDoWnAIuR1TS8deZHTCvwx+QlpAs7vBOWdVR3LP7CXxXskWEG1SIpjC5zukyA02SGwvf1YcaWalQKBQCVn+5qcFYV4D+cjvVeXZ1ohdiXX9SHyZy6D2FNWKcnh/5A/QyiQSn+1XbFj20pA6mtexfRxMreRndlVwVdsQyfxjLgWdY3Goy9zrVmYrai1N9XNP1pvPz/ZUr9kfL4KKM0S7gtNlOOe0SzgxB08HJ0EhLHh/hVysWrE0TR+keONYwFFVF9KnXIytpVOXiQ1u50iyJZXpScD3Qqq9SVEaRFUd2sIqoIqBA1EZWaqZxYjJmtx3qS1FJpCWm4u42I9EgMUkXvjbCEuzZ649sED4VCoVCoVAo6h6BD7gYYvUhW9Mf2AqFQqGIb/iPZ7pBatRaUduRyL7fk5OYEWtW0jqWFaS8ZEfSANIU8QDMTmfkT7U69YN6rax8+9AWJLDCQuscJrEc3z2tKUY2PUlcVUSDz4q1TXBIcShHPUpzXdPeaJXcUPj0R6uUZrig8TlcSalNAQ+aTcXfC18KhUKhUCgUdR/SW5KJNWaKSqW8VCgUCoUT1FLQlHA5mpLWqySFJikryQRm4Greg4pKYdgf3tDp/SjqFvV6Gvi1u97D6iO7RT4/hvta/QrXN+shriqiwfnbF+Cb0nyhoAxO/6bjO52vw8nprYVP/2wq2YIJOx9G6JqYx9A5rQMe6jxF+Ko+1DRwRc1xEOue/y/W7RengsZn/xl/6hO+y75CEXNY/eWmBmNNMf3ldqrz7OpEL8S6/qQ+ROTQewprxDg93+QBBd9j9bd54kSSjdP6nwT9wil6mUSC0/11s20rRf6Xn2HTYXEqaHL8r9CrXbo4iw5a8gbTV5/eIWm/fxM+NJF3r3O7h8jbCqOczORWN2UZSumer7H2pwPcnpF9Erq1Jnmmo3GT6Mo1WuxYMhOLNosTSbdLMPpCb+vER5tY5hUt24t875pSFB4s1awsbjJ2aU2aMOlWL051pqL24tRXqOk61Pn5fvMlrVspbLpyRpBOSE4HJzttsEMjLpNIiUl+hTGiFRf21xBedWMSNUUUqHFlpd60a9WMX68uzv7pJeRXHBFnwLIul+H4VPUhH01O/vFJFFaWBBSH+uOmbncjKSE4uPeL4m24Z++ruKppX1zffAB3W1L4BZ7e9w7+1no4fpvVm7vNK1iCFYWfYmLbUeie0YW7ESVVpbj2x1v4aEr9sxolZeKx4+cIX9VHfVRWJu7aiuRlryNx80ag/KhwrWOkpKKqW09UDLkUVR2C+S++yMdrf+qI/3tDnAouem4nnr88ej8QcL56CsPuf1OcSC7BQ2/fhJ7iTGFCBfswOiI+jCRJTdCYDzZfg3826I+HuKPkASw/cjf6iDNf1ITMWP3lpgZjXQFg3cNoMvB+zSHAZKwsHe/i/fPw6h/bY9Tr4lQwbP4evHRFtjiLPtSHiRxqC4Q1Ypyeb/KAtVPR8Nx7xYnkQawsG4++4ozQXs3P+0VO6cGDKBN2oiYUB5FhkQ/n7caLUcyHmmiCsgk71xy4Hev+YVKunOsVY9/Dri8S/X5K9aSjF/JfYd8K1xrqz0ufx08vXoUot65RYd3UZAyaLE4k932MQ+P7iZOaIep5RffjS7AchP/4YsmeBfhj1z9hsTjVuATPbl2Iy9uJ02qiJutcRf3GuVz6yJcsbNkTDJZRBrkzQyMqSUnJ17GsrOSG+la0M7jZGpYSCoX88dCjXK14oSafXZep18rKUzbPxVG+8QuLE/vz7YmjkKp2/Y4qnTbP4pvrkOIwOOLxGFKY2dh9PHMLluwXfvkY/963FP0aHI9HO1zP3abnvYalBz/DiKa/xm2t/8Dd/r7zET6K8tbWV+CCJv25G1FWVYY//3hjmLKSVsSc0+0lzVM1Ut+UlaSoTJ19P8qH/wmVZ53LviprxyelZ8pKkfT5h0hZ9DyOjn4gThWW1aisjPAD2DN7XsafTrwWb4vTWBGTNDLDLN3uXY2Dd9MHZIyVldUlMz2s/nJTg7GuAItfDSsr2Ufr1V2uMXy0RptLMHfLa+IjmNoC7ugDrX9ljckD4kxZWbh5DVavXYrVyz7D119/gHVbxIUwjkOfQQPR78KBOPecgejfKzsCBaZ5PvGErcKn+pWVerskRHYRlHtjv8OqH2LVZ6G+vT+il46l+d9j46ZN2PTlNhxk5+ntTkK37t3R95TjkO5h6fSYKCtNFWXeue/DCow1CNO/sjIKZcWRKCgFTeszt+0GQykrXWNVD0j8l/v6S02nrdPz/eRLCpt2BScoFKn/IfhzdXZar7L86FE+FZw5BEdYJmq7inPDfQfDIhcKpqaoyWfXZer1mpWVx2gTFkqEY0hiOV0pKqOPfu1ITXmo2VnqI7+8UPMkuLLpr/CPdldhUpvLhAtwa6uLcH+7azCq5YXCBbi77fWY0Pb/MLjxb4SLxs/lBYHnyA12AhvtKGIOjajkispfD667ikqCvRu9I70rvbMvtryHx/71r1Dz/BqElgw9NL3b4J+Z5ZYf9bEnf7fZmrDfIz9fWOsgpYUHUejZGEZRKhQRUYr8DW9i3syxuHXoebiQmVvvmYl5i75Gfq3MYgexedFUjDqjPdr3+jX+eMNUzHndTlFJbMO6lc9i9h1/woi+7dGy06kYNfNd7CANVJ1Dk/f8mXfh1gvPx++ZuXX8TMx3IW/tu0/7+IslO5fOwuyZM0PM/HXWrVjhOiY7g//ZS7aJq9EmmL8onwwachlLv7swgZk7r70Iv+97Alo2PAEjxi/A5jqZfxQKhSI+IIViVdUx3iqRXi9MtyeVkMyQUpKvY5mSwu1ytGUVjbasCl3HkuBhKWVhnaReKytpYx1tBJ6msFREnyaJKUJpqDeaAvHTIz8KXxrJCUkY1OhUNE9uJFyABonpGNjodGQkpgkXoEVyU/yqUe+QKeTE98XfBcKWilEyDZLqsOIsjqCp33xEZT2B3pVPd/fD/q8xccK4ULN8O/s8taIMO5Yb/DOz0bA2ZfVRis1fvizsel7G2m/rqnJuDR5r2xqdvJrb3kId1t96o9RMmaszB0uERz2lOHCQrlmbuq4OLvzyCVx/eld07TNCU1Cu/ACrmeGKy8vPRNcTT8X1M+1+7IgvSjcvwIQhPXDmFffh1bC1FD2Q/z1eHX8RevQ6HxMWxUrpVf2QvEedcTyO70sKtpmYL+TNFZdXnInju5GSVpO3ppcM9mNjoaikD0gz8jdoyj+9WbbdujSWbns3zP+EDTGoHfd/gMmu8tc2LJv5J5zJ8s/klUpjqVAoFLGA1IvHjlUF2yqdclIaQhslCT7tm0//TkzkbnKKOJlAGIo6T71WViaxjK4pK0mppTJ9LOiY0kgoKINKSmkW/PIpKqnSigI0SnblwWUh4UvTIrl6N26SGCtgL0YS6s4KLKuwNUO/OkVqePvg0+jjpRlaozIhPcP0WjwZFnstcS0gHbh5uhlMRgZ/Z9Nrro14aAhm/qQxjz29FjeBuJtX7q7fza3Z9jIe+5cI3MBjz72FfTJe0TIi7Fhi+lxheLqy92bWiDCGF44urwoXPfp8HGbKClFU5NKYjvIsRaGZX2Homl6haAyBRSE0bxiN7r33vX0DOrZpZWo6tWXmkn+IUPVMxYjsFmhvaf4Pb+8VaSHuiHeC8hMONmx/5f9wztm32ytdSGl3z69x+vXP4YcjMuzgM8xMONQXCjWaX2N4QcOuMmNHeJil65g8B/8Js1f7UFIayf8As6/4DUY9+z3Ln+HPDDd+MQtTbyJnxys34JxzRjvK+7Xxv8aZo+Zi8yHqSwWfnZCgyQ3sqHcPR8rX3NgRlL8JrH/NPziFn1Aj/OjhzzPzy4zwEoKZP73Z+TJGnX4+ZnjJXyz/zLjw9/we7QcQVvcVhpvC4FL3Okzi4NFEB5Nwvaa3mRG31T74i4a/j4WJFygqZvGLF8NHtdkYReSYpafemMkjukbmPytjdo/e0DRtc5OYkMT6g9rXCb0L+8PrFjJkD7wnnRMsPNpYJ1EoLelevq6lWM+SjlxxSV7ZNQonEIY+LIqX7ITaQEHJ+8yg2+2MIjaYfc/WG0hBSeso8qngvEOniDbd01qEKA6DphK7juZj3v4PhE9/vLV/IX4+usfkOcfQPq2D8KVQKKLHdrw29X4sF2dhvHEXZiyN4iiVdhfjsbx87MrbFzWzcKwIuw6Qv9haARhmLn5Y3KXnYVxm5leYTmQCI0VvxNt7xG11kXaX4Mn8/dgTNfMO7hJBR8L2V67BoJHPshLnjvwX/w8X3L7Atf9qZ/+7mHDZfVhtNpiu6wW4YeareGftj9iddwiHSstDzM95P2P35s+xcN5kjOzTWdykJw+v3nI+HlzpNM42G8MeZ2FReC7MF09cIu6LPTte+RMGXfssdohzJ/JfugkX/e1l1/4jgT5Caw/rMftP1+DViAZrrsHkIe3FDyDN0a51uDnjFuPmZLFiPF43rU/I5ODx4cJbDXHXYrN4uTGR14e04ZZxRH3QmI3IL8FBU7/C1PXh+ApFbYe1PVxhyYxshUhjw0dY0nRwZkjLqF0ztFO6e/hNStVTK6nXykraPJ+UlPQLNI2yVESfvpkdEDqiMtT+4i//8z268r1f3sF7+9/ShRs6Dfz4zJOFT4WCt138w8vSGBs7hQkHsfq+kRj1kt2olXw8c+sV+Oe6aH0NpKNx4yZRNU0yRNAKzxjLDfsjrtQFWF5rwvJIFE3Ei5HseROTxy7wvIRA/ovXYPyL8TklesO8+zAn7IU6Y+Scb7D728V45JZL0L9XZ5Zu4amWTunZ6TQMueIePP7hj/hp0T3oH7arSR5mj38SG8SZFTwsl6ZJA3GTGbSsgYkipLRCXPcCyfuuCOT90rWY+FK4epq3aPpyGoZzuTW7zzys+GD7vHsxfq040dH3lmew8ocjOFxWqZn9e/DxK+MxJB638OZkoIlJXtRMU2R42BQojBKTPOuxqfZSfowmsvrwM8w2UR4HzLCpwp+eqbjUzK8wNy+K4shuhULhDxrVKKwEtTK87UpM5KMryZCdCOwcTgpLuo/0OOwG2dZxw30y5HWlrayV1GtlJd+dmmVebtTIyphwboMTkMpqC+MUcGlOy+gYtvakW4qrivFc3tNY+PMLrELSdhyXRhsxW4UU5u/kBmdqNygUtYE3RuKEjFRkmZqO+Ithh+9qp/BrzPljH1w0Y41wkJyGPn0MX335q/DggCH4++L4GONl3BjHdCBGRDyA90uOosjOvHhl5DvFKuoppVj91G3hI8RaX4D7lv+IgiMVOFxWgYIfV+D+C8N3Rl50z0wsKxAnccPXWP7vr4U9yJAnVuDxkd3RWJy7pfWQyVj47JjwsrXhJax20lZGifxFN6B9dkuDORW3LhIeXMPk/fTtpvK+970fse9QOatLypG/aTnuHRou78UTZmF5BOsXh3zcmRg9Zm7xxXosfvxdYQ/S9/6PsWTW9ejbSacma5iNXsNZ/vnweVxe3yrn6b9XijuFQhH3UGtDbQ6NrKS1K8mQnZCjK2lKOJljVUqXUxep3yMrWV4nJSVNA0/gGndFtGme3AC/adA1oJzUTFBxeVbmCcInUHGsEt+VbEFBxQHhYk5hRSEW738TE7bdgU8L/6cLN9SQ0vKkBqchK7mZuFOhqN8svrZjmAJ0xjpx0YmKPKybPw4X9eqDv78Rrnzsc99svL3kVdzbRzgEWINnruyGntf8Cx/uiXCUZcUaPHrREFz0e3NzXo/Qd7IyrbJboYPOjJghwldUK60vfzVcmetgDsnRUJZmIS5vJx4Qb+TnYZOwBjkdnZziW/AuXp1uVCD0w32vvYa7+h+HdDGyKr3TQNz1/ELc31c7D5D3BJ6O2S7LEbLne3wdNmzwElw+yGxKtzvSB/0BI4U9yNfY8JOd8iUPy+4ajN9f6M6Mmv6ZuC+G7DeX972vvoqx/TuHyPvv/zWpa/OfwjNL4uOHocXXtkcjFuGGaUlhpuvIGE6j3rIey4xK6l4zMHP8r6xH83W6CjNnXy9OFAqFQlEjJCQER0PqCCgsSVlJIywTtbUvyY1GTFYKhWVVlbaGJR9pqd3KIRWP0U1Re0iUv5J6N1rG8WtqEpr6TUpKPh1cuCmiz3XNfyMUiJVIDigTNYVly5QsvH7gf7h39xO48qc7cffOGfjLlrtx5/YHMSd/Pt7c/w6W/PIeXi94A8/mP4uJ2+/GHVtuweKCV3Ck4oAIK2iCGybR+TEMaHapiIVCofBOKQo3f4DXHh6Js47viPNunGW6zlyfWxZh7j39kN6wH/4+bx4uMxmlsuONcbjohMboefFf8czyTcg/LC64IZl9Zv68Ch+uXMV3wzWadVuEvyjQq3PshtiEjOyM3rBODikAC4uPujPv3yPu0nMx/vO9iV9T8youi4VisOIgNq9+GXPG34iLftczOMK4c0/8fuj/YfwTC7B6cy3crbeiNGxDIjfkr3wR84Rd0vquBzG6r4napeGvMPqfD6KXOJUse+WD+F27soYp3BNel1gaP7uVuyT//ZcwX9glJO/b+5jJux9um/4AeopTyfLXPojJ2pVmffao9uHNpiVzcwAlHqbTl27/HquFXdLrmoFh5cJI4/6X4AZhDzD8BeSY/DCyZX71rV8az9ivH2lv1FKRCoXCEivFIrVDXGGpKS1plKWcFs5HWIpp4WYKS0XtpV7r6LhSi4+srEJSDU8Dv+2227hZunSpcAny448/Bq6T3Qxy92L2749grpAOiqeMkxOnZXTCbxqeKBSKYlRlQhWSEyoxI3ce5u57HeuPfIPyqtKAn51l2/G/gx/gtYLXsODnl7Bo/xv48OBK7C3bETblW2+0+zWF5UkNeqNr5qkiFgqFQHx0WZn6TuHGlzFn1v34+x/PxakZWehw2hCMmvwyNpsuopaNwdPX4fVHLkAn4YJOV+I/XyzD38MXkuPsWP4U/n5xL5zYKg09BwzB7RP+hUfnr0K+7ddLG3TuIaxxyXMYbzLiU5oJS0jRsQaPtWmNjtJcbLbjdfWw8cvwaZLAW1j7rY0i0KSshBjhLVJ2LB6HEae1wlm/G4m/z3oOq1dvCq7bl78Jq1c+i9ljrsGFPZujx7CxeHVzLfrczduGsCX0BmU7LAtwEF9/YhyBdhr+OmKg5Qix9L4X4EqjVub9pVgXT5shtTsJp4W9+Jt4dWXkKtXSlW+EKfkorXodHz5VOn4xl/foS23k3ecCXG7UVq58L1TerGAGy6lw8wjda8TMzRcm05I108PTdPrCgvCRxJ1atxE2G5o0Za2ZgUXbPK8dWp+YPsxMXm7M7zFdhOGNX+EuE+VxwHz4oPCn50GsNPMrzEtX1KY6QqGo21CrwtsWMlLhqFc8siMZ8kPrVyYlJyOJRlmKe+SUcG3THbpBUReo58pKMrRepaa4rM38+9//9mTWrjVZfZxRUlKC119/nfuZM2cO1qwxrksXGXe2Ho6sxBShqAzdZIeO2ojLcHf3Jjiikkx6YjqGt7pZPF2hqEX8YT5+NJkGq5md+M8fhL8Y0bhBCZaPfxhz3lhjP0Kn68WYsnIjFt5+Wvg6c80H4N63P8fbD/zOViGzY90qzJ81Do9uYc+1+iLntEbrrsIaKa27o/+ggTrTL6hgDTAArZoLqye2Y53ZaCxhdhwR3uKCr7H6xfA1A4lnFq9CobBXH7RZ07k49YpZWO5yhOz2ZTNxfc/zMHml+1GWi0e2C5uOOt28GYw6pQcPhCs9spvCfn+n77HhaWENMBR9bYeI9Ubf3wtrgDex/vt4UuyehsF/PU3Ygyy75XzcOn+T5/yXv/phXHP9rPD07XU1+jsNp4sSra94NWzX8kOluzDX08SOTdg4R1gDOMn7NPS9UFgDvIUNm2Ir76grKqMJjcI3UuFuFHt0x7rHOfd/rBR3CoUiriF9o15RydeoFOdcYSlGWfJp4dQu0bUqodxkRrtRUdtJFFkhAkOYuesN7dBkY9h1ymzSVDcJCVVIZNFMoHgIt+qARjbKUYnG0Yn6EYtkSGlYXezevRv33XcfPvjgAx7HjRs34oUXXuDGL21SmuHv2SP4iEpSLiZbKiYjV1Lq7X9ofSuap7YVT68ZKEtHahITtUpYXz5CywjZIzUUrl8TGi8ZNzN3c0N+a8jwmNpBPtwawszdizHDzJ9m6G8YUi5MtkG/4Qx7/Bvsyvs5xNx+ejBsbrpejdvH2ny0dL0Atz/9EX78+jXcfnZT5hC8l54fyCMpbdD/rrfxzU/LMeXy7jZKywtw77W/RYa8z8J0P28OpkydrplH5mPhe8vxdsB8hM+3h77XrgPaZhQBs/0bvP0O8xswM3C5iEGQpsjMMH8+Gd5k8nf1Ct1D9zrAvMl8akZIPo7QFC19Do9uFAEamT8Tz39jfh8tl2IP8xSB2fDoMJPNmtzwGaYP/T1mb9T6GwkJZFiIZDQPjoS8XwxN/o714ok6js9GtonfgNm7PXw360tPxnHsYlh9qnvjzt3Dp6hu2Py96VTMwgNm6hlD2MyAzzyxNiFpb2KMAul17WTcEFYhbMf8G07FGWeMxIT5b2Ld5jwWx3ClG596uuNrLHtlFu4cfgKOH3IfloVrgjF66s2OU3/NuO9Do9LRxozvJ+7yC0vHPVsR9hPCpd3RifVnwtKbjEjbzt0vZm6hbPxhM4qKCrnhG4kdPKAZU3mHooUbKnt9v93YryfZG+VLDJu/G7T5k5mJzjTq0DSRpnXnk8LamsWr16PQxC8Z7X2Z2fgpljOXEIa3RhOWbjQVXW8Omi5hYhK+Q7kIM+yuUEq4/IpMzQHT3ebdhath6tfKiHtiielzPRozzPxZGnGPHlN/9d6EthHRN2bP1IxTexRzw+NhFufqMaZx0hny4sfEAxQNeldSQNK3MB35OSknxbcxV0hWsXaI/LJvZr6WZRJdo013KlFReZSbyipWUSawtop1wdltpsi0ZUGL72861/zrjaJmcPH1VHchRSUpvPjoStLA12Iee+wxV8YKGlH5zDPP8CNxwgknICNDG/dBoyvNpqd75bdZp2NUi6E6RaO9YlJTQJq7643ejRSW57f4I3pn/VY8VaFQBGjYBI0bhxq5aUOQdPS/djIGizMOjUocORlzV+/CvpzFmDKyH1rL+9Y9jKyMFIN5GHLfnvR2A3H7vG/w4+5vsPCRmzGsT+hGGq3HjMHlLkZNNu5zHW5nfrm55SoM7j8Q/QOmH7q1Nryb7UhNxp5t2CysQXo7b3pSm9nxMu649UmbqY1rMOF2Jjsv64n6Yf+beOaucEVln1vm4P1NP2OfVDQf+Bk5H87BDWGbN32G8Y+96X80aEUpTJV5UTF52JDzgXhQkOHZTQz+DIq5gtzwtSa7d3aYOs7KU+fThS3I6jFnom2r5uFm2FTho5ppfgGmvDYZYeJk5H+7ALNvuByDenVA++xGaJSeEmJa0k7b3c7CiGvvwpxlZlPHszFk+tu4d5BTBRBnFOSFj2TvdpwLefcWtiCr7+wT2ESsY7b7pSe0jzHrLzKn63HBKb/CFcIaYN4jeHqt3WjTbXj13zPDfxxYdAPOaN0C7QzmjFtiuEFQCFPxB7Nyy00P3OJ5t/m6Tf7u74RNz1fYEU/LYCgUiqigNUdaeyTtdCoVj/RPjrB0GmnJrynilhgrK0WGsTJa9qoxaL1KigEpKknRVV2QItCoRPzrX//KzQMPPBDmXh1s2LAhsI7lNddcw587efJktG/fnrvRaMtocGXzIRgZorCUxkxxab42pXZNW2tUcyO7JsPdx7pgUPNrxNMUtYWk9yYidfTlzExEskGTErg2ZRmTM5D8HPmzMk8j5V/CvnSfFgCx/Q3NbdzzPAyNfUh+8DLmzsx7Or8KoOsluOvx6XjsleX4iJRGNCrx6XtwWZ9s6x1VnWjeHYNvmY0XVv+Iop934fPVizH3kel4/FrrNdm8su5ho9KUmYctRu3t2Y7FwhpgmLMyyJzJeF8/itNgXricRqr2w1j9lP7VD2i3VheFazBj5Ei8Zq2p1Fh3P/7415djskmHkfzVb4ZvKHLDYrz+yHXo06lJMF+kN0GnPtfhkTcXh4/Im/eG6aZPnvhypokyIFqmHa5+XDxHx6Kbexj8zQxd17K0NFx5EvbDQu0lvc89WLJhvokC2getB2L0Kx9h4ejTolanaOiV2duxYfUHWM3M4vmzMHvyaPzxwsGY86XwGill8Sdv1k23RbsepX48n5ZsNhJzN571Mp0+/VcYcpdxZsAaTL7sMsz+0mTZiNJtWDzmT7j+xdhvoFR7ycblCypx5GgszUJc7vOHwryfzL5TPsP23cKqUCjqHFozpGmU+HRwPrqSHBnHtI13AobPCBDKS+FFohSW8Us9H1mpKbpIaUmmupHrQ44dOzawluT999+Pf/zjH3wathk0VZuu0dEr+nuaNWsmbBpyDUtSTvbrp01topGVQ4cO5XaKq1WcvHJl8wvx97Z/QcPENFgpKcPdgiaouAwqLElVuQWnYk+C34XtFDXLD0h8cy2TpgtSmgBNWhlMY6ATOxI7twXCSfrxK81SkoOEXM2Kqt1I+JksDXCss7gnHnhjJE4wKtwCpgNGvSH8xZQm6HP9GIwcNhC99EqjaNEwG936XIDLbhmDwd2EWzWTv91kau4px5msY1kH2PEW/j7sXDwoh7sG6Idhfwifypr/0kicN2IWNsR4AcsdmxcIW5CRV1wQvgaqpPkFuGKUsAdYgE0u9mYZ/mQO9u7bH2JGnyEuKmqE9G5X4ZH//YyPX5mMYX6a7tbdcfl9r+KLDcsxZXjoyG2vTD43dCSnZhqhPY3o5OYE/HrIYPyemT/ecBcmTH0Si1d+gMJKEUAthD7saACBVDx6PY8v0tH/phkYJs4C5L+L8We3QI9zb8D4mTMxm5nJoy/CGSeegKufiM7a7IqaZBs2f2GmcM7DqpzwTZcUCkXthGtrDIpF3hqxNikwbZxPFdeu0Q0BBaU03D1cYamIT+q1slLL3LRe5TEksExb3Tz//PN8xCIpAps3b85HXBKkVCTFpZlCUm5+Q0ev/PLLL8LGvvnY8/TIZ8k4SPTnNBVcGr+Ky183Ogv/7Hw/zmrYS6eItFZSmiko5XkRmiPnWF/8cqw1l6WilvPdU0jaWC5ObOgxGkcnP2YwV6Kio9g2eu+ewKdUwo4fhG0bs4uw8+X13jh2HLco6hHpva7jIzv5Gpj33IxhgwbihtP8KTrijoo8rHviRpza/XLMCVNUZuOyefPxwovzMffq8DVK85eMw296DceMZdtrYNOdGNCwKRo3aRJiwpdAUFQ7yU3Qa/g9ePHbcuze8BFenHMPbrh0ILrZDnHujD6DLsEN4+fgxbU/4uct32Du+EvQrYm4XAN8va02j8yTLSX1iflfbieMSknjdUsO0/qO+mUOgsZ8zcco0u4qTJ1/leko+e1rn8Xse+7CeGamP/0uNvsdlV0n+QzTU5PQoEbNCLzqZfp2wddYZTEtfvXrH4QvqaFQKGofpKvR6Wt468QaJd5OCSPPNTfNH1dQ6jbe0RtF/FO/R1byDXZI+UV2fxn28OHDWL9+Pd577z288cYb+Pjjj/n2+VbQlGvawIag0Ys0/ZumXs+YMSOwVuSqVav40Q79ZjxOhnb3lpDCk9zkWpRyrUr5bIn+nBSU0VJWEq1SWuLv7f6G+ztOxJkNT0cKq1hClZPa1G4yRvfUhCT0aNgXN3WcgR+P9cLRhAxWMZF/VfHUfo4g4Y23kRThygzHOgrN48HdSCgjyx4k7OQunITt2q/siTu28iNadsGxNM1arzFde9KF6X+fCEDPfTjPzK+T+eMCm/UUo0vjbtrITr4G5n2z8cI7y/HPYZHuhlqCg4XsQ1ya/E1YJ6aKLn/1STw6axYm3DgYF/3uRiyujvWz9m/C6vnjMOK0jjjvzudMp3T3ue9VPH45KWc747J/v4p7TRcQfBcPXnwizjxzJB5dtgmFJhs6+KFTt6uELcj8V961Vo7ufxevzBX2AFfRUo51j/bHYbiwBshjeUtYrSgskEPHg/Sa8YXJtEtmPnpQ+IgPGnfrh2EjJ+ORF5fjix3aJjY/5/2M3TrzM9/c5kesXPIqHrnvOgzr1Tk+lM6VPnfgbtc5fDRg3gFnef8criTtNX1dcLkJD0tP0Ldd4OvOBKfrehbfcmrYWo/SVMeaj52veAZL51zPajdvtO4/Hkv2mE1HD5robBBkoN1VeMmsjHo0d/UV4dUz8le+iHnCHsb7T2Bx2BoLinoLq8L0Ci3PxmUdqKheSCoBGYnRlXyEJW2Ww/4do396RaV2m1JY1gJirqwMKeAmpibhyjC+biUpwiLLrKTkW7JkCV9f8t1338VXX32FTZs24cMPP8Snn34qfIWjH+Uo14UkSDkoRz3KNST1kEKzOtey1CNHf5Ixjsz0wwkZJ+L2dnfgka5P4vo2t+DXjQegS3pXNE5qiPSEZG6ykrLQKf149Gt8Hq5scwfu6Toff2p3Pzpl9OAy1Cs3FbWYlr/GMVqh4JfXkbQywnUkWx6HY1zHvh4JpJcsYn9oqaoT+mqlfMtWVt5Z3ZQrRlt2Pg61eAZfnaZUrwB0YQ6abXZbwj74Tfy6Ne5UEA9jRHZLdJCm86k473eknByMEdeOxoTxd+HR+aS8jNFInsMHkb95DRbPvx9/H9ETJ7TviYtunIXlW8T1ELLR/55leP2efsHp/Q37YewbyzDWYv3A/G9fxoSLe6JDoxNw3o13Yc6r72LDDpY+PvUzrftfgpHCLsmfMwyX3vkc1rHwA8GXHsSOdc/hzkuGYY4x/a79A/pHttBokL7jTT/8HY2psu9B/M/Mr6MZjxA9Q4MmTFIGtuTigLBacSDve2EL0q19G2GrfaQbR8MK95ojG91oU69BAzHyjumYMnM+Fi5bjr+eE+kPHQJTeefxpsuOg/mbhC3Iie18xkXg1EXn1+P2uz0d3a6dg0++eh6j+7tIj9Yn4fKHV+DTpZPRv4VwqyP0nWBS30z4lbhaF1iPVx6zU4Cvx7/+Y/MjmEKhqL3odEpak6TZaf1K2jmcFJaynQooKXVKS0X8U79HVnLlFikrI5sGTsrEZ599lo+QpAwfKCzcJKKgoED4DIcUfnLUIo1UpB23abQiTe+WU7J79uzJj3aQ0tLKSGgNSrPrZPr21T6PpPLROPVcf37BBReE3RdNGiVloV9Wf1yTfSvGdpqGqcfPw4wTX8O0ExfigeNfwOhOszAi+284PWsQGiYF53tJGdIoWTUNvJaT2A1VfxjCLOXAkpeRbKZ8kqyfLDbVkUZuznOcmNZ9BNh3BAk/5mjt1AlDcIwWcM/fjISyciTka8rQY51qcA746WOwK+9n3+b28A2A6wB5ePsWnQLQhRkxQ9yqZ8YwU7/uzA14O6ojIfNo35Qo8zUevbAVTjjtXFxz48OYs2ST9ejU1rQz+3K8dt/A8HUhmw/EvUs2Yu7tA202GdqOdfNn4e/XDsNvurfE75/8WrhHSPNL8H/Tw9fMXPfEDTiPhd9Kjrht2pKvNRc+lf1XmHrbJdZrXNZmmmSjcy9hl7y/HptttVcHsflr4yYT2TipcxSUV2unomFasjsztTasAZiNYY+Hjtq0MtpoTml24Ytly/HOkuV4fOoYjL7lKgzpPxB9OvlUozZpg05Gea90Ie8N4fLuHoG8WbeV/nI74fU8Xml8ylWYunw39mx8G4+PvwXDBvUToy01pfOwG8fj8cXfYM8P3+DZO1jdFydLQ+S/MsJkanQUzZTPxJNqP4VLnsW/QnYnY01ddmgZyH/6Xvzrk6g3vgqFoiYhfYuwEqQBIHUkuXJdDI2s5H50vkhJKayK2kGNKyupwyNNdcMVXGRYxvU6DZymfb/y8ss4xI6kmEykYcZkqFCw8+TkZJx22mnCtzl/+tOfuMKSFIIvvPACn5otd90mZebAgQO53Q450tHMSGgzHbPrZKSSkuzEnj2hX+b66d76EaDxhLabOymLtV3B6w5atVt7DGHmbmZs6Hklqk5OAao+RuLCHOFoQtgGO01FjZYSmAqesGMbEndSGLSJTg8cO5E20qERl1u1UZdg5x0z2dEsjm4MYebu0iSnoXHjxr5NerJJ2KaY+dObeCCe4qOPi95EzubddmvbyTaEGeHizGkYeed1wm5FNvpf/2+s/Go5pl5xEjLkM3SGP7Bhd1w2fRm+WPlvjHQcjXQB/m8YaVfM0sfE0CwG0dbrzWmjn8fCW8IVls78Cje++TxGGxU8dYaT0Os8YQ3wBFZ9YfPBXboea8LWbbsafU8R1gih3MjziFvoY0Bn9r1yucmmNdVs/vgy9rF30Of5jKZNWbPhbMzKS9CIdw4jG5e/qFdyaubFK+inAGP5ILqj1yBhDfAkVn9pL++1YfK+Cn1OFlaCl7NgfMPhHrSjDiY2Lju5YQH1a0PD0fyzM8OdkaMPP8SI63pM/dmYJt2H4s+THsWCdz/Bt3x04R58teJ9LHj0Qfz5dyejSYb5feZGRCIEE39RS5nq5lcYbdiMzJ15B3eJEPTctdjMr5P5D4a52R388Af4x81PGH6gux6z5tyJ0KZhPabfPRNrY71eaj2ByoC1MdZv4UbfPpgb5svCUEdfq48iNPxDgUU0QnMMtKN07Ayln3m6SmOoZwymXsEyhD7faNmLyUjmFWZPTEhCcnIKUlPSkBTYKZyldVUlqqoqUHWskiUqa+tYtmChhITHw+SBKmqS+j2ykmVCGlGpTSP2lhmXLVuGw0eOsHtZOFR5sBBatmiJAQMH4tJL/4Abb7oRxx1nP2KLRk7efffdzP+lAeUhjYK84YYb+OhFt8iduo1GQlPOjdeMU8zlSElyJ8WpDFOuaUlKzXhVVsq1KuUIS0VtpwEqLhGTQz+fi8TtFpvthG2wcycqWmqXKjueqFn25iBxB42g7ItjzKmqa29mP4KEjV/RMoOMHjjWkY51jWxc9MQ+7MoLNY/brcnIR3mG32M0ZiOPpDHz78k8cbHNqL7aQnCaaP9BF+OGe6ZhytR/Y+5by/D22h/sZRAhjQdfibGmCdcZg2/4NxbmbMTbT9yMPi5X72h89s147L2N+Oatf+OGIearvrUe8zdc7mcH5wCdMWTmCnw+bwwGuwyv9YA78Nw372PmhTU4KjrmpOO0X98i7EFm26zpWbjsJUw36sKvPRun1fzc6VrCQWwWa80GzdfIj3BAVuFmY1gfYMMeq8CYvM+5WdiDPPrKe9byXv4yZhiHUY/8VbXL23SasVdTi6YlN/71BCxd/n6o+bvJaPVajHH5BbcmdNV7jYym5n6djHM23oZXb78Gsw11XutxV2PI767G3y4VDpK19+Kq2xeozXYUinpKAimcTfS5x6qqUMUVk4p4pH4rK/mvF1LJ5X6twx3bt2Pb1q1iAdckdkzC6Wecjuuuuw79+vblSsesRo2Eb2dICUib7JCC8pprrnE1/VsPjcykUZlGI6Ep5sZra9eGzpmQylKC/I8dO5b7kxvvULziFbkJj1JW1iFaD0Hl2TTVfw8SvuNDIL3RsZuWE3LfRgLto9PuOByjX806C/dPmTsdu/RAVdzXgqXso5fWI5yFB/96OS76/RBcdGZHZGWkBswJZzI35n7NX+/Ho/PfwjqaO9iYdfiNxq73n5we7t9oTD4owozZfa5NbdCq9MNYs80rAmYnPn9vGd5+h8yr+Od9tInPzbhsyED079nZXgaRkj4Qw/4qRvJ37YdhN0zD3Pc2YteBH7Dw3zdjcNdItklugk5DbsY/3/oB+3ZvxNvzpuGGP/RDJ37tNIy+cmAU1w9MR7crpmHh1/tY2s3HlBsuRv/+3YOK69bdNcXv1PlYsvFnbF0+HZd3qw15xR+NB/0Bdxl12/OmmE9nPPwZ/vXQs+IkyLW/rwElSq0d6bEJiwafjwtDzBSsDl8+3BWbXx+M3w8JNdM/tp7X3XjQJeE/Osyfitmfmsl7DWZPfU6cBBl54YC6uSxCHJHerjf6D2D1ud6ckR3F+lDhTCnWTvkTrnvR+OvMJfjHTdQ2ZePyu2eErgPMyH/xGlz4fwuwPcqbxSm8oW8fPBsRRk1BMTCNV5SMIobo01kkNe0STorKqkoabUm6IKVHiDcS9QXEm3FX2cQzwU1ZNOOWL778UlNUinfs1KkjBg0apC3i6hFSGkoFohU0VVwqE/W7c0cbGtEpFZYSeh4pKo3u8QQpKCmnkTyTjqkNduoKlZeMFhvlREDWcaRrAarEqMwTe2ib6BjdOx3n4WeKamb/11j88Eic1TkLHU6j9QjHYcact7B65QdY/W1oBz3/W+bG3BfPeRgTbrwc553WCq0698Soh9/Chgg/tC2pKOWbuaxetgBzZs7C7Mmj8ccL2Yc4MxddqClNL/rjX/HgrFl49ImXsXz119gR0U4s2bjsRTNlYHWaV3GZm6locUCv2z/ErgMszjkf4oV/j8Fl/btHTTGa3rw7+l8+Bv988UN8w9JlX96HuN3bb2ruSP7/9u4EwKay/wP4d2iGEROp1yRkKEsUeklIQmWNEL2WeNGrEMq+RCJLtkKWZIksIfzJWiEt9qwpoxhFjDKZhsyYsfyf55zn3HvuveduM3Nn7sx8PzxznvOcc89dnnPP3PubZymIsnX+g15TV+CzzUfws1EPp49gvZz9uW9b1CmbmsCrP3ZhgtUYb1ap9nB1G7PhqGe1r0t6Hiu8jYeaty6e6yNbg5sdxIS2TTFk+UHb7Ox/H16GIS2fxwTnGW8rjUanBun0et1VBePGTbRMY8dNcEyVsn776Ewh6ru58UcHm0OY2K45hq04ZK/vI59g2PNtMNGlvt9Cx2cC/f7IgvaMtXj/pXNqu8z9WMGpUOSFT61boKYinfo4ALOXa5Lw968HsWPtfEybPBx92w6wnJF7Yf/n0fetKZi2cA12HI5J88RssgX04anPo+1bruNuVp84DG2M39mVeuDd0a4tdk8v7IB6rcdij/tpBYgoG5JhKYc4lYpYagHLmze1SJBsYMnu38ElRHwRSGVtyL78KmuiV7D10jnvnO65q5C2PaO0OP62eAWMJxGCNWXfUHn3rl69ijlz5miP19C+fXv8619yLDz/yW7WRldrOct3oL366qvaUrbklMmKnDBIttaUgUrZytNq5u+MftyetIgW9SgvKqpK1pSz+gKZ8c5fvOR4UXRI8oIpx87QL5SuS+2nljdYlQWT0F6tkTJ9pVrzT67Nw5B7wwnxCb0rbrzRADdUXeb6ehxu+/SgviK3DWuAkAVtkEsWyTErbw/Tt9k8jhuj/4Ob4nXKPbc1cmlf5kJx66WluK4GMMr9cTvk2qsHK2/9dyWu/1vLpkpanrN7SYhe1Butui3Ar6okbUqi45zPMLljuTS0/IjHr1vWYM7SKVi+3MMELp6Ufgwd2/dAp65t8Wg2jGUcnvkMhm1QK4YmE7C+h5uxi/eOQ4EnRqgVZcQ3uDxUjt+4GxPz1sYovVQZha1JQ+Bmwm75G9l2DbQkLh3iyqNWsi55HdSvk/pzMZ63/foYixVt70XnVXLdrvnHv2PpC750wZfBysfxlloLnBZYEPOp/Yu1Oxc3oe8jTfGBp6FOLUXi5TXHMKWJh+CVDOK4BFzlbOZOM5N74fXcS/I0c/x5/F+3h9DTaezFZjOPYlYrN7OY/74a3R/phnVqVdcCMw58iOfcvp55cUdBb1fA3ZiQ53Gn910LzD+10kM9yc+vKutk79hQ1Hc8GJotPIMlns7DuE3o94jFrPdeRaLbqqOY7Km+ra458rpyzX19p+5zRyy2DOiAqcfUqlKp52KMa+LvMBhpfT8Llud5Omu1GKeWtQ3KYUzkZD2lXnSaLfvNb1Pd9f7vk5vwyXsz8MHaTYj2+7okRaLsCz0x+NUuaFPdz/Mh/icsHPAseiy06HFTfTR2fjEUlcxv8yviet5IXM+dJuDRRNZF74kTMbhVFdwhJ1b6fRnaRXWA46XIx+s0mbi/Jtr5e00JJl6fXJoE+3c974L5sctPK/L8tCdZnbJM/s8lx7SU/1QdyKX58yZljhzeDdxoWSlPQ9/aV/3666/aySsn1MkVkgvF7i2W6kBlsJIBShnIlBP8WAUqg42thazq1k/Zx80nuuKmu0//KfHig+sfTukf26+UW8a4lXhIThBuc6uEWNeI7UE3XmUS9k5ohibpFqiUTmNRt6fx/ITd4uj+S4pehmENHkLF5t0wLbWBSunkbiwa1RH173sA7afsdjsOm3uHMEe14DSnOd+rzZnsWrzeutUhxae5CUnOIb4otneZGKWN99aH2d1djTB25Wi/godSkZfn4k1PgauMlLeg63ARtlQI4VYzMOcvZLGvkayb3Idb7muk1P6pZg26lLKY8dyWnM9Ze3IOVPqkcCOMWTnK7R8l3CnSbQ5GWNW3+rKlJVWUEf4+K65/XzqmXzm5SdZ25SesGPAUqpRvir4fpDZQKcUievlwdK59Lyq0neJjC8d4HF44AI0frmgdqIxsiwWLnQKVUv4aGLj4U3SyGg85djumvVgVLaaqP4gTUbanByPtyfyLUW+IJoOY2pr8QUEgRwcr9e7Dsg2WSPqZ6ZVscSjHqdRS7lwoVbqU2pJ2stWjL4kcybrT69K/7vwUPG42HKO1UEx5o6HeXdvmX7g+bAWSp4k0rIG27XpntW6ZusIYiujmM+qY04fgeoQqFG7WGaLKx9gm5AkWSXvfRd8R2y0CgiXxaMfXMXnhOqz/+ih+cZnc5gz2f/05Pl04Db07GuMKmsVix4hemL7Xv+BZ0t5xaFKpI6btSPW3EgunsW5obfy7yzI/A7JJ+Ns5GCjS344nTNZRugXWb/ncMbUqpzYS2eWtPhTzl3URVwHflOz0KbZNb5RhYxc6f/h3TmIz+SHvo0Mwf0lni+u4tfs6rsDWaRlX3xntjmJ1Uecpx3RffrUxm5KtIS27m6ciubSqTA2thWJFdJ5q9fkk9U6vGoB6j3TACh8+DMTuXwrrjyI18ObKuWjj7g1zXwvM3LweL1v9xaf6aIx72XmoDQoo+SvB4veEr0n8UAfKJE6PJ70Tf2EGnnilLV97+cq7C1SKzayaTJLjg5XyBZABrtw+tsiTs2XLsSmNFBnpb5cWSm+yNaUt6MxgJWVZ8dixeASchyErUmcU1v/+M7bOmYBuLzRCnUfLoYhLq6FIlH20Lhq80B1j5nyDH2L3YYxLd7tDGLV4u+8tGpN2Y3qvEdirVu1KokG3aViyZZ+4nz9xNj4Fl5Nc059yW/Q+fLpwAjrWcb1OXljaEUOXp2cQNIuR40DKWcPNyTYe42Po5RCMlul1v1tb5UyRaDYrDuf+cEyzmvv6u7oGejvdNs3p4Idoro6eWiVbfYidBxej95MenkdkebR5dz92ftjC58AmBaf7Ws3Bd98vQm+La6dNkXJoM2UfvpvTwufAZtYTiQYTv8TGjY7Jr+7k/+5r/b5MZTowK1BjQAarJOyZ2suyK3XJhj0w7uP12PmzfG3+sRwz85+/xLbffsC2dYvx5gvlXbvKxy5D58HexvwsiAbjPsVANZyPTWQjjNv3JQZW99Jy+r5GmLLpB8zsZOpmI4Ock/qiejYPfBORKxmaNAcqxSpbVAapnN0N3Bbg0pMvrly54hCsLFQobeNsVq9eXZsF3J+UFsZYlWmdMEfe3tO4lxnJPlGSng8W5ougY9K2avuQK/EKWbxmfqQs+9qexhGncdu0WZcnDEEdf0djKChuN6IvnD/XY+0hcS8+OrARo5wjp2iByYeP4tNp3dGsTmXcJwOlbr4j5JXb7quMBi+8jhlbjmL9UNexG9et3p6O3d2zF+31c0gWL7Qcg051OY3Ia58d3jKJ7eYuqumXgq+rtutrJ5IfvYAtb5+mlD4T491RoS3GfX4Sp/Z9ipnj+qKTamXWqd9EzFy5H6dO/IAFPasEXQs77apsda1WyfKrgfjWYBtTKod+eZD1PWbLz/hlzwrMGPs6OtYX9S1Sx74TMGP5PvwSfRTzelROt/oWVeFSN9nis8ptcrxSq/dl6lLBHBfcOogdH7h2lW4wcT++XzcdvV9ohEr3ydfGzUU2v9gWWR7VG7bFwI9/wMF1Fp9NVq3CDm+/R/LXwKD37UNilGw1EdsOrEdvl77fbuQvj04f/oJTn09EmwqRqD5aPHZvQU5KBcdriEvSrinGdd3/pPWk065VmZTEoyA3nF+roEuO56Iczi93rty4LfdtCL0tFCG5xNklTjP5ueOmmnTHSDfczBZuPi5PjsBgy0pT8ub69eviZL0hTuxcWhfw3LlzI1++fGpr6sgxIWXgz5+UFtkxWGnUoww4+1KPRMEpCa5NCwql/ouR+ILgMoKZOP41lfXmwpnjKmfSqgWal03Nh/uCqNOwpcqbrD2drl3KiLK/vChSqYUeoFStzLTAZfMqKMLv3QEgJ9i5jivX/E9b31SHSBO9vrUA5YbPsV4kLXDZvDLrO6cpXcOlO3yqkz9juP5+GodcOkG0wH+er5KqSfvuEJ8FnlN5uzU4fVZlPchbvS/GjeuBcZ//ju+X9UX1u9QGPxR5si8WHPwd2wal7vETUfYkA+la0FFb6iVG8NIIUmpZU6zBeZ3SH1tWqiCXXHqTnJysReBDtDErcyFvXv6aCwZ6oNIIWPKCQVlVOTzcTWVttmPUmGX41RiI02ensW7qTOxQazbdKqOsynpzx10WHUm/PYhD8Srvp+hDu1TOpH5kUM6eSkQZx7IxgmqpYHxxIDfES2O8TpaJr1320WGiS3f4VKeefozTWDjSYpiBXdi9P5XDuEQfxG6VtauLIj4FHvOier/p2nAY/AZGROlJtqyU8R25dP7coQUtzXmnAKa2rq9SOsvxLSuNQKUv3cBlM2C9RWUu5ArJjbCwMLWFMpMRqNRT8HQDJ/JPQdRp/rpL8E6O7VixUjP0m7kGe6Nj8bebGaaT4uNxIXo31i0aiPYVHkD7OYfUFkMkejev63OXwbyV66Kby4N5F8/XaoOJy7cj+oIPk/VcTxKPaRPm9HgGTXpvUoV2jzaokuax1hIvxYvXJH1Tus3hnXTJ8vipT+n2yLIMeV5bvxapSTnv9aO0S7Q8l7yn+ER1ANJdSd/rYZLff8SjVMlbBU/2dB4jNBYftH4c7cYsww7xucSXukiK/QlbZvwPjZ/uhS2qzKZhO9SxmrGbiCiDGH/kk93DtYClilfekv9uuQ5NYwtSqnUKjJCExORUvsKywvSKtdPLtJzKmJdGhcqFsW5OkYVdOi0G1IvRQ8RP+fj1x/hx2XHa0p1r165h2bJlag247bbb0KFDB7VGmUWvR0OIqMexKp+5YuPibRc+xyS32te1NZel9lPLG6zKgklor9baLNs5Sfo/5yTsHfs06o9ybXeQVo+O+AYbhj7mV2uEX5d3RP1Onge+L1KhLspZzHUQ+4MMaKoVK4+OwtaNQ/Coz93cd2Ni3toYpdYCpwXmnVyBNveqVR/tHRsq6k2tBEqrRfhlSVt7QPt6Ev6+kvkBuDwFC6a9lcvvy9C+dEesU6sB0WoxTi0zvX4ZRTy3dlEd4DgkbQssiPnU7/MsXe0Zi9trD1crhtHYljzUNi5c4MViedt70WWVWlWaLTqLpS+4mURFvp6lXnQ6V2R37ZVpfD13Y0KexwN6jWm28AyWuHteqSE+EohPEmrFC1Hf+Z8YoVYM4jp8Ta/v9PuMEYsVok47O9VpenvzmxsYmHEnqo2cqdtlhu10vrZY3kd6e/Nb/DOshlrx4tdl6Fy7A1Z4akwZWR51Klqc2+d/wo5jnm5YQ9SlD5PkBFqwXqeJsgp/fh8FsVsyLqT91+NTRl773m56fs6/M4P9e3pWlcNbVqrJdbTZpPWApSeyJaV5ch1j0FXKXHr3b9VCNoT1QVlZXjw69DN8OyU9Z3ctiWZT9mG1n4FK6b4XFmHr8u4eZ6G+cGw7dmx1TZ4ClUWaTMC36/wJVJKldJ44IrWJ3fGIAkR87zH+sGmZ5A5EgXZfWyz4Zr3W/dqt2J+w40vx+985eQpUlm6BKb7M5k1EFGDiV6r+O1f/oZepvLaUQUsZvFQxIy2OaVqnwMjhY1aqcQ7FiSaX3sgPhvnz59cm1pGT7MiUkJCgtmYNcXFx2Lhxo5ZkPrV+/vln23Eym0M3cO2iQZSVFUSlHivww6+fY3K3RmkIWpZEg27TsP7Xn7EkDTPG3td8GrbGHsWSEW1RNo3NRu5r0B2Tt5zBL6teR6WMbUhPREFKfSdwYA7IWe5AOvnymF4r58TXjtLNfY0w7vNjOLZuIjpVj1KFqVOkQiP0/vBbnDr6KV72dTZvIqIAco47it+i+u9Y+c/0+9Q5SGlfp0DgmJWQM0jrLSx9UbBgQeSSHwK1iXbSL1i5e/duzJkzB2+++SZeffVVLQ0YMABTp07F9u3bkZhoPfiRvJ3cx11atcqxH85ff/1lCzLKvBV5XzIYefas+6n5gitYaR931Nd6JAp6Reqi27R1+OHKZfywZx3mTZmA3h3rok79uq5BwyLltPI6HV/HmCmL8Omen/HnlZ/x6bTuqJMe/dIKlkOzoYuw/9fLOBu9D58unIYxQ7ujmbzPRy0m4jEeT6vuGDB2DpZs2YcfLqbgh7XT0K1OOnaBJCIiogxSECUb9sXMb37BP3/9gp2ff4qZ44bi5Vbi9/1T4rOJy6/3SJR9Um5rgZeHTcTMld/iwG//4NTB9RjXqQaK3KZ2IyIKIs6BSi1YSZnC65iVet1YVZDsx6+yNvYyI8JsXhpRaLkw1s0po8es7BLdXzwzcd/q+c0vO0lbenLkyBH89ONPuBUin0QISpcuhWrVqqmt/pMBwQ8//NBrK8fw8HC0atUKjz32mCrReQsYPvDAA+jTp49a04OMMogpyXK53cz5eIULF8b//vc/FCtWTJXozPu9//772jKz6PWoVYc8vXyqx4yQ48as7NseKePmAXlyyF/JryUhdEhXpExZogqIKJDkNVC/RurXUe3ThfYj7VdGdZgASYLV5D7pMtZnWnw/E42Hr1YrhpYYt7EHKqk1ydtrm9bXTk6idE3lbfIWxB1uXxzH11N+fpQsX095znh8BvLzp8oGgPyEmaYXyOvj94Oo7ybDncZBDGkh6runQ337I9DnRlqfubf7T83xk34/iN0/x6s1pUB5PPZvzlCdpcXvwkfzduFvtaoriMe6dkF19gRxEMBLJqVRmn9b6F82ycKNmzdcTn7zd3NzXnJep9TJ0cHKl6L76ueceHoht0Iwt+xkrdyTixcvai0dxcMVr80t5MmbF00aN9G6hvtLtmAcMWKErdWkDBxWr15dCxBKslwGR2XrSYNzgFEGH2VytmfPHi0A6k+wUrbClM/NmQyUyn3NActgClZ2FfWofYGV55VYn+dDPWaEnBaszD1nAm6Vr4SbtRuokuwt1zdbEPLTYdzoNlCVEFEgyWugfo3Ur6Pa72/tR9qvjOowZMHba5vZr538/OiWPGc8PgP9M2mgiKOn7QXy+vjTKI3H93bLtL60aX3m3u4/gK8sUbYVwEsmpVGar2n6l02y4G+wUrIqI//k+G7gtnErfew+LAOJefPm1carlFPbp1xLxunTp9VW/8ggpBGobNy4sRYQlC0nZQBRpocfflibbdwcbHQOJt555522/c1JBhgNMkBpdC03ApXOZAtP49gyKCnvUz4mST5G5+7kwUSrv1t6F3DZpZ8yx81GzyP3mkVaEE+2Osy2xHOTz1E+V/mciYiIiIiIKHsyGhmZkzkQqf/hk6H89JajW1Z2i35N5XRzyr6ncp79+OMxHD8eLV6VEK07eOhtt+HJJ+uiQIECag/fmFsnduvWTQtOWpHBQjl+pSQDkebgpfkYVuT+MuhoFaSUx5HbpcWLF2vBUxnkHDVqlC3YaT7+W2+9ZWv1aS7P7JaV3aLl6yHOUXmaivNoTlnrgGxGy2ktK6WQM6eQa9OnyHX8MJCSrEqzmdAw3CxXSQtU3ipeShUSUaDJa6B+jdSvo9qnC/0jRpqvjOowZMHba5u1Xzv9M2mgiKOn7QWS53xazu603t6LQJ8baX3k3u4/cK8MUfYVwEsmpVGar2n6l02ycPPWTbcnv/xdr79y6qe2sL+Wzuvku5DLSSmpvOZYfcCzl8ngo/NSz+v7GOvmlNHBypeje6ucFIIPfAxyJScn44vPP8f169fFs9HlyZMHlSpVxj33RKovU96Zu2TL1oyyFaXz2JCyK/emTZtsXcFl4NFo8SiZg4ZG4NFMHk/ub0yWI5dGK0lzsHL8+PHaNhkwlYFTgyyT2yT5+IwxM4MpWPlKdB95VmnXADmU6Oyy09SWzJUTg5VERIEir4H6NVK/jmq/f9Uv4bReGY3f5eTK22ubtV87+flTZQNA+2ySluPLcz4tZ3dab+9FoM+NtD5yb/cfuFeGKPsK4CWT0ijN1zT9yyZZMP8+t8o7f0/3tk6+ydHByu7RvbSlfFTy1JlVdrq27ovffvsNhw4dUmt2YWFhuP3221GoUCGUK1cOt93meao7o0WjQbZclF27Jdmi0ggySkb3bHMXb1+ChjLgmS9fPu127saslF3EJedgqGRscyezg5XdT6jHp82w4189BhKDlUSUY4hLk7iiqRVX4re8/svWDW/XN3l7uVW/RurXUe1w6pjub+kbDw8tx/P22mbt105+/lTZ7EhUnqf3ZVoF+twI9Ps6cK8MUfbF35fBK83XNP3DGHlgfJ51Xlp9jjWXWW0n73L2mJUhN8WPm8glkq9jVhpKlCiBUqVKiduqoFOuEH0My5QUxP/9N2JiYnDi5xNqb/dka0WZjO7VMrAoA4oyGYFKGWSUAUTnQKUzGYQ0J2OcyjfffNMh6JntyAuE/LYRIr7MyjolIiIiIiIiIkon2h8ALWKO+h8+tR+UjnJ2sFKcVbnkmSWSnGzHXxUrVkS58uW1mcBtActcubTIuQxcJiX6NsmI7Fotx4McPHiwFrg0Wje2atVKC1BOnDhRW/cUqJSMIKeRUsOY8MdgXpePUz4emYzu4MFABii1yZK0sSR4kSAiIiIiIiKitNNaRnppGOkcsHReJ/+FXAmibuBFMrgb+KvR3VVO937ZWSrnnytXrmgtKS9cuKCNZynJ7t/VqlXTuoM7c+7enRqyq7hsjekpMGl08Tb2leT9GmNWymCoMUambIkpjyNvI4ORhiNHjmDOnDlaXpYbxwymMSv1epTnln4FSW09prcLf/2tB7FdktxqX9fWXJbaTy1vMLblBJ6eqX5FoazI2xmc0+s20O9wb69vVrnCWF0fczL95fDwesjPWCpL6SzQr62Xcz27vws8f+6R3x1UNgvSq9bD8/Nybnm7vfxe5Ym366j323t47OlQNx6Pn8bXxisvx/fG6/2n8fhE7qTtu6Lr+9bxeGK7nBwiiwrRhotLy+vjmXHNdL52Guu5cjnef9rqKufI0cHKXtEvq5xuetkPVC71ZCBSBizlGJGhoaGq1JEMCsrgYFoYrS/NjOChDCgaQUVnspv5nj17tHz16tVtQczt27fbgpiyhacRxJSBShmwlGQLT6N1ZzAFK2U9au93cRGSF9HpZdJej+mBwcrU8/RM1SWGsiBvZ3BOr9tAv8O9vb5Z5QpjdX3MyfSXw8PrIT9jqSyls0C/tl7O9ez+LvD8uUd+d1DZLEivWg/Pz8u55e328nuVJ96uo95v7+Gxp0PdeDx+Gl8br7wc3xuv95/G4xO5k7bviq7vW8fjie0MVrplvmY6Xz/lunOwUkpbfeUMObsbOPTuw8YyPchg3h133OE2UBlIRgDRUxfwv/76y7afzBtkt24jECkDqTJwKZdGoLJu3bpeu6FnFq3uxEVAq0fnqywRERERERERUQaTQUmGKFInR7esfC36JfFoZERb//le2blaeUYzt7Q0d7WWjJm4nbtnWzH2Nc8o7szcBd35vuSs5HJ2cmepnYU8o/QR9Wj8XUL+0WRqmcypR2dsWZl6np6pusRQFuTtDM7pdRvod7i31zerXGGsro85mf5yeHg95GcslaV0lsbX1lvdZZf3bGp5/twjvzuobBbkre69nVvebi+/V3mi3zQtt/fw2NOhbjweP42vjVdeju+N1/tP4/GJ3Enbd0XX963j8cR2tqx0y/ma6eka6lxPaau37C2Ht6y8pWYCT90EO8HKPKO4c/I0VqYxgY7RBVwGJ2WLSudAZbDR6k7OBM6WlURERERERESUQfwJQPoT2MzpvAYr5essX2zXJGe9tipPfcpwIXL2aBmsFEstZQ/mWbudk5xUxxPZ0lKOWSlbS8oxKuX+wRyolHJpQUo96CyDz0REREREREREGcE5puUpxsUApW9ydstKcZKEhNwSL0LOaVn5+++/q72yE70O5VK88/UiIiIiIiIiIqJMIgOWDE6mDruBaydO9gpWyqCkMaakc5LjUmY3RqBStpDV80REREREREREGcfX1pQMYHqXS76WRhNVqyRDetmVPgu4DHAZXcGzNtmF258U7N27fRai6lCNWxksjHcPk//JE6v9mbJG8sbqNjkpBZrVfZpTViY/rlh9hskJSfxQr4IbTvtnt5Q28ouCMRRQKpKXyQbko7N6zEYSP/Qd3dBu7y05HTM9U2aTX+TcJ7VTFiUfvvXzUknfzS1vt/dG7mJ1OyN5Y3Ube1I7pYH1cVVS+7gjt1veztekHybVvN6/vluWZXWtYAqOZHm++ZG079Km5Pg7T5SJoqyaMppz3eTOHYJcuWS54+t769YNlRzrgnQh/1yTs4Gn7gOJ6wspX1yVUxnzUs/r+xjr5vSvO+/Q9s0oA6I7iGcu7lv8lMsJZZeoLZSVDIxur53Cej0CE8q4zmieGf7gbOBEROnO+vqo/dTylLPIz4+pp38uTYtb2gyj1vTTMnDnZaCPn7bXloiyI34fCV5p/X2YvatWPrnMfIIyMOlaP0ZZSEhubWng+0yXo7uB6y0qjfEOKesS9Sfe6HKSHTlhEhERERERERFRMLAKQDIo6VnOHrMyRA9W6t3Bb6hSymq0ptQMPBMREVEGk1803CXxQ+1FREREOZ3t84GJ8zrZ5fDZwOVPfRwGniJZlzGruz5eJVtWEhEREaWV8aWKiYmJyUgUvKzqy59EFGxydLBSC1JqQS4j0EVZkWwVKwOW2WWiJCIiIiIiIiLK+pyDwQwQ+4bBSm2MQ70LMWVNxmxaWl77SURERERERESU+ayCkwxYepazJ9hRrSr1cQ7ZIi+r0ltV6q1j2bKSiIiIiIiIiIIJg5P+Cfnn2vVUNyl0nX79lpyUWc+pjHmp5/V9jHVz+tedd2j7ZpRh0S21lnji3rXl22XXaOWUtbwh6lGeWfpb/1bQ1OMff/2tXZBck9xqX9fWXJbaTy1vMLZld1or57Q8VXl98XAA/aV1v11eizKT53qW10qVdSNN54m8FquslTTXTVp5qdusLrB1J38E8LXzcv/eeHt85velvpvjvlZlRN7J8yotZ66UmX/3T4/HT0SUnnJ4x82AYqOc7Mrb98+QkNwqZyX7fhbI8S0rEXJTtazMnhWcI7AOiYiIiIiIiIiyhRwdrLwNubUuxDLIJVsM3bh1Xd9AWUbyzSRVh3KypJu4LYR/zSMiIiIiIiIiyqpydGTn9tz5oY9zqAcrL6XEqi2UVcSn/GGrQxl0zp87Qt8QBGSXznRN8p9VeTZL4od6BVPJ6XjOSfxQO1qzuk1GJs+sb2NOaWJxPHMSP9SOmcTp8WS3lCYWxzMn8UPtGCBO9+dvEj/UgYiIiIiIKKfL0cHKf+UpLn4a3Ydv4ud/vpfFlIWcvHpIBSpvajO7F9HqlIiIiIiIiIgouFn9Id+ccqocPcHOt399ii8uLoAculI8AvwrT0l0L/k+cuXsGG6WcVP8m3X6Vfx57VctXCk9fXdnPH7n82otc/15KcHyYiP+C/Z1bc1lqf3U8gaxt3NRUPnuwGGVC361Hqmkcjlb1qqzh8RP+QYI4jcBBYz8jGCwvD5alBF5p38uTZvM/MyYHo+fiCg98Xt04HCCnZzL0/sq+34WyNHByviUC3jvVBfxKmgPSJSEoHGRHni0YFN9Bwpq++LXY8OFmWpNduXPhT6l5qNgaBFVlrlyYrDyqepV1Frw+nLPQQYrlaxVZwxW5mTyM4LB8vpoUUbknf65NG0YrCQismOwMnAYrMy5cmawMkdfTWRQq2KBx0Xdyje+DHbdxJY/ZuPU1UP6DhS0Tv1zAJv/+EDkxBszRL9wVxB1GSyBSiIiIiIiIiIi8l+ukJBbSFWCnH3ZojwNKTM8fXdX5MmVV7XHuIWbt1Kw7OwI7I/fINb41+pgI+tkb/w6LP19uKirZFFv4ty5dUvUYR6tLoOJ1TmuJfmYrcrNyZd9gixlJVaP3yr9teM9jHhjEGbuuGgqv4hv3x8kyt/Dtxcd9w9Eunx6Lw58vxe//m29PS0pKzFaJVs9D6aclbQ/LlqU6S0OmLJeysxrkfz0J/9un5aUBrdu4tatG24TIJPVa2akrHUdJ6KcwOpaxZQ+iXIqq88I9iTPDavPJ0bKuj2PQq4mp6Tuk47suq2ydrI7t8qpjHmp5/V9jHVzurtQQW3fjHbs8lf49Nw4LUAkH6GsTrm8O+w+/LtgY9x/ezUUCo1ErpDb5O6UwVJuJmld9k9dPYDv4zfiYvKvWrm9rkLQqugQVCzwpFYeLC7G/y2+RNu7e9uS3Gha11edlvqKljdot3QsCirffn8ky3QpfvzfD6s1zy5sGoWx62NRpOkIDG0UqUpj8fmoUdhwIRJNRozAM7bGvIcwv+cceB0F8pFumNq1slrRpZyLxpFzCQgvXBYPREUgVJVLh+f1wPwDQKVuM9ElnXuvZ0SdJV++jGvi+3aeAgUQllsV+smnOruZgsQriUhRq4bQ8AiEn1iO4UsPIvLpDnjg65mi7iqjy4xusHw5E37AhjX7EFeoGp5rVhERqthZypUEJHr73JgrHBH5zbVJqSU/I5gZ10rKDmRd5tD6lMFK7dOMNf0057lORESUkzl/DnYWEuLpS5a8refbBysGK5U9l1bj8z9my0enSiSZlyEiUSo/Mdo2GRn5AVLfRy7tP83s2/WlsWY+hmRfN4Km9m0yJ8s87Wsw7+O6vyNjH+elQV+3HUW2XrllWxPJvK8zuV3yto+n7c6c95frufD03d1QI0gm1TFjsNK95HNHcPjMNeQpXgkPFw1TpULyORw5+Duu5bsXlR4qCtMWC3HYNqY35kWXQ9d3h6NeYVXshbfAlxEcdKdI026oum+ORbAyBYkJrsEym9gv8d7ULxHnEKxMxOGFb2H+3gS1DoSWaIYBAxqiiPxDmBC0wcqrl3E5WWbyoEBBdzUVh7W9G2D0zloYvnEqmv9LFf+xFn0aj8Z3NYdjy7Tm8FZ1PgUrL2zG2FHrcEGtGrTXDXPQZ84hU915CFYaxynSDENHiHpQxY6MgLVadcfjMcgf8jOCmXGtpOxA1mUOrU8GK4mIiMgL58/BzrJrsFJ9HabqhVrihXtHal3CZWVq3dxFTi6lEPGBUi8zQobmffTKlz/17cYJYexvLPW8Xi73NW6rJ/248oOrTt+m31bmjOPYyXLjdgb9WJK+v/m+5H3rx9STZJTpxzFuY1839hdL7U3ifFs92W9jz+tkmXF8uc3Iq3JtvEl7mbaU3fpsx7MnfT/9GDLlyRWOlvcMCspAJXl2ef88dO/ZHbO+icHl+Mv2dPpbzBLl3T/ch8tqX9yIw765fdDgiaqo+kQD9Jm7D3GyZ5xw+UI0on+8iMtqPT082G48Ro9zn16vZ7SwdBaK8IgIRLhLd+SDc9vslMMfY9neBIQ/0hmjp0/FgEbFkfLbOnyw9ozaI8jcuIwjn76BLk/JuqiLuk/JVBNVq9ZFlxErcMSotEPviTKxT1UZqJQF32F0Y7leFX3WxWm7BIwMBs+YaUv+BnhTfj2lBzz/PIWz17QiD2TA2n5fLomBSiIiIiIiIr8xWGlSJn9NvFJyntadWA8A2gNk9rwRMJOMbXqAzh6kMwJsBlnmvDTv6xrEs69L+j76/kawzrhP59sZ5cb+kr6Pvp/cZgQv5bqRN+9vXjffr7Gvvt2e129nLPX7sT8eY13n+NjkeJP2/eQ2Ua6Nu6Dfh76fnsz3X0HUkVZXEfXFGmVV+ya2VwEvldpNwD61zRC96BV0n/0dkh9qgzYPJeO72d3xyqJotTX9yW7DEeEp+HndDEwcORjDh4g0ciKWfXceyB+B8DxqR39dugjZfrJIUSPYmYLvvzuERBRHg1bVEJErFMUaP4vHwoG4/ftwWu0VTGKWdEGX8ZtxsfpwLPlyP/bvF2nPdiwZVgsXN05Al86LESN3fKgHtn+53TKNqAVcjr8GrVFmIByYgz49e+hp1CiMlcs5Pk6adjMWn2/+QeV/wJYvYvW8Wym4+ncCEhKsU6LXYCcR5Wgh9l4WVkn/xENEREQ5mdVnBHPKrhisdHJH6L/Qsugb6FVqGerd/RJK3f5vRNxWGLlCcqtAmRE404Nnkvn0MLbLwJt9P3vAzbFcD9yZj2ts0/Jaq0M9gGcknX2p37d+LHu54+Mw8vbHaawbS3lbeRvjGMZjMh6rcTzj8ej7G/tKskzuY98mOW+zJ/045mMbyXwcfT1XSC4UEHUg66Le3V3Rs9THWh3JuqKsrdaILXrAy0gbh6OW2qZJ3oe1C2KAoj0we9pADJw2Gz2KAjEL1mKfLdqlWu31Xov0abOXgu/nDceiXRcR+XQfjBg3Gj1r5cOP66fiPYcWj7HYMEoGxUbhc2/dgYWUSwlIFMvw8Hx6AU4h5pRYFCyLKGMEjFwVUaaMWMZH48RZFfBy2688o8Uh+pAWikS9Fs1R1njMuQugbLPmqCfzp/chWlZC7jAUCLuIbbP74PlmMhDdAM/3n4VtcXnw+5IGlkHpdPNQB3tL2L4D8LpctquoNnpwMw6750zU6rJY085oUkyOWToRH+zydFbFYftUFdC2SO9u8xbsJCIiIiIiImccs5IoQDhmpXtx6/qgwajv1JoFYyzDE/PRrN1MnGs3C/v7VtM27ZtSFd2XFkWPpQtQ+H3ZzbgsOox5DbWK+jLOpS/jH6qJchzGGzSXVcZhbbzCwqjbZwDqRYYi4duJmLjBv8BUpW7dgDnO9+N+zMxgGLMybmMfPDtC1FuZ5nhtYFc0KlkAuByDTYvewXtrooEn3sZnUxqiMJKxb+KT6L78LrSZOBvd7z+OWT0HYkV8G8z6ciCqxQdwzErbmKD6GKJx8VdR5NI69Hc3ZuXNFFw4+hk+/eRLnEgACtfqgQHtKiI88RAWjZqD70VZRLmn8HyrZ1GpqDFZjrtJlihQ5GcEM+NaSdmBrMucWp/652IiIiKi1PPUBjHrftZgy0oiynCFG75t2UXYlsY00gNYVxNwTi5vs/e9zqMN/HgOCVe1VeEuRFWphmo+BCp9UwpRJcTiz4PYJaNXQsL+vTghluGlipnGIAxFvjvkeJThKFZ/gMO4llrq85T+HO5+Cj2dt4nU9sEI3Cn/PnPtqtbiUpeiug5XRNsp+riHXR7RNgSFwo2n4rO5w9Hm3uNY2b+Z3nW/RR+sjL4XbUbMx2cTZaBSuobL8bLpawEUvbcoChS9F0XlcxX1ufatqqgqA5XafgFg6wbeB4OHDMbEiZvws9rkKgHfvNcHY+d8Keq3FGp3Ho0RMlApN4VXRsdRo9GxRiQST3yJ+WP64N2v7BMh6Tx3A0/wNOESERERERERWQpJTLmeujCruNUt5witbCFpy+o581LLq32MdXO6q+Ad2r5E2QFbVloxZodWqx7VwvAPamHFyxMQ/fxU7BxcC2G4jG3D6mLglmoYvu5tYHwgWlYKcfuwbMZi7L5gDzWFRj2FV3u2RMlwH1vV+TCrtN6KsjDq9h+N56JEQeJOfDBwMX68236b4JgNPBnnjh7G77YAsWd3PVgNUZe3YXT/N7D2hOqvn68smo+YiEE1C+Da2U0YKLuCp2fLypspSLxiDg7KCY/CxU/hsIfZwOOicSKxBKKKqX2tpCTi7MnfEF6mLAprf+LzcTZweJh1nPwiPyOYGddKIm+czx1nPJeIiIiIgg+DlUQBwmClteTLl3HNPHv3HypwVXUgloxvhKKqWMqT7xwWP98eM8/VwsA1U9EGK9CnxQR8V7QHlqxrjuPmwGd6Br4M1xKRcC0FoXnME+u4CVY6B8tiv8R7U79EnGxZ2fcp2OYQzxWOiPwqLHZuMyaOW4ez+cqibrMKSPhiNb7/Mxz/fmU8Oj6k7xMcwUo/g8wbp6K5GlLWqO88BQogLLdehrhtGP36PBwv2xXThtULSJ15ZgpkUpYgPyOYGddKIm+czx1nPJeIiIiIgg+DlUQBwmClj/7wPH5h8qH30P4lNcu0Jgod5i7Ba5UvqwCaY3DMG98CX55aT8bhm+kT8XnsPXjmtT6ofbcqNlpSqlW3nFpaJp7cjEXzN+HH+BQgTyQea9cTbavaX4XgCFbaGeONysmRpjYTj1PUT1VRP+g4H/t7O72uNy4j+st5mLdkHw6fjkac1jIzDIXLRKHSYy+ia+eGKFtA29Mjf4KVFzaNwtj13sYPZYvHrEZ+RjAzrpVE3jifO854LhEREREFHwYriQKEwUr3jkyrii6LgA5z9+O1h5Jx+fI1IHceFCjgphP3H0ewdvO3+B334vGGzfGwFpg0WvtldLAylXzoFm4lKwcrz33aBc3GH0HYEz0wtXdzlCso6/cyYta8g1dmfIfkhwZi3YI2Dq1prfjVstIjo15VsFJ1D/edOB/aRGLDCn9uE5i6y2nkZwQz41pJ5I3zueOM5xIRERFR8OEEO0SUaZITLuuBSumGnJRFrGtJjXNo+NfDaN6xB3p0NAKVGcXLBCqJ3robU1B78EWXiY88pwGo+5i/t5GTKan7I6IMJ4ORnhIRERERBR8GK4ko06zoW1efUdolzcQRtU/misP2qYMxfIibtPSY2o+sFG0xFUvGdMDjF7fijY4NVN0+jwFfXMTjHd/GkmneW1UGVGg4IiLkjO6+pnCE5vH3NhEI5+CYREREREREPmM3cKIAYTfwwLOcvMWL9OtS7Kdrsfjx6BkkhhfHwxUig2Jyl8yos9RIzzpLuZKAxJucYCerkZ8RzIxrJRERERERZT9sWUlEWVZYgQIoUND3QGWmyhOJB6tWw7+DJFCZU4Xml60dGagkIiIiIiIKVrly3RI/0ivJA1qVm5OHfYiyE6tzXEuethnJl32CLGUlVo8/J6asxOrxM+WcZLRENxIREREREWVfbFlJREREREREREREQYHBSiIiIiIiIiIiIgoKmRCsZPctyun4HiAiIiIiIiIissKWlURERERERERERBQUQq4lX7+l8v4Rt7olfzgQJarolsqYl85553RnoTu07UTZwV+X/naZFMJIknPecan91PIGsbdzUVD5+sARlQt+TzzysMrlbKwzyipuBvG1j4iIiIiI0heDlUQBktOClZT13RLnl/NV3UyefiGediAKEAYriYiIiIhyjqDqBi4DlkTZAc9lIiIiIiIiIiL/hSSmpGPLStlC0pbVc+alc9453RlRALlycRhNyvpu3ryJvxIu21pPOifJOe+w1Fe0vEHsrTYQEeUs8tLHVr3ByVuLbG9kvfJXGxERERGZpW9k0Cm44szbh9GbN/lNhLIHb+ey1y9mXt5LRERERERERETZUcCaMRqhFn9CLjdu3lQ5oqzNn3M5Ne8VIiIiIiIiIqLsKKj6XF+/cUPliLI2nstERERERERERP7L2GCll66tDPBQduH1XGY3byIiIiIiIiIiF4ELVhrBGB/GsTTS9evXZRFRlifPZfO57ZGP7xUiIiIiIiIiouwuTcFKbXbiNHC+tZwRPIUBS8ri5Dksz2WztIYh0/peIyIiIiIiIiLKClIfrPQzduJ2d9mazJSSU1LUBqKsSTuHnc5rK9alHvh9AyIiIiIiIiKirCXkWvJ1xyZg/hC3vCV/mJhblBl589JI2i3FwlwmU0hICAoVjND2J8qKLsUn2M5lxyS3OpZpJU5LyZyXxN7yBxERERERERFRtpbuY1Y6xVgs6ftY73jz5k0kJ7N1JWVN8tyV57A1I2DpmS/7EBERERERERFlRxk7G7iN52hM0rVrKkeUtXg/dxmJJCIiIiIiIiJyJ8ODlb60GpOt01JSONEOZS3ynPWlVTBbThIRERERERERWQtAsNI1EuMYnLGO1Mh99KSP5ZeYlKi2EGUN8pw1zl/9XFYbXNg3WO/j9oY5SkLMPuzfvw8x8aqAcpabKUhMSEDClYwbFiTliri/hESkuBvJgYhS7dKpfdi3Zx9OXlIFlDMlXsE/CVeQfEOtExEREVlI2wQ7gpxIxJmtTE6ao+e0MqPcyOvrculYZqQC+W9Hnjxh2m2Igtm1a8m4fOUfU7DSnOQejmVaiTmvF+h5tTSzKgtOMsCUKH56E4rwiHDx073D83pg7kGg0v9m4qVKqjBVYrFl9CisvxCJpsNHoEERVUyB8+cOTJ+6CbEPdcCYF65j7qtzcLhIMwwb3hCRahddCmJ/PISzV8NR7KGKiMyjiqULmzFm9DrEWt7OE+v6TvlzH/5v8SYcOhuLBDlaQ2g4Iu4pi/rP/Qf1yshJ3XieZF2xWN/3v5h1vDy6L3gXTU11d+mL0ei3/CRKv/Auhj1dSJW6OjyjIYZuAJqO2YzuVVQhpSuPr/GNKzjzzWf4ZPMWHP45FpfU36vDCkWieJm6aPnfVnjyvvx6oUlywhUfft+It/vt+RGWW62Qb27E4vCGz7Bm63f4RVw3jTpBeCEUKXY/atVvhaZNKqOI+XWVgUjLCgnD7RH653m+14iIiMgXaQ5WymjkLVtIUicDjQYjry9lEFLPm8vdpVy55Mzgd2ShQA3lRPJcvRT/N27etJoB3J4k+7q25lBuMOclsZf8kUUc0gNTas29ynjp/W6wxyB9vZ1gDl4dnoNeHx4CqnTD9K6Vtc1SSmICEm1fmM5j67tTse1PpyCUcVuvnB+rj27GYf/KBVi/9xTiZHAsT2FE1X4BLzWriAijTfvNBBxbNwdLd5xCgni8ofmLo+rz3dCuamG1AxC3fzkWfrYTMXFih1yhKBxVB627tkQFGV+TEk9h29Ll2PzDGe05y2M82KQDOtUu7jEYnHZu6ixXNbwy7B78nww0avUCD8FKDwFCq2Blauv72j7MHrAAx/JVRIuXX0DVwqFIiYvGtuUL8PXZwqg3eDRaFEtjsDKj6jshGlsWL8aW43FaC1DtGC27ofWjhX2q74TfdmLLynW4+tR4dDKf1D48tkAxghe+sAU4biTjn3+S9UJcwPqhPbHoVGl0nPqOPVgZmh9XvngdXWb/hHKvfITJzdyFvJOxc0IzjPkKeHLIOgyonY5/JE2Jw+EvV2H90RLoOtDXoHsKji0ajNl7Ex3PdXGs/cvnYMX3+ntdnmMVnuqAdg3K2s+xhB+wZt5ifHMyQRwlFOElqqFN1w7inFfbA8RTHRqvvfsgVSzWD+iGWcfE5b1qK/ynXV3UKnqnKP8LZ/ZsxydLV2HfBXGcnnMwuYn5FTyEWY0HY71ac885iG0Et9WqB2kOqHmo/8STm7Fw0SYcc/dez8T3JG78hEUvDcJy8bqXbvg/tHymEqppdSJq5dw+HP78U8zbfFJUWFuMm9sJ5VTA0v158CzGbuyp/R5Nr2Blyp+HsG3dOhwq2g2DGnl6Z6Ugbu9yzF29D2dlS335WpdrhHYdGkL7O5Uz8bvnnTHrcPaml98FTtdi7Zr/aDN0alkN4leMJnbTKIzZEKuvGELDEfnA02jt7v6JiIhIk8HBSn3pnHeXxB5ay8oC+V3/mk4ULC5fuaK1rNTCilog0n2SnPPmpWTOS2Jv+SObMAJCzgFA5xaZV7F/3iisEd+Fwmv1wBtNSqhyIVc4IvKrbwJugldGq0xHboKVsvVf24qq0Ir3VqCuEsVjeEM8hkRERFVGmbtDtW7tJ/6Uz6cPJrQtq+0Vs3o4pmyLQ3iJyqggvmvFHT+EmIRwVH15PDo9FIpE8RjfFI8xMaIUKpUrjNCEU9gvvhghf030GtsBZeTrOUG8nmdDEflgZRTLr1oqXgGiWo9H3zqB/CaUgJj90RCPRhd/EGv+7xASZHCxGzAvA4OVXus7YQemDF2OmCINMWhgMxSTLThTErDro7ew9DBQ49XJaFcuLcHKjKrvaCwdOhW7rtjrWz8GUKHDZLzyWLh2Py5uivPi6Gf4v5U7cCxef5c5t1j29tgCyrk11oXPMKTPQpws1QnTxj7rcM7YWsgdnIEmwz7TC91pMh7ziy/0Hqz8dRle6b4QZ2T+vk6Y/X5bFE9jK7yUeFF36xdj5d5YPZBhef67EbMaIyd/qb+3bOd6Ar5+dzBWimuicY4l/noIxy6koHC9/hjZspSo51NY89YkbIsLR7FKFcV9xeHE0VNIyFcNr7zVGRXMLZfTmRGAqvTiaLQQD8UsrHglVCoa5j5IdfxDtOm7Cv9UeR2LxzSAS/vXS1swtP27OBzRCpM/+R/KqWJf6PfpLlgZiWd690RN9w1ucWeZaijtYbs7XuvfCIghAlEPlUXhlDM4/KPY13iv58rk9+SRGWgx+DMkPz0aG16vpgod7Xu3IUZ+EYam49eh+8Oq0IXxWrsGKw3+BS1TtGvr+mXLseucftGIbDICwzwEKxN2TMKwlafEG0ddV6+o17rwU+j7ZktEOQyIlYhdM/th6Y8y7+F3wTlRf+J5n70ZiojSFVCmsP39iGKirmVgWhzXCFaGF6uICkX163PiWbGffOymuiYiIiJXubQgSDonLdbiIVltl2UhuUIckixMupaMxKQksRNR8JHnpjxH5bnqfP66O8+dy8zJ2/ZskQwO5aEIvyMCESql/LgastGGlLjrM3x9Ody2LaKA+JJmvq1kXhep0kszMX2GkUbYv6Q67acJzWc/tmUKR6jz7bylP3Zg/cFEoERLDOrfDZ06dUavIZ1RQXwpSdy1E8fkPrcOYetXcUDBOug+QO7TDX0HtUQx8WVp/5c7kRASi6/XHRJrxdFiUH+8JI7RqdcI8SVV3PbKTuySX6Z+WIf1Z4HwGv/DsJ5iuzjGoF5PQba7iRH3E+f8uNI1iS/Z1aqhqpH+JcMp4rHcH4VIuV2Kj8b+76O1co3zMZJPIeaCWIovtDEx4sub83aDc5l5XSSv9X1HHXTqXBOR8eILZr8e6PWqSK8PFl9IQ1GhaU+0KK/2Mxi38zVlVH3/KJZXHOu772vNtADIsV17xTFExir9sABjPvwSxxILI6qYCmiat3t9bE77p3fKlx+332FPyacPQ3v7nxLLm47bwm5Tt3mkJzZs2mxLa5Z/ihUirVlvL9vwamV9X8l8f6b0zy+rMLTvQpwJK4+mzcoj7NeF6D14GU5ett7ftxSLbdMnYenuOIRHFdfejxrLfZ1TLLYsVoFKySi/KOpeviimc+yVNzqjkjjH4sQ5dkLu88OX2CZuGPFkTwzqJs6Pbv0xqEVxcf7sw5bd4l1ou48AJKV4uWqo9phjqnRvmMM+GqvbO5eZk8Fqm6dksCwvhNKPuD5ecyotGxM639Zr8lYRfuAAAFWCSURBVF7/sQf34uxNoFiLoegr66rnELQzv9cz+z1Z4kFUkg2Md3yEWTtO4oL8GG5sS4rFyR0z8PEOkQ+rhvJR5m1X8M9lc/oHtgbQxj6KDGyPHDkaz5hv7y39sRXTJy/Grj/DEVVCvbJW+9lSHHbtOiUyputqT3FdfUQUxX2HXT+b9wVSjnyMNVqgUjFts6cEfL1cBiqBCu1GY0xf9X4cIVuri+vr2XVYudP0fhPuqNxS20fbb9h4tCsjCo26djg2ExMTExMTk5EC/vc8eT/aUovCKOa8oG1zKjOTYwH6MssyUUaS56Q8N90S57RzK0nzeW5sc3/mZ0dXcVV2kQ3PB+c2YLIr79nDmzF3TB+MXPwDrpd4SnyxqCm+6J3BlnH9MWzKcuyKiUOivL0XsqVdr55Gkq3l1Ib0dDMaSweJ4w9agGPOj+laOIo9Wg31nn4UtraNeYoj6m6xvJmC63I99jftyw5KlbW37ChYERXkPiejEYMUhN9XDVWfaoSqBfXNspVnsfv0FiSytU5CrkhUFffTtJapZWixUuILrSAumRl31RRf3rbKLvXhqPyI3opQE7MDCxfsEM/FWsJ3O3BM5Y99sRVOneV85kt9F67aQZxDMzF9ymSMGTceI0eJL5mjhqJdrTsQe3Qfjp27qvZ0IwjqO+X+Vtpjf6u1qb4LRujBkCuJ4t3lRmQddOo/HlOmjEC7yneoQhOvjy0D/XMIn3wszqWwMITJoQY+2gf3V9krOLnuHbzSsiFavPA82ojUomkzvPLOZzjp4dKM5Cs4c3wLFg3/Lzr0/hCHb5RGy7Gj0b37aIxrV1qcjAvR+8X/YuScz3D4jJuJQI5/iA6NGqLDrEMwYjF2+VCmaR9xvk3FmL6N9PejjxJ3rRbnbzhq1LK3HNZE1MRLou7H9K5jP8dyibqXK4lXIYcTjD2jtQ1FVBl708aIchX0P16clAGbIFXuWXSsEAYcmIF+wxfi8+O/aROw/JPwG45/vhAjX5+Bw+JsKNfxWadWlYcwS9RBEw/JuktyOkin+i+sVaAk3uvF9OCb1hIzs9+TheqK8380mhY5ifXv9EQX8R6zva4t/4ve8j1W5FmMnDccT9pOSHkt1t+H9iSHZ1AbnWiB7equLVcvbR2OFo2aoZ9z92kpvAya9hohrmXj0bdhcVXoSQRqdBPvm3GvobbtuipKxXVTvHH0zyOGm6ewftUhJJauiRqeWtYnHMR++YeDgk+hQS3Tkxe//6o2bKb9To7A36rMSrj8+4xGq2siIiKylPZgpVWkxRygcQrWmIM3MucSzDExtsv09+XLSLmufeUjynTyXJTnpHF+uj+L1Tms8pJcd2Bed94meTp4lpOAODm7d8Rd9i/cQsqumejbfzDembMJJ24UxxOdRuCdAS1R6dEOGDlpBDo9VRYRF3Zi6aThGNh3ONacVTd048F28suJkfqgnvyCl95yhSJcXkFz5UOoc4+8EnW0FhQtHjE9y8RTOCGDaIXv0oNLf8Zqraciizp2XwvVrspxiP1Tvg6d0alFZdNrlYiYE/ILXGHxJVe8jA810+7nCdkyxWB8kf2X2EcrCLzYTTO07qmo0AotzNGER7ph+gw3432e24xZa86I722VUeORcODCOkyZJ1sW+s9jff+5Ge/YApki9e2HYUMGY+SI4WI5HG+/MxFzP9mE/apLoVtBUN+h4RGIiIhAuNGd92YCTqzXA77Fqld238W4SFlUjYpwP5SB18emrQbehe2Y2nME1l8shKZvzsHIJoXwz+fD8fLoLThjFTA8tgxDZm3HX9UHYf7azdiwfh3m96+Fv76agSFLflI7ubr01dt45fV3sfzYNZRvMQizP56BrhVk9CA/yr04A4tnDULL8tdweM0MDO3WF/I0dZE7P8JkQDV/HriOcBmBqEfKOk4Y5Ytrh7Bk1Q/6+6iCKjPkkYFJUf/hRi2mIO67zdglrqfhj9bEg6LkwgWtFlHcXI25w/R6/0Ov42Bw5rg+K/jhc0aYLxJN31mK2YNaocTf27FoaDcV6OqGIR+J+i35LPpMW+o0XqWJHC5Atay1TqPxzF1q3/SSxvqPjCql/cHuxHc7IIesRMI+rP9G1FCuiqgsr6HB8J4sUg01VffuJweZXs9BdfXCh2uhmuXrWh7dPzK1cNaS3gXcbP0wPfg564AqUOTrKt15u8ULqHXljlSvgy9CEVFYXjftQ7mk/LkTW/YmiLd7NdQw/b6K3bIY2+IKo14LvXeCW7+e0n/H3lcc5l+9GvW7QI4Z7U7KuR3YJS9P4ndfNX/GNCAiIsphfP51n960+ItTYEau2YI/cptpuxzD8u+/ExiwpEynBSrFuaiPq6qYzlstqWIbq7Kc6EIstEZvkYUdAiuh1f+HCeMmY8qMqZgwoj9aP2r6MpInElVb9MCgd6Zi+nuyVdxQNHXXVOWmHPsyAQmxv+HYd5twKF5+SbkD+Txd6VKuIkHexm1KdNP6oRRajJuJ6eNe8GHMqUQcXroKJ0SuQiNfWlqJb68W95l4+GOs0Q+ChlYHuRmLLSt2IEF81arXoJr74FR6kRN+LByOMevPAHfXxCuda7q0mHUlJztYjDETZDe6cFR68UW069AT9cTzSTwwB8NGLcausz6GLH2p77vro7ctkDkeverpX0Mjm47AdHm+jRHlY0agU1WLFocOgqi+5XieMvDaazCmb4tFsXp90LuBm0BOmlk/tnRzIxkXTu3D+qk90eK/7+DzS3fimaEz0f2RSFTqPhMjm5XGPzvfxSst/4uRH2/B4VOX1A3Fy3DyR63VZa36dVFExjdyh6HIk/VQS2T/+ekX/VpjoVD9UVixfB02rF6Gsd3qorj5LyfC7SXrouv4ZVizfh1WfPo+XiipNpg90Bbz167D/BflGALpI2b9KhxOjETTVp7eR4cwVwu898HIpT9oY+4OerGi9/e6qEYZEwsGhz8ejpEjh2PR/r9UiZA7P4o/2Qkjp32ExavtQa41Sz/CtJH/wzMPeBi7PCw/8kfkx+0ekvVM4MmqBaeH5NpsUpfW+i8n6q1DReDYcox8TdTnkAU4fK04mg76H6p6DXIH9j2Z/I/9+V/yNApT0iX76+TwQl3CyYN6QFqmr9YtxKxZ72Jk7/9i1h77fg7dwE1urz0cazatw7AnUzFYqAdGC/y+IxfjGCqi3UDTOK6JO/F/G2MR/kgrNHWJQDoRv3c0uX3/DRu7fpTtD2Z9xyzHsevi90nfbqjk7x80iIiIchCvX7lSyyow41AWYl+zCk4aZImx/eYtfdbl5GR3nx6JAkuee9rM3+JcNM5L17NWMLaJZGPKW93G8jhZiGNXXDdp1Dq9q+/hBfr6vEMiPwe9evXBwCH90Nd5f+f0mmwVJ/cbhS3mSMQBcQy5XTvOYIycNBNL1+/ACXtcw72ji7WWdu7TRGxLYyuW2E3vYe6BRPFFqBs61fAezrN0bjOmzT2ExPyV8ZJlUDBRvKwTtTEsi8lxGL194UqjuO9mYtiA4Vi4Nw4R5Vpi0LAOqODLU0vch5Uf70TsjQhU6jAUL8kxvvKIL26DRovXJhK4cApxubwcyK/6lhMk6S0StZTP8QumnABBP7/Sb7iAgNd3eDFUerQaqj5aGVERKTj71QKsOCwDvEYgy0hO75OgdBLrhwzHrG0XUKrh65j28UfoU/UaDstAxw/XUKm73tLxhSphOLz0XYzZ+Kut222RKo9Dtl/6asEMfHUqFv9cOImv5nyEr0RZ8VqVYNmT89JJ7Nt/GD/+dNgWTHGb5H4/yP1OwpdLSZpc2IylcjKVWi94mdypMMpodV8NFYqEIvHocsz9IrUDKGQOOaGKDERObhbrtRu3Veq3zun5Jl/BFSNo5i5Zfmw8iUW9nbstO6YRmwP02iYewpr/+wGJoZGoIOuzQiRCU85gy5KtiA3kHwe8isXnb9if/8SteulX75hel3e264Vb37GXvbHF9McBcYypekBaBiPnrt2uvZeS762GInntFeGuG3igFC6jv2+01/rKD1g5d7N6rVO0Py4dQyk0bVU5VX/kc/n8Iz/bmERUaolOnTtrqUXtUoi4cQprpi+AdtkmIiIiSyHXUtI4G7gkjnDLaUZwydbyTCyNrUaZXDrnPZVp5XKpthXIfzvyhafySyBRKlxNTNTGqLQFKE0BSXPSN7kvM/LaUl/R82ppJm6hdgp+2uzHLv0MT+FrbczCUniicx3XLlOFy6JqsVAkJLq2+Tm2dDCWHgUqtBuvTzzgIBTh+cP12ZJ/Md1pnsKIuu8usVUGqIxuX7HYMkrN8jzCwyzPsrWaDKbKWVtH+Dhrrw8S5QzPcw4hUc4QOkifIVQjg7SivHCjERjZ1Lg347EWR9ORQ9DA6M4svtjOHTkHh6+K8iGivKgqN4ndNE5r4SgDZG91rexDC8c0Eo9p6awfUOY/L6BqUfvXOzn2aOLVq0iQ0zvfHolihWPx9cIvEVOoGlo0q6h1cU48ewp/313KczdZq/qQM+ymur71GeevJv6tj3uaJ5+pS610FWeO/oALifkQVasmolL5AmZUfdsk7sT0/otxovBTGDSqGk7J11ptkoGtqi2aoYKp5aA2O+36WFTqZpoN3J/HFgiJV5AcZmr9duEz9PvvDBwv1xPz333WHnS8kYxkhDm0kvvn588wc8pC7DwtjiHWwyJKoFLLHhjwfGXcLva7sO51dJn1E8p1V7OBH/BhFnEXz2KsRTdW38gAspoN3+11JQFfTxmMlecq46UxqrWVqhNtKAXTzPcObp7CyuGT8HVCRXSa1AOhi3tg7oHCaDBsNJoa54zxPhLn48ghDT13b02Dw++bZvqWk5dYcN3nEk7u+QWm9pXKL1gzciEOozI6jmwlfns4MmYX18esHIz1erFHtvrPcNb1f2xxP8zeBdToMRntVJd/2fpuzKZYcU0dj14Rn2TuezK9iPesvdVlGG6PCMOZrTOw/gRQvlFPPGnVatlX6j0iW8l7mg3cSszKwZjyVQIqdJqKVyKWY+D0nbjDdhx3v0OUowvQa/Y+oFJnTO+mz5R+9psF2CrH5owTv6NOit9R6n1rXG+dH2PCtnEYtupMqh47ERFRThGwlpUOLIIwkjk4I3PmYI7BoVxtkwsZNJJjBmpBTKIAkueYPNf0QKUqVOekllSRwapcO3+tuCvPgiKiqqFqVedUVo2/F4EyLttEihJbQ8O1Fm/aeIA+CM0jW8iF693EC5bSjhOZ+AOOHfsBV+8opY/rZhqfKjMlnlxtbx33milwJd0dqQUO4i44ttzRu5wXRqQtcHUKa94TX3avhKPSS69ZBq7ids3EFNkVu1gz9O2cAYFKKbwy2vXtoAcqxWPcNm8cBr7WQxt7dNiIUXjnnXF4Z0Qf9Oo7B/vzVETTpnqgUrtpMRmoTMCxdQuwcOE6HLNNF+5Fmur7GJbIVpijxOOSj22UHLPS3IJ2FGYvXY01a77ECV8fj5OA1/e1RG1oAofYfngplJFfpuMuIg5q3EtbcgxUuuXrYwuUcHfddJ3kdgxUSrc/8CwGzHofXbWx38qj67vvY0Cj+wGtK6sMbjpxmkXcSGOb6JuNVn+OKbWBSh/99iW2yTFfZZC6r2qZJQOVktaKWJwPKaruzROC5BJ1LyN5N0XdxwNFimi16Die4Y1kvfv3v/Q6DjRjPEqZPl8+w9b9d8znVm1TC6F09WqoVrUSHixfHg8+rLe0q1a9vNZiVs7gXE5bd0x6oFKqjO4O9TQeTbVyGVw2l8tWnMEUEIrF2VOySV1plJGzQiuRarDRE6d+y/z3pHTjCk5+/qFWfx0cJthpiy69h2Pe5yfxj9VYssI/h5dhZHd9witb68sXmonbN8OQL5JRvmkaA5U+U0OFXHH8g6gxCVVc3AXs37ZTGyvZ3lVbBirl1lisH9VDCyA7KFMWWnz5RDSOafUhfvXWVtfc+r5M+iM+EclBiIXYc07HJiIiIpv0CVaGyP+uQReHYI2xVMEZh22yzBS0kTkj4ONQrq1qW7X1pKRruPjXJbH0NKgOUerJc0s/x4xviCoQaT8ttRPTOF/NxUa5wcgZZQ6HUEsz7WhWG7KlWGybYg4c6a0qJdnC0lw+ZZvrh/u4E/uwf+8+N92AC6NSK/ElonNLVDLNBhpwshvve1/irPjC3bRPN8jezg4iS6CYvAL/9IPtCw/iRV4GGkqX1VuhyjEo35uEbVrX7gF6l2knsiXfO4t/sA6QZYgzWDNuEtYcuIjidbph0KSpmD5jppamjOqPdpWAmG8WYMzcfXrQxOYqzh6S9XYIlkNUFqyM52S3uVaVXYIsqatv8fqox2WdRqCpu1a3vsiA+k7YNUN7D7yzzjS9rjGRT0HHSav84stjCzIX1vS0B08a/RezjsvSnzCrqz040uGVGdjpaVLeYFGwjN491ZxKq7O+cCmxXhaFT67C26LuB87TAyuam6LutVNB1L041yOL64GSE0d/0JZSwvFjkG2Ro0o7t08MDGM8SplmrdW70svuv3fmvqz2sHD4Q73OnLrOZl+F5RxzwkmckGPSKglxeqvxyH+JjZn+nozF+kHt0Pvdz/BXVCu8NHaObYKd2WO7oWXUX1j/bk90GPSZ69iwPy/Ey4MX4nCuuhg651OsWa+CxnICrHf/h/K/b8HEV9/BzgzpAn0Ka0bJzw4fYpfp/mL0Nw4KFyyCyIec3nuPVkQx7dIbjmJiW6Vi+bR9bfKIfWRvj8SdWL/xjOPvNcdfcm7F/KLP2uU8gRIRERHZpU83cEn20vbUFVww8lZLLS+XpnXn7VZlRj5PWChuz3c7wsSSKK2Sk1Pwz9V/cE0sbcFFU/DRyLst0wts68Z2q6Vkzhu0o7gWZzGqC5wWKHIzK7SP3HWnkuR4UXMPwLFrq1vGY/KPy/3ejMbSIVOxC9XwyijTQP3StR+wcMRM7L+itzgt49QKprAcxP+hCFu3v9AiFVHpvtsQd/wQYhLCUfWV8egkvgwdWzgYs/eKb1gRpVC1nFPITnarrn4Ws96WE9WEIrJCZRS7XW1Toup2xhMl1EqgeO0+7+4c8NLVzgP/6tvga727eTzBUN9PX8cK2T38ilHfKeoYoq5bj0ffJ72HKy27gQueH1ugfq/GYv3rRqDRd7JL77iqsTh8xhwZyI/I8sVxp8zmDsPtt+ut71y6gbvhSzdmB8c/RIfXVwHNxmN+98oWM0Ib1Hnn9P5I+GoShq08hWLNRmCQ1eRIzt3AZSD7HfF+OSvPscriHAtF4q+HcOxCCsJr9cGEdmW1fda/LccpVefHbXE4cfQUEvJZnLOZwO1rbHTNbzIeG1510+XdiVGvfhHHn19iof+3sxoGII31n3J0AYbN3qePWVmlOMKvqbpCKbQe3R9PFMys96RiDMVQ6n+YP6OVxfivsVjd87+Yd0rO/P2uwx96jLpx917ytv3S1uHoMukwSr06x/0M8JKbbuDO7y1jiBR9JvHCCP3nDA4fi0VK/proNa6DxYRpPvxuMobqENf80KKifmR0Ux73J3Hcm7KTg3Hf+vU2vFhFVCiq//Ep5c9oHJYX7Vz2uiYiIiJX6ReslMSRbjkFLI2AokbktTWnpXMA0rd1uXS8rSSDlXIsy7x5MvlTOWVJSdeuaWNTymClZA4s6ll7ANJxm5d1PeOyNBj7GrQ9HIuyKHeBKv/5EqyMerIznvDQ5CS8aGXxhSERMfujtdZG/tBva/6CeAprhkzCNtRBrzFOM0QbATy16sz+HMRj2bQAC7/4AXHXxJee/MVRtXU3tKsqA1XGFybtJq7kl9/mv2GM0V3Ugn/BvNQ6g/Ujx2HLn+Eo01Q89idLobAaCzJFjt+1fgGW7o1DaKXOeKebeYZy4/lFoFKLVqjs9gubbN1S0WF8S//q27hH66CB74KgvuXjjtuHlQvXYVdMnPalOLRwKdRo1hmttWN45y5Y6fmxBUoyLhw+jN/87BxhH7PQu4AFK39ehi79lwHPv+NlRmg3wcrvpmLk0lOI+s9o9KptEWS2GrNSDrewdDk2Hz2jDQUg6+jBBi+gfb1S9qEfxD5bFizAlp/k+RGK8BLV0OalDghoNfrIa7DykU4Y2ex+VWjlTtxfvTTkfCzJ5w45Bat9cPf9qJT3V/9vZ7pfmzTWv5RwYjOWLt6EY3Hy8VjVVWa8J5UbP2Hef1/H6ouF8OTrb6Nj7dIoYpxkibE4+c1CvPnudly6qxUmf/Q/lDMPz3BmFV7p9iEulHoWQwd3Eu9VNcyDnPn/5y2YO2YGdibUxbBPBqGm7cS1++eb0egwdh+qDlroeUZwd8FKl/eWeB23fYwVW47hrOwOHip/pzRCm3ZPuRmb2IdgpZR4BrtWLcb6A2eQIDvf5ApFRLEKeKJhK9SrVFj7XWdcbx2I/QpH1UTTTi8ExfuSiIgoWAU8WCkjiuYS5+CieemSl0vTust2eW/abvZyY5k7d27kzZsHecPCECYSkTtyhu8kmZKu4caNG7bAoUOwUcvKpZ7s5SrpBbZ183Yjb7WUtJxpXdKO6FiURWVssNIbq9tSOnAKojiQk+A82gyd2lRDYYcWLF6CczauXxhTV9/GuehdxgR5KSMELFhJfvMarPQqLRMdkd8STmL9rHewaOdvrrOph+VH8ZqdMKD7syhtEWuXY1ZOnL0Kh9XEV3ZhKFSpLl7q+Tqe9G14RyIiIsqhAh+sFIwgomSVl0tf8+62iZ9iqa2oR6DWhVwhQGhomEi34bbbRMqdG7ly5dKSOWhE2Zc8R27evKml6zdu4Pr160hJkSkZN9V5op8K5sCjWlfniFw65z1ts8ob3OUN4lbyRzaQoFoxFkaZqqVSP6aeJCcXuZaiTbATzobTQUubDVwFLIOrrvTZwH1pUxUaLh63uREtEaVZus0CTRkv8Qr+MS6eoflxu2WLRAsWs4ETERER+SJ9g5WSOJoRLrSxBRB1jkFG66WWl0uj3JR32U/lrZYiJ/IqK4kV86pOlOj/KRvRYn32HzZ6kb1Mz+rrzoFF89I5r61Z5UXSVz0vJS1nWpe0ozkWERERERERERHlCBkTrBTswUPBFDC0CjL6mxc/xVJb0Y9rLLWskRNM5TZWZV75fwtKT/5F8qwDgvKHvcwWSNRX7Es9Y9+ulfmXd1jqK1peMsrNxK3VjkREREREREREOUuGBSslc+DQljeChU5LczDSnPe63bQUOZFXWYe8JFb0/x6oraadPO9PGcUhlmdbcR/h07bYf2j0OKG+7ph3XTrk9Yz37U5LfaEvJXPeTLuF9SYiIiIiIiIiomwt/YOVkjiiHlJ0csux1F2Q0Wrpa5nVUjLnxZpYV1kXYoPa5nYXCkq2+J6WcRMIdNpmFTz0tPS1zNNS0nKmdQMDlURERERERESUkwUmWCk4BgftHMpF3lhzDjBaLT3uI7frKy7HFDlZbGfax5Eo1f9TFqYHAm0/HOjF9nI9q6/bgor6in1plFssPW1zWOorWl4yyp25KyciIiIiIiIiygkCFqzUg37Wh7YHEa3zHpciaWtq6W5f236SOS/Y9nEgyvT/lA3owUHbDwfmgKC+i77ukLdYGtttS4t9rJaSu7yZdmTrTUREREREREREOULggpWSFvyzOLyH4KG74GNql5I5L9bEuso6cFdOWZUeE3SN/jmXWwUS02spOeS1H/Z1AwOVRERERERERETIpGCldCv9ApYiYzuWyzbBnJec1zWmY1D24DYw6FRmFVi0LfUVPe/nUnLIaz/s62YMVhIRERERERERIcDBSkkcPT0CluZ9nbe57Cu4y0vO6xpRZlFKWZi74KA5gCi5DS6qvNulvqLnnZaSQ177YV83Y6CSiIiIiIiIiEgX+GClJO7BXSjQUyDRljcFEo0yT9vMZZL5mM7bbNyVU5blLkDoXO4uqOhLUNJqm2TOS87rBgYqiYiIiIiIiIjsMj1YKTkEEwXzulXecrtYGqXm7eZyjfO6wV05ZVlaDNAiSOhc7rKu8uZyq0CkVZlkzkvO62YMVhIRERERERER2WVMsFIS95KeAUvJ37zkvG4jyt1soSxKiwG6CRR6CiimV15yXjdjoJKIiIiIiIiIyFHGBSslcU+pDVg6BxPdBSTd5TVOx3DgaRtlSVoc0E2w0Gqbv8FILedmm+S8bsZAJRERERERERGRq4wNVkri3jyGBZ2Dhk7rvgYwXY4juAQvDRb7UvagxQPdBA1dgovaD3uZr4FJl23aD/u6MwYqiYiIiIiIiIisZXywUhL36DE86EOg0eegpcJAZc7lKXho1frR1yCl5LKu/XAsM2OgkoiIiIiIiIjIvcwJVkriXv0NWLqUWezjEpT0FIz0tI2yFU9BRKtt3oKQlrfRfjiWmTFQSURERERERETkWeYFKyVxz97Chb62kszwIKXFY6AM4CEY6AtPAUWrbd5aXhqsyswYqCQiIiIiIiIi8i5zg5WSuHevoUM3wUXLrt3uApH+BChNx/X5NpSpHOKAXgKHBm0vq8Cj9sOi3I99zRioJCIiIiIiIiLyTeYHKyXxCHwJJVoGJ6W0Bij9CWRSluJLMFFyt5+n23trTSkxUElERERERERE5LvgCFZK6lF4DRt6Ciz6EnRkYDLH8xSANHjax7fbq+2edyMiIiIiIiIiIpPgCVYaxKPxKZwYqMCkuI3B79tSpnKIC/rQ6tFM2zsNAUwztqYkIiIiIiIiIkqd4AtWSuoR+Rxq9DUoqQKRwfeEKSPZ4og+BR7lD98ij2xNSURERERERESUNsEZrDSIR+Z328jUtKY0Y0AzS7PFCf1sWWmm3dLP27M1JRERERERERFR2gV3sNIgHmGqQpAMPJIPbDHGVAQ4GaQkIiIiIiIiIko/WSNYKZkeZZraTqoApsQgZs7iEFNMU8tL020ZqCQiIiIiIiIiSjdZJ1hpll6BS1+YgpsUxNIQfPQFA5RERERERERERIGXNYOVZurRBzxoSTkSJ83xzy8//4wlSxbj4IEDuHbtmiqlzJQnTx5UeeQRtG/fAfc/8IAq9S76+HHMnz8Pe/fsYV1SupDn4qPVq6NLl64oW66cKiUiIqJgtWLjFypHRM7aNH5a5SgQsn6w0sCgJaUjBin9JwOV/fv1ZWArSMlA0aTJU3wKWMpA5Ssvd8Nrr72GJk2aIF++fGoLUepdvXoVGzZswHvvvYfZH8xhwJKIiCjIyWBliwb11RqRZ7fnCVW57G/xus0MVgZYLrXM+mRQSaSQkBB7cvpHZGY+N7R/pnNHrOqJfCZbVDJQGbxk3cg68oVsUSkDla1bt2agktKNPJfkOSXPLXmOERERERERWck+wUorRsBJJasApvxH2Zu5rm3/zAFJI1GayK7fFNx8rSPZ9Vu2qCQKBHluyXOMiIiIiIjISvYOVlpxDlCJ5C6IyX/Z4J9VUFImSndsVRn8fK0juR9bVFKgyHOL1wsiIiIiInIn5wUr3bEKaDFl/URERJnu+vXr2L17N95//33069cP999/P17+30sYPHAgPpg9S2tpKfchIiIiIiJisJKIiIgCZt++fejfvz+mTZuGnTt34vz588iVK5fWujI29jx2ibKZM97H0MGD8f3+/epWRERERESUUzFYSUREROnu1q1bWLp0Kd5991388ccfKFGiBDp27IiJEydiwYIFWpowYYJWVrx4cbHPBUyfNhUrli/XbktERERERDkTg5VERESU7pYtW4b169cjNDQUXbt2xbhx49CwYUPce++9yJMnj5aKFSumlY0fPx5dunTR9t24YT1WrlihjkJERERERDkNg5VERESUrmTXbyNQOXjwYNSvX1+b8CwuLg7vvfeeFpiUacqUKVq3cLntqaeewqBBg2wBywPff6+ORkREREREOQmDlURERJRu5EQ5S5Ys0fKyi3f58uW1vAxUDhkyBHv37kVSUpKW9u/fjxEjRmjbpAcffBAdOnTQ8p8sW4YbN25oeSIiIiIiyjkYrCSiLCGycm3Uf7o+aleOVCVm/bFg61Zs3boWk1qoImfPT8JabZ8FYm9Xzd9egk3rN2HT9N6qxFlzjF0itot9pr+qimxaY9JaeeytWNBXFaXG0/0xfe4CLPhgJNqropxCzhR99913IyIiQkvz5s1TWwLn3PaZmDl7Pr47I1b+WIs+Vauiat/N0MNm0mXE7NmHfX6k6D+S1W39d/nQCvF4ZmLt0ctA3DaM7tge7cdvMz0e38V9ORrtxe27LI1WJf6JW9cHVcXrUXP2EVXiOxmANMaorFevnioFPv74Y1y5cgWVK1fWZgWXSeb/+ecfLF68WO0FrRWmMYYlW1cSEREREeU8DFYSUZZQ+8X+GDp4KEa+qre6Sm9h4flFCtOSNbEtv75dLALjjkiUiCqBEvffh3tUUU6xY8cOXLx4EZcvX9bS8uXL1Zb0cATvyUDkEzNFzu7i0fmYP3cuDserAhcxWNuzO7r7kWbuv6xu67/k374Tj2c+tp1JBm5cxsUfo62Dn2JbzJ61WDx7JmYuWot9cn9nVy8iWtz+eMI1VSCc2aYFQ90lLUiaDmSwUnryySe17t2GI0f0V/+ll17CnXfeqSU5lqVkbJPkTOHyttKBAwxWEhERkW+S4uPxd3ySWgtuWemxEmUGBiuJKNtqPXmt1tpRS92rIL9WWgKNjDIvLSHbv7UAC2RLRy09hwfC9fLIR83lk9D7cb3cmr3VpXXy0Bo0BylQoIDK6e666y6Vy0wP47X9+7Xg2/yOekmtUVu0dT3Nhx46r4W3t+hlUxsX1kqsHJlWVWut6JIcWnN6cfUIZr7YAK17jsZ7c+dj/rTR6N7iSbSfewRe23TGHdGCoe6SFiRNBzExMdryoYce0paG+fPna7ODyyClwZj1+7bbbtOWBuO2Maf0YxEREVHOsGdsGPLnDcOEvarAyekN72LalHex5aQqsNmNaZH/wr2R72KPKvHsEOY0aYAmAzfhgrjtBHGf+dt/IvK+u7C8jfZY2y2PVSW+8uGx/v4J2snH5DWNczqGei5ek/PtsqmUizi4YTbeHvAqXn75ZYzccF5toGDHYCURZQkFwlRzxvz5UVvPefXL3q3Y+oVKe39TwZy/8KNRJtI3P2qFlu4pUUJv6ailSOTPrZeH3W0ufwAl7tbLrf2F2NO/4bcY5/SXejxX8NdvWiZHM7fAk5zX0+SGal14NX2CcWkVVbcDurzUxZ5qFoVvjXWTsW/GK5h/Aijbbiq27NmP/Runok3JZETPfgUz9/v4/J54G1tsAVd78hRo9celS5e0ZeHCno+XkpKiBTClJ554QlsajGB1fLx+LCIiIsr6jECkZfIxUHjh8CAMHToIh335S2/ccezYsd0lHf5dtmhMQvxWsf773/q+FpKiP8HQ5mX0x1ehOYYuPy5u5Zmn5+guAOvRwLX4PfYPD+l1VFe76h5Db8v9jHQEM5qrXbOIxUuWYuLkKThw8KAq8dG5r/Du4GGYve4gziQA+QpF4I58oWojBTsGK4koC2iPKlEqnHP3A6j9oJ715uDyaRg7fqyefktWAaEwXIvWy/Yk34Paz+stJJ+L0ttdmk3qXF8bP89zao7+a9QNLG3FpD6d0fklp7ThVz1YeSMZV9jTNbDOxGCflvkOR1z+Cp+M+Z2romrj0WKrs2ScO6qPRXnknF5y8bh5jMoj0Isv4vh+vSzGh57UReu+iB6v9LCn5x+GY7tSNy5/i7XLxVlT8iWM6FMLhWXw/F+1MHBUDxQVj3Xxxm+RPh25A09OnDN16lQcOnRIm1TnhRdeUFuIiIgouyrXags2bHFOU9FJbfcuCUlX9Fz8ZR+6UJ9cgyYNGrikd751OwaQ3ckFaF+pI6Zdqospy1dgSq1LmNbpYbSff1rt4Fmnaa7PtXlptdEfeQvhjoIFPaS8asfsKTk5GdEnTiAhIQFr/m8tDhzwMWB58zgWTV6G41dCUfyZ1zHx/ffx7viJeL1uMPTeIl8wWElEQa9K36dwv+qCDUSi9sv+Tj8Tid6V71f5/Kjw9Cta7s577S0kI+/QityIRP3/9sfYqXpgc/q43mheVm1Kpcj7C+vd0v/6Fce0EgqMZBxZtxj6NDMxmLl6nx4ktgnDwy26oMsLtVBUldhdxr4P9bEo3/tSL4le+oZpjMr3sE0vxeJhcr0PNvn2+TV1oo9gs1gUaFgVZVUrX82DVdEwn1iuOyKeYeYrVKiQtjRm+LaybNky8WHzAO6//37079/fpRv4n3/+qS0LFtSPRURERFnfHWXrok4d51QF96ntXiUdwp6tenb5jl1eWzkami38DVeSkm1p6QtWE3aaJWHHvJexBY0wY8EH6Nb8OXSbswgzGgBbeszCDh/u+L7Krs+1bPp0YvHC6GLuLj2MnmvVrlnAb2fkTJjA/7p2QZkHHsDazz7T1r1J2PYpvrsC3PVUX7zRqhwi2KAyy2GwkoiCWmS9oej9dAmtVWTs9wfxl1iGVeyAJcMaadt9UX3AODSSscrkK7hyQ9y+bHPt9iv7Nbe1kJx9SP2Z1kV19J+7AENfbITqFfXA5oOPNkfvmZuwoG8VtY+dbTzLyb09dFevgi4PldByV347BvWZiwIg+dBMjF50DmFlGqLeQ2J9eR+8siDaIWBZtVkP9OhUD1Fq3a4wmk9z7S7tPu1ED8dhGr0yj2PZYJRr206zuHN6KPLhovdqS7t7cW9luYzBOV+6RH39BhqYx8yUqe9mbPbjsXhSqlQpbXn06FFtaeXrr7/Wlj169EDevK4tAozbliqtH4uIiIiyj7/3LrCPO3khFsdlYYWSKCKXyq+H9C7b0abPNqdXT8Gow0CRIpG4MOFNTNvra7jSX4ewY4pYtGqLhrbWkCXRsN1zYvkudhzQSzLEqCcsu5TbUxus+F3ta9ZqEU6aArSuaYhT9/HgI4cW+mT5Cm3yxRIlSiA0NNQ23rln5/HtNzLIeQ8qRh7H9KH6eJUv9x6G6RtO4aq+EwU5BiuJKEjdj0avTsL0AfVRIgxIjtmEaQP7Y9JmOfZkGCLr9cemJZPwSj1Pfxm9H83fWoKRDVWw89uxGPuF+fbT0b+F0eLSWqO3+6OR7IL+149YO/Fl1K//MqaJY1wRxyjRZChGPq12VMzjWdqnEXHyfHtU1+JNf+HYtpVaUU7n3LIud25z08FUuJGMc1+/h869FyMGUWgzcAQmjBmOWvmScWRGezR46T1s1v9Qa+3Qe47BPD9SzdnmOcc9u+sh+9iVbZ5wbdsZEOI+J8yYhVnm1PlhPNzEvv52u9Q3Hf73v/+tLbdv3+72A+WcOXO0yXYiI13fvzdv3sRXX32l5atUeURbEhERUfaRJD7X28adjI3ResBUyu/4x8uFvfUu22u1IXySEL3oZTTt8n9Agw+w9etpaFNkN0a1bo5Ra0/D/aiTzsyTzzyBUarUxe+nLQOoRaL0hgrHz3ifUGfUE+aAokjtP8EK23iWHu7bcO9zmGU55qRzmoNmzn/HllZ1RGnz/VukVI2hmUFiTp/GlPem4tq1a+j+cjet7MeffsLDD/vSMiAWv2lVdB5fLV6L6GvhiCiUD6HXLuKHde9gCifZyRIYrCSioBT53z7o3aIK7pSBytg9mP/mJG3Guj0Th2DSul/0FpKRD+B+t5PbtMek1R+g9+ORWqDySvRaTBuzx+n2D6L2k0/AfbizPmqXlSHHZPy4rhembf5F5H/B2vFDsFVmcScqPO7YfvK3DWosy5b9YdnD4t7WmNROn5k8OXqrOKZenNM5t65zDl76Lwabp8nu34XRcMRUvFZZnAVFm2PqmlnoUb0wij5WD7WKq12tlGzuGMzzI0192rWNpjtF69rHruz6pOfbFS6qbz9yzvnP57/j90NikS8KRQvqJR4VKoVK1auhmjk9VBRFS5vW70/9eD4yYFukSBGcOXNGm/HeSrt27bRk5csvv8TZs2e1VhOPqMAnERERZVMVumN19AksaVUSp0/G2rp2j/habwE48OFDmNP8Yfy72wIk1nkLWxd2Rsn7nsP8r1egd7mfMOGFMmg8QX4Q8kU5NLeNIenPWJn+G7jWKag44zk0622sr8VAtZ+rJFz4XrYq3YVDhw/6lPbIiYOijXE4nSfYMe5rCFY5lP+B3kH0N+HtX32lTaQjnTt3DvMXfIT8+fOjf9/XtT9uHzlyVPsj+I8//oQZs2Zj2vszMGPmLHzz7bfabRzEnocRTi7ebCTenzwRE8e/iwkvVYEcOenM+k+xV82/ScGLwUoiCkqxH43Byl2/YM+aSejVfihW2uIzsdg69WU07zwWSz6ej0nL3f1lcwm2/vgXkPgXfvliGl7uMU0Ldtpu32saNh3ag02L5tt+mbm6E8Yk5I5icf6K3m08LNxt+0lX99bH0Le7oIocHzP5N2z9eLaH+87ePvnkE627cM2aNVG7dm2MHDlSbdF99tlnePzxx7Xt5cuXx+DBg9UWH+Uuiw5jJ+DtuZ/i7WamFouFq6HLjC1Y8tLDiNJaNXZAORngy10Adz1YFmULqwovGOUYzPMnlfZpuhz/lX0YDcXi8rr9agxO5cf92HxVnItPieeUxgap6UEGmo1A5Mcffyw+VHqYct+J3Hfx4sXabPD/ads27S1siYiIKDjsHWdr0Ve60/9pRVrrw/wRKF22DCrWfAI9Pzjo2koyb2U880ILjFh+BAe2DEF14w+z9z2HsVtO4OSer7GkhzYejg8KoqxtDEkPY2XeWxLl5PLYaYcZyi/E6JO7lCvubcxLOS+O60Q4efMb+UJwPy1OPHZMcZ0UyGtadRy4Eo+/4+Phaxzumtzf3UhYGezYsR+1iXSkfd/rs4/2fa0P7rhDn1gg/u94lLzvPtx99924evUqUlJScEk818+/UAPLW6qCJk3uUXkgX7UnUUVGK2+ewvFTehkFLwYriShIxWL+Gy9j6PsHUaBOfdR/ujaqmLs4/L4V8z9a6zHYt+mN1qjftDVeHm/f7/4a9dG8a38MbVEBYX9ewZ012qO++LBy8ONJ+qzh8/QPT7qV+EW7YRjur9Nf/LpTavRH4we1tpGI/cXHEarLtsfYyf1RX/Zpv/EXDn40BJN2qW05ULly5RATE4Ndu3bh22+/xalTjp8YLl68iO+++07bfvz4cTzyiP9/+g0rUw8NyxQQn25iTDN429Pv+aqhWpVqKHBOrP9SAA17vobXWlRymJk7bl0fl27eblPfzfBlyEiz5PjLOPfjPkT/4Tjtj6UCj6P5C+L8OTcTb0z8DnE3RNkf32HCiJk4Jx51m8aP+zaruJPky5dxOf4cosVr4sts5r6oVq0ann32We2D5DvvvIMvvvhC695tkF3AZTLIbZ9//jnGjx+P69evo0nTZ1ElFXVOREREQerhzvjONDP21sO/2Vr4XbySjCu/HsGGCY0cul0bSrZ7BwObl8MdKhhnT0nIe185FLou8+Xwsna819NhLMbKqNNXLFYtw2atG7p0GpuXyu8Jr6NOQD+iRKLNEvPYkj6moY9hzzSrCXWaY4J23HFo5bJNpGm7ta2ZLSIiQuWg/dFakmNUGp6oXRtdu3TWuoQP6NcX/V5/Db169lBbneQCrPto3YG7tLu5iquBGu6U0g2DlUQU5Gqjfd+hGDp4JHq/oIpcJCM5UaYrImclEvW7T8KS9VvxwdtD0btdI9R/WgZARWrRBUNHTMIHE4aiS8MHcGWX1r/bZvZHm/CbOGhYVCNMWrsECxasxKa3GqlxNLdi/hy1o1v3o3nf6Vj5XhdUv1veKBZ7Ph6C/m5bhOYMlStX1mZ8LlvW89iI+fLlw969e9GmTRtVkgqn15pm8PaS5u6DOV5XoGpXl27eLmlMB/gzwuN3IxrYApw1n6qLZh27Y+ZuX6KEYajWcza6lAlDzPI+aFBdHKNxH6w4XQAPvzIVPaqqVqHeOE2wU7NuXdR9qhnai+f/3jf+hlvd+89//mMLWC5YsABDhgzBpk2btC7eSUlJWpJdxTdu3Ki1nP3oo49w48YNNH22GVo9/7w6ChEREWULeSNRSbZorKi3dEtCXlurw7w+jv5jHYxzTu+q3lR2f0fv1ibr2bFWTuzzJvq2fxNbjF7TlvKiTtcP0ACb0LPzy5iz9v8wp1tH9NwCNJjZHXXcN4u0MSYIkmndonfF/Q5CzyaDsMXcVNOb67HYsUjergH+fZ99rMnS/26AJt3GYcVex+8T1YdaBDG9paGPqVsHj9tUzxr5udCT+Hg3lfivUighW1DiJE46tIdIxFWt2WkE7tIbbFIQY7CSiLKBaXi5aSM0atoeQ9eoIrMXh6H/81UQGXYFv327BJP6tbfNAl6/x1BMW/oNfksMQ2Tl1hg6ub26kbJrEoZMXImDsVeQHB6JEiXuRNgNcZy9KzFJjaPpSe0Rb6F3kwfV2JsHsXKUeIwfOwZEc6q77roL33//vdbV24oc91Bul6300sUTb2OL5SzeIm0cjlpqN7PL++dZBzXNaZgcG9M782Q6Mr02YqoW7Jz/6Ra8/VRhtZcX+R5Gj4+3YOWM4XhNHqf3cMz6dB3mv/SwNjarR4Ufdrh/LQ1+WwVdl2Ddl9sxsYGPj8MH8q/ibdu2Rd++fW1jWMpu4QMHDkSXLuK+RRo0aJDW7dsYo7J3n9fwfOvWtr+oExERUTZzco2927KFIpXewdix76CS248kz2H+SYugW9JvmN9K7eJkx9g2+n0OXYAtW3cjtnAkvA7zXbozlhxehN6FtqPvC23Q97tC6L3wCJZ0Kal28MyYIKhJg054a8lmcb8xyFM9UkZpfZN0CBPqlUCTbruAJt0x83OjJepv2DirOxr8swBdniiB+hMOOR7y90/QTgU1PSc3s4hnIRs2blI5Z+XwSGUZrUzAd5/vtc3+fXXf5/juksjkewjlfKtGykQMVhJRtte6sj4bOH7/Bp3fnI9Nh0x/hYzeg7XzRmLMLr0sf1QVNNdydrHbZqN/++Zo9IwKcDZqjs5DZmOrD7/gvxk1DVtjYnHw07Ho3L4/Zufgrt9Wbr/9dnz99deoU6eOKtHde++9WotK2V08GIS1m4rtX273nN6qB0+hPvNkOjJ1aFZLG+Py4ZKFUUD766+PchdAVPXm6CCP07E5qpX0sfN38XoO96+l5xuqsTbLomjBAggLwBCRsvXmpEmT0KdPH9SqVQtFixbVun3LSZWKFr0XNUVZz1d7Yez48ez6TURElMOVbPI6evd9HQ1Kq4K0eHSIY0Dz2NfYsGELlk7rbh/70oO8Zf+DsWtPqNuuxdgXynkYa1Ln2rrxN3wvu75vWIEpI8TzcjtQppMjmzBKztY9dAJm9HgO1ctGqpaokSj76HPovWSRNnHOnhGbcFi7geJ1FvEjmOH8ZScLOnP2LM7HxuKZp59SJY4qtu6IKvmBqwfnYWC/ARgw+HUMnHsQV5EPVTo+j4qMhAU9VhERZRmRjy7Agrme0wcjnFpGCisP/aZ3Dy9RGwve6oJGlU2DYpetjuZdx+KtOnrZlZiD1rN4p9oejH2pPfrP2ppjJ9PxRk6i8tVXX6FJkybaupx45+DBgyhRooS2nm4uHrccu1JLB2NwUe1mKV8BFCjoJRXwsRt2DiTruHr16ujZs6cWuPzll18we86HWoCy28uvoNqjj3IyHSIiopzk7EFbN2nL9L19ZnBniQ7jVtpT4nW1Q3ZQujK6yQE8583EnL2n8bfpxUiKP409M2diocgX6VZZnwzIxt693l0K97HbfWbz1NNm1Wq9O13txx/Xli7yVcErb76O5hXvAq4mIOHSVaBwRTTv+xZe0WbZoWDHYCURZRlhd5dAiSjP6f4S9hnfbD4eg0mfHkRsYn6UeLw9+k9egq1bt+pp5lj0blcdkbmvIPbQSoztt0TdiDLa+vXrsXDhQq1btpzpL939uBhvWHXjlslLV+7kuV1sYzy6TzUx86i6QSqElaildc2uVZRBTyIiIsrm5vdR3aTdpClfuc4Mrvk/9Py31ViVD6OnXy0OIlFp7DsY26Ck19aSmaJwI0zZu0U8vtOY9kQZ3FvQ3oX7rsgyqD/jNBqO3YKdUxohuw2/mJySoi1z5bIOV/3622+Ii4tDwwbPqBI3Isqhca8xeH/WB/jggw/w/theaFzWPpEPBbeQaynXb6k8EVGqNfL2yyJIyNnAKzxYBRXkZDfSlV+xJ/oX/PrFHqR+JMkqaN2nER4IB2IPjcX8zarYX0/3x/QXKiA/fsWXL41EIMKmm7Z8rnLu1XysuhYwJPFh6dwRHD6jjcTtk7vKVkOUD92KvEo+hyMHf8e1fPei0kNFvY9H6Sz5Mi7LAXrCCvjXxVyxPe+7yqFa6dTMMe6ZDO7u3O1txFciIiLKTCs2foEWDeqrtewsHtE7DiI2f3lU/3ek78HLpHi9xWPegrjDr4inuj/cg8p1yvkUbEyKj4ftE6nf95cxbs9jn73bX7M+mINz585h9Fsj8eXWbdjx9dco88ADWuvKW7fsISvZE+en48cRFhaG4cOGqtKMt3jdZrRp/LRao0BgsJKI0kVWCVbmdAxWUjBgsJKIiCj45ZxgJaWHtAQr1677DDGnT+O13r1w9epVfLJ8hbZuJSIiAq2fb4WS9/k6AGj6Y7Ay8BisJKJ0wWBl1pBZwcp58+bhrbfewvXr19126fCF8ZdVOcu0HPuQsiYGK4mIiIIfg5Xkj7QEK7MaBisDj2NWEhFRwJ08eRJnzpzB+fPn8fvvv6c6ye4hMh05ckQdmYiIiIiIiLITBiuJiCjgxo4dq7WKTK/0+efeW4gSERERERFR1sNgJREREREREREREQUFBiuJiIiIiIiIiIgoKDBYSUREREREREREREGBwUoiIiIiIiIiIiIKCgxWElG6yJMnj8pRsPK1juR+V69eVWtE6UueW7xeEBERERGROwxWElG6qPLIIypHwcrXOnq0enVs2LBBrRGlL3luyXOMiIiIiIjICoOVRJQu2rfvwNZSQUzWjawjX3Tp0hXvvfceVq5cyRaWlG7kuSTPKXluyXOMiIiIiIjISsi1lOu3VJ6IKE1++flnLFmyGAcPHMC1a9dUKWUmGaSULSploPL+Bx5Qpd5FHz+O+fPnYe+ePaxLShfyXJQtKmWgsmy5cqqUiIiIgtWKjV+oHBE5a9P4aZWjQGCwkoiIiIiIiIiIiIICu4ETERERERERERFRUGCwkoiIiIiIiIiIiIICg5VEREREREREREQUFBisJCIiIiIiIiIioqDAYCUREREREREREREFBQYriYiIiIiIiIiIKCgwWElERERERERERERBgcFKIiIiIiIiIiIiCgoMVhIREREREREREVFQYLCSiIiIiIiIiIiIggKDlURERERERERERBQUGKwkIiIiIiIiIiKioMBgJREREREREREREQUFBiuJiIiIiIiIiIgoKDBYSUREREREREREREGBwUoiIiIiIiIiIiIKCgxWEhERERERERERUVBgsJKIiIiIiIiIiIiCAoOVREREREREREREFBRCok+fuaXyRERERERERERERJkm5Jag8kRERERERERERESZht3AiYiIiIiIiIiIKCgwWElERERERERERERBgcFKIiIiIiIiIiIiCgoMVhIREREREREREVFQYLCSiIiIiIiIiIiIggKDlURERERERERERBQUGKwkIiIiIiIiIiKioMBgJREREREREREREQUFBiuJiIiIiIiIiIgoKDBYSUREREREREREREGBwUoiIiIiIiIiIiIKCgxWEhERERERERERUVBgsJKIiIiIiIiIiIiCAoOVREREREREREREFBQYrCQiIiIiIiIiIqKgwGAlERERERERERERBQUGK4mIiIiIiIiIiCgoMFhJREREREREREREQYHBSiIiIiIiIiIiIgoKDFYSERERERERERFRUGCwkoiIiIiIiIiIiIICg5VEREREREREREQUFBisJCIiIiIiIiIioqDAYCUREREREREREREFBQYriYiIiIiIiIiIKCgwWElERERERERERERBgcFKIiIiIiIiIiIiCgoMVhIREREREREREVFQYLCSiIiIiIiIiIiIgkLILUHlM91jE1WGiIiIiNLFnoEhKkdERERE6SGIQmnZEoOVRERERNnY7gEqQ0RERERpFhISwmBlgLEbOBEREREREREREQUFBiuJiIiIiIiIiIgoKDBYSUREREREREREREGBwUoiIiIiIiIiIiIKCgxWEhERERERERERUVBgsJKIiIiIiIiIiIiCAoOVREREREREREREFBQYrCQiIiIiIiIiIqKgwGAlERERERERERERBQUGK4mIiIiIiIiIiCgoMFhJREREREREREREQYHBSiIiIiIiIiIiIgoKDFYSERERERERERFRUGCwkoiIiIiIiIiIiIICg5VEREREREREREQUFBisJCLKYM1qA2811lO7kqqQiIiIspl4/LR9G7aJdPCsKiIiIiKvQm4JKp/pHpuoMkREGazqo8Czd6mVy8Cb36h8WlUFvqgLFJD5v8R1bh4wtCvQ7E5tK/ZvB17dr+eJiAJh9wCVISIPYrG0zT1ovxKIHHsA54dUUeVOkmKxa80qrPpitR6ALFYFLZ9ujMbP1kNUfn0Xu10YE1ITb4hcuxXnsaR1pF6cgeJ3z8O8b+LVmo9uK4+WrzdGlFr1VdLxeXh1aRTeH1UPeVVZdhD7WX+0n34QyNsSk9b1hJszQ0lC/PGd2PjFQfz4007s+sV47aNQ5enyKH9/PTRpVAWRWe4FisHSbjOQd+gktOQf2okQEhKCIAqlZUsMVhIRCe1eAHqXUCsqqJguGKwkokzGYCWRL7wHK5MOzUD71q9i9S+qwCyyHvrNX4JJjcwByVQEK3ePQUgNeQt/ROLtfecxTHzmcBa7rBXuabdarfko8m0cOD/MS1DOUZJ43PXE49712CQc+KYfqtymNmQDttfQy+sSv38GurZ1c344iES91+dh7hR3AeFYbOzbHpN/UKu+chdMjd2I/h0n46Ba9VXeFpOwobs6WvxGvFq+CWagHZbsWsKeQZTjMVgZeOwGTkSUSjLAKYMA7tIXYjsRERFlPBlgkl8mfUntV8aqW3lwZRveaCQDUTLQtAQH/kzUvqjeunwKW8c2RmTsNkxu3BXzvAaqfBRZHvWerucl1fDa+jGy7Sr9cfqSdr2tbuWn00vRtcUb2BXZDkuWuQlUJm1Df+M1H7gNSarYhQzWmurGId3zIOq3eRUztrvWl7m+x+xWhZZkUNrpuBbpnnH+hfaS9o9B42r6+VG+7SSsOngKly6bX99EXDr/I7bO74d6kbHY9m4T1OyyWjwaa/Fnt2HbF36mfW5a0F6PR4zV/l7SAfPhCjbGpDVvo0bsUrRvOwa7rqhyIqIAYbCSiEh4+A6VkW4H2qksERERZUH5o7SAXo379dXIivYgX3nVwDHqMX39Hh+65MZumofJseI4Ld7G3CntUOUudSN5P0NWYckAedCNGLPG3/Zr7rTHpM+3YqvHNBld1d6ZJx4bJ/TD0thI9Jwzw22Lu/hNSzFZ5TFxNbb52TNdE/sTtq2cgVfr3YNSXVYjRhWnlvmccE4PunTp9yQe2+a/gV0iF/niZGxY2g8tK0ehoMMx8qKgDEB3noQNK/XWmbELJmGVZevJSLRbYQ50ekk+B5llC1yL27tJzq2L8z42DDOm1AB2v4Ge7+5yH3AmIkoHDFYSET0k/puDlXmAuo+rvAcnxKfkLcec0jm1UbicqDJERESUoSKfnaQF9CZ3VAXt9PWtny/BG7X1ohp9l2hlk5713j075vhSPVPtEYvWjHnxYJWaWi7maIzb1nKZwZ8Wpv53P5fdv2fgjVniGTd6G/2eLahKncVj22fm8XVmYPV279HKYRsv4dIlezr/0wZMaq2/+jELWqH9u2kMDNvOCYvUy11nbytJSFItDWMjI3GPnnUr7133oJCWi0VSFov4VfmfqGfxdjk44m0sSa9WxEREFhisJKIc763qQGGVNzxUWXyG1T9JurV/L/DmRscUfV1tFK5cVhkiIiLK0iJLttSWsWfOwyrMdv6s3s4v8oF74MPIlBnvsa4YNmESJvmS+laBu7CjoyTsXP2GNhZiyxebuO+S/ssqzFsgM1XQuJEeBJy3bKPXoG54oYIoWNCeIss1Rr8VWzG3kb5914RV2BYUwb5I1GvdU6/3ie3Ratw2xFo+riTEH1qKVzu/im1iLbJuP9SzGGc0qOWvh1Y99FbEM9KtFTERkSsGK4ko5yoEvNUZaGAEJROB/ZdUPhx45QXgv35+4zB3Jz+X1v5JREREFBSi6raCFq6c1RU9P/zJoQts7KY30HOgDNzUwKsqGJdmsW/gEavWjw5Jn7zHJw80xqsD+qGfT8nHmcDjt2G1NkFqS7Sq4f4DU8w3q7FRZiq3x9tj2+sTwKxcgg2papkXhXpt9cAxYnchRs7IHgQKPjsJG6e1FI8uFhuH1sc94aJ+HqiJ+s/U11O9B3FPSDgKVWmPGbvFs2j0NpascDezuG/jatpSKlrEpkWVx9pry4NTNmpd34mIAoHBSiLKkao+CnzyItDgLlUgyJaSr24HTqvWkWEFgFfaAu/XB8roRZ6VFPsZwcprwJHTKm+4U594x5gJnIiIiLKIYu0waUVXLRi1tNuDCFeBqJoPhOCexmOwS2xpPGEy+lX1YQBMT24raDmGojHOpvU4iw96bwn5cSvcYxXocpN8mnTo+EGsksvKNVHe7ezQB7F6mhaqRJWO9VClcj20ryzXNmLp9tT9VTfcNoHPj4hNzdiXqRU7Dz2N4OMz/bHxoirX5EWVXqtw6s8fsXXpJPRsLeolb4x9wpqfgAdFXXUdMBerDp7HjxuHoZ7pM6g7xriqPqWHfGsPm1Z5H6qpj+0euwo7D2lFRETpjsFKIsoxiooPx+NfADb0Ad6vA5TMozbcBPbvAF7dK/Ingb6b7QFLiA/EVR8BFr0OrG4LDK2hyi00qyruQ+XjzgFqdCsiIiLKQmKHPmIP3HW0z9gc1XoufozZgPe7t0QN7NKCUDF566Fe57ex6ugBbBhQA2kMVYoPHT0txlC0j7PpbpzFnm66E+eNamzR1bsnGqvtNToPs9g+CfWKe38mMT8f0F+bh6Lcj9N4aBuWaAGteuj5rGxHWAX12untCbfNXK11IfdPEn48ulPl66F8MZXNEDHYZQQfvziPJNPQPzZ3lUe9tv3w/gpRL0fP2yeskTOBi3qaO6ErWlaO9Pk8McZV9S25a6mZziKj8KAWPD+IAz/7ENQmIkoFBiuJKMc4dxvw7xJA4TBVICT/DSzdqAKVyrmfgP8sA7aY/2IubltUfCB2mDXcrDTw3/tUXti/X2XM/tEn4TkqlkRERBScHFovGrN+K3lLNkbPmauw82c1Y/LRrdg6fxhaVrRq1RaJKn4E/wKh4GNdLbp5t4c+HZDsjvyqxfZ+6PqY91Z6sadX6xkP43Tu+mySHpB8uh3qqZnZqzytuoIfWoJt/rTMS4rHwWX98cY4FSDr3Ar1/ByuJ00i38YBI/h4awlaZuR9p4tYzOtltAz1IQ3caDk+K3APolTw/Kez5/UMEVE6Y7CSiHKO/cD2v8TyJnBZLNftAP4zB5j2kyirAXzSWU8fNhDr4nPwmwuAjpuBr0T+srgNkoHNYt1FIeD9RkBRdUW9/Ju4rXMXcOmaPglPjFgSERFRkDK3XpzSOA0T5kShsY/Bv12jHbthO6Z70H6lvp9Dq0+LdM+4jJr0JB6XvMWpkrZhw0w9sFivdT3xaii2ruAHMWnFNofxP83eqOH0/MIL4ZF2M/RxEu/vilUjWvo4EVCg+Dm2pNt0D8ZY/ZFb2DaqvXUg0U3q/5nnfvExu42WoT6k2CS3dWM4eCUoZjgiomyIwUoiylHGrgZaTgaenifye4Fzqhx3ACXvUsn0yffEUWDwx2J/cZuWi4CPVLlNIWB8K6BquFpPBBZ8rvJERESU7XgOLFonb2NA5i1oas2ZhvRgfnk0b0E0+8Q8S9vcY7HdSO6DaNrM1g5jNrpK+mYjxmhPuzHa1TVP2VMF9TrqHZZjF2zDTn/iXZHl0W7UKvy4by5auh0nM+MULGZdD0byPNaokdyPORr7g0UQ0UM6n2TxYhZrh1W2FqF+pEUt3QTqIxH1kMoSEQVIiLgQ3VL5TPeYNpscEVEmaAjsVh+8ZMvIp5freU+KlgfGPw2UMca+vA6sWweMPanWparAF3WBAjL/l7jOzQOGdrVPsrN/O/Cq2y8CRERpJyf2IsqpZGCx5gggcuwBnB8iA2QykKe3VGy34hTmPV0IRvuxjd30cvu+1g5Oly3Y1IoX549uw0+x8r7OY0nrjOo3HIuNfdtj8g9qNQ1ajnU3HmYStg0MR335/W3UTtwa7jyodzxWdymEVgvUqgc9113C+8+qcN3uMbbZrYdtvIT+DofNi4IFrbvTxy5rhXva6d3S3951C8Me07IW7PXvXM9J8fHamXDp9AHExMTg4C+F0Pj1lii0Uh1bdgM/P8yPcSHd31eqnF2KVsXbYzUi8fa+8xjmZpzSwIvF6o73oNXHImtZ90TZn/yDThCF0rIlBiuJiCQ/g5UP1QdmPALYhr+8DmzZDLwpu5SbMVhJRJmMwUrKeQ5ixjP9IUNXiTHbsOsXkbk/ClG/xMDd/NNdVx9AvWWPpF9gSWMOjPoWrPQnEGqXFy0nbEBPrWt1xjECwZYBq4ur8dLdrSA+9njXeRUuzVdduk3BSs9BR0epCVZ61xJLzqxCvW+8Byvjj28T20Sm0IOoV9mo5+wbrDSeV5UpB3Dg9fR4rxBlLQxWBh67gRMRpcLRrcBmOf6lICfpmb3MIlBJREREmaAg8kLvFqsFKqVfYoDHTF1vO/fTZ76evwpbt21Fv9q+j34Y89lkTJ7oS3ofG35WN/JRUrxr117v6QDirWam1oJKVt27vaX2WO2517omsmRLPfPzeXFPjmI+m6cClS0x96dLuHTJNR2YVk/bAwuWYONZPZsRrLtut0TP4Wo29GlLsEGcEwdi5vk8ic5PK+ujfj2Rpux0eS2yn/M4r87r8sXczgNPRJQmbFlJRDnGJwOA9Bje6PRR4D9yop1CQP+qwNIvTGNfOmPLSiLKZGxZSeQL31vB2VoU+iEg3cC9trTzszv45Rhs2y3bnrbDqvM+zHa9ewzuqfEGYl1aHMZgXuNSeGmTyLZegvMr2lmPffjLPDR54CVsFNnG809hQ+eoDGhZ6T/bsT20rLSdEy+uwnnTWI9G13LcVhAFtfFEPbG3CLZ0/Tx+3P6TFgyNeqweorQPl1aqoN/SSWh8egbqD3V7NN9V7odVExrbx9WM34hXCzXBDHE/kw4eQL8MbtFLFAzkH3bYsjKw2LKSiCi1LgGTPAUqiYiIKNuSQU35ZdWXlHHjVZpFovEUNau5L+ndrup2PqpcA+3lMnYbDhgtWKVDqzFDBiqFli3qWQcqpfvroWUjPbtx2Ta3XfSzsrwFC6KgTF4DlVIS4i1bzqqkApWS51m9zyNJtrS9Hm+xLRXJeVbw4wexSi4jW6EmA5VEFCAMVhJRjvHVMWBLOqSvflcHJCIiIsqp8tZE4yEyFLkNG/fZOz8f/GIJDmq5lmhV21OQNgr1WjfWs1/MwOpDejZL++INtH+mPur7lJpghsNzroFhFoFu/5NqFfvYMIttqUhOs4If/GaVFjSt0rexeMRERIHBbuBERIH0CLC6NnCXzP8FPPExu4ETUcZiN3AiXwS2G7jPXav9kd4Trti6YPvxWA9NxiNV+uNgo7k4tbErolRxduJXN3C/ZPZEOamQtA1vRNXHmNjGmPvzBnS9X5UT5TDsBh54DFYSEWWw/z4HNCyk54/sBcYe0/NERIHAYCWRL0zjOz47CVt7uQ9Wpm7G7irot2gSGqdnsDJ+F+Z9uBPxIlu+RT80TmvgaL8xxqE/jzUeG3uUR5NZQL/PYzDp6byqPPuI3z0P877RXmW0HNA4WwZkfRXzYROU6rYRNcYewLYhVZD9apvINwxWBh6DlURERETZGIOVRBRQZ1ejfbVWWIp2WLJrCdqlx2yGFHxOL0X7Gu2xtOTb2PnFMNTwaRxOouyJwcrA45iVRERERERElDrFWmLemrdRI3Yp2redjINychfKXuQM4DJQKQPSyxioJKLAY7CSiIiIiIiIUi3vY8Ow7ae56Pp0FZS/TRVS9lGwPGo+2w+r2HKWiDIIu4ETERERZWPsBk5ERESUftgNPPDYspKIiIiIiIiIiIiCAoOVREREREREREREFBQYrCQiIiIiIiIiIqKgwGAlERERERERERERBQUGK4mIiIiIiIiIiCgoMFhJREREREREREREQYHBSiIiIiIiIiIiIgoKDFYSERERERERERFRUGCwkoiIiIiIiIiIiIICg5VEREREREREREQUFBisJCIiIiIiIiIioqDAYCUREREREREREREFBQYriYiIiIiIiIiIKCgwWElERERERERERERBgcFKIiIiIiIiIiIiCgohtwSVz3SPTVQZIiIiIkoXewaGqBwRERERpYcgCqVlS0EVrCQiymxzvxNpp1pJo5dqilRLrRARERERERGRV+wGTkRkIoOLMsiYVgxUEhEREREREfmPwUoiIidpDVgyUElERERERESUOgxWEhFZSG3AkoFKIiIiIiIiotRjsJKIyA1/A5YMVBIRERERERGlDYOVREQe+BqwZKCSiIiIiIiIKO0YrCQi8sJbwJKBSiIiIiIiIqL0wWAlEZEP3AUsGagkIiIiIiIiSj8MVhIR+cg5YMlAJREREREREVH6CrklqDwREflg7nf6koFKIiIiIiIiovTFYCUREREREREREREFBXYDJyIiIiIiIiIioqDAYCUREREREREREREFBQYriYiIiIiIiIiIKCgwWElERERERERERERBgcFKIiIiIiIiIiIiCgoMVhIREREREREREVFQYLCSiIiIiIiIiIiIggKDlURERERERERERBQUGKwkIiIiIiIiIiKioMBgJREREREREREREQUFBiuJiIiIiIiIiIgoKDBYSUREREREREREREGBwUoiIiIiIiIiIiIKCgxWEhERERERERERUVBgsJKIiIiIiIiIiIiCAoOVREREREREREREFBQYrCQiIiIiIiIiIqKgwGAlERERERERERERBQUGK4mIiIiIiIiIiCgoMFhJREREREREREREQYHBSiIiIiIiIiIiIgoKDFYSERERERERERFRUGCwkoiIiIiIiIiIiIIA8P9PotG10YlSHwAAAABJRU5ErkJggg==)"
      ],
      "metadata": {
        "id": "nF_uyLUO4xip"
      }
    },
    {
      "cell_type": "code",
      "source": [
        "with open('/content/데이터28_독한_일상생활_TTA품질검증_250000_sample.json', 'r') as f:\n",
        "    data = json.load(f)\n",
        "ko_de_pair19 = [(item['최종번역문'], item['원문']) for item in data]\n",
        "\n",
        "with open('/content/데이터28_독한_해외영업_TTA품질검증_250000_sample.json', 'r') as f:\n",
        "    data = json.load(f)\n",
        "ko_de_pair20 = [(item['최종번역문'], item['원문']) for item in data]\n",
        "\n",
        "with open('/content/데이터28_한독_해외영업_TTA품질검증_250000_sample.json', 'r') as f:\n",
        "    data = json.load(f)\n",
        "ko_de_pair21 = [(item['원문'], item['최종번역문']) for item in data]\n",
        "\n",
        "with open('/content/데이터28_한독_일상생활_TTA품질검증_250000_sample.json', 'r') as f:\n",
        "    data = json.load(f)\n",
        "ko_de_pair22 = [(item['원문'], item['최종번역문']) for item in data]"
      ],
      "metadata": {
        "id": "uvA7wOIG8slA"
      },
      "execution_count": null,
      "outputs": []
    },
    {
      "cell_type": "code",
      "source": [
        "ko_de_pair19[0]"
      ],
      "metadata": {
        "colab": {
          "base_uri": "https://localhost:8080/"
        },
        "id": "FOaVNewNMZ-_",
        "outputId": "2d0496f2-df7b-439f-e449-4703a141bb24"
      },
      "execution_count": null,
      "outputs": [
        {
          "output_type": "execute_result",
          "data": {
            "text/plain": [
              "('결혼 후에, 어떤 보상도 시장을 통해 이뤄지지 않는다.',\n",
              " 'Nach der Eheschließung erfolgt keine Entlohnung über den Markt.')"
            ]
          },
          "metadata": {},
          "execution_count": 138
        }
      ]
    },
    {
      "cell_type": "code",
      "source": [
        "TTAdata = ko_de_pair22 + ko_de_pair21 + ko_de_pair20 + ko_de_pair19\n",
        "len(TTAdata)"
      ],
      "metadata": {
        "colab": {
          "base_uri": "https://localhost:8080/"
        },
        "id": "eAWgr3zpG0Yy",
        "outputId": "8d5edda5-8911-4eb2-8508-2e2e836c7758"
      },
      "execution_count": null,
      "outputs": [
        {
          "output_type": "execute_result",
          "data": {
            "text/plain": [
              "400"
            ]
          },
          "metadata": {},
          "execution_count": 115
        }
      ]
    },
    {
      "cell_type": "code",
      "source": [
        "knd = (TTAdata + ko_de_pairs)\n",
        "len(knd)"
      ],
      "metadata": {
        "colab": {
          "base_uri": "https://localhost:8080/"
        },
        "id": "i5DEyRajHJw6",
        "outputId": "4613d7f3-ef90-4d67-979d-0043e15a605c"
      },
      "execution_count": null,
      "outputs": [
        {
          "output_type": "execute_result",
          "data": {
            "text/plain": [
              "10400"
            ]
          },
          "metadata": {},
          "execution_count": 117
        }
      ]
    },
    {
      "cell_type": "code",
      "source": [
        "with open('/content/dc_k_000001_kode.json', 'r') as f:\n",
        "    data = json.load(f)\n",
        "\n",
        "ko_de_pair1 = [(data['원문'], data['최종번역문'])]\n",
        "\n",
        "with open('/content/dc_k_000002_kode.json', 'r') as f:\n",
        "    data = json.load(f)\n",
        "\n",
        "ko_de_pair2 = [(data['원문'], data['최종번역문'])]\n",
        "\n",
        "with open('/content/dc_k_000003_kode.json', 'r') as f:\n",
        "    data = json.load(f)\n",
        "\n",
        "ko_de_pair3 = [(data['원문'], data['최종번역문'])]\n",
        "ko_de_pair3[0]\n",
        "\n",
        "with open('/content/et_c_108493_kode.json', 'r') as f:\n",
        "    data = json.load(f)\n",
        "\n",
        "ko_de_pair4 = [(data['원문'], data['최종번역문'])]\n",
        "ko_de_pair4[0]\n",
        "\n",
        "with open('/content/et_c_108494_kode.json', 'r') as f:\n",
        "    data = json.load(f)\n",
        "\n",
        "ko_de_pair5 = [(data['원문'], data['최종번역문'])]\n",
        "ko_de_pair5[0]\n",
        "with open('/content/et_c_108495_kode.json', 'r') as f:\n",
        "    data = json.load(f)\n",
        "\n",
        "ko_de_pair6 = [(data['원문'], data['최종번역문'])]\n",
        "ko_de_pair6[0]\n",
        "\n",
        "with open('/content/iv_c_213906_kode.json', 'r') as f:\n",
        "    data = json.load(f)\n",
        "\n",
        "ko_de_pair7 = [(data['원문'], data['최종번역문'])]\n",
        "ko_de_pair7[0]\n",
        "\n",
        "# 이하 생략.."
      ],
      "metadata": {
        "colab": {
          "base_uri": "https://localhost:8080/"
        },
        "id": "c8COEOcg4wuu",
        "outputId": "4ef2a2e0-56c3-4a59-f163-22653ec5b69f"
      },
      "execution_count": null,
      "outputs": [
        {
          "output_type": "execute_result",
          "data": {
            "text/plain": [
              "(\"'굳이 죄 없는 아이들을 대상으로 지뢰 작업을 시켜야 했나?' 이런 생각이 들거든요.\",\n",
              " \"Ich denke so, 'Mussten wir wirklich an unschuldigen Kindern die Minen bearbeiten?'\")"
            ]
          },
          "metadata": {},
          "execution_count": 25
        }
      ]
    },
    {
      "cell_type": "code",
      "source": [
        "# for i in range(34):\n",
        "#   ko_de_pairs.append(f'ko_de_pair{i}')"
      ],
      "metadata": {
        "id": "1-XCVEw7-7wo"
      },
      "execution_count": null,
      "outputs": []
    },
    {
      "cell_type": "code",
      "source": [
        "len(knd)"
      ],
      "metadata": {
        "colab": {
          "base_uri": "https://localhost:8080/"
        },
        "id": "eaueSVxX_B2y",
        "outputId": "4c596252-de5b-4efd-f3fd-807ce76fe136"
      },
      "execution_count": null,
      "outputs": [
        {
          "output_type": "execute_result",
          "data": {
            "text/plain": [
              "10400"
            ]
          },
          "metadata": {},
          "execution_count": 176
        }
      ]
    },
    {
      "cell_type": "code",
      "source": [
        "total_pairs = []\n",
        "\n",
        "for i in range(1, 32):\n",
        "    total_pairs.extend(globals()[f'ko_de_pair{i}'])"
      ],
      "metadata": {
        "id": "Irm6nN3kJEUX"
      },
      "execution_count": null,
      "outputs": []
    },
    {
      "cell_type": "code",
      "source": [
        "len(total_pairs)"
      ],
      "metadata": {
        "colab": {
          "base_uri": "https://localhost:8080/"
        },
        "id": "6hjZEAA5JbOX",
        "outputId": "a020562f-a830-417a-91d2-5cd794aa66a3"
      },
      "execution_count": null,
      "outputs": [
        {
          "output_type": "execute_result",
          "data": {
            "text/plain": [
              "427"
            ]
          },
          "metadata": {},
          "execution_count": 179
        }
      ]
    },
    {
      "cell_type": "code",
      "source": [
        "finalData = knd + total_pairs"
      ],
      "metadata": {
        "id": "YjS1LIooIvTv"
      },
      "execution_count": null,
      "outputs": []
    },
    {
      "cell_type": "code",
      "source": [
        "len(finalData)"
      ],
      "metadata": {
        "colab": {
          "base_uri": "https://localhost:8080/"
        },
        "id": "CXp7bsb2Jjhj",
        "outputId": "73598a13-43b0-4a11-bb73-3f982dbdc853"
      },
      "execution_count": null,
      "outputs": [
        {
          "output_type": "execute_result",
          "data": {
            "text/plain": [
              "10827"
            ]
          },
          "metadata": {},
          "execution_count": 181
        }
      ]
    },
    {
      "cell_type": "code",
      "source": [
        "df.to_json('finalDataaa.json', orient='records', lines=True)"
      ],
      "metadata": {
        "id": "zkT2hvfJKPLt"
      },
      "execution_count": null,
      "outputs": []
    },
    {
      "cell_type": "markdown",
      "source": [
        "# 번역기 만들기 시작"
      ],
      "metadata": {
        "id": "VRj49xABw74b"
      }
    },
    {
      "cell_type": "code",
      "source": [
        "import torch\n",
        "\n",
        "device = 'cuda' if torch.cuda.is_available() else 'cpu'\n",
        "device"
      ],
      "metadata": {
        "id": "jmOrOGTfT4X9",
        "colab": {
          "base_uri": "https://localhost:8080/",
          "height": 36
        },
        "outputId": "9fb51304-a27c-45d3-bade-9b7fed55e7c1"
      },
      "execution_count": null,
      "outputs": [
        {
          "output_type": "execute_result",
          "data": {
            "text/plain": [
              "'cuda'"
            ],
            "application/vnd.google.colaboratory.intrinsic+json": {
              "type": "string"
            }
          },
          "metadata": {},
          "execution_count": 1
        }
      ]
    },
    {
      "cell_type": "code",
      "source": [
        "pip install transformers"
      ],
      "metadata": {
        "id": "3cGSRGFmqcUc"
      },
      "execution_count": null,
      "outputs": []
    },
    {
      "cell_type": "code",
      "source": [
        "pip install datasets"
      ],
      "metadata": {
        "id": "5zvTIkuww37t"
      },
      "execution_count": null,
      "outputs": []
    },
    {
      "cell_type": "code",
      "source": [
        "pip install evaluate"
      ],
      "metadata": {
        "id": "FkQjLKIVw4Vi"
      },
      "execution_count": null,
      "outputs": []
    },
    {
      "cell_type": "code",
      "source": [
        "pip install sacrebleu"
      ],
      "metadata": {
        "id": "KwpRHzYvqXyw"
      },
      "execution_count": null,
      "outputs": []
    },
    {
      "cell_type": "markdown",
      "source": [
        "# 1. 데이터 불러오기"
      ],
      "metadata": {
        "id": "0QMYy0gfJ6_L"
      }
    },
    {
      "cell_type": "code",
      "source": [
        "import json\n",
        "data = []\n",
        "with open('finalDataaa.json', 'r') as f:\n",
        "    for line in f:\n",
        "        data.append(json.loads(line))"
      ],
      "metadata": {
        "id": "79mo1V7kLG00"
      },
      "execution_count": null,
      "outputs": []
    },
    {
      "cell_type": "code",
      "source": [
        "data[0]"
      ],
      "metadata": {
        "colab": {
          "base_uri": "https://localhost:8080/"
        },
        "id": "ft3v4SaVV8NY",
        "outputId": "e509a56c-29b5-459c-a669-06100774707a"
      },
      "execution_count": null,
      "outputs": [
        {
          "output_type": "execute_result",
          "data": {
            "text/plain": [
              "{'ko': '그렇게하자~ 나도 구경해보고 싶어.',\n",
              " 'de': 'Machen wir das ~ Ich möchte auch einen Blick darauf werfen.'}"
            ]
          },
          "metadata": {},
          "execution_count": 2
        }
      ]
    },
    {
      "cell_type": "code",
      "source": [
        "import pandas as pd\n",
        "\n",
        "df = pd.DataFrame(data, columns=['ko', 'de'])"
      ],
      "metadata": {
        "id": "T8xsaXWp0uI7"
      },
      "execution_count": null,
      "outputs": []
    },
    {
      "cell_type": "code",
      "source": [
        "df.head()"
      ],
      "metadata": {
        "colab": {
          "base_uri": "https://localhost:8080/",
          "height": 206
        },
        "id": "tUhSjnAo0qUZ",
        "outputId": "3f82b1e8-398d-4b64-ca15-811ff9cac698"
      },
      "execution_count": null,
      "outputs": [
        {
          "output_type": "execute_result",
          "data": {
            "text/plain": [
              "                             ko  \\\n",
              "0           그렇게하자~ 나도 구경해보고 싶어.   \n",
              "1  해변을 보고 나서 저녁 먹을 식당도 미리 알아보자!   \n",
              "2                 둘러봐야지 뭘살지 알지~   \n",
              "3              그러면 내가 오늘 저녁 살게.   \n",
              "4  혹시 이 제품 중 오늘 들어온 도시락은 어떤걸까요?   \n",
              "\n",
              "                                                  de  \n",
              "0  Machen wir das ~ Ich möchte auch einen Blick d...  \n",
              "1  Nachdem wir den Strand gesehen haben, suchen w...  \n",
              "2  Du musst dich umschauen, so dass du weißt was ...  \n",
              "3  Dann werde ich dich heute zum Abendessen einla...  \n",
              "4     Was ist mit der Lunchbox, die heute hereinkam?  "
            ],
            "text/html": [
              "\n",
              "  <div id=\"df-c42e4dc4-7322-4a8f-8118-3458471c5aa3\" class=\"colab-df-container\">\n",
              "    <div>\n",
              "<style scoped>\n",
              "    .dataframe tbody tr th:only-of-type {\n",
              "        vertical-align: middle;\n",
              "    }\n",
              "\n",
              "    .dataframe tbody tr th {\n",
              "        vertical-align: top;\n",
              "    }\n",
              "\n",
              "    .dataframe thead th {\n",
              "        text-align: right;\n",
              "    }\n",
              "</style>\n",
              "<table border=\"1\" class=\"dataframe\">\n",
              "  <thead>\n",
              "    <tr style=\"text-align: right;\">\n",
              "      <th></th>\n",
              "      <th>ko</th>\n",
              "      <th>de</th>\n",
              "    </tr>\n",
              "  </thead>\n",
              "  <tbody>\n",
              "    <tr>\n",
              "      <th>0</th>\n",
              "      <td>그렇게하자~ 나도 구경해보고 싶어.</td>\n",
              "      <td>Machen wir das ~ Ich möchte auch einen Blick d...</td>\n",
              "    </tr>\n",
              "    <tr>\n",
              "      <th>1</th>\n",
              "      <td>해변을 보고 나서 저녁 먹을 식당도 미리 알아보자!</td>\n",
              "      <td>Nachdem wir den Strand gesehen haben, suchen w...</td>\n",
              "    </tr>\n",
              "    <tr>\n",
              "      <th>2</th>\n",
              "      <td>둘러봐야지 뭘살지 알지~</td>\n",
              "      <td>Du musst dich umschauen, so dass du weißt was ...</td>\n",
              "    </tr>\n",
              "    <tr>\n",
              "      <th>3</th>\n",
              "      <td>그러면 내가 오늘 저녁 살게.</td>\n",
              "      <td>Dann werde ich dich heute zum Abendessen einla...</td>\n",
              "    </tr>\n",
              "    <tr>\n",
              "      <th>4</th>\n",
              "      <td>혹시 이 제품 중 오늘 들어온 도시락은 어떤걸까요?</td>\n",
              "      <td>Was ist mit der Lunchbox, die heute hereinkam?</td>\n",
              "    </tr>\n",
              "  </tbody>\n",
              "</table>\n",
              "</div>\n",
              "    <div class=\"colab-df-buttons\">\n",
              "\n",
              "  <div class=\"colab-df-container\">\n",
              "    <button class=\"colab-df-convert\" onclick=\"convertToInteractive('df-c42e4dc4-7322-4a8f-8118-3458471c5aa3')\"\n",
              "            title=\"Convert this dataframe to an interactive table.\"\n",
              "            style=\"display:none;\">\n",
              "\n",
              "  <svg xmlns=\"http://www.w3.org/2000/svg\" height=\"24px\" viewBox=\"0 -960 960 960\">\n",
              "    <path d=\"M120-120v-720h720v720H120Zm60-500h600v-160H180v160Zm220 220h160v-160H400v160Zm0 220h160v-160H400v160ZM180-400h160v-160H180v160Zm440 0h160v-160H620v160ZM180-180h160v-160H180v160Zm440 0h160v-160H620v160Z\"/>\n",
              "  </svg>\n",
              "    </button>\n",
              "\n",
              "  <style>\n",
              "    .colab-df-container {\n",
              "      display:flex;\n",
              "      gap: 12px;\n",
              "    }\n",
              "\n",
              "    .colab-df-convert {\n",
              "      background-color: #E8F0FE;\n",
              "      border: none;\n",
              "      border-radius: 50%;\n",
              "      cursor: pointer;\n",
              "      display: none;\n",
              "      fill: #1967D2;\n",
              "      height: 32px;\n",
              "      padding: 0 0 0 0;\n",
              "      width: 32px;\n",
              "    }\n",
              "\n",
              "    .colab-df-convert:hover {\n",
              "      background-color: #E2EBFA;\n",
              "      box-shadow: 0px 1px 2px rgba(60, 64, 67, 0.3), 0px 1px 3px 1px rgba(60, 64, 67, 0.15);\n",
              "      fill: #174EA6;\n",
              "    }\n",
              "\n",
              "    .colab-df-buttons div {\n",
              "      margin-bottom: 4px;\n",
              "    }\n",
              "\n",
              "    [theme=dark] .colab-df-convert {\n",
              "      background-color: #3B4455;\n",
              "      fill: #D2E3FC;\n",
              "    }\n",
              "\n",
              "    [theme=dark] .colab-df-convert:hover {\n",
              "      background-color: #434B5C;\n",
              "      box-shadow: 0px 1px 3px 1px rgba(0, 0, 0, 0.15);\n",
              "      filter: drop-shadow(0px 1px 2px rgba(0, 0, 0, 0.3));\n",
              "      fill: #FFFFFF;\n",
              "    }\n",
              "  </style>\n",
              "\n",
              "    <script>\n",
              "      const buttonEl =\n",
              "        document.querySelector('#df-c42e4dc4-7322-4a8f-8118-3458471c5aa3 button.colab-df-convert');\n",
              "      buttonEl.style.display =\n",
              "        google.colab.kernel.accessAllowed ? 'block' : 'none';\n",
              "\n",
              "      async function convertToInteractive(key) {\n",
              "        const element = document.querySelector('#df-c42e4dc4-7322-4a8f-8118-3458471c5aa3');\n",
              "        const dataTable =\n",
              "          await google.colab.kernel.invokeFunction('convertToInteractive',\n",
              "                                                    [key], {});\n",
              "        if (!dataTable) return;\n",
              "\n",
              "        const docLinkHtml = 'Like what you see? Visit the ' +\n",
              "          '<a target=\"_blank\" href=https://colab.research.google.com/notebooks/data_table.ipynb>data table notebook</a>'\n",
              "          + ' to learn more about interactive tables.';\n",
              "        element.innerHTML = '';\n",
              "        dataTable['output_type'] = 'display_data';\n",
              "        await google.colab.output.renderOutput(dataTable, element);\n",
              "        const docLink = document.createElement('div');\n",
              "        docLink.innerHTML = docLinkHtml;\n",
              "        element.appendChild(docLink);\n",
              "      }\n",
              "    </script>\n",
              "  </div>\n",
              "\n",
              "\n",
              "<div id=\"df-a6705a41-a527-4d34-a0ab-46045841bc96\">\n",
              "  <button class=\"colab-df-quickchart\" onclick=\"quickchart('df-a6705a41-a527-4d34-a0ab-46045841bc96')\"\n",
              "            title=\"Suggest charts\"\n",
              "            style=\"display:none;\">\n",
              "\n",
              "<svg xmlns=\"http://www.w3.org/2000/svg\" height=\"24px\"viewBox=\"0 0 24 24\"\n",
              "     width=\"24px\">\n",
              "    <g>\n",
              "        <path d=\"M19 3H5c-1.1 0-2 .9-2 2v14c0 1.1.9 2 2 2h14c1.1 0 2-.9 2-2V5c0-1.1-.9-2-2-2zM9 17H7v-7h2v7zm4 0h-2V7h2v10zm4 0h-2v-4h2v4z\"/>\n",
              "    </g>\n",
              "</svg>\n",
              "  </button>\n",
              "\n",
              "<style>\n",
              "  .colab-df-quickchart {\n",
              "      --bg-color: #E8F0FE;\n",
              "      --fill-color: #1967D2;\n",
              "      --hover-bg-color: #E2EBFA;\n",
              "      --hover-fill-color: #174EA6;\n",
              "      --disabled-fill-color: #AAA;\n",
              "      --disabled-bg-color: #DDD;\n",
              "  }\n",
              "\n",
              "  [theme=dark] .colab-df-quickchart {\n",
              "      --bg-color: #3B4455;\n",
              "      --fill-color: #D2E3FC;\n",
              "      --hover-bg-color: #434B5C;\n",
              "      --hover-fill-color: #FFFFFF;\n",
              "      --disabled-bg-color: #3B4455;\n",
              "      --disabled-fill-color: #666;\n",
              "  }\n",
              "\n",
              "  .colab-df-quickchart {\n",
              "    background-color: var(--bg-color);\n",
              "    border: none;\n",
              "    border-radius: 50%;\n",
              "    cursor: pointer;\n",
              "    display: none;\n",
              "    fill: var(--fill-color);\n",
              "    height: 32px;\n",
              "    padding: 0;\n",
              "    width: 32px;\n",
              "  }\n",
              "\n",
              "  .colab-df-quickchart:hover {\n",
              "    background-color: var(--hover-bg-color);\n",
              "    box-shadow: 0 1px 2px rgba(60, 64, 67, 0.3), 0 1px 3px 1px rgba(60, 64, 67, 0.15);\n",
              "    fill: var(--button-hover-fill-color);\n",
              "  }\n",
              "\n",
              "  .colab-df-quickchart-complete:disabled,\n",
              "  .colab-df-quickchart-complete:disabled:hover {\n",
              "    background-color: var(--disabled-bg-color);\n",
              "    fill: var(--disabled-fill-color);\n",
              "    box-shadow: none;\n",
              "  }\n",
              "\n",
              "  .colab-df-spinner {\n",
              "    border: 2px solid var(--fill-color);\n",
              "    border-color: transparent;\n",
              "    border-bottom-color: var(--fill-color);\n",
              "    animation:\n",
              "      spin 1s steps(1) infinite;\n",
              "  }\n",
              "\n",
              "  @keyframes spin {\n",
              "    0% {\n",
              "      border-color: transparent;\n",
              "      border-bottom-color: var(--fill-color);\n",
              "      border-left-color: var(--fill-color);\n",
              "    }\n",
              "    20% {\n",
              "      border-color: transparent;\n",
              "      border-left-color: var(--fill-color);\n",
              "      border-top-color: var(--fill-color);\n",
              "    }\n",
              "    30% {\n",
              "      border-color: transparent;\n",
              "      border-left-color: var(--fill-color);\n",
              "      border-top-color: var(--fill-color);\n",
              "      border-right-color: var(--fill-color);\n",
              "    }\n",
              "    40% {\n",
              "      border-color: transparent;\n",
              "      border-right-color: var(--fill-color);\n",
              "      border-top-color: var(--fill-color);\n",
              "    }\n",
              "    60% {\n",
              "      border-color: transparent;\n",
              "      border-right-color: var(--fill-color);\n",
              "    }\n",
              "    80% {\n",
              "      border-color: transparent;\n",
              "      border-right-color: var(--fill-color);\n",
              "      border-bottom-color: var(--fill-color);\n",
              "    }\n",
              "    90% {\n",
              "      border-color: transparent;\n",
              "      border-bottom-color: var(--fill-color);\n",
              "    }\n",
              "  }\n",
              "</style>\n",
              "\n",
              "  <script>\n",
              "    async function quickchart(key) {\n",
              "      const quickchartButtonEl =\n",
              "        document.querySelector('#' + key + ' button');\n",
              "      quickchartButtonEl.disabled = true;  // To prevent multiple clicks.\n",
              "      quickchartButtonEl.classList.add('colab-df-spinner');\n",
              "      try {\n",
              "        const charts = await google.colab.kernel.invokeFunction(\n",
              "            'suggestCharts', [key], {});\n",
              "      } catch (error) {\n",
              "        console.error('Error during call to suggestCharts:', error);\n",
              "      }\n",
              "      quickchartButtonEl.classList.remove('colab-df-spinner');\n",
              "      quickchartButtonEl.classList.add('colab-df-quickchart-complete');\n",
              "    }\n",
              "    (() => {\n",
              "      let quickchartButtonEl =\n",
              "        document.querySelector('#df-a6705a41-a527-4d34-a0ab-46045841bc96 button');\n",
              "      quickchartButtonEl.style.display =\n",
              "        google.colab.kernel.accessAllowed ? 'block' : 'none';\n",
              "    })();\n",
              "  </script>\n",
              "</div>\n",
              "\n",
              "    </div>\n",
              "  </div>\n"
            ],
            "application/vnd.google.colaboratory.intrinsic+json": {
              "type": "dataframe",
              "variable_name": "df",
              "summary": "{\n  \"name\": \"df\",\n  \"rows\": 10827,\n  \"fields\": [\n    {\n      \"column\": \"ko\",\n      \"properties\": {\n        \"dtype\": \"string\",\n        \"num_unique_values\": 10365,\n        \"samples\": [\n          \"\\ubbf8\\uad6d \\uc218\\uc815 \\ud5cc\\ubc95 4\\uc870\\ub294 \\ubd80\\ub2f9\\ud55c \\uc218\\uc0c9\\uacfc \\uccb4\\ud3ec\\ub97c \\ud3ec\\ud568\\ud55c\\ub2e4\",\n          \"\\ud3ec\\ucee4\\uc2a4 \\uadf8\\ub8f9 \\uc5f0\\uad6c\\uc758 \\ub9e5\\ub77d\\uc5d0\\uc11c \\uc790\\uc5f0\\uc801\\uc778 \\uadf8\\ub8f9\\uc740 \\ubb34\\uc5c7\\uc778\\uac00\",\n          \"\\uc7a0\\uc790\\ub294 \\uc232 \\uc18d\\uc758 \\uacf5\\uc8fc \\uc6d0\\uc791\\uc5d0\\uc11c \\uacf5\\uc8fc\\ub97c \\uc7a0\\ub4e4\\uac8c \\ud558\\ub294 \\uac83\\uc740 \\ubb34\\uc5c7\\uc785\\ub2c8\\uae4c?\"\n        ],\n        \"semantic_type\": \"\",\n        \"description\": \"\"\n      }\n    },\n    {\n      \"column\": \"de\",\n      \"properties\": {\n        \"dtype\": \"string\",\n        \"num_unique_values\": 10416,\n        \"samples\": [\n          \"wie viele staffeln von big brother gibt es\",\n          \"Wer ist der Premierminister von Trinidad und Tobago?\",\n          \"Ich kaufe dir alles, was zu dir passt.\"\n        ],\n        \"semantic_type\": \"\",\n        \"description\": \"\"\n      }\n    }\n  ]\n}"
            }
          },
          "metadata": {},
          "execution_count": 4
        }
      ]
    },
    {
      "cell_type": "code",
      "source": [
        "df.info()"
      ],
      "metadata": {
        "colab": {
          "base_uri": "https://localhost:8080/"
        },
        "id": "aKWoBEO1P-1K",
        "outputId": "412a8539-0265-4af2-f841-0d521805f056"
      },
      "execution_count": null,
      "outputs": [
        {
          "output_type": "stream",
          "name": "stdout",
          "text": [
            "<class 'pandas.core.frame.DataFrame'>\n",
            "RangeIndex: 10827 entries, 0 to 10826\n",
            "Data columns (total 2 columns):\n",
            " #   Column  Non-Null Count  Dtype \n",
            "---  ------  --------------  ----- \n",
            " 0   ko      10827 non-null  object\n",
            " 1   de      10827 non-null  object\n",
            "dtypes: object(2)\n",
            "memory usage: 169.3+ KB\n"
          ]
        }
      ]
    },
    {
      "cell_type": "code",
      "source": [
        "from datasets import Dataset\n",
        "\n",
        "dataset = Dataset.from_pandas(df)"
      ],
      "metadata": {
        "id": "YQXE0_0YEVh-"
      },
      "execution_count": null,
      "outputs": []
    },
    {
      "cell_type": "code",
      "source": [
        "# 데이터셋을 'train'과 'test'로 분할\n",
        "dataset = dataset.train_test_split(test_size=0.2)\n",
        "\n",
        "train_dataset = dataset['train']\n",
        "test_dataset = dataset['test']"
      ],
      "metadata": {
        "id": "pIcAs4VAPYJh"
      },
      "execution_count": null,
      "outputs": []
    },
    {
      "cell_type": "code",
      "source": [
        "dataset"
      ],
      "metadata": {
        "colab": {
          "base_uri": "https://localhost:8080/"
        },
        "id": "79sTSEuTQJxR",
        "outputId": "f923c227-4ea6-44c1-fa55-988a6ad362b8"
      },
      "execution_count": null,
      "outputs": [
        {
          "output_type": "execute_result",
          "data": {
            "text/plain": [
              "DatasetDict({\n",
              "    train: Dataset({\n",
              "        features: ['ko', 'de'],\n",
              "        num_rows: 8661\n",
              "    })\n",
              "    test: Dataset({\n",
              "        features: ['ko', 'de'],\n",
              "        num_rows: 2166\n",
              "    })\n",
              "})"
            ]
          },
          "metadata": {},
          "execution_count": 8
        }
      ]
    },
    {
      "cell_type": "code",
      "source": [
        "train_dataset[0]"
      ],
      "metadata": {
        "colab": {
          "base_uri": "https://localhost:8080/"
        },
        "id": "0g7y5JHiPrdj",
        "outputId": "231d07bb-ac02-4301-f09c-654c0c0e0488"
      },
      "execution_count": null,
      "outputs": [
        {
          "output_type": "execute_result",
          "data": {
            "text/plain": [
              "{'ko': '고대 문학에 우루크에 팔라딘은 누구  였나요',\n",
              " 'de': 'Wer war Paladin in Uruk in der antiken Literatur'}"
            ]
          },
          "metadata": {},
          "execution_count": 9
        }
      ]
    },
    {
      "cell_type": "code",
      "source": [
        "test_dataset[0]"
      ],
      "metadata": {
        "colab": {
          "base_uri": "https://localhost:8080/"
        },
        "id": "ZjG50jrwPt36",
        "outputId": "42ffbc04-4c6e-4c41-e54f-d15dde28636a"
      },
      "execution_count": null,
      "outputs": [
        {
          "output_type": "execute_result",
          "data": {
            "text/plain": [
              "{'ko': \"aerosmith의 don't want to miss a thing의 의미\",\n",
              " 'de': \"Bedeutung von Aerosmith don't want to miss a thing\"}"
            ]
          },
          "metadata": {},
          "execution_count": 10
        }
      ]
    },
    {
      "cell_type": "code",
      "source": [
        "from transformers import MarianMTModel, MarianTokenizer, Seq2SeqTrainingArguments, Seq2SeqTrainer"
      ],
      "metadata": {
        "id": "GloOOZaRuopr"
      },
      "execution_count": null,
      "outputs": []
    },
    {
      "cell_type": "markdown",
      "source": [
        "# 2. 전처리"
      ],
      "metadata": {
        "id": "m5flzx7g_WOF"
      }
    },
    {
      "cell_type": "code",
      "execution_count": null,
      "metadata": {
        "id": "l8bz-Mc4jrbZ",
        "colab": {
          "base_uri": "https://localhost:8080/"
        },
        "outputId": "b839eb52-c03e-46c9-f9cc-2891ad75b066"
      },
      "outputs": [
        {
          "output_type": "stream",
          "name": "stderr",
          "text": [
            "/usr/local/lib/python3.10/dist-packages/huggingface_hub/utils/_token.py:88: UserWarning: \n",
            "The secret `HF_TOKEN` does not exist in your Colab secrets.\n",
            "To authenticate with the Hugging Face Hub, create a token in your settings tab (https://huggingface.co/settings/tokens), set it as secret in your Google Colab and restart your session.\n",
            "You will be able to reuse this secret in all of your notebooks.\n",
            "Please note that authentication is recommended but still optional to access public models or datasets.\n",
            "  warnings.warn(\n",
            "/usr/local/lib/python3.10/dist-packages/transformers/models/marian/tokenization_marian.py:197: UserWarning: Recommended: pip install sacremoses.\n",
            "  warnings.warn(\"Recommended: pip install sacremoses.\")\n",
            "/usr/local/lib/python3.10/dist-packages/torch/_utils.py:831: UserWarning: TypedStorage is deprecated. It will be removed in the future and UntypedStorage will be the only storage class. This should only matter to you if you are using storages directly.  To access UntypedStorage directly, use tensor.untyped_storage() instead of tensor.storage()\n",
            "  return self.fget.__get__(instance, owner)()\n"
          ]
        }
      ],
      "source": [
        "model_name = 'Helsinki-NLP/opus-mt-ko-de'\n",
        "tokenizer = MarianTokenizer.from_pretrained(model_name)\n",
        "model = MarianMTModel.from_pretrained(model_name)"
      ]
    },
    {
      "cell_type": "code",
      "source": [
        "def preprocess_function(examples):\n",
        "    inputs = [ex for ex in examples['ko']]\n",
        "    targets = [ex for ex in examples['de']]\n",
        "    model_inputs = tokenizer(inputs, max_length=128, truncation=True)\n",
        "\n",
        "    # Setup the tokenizer for targets\n",
        "    with tokenizer.as_target_tokenizer():\n",
        "        labels = tokenizer(targets, max_length=128, truncation=True)\n",
        "\n",
        "    model_inputs[\"labels\"] = labels[\"input_ids\"]\n",
        "    return model_inputs\n",
        "\n",
        "tokenized_datasets = dataset.map(preprocess_function, batched=True)"
      ],
      "metadata": {
        "id": "iWbNMrsTkpZ3",
        "colab": {
          "base_uri": "https://localhost:8080/",
          "height": 138,
          "referenced_widgets": [
            "1a111f9b744940df80f47577ab7266e0",
            "ffce8116f67e42d0b5e48c051e57d951",
            "407c3abaeab643a683508e787c28b7e3",
            "edbcd75d429447f9b6ab205223550a19",
            "64ab111039a64f11ab27d2671de9a063",
            "2e5d89de744b4e70b0b263949beb7b92",
            "d22b4cf848884313a13dffa19b9e639a",
            "b26af92e53844a2095452fcae9a6966f",
            "aae24f56ca56406f9512a67b894f2e6a",
            "72f0ba84dce3402a8dac9bef21eaa94b",
            "8d548ca42b7e4c088b9ae2f2d138cabe",
            "1e416f2b3d7b45cca2e007bb8b0ae5b9",
            "aef5f4c5b7de4b14921e3ca46508aa84",
            "bb765d75694946d69d83186c067f75e2",
            "6c2d0e5ffb0f43ada86913483bd944b0",
            "68977d69df8048999062a4fa911ddc53",
            "b62f8744062b46828a0609c10012091f",
            "c5483469b31c4b9b88a6129977bd9251",
            "a90bba1c96dd474a928531beb44a6559",
            "4b295e41fba443cf8de045477ce67a3d",
            "cefba99645cb42e9969e14479d44b8c1",
            "34bc5b6848a749f1bc20d7fc26e17c17"
          ]
        },
        "outputId": "d2759df9-6734-4e8c-d758-439c32523cc3"
      },
      "execution_count": null,
      "outputs": [
        {
          "output_type": "display_data",
          "data": {
            "text/plain": [
              "Map:   0%|          | 0/8661 [00:00<?, ? examples/s]"
            ],
            "application/vnd.jupyter.widget-view+json": {
              "version_major": 2,
              "version_minor": 0,
              "model_id": "1a111f9b744940df80f47577ab7266e0"
            }
          },
          "metadata": {}
        },
        {
          "output_type": "stream",
          "name": "stderr",
          "text": [
            "/usr/local/lib/python3.10/dist-packages/transformers/tokenization_utils_base.py:3866: UserWarning: `as_target_tokenizer` is deprecated and will be removed in v5 of Transformers. You can tokenize your labels by using the argument `text_target` of the regular `__call__` method (either in the same call as your input texts if you use the same keyword arguments, or in a separate call.\n",
            "  warnings.warn(\n"
          ]
        },
        {
          "output_type": "display_data",
          "data": {
            "text/plain": [
              "Map:   0%|          | 0/2166 [00:00<?, ? examples/s]"
            ],
            "application/vnd.jupyter.widget-view+json": {
              "version_major": 2,
              "version_minor": 0,
              "model_id": "1e416f2b3d7b45cca2e007bb8b0ae5b9"
            }
          },
          "metadata": {}
        }
      ]
    },
    {
      "cell_type": "code",
      "source": [
        "pip install transformers[torch]"
      ],
      "metadata": {
        "id": "M-eiwG_FR54U"
      },
      "execution_count": null,
      "outputs": []
    },
    {
      "cell_type": "code",
      "source": [
        "# training_args = Seq2SeqTrainingArguments(\n",
        "#     output_dir=\"my-Helsinki-NLP/opus-mt-ko-de\",\n",
        "#     evaluation_strategy = \"epoch\",\n",
        "#     learning_rate=2e-5,\n",
        "#     per_device_train_batch_size=16,\n",
        "#     per_device_eval_batch_size=16,\n",
        "#     num_train_epochs=3,\n",
        "#     weight_decay=0.01,\n",
        "#     save_total_limit=3,\n",
        "#     predict_with_generate=True,\n",
        "# )\n",
        "\n",
        "# trainer = Seq2SeqTrainer(\n",
        "#     model=model,\n",
        "#     args=training_args,\n",
        "#     train_dataset=tokenized_datasets[\"train\"],\n",
        "#     eval_dataset=tokenized_datasets[\"test\"],\n",
        "# )"
      ],
      "metadata": {
        "id": "bA-2FUAZk2af"
      },
      "execution_count": null,
      "outputs": []
    },
    {
      "cell_type": "code",
      "source": [
        "# trainer.train()"
      ],
      "metadata": {
        "colab": {
          "base_uri": "https://localhost:8080/",
          "height": 304
        },
        "id": "BbWfG0sNAh-9",
        "outputId": "af4e6607-4ed0-428e-e812-afad5e7ea528"
      },
      "execution_count": null,
      "outputs": [
        {
          "output_type": "error",
          "ename": "ValueError",
          "evalue": "expected sequence of length 10 at dim 1 (got 12)",
          "traceback": [
            "\u001b[0;31m---------------------------------------------------------------------------\u001b[0m",
            "\u001b[0;31mValueError\u001b[0m                                Traceback (most recent call last)",
            "\u001b[0;32m<ipython-input-16-3435b262f1ae>\u001b[0m in \u001b[0;36m<cell line: 1>\u001b[0;34m()\u001b[0m\n\u001b[0;32m----> 1\u001b[0;31m \u001b[0mtrainer\u001b[0m\u001b[0;34m.\u001b[0m\u001b[0mtrain\u001b[0m\u001b[0;34m(\u001b[0m\u001b[0;34m)\u001b[0m\u001b[0;34m\u001b[0m\u001b[0;34m\u001b[0m\u001b[0m\n\u001b[0m",
            "\u001b[0;32m/usr/local/lib/python3.10/dist-packages/transformers/trainer.py\u001b[0m in \u001b[0;36mtrain\u001b[0;34m(self, resume_from_checkpoint, trial, ignore_keys_for_eval, **kwargs)\u001b[0m\n\u001b[1;32m   1537\u001b[0m                 \u001b[0mhf_hub_utils\u001b[0m\u001b[0;34m.\u001b[0m\u001b[0menable_progress_bars\u001b[0m\u001b[0;34m(\u001b[0m\u001b[0;34m)\u001b[0m\u001b[0;34m\u001b[0m\u001b[0;34m\u001b[0m\u001b[0m\n\u001b[1;32m   1538\u001b[0m         \u001b[0;32melse\u001b[0m\u001b[0;34m:\u001b[0m\u001b[0;34m\u001b[0m\u001b[0;34m\u001b[0m\u001b[0m\n\u001b[0;32m-> 1539\u001b[0;31m             return inner_training_loop(\n\u001b[0m\u001b[1;32m   1540\u001b[0m                 \u001b[0margs\u001b[0m\u001b[0;34m=\u001b[0m\u001b[0margs\u001b[0m\u001b[0;34m,\u001b[0m\u001b[0;34m\u001b[0m\u001b[0;34m\u001b[0m\u001b[0m\n\u001b[1;32m   1541\u001b[0m                 \u001b[0mresume_from_checkpoint\u001b[0m\u001b[0;34m=\u001b[0m\u001b[0mresume_from_checkpoint\u001b[0m\u001b[0;34m,\u001b[0m\u001b[0;34m\u001b[0m\u001b[0;34m\u001b[0m\u001b[0m\n",
            "\u001b[0;32m/usr/local/lib/python3.10/dist-packages/transformers/trainer.py\u001b[0m in \u001b[0;36m_inner_training_loop\u001b[0;34m(self, batch_size, args, resume_from_checkpoint, trial, ignore_keys_for_eval)\u001b[0m\n\u001b[1;32m   1834\u001b[0m \u001b[0;34m\u001b[0m\u001b[0m\n\u001b[1;32m   1835\u001b[0m             \u001b[0mstep\u001b[0m \u001b[0;34m=\u001b[0m \u001b[0;34m-\u001b[0m\u001b[0;36m1\u001b[0m\u001b[0;34m\u001b[0m\u001b[0;34m\u001b[0m\u001b[0m\n\u001b[0;32m-> 1836\u001b[0;31m             \u001b[0;32mfor\u001b[0m \u001b[0mstep\u001b[0m\u001b[0;34m,\u001b[0m \u001b[0minputs\u001b[0m \u001b[0;32min\u001b[0m \u001b[0menumerate\u001b[0m\u001b[0;34m(\u001b[0m\u001b[0mepoch_iterator\u001b[0m\u001b[0;34m)\u001b[0m\u001b[0;34m:\u001b[0m\u001b[0;34m\u001b[0m\u001b[0;34m\u001b[0m\u001b[0m\n\u001b[0m\u001b[1;32m   1837\u001b[0m                 \u001b[0mtotal_batched_samples\u001b[0m \u001b[0;34m+=\u001b[0m \u001b[0;36m1\u001b[0m\u001b[0;34m\u001b[0m\u001b[0;34m\u001b[0m\u001b[0m\n\u001b[1;32m   1838\u001b[0m \u001b[0;34m\u001b[0m\u001b[0m\n",
            "\u001b[0;32m/usr/local/lib/python3.10/dist-packages/accelerate/data_loader.py\u001b[0m in \u001b[0;36m__iter__\u001b[0;34m(self)\u001b[0m\n\u001b[1;32m    450\u001b[0m         \u001b[0;31m# We iterate one batch ahead to check when we are at the end\u001b[0m\u001b[0;34m\u001b[0m\u001b[0;34m\u001b[0m\u001b[0m\n\u001b[1;32m    451\u001b[0m         \u001b[0;32mtry\u001b[0m\u001b[0;34m:\u001b[0m\u001b[0;34m\u001b[0m\u001b[0;34m\u001b[0m\u001b[0m\n\u001b[0;32m--> 452\u001b[0;31m             \u001b[0mcurrent_batch\u001b[0m \u001b[0;34m=\u001b[0m \u001b[0mnext\u001b[0m\u001b[0;34m(\u001b[0m\u001b[0mdataloader_iter\u001b[0m\u001b[0;34m)\u001b[0m\u001b[0;34m\u001b[0m\u001b[0;34m\u001b[0m\u001b[0m\n\u001b[0m\u001b[1;32m    453\u001b[0m         \u001b[0;32mexcept\u001b[0m \u001b[0mStopIteration\u001b[0m\u001b[0;34m:\u001b[0m\u001b[0;34m\u001b[0m\u001b[0;34m\u001b[0m\u001b[0m\n\u001b[1;32m    454\u001b[0m             \u001b[0;32myield\u001b[0m\u001b[0;34m\u001b[0m\u001b[0;34m\u001b[0m\u001b[0m\n",
            "\u001b[0;32m/usr/local/lib/python3.10/dist-packages/torch/utils/data/dataloader.py\u001b[0m in \u001b[0;36m__next__\u001b[0;34m(self)\u001b[0m\n\u001b[1;32m    628\u001b[0m                 \u001b[0;31m# TODO(https://github.com/pytorch/pytorch/issues/76750)\u001b[0m\u001b[0;34m\u001b[0m\u001b[0;34m\u001b[0m\u001b[0m\n\u001b[1;32m    629\u001b[0m                 \u001b[0mself\u001b[0m\u001b[0;34m.\u001b[0m\u001b[0m_reset\u001b[0m\u001b[0;34m(\u001b[0m\u001b[0;34m)\u001b[0m  \u001b[0;31m# type: ignore[call-arg]\u001b[0m\u001b[0;34m\u001b[0m\u001b[0;34m\u001b[0m\u001b[0m\n\u001b[0;32m--> 630\u001b[0;31m             \u001b[0mdata\u001b[0m \u001b[0;34m=\u001b[0m \u001b[0mself\u001b[0m\u001b[0;34m.\u001b[0m\u001b[0m_next_data\u001b[0m\u001b[0;34m(\u001b[0m\u001b[0;34m)\u001b[0m\u001b[0;34m\u001b[0m\u001b[0;34m\u001b[0m\u001b[0m\n\u001b[0m\u001b[1;32m    631\u001b[0m             \u001b[0mself\u001b[0m\u001b[0;34m.\u001b[0m\u001b[0m_num_yielded\u001b[0m \u001b[0;34m+=\u001b[0m \u001b[0;36m1\u001b[0m\u001b[0;34m\u001b[0m\u001b[0;34m\u001b[0m\u001b[0m\n\u001b[1;32m    632\u001b[0m             \u001b[0;32mif\u001b[0m \u001b[0mself\u001b[0m\u001b[0;34m.\u001b[0m\u001b[0m_dataset_kind\u001b[0m \u001b[0;34m==\u001b[0m \u001b[0m_DatasetKind\u001b[0m\u001b[0;34m.\u001b[0m\u001b[0mIterable\u001b[0m \u001b[0;32mand\u001b[0m\u001b[0;31m \u001b[0m\u001b[0;31m\\\u001b[0m\u001b[0;34m\u001b[0m\u001b[0;34m\u001b[0m\u001b[0m\n",
            "\u001b[0;32m/usr/local/lib/python3.10/dist-packages/torch/utils/data/dataloader.py\u001b[0m in \u001b[0;36m_next_data\u001b[0;34m(self)\u001b[0m\n\u001b[1;32m    672\u001b[0m     \u001b[0;32mdef\u001b[0m \u001b[0m_next_data\u001b[0m\u001b[0;34m(\u001b[0m\u001b[0mself\u001b[0m\u001b[0;34m)\u001b[0m\u001b[0;34m:\u001b[0m\u001b[0;34m\u001b[0m\u001b[0;34m\u001b[0m\u001b[0m\n\u001b[1;32m    673\u001b[0m         \u001b[0mindex\u001b[0m \u001b[0;34m=\u001b[0m \u001b[0mself\u001b[0m\u001b[0;34m.\u001b[0m\u001b[0m_next_index\u001b[0m\u001b[0;34m(\u001b[0m\u001b[0;34m)\u001b[0m  \u001b[0;31m# may raise StopIteration\u001b[0m\u001b[0;34m\u001b[0m\u001b[0;34m\u001b[0m\u001b[0m\n\u001b[0;32m--> 674\u001b[0;31m         \u001b[0mdata\u001b[0m \u001b[0;34m=\u001b[0m \u001b[0mself\u001b[0m\u001b[0;34m.\u001b[0m\u001b[0m_dataset_fetcher\u001b[0m\u001b[0;34m.\u001b[0m\u001b[0mfetch\u001b[0m\u001b[0;34m(\u001b[0m\u001b[0mindex\u001b[0m\u001b[0;34m)\u001b[0m  \u001b[0;31m# may raise StopIteration\u001b[0m\u001b[0;34m\u001b[0m\u001b[0;34m\u001b[0m\u001b[0m\n\u001b[0m\u001b[1;32m    675\u001b[0m         \u001b[0;32mif\u001b[0m \u001b[0mself\u001b[0m\u001b[0;34m.\u001b[0m\u001b[0m_pin_memory\u001b[0m\u001b[0;34m:\u001b[0m\u001b[0;34m\u001b[0m\u001b[0;34m\u001b[0m\u001b[0m\n\u001b[1;32m    676\u001b[0m             \u001b[0mdata\u001b[0m \u001b[0;34m=\u001b[0m \u001b[0m_utils\u001b[0m\u001b[0;34m.\u001b[0m\u001b[0mpin_memory\u001b[0m\u001b[0;34m.\u001b[0m\u001b[0mpin_memory\u001b[0m\u001b[0;34m(\u001b[0m\u001b[0mdata\u001b[0m\u001b[0;34m,\u001b[0m \u001b[0mself\u001b[0m\u001b[0;34m.\u001b[0m\u001b[0m_pin_memory_device\u001b[0m\u001b[0;34m)\u001b[0m\u001b[0;34m\u001b[0m\u001b[0;34m\u001b[0m\u001b[0m\n",
            "\u001b[0;32m/usr/local/lib/python3.10/dist-packages/torch/utils/data/_utils/fetch.py\u001b[0m in \u001b[0;36mfetch\u001b[0;34m(self, possibly_batched_index)\u001b[0m\n\u001b[1;32m     52\u001b[0m         \u001b[0;32melse\u001b[0m\u001b[0;34m:\u001b[0m\u001b[0;34m\u001b[0m\u001b[0;34m\u001b[0m\u001b[0m\n\u001b[1;32m     53\u001b[0m             \u001b[0mdata\u001b[0m \u001b[0;34m=\u001b[0m \u001b[0mself\u001b[0m\u001b[0;34m.\u001b[0m\u001b[0mdataset\u001b[0m\u001b[0;34m[\u001b[0m\u001b[0mpossibly_batched_index\u001b[0m\u001b[0;34m]\u001b[0m\u001b[0;34m\u001b[0m\u001b[0;34m\u001b[0m\u001b[0m\n\u001b[0;32m---> 54\u001b[0;31m         \u001b[0;32mreturn\u001b[0m \u001b[0mself\u001b[0m\u001b[0;34m.\u001b[0m\u001b[0mcollate_fn\u001b[0m\u001b[0;34m(\u001b[0m\u001b[0mdata\u001b[0m\u001b[0;34m)\u001b[0m\u001b[0;34m\u001b[0m\u001b[0;34m\u001b[0m\u001b[0m\n\u001b[0m",
            "\u001b[0;32m/usr/local/lib/python3.10/dist-packages/transformers/data/data_collator.py\u001b[0m in \u001b[0;36mdefault_data_collator\u001b[0;34m(features, return_tensors)\u001b[0m\n\u001b[1;32m     90\u001b[0m \u001b[0;34m\u001b[0m\u001b[0m\n\u001b[1;32m     91\u001b[0m     \u001b[0;32mif\u001b[0m \u001b[0mreturn_tensors\u001b[0m \u001b[0;34m==\u001b[0m \u001b[0;34m\"pt\"\u001b[0m\u001b[0;34m:\u001b[0m\u001b[0;34m\u001b[0m\u001b[0;34m\u001b[0m\u001b[0m\n\u001b[0;32m---> 92\u001b[0;31m         \u001b[0;32mreturn\u001b[0m \u001b[0mtorch_default_data_collator\u001b[0m\u001b[0;34m(\u001b[0m\u001b[0mfeatures\u001b[0m\u001b[0;34m)\u001b[0m\u001b[0;34m\u001b[0m\u001b[0;34m\u001b[0m\u001b[0m\n\u001b[0m\u001b[1;32m     93\u001b[0m     \u001b[0;32melif\u001b[0m \u001b[0mreturn_tensors\u001b[0m \u001b[0;34m==\u001b[0m \u001b[0;34m\"tf\"\u001b[0m\u001b[0;34m:\u001b[0m\u001b[0;34m\u001b[0m\u001b[0;34m\u001b[0m\u001b[0m\n\u001b[1;32m     94\u001b[0m         \u001b[0;32mreturn\u001b[0m \u001b[0mtf_default_data_collator\u001b[0m\u001b[0;34m(\u001b[0m\u001b[0mfeatures\u001b[0m\u001b[0;34m)\u001b[0m\u001b[0;34m\u001b[0m\u001b[0;34m\u001b[0m\u001b[0m\n",
            "\u001b[0;32m/usr/local/lib/python3.10/dist-packages/transformers/data/data_collator.py\u001b[0m in \u001b[0;36mtorch_default_data_collator\u001b[0;34m(features)\u001b[0m\n\u001b[1;32m    156\u001b[0m                 \u001b[0mbatch\u001b[0m\u001b[0;34m[\u001b[0m\u001b[0mk\u001b[0m\u001b[0;34m]\u001b[0m \u001b[0;34m=\u001b[0m \u001b[0mtorch\u001b[0m\u001b[0;34m.\u001b[0m\u001b[0mtensor\u001b[0m\u001b[0;34m(\u001b[0m\u001b[0mnp\u001b[0m\u001b[0;34m.\u001b[0m\u001b[0mstack\u001b[0m\u001b[0;34m(\u001b[0m\u001b[0;34m[\u001b[0m\u001b[0mf\u001b[0m\u001b[0;34m[\u001b[0m\u001b[0mk\u001b[0m\u001b[0;34m]\u001b[0m \u001b[0;32mfor\u001b[0m \u001b[0mf\u001b[0m \u001b[0;32min\u001b[0m \u001b[0mfeatures\u001b[0m\u001b[0;34m]\u001b[0m\u001b[0;34m)\u001b[0m\u001b[0;34m)\u001b[0m\u001b[0;34m\u001b[0m\u001b[0;34m\u001b[0m\u001b[0m\n\u001b[1;32m    157\u001b[0m             \u001b[0;32melse\u001b[0m\u001b[0;34m:\u001b[0m\u001b[0;34m\u001b[0m\u001b[0;34m\u001b[0m\u001b[0m\n\u001b[0;32m--> 158\u001b[0;31m                 \u001b[0mbatch\u001b[0m\u001b[0;34m[\u001b[0m\u001b[0mk\u001b[0m\u001b[0;34m]\u001b[0m \u001b[0;34m=\u001b[0m \u001b[0mtorch\u001b[0m\u001b[0;34m.\u001b[0m\u001b[0mtensor\u001b[0m\u001b[0;34m(\u001b[0m\u001b[0;34m[\u001b[0m\u001b[0mf\u001b[0m\u001b[0;34m[\u001b[0m\u001b[0mk\u001b[0m\u001b[0;34m]\u001b[0m \u001b[0;32mfor\u001b[0m \u001b[0mf\u001b[0m \u001b[0;32min\u001b[0m \u001b[0mfeatures\u001b[0m\u001b[0;34m]\u001b[0m\u001b[0;34m)\u001b[0m\u001b[0;34m\u001b[0m\u001b[0;34m\u001b[0m\u001b[0m\n\u001b[0m\u001b[1;32m    159\u001b[0m \u001b[0;34m\u001b[0m\u001b[0m\n\u001b[1;32m    160\u001b[0m     \u001b[0;32mreturn\u001b[0m \u001b[0mbatch\u001b[0m\u001b[0;34m\u001b[0m\u001b[0;34m\u001b[0m\u001b[0m\n",
            "\u001b[0;31mValueError\u001b[0m: expected sequence of length 10 at dim 1 (got 12)"
          ]
        }
      ]
    },
    {
      "cell_type": "markdown",
      "source": [
        "이 에러는 입력 데이터의 시퀀스 길이가 일정하지 않아 발생합니다. 토크나이저는 각 입력 시퀀스를 독립적으로 처리하므로, 각 시퀀스의 길이는 해당 시퀀스의 원래 길이에 따라 다를 수 있습니다. 따라서 토크나이징 후에 모든 입력 시퀀스의 길이를 동일하게 만들어야 합니다.\n",
        "\n",
        "이를 해결하기 위해 tokenizer() 함수에 padding='max_length' 인자를 추가할 수 있습니다. 이렇게 하면 모든 시퀀스가 max_length로 지정한 길이와 동일하게 만들어집니다. 이 때 max_length는 원하는 시퀀스의 최대 길이로 설정하면 됩니다:"
      ],
      "metadata": {
        "id": "UsX8UJ-xS-el"
      }
    },
    {
      "cell_type": "code",
      "source": [
        "def preprocess_function(examples):\n",
        "    inputs = [ex for ex in examples['ko']]\n",
        "    targets = [ex for ex in examples['de']]\n",
        "    model_inputs = tokenizer(inputs, max_length=128, truncation=True, padding='max_length')\n",
        "\n",
        "    # Setup the tokenizer for targets\n",
        "    with tokenizer.as_target_tokenizer():\n",
        "        labels = tokenizer(targets, max_length=128, truncation=True, padding='max_length')\n",
        "\n",
        "    model_inputs[\"labels\"] = labels[\"input_ids\"]\n",
        "    return model_inputs\n",
        "\n",
        "tokenized_datasets = dataset.map(preprocess_function, batched=True)"
      ],
      "metadata": {
        "colab": {
          "base_uri": "https://localhost:8080/",
          "height": 138,
          "referenced_widgets": [
            "67ba7e02178c4362a4cd18e0cf26a091",
            "efc3a2e7cb8d4e9296540dfe3fda2bfe",
            "c7ced40dfeb141b9af2e8654191d4d72",
            "1a456024298144d5b8d22feda2e935e6",
            "c0645977c60a485dac987df9a7ecb00c",
            "01df63012ac44b45afd6034e406e3cdb",
            "47d0b1450bda47f1a8e631b16f2d7bde",
            "af4593bd37cf43cc9879840f7438222d",
            "0541fea814ea445fa942493752b55ebb",
            "a0290f7c3ac6493fa1f61f91875645ce",
            "6f1ba29ebaf84a1aa976c4532a3c08e4",
            "ff8eb5beff81407aae8becc8699621dc",
            "4cc97f938b264145b19c05f94afefd59",
            "a165d99d69ac4a2fbd80e73c8c90f3e3",
            "b439578a1865400e9dbe54ccb9daab47",
            "4dd5709c07574b868039104deb8bebf3",
            "70b06e9a32564080923e0e57220afe5b",
            "9d2b4360690d48429787fa0dce55be3b",
            "645049a9ba8346b2bceb28d2526b5036",
            "8882f54d48234c4b885c8955459746a4",
            "cf0e2f6cf3844db9b30531587fa745b9",
            "94b87bf55b1c4a5f8df0eaaec22b84d2"
          ]
        },
        "id": "Wvchbm8WTFlu",
        "outputId": "208f02f1-d5a1-4ae8-82d1-de5a47f54a38"
      },
      "execution_count": null,
      "outputs": [
        {
          "output_type": "display_data",
          "data": {
            "text/plain": [
              "Map:   0%|          | 0/8661 [00:00<?, ? examples/s]"
            ],
            "application/vnd.jupyter.widget-view+json": {
              "version_major": 2,
              "version_minor": 0,
              "model_id": "67ba7e02178c4362a4cd18e0cf26a091"
            }
          },
          "metadata": {}
        },
        {
          "output_type": "stream",
          "name": "stderr",
          "text": [
            "/usr/local/lib/python3.10/dist-packages/transformers/tokenization_utils_base.py:3866: UserWarning: `as_target_tokenizer` is deprecated and will be removed in v5 of Transformers. You can tokenize your labels by using the argument `text_target` of the regular `__call__` method (either in the same call as your input texts if you use the same keyword arguments, or in a separate call.\n",
            "  warnings.warn(\n"
          ]
        },
        {
          "output_type": "display_data",
          "data": {
            "text/plain": [
              "Map:   0%|          | 0/2166 [00:00<?, ? examples/s]"
            ],
            "application/vnd.jupyter.widget-view+json": {
              "version_major": 2,
              "version_minor": 0,
              "model_id": "ff8eb5beff81407aae8becc8699621dc"
            }
          },
          "metadata": {}
        }
      ]
    },
    {
      "cell_type": "markdown",
      "source": [
        "혹은 동적으로 패딩"
      ],
      "metadata": {
        "id": "W901MhQaYKBB"
      }
    },
    {
      "cell_type": "code",
      "source": [
        "def preprocess_function(examples):\n",
        "    inputs = [ex for ex in examples['ko']]\n",
        "    targets = [ex for ex in examples['de']]\n",
        "    model_inputs = tokenizer(inputs, max_length=128, truncation=True)\n",
        "\n",
        "    # Setup the tokenizer for targets\n",
        "    with tokenizer.as_target_tokenizer():\n",
        "        labels = tokenizer(targets, max_length=128, truncation=True)\n",
        "\n",
        "    model_inputs[\"labels\"] = labels[\"input_ids\"]\n",
        "    return model_inputs\n",
        "\n",
        "tokenized_datasets = dataset.map(preprocess_function, batched=True)"
      ],
      "metadata": {
        "colab": {
          "base_uri": "https://localhost:8080/",
          "height": 138,
          "referenced_widgets": [
            "0fc357c09a7e472d895160b545644004",
            "dda232d25fb24e1db3ffcd75b7b92965",
            "932e5c02e4a24858804c4592ba5a5be1",
            "80a3391ba65b498d80a9695fe269479e",
            "7d8746d2274d4d759415209eab74f7ac",
            "1dfebb2c209f43d4b555e0b9423f5e20",
            "58bc6dd903dc444e9329c7cfb32a735a",
            "bb3b13ca630048768cfcefd61bb15825",
            "3b48671206ca40ac8507087c92599ba4",
            "4aac5131c6434b96a38f34110f77b34f",
            "942347c4979c46a5bfd6241ad3e2ec5f",
            "fbd07129f7b94cada3bb0f3dfc96c8ad",
            "4e9875cdd070491e8075aa0548d0199a",
            "c0b04088217f41dba8c1702736f7241e",
            "1cd1d4d72a144ff89d4809a3dfa891a7",
            "c48884a4069e46a2ab7ee6258ca64f4d",
            "ea5fd888bbdf462e98b436c9bd1eb4cb",
            "8097a83408d0493bae8972692c7a4144",
            "8898ff48409e439baab477742cf73e1f",
            "bd2d7d007553495ca64c05bdcfb749c6",
            "61522a084e0448039331a5231484d548",
            "bbcff7d6d04843b289f2d710063cba21"
          ]
        },
        "id": "E7hpcy7AYHri",
        "outputId": "89312f9d-9802-4567-e928-41e9d951b438"
      },
      "execution_count": null,
      "outputs": [
        {
          "output_type": "display_data",
          "data": {
            "text/plain": [
              "Map:   0%|          | 0/8661 [00:00<?, ? examples/s]"
            ],
            "application/vnd.jupyter.widget-view+json": {
              "version_major": 2,
              "version_minor": 0,
              "model_id": "0fc357c09a7e472d895160b545644004"
            }
          },
          "metadata": {}
        },
        {
          "output_type": "stream",
          "name": "stderr",
          "text": [
            "/usr/local/lib/python3.10/dist-packages/transformers/tokenization_utils_base.py:3866: UserWarning: `as_target_tokenizer` is deprecated and will be removed in v5 of Transformers. You can tokenize your labels by using the argument `text_target` of the regular `__call__` method (either in the same call as your input texts if you use the same keyword arguments, or in a separate call.\n",
            "  warnings.warn(\n"
          ]
        },
        {
          "output_type": "display_data",
          "data": {
            "text/plain": [
              "Map:   0%|          | 0/2166 [00:00<?, ? examples/s]"
            ],
            "application/vnd.jupyter.widget-view+json": {
              "version_major": 2,
              "version_minor": 0,
              "model_id": "fbd07129f7b94cada3bb0f3dfc96c8ad"
            }
          },
          "metadata": {}
        }
      ]
    },
    {
      "cell_type": "code",
      "source": [
        "from transformers import DataCollatorForSeq2Seq\n",
        "\n",
        "data_collator = DataCollatorForSeq2Seq(tokenizer=tokenizer, model=model)"
      ],
      "metadata": {
        "id": "ytLGqklPYHNC"
      },
      "execution_count": null,
      "outputs": []
    },
    {
      "cell_type": "code",
      "source": [
        "import evaluate\n",
        "\n",
        "metric = evaluate.load(\"sacrebleu\")"
      ],
      "metadata": {
        "colab": {
          "base_uri": "https://localhost:8080/",
          "height": 49,
          "referenced_widgets": [
            "b7f305d6c39840778b04d65fe1bb43cc",
            "b293ac191b2f406f8b069eedf637cbe9",
            "8094d4a6310243649bfc6f6995afe408",
            "fdd4cd34a6364040ab0b5a57f8c45c28",
            "2e68a1ce67794f808b933403c892e26a",
            "af803ae59efd438b9d62df162545d172",
            "7d6bd0b0e9c54d529f742d43538e0e3a",
            "ab6e6cd5f17d42aaacfbc5fa10d8a8b8",
            "107f8ae9858343fc92a4289a36f20162",
            "1643e506d5614c10bf57e4a57149f0fb",
            "a4130bcdec8a4e4e8c5031d74078c96a"
          ]
        },
        "id": "XRuvi5RKXYUF",
        "outputId": "6338124c-fa71-4ff1-aea8-2b72a759d1cc"
      },
      "execution_count": null,
      "outputs": [
        {
          "output_type": "display_data",
          "data": {
            "text/plain": [
              "Downloading builder script:   0%|          | 0.00/8.15k [00:00<?, ?B/s]"
            ],
            "application/vnd.jupyter.widget-view+json": {
              "version_major": 2,
              "version_minor": 0,
              "model_id": "b7f305d6c39840778b04d65fe1bb43cc"
            }
          },
          "metadata": {}
        }
      ]
    },
    {
      "cell_type": "code",
      "source": [
        "import numpy as np\n",
        "\n",
        "\n",
        "def postprocess_text(preds, labels):\n",
        "    preds = [pred.strip() for pred in preds]\n",
        "    labels = [[label.strip()] for label in labels]\n",
        "\n",
        "    return preds, labels\n",
        "\n",
        "\n",
        "def compute_metrics(eval_preds):\n",
        "    preds, labels = eval_preds\n",
        "    if isinstance(preds, tuple):\n",
        "        preds = preds[0]\n",
        "    decoded_preds = tokenizer.batch_decode(preds, skip_special_tokens=True)\n",
        "\n",
        "    labels = np.where(labels != -100, labels, tokenizer.pad_token_id)\n",
        "    decoded_labels = tokenizer.batch_decode(labels, skip_special_tokens=True)\n",
        "\n",
        "    decoded_preds, decoded_labels = postprocess_text(decoded_preds, decoded_labels)\n",
        "\n",
        "    result = metric.compute(predictions=decoded_preds, references=decoded_labels)\n",
        "    result = {\"bleu\": result[\"score\"]}\n",
        "\n",
        "    prediction_lens = [np.count_nonzero(pred != tokenizer.pad_token_id) for pred in preds]\n",
        "    result[\"gen_len\"] = np.mean(prediction_lens)\n",
        "    result = {k: round(v, 4) for k, v in result.items()}\n",
        "    return result"
      ],
      "metadata": {
        "id": "RkC--xiDXbr_"
      },
      "execution_count": null,
      "outputs": []
    },
    {
      "cell_type": "code",
      "source": [
        "training_args = Seq2SeqTrainingArguments(\n",
        "    output_dir=\"my-Helsinki-NLP/opus-mt-ko-de\",\n",
        "    evaluation_strategy = \"epoch\",\n",
        "    learning_rate=2e-5,\n",
        "    per_device_train_batch_size=16,\n",
        "    per_device_eval_batch_size=16,\n",
        "    num_train_epochs=3,\n",
        "    weight_decay=0.01,\n",
        "    save_total_limit=3,\n",
        "    predict_with_generate=True,\n",
        "    fp16=True,\n",
        ")\n",
        "\n",
        "trainer = Seq2SeqTrainer(\n",
        "    model=model,\n",
        "    args=training_args,\n",
        "    train_dataset=tokenized_datasets[\"train\"],\n",
        "    eval_dataset=tokenized_datasets[\"test\"],\n",
        "    tokenizer=tokenizer,\n",
        "    data_collator=data_collator,\n",
        "    compute_metrics=compute_metrics,\n",
        ")\n",
        "\n",
        "trainer.train()"
      ],
      "metadata": {
        "colab": {
          "base_uri": "https://localhost:8080/",
          "height": 340
        },
        "id": "2WXpa8xLWm6B",
        "outputId": "df8a20d0-412e-40d5-f357-0ab03c9346f5"
      },
      "execution_count": null,
      "outputs": [
        {
          "output_type": "display_data",
          "data": {
            "text/plain": [
              "<IPython.core.display.HTML object>"
            ],
            "text/html": [
              "\n",
              "    <div>\n",
              "      \n",
              "      <progress value='1626' max='1626' style='width:300px; height:20px; vertical-align: middle;'></progress>\n",
              "      [1626/1626 08:00, Epoch 3/3]\n",
              "    </div>\n",
              "    <table border=\"1\" class=\"dataframe\">\n",
              "  <thead>\n",
              " <tr style=\"text-align: left;\">\n",
              "      <th>Epoch</th>\n",
              "      <th>Training Loss</th>\n",
              "      <th>Validation Loss</th>\n",
              "      <th>Bleu</th>\n",
              "      <th>Gen Len</th>\n",
              "    </tr>\n",
              "  </thead>\n",
              "  <tbody>\n",
              "    <tr>\n",
              "      <td>1</td>\n",
              "      <td>1.874300</td>\n",
              "      <td>2.295398</td>\n",
              "      <td>19.219900</td>\n",
              "      <td>13.277500</td>\n",
              "    </tr>\n",
              "    <tr>\n",
              "      <td>2</td>\n",
              "      <td>1.906700</td>\n",
              "      <td>2.263245</td>\n",
              "      <td>19.765500</td>\n",
              "      <td>13.407200</td>\n",
              "    </tr>\n",
              "    <tr>\n",
              "      <td>3</td>\n",
              "      <td>1.701200</td>\n",
              "      <td>2.252301</td>\n",
              "      <td>20.193600</td>\n",
              "      <td>13.302900</td>\n",
              "    </tr>\n",
              "  </tbody>\n",
              "</table><p>"
            ]
          },
          "metadata": {}
        },
        {
          "output_type": "stream",
          "name": "stderr",
          "text": [
            "Some non-default generation parameters are set in the model config. These should go into a GenerationConfig file (https://huggingface.co/docs/transformers/generation_strategies#save-a-custom-decoding-strategy-with-your-model) instead. This warning will be raised to an exception in v4.41.\n",
            "Non-default generation parameters: {'max_length': 512, 'num_beams': 6, 'bad_words_ids': [[62140]], 'forced_eos_token_id': 0}\n",
            "Some non-default generation parameters are set in the model config. These should go into a GenerationConfig file (https://huggingface.co/docs/transformers/generation_strategies#save-a-custom-decoding-strategy-with-your-model) instead. This warning will be raised to an exception in v4.41.\n",
            "Non-default generation parameters: {'max_length': 512, 'num_beams': 6, 'bad_words_ids': [[62140]], 'forced_eos_token_id': 0}\n",
            "Some non-default generation parameters are set in the model config. These should go into a GenerationConfig file (https://huggingface.co/docs/transformers/generation_strategies#save-a-custom-decoding-strategy-with-your-model) instead. This warning will be raised to an exception in v4.41.\n",
            "Non-default generation parameters: {'max_length': 512, 'num_beams': 6, 'bad_words_ids': [[62140]], 'forced_eos_token_id': 0}\n"
          ]
        },
        {
          "output_type": "execute_result",
          "data": {
            "text/plain": [
              "TrainOutput(global_step=1626, training_loss=1.8165349268238775, metrics={'train_runtime': 480.1921, 'train_samples_per_second': 54.11, 'train_steps_per_second': 3.386, 'total_flos': 147490726477824.0, 'train_loss': 1.8165349268238775, 'epoch': 3.0})"
            ]
          },
          "metadata": {},
          "execution_count": 26
        }
      ]
    },
    {
      "cell_type": "code",
      "source": [
        "trainer.save_model(\"my-Helsinki-NLP/opus-mt-ko-de\")"
      ],
      "metadata": {
        "colab": {
          "base_uri": "https://localhost:8080/"
        },
        "id": "wwAaCiacc219",
        "outputId": "738546ca-7dce-41a8-d76e-62b74cecf840"
      },
      "execution_count": null,
      "outputs": [
        {
          "output_type": "stream",
          "name": "stderr",
          "text": [
            "Some non-default generation parameters are set in the model config. These should go into a GenerationConfig file (https://huggingface.co/docs/transformers/generation_strategies#save-a-custom-decoding-strategy-with-your-model) instead. This warning will be raised to an exception in v4.41.\n",
            "Non-default generation parameters: {'max_length': 512, 'num_beams': 6, 'bad_words_ids': [[62140]], 'forced_eos_token_id': 0}\n"
          ]
        }
      ]
    },
    {
      "cell_type": "code",
      "source": [
        "from transformers import pipeline\n",
        "\n",
        "# 번역 파이프라인 생성\n",
        "translator = pipeline('translation_ko_to_de', model='my-Helsinki-NLP/opus-mt-ko-de')\n",
        "\n",
        "# 번역할 문장\n",
        "text = '안녕하세요, 반갑습니다.'\n",
        "\n",
        "# 번역 수행\n",
        "translated_text = translator(text)[0]['translation_text']\n",
        "\n",
        "print(translated_text)"
      ],
      "metadata": {
        "colab": {
          "base_uri": "https://localhost:8080/"
        },
        "id": "mx5YtV9qW1FJ",
        "outputId": "2b6399a0-75eb-498f-b6bb-e296119ea51d"
      },
      "execution_count": null,
      "outputs": [
        {
          "output_type": "stream",
          "name": "stderr",
          "text": [
            "/usr/local/lib/python3.10/dist-packages/transformers/models/marian/tokenization_marian.py:197: UserWarning: Recommended: pip install sacremoses.\n",
            "  warnings.warn(\"Recommended: pip install sacremoses.\")\n"
          ]
        },
        {
          "output_type": "stream",
          "name": "stdout",
          "text": [
            "Wie schön, Sie zu sehen.\n"
          ]
        }
      ]
    },
    {
      "cell_type": "code",
      "source": [
        "translator(\"오늘 공부가 너무 하기 싫네요. 언제 쉴 수 있을까요\")"
      ],
      "metadata": {
        "colab": {
          "base_uri": "https://localhost:8080/"
        },
        "id": "Ap8kyKdGcOxT",
        "outputId": "23a5c69f-2a6f-4bb6-fa50-aef99532575f"
      },
      "execution_count": null,
      "outputs": [
        {
          "output_type": "execute_result",
          "data": {
            "text/plain": [
              "[{'translation_text': 'Ich möchte heute nicht arbeiten. Wann kann ich mich freinehmen?'}]"
            ]
          },
          "metadata": {},
          "execution_count": 35
        }
      ]
    },
    {
      "cell_type": "code",
      "source": [
        "with open('채식주의자_1.txt', 'r', encoding='utf-8') as f:\n",
        "    korean_data = f.readlines()"
      ],
      "metadata": {
        "id": "94V8FRNJovil"
      },
      "execution_count": null,
      "outputs": []
    },
    {
      "cell_type": "code",
      "source": [
        "translated_data = [translator(text)[0]['translation_text'] for text in korean_data]"
      ],
      "metadata": {
        "id": "tqcJhAr6pl7d"
      },
      "execution_count": null,
      "outputs": []
    },
    {
      "cell_type": "code",
      "source": [
        "for ko, de in zip(korean_data[:10], translated_data[:10]):\n",
        "    print(f'한국어: {ko.strip()}')\n",
        "    print(f'독일어: {de}')\n",
        "    print()"
      ],
      "metadata": {
        "colab": {
          "base_uri": "https://localhost:8080/"
        },
        "id": "rEMWbyPagckl",
        "outputId": "99fcc348-d383-4bcc-c2ad-28f64d815ca0"
      },
      "execution_count": null,
      "outputs": [
        {
          "output_type": "stream",
          "name": "stdout",
          "text": [
            "한국어: 아내가 채식을 시작하기 전까지 나는 그녀가 특별한 사람이라고 생각한 적이 없었다.\n",
            "독일어: Ich hatte noch nie gedacht, dass sie eine spezielle Person war, bevor meine Frau angefangen hatte zu essen.\n",
            "\n",
            "한국어: 솔직히 말하자면, 아내를 처음 만났을 때 끌리지도 않았다.\n",
            "독일어: Ich muss sagen, als ich meine Frau zum ersten Mal traf, fühlte ich mich nicht zu ihr hingezogen.\n",
            "\n",
            "한국어: 크지도 작지도 않은 키, 길지도 짧지도 않은 단발머리, 각질이 일어난 노르스름한 피부, 외꺼풀 눈에 약간 튀어나온 광대뼈, 개성있어 보이는 것을 두려워하는 듯한 무채색의 옷차림.\n",
            "독일어: Größe nicht größer oder kleiner, nicht lang oder kurz, die gelbe Haut, die sich entwickelt hat, ein bisschen Schwemmknochen in den Augen der Fittiche, ein formloses kleid, das aussieht, als würde man sich fürchten, personell zu sein.\n",
            "\n",
            "한국어: 가장 단순한 디자인의 검은 구두를 신고 그녀는 내가 기다리는 테이블로 다가왔다.\n",
            "독일어: Sie trug die einfachsten Design-Schuhe und kam auf den Tisch, auf den ich gewartet hatte.\n",
            "\n",
            "한국어: 빠르지도, 느리지도, 힘있지도, 가냘프지도 않은 걸음걸이로.\n",
            "독일어: schnell, langsam, stark, aber nicht wackelig.\n",
            "\n",
            "한국어: 내가 그녀와 결혼한 것은, 그녀에게 특별한 매력이 없는 것과 같이 특별한 단점도 없어 보였기 때문이었다.\n",
            "독일어: Ich habe mit ihr geheiratet, weil ich dachte, es gebe keine speziellen Fehler, als ob sie nicht besonders einladend wäre.\n",
            "\n",
            "한국어: 신선함이나 재치, 세련된 면을 찾아볼 수 없는 그녀의 무난한 성격이 나에게는 편안했다.\n",
            "독일어: Ihre schauspielerische Natur, die keine Neuheit oder Findigkeit oder Konföderation finden konnte, fühlte sich für mich wohl.\n",
            "\n",
            "한국어: 굳이 그녀의 마음을 사로잡기 위해 박식한 척할 필요가 없었고, 약속시간에 늦을까봐 허둥대지 않아도 되었으며, 패션 카탈로그에 나오는 남자들과 스스로를 비교해 위축될 까닭도 없었다.\n",
            "독일어: Es war nicht notwendig, zu tun, was sie tat, um ihre Meinung zu ändern, nicht zu denken, es würde zu spät kommen, und auch nicht, dass sie sich im Vergleich zu den Männern in der Modekatalie zurückzogen.\n",
            "\n",
            "한국어: 이십대 중반부터 나오기 시작한 아랫배, 노력해도 근육이 붙지 않는 가느다란 다리와 팔뚝, 남모를 열등감의 원인이었던 작은 성기까지, 그녀에게는 그다지 신경쓰이지 않았다.\n",
            "독일어: Von der Mitte dieses Teenagers an war es ihr egal, ob es ein Unterteil war oder ein kleiner Nachname, der, wenn man sich etwas Mühe gibt, ein Bein und einen Unterarm, der keine Muskeln hat, oder ein Mädchen, das sich unterlegen fühlte.\n",
            "\n",
            "한국어: 언제나 나는 과분한 것들을 좋아하지 않는 편이었다.\n",
            "독일어: Es war immer so, dass ich nichts Anstößiges mag.\n",
            "\n"
          ]
        }
      ]
    }
  ]
}