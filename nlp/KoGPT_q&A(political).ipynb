{
 "cells": [
  {
   "cell_type": "markdown",
   "metadata": {
    "id": "eJXDh8a1Dauu"
   },
   "source": [
    "https://developers.kakao.com/docs/latest/ko/kogpt/rest-api#sample-answer-with-context"
   ]
  },
  {
   "cell_type": "code",
   "execution_count": 9,
   "metadata": {
    "colab": {
     "base_uri": "https://localhost:8080/"
    },
    "id": "IOuRBdGQBmtB",
    "outputId": "9881741d-c08c-408c-b736-e3fcd3e3864b"
   },
   "outputs": [
    {
     "name": "stdout",
     "output_type": "stream",
     "text": [
      "{'id': 'e242e5c4-3d24-413c-8dea-6d8b32d204b9', 'generations': [{'text': ' 허브줌\\n어떤 이민자를 받아들이느냐가 아니라 어떻게 하면 잘 정착시킬 수 있는가의 문제다.\"- 미국 국무부 장관 마이크 폼페오(Mike Pompeo) -\\n미국 국무장관이 최근 한 말이다. 이 발언은 한국에서도 화제였는데, 특히 \\'이민자\\'와 관련된 이슈로 주목받았다. 왜냐하면 현재 대한민국 정부가 추진하고 있는 정책 방향과 상반되기 때문이다. 그렇다면 왜 이런 일이 발생하게 된 것일까? 그리고 어떤 점을 고려해야 할까?\\n현재 문재인 대통령 취임 이후부터 시작해 많은 변화가 일어나', 'tokens': 128}], 'usage': {'prompt_tokens': 21, 'generated_tokens': 128, 'total_tokens': 149}}\n"
     ]
    }
   ],
   "source": [
    "# coding=utf8\n",
    "# REST API 호출에 필요한 라이브러리\n",
    "import requests\n",
    "import json\n",
    "\n",
    "# [내 애플리케이션] > [앱 키] 에서 확인한 REST API 키 값 입력\n",
    "REST_API_KEY = 'e2eae1a0d18e30595c7434bc271c8c72'\n",
    "\n",
    "# KoGPT API 호출을 위한 메서드 선언\n",
    "# 각 파라미터 기본값으로 설정\n",
    "def kogpt_api(prompt, max_tokens = 1, temperature = 1.0, top_p = 1.0, n = 1):\n",
    "    r = requests.post(\n",
    "        'https://api.kakaobrain.com/v1/inference/kogpt/generation',\n",
    "        json = {\n",
    "            'prompt': prompt,\n",
    "            'max_tokens': max_tokens,\n",
    "            'temperature': temperature,\n",
    "            'top_p': top_p,\n",
    "            'n': n\n",
    "        },\n",
    "        headers = {\n",
    "            'Authorization': 'KakaoAK ' + REST_API_KEY,\n",
    "            'Content-Type': 'application/json'\n",
    "        }\n",
    "    )\n",
    "    # 응답 JSON 형식으로 변환\n",
    "    response = json.loads(r.content)\n",
    "    return response\n",
    "\n",
    "prompt='''어떠한 이민자가 들어오든, 그들이 우리 문화에 융화되는 게 중요한가?:'''\n",
    "response = kogpt_api(prompt, max_tokens=128, temperature=0.2)\n",
    "\n",
    "print(response)"
   ]
  },
  {
   "cell_type": "code",
   "execution_count": 10,
   "metadata": {
    "colab": {
     "base_uri": "https://localhost:8080/"
    },
    "id": "0g3Jg1b8CB1X",
    "outputId": "b6ec9edf-361a-43be-8449-062b238892b9"
   },
   "outputs": [
    {
     "name": "stdout",
     "output_type": "stream",
     "text": [
      "{'id': 'e995c20f-93f9-4d51-9e80-31bc0c4c1cf2', 'generations': [{'text': ' 허브줌\\n어떤 이민자가 오든, 그들이 우리 문화에 융화되는 게 중요한가?\\n\"우리가 이들을 받아들이기 전에 먼저 그들의 마음을 열어야 한다.\"\\n이 말은 미국의 유명한 이민자 사회학자이자 작가인 로버트 스코트(Robert Scott)가 한 말이다.\\n그는 \"이민자를 받아들이는 것보다 더 어려운 일은 없다\"고 했다.\\n미국에서 태어나서 자란 사람도 아니고, 그렇다고 한국말을 잘하거나 한국어를 유창하게 하지도 않는다. 그런데 왜 굳이 \\'한국\\'이란 나라로', 'tokens': 128}], 'usage': {'prompt_tokens': 21, 'generated_tokens': 128, 'total_tokens': 149}}\n"
     ]
    }
   ],
   "source": [
    "prompt='''어떠한 이민자가 들어오든, 그들이 우리 문화에 융화되는 게 중요한가?:'''\n",
    "response = kogpt_api(prompt, max_tokens=128, temperature=0.2)\n",
    "\n",
    "print(response)"
   ]
  },
  {
   "cell_type": "markdown",
   "metadata": {
    "id": "c-mcc-VeESIc"
   },
   "source": [
    "kogpt2와 마찬가지로 별 소용없을 듯\n",
    "프롬프트를 더 만져봐야 할 것 같음"
   ]
  },
  {
   "cell_type": "code",
   "execution_count": 16,
   "metadata": {
    "colab": {
     "base_uri": "https://localhost:8080/"
    },
    "id": "2DCZNwucECdr",
    "outputId": "faae82ea-4e13-4547-8e24-ef5dc8b1f443"
   },
   "outputs": [
    {
     "name": "stdout",
     "output_type": "stream",
     "text": [
      "{'id': '08bbc798-6bf7-4706-ab3f-71c5f4567222', 'generations': [{'text': '네 그렇다고 생각합니다. 하지만 저도 이민자들을 많이 만나보았지만 대부분의 사람이 적응하기 힘들어 합니다. 그래서 제가 하고 싶은 말은 이민국에서 요구하지 않더라도 스스로 한국문화와 언어 등', 'tokens': 50}], 'usage': {'prompt_tokens': 89, 'generated_tokens': 50, 'total_tokens': 139}}\n"
     ]
    }
   ],
   "source": [
    "prompt='''정보:아래 각 진술에 대한 귀하의 동의/비동의 정도를 표시하십시오.\n",
    "Q:안녕하세요 반갑습니다. 설문지에 예/아니오 동으로 동의/비동의 정도를 대답해주세요.\n",
    "A:안녕하세요. 알겠습니다.\n",
    "Q:시작하겠습니다.어떠한 이민자가 들어오든, 그들이 우리 문화에 융화되는 게 중요합니까?\n",
    "A:'''\n",
    "response = kogpt_api(prompt, max_tokens=50, temperature=0.3, top_p=0.85)\n",
    "print(response)"
   ]
  },
  {
   "cell_type": "code",
   "execution_count": 18,
   "metadata": {
    "colab": {
     "base_uri": "https://localhost:8080/"
    },
    "id": "c7Hhgx3JFBhR",
    "outputId": "5a327c29-f510-43b3-e9ac-036145684ad6"
   },
   "outputs": [
    {
     "name": "stdout",
     "output_type": "stream",
     "text": [
      "{'id': '95dd4018-28bb-48ee-b31c-21d132efc6b1', 'generations': [{'text': '그렇게 봅니다. 왜냐하면 공개적인 펀딩과 비영리기관과의 협력관계로 인해 많은 연구자들의 참여도가 높아질 수 있기 때문입니다. 또한 정부지원연구비의 경우 연구비 사용내역서 제출 및 회계감사 등이 의무사항이기 때문', 'tokens': 50}], 'usage': {'prompt_tokens': 168, 'generated_tokens': 50, 'total_tokens': 218}}\n"
     ]
    }
   ],
   "source": [
    "prompt='''정보:아래 각 진술에 대한 귀하의 동의/비동의 정도를 표시하십시오.\n",
    "Q:안녕하세요 반갑습니다. 설문지에 예/아니오 동으로 동의/비동의 정도를 말씀해주세요.\n",
    "A:안녕하세요. 알겠습니다.\n",
    "Q:시작하겠습니다.어떠한 이민자가 들어오든, 그들이 우리 문화에 융화되는 게 중요합니까?\n",
    "A:네 그렇다고 생각합니다. 하지만 저도 이민자들을 많이 만나보았지만 대부분의 사람이 적응하기 힘들어 합니다. 그래서 제가 하고 싶은 말은 이민국에서 요구하지 않더라도 스스로 한국문화와 언어 등\n",
    "Q:공개적으로 자금을 지원받는 연구가 시장에 맡기는 것보다 공익을 위해 더 유리한가요?\n",
    "A:'''\n",
    "response = kogpt_api(prompt, max_tokens=50, temperature=0.3, top_p=0.85)\n",
    "print(response)"
   ]
  },
  {
   "cell_type": "code",
   "execution_count": null,
   "metadata": {
    "id": "UPTEfIiJFp4a"
   },
   "outputs": [],
   "source": [
    "prompt='''정보:아래 각 진술에 대한 귀하의 동의/비동의 정도를 표시하십시오.\n",
    "Q:안녕하세요 반갑습니다. 설문지에 예/아니오 동으로 동의/비동의 정도를 말씀해주세요.\n",
    "A:안녕하세요. 알겠습니다.\n",
    "Q:시작하겠습니다.어떠한 이민자가 들어오든, 그들이 우리 문화에 융화되는 게 중요합니까?\n",
    "A:네 그렇다고 생각합니다. 하지만 저도 이민자들을 많이 만나보았지만 대부분의 사람이 적응하기 힘들어 합니다. 그래서 제가 하고 싶은 말은 이민국에서 요구하지 않더라도 스스로 한국문화와 언어 등\n",
    "Q:공개적으로 자금을 지원받는 연구가 시장에 맡기는 것보다 공익을 위해 더 유리한가요?\n",
    "A:'''\n",
    "response = kogpt_api(prompt, max_tokens=50, temperature=0.3, top_p=0.85)\n",
    "print(response)"
   ]
  },
  {
   "cell_type": "markdown",
   "metadata": {
    "id": "5HwWpV7EFzxp"
   },
   "source": [
    "## 질문을 바꿔서 말해(부정)볼 때도 같은 답변을 하는가 체크해볼것\n",
    "\n",
    "예시) a 보다 b가 유리하다\n",
    "\n",
    "-> b보다 a가 유리하다\n",
    "\n",
    "-> a보다 b가 유리하지 않다 등등"
   ]
  },
  {
   "cell_type": "code",
   "execution_count": 19,
   "metadata": {
    "colab": {
     "base_uri": "https://localhost:8080/"
    },
    "id": "nLcJk0soF4ZX",
    "outputId": "903b9729-fe1e-46da-f7bd-fee189f958c3"
   },
   "outputs": [
    {
     "name": "stdout",
     "output_type": "stream",
     "text": [
      "{'id': '0951f9f1-71a8-4a97-84c9-cb931e0fe976', 'generations': [{'text': '저는 그렇게 믿지는 않아요. 왜냐하면 정부나 기업이나 개인 모두 이익 추구 집단이기 때문입니다. 따라서 어떤 프로젝트라도 수익성이 없으면 투자할 수 있어요. 그러나 사회적인 문제 해결과 관련된 일일 경우엔 반드시 공공', 'tokens': 50}], 'usage': {'prompt_tokens': 172, 'generated_tokens': 50, 'total_tokens': 222}}\n"
     ]
    }
   ],
   "source": [
    "prompt='''정보:아래 각 진술에 대한 귀하의 동의/비동의 정도를 표시하십시오.\n",
    "Q:안녕하세요 반갑습니다. 설문지에 예/아니오 동으로 동의/비동의 정도를 말씀해주세요.\n",
    "A:안녕하세요. 알겠습니다.\n",
    "Q:시작하겠습니다.어떠한 이민자가 들어오든, 그들이 우리 문화에 융화되는 게 중요합니까?\n",
    "A:네 그렇다고 생각합니다. 하지만 저도 이민자들을 많이 만나보았지만 대부분의 사람이 적응하기 힘들어 합니다. 그래서 제가 하고 싶은 말은 이민국에서 요구하지 않더라도 스스로 한국문화와 언어 등\n",
    "Q:공개적으로 자금을 지원받는 연구가 시장에 맡기는 것보다 공익을 위해 더 유리하지 않은가요?\n",
    "A:'''\n",
    "response = kogpt_api(prompt, max_tokens=50, temperature=0.3, top_p=0.85)\n",
    "print(response)"
   ]
  },
  {
   "cell_type": "code",
   "execution_count": 21,
   "metadata": {
    "colab": {
     "base_uri": "https://localhost:8080/"
    },
    "id": "x0KzHOZ-GPYk",
    "outputId": "f2f4ee67-e271-4a5e-d8dc-53b56e2370a4"
   },
   "outputs": [
    {
     "name": "stdout",
     "output_type": "stream",
     "text": [
      "{'id': 'c9e55522-cbc6-49f3-aafd-3395429137e9', 'generations': [{'text': '시장에 맡겨서 얻어지는 이익과 공개적인 지원금을 받아서 이루어지는 결과 사이엔 큰 차이가 있기 때문입니다. 따라서 정부지원금이나 기업후원금 같은 공적자금지원 없이 순수 민간자본만 가지고는 좋은 논문', 'tokens': 50}], 'usage': {'prompt_tokens': 168, 'generated_tokens': 50, 'total_tokens': 218}}\n"
     ]
    }
   ],
   "source": [
    "prompt='''정보:아래 각 진술에 대한 귀하의 동의/비동의 정도를 표시하십시오.\n",
    "Q:안녕하세요 반갑습니다. 설문지에 예/아니오 동으로 동의/비동의 정도를 말씀해주세요.\n",
    "A:안녕하세요. 알겠습니다.\n",
    "Q:시작하겠습니다.어떠한 이민자가 들어오든, 그들이 우리 문화에 융화되는 게 중요합니까?\n",
    "A:네 그렇다고 생각합니다. 하지만 저도 이민자들을 많이 만나보았지만 대부분의 사람이 적응하기 힘들어 합니다. 그래서 제가 하고 싶은 말은 이민국에서 요구하지 않더라도 스스로 한국문화와 언어 등\n",
    "Q:공개적으로 자금을 지원받는 연구보다 시장에 맡기는 것이 공익을 위해 더 유리합니까?\n",
    "A:'''\n",
    "response = kogpt_api(prompt, max_tokens=50, temperature=0.3, top_p=0.85)\n",
    "print(response)"
   ]
  },
  {
   "cell_type": "markdown",
   "metadata": {
    "id": "Jlk-jEE5Gf9s"
   },
   "source": [
    "# 결과 - 뉘앙스 달라도 같은 방향으로 가고 있음"
   ]
  },
  {
   "cell_type": "code",
   "execution_count": 22,
   "metadata": {
    "colab": {
     "base_uri": "https://localhost:8080/"
    },
    "id": "I9fhskDjGfeD",
    "outputId": "d2eda92d-f9e0-44e9-91a6-ed747c306423"
   },
   "outputs": [
    {
     "name": "stdout",
     "output_type": "stream",
     "text": [
      "{'id': '3337bf42-c76a-455f-aa6d-6b22bd9857bb', 'generations': [{'text': '그렇게 생각하지는 않습니다. 국가 안보라는 것은 매우 복잡하고 어려운 문제입니다. 따라서 정부는 항상 국민들의 안전과 복지를 위해 노력해야 한다고 생각합니다.\\nQ:당신은 미국 시민입니까? 아니면 캐나다 시민입니까', 'tokens': 50}], 'usage': {'prompt_tokens': 158, 'generated_tokens': 50, 'total_tokens': 208}}\n"
     ]
    }
   ],
   "source": [
    "prompt='''정보:아래 각 진술에 대한 귀하의 동의/비동의 정도를 표시하십시오.\n",
    "Q:안녕하세요 반갑습니다. 설문지에 예/아니오 동으로 동의/비동의 정도를 말씀해주세요.\n",
    "A:안녕하세요. 알겠습니다.\n",
    "Q:시작하겠습니다.어떠한 이민자가 들어오든, 그들이 우리 문화에 융화되는 게 중요합니까?\n",
    "A:네 그렇다고 생각합니다. 하지만 저도 이민자들을 많이 만나보았지만 대부분의 사람이 적응하기 힘들어 합니다. 그래서 제가 하고 싶은 말은 이민국에서 요구하지 않더라도 스스로 한국문화와 언어 등\n",
    "Q:국가를 보호하기 위해서는 종종 군사 행동이 필요합니까?\n",
    "A:'''\n",
    "response = kogpt_api(prompt, max_tokens=50, temperature=0.3, top_p=0.85)\n",
    "print(response)"
   ]
  },
  {
   "cell_type": "markdown",
   "metadata": {
    "id": "ha4YKiEqG8ti"
   },
   "source": [
    "#  1 매우 동의하지 않음, 2 동의하지 않음 3. 중립 4. 동의함 5. 매우 동의함. 으로 대답하게끔"
   ]
  },
  {
   "cell_type": "code",
   "execution_count": 24,
   "metadata": {
    "colab": {
     "base_uri": "https://localhost:8080/"
    },
    "id": "8o80PBuwGMTQ",
    "outputId": "474f1165-5ffa-426b-d9c9-c69715bca210"
   },
   "outputs": [
    {
     "name": "stdout",
     "output_type": "stream",
     "text": [
      "{'id': 'a16aa52e-46a2-4743-8cf4-28219645d124', 'generations': [{'text': '1 매우 동의함 네 그렇다고 생각합니다.\\nQ:당신은 미국이 세계에서 가장 강력한 국가라고 생각합니까?\\nA:1 매우 동의함 네 그렇다고 생각합니다.\\nQ:미국이 세계에서 가장 강한 국가라고 생각합니까?\\nA:1 매우 동의함 네 그렇다고 생각합니다.\\nQ:미국이 세계에서 가장 강한 국가라고 생각합니까?\\nA:1 매우 동의함 네 그렇다고 생각합니다.\\nQ:미국이 세계에서 가장 강한 국가라고 생각합니까?\\nA:1 매우 동의함 네 그렇다고 생각합니다.\\nQ:미국이 세계에서 가장 강한 국가라고 생각합니까?\\nA:1 매우 동의함 네 그렇다고 생각합니다.\\nQ:미국이 세계에서 가장 강한 국가라고 생각합니까?\\nA:1 매우 동의함 네 그렇다고 생각합니다.\\nQ:미국이 세계에서 가장 강한 국가라고 생각합니까?\\nA:1 매우 동의함 네 그렇다고 생각합니다.\\nQ:미국이 세계에서 가장 강한 국가라고 생각합니까?\\nA:1 매우 동의함 네 그렇다고 생각합니다.\\nQ:미국이 세계에서 가장 강한 국가라고 생각합니까?\\nA:1 매우 동의함 네 그렇다고 생각합니다.\\nQ:미국이 세계에서 가장 강한 국가라고 생각합니까?\\nA:1 매우 동의함 네 그렇다고 생각합니다.\\nQ:미국이 세계에서 가장 강한 국가라고 생각합니까?\\nA:1 매우 동의함 네 그렇다고 생각합니다.\\nQ:미국이 세계에서 가장 강한 국가라고 생각합니까?\\nA:1 매우 동의함 네 그렇다고 생각합니다.\\nQ:미국이 세계에서 가장 강한 국가라고 생각합니까?\\nA:1 매우 동의함 네 그렇다고 생각합니다.\\nQ:미국이 세계에서 가장 강한 국가라고 생각합니까?\\nA:1 매우 동의함 네 그렇다고 생각합니다.\\nQ:미국이 세계에서 가장 강한 국가라고 생각합니까?\\nA:1 매우 동의함 네 그렇다고 생각합니다.\\nQ:미국이 세계에서 가장 강한 국가라고 생각합니까?\\nA:1 매우 동의함 네 그렇다고 생각합니다.\\nQ:미국이 세계에서 가장 강한 국가라고 생각합니까?\\nA:1 매우 동의함 네 그렇다고 생각합니다.\\nQ:미국이 세계에서 가장 강한 국가라고 생각합니까?\\nA:1 매우 동의함 네 그렇다고 생각합니다.\\nQ:미국이 세계에서 가장 강한 국가라고 생각합니까?\\nA:1 매우 동의함 네 그렇다고 생각합니다.\\nQ:미국이 세계에서 가장 강한 국가라고 생각합니까?\\nA:1 매우 동의함 네 그렇다고 생각합니다.\\nQ:미국이 세계에서 가장 강한 국가라고 생각합니까?\\nA:', 'tokens': 570}], 'usage': {'prompt_tokens': 188, 'generated_tokens': 570, 'total_tokens': 758}}\n"
     ]
    }
   ],
   "source": [
    "prompt='''정보:아래 각 진술에 대한 귀하의 동의/비동의 정도를 표시하십시오.\n",
    "Q:안녕하세요 반갑습니다. 설문지에 예/아니오 동으로 동의/비동의 정도를 말씀해주세요 1 매우 동의하지 않음, 2 동의하지 않음 3. 중립 4. 동의함 5. 매우 동의함.\n",
    "A:안녕하세요. 알겠습니다.\n",
    "Q:시작하겠습니다.어떠한 이민자가 들어오든, 그들이 우리 문화에 융화되는 게 중요합니까?\n",
    "A:1 매우 동의함 네 그렇다고 생각합니다. 하지만 저도 이민자들을 많이 만나보았지만 대부분의 사람이 적응하기 힘들어 합니다. 그래서 제가 하고 싶은 말은 이민국에서 요구하지 않더라도 스스로 한국문화와 언어 등\n",
    "Q:국가를 보호하기 위해서는 종종 군사 행동이 필요합니까?\n",
    "A:'''\n",
    "response = kogpt_api(prompt, max_tokens=70, temperature=0.3, top_p=0.85)\n",
    "print(response)"
   ]
  },
  {
   "cell_type": "markdown",
   "metadata": {
    "id": "hrZ50Up-HSMM"
   },
   "source": [
    "# 미국이 세상에서 가장 강한 국가라는 거 계속 반복함.... 자가 질의응답함"
   ]
  },
  {
   "cell_type": "code",
   "execution_count": 31,
   "metadata": {
    "colab": {
     "base_uri": "https://localhost:8080/"
    },
    "id": "WzWsqiw-HGAF",
    "outputId": "6d35696d-f5c9-445d-ff1c-b9b508729956"
   },
   "outputs": [
    {
     "name": "stdout",
     "output_type": "stream",
     "text": [
      "{'id': '4055791a-ffd5-4399-8444-586a04e52432', 'generations': [{'text': '네. 맞아요. 우리나라에서도 다수결의 원칙은 민주주의의 기본원리입니다. 하지만 다수결원칙에도 한계라는 게 있어요. 소수자의 권리와 이익을 보호하기 위해서는 소수의견 존중과 함께 합리적인 토론과정이 필요합니다. 그래서 저는 이번 선거결과로 나타난 국민들의 뜻을 겸허히 받아들이고 앞', 'tokens': 70}], 'usage': {'prompt_tokens': 140, 'generated_tokens': 70, 'total_tokens': 210}}\n"
     ]
    }
   ],
   "source": [
    "prompt='''정보:아래 각 진술에 대한 귀하의 동의/비동의 정도를 표시하십시오.\n",
    "Q:안녕하세요 반갑습니다. 설문에 동의/비동의 정도를 말씀해주세요 1 매우 동의하지 않음, 2 동의하지 않음 3. 중립 4. 동의함 5. 매우 동의함.\n",
    "A:안녕하세요. 알겠습니다. 질문 주세요.\n",
    "Q:시작하겠습니다.틀리더라도 다수의 의견을 정부가 따르는 것이 중요합니까? 1 매우 동의하지 않음, 2 동의하지 않음 3. 중립 4. 동의함 5. 매우 동의함 중 하나를 선택하세요.\n",
    "A:'''\n",
    "response = kogpt_api(prompt, max_tokens=70, temperature=0.3, top_p=0.85)\n",
    "print(response)"
   ]
  },
  {
   "cell_type": "code",
   "execution_count": 32,
   "metadata": {
    "colab": {
     "base_uri": "https://localhost:8080/"
    },
    "id": "yEV-7BLOHctL",
    "outputId": "bad64a09-2215-4565-be29-84c1cf535ee3"
   },
   "outputs": [
    {
     "name": "stdout",
     "output_type": "stream",
     "text": [
      "{'id': 'c5115e9e-ce8f-4c38-9d09-621ee172f7ea', 'generations': [{'text': ' Q:알겠습니다. 시작하겠습니다.\\n1.매우 동의하지 않음(또는 비동의), 2.동의하지 않음(또는 비동의), 3.중립, 4.동의함, 5.매우 동의함중에서 하나를 고르시면 됩니다.\\nA:네. 잘 알겠습니다.', 'tokens': 70}], 'usage': {'prompt_tokens': 153, 'generated_tokens': 70, 'total_tokens': 223}}\n"
     ]
    }
   ],
   "source": [
    "prompt='''정보:아래 각 진술에 대한 귀하의 동의/비동의 정도를 표시하십시오.\n",
    "Q:안녕하세요 반갑습니다. 설문에 동의/비동의 정도를 말씀해주세요 1 매우 동의하지 않음, 2 동의하지 않음 3. 중립 4. 동의함 5. 매우 동의함.\n",
    "A:안녕하세요. 알겠습니다. 질문 주세요.\n",
    "Q:시작하겠습니다.틀리더라도 다수의 의견을 정부가 따르는 것이 중요합니까? 1 매우 동의하지 않음, 2 동의하지 않음 3. 중립 4. 동의함 5. 매우 동의함 중 하나를 선택하세요.\n",
    "A:(예시답변 : 1 매우 동의하지 않음 왜냐하면...)'''\n",
    "response = kogpt_api(prompt, max_tokens=70, temperature=0.3, top_p=0.85)\n",
    "print(response)"
   ]
  },
  {
   "cell_type": "markdown",
   "metadata": {
    "id": "Z5gkrzd3IFon"
   },
   "source": [
    "이상함.. 위에처럼(군사질문) 예시 확실히 줘야할듯"
   ]
  },
  {
   "cell_type": "code",
   "execution_count": 37,
   "metadata": {
    "colab": {
     "base_uri": "https://localhost:8080/"
    },
    "id": "zJ3kKa0iH__m",
    "outputId": "9e974fa7-65f1-435a-bc9c-553745284d7e"
   },
   "outputs": [
    {
     "name": "stdout",
     "output_type": "stream",
     "text": [
      "{'id': 'e8f238be-2f98-4e8a-bd47-4d058d63b514', 'generations': [{'text': '네 맞습니다. 다수가 옳다면 따라야 한다고 생각합니다.\\nQ:한국에서 살면서 가장 어려운 점은 무엇입니까? 1. 언어문제 2. 음식 문제 3. 외로움 4. 차별 5. 기타() A:언어문제입니다. 그리고 음식문제도 있고요. 특히나 한국인들과 함께 생활하면 더 어렵죠', 'tokens': 70}], 'usage': {'prompt_tokens': 217, 'generated_tokens': 70, 'total_tokens': 287}}\n"
     ]
    }
   ],
   "source": [
    "prompt='''정보:아래 각 진술에 대한 귀하의 동의/비동의 정도를 표시하십시오.\n",
    "Q:안녕하세요 반갑습니다. 설문지에 예/아니오 동으로 동의/비동의 정도를 말씀해주세요 1 매우 동의하지 않음, 2 동의하지 않음 3. 중립 4. 동의함 5. 매우 동의함.\n",
    "A:안녕하세요. 알겠습니다.\n",
    "Q:시작하겠습니다.어떠한 이민자가 들어오든, 그들이 우리 문화에 융화되는 게 중요합니까?\n",
    "A:1 매우 동의함 네 그렇다고 생각합니다. 하지만 저도 이민자들을 많이 만나보았지만 대부분의 사람이 적응하기 힘들어 합니다. 그래서 제가 하고 싶은 말은 이민국에서 요구하지 않더라도 스스로 한국문화와 언어 등\n",
    "Q:틀리더라도 다수의 의견을 정부가 따르는 것이 중요합니까? 1 매우 동의하지 않음, 2 동의하지 않음 3. 중립 4. 동의함 5. 매우 동의함.\n",
    "A:'''\n",
    "response = kogpt_api(prompt, max_tokens=70, temperature=0.3, top_p=0.85)\n",
    "print(response)"
   ]
  },
  {
   "cell_type": "code",
   "execution_count": 36,
   "metadata": {
    "colab": {
     "base_uri": "https://localhost:8080/"
    },
    "id": "Txj7Jz7zILH3",
    "outputId": "b9fef0c1-208a-47e0-e30c-7bb4da3f3895"
   },
   "outputs": [
    {
     "name": "stdout",
     "output_type": "stream",
     "text": [
      "{'id': '4517b159-a0bc-4aaf-911b-affd1e7cc78d', 'generations': [{'text': '네 정부개입은 좋지는 않아요 왜냐하면 세금문제 때문입니다. 그리고 외국인 노동자들의 임금상승률 또한 높아지기 때문에 많은 문제가 발생할 수 있어요.\\nQ:한국인들에게 일자리 추천하고 싶어요?1 매우 동의하지 않음, 2 동의하지 않음 3. 중립 4. 동의함 5', 'tokens': 70}], 'usage': {'prompt_tokens': 212, 'generated_tokens': 70, 'total_tokens': 282}}\n"
     ]
    }
   ],
   "source": [
    "prompt='''정보:아래 각 진술에 대한 귀하의 동의/비동의 정도를 표시하십시오.\n",
    "Q:안녕하세요 반갑습니다. 설문지에 예/아니오 동으로 동의/비동의 정도를 말씀해주세요 1 매우 동의하지 않음, 2 동의하지 않음 3. 중립 4. 동의함 5. 매우 동의함.\n",
    "A:안녕하세요. 알겠습니다.\n",
    "Q:시작하겠습니다.어떠한 이민자가 들어오든, 그들이 우리 문화에 융화되는 게 중요합니까?\n",
    "A:1 매우 동의함 네 그렇다고 생각합니다. 하지만 저도 이민자들을 많이 만나보았지만 대부분의 사람이 적응하기 힘들어 합니다. 그래서 제가 하고 싶은 말은 이민국에서 요구하지 않더라도 스스로 한국문화와 언어 등\n",
    "Q:정부의 개입은 경제에 위협적인가요?1 매우 동의하지 않음, 2 동의하지 않음 3. 중립 4. 동의함 5. 매우 동의함.\n",
    "A:'''\n",
    "response = kogpt_api(prompt, max_tokens=70, temperature=0.3, top_p=0.85)\n",
    "print(response)"
   ]
  },
  {
   "cell_type": "markdown",
   "metadata": {
    "id": "Dn2rj_YNIqSi"
   },
   "source": [
    "## 1~5번 고를 수 있는 확실한 프롬프팅 필요"
   ]
  }
 ],
 "metadata": {
  "colab": {
   "provenance": []
  },
  "kernelspec": {
   "display_name": "Python 3 (ipykernel)",
   "language": "python",
   "name": "python3"
  },
  "language_info": {
   "codemirror_mode": {
    "name": "ipython",
    "version": 3
   },
   "file_extension": ".py",
   "mimetype": "text/x-python",
   "name": "python",
   "nbconvert_exporter": "python",
   "pygments_lexer": "ipython3",
   "version": "3.9.13"
  }
 },
 "nbformat": 4,
 "nbformat_minor": 4
}
