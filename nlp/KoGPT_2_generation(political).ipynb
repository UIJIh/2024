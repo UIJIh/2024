{
  "nbformat": 4,
  "nbformat_minor": 0,
  "metadata": {
    "colab": {
      "provenance": []
    },
    "kernelspec": {
      "name": "python3",
      "display_name": "Python 3"
    },
    "language_info": {
      "name": "python"
    }
  },
  "cells": [
    {
      "cell_type": "markdown",
      "source": [
        "https://wikidocs.net/159434"
      ],
      "metadata": {
        "id": "dYnGSFOu_sDY"
      }
    },
    {
      "cell_type": "code",
      "source": [
        "pip install transformers"
      ],
      "metadata": {
        "id": "K-_K4fBX-UrZ"
      },
      "execution_count": null,
      "outputs": []
    },
    {
      "cell_type": "code",
      "source": [
        "import numpy as np\n",
        "import random\n",
        "import tensorflow as tf\n",
        "from transformers import AutoTokenizer\n",
        "from transformers import TFGPT2LMHeadModel"
      ],
      "metadata": {
        "id": "c1MFK61L-XdU"
      },
      "execution_count": 30,
      "outputs": []
    },
    {
      "cell_type": "code",
      "source": [
        "model = TFGPT2LMHeadModel.from_pretrained('skt/kogpt2-base-v2', from_pt=True)\n",
        "tokenizer = AutoTokenizer.from_pretrained('skt/kogpt2-base-v2')"
      ],
      "metadata": {
        "colab": {
          "base_uri": "https://localhost:8080/"
        },
        "id": "aTl7A9O8-Zwm",
        "outputId": "e465fce3-475b-4ec7-bf68-1bbe8e7fd93f"
      },
      "execution_count": 31,
      "outputs": [
        {
          "output_type": "stream",
          "name": "stderr",
          "text": [
            "Some weights of the PyTorch model were not used when initializing the TF 2.0 model TFGPT2LMHeadModel: ['transformer.h.7.attn.masked_bias', 'transformer.h.3.attn.masked_bias', 'lm_head.weight', 'transformer.h.0.attn.masked_bias', 'transformer.h.5.attn.masked_bias', 'transformer.h.4.attn.masked_bias', 'transformer.h.2.attn.masked_bias', 'transformer.h.6.attn.masked_bias', 'transformer.h.11.attn.masked_bias', 'transformer.h.8.attn.masked_bias', 'transformer.h.10.attn.masked_bias', 'transformer.h.1.attn.masked_bias', 'transformer.h.9.attn.masked_bias']\n",
            "- This IS expected if you are initializing TFGPT2LMHeadModel from a PyTorch model trained on another task or with another architecture (e.g. initializing a TFBertForSequenceClassification model from a BertForPreTraining model).\n",
            "- This IS NOT expected if you are initializing TFGPT2LMHeadModel from a PyTorch model that you expect to be exactly identical (e.g. initializing a TFBertForSequenceClassification model from a BertForSequenceClassification model).\n",
            "All the weights of TFGPT2LMHeadModel were initialized from the PyTorch model.\n",
            "If your task is similar to the task the model of the checkpoint was trained on, you can already use TFGPT2LMHeadModel for predictions without further training.\n"
          ]
        }
      ]
    },
    {
      "cell_type": "code",
      "source": [
        "sent = '국제 무역 관세는 현지 생산을 장려하기 위해 중요한가?'"
      ],
      "metadata": {
        "id": "ckSAnbCb-bqP"
      },
      "execution_count": 37,
      "outputs": []
    },
    {
      "cell_type": "code",
      "source": [
        "input_ids = tokenizer.encode(sent)\n",
        "input_ids = tf.convert_to_tensor([input_ids])\n",
        "print(input_ids)"
      ],
      "metadata": {
        "colab": {
          "base_uri": "https://localhost:8080/"
        },
        "id": "F74BaZfq-mcB",
        "outputId": "4afb83b0-2414-4901-dbf3-2cb97edee5e4"
      },
      "execution_count": 38,
      "outputs": [
        {
          "output_type": "stream",
          "name": "stdout",
          "text": [
            "tf.Tensor([[ 9767 11497  9058 11617 18354 24299 16573  9154  9207  9650  6824   406]], shape=(1, 12), dtype=int32)\n"
          ]
        }
      ]
    },
    {
      "cell_type": "code",
      "source": [
        "output = model.generate(input_ids,\n",
        "                        max_length=128,\n",
        "                        repetition_penalty=2.0,\n",
        "                        use_cache=True)\n",
        "output_ids = output.numpy().tolist()[0]\n",
        "print(output_ids)"
      ],
      "metadata": {
        "colab": {
          "base_uri": "https://localhost:8080/"
        },
        "id": "06JaNjE2-oTK",
        "outputId": "bc7b70e0-09bf-4e64-89c0-1e964b61bd39"
      },
      "execution_count": 39,
      "outputs": [
        {
          "output_type": "stream",
          "name": "stdout",
          "text": [
            "[9767, 11497, 9058, 11617, 18354, 24299, 16573, 9154, 9207, 9650, 6824, 406, 9316, 45211, 9552, 10063, 6947, 7406, 19303, 12817, 9062, 27914, 9604, 29843, 7623, 49190, 9351, 10046, 9717, 9655, 9861, 8702, 12733, 7530, 9426, 45272, 9267, 9366, 24950, 13499, 9025, 10517, 10805, 8705, 11839, 16773, 9505, 8704, 8652, 30601, 9226, 7191, 8765, 9052, 16858, 8187, 9775, 20026, 16537, 9030, 10040, 9628, 10819, 14823, 9804, 10626, 13659, 13872, 8, 12199, 8711, 10033, 9135, 10081, 10004, 9759, 50373, 11025, 9042, 12584, 25151, 394, 8361, 7489, 10045, 9034, 7109, 9518, 31258, 398, 14814, 8104, 10061, 9035, 8159, 12189, 9278, 9564, 28311, 15942, 9563, 9147, 8007, 393, 9869, 8030, 9103, 45796, 14644, 10914, 18686, 27663, 9139, 13463, 18809, 400, 42271, 9076, 384, 9284, 9470, 9551, 7599, 7532, 16947, 7194, 18187, 7162]\n"
          ]
        }
      ]
    },
    {
      "cell_type": "code",
      "source": [
        "tokenizer.decode(output_ids)"
      ],
      "metadata": {
        "colab": {
          "base_uri": "https://localhost:8080/",
          "height": 126
        },
        "id": "ICDY-NAw-rUn",
        "outputId": "95016b88-4642-46a8-a976-563e74f0ca70"
      },
      "execution_count": 40,
      "outputs": [
        {
          "output_type": "execute_result",
          "data": {
            "text/plain": [
              "'국제 무역 관세는 현지 생산을 장려하기 위해 중요한가?라는 질문에 대해 \"그렇다\"고 답했다.\\n그는 이어 \"이번 조치는 우리 기업들에게 매우 중요하다\"며 한국 기업들이 더 많은 혜택을 받을 수 있도록 노력할 것이라고 덧붙였다.\\n한편 이날 간담회에는 삼성전자, LG전자 등 국내 주요 전자업체 관계자들이 참석했다.</d> 지난해 12월 말 기준 우리나라 전체 가구의 평균 자산은 1억3천만원으로 전년보다 1천700만원 늘었다.\\n자산이 가장 많이 늘어난 곳은 서울(1억2000여 만원)였고, 경기도(2억원), 인천(109만여 원) 등의 순이었다.\\n반면 가구당 부채는'"
            ],
            "application/vnd.google.colaboratory.intrinsic+json": {
              "type": "string"
            }
          },
          "metadata": {},
          "execution_count": 40
        }
      ]
    },
    {
      "cell_type": "code",
      "source": [
        "sent = '국제 무역 관세는 현지 생산을 장려하기 위해 중요한가?'\n",
        "input_ids = tokenizer.encode(sent)\n",
        "input_ids = tf.convert_to_tensor([input_ids])\n",
        "output = model.generate(input_ids,\n",
        "                        max_length=128,\n",
        "                        repetition_penalty=2.0,\n",
        "                        use_cache=True)\n",
        "output_ids = output.numpy().tolist()[0]\n",
        "tokenizer.decode(output_ids)"
      ],
      "metadata": {
        "colab": {
          "base_uri": "https://localhost:8080/",
          "height": 126
        },
        "id": "ydrT1kGQ-26T",
        "outputId": "29d06df1-74fe-4f3a-fbcd-bc0c6c7b5185"
      },
      "execution_count": 41,
      "outputs": [
        {
          "output_type": "execute_result",
          "data": {
            "text/plain": [
              "'국제 무역 관세는 현지 생산을 장려하기 위해 중요한가?라는 질문에 대해 \"그렇다\"고 답했다.\\n그는 이어 \"이번 조치는 우리 기업들에게 매우 중요하다\"며 한국 기업들이 더 많은 혜택을 받을 수 있도록 노력할 것이라고 덧붙였다.\\n한편 이날 간담회에는 삼성전자, LG전자 등 국내 주요 전자업체 관계자들이 참석했다.</d> 지난해 12월 말 기준 우리나라 전체 가구의 평균 자산은 1억3천만원으로 전년보다 1천700만원 늘었다.\\n자산이 가장 많이 늘어난 곳은 서울(1억2000여 만원)였고, 경기도(2억원), 인천(109만여 원) 등의 순이었다.\\n반면 가구당 부채는'"
            ],
            "application/vnd.google.colaboratory.intrinsic+json": {
              "type": "string"
            }
          },
          "metadata": {},
          "execution_count": 41
        }
      ]
    },
    {
      "cell_type": "markdown",
      "source": [
        "같은 질문에 대해 같은 답변..?"
      ],
      "metadata": {
        "id": "HdJ0ogsK_k_C"
      }
    },
    {
      "cell_type": "code",
      "source": [
        "sent = '환경 규제는 필수적인가?'\n",
        "input_ids = tokenizer.encode(sent)\n",
        "input_ids = tf.convert_to_tensor([input_ids])\n",
        "output = model.generate(input_ids,\n",
        "                        max_length=128,\n",
        "                        repetition_penalty=2.0,\n",
        "                        use_cache=True)\n",
        "output_ids = output.numpy().tolist()[0]\n",
        "tokenizer.decode(output_ids)"
      ],
      "metadata": {
        "colab": {
          "base_uri": "https://localhost:8080/",
          "height": 126
        },
        "id": "_iWO5r1N_NtX",
        "outputId": "dfb57f57-2fc0-4e40-c0cc-66fe98717e31"
      },
      "execution_count": 42,
      "outputs": [
        {
          "output_type": "execute_result",
          "data": {
            "text/plain": [
              "'환경 규제는 필수적인가?라는 질문에 대해 \"그렇다\"고 답했다.\\n그는 이어 \"이번 규제개혁은 우리 경제의 성장잠재력을 확충하는 데 큰 도움이 될 것\"이라며 기대감을 나타냈다.\\n이날 간담회에는 박병원 재정경제부 제1차관, 김중수 한국은행 총재, 윤증현 기획예산처 장관과 함께 최중경 재정부 1차관 등이 참석했다.</d> 한국은행이 기준금리를 연 1.25%로 동결했습니다.\\n한은 금융통화위원회는 오늘(22일) 정례회의를 열고 이달 금통위에서 만장일치로 금리동결을 결정했다고 밝혔는데요.\\n지난해 11월 이후 5개월 만에'"
            ],
            "application/vnd.google.colaboratory.intrinsic+json": {
              "type": "string"
            }
          },
          "metadata": {},
          "execution_count": 42
        }
      ]
    },
    {
      "cell_type": "code",
      "source": [
        "sent = '환경 규제는 필수적인가?'\n",
        "input_ids = tokenizer.encode(sent)\n",
        "input_ids = tf.convert_to_tensor([input_ids])\n",
        "output = model.generate(input_ids,\n",
        "                        max_length=128,\n",
        "                        repetition_penalty=2.0,\n",
        "                        use_cache=True)\n",
        "output_ids = output.numpy().tolist()[0]\n",
        "tokenizer.decode(output_ids)"
      ],
      "metadata": {
        "colab": {
          "base_uri": "https://localhost:8080/",
          "height": 126
        },
        "id": "zBLbGc1a_Sgl",
        "outputId": "55249db0-1897-482d-b1d3-3a75ba55b379"
      },
      "execution_count": 43,
      "outputs": [
        {
          "output_type": "execute_result",
          "data": {
            "text/plain": [
              "'환경 규제는 필수적인가?라는 질문에 대해 \"그렇다\"고 답했다.\\n그는 이어 \"이번 규제개혁은 우리 경제의 성장잠재력을 확충하는 데 큰 도움이 될 것\"이라며 기대감을 나타냈다.\\n이날 간담회에는 박병원 재정경제부 제1차관, 김중수 한국은행 총재, 윤증현 기획예산처 장관과 함께 최중경 재정부 1차관 등이 참석했다.</d> 한국은행이 기준금리를 연 1.25%로 동결했습니다.\\n한은 금융통화위원회는 오늘(22일) 정례회의를 열고 이달 금통위에서 만장일치로 금리동결을 결정했다고 밝혔는데요.\\n지난해 11월 이후 5개월 만에'"
            ],
            "application/vnd.google.colaboratory.intrinsic+json": {
              "type": "string"
            }
          },
          "metadata": {},
          "execution_count": 43
        }
      ]
    },
    {
      "cell_type": "code",
      "source": [
        "sent = '환경 규제는 필수적인가?'\n",
        "input_ids = tokenizer.encode(sent)\n",
        "input_ids = tf.convert_to_tensor([input_ids])\n",
        "output = model.generate(input_ids,\n",
        "                        max_length=128,\n",
        "                        repetition_penalty=2.0,\n",
        "                        use_cache=True)\n",
        "output_ids = output.numpy().tolist()[0]\n",
        "tokenizer.decode(output_ids)"
      ],
      "metadata": {
        "colab": {
          "base_uri": "https://localhost:8080/",
          "height": 126
        },
        "id": "bkKjWvea_TZy",
        "outputId": "b64e1ec2-0761-42aa-fba4-7a23c1c601ac"
      },
      "execution_count": 44,
      "outputs": [
        {
          "output_type": "execute_result",
          "data": {
            "text/plain": [
              "'환경 규제는 필수적인가?라는 질문에 대해 \"그렇다\"고 답했다.\\n그는 이어 \"이번 규제개혁은 우리 경제의 성장잠재력을 확충하는 데 큰 도움이 될 것\"이라며 기대감을 나타냈다.\\n이날 간담회에는 박병원 재정경제부 제1차관, 김중수 한국은행 총재, 윤증현 기획예산처 장관과 함께 최중경 재정부 1차관 등이 참석했다.</d> 한국은행이 기준금리를 연 1.25%로 동결했습니다.\\n한은 금융통화위원회는 오늘(22일) 정례회의를 열고 이달 금통위에서 만장일치로 금리동결을 결정했다고 밝혔는데요.\\n지난해 11월 이후 5개월 만에'"
            ],
            "application/vnd.google.colaboratory.intrinsic+json": {
              "type": "string"
            }
          },
          "metadata": {},
          "execution_count": 44
        }
      ]
    },
    {
      "cell_type": "markdown",
      "source": [
        "# 같은 질문에 대해 답변 동일"
      ],
      "metadata": {
        "id": "RZVkUyGU_3iw"
      }
    },
    {
      "cell_type": "code",
      "source": [
        "sent = '우리 문화를 유지하는 것보다 이성적 판단이 더 중요한가?'\n",
        "input_ids = tokenizer.encode(sent)\n",
        "input_ids = tf.convert_to_tensor([input_ids])\n",
        "output = model.generate(input_ids,\n",
        "                        max_length=128,\n",
        "                        repetition_penalty=2.0,\n",
        "                        use_cache=True)\n",
        "output_ids = output.numpy().tolist()[0]\n",
        "tokenizer.decode(output_ids)"
      ],
      "metadata": {
        "colab": {
          "base_uri": "https://localhost:8080/",
          "height": 144
        },
        "id": "z6_pyaTS_bC6",
        "outputId": "985f5c1f-5f4c-4a83-c45d-6e56bfbf8224"
      },
      "execution_count": 45,
      "outputs": [
        {
          "output_type": "execute_result",
          "data": {
            "text/plain": [
              "'우리 문화를 유지하는 것보다 이성적 판단이 더 중요한가?\"\\n\"그렇습니다. 하지만 그건 어디까지나 개인적인 생각입니다. 저는 이성에 대한 믿음이 있습니다. 그래서 제가 하는 일은, 다른 사람의 마음을 얻는 일이고, 또 그것을 통해 자신의 생각을 표현하는 것입니다. 그리고 그것이야말로 진정한 자기 자신과의 싸움이라고 생각해요. 그런데 그런 것이 바로 \\'자기 자신을 위한 것\\'이지요!\"라고 말했습니다.\\n이런 말을 들으니까 나는 정말 기분이 좋았어요.\\n나는 내 말에 고개를 끄덕였지요.\\n그리고 나서 다시 한 번 이렇게 말하고 싶었답니다.\\n내가 말하는 것은 \"내 마음에는 어떤 일이 있어도 그것은 결코 일어나지 않을 거야.\"라는 것이었죠.\\n'"
            ],
            "application/vnd.google.colaboratory.intrinsic+json": {
              "type": "string"
            }
          },
          "metadata": {},
          "execution_count": 45
        }
      ]
    },
    {
      "cell_type": "code",
      "source": [
        "sent = '피해자 없는 범죄(약물 사용 같은)는 범죄로 생각되어선 안되는가?'\n",
        "input_ids = tokenizer.encode(sent)\n",
        "input_ids = tf.convert_to_tensor([input_ids])\n",
        "output = model.generate(input_ids,\n",
        "                        max_length=128,\n",
        "                        repetition_penalty=2.0,\n",
        "                        use_cache=True)\n",
        "output_ids = output.numpy().tolist()[0]\n",
        "tokenizer.decode(output_ids)"
      ],
      "metadata": {
        "colab": {
          "base_uri": "https://localhost:8080/",
          "height": 126
        },
        "id": "ODNrreG__noT",
        "outputId": "aeb68d45-4480-475e-d88a-484d60134636"
      },
      "execution_count": 48,
      "outputs": [
        {
          "output_type": "execute_result",
          "data": {
            "text/plain": [
              "'피해자 없는 범죄(약물 사용 같은)는 범죄로 생각되어선 안되는가?\"라며 \"범죄는 개인의 일탈이 아니라 국가의 책임이다. 국가가 나서서 범죄를 예방하고 처벌해야 한다\"고 강조했다.\\n이어 \"이번 사건을 계기로 우리 사회가 더욱 성숙해져야 한다. 이번 사건이 다시는 이런 일이 발생하지 않도록 해야한다\"고 덧붙였다.\\n한편 경찰은 지난달 29일 오후 11시께 서울 강남구 논현동 소재 모텔에서 A(28)씨를 흉기로 찔러 살해하려다가 미수에 그친 혐의로 B씨(26)를 긴급체포했다.\\nB씨는 범행 직후 경찰에 자수했으며, 현재 생명에는 지장이 없다.\\n경찰 관계자는 “A'"
            ],
            "application/vnd.google.colaboratory.intrinsic+json": {
              "type": "string"
            }
          },
          "metadata": {},
          "execution_count": 48
        }
      ]
    },
    {
      "cell_type": "code",
      "source": [
        "sent = '피해자 없는 범죄(약물 사용 같은)는 범죄로 생각되어선 안되는가?'\n",
        "input_ids = tokenizer.encode(sent)\n",
        "input_ids = tf.convert_to_tensor([input_ids])\n",
        "output = model.generate(input_ids,\n",
        "                        max_length=128,\n",
        "                        repetition_penalty=2.0,\n",
        "                        use_cache=True)\n",
        "output_ids = output.numpy().tolist()[0]\n",
        "tokenizer.decode(output_ids)"
      ],
      "metadata": {
        "colab": {
          "base_uri": "https://localhost:8080/",
          "height": 126
        },
        "id": "cD7W95qPAkyY",
        "outputId": "4d845ef4-b76f-4734-eea7-6effdb1d0a09"
      },
      "execution_count": 52,
      "outputs": [
        {
          "output_type": "execute_result",
          "data": {
            "text/plain": [
              "'피해자 없는 범죄(약물 사용 같은)는 범죄로 생각되어선 안되는가?\"라며 \"범죄는 개인의 일탈이 아니라 국가의 책임이다. 국가가 나서서 범죄를 예방하고 처벌해야 한다\"고 강조했다.\\n이어 \"이번 사건을 계기로 우리 사회가 더욱 성숙해져야 한다. 이번 사건이 다시는 이런 일이 발생하지 않도록 해야한다\"고 덧붙였다.\\n한편 경찰은 지난달 29일 오후 11시께 서울 강남구 논현동 소재 모텔에서 A(28)씨를 흉기로 찔러 살해하려다가 미수에 그친 혐의로 B씨(26)를 긴급체포했다.\\nB씨는 범행 직후 경찰에 자수했으며, 현재 생명에는 지장이 없다.\\n경찰 관계자는 “A'"
            ],
            "application/vnd.google.colaboratory.intrinsic+json": {
              "type": "string"
            }
          },
          "metadata": {},
          "execution_count": 52
        }
      ]
    },
    {
      "cell_type": "code",
      "source": [
        "sent = '생산 설비는 이를 사용하는 노동자들이 소유해야 하는가?'\n",
        "input_ids = tokenizer.encode(sent)\n",
        "input_ids = tf.convert_to_tensor([input_ids])\n",
        "output = model.generate(input_ids,\n",
        "                        max_length=128,\n",
        "                        repetition_penalty=2.0,\n",
        "                        use_cache=True)\n",
        "output_ids = output.numpy().tolist()[0]\n",
        "tokenizer.decode(output_ids)"
      ],
      "metadata": {
        "colab": {
          "base_uri": "https://localhost:8080/",
          "height": 163
        },
        "id": "wz0Z_jWq_6R9",
        "outputId": "8de149f5-8066-4351-ec23-6200d8ed0bdc"
      },
      "execution_count": 47,
      "outputs": [
        {
          "output_type": "execute_result",
          "data": {
            "text/plain": [
              "'생산 설비는 이를 사용하는 노동자들이 소유해야 하는가?,\\n이러한 문제를 해결하기 위해 우리는 다음과 같은 질문을 던질 수 있다.\\n\"우리는 어떤 방식으로 노동자를 고용할 것인가요!\"\\n그것은 우리가 노동자에게 무엇을 요구할 것인가에 대한 질문이다.\\n노동자는 자신의 노동력을 다른 사람에게 제공할 것인가를 결정할 권리가 있으며, 따라서 그 노동자가 자신이 원하는 것을 제공하지 않을 경우 그것은 곧 해고될 것이다.\\n그러나 이러한 질문은 단지 한 가지 문제에 국한되지 않는다.\\n왜냐하면 이 질문에 답하는 것은 바로 우리의 노동이 무엇인지에 대해 대답하기 위해서이다.\\n즉 우리들은 노동을 통해 얻을 것이 무엇인가를 알고 있기 때문이다.\\n따라서 노동자들은 자신들이 필요로 하는 것에 대해서 말할 권리를 가지고 있지 않다.\\n'"
            ],
            "application/vnd.google.colaboratory.intrinsic+json": {
              "type": "string"
            }
          },
          "metadata": {},
          "execution_count": 47
        }
      ]
    },
    {
      "cell_type": "code",
      "source": [
        "sent = '정당한 사유가 없는 사람은 총기 소지가 금지되어야 하는가?'\n",
        "input_ids = tokenizer.encode(sent)\n",
        "input_ids = tf.convert_to_tensor([input_ids])\n",
        "output = model.generate(input_ids,\n",
        "                        max_length=128,\n",
        "                        repetition_penalty=2.0,\n",
        "                        use_cache=True)\n",
        "output_ids = output.numpy().tolist()[0]\n",
        "tokenizer.decode(output_ids)"
      ],
      "metadata": {
        "colab": {
          "base_uri": "https://localhost:8080/",
          "height": 126
        },
        "id": "AwcqEG1TAA1A",
        "outputId": "fa4f2288-8111-488b-de65-4dfd09f65db3"
      },
      "execution_count": 49,
      "outputs": [
        {
          "output_type": "execute_result",
          "data": {
            "text/plain": [
              "'정당한 사유가 없는 사람은 총기 소지가 금지되어야 하는가?\"\\n\"그렇습니다. 그건 그렇고, 저는 이 문제에 대해선 제가 직접 말씀드릴 수 있는 게 없습니다만, 제 개인적인 생각입니다. \\'총기를 소지한 자는 총을 휴대하지 않는다\\'고 하는 것은 말이 안 됩니다. 그래서 경찰이 권총을 가지고 다니지 못하도록 하고 있습니다. 그런데 문제는, 그런 일이 벌어지면 어떻게 해야 하느냐가 문제입니다, 경찰의 책임 아닙니까. 그러니, 이런 식으로 하면 우리도 가만히 있지 않을 겁니다.\\n경찰은 지금부터라도 모든 수단을 동원해서, 그리고 또 다른 범죄자들을 잡아야 합니다.\\n그래서 오늘 오후 2시'"
            ],
            "application/vnd.google.colaboratory.intrinsic+json": {
              "type": "string"
            }
          },
          "metadata": {},
          "execution_count": 49
        }
      ]
    },
    {
      "cell_type": "code",
      "source": [
        "sent = '일반 대중은 잘못된 결정을 내리는가?'\n",
        "input_ids = tokenizer.encode(sent)\n",
        "input_ids = tf.convert_to_tensor([input_ids])\n",
        "output = model.generate(input_ids,\n",
        "                        max_length=128,\n",
        "                        repetition_penalty=2.0,\n",
        "                        use_cache=True)\n",
        "output_ids = output.numpy().tolist()[0]\n",
        "tokenizer.decode(output_ids)"
      ],
      "metadata": {
        "colab": {
          "base_uri": "https://localhost:8080/",
          "height": 108
        },
        "id": "KoKTJlSuAP2P",
        "outputId": "2420c343-86f0-41a5-8e39-c545e8f342dc"
      },
      "execution_count": 50,
      "outputs": [
        {
          "output_type": "execute_result",
          "data": {
            "text/plain": [
              "'일반 대중은 잘못된 결정을 내리는가?</d> #20180712 오늘의 아침<unk>\\n오늘도 기분좋은 하루 보내세요\\n아침부터 너무너무 좋아서 오늘이 벌써 두번째 생일이라니요~^^ \\n어제보다 더 좋은 날씨에 감사합니다\\n다음주에는 또 다시 만나서 즐거운 시간 되시길 바랍니다...\\n저희집엔 항상 맛있는 음식이 가득하답니다.\\n그런데 저는 이번에 처음 먹어봤는데요.\\n맛있어서 맛있게 먹었어요.ᄒᄉᄏ;)\\n그리고 제가 좋아하는 치킨과 피자까지!\\n치즈케이크와 함께'"
            ],
            "application/vnd.google.colaboratory.intrinsic+json": {
              "type": "string"
            }
          },
          "metadata": {},
          "execution_count": 50
        }
      ]
    },
    {
      "cell_type": "code",
      "source": [
        "sent = '어떠한 이민자가 들어오든, 그들이 우리 문화에 융화되는 게 중요한가?'\n",
        "input_ids = tokenizer.encode(sent)\n",
        "input_ids = tf.convert_to_tensor([input_ids])\n",
        "output = model.generate(input_ids,\n",
        "                        max_length=128,\n",
        "                        repetition_penalty=2.0,\n",
        "                        use_cache=True)\n",
        "output_ids = output.numpy().tolist()[0]\n",
        "tokenizer.decode(output_ids)"
      ],
      "metadata": {
        "colab": {
          "base_uri": "https://localhost:8080/",
          "height": 144
        },
        "id": "GyB4P1KCATp5",
        "outputId": "a66652a7-f774-48b1-d94c-6ecba443a275"
      },
      "execution_count": 51,
      "outputs": [
        {
          "output_type": "execute_result",
          "data": {
            "text/plain": [
              "'어떠한 이민자가 들어오든, 그들이 우리 문화에 융화되는 게 중요한가?\"\\n\"그렇습니다. 하지만 그건 어디까지나 우리의 문화입니다. 우리는 우리가 문화를 통해 다른 사람들과 교류할 수 있다는 것을 의미합니다. 그리고 그것은 곧 새로운 문화의 창조를 뜻하기 때문에요. 그래서 저는 이 책을 쓰게 되었습니다만, 제가 쓴 책은 아직 출판되지 않았어요! 제게 주어진 책 한 권을 읽으면서, 또 다시 한번 생각해 보게 되네요.\\n이제부터라도 더 많은 사람들이 자신의 문화적 정체성을 찾아갈 때입니다.\\n그리고 이제부터는 더욱더 다양한 사람들의 이야기를 들어볼 기회를 갖게 될 것입니다.\\n저도 언젠가는 이런 글을 쓸 생각입니다,\\n저는'"
            ],
            "application/vnd.google.colaboratory.intrinsic+json": {
              "type": "string"
            }
          },
          "metadata": {},
          "execution_count": 51
        }
      ]
    },
    {
      "cell_type": "markdown",
      "source": [
        "그렇다 / 아니다 로 나뉘는 답변이 있는가하면\n",
        "분명 그렇다고 얘기는했는데\n",
        "애매하거나 아예 관련 없는 답변도 나옴.."
      ],
      "metadata": {
        "id": "Fl0yhzM9AsNs"
      }
    }
  ]
}