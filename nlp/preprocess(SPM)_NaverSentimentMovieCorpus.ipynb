{
  "nbformat": 4,
  "nbformat_minor": 0,
  "metadata": {
    "colab": {
      "provenance": []
    },
    "kernelspec": {
      "name": "python3",
      "display_name": "Python 3"
    },
    "language_info": {
      "name": "python"
    }
  },
  "cells": [
    {
      "cell_type": "markdown",
      "source": [
        "# 1. Naver Sentiment Movie Corpus 다운로드"
      ],
      "metadata": {
        "id": "9oWXxkUU9HFq"
      }
    },
    {
      "cell_type": "code",
      "execution_count": 1,
      "metadata": {
        "colab": {
          "base_uri": "https://localhost:8080/"
        },
        "id": "Eq1TIOUm7KxX",
        "outputId": "5a22a71c-80c4-4a15-96db-b09733b98f91"
      },
      "outputs": [
        {
          "output_type": "stream",
          "name": "stdout",
          "text": [
            "--2024-01-20 08:19:41--  https://raw.githubusercontent.com/e9t/nsmc/master/ratings_train.txt\n",
            "Resolving raw.githubusercontent.com (raw.githubusercontent.com)... 185.199.108.133, 185.199.109.133, 185.199.110.133, ...\n",
            "Connecting to raw.githubusercontent.com (raw.githubusercontent.com)|185.199.108.133|:443... connected.\n",
            "HTTP request sent, awaiting response... 200 OK\n",
            "Length: 14628807 (14M) [text/plain]\n",
            "Saving to: ‘ratings_train.txt’\n",
            "\n",
            "ratings_train.txt   100%[===================>]  13.95M  --.-KB/s    in 0.1s    \n",
            "\n",
            "2024-01-20 08:19:41 (113 MB/s) - ‘ratings_train.txt’ saved [14628807/14628807]\n",
            "\n",
            "--2024-01-20 08:19:41--  https://raw.githubusercontent.com/e9t/nsmc/master/ratings_test.txt\n",
            "Resolving raw.githubusercontent.com (raw.githubusercontent.com)... 185.199.111.133, 185.199.109.133, 185.199.110.133, ...\n",
            "Connecting to raw.githubusercontent.com (raw.githubusercontent.com)|185.199.111.133|:443... connected.\n",
            "HTTP request sent, awaiting response... 200 OK\n",
            "Length: 4893335 (4.7M) [text/plain]\n",
            "Saving to: ‘ratings_test.txt’\n",
            "\n",
            "ratings_test.txt    100%[===================>]   4.67M  --.-KB/s    in 0.08s   \n",
            "\n",
            "2024-01-20 08:19:42 (57.9 MB/s) - ‘ratings_test.txt’ saved [4893335/4893335]\n",
            "\n"
          ]
        }
      ],
      "source": [
        "! wget https://raw.githubusercontent.com/e9t/nsmc/master/ratings_train.txt\n",
        "! wget https://raw.githubusercontent.com/e9t/nsmc/master/ratings_test.txt"
      ]
    },
    {
      "cell_type": "markdown",
      "source": [
        "# 2. Vocab 로드\n",
        ": Sentencepiece를 활용해 만들어 놓은 vocab을 로드"
      ],
      "metadata": {
        "id": "lhdY8h6R9MDE"
      }
    },
    {
      "cell_type": "code",
      "source": [
        "! pip install sentencepiece"
      ],
      "metadata": {
        "colab": {
          "base_uri": "https://localhost:8080/"
        },
        "id": "PpI6tFGsCF6P",
        "outputId": "7c90657e-030c-4b9e-f13c-3bba9f17f6ad"
      },
      "execution_count": 4,
      "outputs": [
        {
          "output_type": "stream",
          "name": "stdout",
          "text": [
            "Collecting sentencepiece\n",
            "  Downloading sentencepiece-0.1.99-cp310-cp310-manylinux_2_17_x86_64.manylinux2014_x86_64.whl (1.3 MB)\n",
            "\u001b[2K     \u001b[90m━━━━━━━━━━━━━━━━━━━━━━━━━━━━━━━━━━━━━━━━\u001b[0m \u001b[32m1.3/1.3 MB\u001b[0m \u001b[31m6.9 MB/s\u001b[0m eta \u001b[36m0:00:00\u001b[0m\n",
            "\u001b[?25hInstalling collected packages: sentencepiece\n",
            "Successfully installed sentencepiece-0.1.99\n"
          ]
        }
      ]
    },
    {
      "cell_type": "code",
      "source": [
        "# vocab loading\n",
        "import sentencepiece as spm\n",
        "vocab_file = \"kowiki.model\"\n",
        "vocab = spm.SentencePieceProcessor()\n",
        "vocab.load(vocab_file)"
      ],
      "metadata": {
        "colab": {
          "base_uri": "https://localhost:8080/"
        },
        "id": "z2COmucr9CfH",
        "outputId": "01ec5645-d6e1-4fa0-9e97-325a4b2053dc"
      },
      "execution_count": 5,
      "outputs": [
        {
          "output_type": "execute_result",
          "data": {
            "text/plain": [
              "True"
            ]
          },
          "metadata": {},
          "execution_count": 5
        }
      ]
    },
    {
      "cell_type": "markdown",
      "source": [
        "# 3. 전처리\n",
        ": 다운로드한 데이터를 vocab으로 미리 tokenize해서 json형태로 저장\n",
        "(tokenize를 미리하지 않고 training시에 할 경우 처리시간이 매번 소요 되므로 이를 효과적으로 줄이기 위함)"
      ],
      "metadata": {
        "id": "1zSGcUTk9d8E"
      }
    },
    {
      "cell_type": "code",
      "source": [
        "import pandas as pd\n",
        "import json\n",
        "def prepare_train(vocab, infile, outfile):\n",
        "    df = pd.read_csv(infile, sep=\"\\t\", engine=\"python\")\n",
        "    with open(outfile, \"w\") as f:\n",
        "        for index, row in df.iterrows(): # 각 행을 순회\n",
        "            document = row[\"document\"]\n",
        "            if type(document) != str:\n",
        "                continue\n",
        "            instance = { \"id\": row[\"id\"], \"doc\": vocab.encode_as_pieces(document), \"label\": row[\"label\"] }\n",
        "                                                 # vocab.encode_as_pieces(document)를 사용하여 단어 사전에 따라 문서를 부분으로 나눔\n",
        "            # instance라는 딕셔너리를 생성하여 \"id\", \"doc\", \"label\" 키를 가지고 있음\n",
        "            f.write(json.dumps(instance))\n",
        "            f.write(\"\\n\")\n",
        "            #  JSON 형식으로 변환하여 출력 파일에 기록. 마지막에 줄 바꿈 문자(\"\\n\")을 추가하여 각 인스턴스를 새로운 줄에 저장"
      ],
      "metadata": {
        "id": "-f0E8bI39oCJ"
      },
      "execution_count": 10,
      "outputs": []
    },
    {
      "cell_type": "code",
      "source": [
        "prepare_train(vocab, \"ratings_train.txt\", \"ratings_train.json\")\n",
        "prepare_train(vocab, \"ratings_test.txt\", \"ratings_test.json\")"
      ],
      "metadata": {
        "id": "t4ECgWTr_HAD"
      },
      "execution_count": 13,
      "outputs": []
    },
    {
      "cell_type": "code",
      "source": [
        "import os\n",
        "import json\n",
        "import pandas as pd\n",
        "\n",
        "def prepare_train(vocab, infile, outfile):\n",
        "    df = pd.read_csv(infile, sep=\"\\t\", engine=\"python\")\n",
        "    output_data = []\n",
        "\n",
        "    for index, row in df.iterrows():\n",
        "        document = row[\"document\"]\n",
        "        if type(document) != str:\n",
        "            continue\n",
        "        instance = {\"id\": row[\"id\"], \"doc\": vocab.encode_as_pieces(document), \"label\": row[\"label\"]}\n",
        "        output_data.append(instance)\n",
        "\n",
        "    # Extract directory path from the full file path\n",
        "    output_directory = os.path.dirname(outfile)\n",
        "\n",
        "    try:\n",
        "        # Check if the directory exists, if not, create it\n",
        "        if not os.path.exists(output_directory):\n",
        "            os.makedirs(output_directory)\n",
        "\n",
        "        with open(outfile, \"w\", encoding=\"utf-8\") as json_file:\n",
        "            json.dump(output_data, json_file, ensure_ascii=False, indent=2)\n",
        "\n",
        "        print(f\"File '{outfile}' successfully created.\")\n",
        "    except Exception as e:\n",
        "        print(f\"Error creating file '{outfile}': {e}\")\n",
        "\n",
        "# Replace \"YOUR_LOCAL_PATH\" with the path where you want to save the files on your local machine.\n",
        "prepare_train(vocab, \"ratings_train.txt\", \"C:/Users/황의지/Downloads/ratings_train.json\")\n",
        "prepare_train(vocab, \"ratings_test.txt\", \"C:/Users/황의지/Downloads/ratings_test.json\")"
      ],
      "metadata": {
        "colab": {
          "base_uri": "https://localhost:8080/"
        },
        "id": "YtU5pwt6FoDK",
        "outputId": "6bac465d-3eb5-4f1e-d7b9-1530b66d377a"
      },
      "execution_count": 16,
      "outputs": [
        {
          "output_type": "stream",
          "name": "stdout",
          "text": [
            "File 'C:/Users/황의지/Downloads/ratings_train.json' successfully created.\n",
            "File 'C:/Users/황의지/Downloads/ratings_test.json' successfully created.\n"
          ]
        }
      ]
    },
    {
      "cell_type": "markdown",
      "source": [
        "colab > 로컬에 직접 다운로드"
      ],
      "metadata": {
        "id": "5wgrcEK0ID8q"
      }
    },
    {
      "cell_type": "code",
      "source": [
        "from google.colab import files\n",
        "\n",
        "# Replace \"ratings_train.json\" and \"ratings_test.json\" with the actual file names you want to download\n",
        "files.download(\"C:/Users/황의지/Desktop/ratings_train.json\")\n",
        "files.download(\"C:/Users/황의지/Desktop/ratings_test.json\")"
      ],
      "metadata": {
        "colab": {
          "base_uri": "https://localhost:8080/",
          "height": 34
        },
        "id": "z-H6hZEAICI4",
        "outputId": "5d46b25d-20e2-46a5-f71e-9a9e4c42f3e6"
      },
      "execution_count": 17,
      "outputs": [
        {
          "output_type": "display_data",
          "data": {
            "text/plain": [
              "<IPython.core.display.Javascript object>"
            ],
            "application/javascript": [
              "\n",
              "    async function download(id, filename, size) {\n",
              "      if (!google.colab.kernel.accessAllowed) {\n",
              "        return;\n",
              "      }\n",
              "      const div = document.createElement('div');\n",
              "      const label = document.createElement('label');\n",
              "      label.textContent = `Downloading \"${filename}\": `;\n",
              "      div.appendChild(label);\n",
              "      const progress = document.createElement('progress');\n",
              "      progress.max = size;\n",
              "      div.appendChild(progress);\n",
              "      document.body.appendChild(div);\n",
              "\n",
              "      const buffers = [];\n",
              "      let downloaded = 0;\n",
              "\n",
              "      const channel = await google.colab.kernel.comms.open(id);\n",
              "      // Send a message to notify the kernel that we're ready.\n",
              "      channel.send({})\n",
              "\n",
              "      for await (const message of channel.messages) {\n",
              "        // Send a message to notify the kernel that we're ready.\n",
              "        channel.send({})\n",
              "        if (message.buffers) {\n",
              "          for (const buffer of message.buffers) {\n",
              "            buffers.push(buffer);\n",
              "            downloaded += buffer.byteLength;\n",
              "            progress.value = downloaded;\n",
              "          }\n",
              "        }\n",
              "      }\n",
              "      const blob = new Blob(buffers, {type: 'application/binary'});\n",
              "      const a = document.createElement('a');\n",
              "      a.href = window.URL.createObjectURL(blob);\n",
              "      a.download = filename;\n",
              "      div.appendChild(a);\n",
              "      a.click();\n",
              "      div.remove();\n",
              "    }\n",
              "  "
            ]
          },
          "metadata": {}
        },
        {
          "output_type": "display_data",
          "data": {
            "text/plain": [
              "<IPython.core.display.Javascript object>"
            ],
            "application/javascript": [
              "download(\"download_67ee1750-d171-4f8c-b5eb-b7c7deaa9caa\", \"ratings_train.json\", 59814744)"
            ]
          },
          "metadata": {}
        },
        {
          "output_type": "display_data",
          "data": {
            "text/plain": [
              "<IPython.core.display.Javascript object>"
            ],
            "application/javascript": [
              "\n",
              "    async function download(id, filename, size) {\n",
              "      if (!google.colab.kernel.accessAllowed) {\n",
              "        return;\n",
              "      }\n",
              "      const div = document.createElement('div');\n",
              "      const label = document.createElement('label');\n",
              "      label.textContent = `Downloading \"${filename}\": `;\n",
              "      div.appendChild(label);\n",
              "      const progress = document.createElement('progress');\n",
              "      progress.max = size;\n",
              "      div.appendChild(progress);\n",
              "      document.body.appendChild(div);\n",
              "\n",
              "      const buffers = [];\n",
              "      let downloaded = 0;\n",
              "\n",
              "      const channel = await google.colab.kernel.comms.open(id);\n",
              "      // Send a message to notify the kernel that we're ready.\n",
              "      channel.send({})\n",
              "\n",
              "      for await (const message of channel.messages) {\n",
              "        // Send a message to notify the kernel that we're ready.\n",
              "        channel.send({})\n",
              "        if (message.buffers) {\n",
              "          for (const buffer of message.buffers) {\n",
              "            buffers.push(buffer);\n",
              "            downloaded += buffer.byteLength;\n",
              "            progress.value = downloaded;\n",
              "          }\n",
              "        }\n",
              "      }\n",
              "      const blob = new Blob(buffers, {type: 'application/binary'});\n",
              "      const a = document.createElement('a');\n",
              "      a.href = window.URL.createObjectURL(blob);\n",
              "      a.download = filename;\n",
              "      div.appendChild(a);\n",
              "      a.click();\n",
              "      div.remove();\n",
              "    }\n",
              "  "
            ]
          },
          "metadata": {}
        },
        {
          "output_type": "display_data",
          "data": {
            "text/plain": [
              "<IPython.core.display.Javascript object>"
            ],
            "application/javascript": [
              "download(\"download_1343522b-5e05-4b64-ac36-b24ce7e3b313\", \"ratings_test.json\", 19985032)"
            ]
          },
          "metadata": {}
        }
      ]
    }
  ]
}