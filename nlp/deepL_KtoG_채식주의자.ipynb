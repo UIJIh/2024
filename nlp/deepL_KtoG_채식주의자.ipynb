{
 "cells": [
  {
   "cell_type": "code",
   "execution_count": 43,
   "metadata": {
    "id": "fdHqha8VUpEd"
   },
   "outputs": [
    {
     "name": "stdout",
     "output_type": "stream",
     "text": [
      "read Text Len:  94\n",
      "Data has been saved to 채식주의자_1_de_deepl.txt\n",
      "read Text Len:  19\n",
      "Data has been saved to 채식주의자_2_de_deepl.txt\n",
      "read Text Len:  54\n",
      "Data has been saved to 채식주의자_3_de_deepl.txt\n"
     ]
    }
   ],
   "source": [
    "import deepl\n",
    "import re\n",
    "\n",
    "def listToString(str_list):\n",
    "    result = \"\"\n",
    "    for s in str_list:\n",
    "        result += s + \" \"\n",
    "    return result.strip()\n",
    "\n",
    "def read_file(pth):\n",
    "    with open(pth, 'r', encoding='utf-8') as f:\n",
    "        resultBuffer = []\n",
    "        buffer = f.readlines()\n",
    "        for line in buffer:\n",
    "            if line == '\\n':\n",
    "                continue\n",
    "            text = line.replace('\\n', '')\n",
    "            resultBuffer.append(text)\n",
    "        print(\"read Text Len: \", len(resultBuffer))\n",
    "        original = listToString(resultBuffer)\n",
    "    return original\n",
    "\n",
    "def save_file(pth, result):\n",
    "    def postprocessing(text):\n",
    "        sentences = re.split(r'(?<=[.!?])\\s+', text)\n",
    "        paragraphs = \"\\n\\n\".join(sentences)\n",
    "        return paragraphs\n",
    "    pro_result = postprocessing(result)\n",
    "    with open(pth, 'w', encoding='utf-8') as file:\n",
    "        file.write(pro_result)\n",
    "    print(\"Data has been saved to\", pth)\n",
    "\n",
    "def deepl_trans(ori_text):\n",
    "    auth_key = \"914827b6-e548-49f8-a871-ab80580c0808:fx\" \n",
    "    translator = deepl.Translator(auth_key)\n",
    "    result = translator.translate_text(ori_text, target_lang=\"DE\")\n",
    "    return result.text  \n",
    "\n",
    "def main():\n",
    "    original_path = ['채식주의자1(원본).txt', '채식주의자2(원본).txt', '채식주의자3(원본).txt']\n",
    "    for i, pth in enumerate(original_path):\n",
    "        original_text = read_file(pth)\n",
    "        targeted_text = deepl_trans(original_text)\n",
    "        save_file(f'채식주의자_{i+1}_de_deepl.txt', targeted_text)\n",
    "            \n",
    "if __name__ == \"__main__\":\n",
    "    main()"
   ]
  },
  {
   "cell_type": "code",
   "execution_count": 44,
   "metadata": {},
   "outputs": [
    {
     "data": {
      "text/plain": [
       "167"
      ]
     },
     "execution_count": 44,
     "metadata": {},
     "output_type": "execute_result"
    }
   ],
   "source": [
    "# 94 + 19 + 54 = 총 167\n",
    "94 + 19 + 54"
   ]
  }
 ],
 "metadata": {
  "accelerator": "GPU",
  "colab": {
   "gpuType": "T4",
   "provenance": []
  },
  "kernelspec": {
   "display_name": "Python 3 (ipykernel)",
   "language": "python",
   "name": "python3"
  },
  "language_info": {
   "codemirror_mode": {
    "name": "ipython",
    "version": 3
   },
   "file_extension": ".py",
   "mimetype": "text/x-python",
   "name": "python",
   "nbconvert_exporter": "python",
   "pygments_lexer": "ipython3",
   "version": "3.9.13"
  }
 },
 "nbformat": 4,
 "nbformat_minor": 4
}
