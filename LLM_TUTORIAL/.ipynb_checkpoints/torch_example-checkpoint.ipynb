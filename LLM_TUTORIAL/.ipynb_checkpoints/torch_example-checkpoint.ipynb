{
 "cells": [
  {
   "cell_type": "code",
   "execution_count": 1,
   "id": "b98fee4f-a690-4531-ad7c-16924baf1f8e",
   "metadata": {},
   "outputs": [
    {
     "name": "stdout",
     "output_type": "stream",
     "text": [
      "tensor([ 88, -18, -21, -46, -69,  73])\n"
     ]
    }
   ],
   "source": [
    "import torch\n",
    "randint = torch.randint(-100, 100, (6,))\n",
    "print(randint)"
   ]
  },
  {
   "cell_type": "code",
   "execution_count": 3,
   "id": "01858696-293d-4020-a78a-e1888cff934f",
   "metadata": {},
   "outputs": [
    {
     "name": "stdout",
     "output_type": "stream",
     "text": [
      "tensor([[0.1000, 1.2000],\n",
      "        [2.2000, 3.1000],\n",
      "        [4.9000, 5.2000]])\n"
     ]
    }
   ],
   "source": [
    "tensor = torch.tensor([[0.1, 1.2], [2.2, 3.1], [4.9, 5.2]])\n",
    "print(tensor)"
   ]
  },
  {
   "cell_type": "code",
   "execution_count": 4,
   "id": "6060ee2d-29c9-4fc9-80fe-64f377c477a3",
   "metadata": {},
   "outputs": [
    {
     "name": "stdout",
     "output_type": "stream",
     "text": [
      "tensor([[0., 0., 0.],\n",
      "        [0., 0., 0.]])\n"
     ]
    }
   ],
   "source": [
    "zeros = torch.zeros(2, 3)\n",
    "print(zeros)"
   ]
  },
  {
   "cell_type": "code",
   "execution_count": 5,
   "id": "f40442df-1d4e-4e04-bd61-909580112a84",
   "metadata": {},
   "outputs": [
    {
     "name": "stdout",
     "output_type": "stream",
     "text": [
      "tensor([[1., 1., 1.],\n",
      "        [1., 1., 1.]])\n"
     ]
    }
   ],
   "source": [
    "ones = torch.ones(2, 3)\n",
    "print(ones)"
   ]
  },
  {
   "cell_type": "code",
   "execution_count": 6,
   "id": "e25af3cc-16ad-479d-89c1-69c7dcf7542f",
   "metadata": {},
   "outputs": [
    {
     "name": "stdout",
     "output_type": "stream",
     "text": [
      "tensor([[1.9517e-35, 0.0000e+00, 1.9217e-35],\n",
      "        [0.0000e+00, 1.1210e-43, 0.0000e+00]])\n"
     ]
    }
   ],
   "source": [
    "input = torch.empty(2, 3)\n",
    "print(input) # 쓰레기 값"
   ]
  },
  {
   "cell_type": "code",
   "execution_count": 7,
   "id": "4c36516f-dc81-41b9-92c1-894934fc0283",
   "metadata": {},
   "outputs": [
    {
     "name": "stdout",
     "output_type": "stream",
     "text": [
      "<class 'torch.Tensor'>\n"
     ]
    }
   ],
   "source": [
    "print(type(input[0]))"
   ]
  },
  {
   "cell_type": "code",
   "execution_count": 9,
   "id": "ff04f61e-e52f-40c6-b935-d013ac7c58a2",
   "metadata": {},
   "outputs": [
    {
     "data": {
      "text/plain": [
       "tensor([0, 1, 2, 3, 4])"
      ]
     },
     "execution_count": 9,
     "metadata": {},
     "output_type": "execute_result"
    }
   ],
   "source": [
    "arange = torch.arange(5)\n",
    "arange"
   ]
  },
  {
   "cell_type": "code",
   "execution_count": 12,
   "id": "388394b5-f7f0-4403-8537-4ce48cbd2715",
   "metadata": {},
   "outputs": [
    {
     "name": "stdout",
     "output_type": "stream",
     "text": [
      "tensor([ 3.0000,  4.7500,  6.5000,  8.2500, 10.0000])\n"
     ]
    }
   ],
   "source": [
    "linspace = torch.linspace(3, 10, steps=5)\n",
    "print(linspace)"
   ]
  },
  {
   "cell_type": "code",
   "execution_count": 17,
   "id": "aae13bad-1bef-4ae7-9589-bb1281286030",
   "metadata": {},
   "outputs": [
    {
     "name": "stdout",
     "output_type": "stream",
     "text": [
      "[3 8]\n"
     ]
    }
   ],
   "source": [
    "import numpy as np\n",
    "print(np.arange(3, 10, 5))"
   ]
  },
  {
   "cell_type": "code",
   "execution_count": 20,
   "id": "bac539e4-9e5e-424e-8857-cf01d4b7a594",
   "metadata": {},
   "outputs": [
    {
     "name": "stdout",
     "output_type": "stream",
     "text": [
      "tensor([1.0000e-10, 1.0000e-05, 1.0000e+00, 1.0000e+05, 1.0000e+10])\n"
     ]
    }
   ],
   "source": [
    "logspace = torch.logspace(start=-10, end=10, steps=5)\n",
    "print(logspace)"
   ]
  },
  {
   "cell_type": "code",
   "execution_count": 23,
   "id": "eb68596c-f900-4684-b279-bb8383f97474",
   "metadata": {},
   "outputs": [
    {
     "name": "stdout",
     "output_type": "stream",
     "text": [
      "tensor([[1., 0., 0., 0., 0.],\n",
      "        [0., 1., 0., 0., 0.],\n",
      "        [0., 0., 1., 0., 0.],\n",
      "        [0., 0., 0., 1., 0.],\n",
      "        [0., 0., 0., 0., 1.]])\n"
     ]
    }
   ],
   "source": [
    "eye = torch.eye(5) # diagonal line 5x5\n",
    "print(eye)"
   ]
  },
  {
   "cell_type": "code",
   "execution_count": 30,
   "id": "fdb97a70-b2dc-4459-8599-f2117dd741f3",
   "metadata": {},
   "outputs": [
    {
     "data": {
      "text/plain": [
       "tensor([[           97230477, 4607182418800017408, 4607182418800017408],\n",
       "        [4607182418800017408,                  80,                  80]])"
      ]
     },
     "execution_count": 30,
     "metadata": {},
     "output_type": "execute_result"
    }
   ],
   "source": [
    "a = torch.empty((2, 3), dtype=torch.int64)\n",
    "a\n",
    "empty_like = torch.empty_like(a)\n",
    "empty_like"
   ]
  },
  {
   "cell_type": "code",
   "execution_count": 34,
   "id": "95d93c81-7f5a-4c68-94fc-da80a5e482a5",
   "metadata": {},
   "outputs": [
    {
     "name": "stdout",
     "output_type": "stream",
     "text": [
      " 0.00060272\n"
     ]
    }
   ],
   "source": [
    "import time\n",
    "import numpy as np\n",
    "start_time = time.time()\n",
    "zeros = torch.zeros(1, 1)\n",
    "end_time = time.time()\n",
    "\n",
    "elapsed_time = end_time - start_time\n",
    "print(f\"{elapsed_time : .8f}\")"
   ]
  },
  {
   "cell_type": "markdown",
   "id": "f33680ba-240a-4630-8f37-4c66f4a2a94c",
   "metadata": {},
   "source": [
    "# 큰 dimension에서 computation은 gpu 가 훨씬 빨랐다 (gpu & torch) 근데 2dim matrix computation은 그냥 cpu 와 numpy가 빨랐다"
   ]
  },
  {
   "cell_type": "code",
   "execution_count": 44,
   "id": "cbde7e9d-5731-43c8-9f6b-5e13b0c7fa11",
   "metadata": {},
   "outputs": [
    {
     "name": "stdout",
     "output_type": "stream",
     "text": [
      "tensor([1, 1, 1, 1, 1, 1, 1, 1, 1, 1])\n",
      "tensor([0, 0, 1, 1, 1, 1, 1, 1, 1, 1, 1, 1, 0, 1, 0, 0, 1, 1, 1, 1, 1, 1, 1, 1,\n",
      "        1, 0, 1, 1, 1, 1, 1, 1, 1, 1, 0, 1, 1, 1, 1, 1, 0, 1, 1, 1, 0, 1, 1, 1,\n",
      "        1, 1, 1, 1, 0, 1, 1, 1, 1, 1, 1, 1, 1, 1, 0, 1, 1, 1, 1, 1, 1, 1, 1, 0,\n",
      "        1, 1, 1, 1, 1, 1, 0, 1, 1, 1, 1, 0, 1, 1, 1, 1, 1, 1, 1, 1, 1, 1, 1, 1,\n",
      "        1, 1, 1, 1])\n"
     ]
    }
   ],
   "source": [
    "probabilities = torch.tensor([0.1, 0.9]) # 0(인덱스가0임)이 나올 확률은 10퍼, 1(인덱스가1임)이 나올 확률은 90퍼\n",
    "samples = torch.multinomial(probabilities, num_samples=10, replacement=True)\n",
    "print(samples)\n",
    "samples = torch.multinomial(probabilities, num_samples=100, replacement=True)\n",
    "print(samples)"
   ]
  },
  {
   "cell_type": "code",
   "execution_count": 51,
   "id": "63b8ef14-4708-453a-b828-acd34e4fd034",
   "metadata": {},
   "outputs": [
    {
     "data": {
      "text/plain": [
       "tensor([1, 2, 4, 3, 5])"
      ]
     },
     "execution_count": 51,
     "metadata": {},
     "output_type": "execute_result"
    }
   ],
   "source": [
    "tensor = torch.tensor([1, 2, 4, 3])\n",
    "out = torch.cat((tensor, torch.tensor([5])), dim=0)\n",
    "out"
   ]
  },
  {
   "cell_type": "code",
   "execution_count": 53,
   "id": "40c4e98a-488c-4f90-972c-1db20df7a1fc",
   "metadata": {},
   "outputs": [
    {
     "data": {
      "text/plain": [
       "tensor([[1., 0., 0., 0., 0.],\n",
       "        [1., 1., 0., 0., 0.],\n",
       "        [1., 1., 1., 0., 0.],\n",
       "        [1., 1., 1., 1., 0.],\n",
       "        [1., 1., 1., 1., 1.]])"
      ]
     },
     "execution_count": 53,
     "metadata": {},
     "output_type": "execute_result"
    }
   ],
   "source": [
    "out = torch.tril(torch.ones(5, 5)) # triangle lower\n",
    "out"
   ]
  },
  {
   "cell_type": "code",
   "execution_count": 54,
   "id": "e00c44f5-1554-4e91-94bd-9ab76c1e8d4e",
   "metadata": {},
   "outputs": [
    {
     "data": {
      "text/plain": [
       "tensor([[1., 1., 1., 1., 1.],\n",
       "        [0., 1., 1., 1., 1.],\n",
       "        [0., 0., 1., 1., 1.],\n",
       "        [0., 0., 0., 1., 1.],\n",
       "        [0., 0., 0., 0., 1.]])"
      ]
     },
     "execution_count": 54,
     "metadata": {},
     "output_type": "execute_result"
    }
   ],
   "source": [
    "out = torch.triu(torch.ones(5, 5)) # triangle\n",
    "out"
   ]
  },
  {
   "cell_type": "code",
   "execution_count": 57,
   "id": "031f8e5e-37b3-47f1-b9e3-62a98b02ca68",
   "metadata": {},
   "outputs": [
    {
     "data": {
      "text/plain": [
       "tensor([[0., -inf, -inf, -inf, -inf],\n",
       "        [0., 0., -inf, -inf, -inf],\n",
       "        [0., 0., 0., -inf, -inf],\n",
       "        [0., 0., 0., 0., -inf],\n",
       "        [0., 0., 0., 0., 0.]])"
      ]
     },
     "execution_count": 57,
     "metadata": {},
     "output_type": "execute_result"
    }
   ],
   "source": [
    "out = torch.zeros(5, 5).masked_fill(torch.tril(torch.ones(5, 5)) == 0, float('-inf')) # tril 이거 본래 텐서랑 사이즈 맞춰야댐\n",
    "out"
   ]
  },
  {
   "cell_type": "code",
   "execution_count": 58,
   "id": "f38542cc-8ee9-46fc-9c22-439db0e333d2",
   "metadata": {},
   "outputs": [
    {
     "data": {
      "text/plain": [
       "tensor([[1., 0., 0., 0., 0.],\n",
       "        [1., 1., 0., 0., 0.],\n",
       "        [1., 1., 1., 0., 0.],\n",
       "        [1., 1., 1., 1., 0.],\n",
       "        [1., 1., 1., 1., 1.]])"
      ]
     },
     "execution_count": 58,
     "metadata": {},
     "output_type": "execute_result"
    }
   ],
   "source": [
    "torch.exp(out)"
   ]
  },
  {
   "cell_type": "code",
   "execution_count": 64,
   "id": "ef27a09d-bf4f-4fbd-b101-3b9c37f2a8af",
   "metadata": {},
   "outputs": [
    {
     "name": "stdout",
     "output_type": "stream",
     "text": [
      "tensor([[[0., 0., 0., 0.],\n",
      "         [0., 0., 0., 0.],\n",
      "         [0., 0., 0., 0.]],\n",
      "\n",
      "        [[0., 0., 0., 0.],\n",
      "         [0., 0., 0., 0.],\n",
      "         [0., 0., 0., 0.]]])\n",
      "torch.Size([3, 2, 4]) torch.Size([2, 3, 4])\n",
      "tensor([[[0., 0., 0., 0.],\n",
      "         [0., 0., 0., 0.]],\n",
      "\n",
      "        [[0., 0., 0., 0.],\n",
      "         [0., 0., 0., 0.]],\n",
      "\n",
      "        [[0., 0., 0., 0.],\n",
      "         [0., 0., 0., 0.]]])\n",
      "torch.Size([2, 4, 3])\n",
      "tensor([[[0., 0., 0.],\n",
      "         [0., 0., 0.],\n",
      "         [0., 0., 0.],\n",
      "         [0., 0., 0.]],\n",
      "\n",
      "        [[0., 0., 0.],\n",
      "         [0., 0., 0.],\n",
      "         [0., 0., 0.],\n",
      "         [0., 0., 0.]]])\n"
     ]
    }
   ],
   "source": [
    "input = torch.zeros(2, 3, 4)\n",
    "print(input)\n",
    "out1 = input.transpose(0, 1) # not permanently changed\n",
    "out2 = input.transpose(-2,-1)\n",
    "print(out1.shape, input.shape)\n",
    "print(out1)\n",
    "print(out2.shape)\n",
    "print(out2)"
   ]
  },
  {
   "cell_type": "code",
   "execution_count": 67,
   "id": "7d4e3c05-acee-46a7-9b94-3115409fbd9a",
   "metadata": {},
   "outputs": [
    {
     "data": {
      "text/plain": [
       "torch.Size([3, 3])"
      ]
     },
     "execution_count": 67,
     "metadata": {},
     "output_type": "execute_result"
    }
   ],
   "source": [
    "tensor1 = torch.tensor([1, 2, 3])\n",
    "tensor2 = torch.tensor([4, 5, 6])\n",
    "tensor3 = torch.tensor([7, 8, 9])\n",
    "stacked_tensor = torch.stack([tensor1, tensor2, tensor3]) # 2d\n",
    "stacked_tensor.shape"
   ]
  },
  {
   "cell_type": "markdown",
   "id": "41d0c5cc-af4f-4140-a5dd-be9e9db1cd97",
   "metadata": {},
   "source": [
    "# nn. 모듈! : Neural Network, layer 정의하기 좋음\n",
    "## nn.Linear 입력크기, 출력크기, 그리고 w와 b는 랜덤 초기화\n",
    "- linear transformation : Wx + b = y\n",
    "## nn.ReLU ..."
   ]
  },
  {
   "cell_type": "code",
   "execution_count": 72,
   "id": "8df680af-244d-421c-81b3-b84b1e62374e",
   "metadata": {},
   "outputs": [
    {
     "name": "stdout",
     "output_type": "stream",
     "text": [
      "tensor([ 4.9288, -4.3931,  4.1598], grad_fn=<SqueezeBackward4>)\n",
      "tensor([-9.2484,  9.5640, -7.6340], grad_fn=<ViewBackward0>)\n"
     ]
    }
   ],
   "source": [
    "import torch.nn as nn\n",
    "sample = torch.tensor([10., 10., 10.])\n",
    "linear = nn.Linear(3, 3, bias=False) # 입력 크기가 3이고, 출력 크기가 3이다\n",
    "print(linear(sample))\n",
    "linear = nn.Linear(3, 3, bias=True)\n",
    "print(linear(sample))"
   ]
  },
  {
   "cell_type": "code",
   "execution_count": 76,
   "id": "c6862375-87a7-44ac-bbbe-f9a3d3ba6f0b",
   "metadata": {},
   "outputs": [
    {
     "name": "stdout",
     "output_type": "stream",
     "text": [
      "tensor([0.0900, 0.2447, 0.6652])\n"
     ]
    }
   ],
   "source": [
    "import torch.nn.functional as F\n",
    "\n",
    "tensor1 = torch.tensor([1.0, 2.0, 3.0])\n",
    "softmax_output = F.softmax(tensor1, dim=0)\n",
    "print(softmax_output)"
   ]
  },
  {
   "cell_type": "markdown",
   "id": "54d334e4-01be-4551-900e-a7afebba457a",
   "metadata": {},
   "source": [
    "# nn.Embedding"
   ]
  },
  {
   "cell_type": "code",
   "execution_count": 79,
   "id": "bbbc5ad5-795d-43a4-bacb-bd83e1120f93",
   "metadata": {},
   "outputs": [
    {
     "name": "stdout",
     "output_type": "stream",
     "text": [
      "torch.Size([4, 100])\n",
      "tensor([[ 2.0761e-01, -2.3111e+00, -9.1608e-01,  5.8788e-01, -1.6332e-01,\n",
      "         -1.1402e+00,  7.1564e-01,  7.1582e-01,  1.6605e+00, -7.9099e-01,\n",
      "         -1.2505e-01, -4.3254e-01,  3.4440e-01,  1.1210e+00,  9.4205e-01,\n",
      "          5.3983e-01,  4.3024e-02, -4.1719e-01,  1.5813e-01,  1.2493e+00,\n",
      "         -1.2392e-01,  7.8872e-03,  8.9527e-01,  1.5414e+00,  9.5745e-03,\n",
      "         -4.9718e-01,  1.2978e+00,  1.3516e+00, -4.2321e-01,  1.5381e-01,\n",
      "          1.2117e+00,  8.6493e-01,  1.0939e+00, -1.2101e+00,  7.2536e-01,\n",
      "         -4.6364e-01, -7.3368e-01,  1.3264e-01,  3.5305e-01, -3.0791e-01,\n",
      "         -5.9880e-01, -5.1800e-01,  7.9805e-01, -4.7843e-01, -1.2126e+00,\n",
      "         -9.5502e-02,  7.3765e-01,  7.1311e-02,  1.6763e+00,  7.3561e-01,\n",
      "         -1.4333e+00, -1.7001e-01, -1.4381e+00, -3.3857e-01,  1.8230e-02,\n",
      "          1.5018e-01, -3.8878e-01,  5.2012e-01, -3.7651e-01,  2.2256e-01,\n",
      "         -4.6215e-01, -1.2404e+00,  6.1032e-01, -1.2789e-01,  4.7300e-01,\n",
      "         -1.7420e+00,  1.4222e-01,  6.5143e-01, -2.3422e-02,  7.1411e-01,\n",
      "          1.3907e-01,  2.3612e+00, -4.6840e-01, -7.4237e-01,  2.8236e-01,\n",
      "         -2.2478e-02, -6.8066e-01,  9.0406e-01,  4.3441e-01, -1.8869e+00,\n",
      "          1.1066e+00, -1.0149e+00,  6.7382e-01,  2.3555e-01,  1.6868e+00,\n",
      "          1.1138e+00, -3.5014e-01, -1.2620e+00, -9.9885e-01, -1.9231e+00,\n",
      "          7.4033e-01, -7.6477e-01,  6.7854e-01, -5.1208e-01,  2.5183e-01,\n",
      "         -1.0442e+00, -6.0795e-01,  5.0355e-01, -2.1811e-01, -1.1358e+00],\n",
      "        [-1.0339e-01, -1.1922e+00,  1.0042e+00, -3.1744e-01,  1.4725e+00,\n",
      "         -2.2110e-01, -1.6784e+00, -9.9936e-01,  8.4574e-01,  3.3570e-01,\n",
      "         -1.4872e-01,  1.5337e+00, -1.3963e+00, -1.0177e+00, -5.8978e-01,\n",
      "         -4.6342e-01,  1.6875e+00, -5.9175e-01, -8.7132e-01, -3.9010e-01,\n",
      "         -1.7727e-02,  1.9112e+00, -7.4841e-01,  6.8046e-01,  6.3944e-01,\n",
      "          1.2894e+00,  5.9335e-01,  4.2201e-01,  4.4088e-01,  6.7420e-01,\n",
      "          4.7253e-01,  1.7977e-01,  5.1218e-01, -3.4926e-02, -3.8761e-01,\n",
      "          1.0005e+00, -2.5584e-01, -1.6705e+00, -1.1807e+00,  1.8788e-01,\n",
      "          1.1187e+00, -4.4064e-01,  5.0604e-01, -6.7055e-02, -4.2429e-01,\n",
      "         -1.9108e-01,  8.3479e-01, -1.4962e+00,  1.6669e+00,  1.7567e+00,\n",
      "         -2.1379e-01,  8.4717e-01, -5.2305e-01,  1.5295e+00,  2.5311e-01,\n",
      "         -5.9316e-02, -1.6882e-01,  4.4947e-02,  5.7890e-01,  5.7563e-01,\n",
      "          2.0399e-01,  3.9924e-01,  1.0424e+00, -4.7525e-01,  4.7571e-01,\n",
      "         -1.6680e+00, -8.5735e-01, -5.8117e-01, -5.5072e-01,  2.7966e-02,\n",
      "         -3.4373e-01, -5.8867e-01, -2.5241e+00, -1.6306e-01,  8.1475e-01,\n",
      "         -1.2694e+00,  6.4047e-01,  6.0803e-01, -7.0934e-01,  9.7848e-01,\n",
      "         -5.6902e-01, -7.9379e-03,  1.7741e-02, -4.0822e-01,  1.7088e+00,\n",
      "         -6.7625e-01,  9.9982e-01,  3.7427e-01, -9.7755e-01, -1.0530e-01,\n",
      "         -2.6787e-01,  1.9765e-02,  5.3963e-01, -6.0386e-01, -2.6585e-01,\n",
      "          8.8819e-01,  1.5917e+00, -1.5209e+00,  2.2696e+00, -3.8113e-01],\n",
      "        [-3.1079e-01, -2.2000e+00, -1.1144e+00, -4.6983e-01, -1.3600e+00,\n",
      "         -7.9535e-01,  1.4370e+00, -2.6909e-01, -1.3423e-01,  1.1006e+00,\n",
      "          1.6829e+00,  1.0147e+00, -2.9514e-01,  1.5551e+00,  2.4280e+00,\n",
      "         -8.6507e-01,  4.4716e-01, -2.3649e+00,  2.2422e+00,  1.8605e-01,\n",
      "         -1.7160e-01,  8.9338e-01, -7.3946e-01, -8.0203e-01,  7.1337e-01,\n",
      "          2.4557e-01, -1.2173e+00, -1.9572e+00,  1.4197e-02,  6.4968e-01,\n",
      "          7.2478e-01, -3.0534e-01,  1.3658e+00,  1.8693e-01,  2.3647e-02,\n",
      "          8.1730e-01, -3.6211e-01, -1.5444e+00,  1.6142e+00, -6.3509e-01,\n",
      "         -8.4078e-01, -1.5930e-01, -8.7985e-02,  1.1620e+00, -1.0124e+00,\n",
      "         -3.1511e-01, -7.6936e-01, -4.4306e-01, -1.7727e-01, -8.5856e-01,\n",
      "          1.4384e+00,  8.2537e-01, -4.0445e-01,  4.9294e-01, -7.4333e-02,\n",
      "         -8.3690e-01, -6.0324e-01,  3.4365e-01,  1.0333e+00,  9.2914e-01,\n",
      "          1.5555e+00,  1.5444e-01,  3.0446e-01,  4.8926e-01, -3.9977e-01,\n",
      "          5.7936e-01,  3.0406e-03,  6.9410e-01,  3.0208e-01,  9.1825e-01,\n",
      "          3.3666e-01,  5.9305e-01, -2.1659e-01,  7.3489e-01, -1.9088e+00,\n",
      "         -2.7454e-01, -6.6077e-01,  4.5325e-04, -1.4792e-01,  1.5402e+00,\n",
      "          4.9016e-01,  6.4887e-01,  1.1180e+00, -1.2038e-01, -1.3253e+00,\n",
      "          1.2960e+00, -2.0490e+00, -1.1666e+00,  3.1146e+00, -3.5504e-01,\n",
      "          9.3342e-01, -1.5149e+00,  1.1512e+00, -9.9804e-01,  2.1829e-01,\n",
      "         -1.4547e+00, -1.9082e+00,  1.9296e-01, -1.6741e+00,  8.9020e-01],\n",
      "        [ 6.4210e-01,  4.7814e-01, -8.8291e-01, -7.5406e-01,  4.1974e-01,\n",
      "          1.2135e+00, -2.1117e-01, -3.5198e-01,  3.7290e-01, -1.1288e+00,\n",
      "         -8.5578e-01,  2.9697e-02, -1.3199e+00, -6.9119e-01,  6.8004e-01,\n",
      "          5.5203e-01, -4.7663e-01, -1.1424e+00, -7.1388e-01,  2.1706e-01,\n",
      "         -6.3411e-01, -6.0226e-01, -8.6522e-01,  3.5076e-01,  1.9053e-01,\n",
      "          3.8372e-01,  3.9591e-01, -6.9413e-01,  1.0633e+00, -1.7364e+00,\n",
      "          1.7900e+00,  1.3310e+00,  8.5649e-01, -3.1742e-01,  1.7815e+00,\n",
      "          2.4865e-02,  2.4939e-01,  1.2394e+00, -2.3390e+00,  8.4046e-01,\n",
      "         -6.4430e-01,  9.0060e-01,  7.9278e-01, -2.7071e-01, -1.7266e+00,\n",
      "          9.8425e-01, -2.2688e-01,  1.7473e+00, -9.9260e-01, -1.1176e-01,\n",
      "          1.6134e+00, -1.7097e+00, -2.0248e-01, -5.6781e-01, -4.1877e-02,\n",
      "         -2.3511e-01,  2.4265e-01, -1.2665e-01,  5.4749e-01,  1.5295e+00,\n",
      "          1.1674e+00,  2.4016e-01,  9.1008e-01,  4.4899e-01, -2.2267e+00,\n",
      "          4.3078e-01,  9.3536e-02,  1.0461e+00, -1.5152e+00, -1.4931e-01,\n",
      "          1.5860e-01, -9.4190e-02, -8.2949e-01,  6.8723e-01, -9.4245e-01,\n",
      "          5.2590e-01,  5.9491e-01, -1.4965e-01, -1.0989e+00, -9.0837e-01,\n",
      "         -8.4070e-02,  5.3539e-01, -1.5580e+00,  1.1241e+00, -2.2542e+00,\n",
      "          1.3409e+00,  6.8640e-01,  1.3846e+00, -6.3301e-01, -1.2143e+00,\n",
      "         -3.8798e-01, -1.2703e+00,  7.4116e-01,  1.2163e+00, -1.5832e+00,\n",
      "          7.2424e-01, -1.2170e+00, -9.0601e-02, -7.4344e-01, -5.6107e-01]],\n",
      "       grad_fn=<EmbeddingBackward0>)\n"
     ]
    }
   ],
   "source": [
    "# Initialize an embedding layer\n",
    "vocab_size = 1000\n",
    "embedding_dim = 100\n",
    "embedding = nn.Embedding(vocab_size, embedding_dim)\n",
    "\n",
    "# Create some input indices\n",
    "input_indices = torch.LongTensor([1, 5, 3, 2]) # LongTensro은 int \n",
    "\n",
    "# Apply the embedding layer\n",
    "embedded_output = embedding(input_indices) # 그니까 1000개 vocab 중에 1, 5, 3, 2 인덱싱 애들만 추출한단 것\n",
    "\n",
    "# The output will be a tensor of shape (4, 100), where 4 is the number of inputs\n",
    "# and 100 is the dimensionality of the embedding vectors\n",
    "print(embedded_output.shape)\n",
    "print(embedded_output)"
   ]
  },
  {
   "cell_type": "code",
   "execution_count": 80,
   "id": "e46313da-6bea-4684-94e4-b91a903a95b2",
   "metadata": {},
   "outputs": [
    {
     "name": "stdout",
     "output_type": "stream",
     "text": [
      "tensor([[ 27,  30,  33],\n",
      "        [ 61,  68,  75],\n",
      "        [ 95, 106, 117]])\n",
      "tensor([[ 27,  30,  33],\n",
      "        [ 61,  68,  75],\n",
      "        [ 95, 106, 117]])\n"
     ]
    }
   ],
   "source": [
    "a = torch.tensor([[1,2],[3,4],[5,6]])\n",
    "b = torch.tensor([[7,8,9],[10,11,12]])\n",
    "print(a @ b)\n",
    "print(torch.matmul(a, b))"
   ]
  },
  {
   "cell_type": "code",
   "execution_count": 88,
   "id": "ade2798e-045f-49ab-b783-a7766f214a91",
   "metadata": {},
   "outputs": [
    {
     "name": "stdout",
     "output_type": "stream",
     "text": [
      "tensor([[0., 0.],\n",
      "        [0., 0.],\n",
      "        [0., 0.]])\n",
      "\n",
      "tensor([[0.6356, 0.6104, 0.6806],\n",
      "        [0.7709, 0.0264, 0.8319]])\n",
      "\n",
      "tensor([[0., 0., 0.],\n",
      "        [0., 0., 0.],\n",
      "        [0., 0., 0.]])\n"
     ]
    }
   ],
   "source": [
    "int_64 = torch.randint(1, (3, 2)).float() # 0까지 3,2\n",
    "print(int_64)\n",
    "print()\n",
    "#type int64\n",
    "float_32 = torch.rand(2,3) # 2X3 FLOAT 랜덤 행렬\n",
    "print(float_32)\n",
    "print()\n",
    "#type float32\n",
    "# print(int_64.dtype, float_32.dtype)\n",
    "result = torch.matmul(int_64, float_32)\n",
    "print(result)"
   ]
  },
  {
   "cell_type": "code",
   "execution_count": 87,
   "id": "accb2abc-5334-4a7e-816c-57afaef5fd69",
   "metadata": {},
   "outputs": [
    {
     "name": "stdout",
     "output_type": "stream",
     "text": [
      "tensor([4, 3, 3])\n",
      "tensor([[0, 9],\n",
      "        [6, 1]])\n",
      "tensor([[5, 8],\n",
      "        [4, 9]])\n"
     ]
    }
   ],
   "source": [
    "print(torch.randint(3, 5, (3,))) # 3-4 3,\n",
    "print(torch.randint(10, (2, 2))) # 9까지 2,2\n",
    "print(torch.randint(3, 10, (2, 2))) # 3~9 2,2"
   ]
  },
  {
   "cell_type": "code",
   "execution_count": 89,
   "id": "fa796ae9-8592-42d2-a214-d4649308191a",
   "metadata": {},
   "outputs": [
    {
     "name": "stdout",
     "output_type": "stream",
     "text": [
      "torch.Size([2, 3, 5])\n"
     ]
    }
   ],
   "source": [
    "a = torch.rand(2, 3, 5) \n",
    "print(a.shape)"
   ]
  },
  {
   "cell_type": "code",
   "execution_count": 90,
   "id": "15141a5f-e45f-498e-992c-ff0e78ebd29b",
   "metadata": {},
   "outputs": [
    {
     "name": "stdout",
     "output_type": "stream",
     "text": [
      "torch.Size([2, 3, 5])\n"
     ]
    }
   ],
   "source": [
    "x, y, z = a.shape\n",
    "a = a.view(x, y, z)\n",
    "print(a.shape)"
   ]
  },
  {
   "cell_type": "code",
   "execution_count": 94,
   "id": "fa61252c-48d7-4072-94fc-1b2fb3761b4b",
   "metadata": {
    "scrolled": true
   },
   "outputs": [
    {
     "name": "stdout",
     "output_type": "stream",
     "text": [
      "torch.Size([4, 8, 10])\n",
      "torch.Size([4, 8, 10])\n",
      "tensor([[5.5055e-02, 4.1639e-01, 1.9806e-01, 7.9918e-01, 1.8782e-02, 1.1981e-01,\n",
      "         3.4328e-01, 8.1543e-01, 4.5680e-01, 7.4020e-01],\n",
      "        [5.4069e-01, 3.4878e-02, 3.7476e-02, 7.5081e-01, 1.4433e-01, 9.1785e-01,\n",
      "         6.1516e-01, 3.0497e-01, 4.5256e-01, 6.7869e-01],\n",
      "        [7.5556e-01, 9.0451e-01, 6.0319e-01, 7.6486e-01, 6.4869e-01, 8.5236e-01,\n",
      "         2.8749e-01, 1.9391e-01, 4.8008e-01, 9.3767e-02],\n",
      "        [8.7307e-01, 5.1842e-02, 2.2435e-01, 7.7852e-01, 7.1738e-01, 4.0382e-01,\n",
      "         9.6884e-01, 3.1343e-01, 7.2855e-01, 5.5800e-01],\n",
      "        [3.3184e-01, 6.3472e-02, 6.2819e-01, 7.9280e-01, 5.4733e-01, 2.7780e-01,\n",
      "         4.5411e-01, 3.1347e-01, 7.3273e-01, 5.7952e-01],\n",
      "        [7.9919e-02, 1.7472e-01, 1.8835e-01, 7.0824e-01, 4.2311e-01, 8.6947e-01,\n",
      "         7.8506e-01, 9.0513e-02, 3.1899e-01, 1.1440e-01],\n",
      "        [5.6671e-01, 3.6141e-01, 3.5209e-01, 3.8145e-01, 3.6898e-01, 7.1779e-01,\n",
      "         6.7424e-01, 6.0168e-01, 3.9341e-01, 9.6954e-01],\n",
      "        [6.7655e-01, 5.2710e-02, 2.0713e-01, 4.1068e-01, 1.7622e-01, 2.0953e-01,\n",
      "         2.9354e-01, 5.7736e-01, 4.7772e-01, 2.1414e-01],\n",
      "        [3.1212e-01, 2.8312e-01, 3.3311e-01, 6.5715e-01, 1.9636e-01, 1.1736e-01,\n",
      "         7.5705e-01, 8.5893e-01, 3.2248e-01, 4.3854e-01],\n",
      "        [6.3496e-01, 9.0295e-02, 5.4283e-01, 1.6952e-04, 6.4393e-01, 1.4083e-02,\n",
      "         6.6725e-01, 5.6886e-01, 5.5154e-01, 8.8433e-01],\n",
      "        [9.5523e-01, 3.9936e-01, 7.6775e-02, 1.2596e-02, 8.9894e-02, 5.4730e-03,\n",
      "         7.5627e-01, 7.5027e-02, 2.1037e-01, 5.6718e-02],\n",
      "        [6.2711e-01, 5.8773e-01, 5.5161e-02, 5.2927e-02, 1.8466e-01, 4.9463e-01,\n",
      "         6.1430e-01, 2.9548e-01, 6.6364e-01, 7.2644e-02],\n",
      "        [7.3352e-01, 4.2689e-01, 3.2548e-01, 4.9058e-01, 8.6872e-01, 9.0172e-01,\n",
      "         6.4012e-01, 5.0785e-01, 9.4782e-03, 1.4181e-01],\n",
      "        [2.7696e-01, 8.9343e-02, 8.9888e-01, 3.8063e-01, 2.5645e-01, 8.1894e-01,\n",
      "         9.0032e-01, 3.9735e-01, 9.3612e-01, 2.4785e-01],\n",
      "        [1.3607e-01, 7.9086e-01, 3.5211e-01, 9.9336e-01, 2.7820e-01, 5.5133e-01,\n",
      "         8.4439e-01, 2.5580e-01, 7.2707e-01, 1.0241e-01],\n",
      "        [6.3809e-01, 4.1299e-01, 9.5699e-01, 8.6141e-01, 2.8437e-01, 4.2227e-01,\n",
      "         3.5448e-01, 2.3405e-01, 2.0396e-01, 2.7132e-01],\n",
      "        [6.2416e-01, 3.5976e-01, 7.2961e-01, 8.3840e-01, 2.1534e-01, 2.9514e-01,\n",
      "         3.7098e-01, 3.9822e-02, 5.5579e-01, 4.0755e-01],\n",
      "        [3.3421e-01, 8.1648e-01, 7.0174e-02, 5.4832e-01, 6.0425e-02, 1.1218e-01,\n",
      "         5.3758e-01, 9.4706e-01, 2.5004e-01, 9.7968e-01],\n",
      "        [2.8413e-01, 8.7544e-01, 1.5771e-01, 1.5477e-01, 4.4651e-01, 9.8640e-01,\n",
      "         7.3394e-01, 7.6592e-01, 9.5496e-01, 7.7544e-01],\n",
      "        [9.4018e-01, 2.9044e-01, 3.8866e-03, 5.1933e-01, 5.2525e-01, 7.3803e-01,\n",
      "         7.8033e-01, 1.1079e-01, 9.7926e-01, 5.7329e-02],\n",
      "        [9.5579e-01, 1.7697e-01, 5.2498e-01, 5.4404e-01, 7.4961e-01, 6.5891e-01,\n",
      "         6.4186e-01, 1.7932e-01, 5.5695e-01, 9.3815e-01],\n",
      "        [3.6952e-01, 6.6321e-01, 6.5794e-01, 2.6811e-01, 8.8018e-02, 7.9392e-01,\n",
      "         7.5586e-01, 3.1282e-01, 3.4188e-01, 1.3936e-01],\n",
      "        [2.9827e-01, 9.3578e-01, 9.6261e-01, 5.5035e-01, 2.4200e-01, 4.9303e-02,\n",
      "         5.7019e-01, 7.5297e-01, 6.0812e-03, 9.4587e-01],\n",
      "        [7.2702e-01, 4.2275e-01, 4.0060e-01, 4.8415e-01, 8.7758e-01, 8.0549e-01,\n",
      "         1.8791e-01, 4.5707e-01, 8.7404e-01, 9.3991e-01],\n",
      "        [1.4345e-01, 4.8682e-01, 1.1411e-01, 2.7356e-01, 6.7724e-01, 9.3336e-01,\n",
      "         7.8126e-01, 9.4623e-01, 2.8604e-01, 9.8425e-02],\n",
      "        [7.6747e-01, 9.1969e-01, 3.3870e-01, 8.6238e-02, 4.6665e-01, 9.4411e-02,\n",
      "         5.7346e-01, 9.3863e-01, 6.9568e-01, 3.2861e-01],\n",
      "        [6.3650e-01, 8.9253e-01, 6.8441e-01, 6.1602e-01, 7.2150e-01, 5.7612e-01,\n",
      "         1.5042e-01, 9.2354e-01, 4.8270e-01, 1.7162e-01],\n",
      "        [4.6117e-01, 9.4854e-01, 7.8663e-01, 6.2332e-01, 5.3821e-01, 3.4322e-01,\n",
      "         2.0881e-01, 8.6720e-01, 5.2689e-01, 5.9523e-01],\n",
      "        [3.0146e-01, 8.9269e-01, 9.3650e-01, 5.5907e-02, 8.2091e-01, 7.3775e-01,\n",
      "         5.2180e-01, 7.4802e-01, 6.2279e-01, 2.4894e-01],\n",
      "        [4.4629e-01, 3.1597e-01, 7.8210e-01, 8.9761e-01, 2.9193e-01, 3.4090e-01,\n",
      "         5.3169e-01, 3.8663e-02, 6.1601e-01, 2.8623e-01],\n",
      "        [4.3473e-01, 5.0449e-01, 7.3364e-01, 7.6017e-01, 2.5076e-01, 1.4352e-01,\n",
      "         6.3599e-01, 9.5928e-01, 1.4301e-01, 7.3365e-01],\n",
      "        [4.2531e-01, 3.6146e-01, 8.6432e-01, 1.3973e-02, 1.7699e-01, 2.9854e-02,\n",
      "         7.9208e-01, 7.3954e-01, 2.5753e-01, 1.1843e-01]])\n"
     ]
    }
   ],
   "source": [
    "input = torch.rand((4, 8, 10))\n",
    "print(input.shape)\n",
    "input = torch.rand(4, 8, 10) # 괄호 두개하나 그거나 그거나임\n",
    "print(input.shape)\n",
    "B, T, C = input.shape\n",
    "output = input.view(B*T, C)\n",
    "print(output)"
   ]
  },
  {
   "cell_type": "code",
   "execution_count": 95,
   "id": "39ae406c-bd64-4693-8544-79e04add4e8f",
   "metadata": {},
   "outputs": [
    {
     "ename": "TypeError",
     "evalue": "slice indices must be integers or None or have an __index__ method",
     "output_type": "error",
     "traceback": [
      "\u001b[0;31m---------------------------------------------------------------------------\u001b[0m",
      "\u001b[0;31mTypeError\u001b[0m                                 Traceback (most recent call last)",
      "Cell \u001b[0;32mIn[95], line 1\u001b[0m\n\u001b[0;32m----> 1\u001b[0m \u001b[38;5;28mprint\u001b[39m(\u001b[43moutput\u001b[49m\u001b[43m[\u001b[49m\u001b[43m:\u001b[49m\u001b[43m,\u001b[49m\u001b[43m \u001b[49m\u001b[38;5;241;43m-\u001b[39;49m\u001b[38;5;241;43m1.\u001b[39;49m\u001b[43m \u001b[49m\u001b[43m:\u001b[49m\u001b[43m]\u001b[49m) \u001b[38;5;66;03m# 당연히 에러뜨지\u001b[39;00m\n",
      "\u001b[0;31mTypeError\u001b[0m: slice indices must be integers or None or have an __index__ method"
     ]
    }
   ],
   "source": [
    "print(output[:, -1. :]) # 당연히 에러뜨지"
   ]
  },
  {
   "cell_type": "code",
   "execution_count": 96,
   "id": "a1fa610c-99a4-43fe-b02f-0daf83fafcac",
   "metadata": {},
   "outputs": [
    {
     "name": "stdout",
     "output_type": "stream",
     "text": [
      "tensor([0.7402, 0.6787, 0.0938, 0.5580, 0.5795, 0.1144, 0.9695, 0.2141, 0.4385,\n",
      "        0.8843, 0.0567, 0.0726, 0.1418, 0.2478, 0.1024, 0.2713, 0.4076, 0.9797,\n",
      "        0.7754, 0.0573, 0.9382, 0.1394, 0.9459, 0.9399, 0.0984, 0.3286, 0.1716,\n",
      "        0.5952, 0.2489, 0.2862, 0.7336, 0.1184])\n"
     ]
    }
   ],
   "source": [
    "print(output[:, -1])"
   ]
  },
  {
   "cell_type": "code",
   "execution_count": 101,
   "id": "e439e884-488d-4ab9-aad7-824088386a3b",
   "metadata": {},
   "outputs": [
    {
     "name": "stdout",
     "output_type": "stream",
     "text": [
      "tensor([10.])\n",
      "tensor([1.])\n"
     ]
    }
   ],
   "source": [
    "x = torch.tensor([10], dtype=torch.float32)\n",
    "print(x)\n",
    "y = F.tanh(x)\n",
    "print(y)"
   ]
  },
  {
   "cell_type": "code",
   "execution_count": 103,
   "id": "33129a36-510d-4d60-b3c9-ebdf820e9d6d",
   "metadata": {},
   "outputs": [
    {
     "name": "stdout",
     "output_type": "stream",
     "text": [
      "tensor([0.])\n",
      "tensor([0.])\n"
     ]
    }
   ],
   "source": [
    "x = torch.tensor([0], dtype=torch.float32) \n",
    "print(x)\n",
    "y = F.tanh(x) # -1~1까지\n",
    "print(y)"
   ]
  }
 ],
 "metadata": {
  "kernelspec": {
   "display_name": "Python 3 (ipykernel)",
   "language": "python",
   "name": "python3"
  },
  "language_info": {
   "codemirror_mode": {
    "name": "ipython",
    "version": 3
   },
   "file_extension": ".py",
   "mimetype": "text/x-python",
   "name": "python",
   "nbconvert_exporter": "python",
   "pygments_lexer": "ipython3",
   "version": "3.9.13"
  }
 },
 "nbformat": 4,
 "nbformat_minor": 5
}
