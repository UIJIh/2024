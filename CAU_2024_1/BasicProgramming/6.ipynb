{
 "cells": [
  {
   "cell_type": "code",
   "execution_count": 1,
   "id": "4ae84c15-3ea7-4d7d-a15d-7c9da2baf103",
   "metadata": {},
   "outputs": [],
   "source": [
    "def isEqualString(X, Y):\n",
    "    X = str(X)\n",
    "    Y = str(Y)\n",
    "    return X == Y"
   ]
  },
  {
   "cell_type": "code",
   "execution_count": 2,
   "id": "a3731dac-ae20-4e2f-9a42-f29a581cc8c9",
   "metadata": {},
   "outputs": [
    {
     "data": {
      "text/plain": [
       "False"
      ]
     },
     "execution_count": 2,
     "metadata": {},
     "output_type": "execute_result"
    }
   ],
   "source": [
    "isEqualString('s', 'y')"
   ]
  },
  {
   "cell_type": "code",
   "execution_count": 12,
   "id": "ca610bf0-a253-400d-ae3c-1e429eef441e",
   "metadata": {},
   "outputs": [],
   "source": [
    "def containsWord(X, Y):\n",
    "    X_list = X.split()\n",
    "    for x in X_list:\n",
    "        if x.lower() == Y.lower():\n",
    "            return True\n",
    "    return False"
   ]
  },
  {
   "cell_type": "code",
   "execution_count": 13,
   "id": "57f8cfea-5b9c-4e46-8e4f-ef0f00d8f176",
   "metadata": {},
   "outputs": [
    {
     "data": {
      "text/plain": [
       "True"
      ]
     },
     "execution_count": 13,
     "metadata": {},
     "output_type": "execute_result"
    }
   ],
   "source": [
    "containsWord(\"The quick brown fox jumps over the lazy dog\", \"Fox\")"
   ]
  },
  {
   "cell_type": "code",
   "execution_count": 16,
   "id": "074a9883-4dfc-4b13-b225-ab9144441b7d",
   "metadata": {},
   "outputs": [],
   "source": [
    "def isMirrorString(X, Y):\n",
    "    re_X = X[::-1]\n",
    "    return re_X.lower() == Y.lower()"
   ]
  },
  {
   "cell_type": "code",
   "execution_count": 17,
   "id": "a907a224-ea35-4b02-a48e-c0c804151cb4",
   "metadata": {},
   "outputs": [
    {
     "data": {
      "text/plain": [
       "True"
      ]
     },
     "execution_count": 17,
     "metadata": {},
     "output_type": "execute_result"
    }
   ],
   "source": [
    "isMirrorString(\"desserts\", \"Stressed\") "
   ]
  },
  {
   "cell_type": "code",
   "execution_count": 18,
   "id": "0d44ee65-3efb-474b-9675-fd3f2f6a40cf",
   "metadata": {},
   "outputs": [],
   "source": [
    "def containsWord(X, Y):\n",
    "    return Y.lower() in X.lower() "
   ]
  },
  {
   "cell_type": "code",
   "execution_count": 19,
   "id": "b26beb9a-0616-45da-adca-85ecc1eed41c",
   "metadata": {},
   "outputs": [
    {
     "data": {
      "text/plain": [
       "True"
      ]
     },
     "execution_count": 19,
     "metadata": {},
     "output_type": "execute_result"
    }
   ],
   "source": [
    "containsWord(\"The quick brown fox jumps over the lazy dog\", \"Fox\")"
   ]
  },
  {
   "cell_type": "code",
   "execution_count": 20,
   "id": "2b88071c-74da-45e6-948d-dddac6cc25c4",
   "metadata": {},
   "outputs": [],
   "source": [
    "def isAnagram(X, Y):\n",
    "    return sorted(X.lower()) == sorted(Y.lower())"
   ]
  },
  {
   "cell_type": "code",
   "execution_count": 21,
   "id": "e9b88615-efa6-4929-8d72-65dcc74c75fe",
   "metadata": {},
   "outputs": [
    {
     "data": {
      "text/plain": [
       "True"
      ]
     },
     "execution_count": 21,
     "metadata": {},
     "output_type": "execute_result"
    }
   ],
   "source": [
    "isAnagram(\"Listen\", \"Silent\")"
   ]
  },
  {
   "cell_type": "code",
   "execution_count": 22,
   "id": "6da4c3de-b854-4891-bbf4-10ca5ab6216f",
   "metadata": {},
   "outputs": [],
   "source": [
    "def areEqual(X, Y):\n",
    "    return int(X) == int(Y)"
   ]
  },
  {
   "cell_type": "code",
   "execution_count": 23,
   "id": "e62e5182-0a77-42d4-b2dc-bdc4ead5d7a9",
   "metadata": {},
   "outputs": [
    {
     "data": {
      "text/plain": [
       "True"
      ]
     },
     "execution_count": 23,
     "metadata": {},
     "output_type": "execute_result"
    }
   ],
   "source": [
    "areEqual(1,1)"
   ]
  },
  {
   "cell_type": "code",
   "execution_count": 24,
   "id": "55a5c3a7-615c-4192-8445-06324e41ec27",
   "metadata": {},
   "outputs": [
    {
     "data": {
      "text/plain": [
       "False"
      ]
     },
     "execution_count": 24,
     "metadata": {},
     "output_type": "execute_result"
    }
   ],
   "source": [
    "areEqual(1,0)"
   ]
  },
  {
   "cell_type": "code",
   "execution_count": 25,
   "id": "ac845b13-210c-4cb7-8a77-02e189a252d3",
   "metadata": {},
   "outputs": [],
   "source": [
    "def isQualified(X, Y):\n",
    "    return (Y>4 or (X>29 and Y>2))"
   ]
  },
  {
   "cell_type": "code",
   "execution_count": 28,
   "id": "cd063591-759f-48fe-a427-c1f82b870a77",
   "metadata": {},
   "outputs": [
    {
     "data": {
      "text/plain": [
       "False"
      ]
     },
     "execution_count": 28,
     "metadata": {},
     "output_type": "execute_result"
    }
   ],
   "source": [
    "isQualified(6,3)"
   ]
  },
  {
   "cell_type": "code",
   "execution_count": 33,
   "id": "e564a7fe-f379-4f90-b0fb-babc55d5d8b5",
   "metadata": {},
   "outputs": [
    {
     "name": "stdout",
     "output_type": "stream",
     "text": [
      "짝수\n"
     ]
    }
   ],
   "source": [
    "num = 2\n",
    "if num % 2 == 0:\n",
    "    print(\"짝수\")\n",
    "else:\n",
    "    print(\"홀수\")"
   ]
  },
  {
   "cell_type": "code",
   "execution_count": 34,
   "id": "81025817-47ad-4bd8-bcf5-a538ded518c3",
   "metadata": {},
   "outputs": [],
   "source": [
    "def isNotInList(X, Y):\n",
    "    return X not in list(Y)"
   ]
  },
  {
   "cell_type": "code",
   "execution_count": 35,
   "id": "e0677dba-aaa9-4943-9172-398defe24ceb",
   "metadata": {},
   "outputs": [
    {
     "data": {
      "text/plain": [
       "True"
      ]
     },
     "execution_count": 35,
     "metadata": {},
     "output_type": "execute_result"
    }
   ],
   "source": [
    "X1 = 5\n",
    "Y1 = [1, 2, 3, 4]\n",
    "isNotInList(X1, Y1)"
   ]
  },
  {
   "cell_type": "code",
   "execution_count": 47,
   "id": "4dd4054b-1ca4-4b21-b272-a244b3d9efba",
   "metadata": {},
   "outputs": [],
   "source": [
    "def areElementsPresent(X, Y):\n",
    "    for element in X:\n",
    "        if element in Y:\n",
    "            return True\n",
    "        else:\n",
    "            return False"
   ]
  },
  {
   "cell_type": "code",
   "execution_count": 48,
   "id": "db6c56ba-35c0-4d88-9c26-fe97bcaa2682",
   "metadata": {},
   "outputs": [
    {
     "data": {
      "text/plain": [
       "True"
      ]
     },
     "execution_count": 48,
     "metadata": {},
     "output_type": "execute_result"
    }
   ],
   "source": [
    "areElementsPresent([2, 3], [1, 2, 3, 4, 5])"
   ]
  }
 ],
 "metadata": {
  "kernelspec": {
   "display_name": "Python 3 (ipykernel)",
   "language": "python",
   "name": "python3"
  },
  "language_info": {
   "codemirror_mode": {
    "name": "ipython",
    "version": 3
   },
   "file_extension": ".py",
   "mimetype": "text/x-python",
   "name": "python",
   "nbconvert_exporter": "python",
   "pygments_lexer": "ipython3",
   "version": "3.9.13"
  }
 },
 "nbformat": 4,
 "nbformat_minor": 5
}
