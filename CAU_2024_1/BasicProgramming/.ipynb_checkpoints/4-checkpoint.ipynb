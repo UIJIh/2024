{
 "cells": [
  {
   "cell_type": "code",
   "execution_count": 1,
   "id": "be544639-0e5a-4e87-a89e-04822e5dff6e",
   "metadata": {},
   "outputs": [
    {
     "name": "stdout",
     "output_type": "stream",
     "text": [
      "30\n"
     ]
    }
   ],
   "source": [
    "number_list = [6, 4, 7, 11, 2]\n",
    "sum = 0\n",
    "for num in number_list:\n",
    "    sum += num\n",
    "print(sum)"
   ]
  },
  {
   "cell_type": "code",
   "execution_count": 7,
   "id": "e2736b24-9fb3-4b89-895c-4a15fb1188de",
   "metadata": {},
   "outputs": [
    {
     "name": "stdout",
     "output_type": "stream",
     "text": [
      "p\n",
      "y\n",
      "t\n",
      "h\n",
      "o\n",
      "n\n"
     ]
    },
    {
     "data": {
      "text/plain": [
       "1"
      ]
     },
     "execution_count": 7,
     "metadata": {},
     "output_type": "execute_result"
    }
   ],
   "source": [
    "def sep(s):\n",
    "    for i in s:\n",
    "        print(i)\n",
    "    return 1\n",
    "sep('python')"
   ]
  },
  {
   "cell_type": "code",
   "execution_count": 11,
   "id": "25d3b94b-3bf4-4f67-b080-b04fc34ae6e8",
   "metadata": {},
   "outputs": [
    {
     "data": {
      "text/plain": [
       "'ppyytthhoonn'"
      ]
     },
     "execution_count": 11,
     "metadata": {},
     "output_type": "execute_result"
    }
   ],
   "source": [
    "def twice(s):\n",
    "    new = []\n",
    "    for i in s:\n",
    "        new += str(i * 2)\n",
    "    new = ''.join(new)\n",
    "    return new\n",
    "twice('python')"
   ]
  },
  {
   "cell_type": "code",
   "execution_count": 13,
   "id": "6c931ee8-2f6a-4de7-92da-dc19bad2f43a",
   "metadata": {},
   "outputs": [
    {
     "name": "stdout",
     "output_type": "stream",
     "text": [
      "Python Hehe\n"
     ]
    }
   ],
   "source": [
    "hi = 'python hehe'\n",
    "print(f'{hi.title()}')"
   ]
  },
  {
   "cell_type": "code",
   "execution_count": 14,
   "id": "a7ec29fa-9d74-4e11-8950-d7bb708a82e4",
   "metadata": {},
   "outputs": [
    {
     "name": "stdout",
     "output_type": "stream",
     "text": [
      "Python hehe\n"
     ]
    }
   ],
   "source": [
    "print(hi.capitalize())"
   ]
  },
  {
   "cell_type": "code",
   "execution_count": 16,
   "id": "fe76eeaf-0b87-44d8-9e53-b5d02915bac5",
   "metadata": {},
   "outputs": [
    {
     "data": {
      "text/plain": [
       "'PYTHON HEHE'"
      ]
     },
     "execution_count": 16,
     "metadata": {},
     "output_type": "execute_result"
    }
   ],
   "source": [
    "hi.swapcase()"
   ]
  },
  {
   "cell_type": "code",
   "execution_count": 19,
   "id": "ef212f52-22d6-4c2a-8ab4-fb67614e8af6",
   "metadata": {},
   "outputs": [],
   "source": [
    "def factorial(i):\n",
    "    result = 1\n",
    "    for n in range(i):\n",
    "        result *= (n+1)\n",
    "    return result"
   ]
  },
  {
   "cell_type": "code",
   "execution_count": 20,
   "id": "977ef826-016c-45e2-a957-66316d09f763",
   "metadata": {},
   "outputs": [
    {
     "data": {
      "text/plain": [
       "120"
      ]
     },
     "execution_count": 20,
     "metadata": {},
     "output_type": "execute_result"
    }
   ],
   "source": [
    "factorial(5)"
   ]
  },
  {
   "cell_type": "code",
   "execution_count": 23,
   "id": "54b0ed5f-45f6-48fc-92ae-c3b78d751a72",
   "metadata": {},
   "outputs": [],
   "source": [
    "def enumer(l):\n",
    "    for idx, element in enumerate(l):\n",
    "        print(f'Index: {idx}, Fruit: {element}')"
   ]
  },
  {
   "cell_type": "code",
   "execution_count": 24,
   "id": "00a1bf10-c356-4e88-9689-7cbaa5d33886",
   "metadata": {},
   "outputs": [
    {
     "name": "stdout",
     "output_type": "stream",
     "text": [
      "Index: 0, Fruit: apple\n",
      "Index: 1, Fruit: banana\n",
      "Index: 2, Fruit: cherry\n",
      "Index: 3, Fruit: date\n"
     ]
    }
   ],
   "source": [
    "enumer([\"apple\", \"banana\", \"cherry\", \"date\"])"
   ]
  },
  {
   "cell_type": "code",
   "execution_count": 27,
   "id": "bdbb933c-27fe-4a13-8489-2497ff179c98",
   "metadata": {},
   "outputs": [
    {
     "name": "stdout",
     "output_type": "stream",
     "text": [
      "*\n",
      "**\n",
      "***\n",
      "****\n",
      "*****\n"
     ]
    }
   ],
   "source": [
    "for i in range(1, 6):\n",
    "    print(\"*\" * i)"
   ]
  },
  {
   "cell_type": "code",
   "execution_count": 42,
   "id": "cd2cea10-dd5e-4f3e-b683-bbce3ea307b8",
   "metadata": {},
   "outputs": [],
   "source": [
    "def Fibonacci(s):\n",
    "    result = []\n",
    "    result += s    \n",
    "    for i in range(8):\n",
    "        result.append(result[i] + result[i+1])\n",
    "    return result"
   ]
  },
  {
   "cell_type": "code",
   "execution_count": 43,
   "id": "a083fdbb-6e6f-46a9-b906-4c1b5621439d",
   "metadata": {},
   "outputs": [
    {
     "data": {
      "text/plain": [
       "[0, 1, 1, 2, 3, 5, 8, 13, 21, 34]"
      ]
     },
     "execution_count": 43,
     "metadata": {},
     "output_type": "execute_result"
    }
   ],
   "source": [
    "seq = [0,1]\n",
    "Fibonacci(seq)"
   ]
  },
  {
   "cell_type": "code",
   "execution_count": 44,
   "id": "1fe00ce2-23c6-437d-9e8b-b037515c77ce",
   "metadata": {},
   "outputs": [
    {
     "name": "stdout",
     "output_type": "stream",
     "text": [
      "Fibonacci sequence: [0, 1, 1, 2, 3, 5, 8, 13, 21, 34]\n"
     ]
    }
   ],
   "source": [
    "# Initialize the first two numbers of the Fibonacci sequence\n",
    "Fibonacci_sequence = [0, 1]\n",
    "\n",
    "# Generate Fibonacci sequence up to the 10th number\n",
    "while len(Fibonacci_sequence) < 10:\n",
    "    # Calculate the next Fibonacci number\n",
    "    next_number = Fibonacci_sequence[-1] + Fibonacci_sequence[-2]\n",
    "    # Append the next Fibonacci number to the sequence\n",
    "    Fibonacci_sequence.append(next_number)\n",
    "\n",
    "# Print the generated Fibonacci sequence\n",
    "print(\"Fibonacci sequence:\", Fibonacci_sequence)"
   ]
  },
  {
   "cell_type": "code",
   "execution_count": 48,
   "id": "70e521db-4fa0-4de5-afa7-27347906a045",
   "metadata": {},
   "outputs": [],
   "source": [
    "num = list(range(1, 10, 3))"
   ]
  },
  {
   "cell_type": "code",
   "execution_count": 49,
   "id": "d5e54dac-c64b-4e02-956e-c2163f5d791c",
   "metadata": {},
   "outputs": [
    {
     "name": "stdout",
     "output_type": "stream",
     "text": [
      "[1, 4, 7]\n"
     ]
    }
   ],
   "source": [
    "print(num)"
   ]
  },
  {
   "cell_type": "code",
   "execution_count": 52,
   "id": "31feee01-8eee-41d1-aef9-c22b477d8c3f",
   "metadata": {},
   "outputs": [
    {
     "data": {
      "text/plain": [
       "[1, 5, 9, 13, 17, 21, 25, 29]"
      ]
     },
     "execution_count": 52,
     "metadata": {},
     "output_type": "execute_result"
    }
   ],
   "source": [
    "new = list(range(1, 30, 4))\n",
    "new"
   ]
  },
  {
   "cell_type": "code",
   "execution_count": 53,
   "id": "173fbc6c-4e29-4ba9-bd83-3266bb2294b7",
   "metadata": {},
   "outputs": [
    {
     "data": {
      "text/plain": [
       "[10, 9, 8, 7, 6, 5, 4, 3, 2, 1]"
      ]
     },
     "execution_count": 53,
     "metadata": {},
     "output_type": "execute_result"
    }
   ],
   "source": [
    "neg = list(range(10, 0, -1))\n",
    "neg"
   ]
  },
  {
   "cell_type": "code",
   "execution_count": 84,
   "id": "cb5f7393-3f1a-47c5-87de-c7027c0b14fd",
   "metadata": {},
   "outputs": [],
   "source": [
    "def mirror(s):\n",
    "    l = []\n",
    "    for num in s:\n",
    "        l.append(num)\n",
    "    l.reverse()\n",
    "    mirror_re = ''.join(l)\n",
    "    return s + mirror_re"
   ]
  },
  {
   "cell_type": "code",
   "execution_count": 85,
   "id": "7f1572ef-96f2-4a0f-962e-c535b273b9f6",
   "metadata": {},
   "outputs": [
    {
     "data": {
      "text/plain": [
       "'abccba'"
      ]
     },
     "execution_count": 85,
     "metadata": {},
     "output_type": "execute_result"
    }
   ],
   "source": [
    "mirror('abc')"
   ]
  },
  {
   "cell_type": "code",
   "execution_count": 86,
   "id": "2b477e96-9148-4108-9374-6ed5c773ed68",
   "metadata": {},
   "outputs": [
    {
     "data": {
      "text/plain": [
       "'cba'"
      ]
     },
     "execution_count": 86,
     "metadata": {},
     "output_type": "execute_result"
    }
   ],
   "source": [
    "s = 'abc'\n",
    "s[::-1]"
   ]
  },
  {
   "cell_type": "code",
   "execution_count": 109,
   "id": "630cf94c-6c7a-4551-ab9b-1b92063ef3ca",
   "metadata": {},
   "outputs": [],
   "source": [
    "def Squre(n):\n",
    "    n = int(n)\n",
    "    sqr = []\n",
    "    for i in range(1, n+1):\n",
    "        sqr += [(i ** 2)]\n",
    "    return sqr"
   ]
  },
  {
   "cell_type": "code",
   "execution_count": 110,
   "id": "672c272a-b0a7-4f8c-bf77-ce4e0a5c715b",
   "metadata": {},
   "outputs": [
    {
     "data": {
      "text/plain": [
       "[1, 4, 9, 16, 25, 36, 49, 64, 81, 100]"
      ]
     },
     "execution_count": 110,
     "metadata": {},
     "output_type": "execute_result"
    }
   ],
   "source": [
    "Squre(10)"
   ]
  },
  {
   "cell_type": "code",
   "execution_count": 100,
   "id": "87c96fee-a618-4b27-b6aa-c53e9d1f1370",
   "metadata": {},
   "outputs": [
    {
     "data": {
      "text/plain": [
       "[1, 4, 9, 16, 25, 36, 49, 64, 81, 100]"
      ]
     },
     "execution_count": 100,
     "metadata": {},
     "output_type": "execute_result"
    }
   ],
   "source": [
    "def Square(n):\n",
    "    n = int(n)\n",
    "    sqr = []\n",
    "    for i in range(1, n + 1):  \n",
    "        sqr.append(i ** 2)    \n",
    "    return sqr\n",
    "\n",
    "Square(10)"
   ]
  },
  {
   "cell_type": "code",
   "execution_count": 116,
   "id": "d254e854-a92e-4aba-97b8-ab17debf04fd",
   "metadata": {},
   "outputs": [],
   "source": [
    "squares = [value**2 for value in range(1, 11)]"
   ]
  },
  {
   "cell_type": "code",
   "execution_count": 117,
   "id": "19eb857c-5808-4dc5-84f5-aaf92bdb2e2f",
   "metadata": {},
   "outputs": [
    {
     "data": {
      "text/plain": [
       "[1, 4, 9, 16, 25, 36, 49, 64, 81, 100]"
      ]
     },
     "execution_count": 117,
     "metadata": {},
     "output_type": "execute_result"
    }
   ],
   "source": [
    "squares"
   ]
  },
  {
   "cell_type": "code",
   "execution_count": 118,
   "id": "69b00934-d2bb-40d2-9a36-b830033a0001",
   "metadata": {},
   "outputs": [],
   "source": [
    "def multiplyIndex(l):\n",
    "    return [i*num for i, num in enumerate(l)]"
   ]
  },
  {
   "cell_type": "code",
   "execution_count": 120,
   "id": "eea8b0fb-11bd-4115-b371-a6b92dde9310",
   "metadata": {},
   "outputs": [
    {
     "data": {
      "text/plain": [
       "[0, 2, 6, 12, 20]"
      ]
     },
     "execution_count": 120,
     "metadata": {},
     "output_type": "execute_result"
    }
   ],
   "source": [
    "multiplyIndex([1,2,3,4,5])"
   ]
  },
  {
   "cell_type": "code",
   "execution_count": 121,
   "id": "79faab52-746e-41a9-84e9-793acb71cb24",
   "metadata": {},
   "outputs": [],
   "source": [
    "def Celsius(l):\n",
    "    return [(f-32) * 5/9 for f in l]"
   ]
  },
  {
   "cell_type": "code",
   "execution_count": 122,
   "id": "6d949e52-b769-41ff-ae31-812e1896ddd6",
   "metadata": {},
   "outputs": [
    {
     "data": {
      "text/plain": [
       "[-6.666666666666667,\n",
       " 1.1111111111111112,\n",
       " 7.222222222222222,\n",
       " 0.0,\n",
       " -2.2222222222222223,\n",
       " 10.0]"
      ]
     },
     "execution_count": 122,
     "metadata": {},
     "output_type": "execute_result"
    }
   ],
   "source": [
    "Celsius([20,34,45,32,28,50])"
   ]
  },
  {
   "cell_type": "code",
   "execution_count": 123,
   "id": "e77826a2-0599-42f5-8b6b-88647750ac29",
   "metadata": {},
   "outputs": [],
   "source": [
    "str = \"20240319#Sunny Day at the Beach@95\""
   ]
  },
  {
   "cell_type": "code",
   "execution_count": 130,
   "id": "4cb903ec-3b69-43fe-b1d9-d62b35d83fc1",
   "metadata": {},
   "outputs": [
    {
     "name": "stdout",
     "output_type": "stream",
     "text": [
      "20240319 Sunny Day at the Beach 95\n"
     ]
    }
   ],
   "source": [
    "date = str[:str.find(\"#\")]\n",
    "event = str[str.find(\"#\")+1 : str.index(\"@\")]\n",
    "rating = str[str.index(\"@\") + 1:]\n",
    "print(date, event, rating)"
   ]
  },
  {
   "cell_type": "code",
   "execution_count": 133,
   "id": "83d1f785-e7be-45cb-be5c-a7b25694fb87",
   "metadata": {},
   "outputs": [
    {
     "name": "stdout",
     "output_type": "stream",
     "text": [
      "June\n"
     ]
    }
   ],
   "source": [
    "months = [\"January\", \"February\", \"March\", \"April\", \"May\", \"June\", \"July\", \"August\", \"September\", \"October\", \"November\", \"December\"]\n",
    "print(months[months.index(\"June\")])"
   ]
  },
  {
   "cell_type": "code",
   "execution_count": 3,
   "id": "06b94c65-9812-494e-b6ad-6f73f94ae1e5",
   "metadata": {},
   "outputs": [],
   "source": [
    "hourly_temperatures= [68, 70, 72, 74, 76, 78, 80, 82, 84, 86, 88, 90]"
   ]
  },
  {
   "cell_type": "code",
   "execution_count": 4,
   "id": "1522666d-4e6a-42fd-81a2-6ab957c38eb3",
   "metadata": {},
   "outputs": [],
   "source": [
    "def averageTemp(temp):\n",
    "    half_num = len(temp) // 2\n",
    "    half = temp[:half_num]\n",
    "    print(half)\n",
    "    average = sum(half) / len(half)\n",
    "    return average"
   ]
  },
  {
   "cell_type": "code",
   "execution_count": 5,
   "id": "18f9ec3d-8b4f-411e-9472-f653d330f9b7",
   "metadata": {},
   "outputs": [
    {
     "name": "stdout",
     "output_type": "stream",
     "text": [
      "[68, 70, 72, 74, 76, 78]\n"
     ]
    },
    {
     "data": {
      "text/plain": [
       "73.0"
      ]
     },
     "execution_count": 5,
     "metadata": {},
     "output_type": "execute_result"
    }
   ],
   "source": [
    "averageTemp(hourly_temperatures)"
   ]
  },
  {
   "cell_type": "code",
   "execution_count": 6,
   "id": "d5905752-979c-4e15-aacf-8e4cd9111fe0",
   "metadata": {},
   "outputs": [
    {
     "data": {
      "text/plain": [
       "90"
      ]
     },
     "execution_count": 6,
     "metadata": {},
     "output_type": "execute_result"
    }
   ],
   "source": [
    "max(hourly_temperatures)"
   ]
  },
  {
   "cell_type": "code",
   "execution_count": 9,
   "id": "375762cc-9d32-4817-99f4-f286b5f4207b",
   "metadata": {},
   "outputs": [],
   "source": [
    "def copyList(l):\n",
    "    ori = list(l)\n",
    "    copy = ori[:]\n",
    "    copy.append(4)\n",
    "    copy += [5]\n",
    "    return ori, copy"
   ]
  },
  {
   "cell_type": "code",
   "execution_count": 11,
   "id": "fe5720de-f350-4be9-90bc-e0ad8630a079",
   "metadata": {},
   "outputs": [
    {
     "data": {
      "text/plain": [
       "([1, 2, 3], [1, 2, 3, 4, 5])"
      ]
     },
     "execution_count": 11,
     "metadata": {},
     "output_type": "execute_result"
    }
   ],
   "source": [
    "copyList([1,2,3])"
   ]
  },
  {
   "cell_type": "code",
   "execution_count": 13,
   "id": "e3e7a1f8-1b88-4a2c-898b-a8c63fbc87ba",
   "metadata": {},
   "outputs": [
    {
     "data": {
      "text/plain": [
       "1"
      ]
     },
     "execution_count": 13,
     "metadata": {},
     "output_type": "execute_result"
    }
   ],
   "source": [
    "tup = (1)\n",
    "tup"
   ]
  },
  {
   "cell_type": "code",
   "execution_count": 14,
   "id": "9d4e1637-18a9-4ef4-9636-98a41a72e1b1",
   "metadata": {},
   "outputs": [
    {
     "data": {
      "text/plain": [
       "(1,)"
      ]
     },
     "execution_count": 14,
     "metadata": {},
     "output_type": "execute_result"
    }
   ],
   "source": [
    "tup = (1,)\n",
    "tup"
   ]
  },
  {
   "cell_type": "code",
   "execution_count": 15,
   "id": "17bc4674-e80f-43a5-a87a-25611c6787f3",
   "metadata": {},
   "outputs": [],
   "source": [
    "data_tuple = (42, \"Python\", (8, 16), \"Tutorial\", 3.14)"
   ]
  },
  {
   "cell_type": "code",
   "execution_count": 21,
   "id": "9eb9d543-3170-4ee8-9a12-f76b5bddfd72",
   "metadata": {},
   "outputs": [
    {
     "name": "stdout",
     "output_type": "stream",
     "text": [
      "42\n",
      "24\n",
      "8\n"
     ]
    }
   ],
   "source": [
    "print(data_tuple[0])\n",
    "cal = data_tuple[2][0] + data_tuple[2][1]\n",
    "len_4 = len(data_tuple[3])\n",
    "print(cal)\n",
    "print(len_4)"
   ]
  },
  {
   "cell_type": "code",
   "execution_count": 22,
   "id": "3720790c-fed9-478d-8f7b-96412f3ecd7e",
   "metadata": {},
   "outputs": [],
   "source": [
    "product = data_tuple[0] * data_tuple[-1]"
   ]
  },
  {
   "cell_type": "code",
   "execution_count": 23,
   "id": "18fef735-6699-47ef-b5cb-a7742236c0fd",
   "metadata": {},
   "outputs": [
    {
     "data": {
      "text/plain": [
       "131.88"
      ]
     },
     "execution_count": 23,
     "metadata": {},
     "output_type": "execute_result"
    }
   ],
   "source": [
    "product"
   ]
  },
  {
   "cell_type": "code",
   "execution_count": 24,
   "id": "d1c2115e-1058-4bcf-8e9d-ff6508937658",
   "metadata": {},
   "outputs": [
    {
     "ename": "TypeError",
     "evalue": "'tuple' object doesn't support item deletion",
     "output_type": "error",
     "traceback": [
      "\u001b[0;31m---------------------------------------------------------------------------\u001b[0m",
      "\u001b[0;31mTypeError\u001b[0m                                 Traceback (most recent call last)",
      "Cell \u001b[0;32mIn[24], line 1\u001b[0m\n\u001b[0;32m----> 1\u001b[0m \u001b[38;5;28;01mdel\u001b[39;00m data_tuple[\u001b[38;5;241m0\u001b[39m]\n",
      "\u001b[0;31mTypeError\u001b[0m: 'tuple' object doesn't support item deletion"
     ]
    }
   ],
   "source": [
    "del data_tuple[0]"
   ]
  },
  {
   "cell_type": "code",
   "execution_count": null,
   "id": "d24ae421-3efc-4f3d-81f8-e30d91bc1b15",
   "metadata": {},
   "outputs": [],
   "source": [
    "del data_tuple[0]"
   ]
  }
 ],
 "metadata": {
  "kernelspec": {
   "display_name": "Python 3 (ipykernel)",
   "language": "python",
   "name": "python3"
  },
  "language_info": {
   "codemirror_mode": {
    "name": "ipython",
    "version": 3
   },
   "file_extension": ".py",
   "mimetype": "text/x-python",
   "name": "python",
   "nbconvert_exporter": "python",
   "pygments_lexer": "ipython3",
   "version": "3.9.13"
  }
 },
 "nbformat": 4,
 "nbformat_minor": 5
}
