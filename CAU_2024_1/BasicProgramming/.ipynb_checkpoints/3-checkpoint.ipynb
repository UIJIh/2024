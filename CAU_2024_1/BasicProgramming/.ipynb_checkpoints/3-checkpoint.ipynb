{
 "cells": [
  {
   "cell_type": "code",
   "execution_count": 3,
   "id": "b8c26dad-df36-4fe7-aadb-88d21259dded",
   "metadata": {},
   "outputs": [],
   "source": [
    "def convertListToString(l):\n",
    "    return ' '.join(l)"
   ]
  },
  {
   "cell_type": "code",
   "execution_count": 4,
   "id": "1af999ac-84a3-4057-80e2-d84371007c7d",
   "metadata": {},
   "outputs": [
    {
     "name": "stdout",
     "output_type": "stream",
     "text": [
      "Life is too short\n"
     ]
    }
   ],
   "source": [
    "list = ['Life', 'is', 'too', 'short']\n",
    "print(convertListToString(list))"
   ]
  },
  {
   "cell_type": "code",
   "execution_count": 5,
   "id": "3d81eb97-c59d-4b97-911b-b607f36b66c3",
   "metadata": {},
   "outputs": [],
   "source": [
    "def replaceColonWithHash(s):\n",
    "    new = s.split(\":\")\n",
    "    new = \"#\".join(new)\n",
    "    return new"
   ]
  },
  {
   "cell_type": "code",
   "execution_count": 7,
   "id": "4091a07e-3d01-4069-82c1-83ea11289739",
   "metadata": {},
   "outputs": [
    {
     "name": "stdout",
     "output_type": "stream",
     "text": [
      "a#b#c#d\n"
     ]
    }
   ],
   "source": [
    "print(replaceColonWithHash(\"a:b:c:d\"))"
   ]
  },
  {
   "cell_type": "code",
   "execution_count": 8,
   "id": "62a570c7-9a72-47ba-abd9-051ba0a1af4c",
   "metadata": {},
   "outputs": [],
   "source": [
    "my_list= [1, 2, 3, ['a', 'b', 'c']]"
   ]
  },
  {
   "cell_type": "code",
   "execution_count": 10,
   "id": "2990a958-1596-4294-abac-3b077265372a",
   "metadata": {},
   "outputs": [
    {
     "name": "stdout",
     "output_type": "stream",
     "text": [
      "3\n",
      "a\n",
      "abc\n"
     ]
    }
   ],
   "source": [
    "print(my_list[2])\n",
    "print(my_list[3][0])\n",
    "print(''.join(my_list[3]))"
   ]
  },
  {
   "cell_type": "code",
   "execution_count": 13,
   "id": "63ea7095-55b3-4089-9186-32ae39b4748b",
   "metadata": {},
   "outputs": [],
   "source": [
    "my_list2 = [1, 2, ['a', 'b', ['Life', 'is']]]"
   ]
  },
  {
   "cell_type": "code",
   "execution_count": 18,
   "id": "c5ec280f-457b-4abd-a3e7-28bae0419b8c",
   "metadata": {},
   "outputs": [
    {
     "name": "stdout",
     "output_type": "stream",
     "text": [
      "Life\n",
      "is\n",
      "Life is\n",
      "1Life\n"
     ]
    }
   ],
   "source": [
    "print(my_list2[2][2][0])\n",
    "print(my_list2[2][2][1])\n",
    "print(' '.join(my_list2[2][2]))\n",
    "print(str(my_list2[0]) + my_list2[2][2][0]) "
   ]
  },
  {
   "cell_type": "code",
   "execution_count": 19,
   "id": "68591d90-1bc9-49c3-8d04-aaca7a60a65f",
   "metadata": {},
   "outputs": [],
   "source": [
    "life = [['Canada', 76.5], ['United States', 75.5], ['Mexico', 72.0]]"
   ]
  },
  {
   "cell_type": "code",
   "execution_count": 20,
   "id": "a42dae2c-5d0f-461c-acb4-5eab52abb60c",
   "metadata": {},
   "outputs": [
    {
     "name": "stdout",
     "output_type": "stream",
     "text": [
      "[['Canada', 80.0], ['United States', 75.5], ['Mexico', 72.0]]\n"
     ]
    }
   ],
   "source": [
    "life[0][1] = 80.0\n",
    "print(life)"
   ]
  },
  {
   "cell_type": "code",
   "execution_count": 82,
   "id": "880c9422-c984-409d-9726-a6de43079dc2",
   "metadata": {},
   "outputs": [],
   "source": [
    "my_list3 = [10, \"Python\", 20, \"is\", 30, \"great\"]"
   ]
  },
  {
   "cell_type": "code",
   "execution_count": 32,
   "id": "755d9261-8424-4649-8b0a-1f62903f1d79",
   "metadata": {},
   "outputs": [],
   "source": [
    "new = [element*2 for element in my_list3 if isinstance(element, int)]"
   ]
  },
  {
   "cell_type": "code",
   "execution_count": 85,
   "id": "e2422319-5015-4144-a16a-9893dc2d35aa",
   "metadata": {},
   "outputs": [],
   "source": [
    "new = []\n",
    "str = []\n",
    "for element in my_list3:\n",
    "    if isinstance(element, int):\n",
    "        new.append(element * 2)\n",
    "    else:\n",
    "        new.append(element)\n",
    "        str.append(element)\n",
    "        \n",
    "new_str = \" \".join(str)"
   ]
  },
  {
   "cell_type": "code",
   "execution_count": 86,
   "id": "8fcc48fb-3efd-48a1-a244-7f3083437f8a",
   "metadata": {},
   "outputs": [
    {
     "data": {
      "text/plain": [
       "[20, 'Python', 40, 'is', 60, 'great']"
      ]
     },
     "execution_count": 86,
     "metadata": {},
     "output_type": "execute_result"
    }
   ],
   "source": [
    "new"
   ]
  },
  {
   "cell_type": "code",
   "execution_count": 88,
   "id": "e6a1c2e0-9ee3-412b-9651-2287fd38d2c9",
   "metadata": {},
   "outputs": [
    {
     "name": "stdout",
     "output_type": "stream",
     "text": [
      "Python is great\n",
      "Python is great\n"
     ]
    }
   ],
   "source": [
    "con_element = my_list3[1] + \" \" + my_list3[3] + \" \" + my_list3[5]\n",
    "print(con_element)\n",
    "print(new_str)"
   ]
  },
  {
   "cell_type": "code",
   "execution_count": 89,
   "id": "b5275e1e-5706-48fa-807a-2a4528e909a1",
   "metadata": {},
   "outputs": [
    {
     "data": {
      "text/plain": [
       "[20, 'Python', 40, 'is', 60, 'great', 20, 'Python', 40, 'is', 60, 'great']"
      ]
     },
     "execution_count": 89,
     "metadata": {},
     "output_type": "execute_result"
    }
   ],
   "source": [
    "new = new * 2 \n",
    "new"
   ]
  },
  {
   "cell_type": "code",
   "execution_count": 90,
   "id": "b964f22d-f4d2-4563-8c24-81e7d3ed43b5",
   "metadata": {},
   "outputs": [
    {
     "name": "stdout",
     "output_type": "stream",
     "text": [
      "[20, 'Python', 40, 'is', 60, 'great', 20, 'Python', 40, 'is', 60, 'Python is great']\n"
     ]
    }
   ],
   "source": [
    "new[-1] = new_str\n",
    "print(new)"
   ]
  },
  {
   "cell_type": "code",
   "execution_count": 94,
   "id": "5e907742-64f6-4fb7-99fc-b8da6f22fa71",
   "metadata": {},
   "outputs": [
    {
     "name": "stdout",
     "output_type": "stream",
     "text": [
      "['real zero', 'zero', 'zero', 'zero', 20, 'Python', 40, 'is', 60, 'great', 20, 'Python', 40, 'is', 60, 'Python is great']\n"
     ]
    }
   ],
   "source": [
    "new.insert(0, 'real zero')\n",
    "print(new)"
   ]
  },
  {
   "cell_type": "code",
   "execution_count": 97,
   "id": "4de89389-9a4b-4c97-aa90-55c9b1a52758",
   "metadata": {},
   "outputs": [
    {
     "data": {
      "text/plain": [
       "['Start', 'Python', 'Java', 'Go', 'C++', 'JavaScript', 'Rust']"
      ]
     },
     "execution_count": 97,
     "metadata": {},
     "output_type": "execute_result"
    }
   ],
   "source": [
    "programming_languages= [\"Python\", \"Java\", \"C++\", \"JavaScript\"]\n",
    "programming_languages.append(\"Rust\")\n",
    "programming_languages.insert(2, \"Go\")\n",
    "programming_languages = [\"Start\"] + programming_languages\n",
    "programming_languages"
   ]
  },
  {
   "cell_type": "code",
   "execution_count": 98,
   "id": "adafb3d0-a08f-4e96-833a-d7dfb56677b9",
   "metadata": {},
   "outputs": [
    {
     "data": {
      "text/plain": [
       "['Start', 'Python', 'Java', 'Go', 'C++', 'JavaScript']"
      ]
     },
     "execution_count": 98,
     "metadata": {},
     "output_type": "execute_result"
    }
   ],
   "source": [
    "del programming_languages[-1]\n",
    "programming_languages"
   ]
  },
  {
   "cell_type": "code",
   "execution_count": 99,
   "id": "71289dd7-02a2-49d2-977d-a290ef9010bb",
   "metadata": {},
   "outputs": [
    {
     "data": {
      "text/plain": [
       "'JavaScript'"
      ]
     },
     "execution_count": 99,
     "metadata": {},
     "output_type": "execute_result"
    }
   ],
   "source": [
    "programming_languages.pop()"
   ]
  },
  {
   "cell_type": "code",
   "execution_count": 100,
   "id": "598b7458-698f-416f-befd-81e9f9afcd87",
   "metadata": {},
   "outputs": [
    {
     "data": {
      "text/plain": [
       "['Start', 'Python', 'Java', 'Go', 'C++']"
      ]
     },
     "execution_count": 100,
     "metadata": {},
     "output_type": "execute_result"
    }
   ],
   "source": [
    "programming_languages"
   ]
  },
  {
   "cell_type": "code",
   "execution_count": 101,
   "id": "444785c0-a68e-4146-b88f-e6e6818e69ba",
   "metadata": {},
   "outputs": [
    {
     "name": "stdout",
     "output_type": "stream",
     "text": [
      "C++\n"
     ]
    }
   ],
   "source": [
    "popped_value = programming_languages.pop()\n",
    "print(popped_value.upper())"
   ]
  },
  {
   "cell_type": "code",
   "execution_count": 102,
   "id": "2850b7a9-6ee5-40dd-8b78-578cfc1dec25",
   "metadata": {},
   "outputs": [
    {
     "data": {
      "text/plain": [
       "['Start', 'Python', 'Java', 'Go']"
      ]
     },
     "execution_count": 102,
     "metadata": {},
     "output_type": "execute_result"
    }
   ],
   "source": [
    "programming_languages"
   ]
  },
  {
   "cell_type": "code",
   "execution_count": 103,
   "id": "ee0ac961-f733-4dfd-b446-f5962284302e",
   "metadata": {},
   "outputs": [
    {
     "data": {
      "text/plain": [
       "['Start', 'Python', 'Go']"
      ]
     },
     "execution_count": 103,
     "metadata": {},
     "output_type": "execute_result"
    }
   ],
   "source": [
    "programming_languages.pop(2)\n",
    "programming_languages"
   ]
  },
  {
   "cell_type": "code",
   "execution_count": null,
   "id": "71291848-f848-4740-9392-a9ebf9b9c3c9",
   "metadata": {},
   "outputs": [],
   "source": [
    "programming_languages.remove(\"Go\")"
   ]
  },
  {
   "cell_type": "code",
   "execution_count": 108,
   "id": "d54748f4-86c9-4c2d-839e-0831b96c6c28",
   "metadata": {},
   "outputs": [
    {
     "data": {
      "text/plain": [
       "['Start', 'Python']"
      ]
     },
     "execution_count": 108,
     "metadata": {},
     "output_type": "execute_result"
    }
   ],
   "source": [
    "programming_languages"
   ]
  },
  {
   "cell_type": "code",
   "execution_count": 109,
   "id": "5e22b527-689a-46c1-9e8a-ffb464136c02",
   "metadata": {},
   "outputs": [
    {
     "data": {
      "text/plain": [
       "['notebook',\n",
       " 'eraser',\n",
       " 'marker',\n",
       " 'ruler',\n",
       " 'pencil',\n",
       " 'book',\n",
       " 'pencil',\n",
       " 'scissors']"
      ]
     },
     "execution_count": 109,
     "metadata": {},
     "output_type": "execute_result"
    }
   ],
   "source": [
    "items = [\"notebook\", \"pencil\", \"eraser\", \"marker\", \"ruler\", \"pencil\", \"book\", \"pencil\", \"scissors\"]\n",
    "items.remove(\"pencil\")\n",
    "items"
   ]
  },
  {
   "cell_type": "code",
   "execution_count": 110,
   "id": "3f799adc-2b7f-4588-a5f7-ab2926dc9220",
   "metadata": {},
   "outputs": [
    {
     "data": {
      "text/plain": [
       "['ruler',\n",
       " 'notebook',\n",
       " 'eraser',\n",
       " 'marker',\n",
       " 'pencil',\n",
       " 'book',\n",
       " 'pencil',\n",
       " 'scissors']"
      ]
     },
     "execution_count": 110,
     "metadata": {},
     "output_type": "execute_result"
    }
   ],
   "source": [
    "re = items.pop(3)\n",
    "items.insert(0, re)\n",
    "items"
   ]
  },
  {
   "cell_type": "code",
   "execution_count": 111,
   "id": "4f1ce490-bb01-475c-80cc-5ae573085684",
   "metadata": {},
   "outputs": [
    {
     "ename": "AttributeError",
     "evalue": "'list' object has no attribute 'find'",
     "output_type": "error",
     "traceback": [
      "\u001b[0;31m---------------------------------------------------------------------------\u001b[0m",
      "\u001b[0;31mAttributeError\u001b[0m                            Traceback (most recent call last)",
      "Cell \u001b[0;32mIn[111], line 3\u001b[0m\n\u001b[1;32m      1\u001b[0m re \u001b[38;5;241m=\u001b[39m items\u001b[38;5;241m.\u001b[39mpop()\n\u001b[1;32m      2\u001b[0m items\u001b[38;5;241m.\u001b[39minsert(\u001b[38;5;241m2\u001b[39m, re)\n\u001b[0;32m----> 3\u001b[0m \u001b[43mitems\u001b[49m\u001b[38;5;241;43m.\u001b[39;49m\u001b[43mfind\u001b[49m(\u001b[38;5;124m\"\u001b[39m\u001b[38;5;124mbook\u001b[39m\u001b[38;5;124m\"\u001b[39m)\n",
      "\u001b[0;31mAttributeError\u001b[0m: 'list' object has no attribute 'find'"
     ]
    }
   ],
   "source": [
    "re = items.pop()\n",
    "items.insert(2, re)\n",
    "items.find(\"book\")"
   ]
  },
  {
   "cell_type": "code",
   "execution_count": 112,
   "id": "70244df7-61cc-4823-9f7c-24cebd941d94",
   "metadata": {},
   "outputs": [
    {
     "data": {
      "text/plain": [
       "6"
      ]
     },
     "execution_count": 112,
     "metadata": {},
     "output_type": "execute_result"
    }
   ],
   "source": [
    "items.index(\"book\")"
   ]
  },
  {
   "cell_type": "code",
   "execution_count": 113,
   "id": "034736a1-07ec-4f06-adea-2d4ec37493c0",
   "metadata": {},
   "outputs": [
    {
     "name": "stdout",
     "output_type": "stream",
     "text": [
      "['ruler', 'notebook', 'scissors', 'eraser', 'marker', 'pencil', 'pencil']\n"
     ]
    }
   ],
   "source": [
    "del items[6]\n",
    "print(items)"
   ]
  },
  {
   "cell_type": "code",
   "execution_count": 118,
   "id": "ac842a20-7355-4915-8238-7850401922bc",
   "metadata": {},
   "outputs": [
    {
     "data": {
      "text/plain": [
       "['eraser', 'marker', 'notebook', 'pencil', 'pencil', 'ruler', 'scissors']"
      ]
     },
     "execution_count": 118,
     "metadata": {},
     "output_type": "execute_result"
    }
   ],
   "source": [
    "items.sort()\n",
    "items"
   ]
  },
  {
   "cell_type": "code",
   "execution_count": 119,
   "id": "bb937455-200e-4e13-b0e3-8d8e5d051da7",
   "metadata": {},
   "outputs": [
    {
     "data": {
      "text/plain": [
       "['scissors', 'ruler', 'pencil', 'pencil', 'notebook', 'marker', 'eraser']"
      ]
     },
     "execution_count": 119,
     "metadata": {},
     "output_type": "execute_result"
    }
   ],
   "source": [
    "items.sort(reverse=True)\n",
    "items"
   ]
  },
  {
   "cell_type": "code",
   "execution_count": 123,
   "id": "12b2e40c-857e-4d73-a3a4-793b5adfc63d",
   "metadata": {},
   "outputs": [
    {
     "name": "stdout",
     "output_type": "stream",
     "text": [
      "['eraser', 'marker', 'notebook', 'pencil', 'pencil', 'ruler', 'scissors']\n"
     ]
    }
   ],
   "source": [
    "print(sorted(items))"
   ]
  },
  {
   "cell_type": "code",
   "execution_count": 126,
   "id": "ca792605-8f45-4e71-aedd-9168d2f0893d",
   "metadata": {},
   "outputs": [
    {
     "name": "stdout",
     "output_type": "stream",
     "text": [
      "['scissors', 'ruler', 'pencil', 'pencil', 'notebook', 'marker', 'eraser']\n",
      "['eraser', 'marker', 'notebook', 'pencil', 'pencil', 'ruler', 'scissors']\n"
     ]
    }
   ],
   "source": [
    "print(items)\n",
    "items.reverse()\n",
    "print(items)"
   ]
  },
  {
   "cell_type": "code",
   "execution_count": 132,
   "id": "dc96eec3-79cb-4eb4-b404-7eeb62c5213d",
   "metadata": {},
   "outputs": [
    {
     "name": "stdout",
     "output_type": "stream",
     "text": [
      "[85, 93, 79, 92, 88]\n"
     ]
    }
   ],
   "source": [
    "scores = [88, 92, 79, 93, 85]\n",
    "scores.reverse()\n",
    "print(scores)"
   ]
  },
  {
   "cell_type": "code",
   "execution_count": 133,
   "id": "f51f9fd6-a430-4c75-ba20-7f38b36d43e5",
   "metadata": {},
   "outputs": [
    {
     "name": "stdout",
     "output_type": "stream",
     "text": [
      "[79, 85, 88, 92, 93]\n"
     ]
    }
   ],
   "source": [
    "scores.sort()\n",
    "print(scores)"
   ]
  },
  {
   "cell_type": "code",
   "execution_count": 131,
   "id": "447a0285-b95c-4efd-9965-af112f10e952",
   "metadata": {},
   "outputs": [
    {
     "name": "stdout",
     "output_type": "stream",
     "text": [
      "[93, 92, 88, 85, 79]\n"
     ]
    }
   ],
   "source": [
    "print(sorted(scores)[::-1])"
   ]
  },
  {
   "cell_type": "code",
   "execution_count": 134,
   "id": "2a98d263-f81a-451b-b9eb-fc90e09dfc4b",
   "metadata": {},
   "outputs": [
    {
     "name": "stdout",
     "output_type": "stream",
     "text": [
      "[93, 92, 88, 85, 79]\n"
     ]
    }
   ],
   "source": [
    "print(sorted(scores, reverse=True))"
   ]
  },
  {
   "cell_type": "code",
   "execution_count": 135,
   "id": "c8e4dcf4-69df-49b1-887c-c02d8f3d0637",
   "metadata": {},
   "outputs": [],
   "source": [
    "fruits = [\"apple\", \"banana\", \"cherry\", \"apple\", \"banana\", \"cherry\"]"
   ]
  },
  {
   "cell_type": "code",
   "execution_count": 136,
   "id": "a9a2ef5f-bdf5-4bfb-8d39-84170db88859",
   "metadata": {},
   "outputs": [
    {
     "data": {
      "text/plain": [
       "2"
      ]
     },
     "execution_count": 136,
     "metadata": {},
     "output_type": "execute_result"
    }
   ],
   "source": [
    "fruits.index(\"cherry\")"
   ]
  },
  {
   "cell_type": "code",
   "execution_count": 137,
   "id": "f9c030c1-1dad-4694-81ff-7f826446aee1",
   "metadata": {},
   "outputs": [
    {
     "data": {
      "text/plain": [
       "2"
      ]
     },
     "execution_count": 137,
     "metadata": {},
     "output_type": "execute_result"
    }
   ],
   "source": [
    "fruits.count(\"apple\")"
   ]
  },
  {
   "cell_type": "code",
   "execution_count": 138,
   "id": "d8d59ea6-cdca-4897-808d-76c30eff012b",
   "metadata": {},
   "outputs": [
    {
     "name": "stdout",
     "output_type": "stream",
     "text": [
      "['apple', 'banana', 'cherry', 'apple', 'banana', 'cherry', 'orange', 'grape', 'banana']\n"
     ]
    }
   ],
   "source": [
    "new_delivery= [\"orange\", \"grape\", \"banana\"]\n",
    "fruits.extend(new_delivery)\n",
    "print(fruits)"
   ]
  },
  {
   "cell_type": "code",
   "execution_count": 139,
   "id": "39647228-e34f-4ec8-a03a-dee3d8161a7b",
   "metadata": {},
   "outputs": [
    {
     "name": "stdout",
     "output_type": "stream",
     "text": [
      "['apple', 'banana', 'cherry', 'apple', 'banana', 'cherry', 'orange', 'grape', 'banana', ['orange', 'grape', 'banana']]\n"
     ]
    }
   ],
   "source": [
    "fruits.append(new_delivery)\n",
    "print(fruits)"
   ]
  },
  {
   "cell_type": "code",
   "execution_count": 154,
   "id": "9edf0072-8d10-49cc-a484-de78728a9a19",
   "metadata": {},
   "outputs": [],
   "source": [
    "ids = [4353, 2314, 2956, 3382, 9362, 3900]"
   ]
  },
  {
   "cell_type": "code",
   "execution_count": 155,
   "id": "930ade02-cf06-445b-a258-6f9132e89c2a",
   "metadata": {},
   "outputs": [
    {
     "name": "stdout",
     "output_type": "stream",
     "text": [
      "[4353, 2314, 2956, 9362, 3900]\n"
     ]
    }
   ],
   "source": [
    "num = 3382\n",
    "for id in ids:\n",
    "    if id == num:\n",
    "        ids.remove(id)\n",
    "print(ids)"
   ]
  },
  {
   "cell_type": "code",
   "execution_count": 156,
   "id": "7092b98b-1ac6-464a-b0dd-eba8c9484382",
   "metadata": {},
   "outputs": [],
   "source": [
    "ids.insert(ids.index(9362)+1, 4499) "
   ]
  },
  {
   "cell_type": "code",
   "execution_count": 157,
   "id": "725e5d3e-cf92-4f7f-babe-d69f2217a40b",
   "metadata": {},
   "outputs": [
    {
     "name": "stdout",
     "output_type": "stream",
     "text": [
      "[4353, 2314, 2956, 9362, 4499, 3900]\n"
     ]
    }
   ],
   "source": [
    "print(ids)"
   ]
  },
  {
   "cell_type": "code",
   "execution_count": 158,
   "id": "5afe982b-aaed-4be4-bc1b-70e20d355762",
   "metadata": {},
   "outputs": [
    {
     "name": "stdout",
     "output_type": "stream",
     "text": [
      "[4353, 2314, 2956, 9362, 4499, 3900, 5566, 1830]\n"
     ]
    }
   ],
   "source": [
    "ids.extend([5566, 1830])\n",
    "print(ids)"
   ]
  },
  {
   "cell_type": "code",
   "execution_count": 159,
   "id": "ee39ae0f-8c38-49ad-be2f-d1646e545846",
   "metadata": {},
   "outputs": [
    {
     "name": "stdout",
     "output_type": "stream",
     "text": [
      "[1830, 5566, 3900, 4499, 9362, 2956, 2314, 4353]\n"
     ]
    }
   ],
   "source": [
    "ids.reverse()\n",
    "print(ids)"
   ]
  },
  {
   "cell_type": "code",
   "execution_count": 160,
   "id": "92313df6-2f19-497f-940d-fcd630bff991",
   "metadata": {},
   "outputs": [
    {
     "name": "stdout",
     "output_type": "stream",
     "text": [
      "[1830, 2314, 2956, 3900, 4353, 4499, 5566, 9362]\n"
     ]
    }
   ],
   "source": [
    "ids.sort()\n",
    "print(ids)"
   ]
  },
  {
   "cell_type": "code",
   "execution_count": 163,
   "id": "800bb72d-4d31-4ce3-b169-605ad1d104b1",
   "metadata": {},
   "outputs": [
    {
     "data": {
      "text/plain": [
       "4"
      ]
     },
     "execution_count": 163,
     "metadata": {},
     "output_type": "execute_result"
    }
   ],
   "source": [
    "sales = [120, 450, 330, 240, 700, 560, 430]\n",
    "max_num = max(sales)\n",
    "sales.index(max_num)"
   ]
  },
  {
   "cell_type": "code",
   "execution_count": 164,
   "id": "58ca6317-cb91-4ad6-9b81-94a987e1640d",
   "metadata": {},
   "outputs": [
    {
     "data": {
      "text/plain": [
       "404.2857142857143"
      ]
     },
     "execution_count": 164,
     "metadata": {},
     "output_type": "execute_result"
    }
   ],
   "source": [
    "average = sum(sales) / len(sales)\n",
    "average"
   ]
  },
  {
   "cell_type": "code",
   "execution_count": 165,
   "id": "c085c473-e792-482b-8b6e-3a4ea9431396",
   "metadata": {},
   "outputs": [
    {
     "data": {
      "text/plain": [
       "True"
      ]
     },
     "execution_count": 165,
     "metadata": {},
     "output_type": "execute_result"
    }
   ],
   "source": [
    "'ar' in 'Bargain'"
   ]
  },
  {
   "cell_type": "code",
   "execution_count": 166,
   "id": "efdea352-f4d4-4260-92e1-f74e86609a49",
   "metadata": {},
   "outputs": [
    {
     "data": {
      "text/plain": [
       "False"
      ]
     },
     "execution_count": 166,
     "metadata": {},
     "output_type": "execute_result"
    }
   ],
   "source": [
    "'ar' in ['Bargain']"
   ]
  },
  {
   "cell_type": "code",
   "execution_count": 167,
   "id": "28a147c8-1e7f-4e23-b29b-c6ea3b962902",
   "metadata": {},
   "outputs": [
    {
     "name": "stdout",
     "output_type": "stream",
     "text": [
      "[2, 4, 1, 0]\n",
      "[4, 2, 1, 0]\n"
     ]
    }
   ],
   "source": [
    "a = [0,1,4,2]\n",
    "a.reverse()\n",
    "print(a)\n",
    "a.sort(reverse=True)\n",
    "print(a)"
   ]
  },
  {
   "cell_type": "code",
   "execution_count": 168,
   "id": "e7f28809-b9a1-46a6-bf78-1e9f9e7076e8",
   "metadata": {},
   "outputs": [
    {
     "name": "stdout",
     "output_type": "stream",
     "text": [
      "[4, 2, 1, 0, -1, -2]\n"
     ]
    }
   ],
   "source": [
    "a += [-1, -2]\n",
    "print(a)"
   ]
  }
 ],
 "metadata": {
  "kernelspec": {
   "display_name": "Python 3 (ipykernel)",
   "language": "python",
   "name": "python3"
  },
  "language_info": {
   "codemirror_mode": {
    "name": "ipython",
    "version": 3
   },
   "file_extension": ".py",
   "mimetype": "text/x-python",
   "name": "python",
   "nbconvert_exporter": "python",
   "pygments_lexer": "ipython3",
   "version": "3.9.13"
  }
 },
 "nbformat": 4,
 "nbformat_minor": 5
}
