{
 "cells": [
  {
   "cell_type": "code",
   "execution_count": 2,
   "id": "e7275439-58d6-46bf-bbdc-f1f2c3af9dbe",
   "metadata": {},
   "outputs": [
    {
     "data": {
      "text/plain": [
       "1"
      ]
     },
     "execution_count": 2,
     "metadata": {},
     "output_type": "execute_result"
    }
   ],
   "source": [
    "a = ['a', 'b', 'c']\n",
    "a.count('a')"
   ]
  },
  {
   "cell_type": "code",
   "execution_count": 4,
   "id": "0e992499-97d3-4657-a81f-f35221652aa7",
   "metadata": {},
   "outputs": [
    {
     "ename": "ValueError",
     "evalue": "'d' is not in list",
     "output_type": "error",
     "traceback": [
      "\u001b[0;31m---------------------------------------------------------------------------\u001b[0m",
      "\u001b[0;31mValueError\u001b[0m                                Traceback (most recent call last)",
      "Cell \u001b[0;32mIn[4], line 1\u001b[0m\n\u001b[0;32m----> 1\u001b[0m \u001b[43ma\u001b[49m\u001b[38;5;241;43m.\u001b[39;49m\u001b[43mindex\u001b[49m\u001b[43m(\u001b[49m\u001b[38;5;124;43m'\u001b[39;49m\u001b[38;5;124;43md\u001b[39;49m\u001b[38;5;124;43m'\u001b[39;49m\u001b[43m)\u001b[49m\n",
      "\u001b[0;31mValueError\u001b[0m: 'd' is not in list"
     ]
    }
   ],
   "source": [
    "a.index('d')"
   ]
  },
  {
   "cell_type": "code",
   "execution_count": 5,
   "id": "dd574c74-c058-44c2-bc9e-97d6575269a4",
   "metadata": {},
   "outputs": [],
   "source": [
    "str = 'iloveu'"
   ]
  },
  {
   "cell_type": "code",
   "execution_count": 7,
   "id": "18b2919a-c6dd-46e7-82b3-5f9b6c1df6b4",
   "metadata": {},
   "outputs": [
    {
     "data": {
      "text/plain": [
       "1"
      ]
     },
     "execution_count": 7,
     "metadata": {},
     "output_type": "execute_result"
    }
   ],
   "source": [
    "str.count('i')"
   ]
  },
  {
   "cell_type": "code",
   "execution_count": 9,
   "id": "96ad8fa4-9508-4311-905f-21501a443df1",
   "metadata": {},
   "outputs": [
    {
     "data": {
      "text/plain": [
       "-1"
      ]
     },
     "execution_count": 9,
     "metadata": {},
     "output_type": "execute_result"
    }
   ],
   "source": [
    "str.find('y')"
   ]
  },
  {
   "cell_type": "code",
   "execution_count": 11,
   "id": "7e502f3c-cd01-49f7-8214-4fbf67694eea",
   "metadata": {},
   "outputs": [
    {
     "data": {
      "text/plain": [
       "['i', 'oveu']"
      ]
     },
     "execution_count": 11,
     "metadata": {},
     "output_type": "execute_result"
    }
   ],
   "source": [
    "str.split('l')"
   ]
  },
  {
   "cell_type": "code",
   "execution_count": 13,
   "id": "3e7d1204-9db0-498a-996f-7eaf94edd058",
   "metadata": {},
   "outputs": [],
   "source": [
    "unwanted = \" ###Hello, Python World!###a..a\""
   ]
  },
  {
   "cell_type": "code",
   "execution_count": 17,
   "id": "2904d6f1-590f-4fab-a1a9-1bd4fdbe5f3b",
   "metadata": {},
   "outputs": [
    {
     "data": {
      "text/plain": [
       "'Hello, Python World!'"
      ]
     },
     "execution_count": 17,
     "metadata": {},
     "output_type": "execute_result"
    }
   ],
   "source": [
    "a = unwanted.strip()\n",
    "a = a.rstrip('###a..a')\n",
    "a = a.lstrip('###')\n",
    "a"
   ]
  },
  {
   "cell_type": "code",
   "execution_count": 35,
   "id": "6eb8aa81-bbad-4eec-8aa8-97186369db01",
   "metadata": {},
   "outputs": [],
   "source": [
    "def switch(sen):\n",
    "    new = sen.replace(\"Python\", \"Programming\")\n",
    "    splited = new.split(\". \")\n",
    "    new_sen = \"\\n\".join(splited)\n",
    "    return new_sen"
   ]
  },
  {
   "cell_type": "code",
   "execution_count": 36,
   "id": "0434cbd0-1d5e-4fb9-960d-e2fa164a1ed7",
   "metadata": {},
   "outputs": [
    {
     "name": "stdout",
     "output_type": "stream",
     "text": [
      "Programming is an amazing language\n",
      "It supports multiple paradigms\n",
      "Programming is easy to learn and powerful\n",
      "Let's code in Programming.\n"
     ]
    }
   ],
   "source": [
    "paragraph = \"Python is an amazing language. It supports multiple paradigms. Python is easy to learn and powerful. Let's code in Python.\"\n",
    "print(switch(paragraph))"
   ]
  },
  {
   "cell_type": "code",
   "execution_count": 37,
   "id": "00ed89f8-f44a-49ea-9723-1819ecc50094",
   "metadata": {},
   "outputs": [
    {
     "data": {
      "text/plain": [
       "78.53981633974483"
      ]
     },
     "execution_count": 37,
     "metadata": {},
     "output_type": "execute_result"
    }
   ],
   "source": [
    "import math\n",
    "math.pi * 5 ** 2"
   ]
  },
  {
   "cell_type": "code",
   "execution_count": 39,
   "id": "546b3a76-7947-4463-9c56-20d6df3b3225",
   "metadata": {},
   "outputs": [],
   "source": [
    "a = 1\n",
    "b = -5\n",
    "c = 6\n",
    "\n",
    "def findX(a, b, c):\n",
    "    discriminate = (b**2) - (4*a*c)\n",
    "    if discriminate > 0:\n",
    "        val_1 = (-b + (discriminate**0.5)) / (2*a)\n",
    "        val_2 = (-b - (discriminate**0.5)) / (2*a)\n",
    "        return val_1, val_2\n",
    "    elif discriminate == 0:\n",
    "        val_1 = -b / (2*a)\n",
    "        return val_1\n",
    "    else:\n",
    "        return None"
   ]
  },
  {
   "cell_type": "code",
   "execution_count": 40,
   "id": "07110701-3e44-4af5-9a53-1b0e2d9301f7",
   "metadata": {},
   "outputs": [
    {
     "data": {
      "text/plain": [
       "(3.0, 2.0)"
      ]
     },
     "execution_count": 40,
     "metadata": {},
     "output_type": "execute_result"
    }
   ],
   "source": [
    "findX(a, b, c)"
   ]
  },
  {
   "cell_type": "code",
   "execution_count": 53,
   "id": "366e0e04-b524-4a69-b27f-1410cf600405",
   "metadata": {},
   "outputs": [],
   "source": [
    "def convert(i):\n",
    "    to_b = format(i, '#b')\n",
    "    to_oct = format(i, '#o')\n",
    "    to_hex = format(i, '#x')\n",
    "    return to_b, to_oct, to_hex"
   ]
  },
  {
   "cell_type": "code",
   "execution_count": 52,
   "id": "458a5066-17ee-4a70-9107-75526dfa27a4",
   "metadata": {},
   "outputs": [
    {
     "name": "stdout",
     "output_type": "stream",
     "text": [
      "<class 'str'>\n"
     ]
    },
    {
     "data": {
      "text/plain": [
       "('0b10', '0o2', '0x2')"
      ]
     },
     "execution_count": 52,
     "metadata": {},
     "output_type": "execute_result"
    }
   ],
   "source": [
    "convert(2)"
   ]
  },
  {
   "cell_type": "code",
   "execution_count": 58,
   "id": "70cdd810-8bc2-4967-9c76-f3a68f8343c7",
   "metadata": {},
   "outputs": [
    {
     "data": {
      "text/plain": [
       "2"
      ]
     },
     "execution_count": 58,
     "metadata": {},
     "output_type": "execute_result"
    }
   ],
   "source": [
    "division = 6 / 4\n",
    "round(division)"
   ]
  },
  {
   "cell_type": "code",
   "execution_count": 59,
   "id": "e9517cc0-1e38-4951-b937-2b5a8f0fd93c",
   "metadata": {},
   "outputs": [
    {
     "data": {
      "text/plain": [
       "1.5"
      ]
     },
     "execution_count": 59,
     "metadata": {},
     "output_type": "execute_result"
    }
   ],
   "source": [
    "division"
   ]
  },
  {
   "cell_type": "code",
   "execution_count": 60,
   "id": "4569b897-b4cc-40f6-98e6-4441f8ab41b7",
   "metadata": {},
   "outputs": [
    {
     "name": "stdout",
     "output_type": "stream",
     "text": [
      "Life is too short\n"
     ]
    }
   ],
   "source": [
    "list = ['Life', 'is', 'too', 'short']\n",
    "print(' '.join(list))"
   ]
  },
  {
   "cell_type": "code",
   "execution_count": 67,
   "id": "0833d670-059f-497c-a265-eb95a7a3c1ab",
   "metadata": {},
   "outputs": [],
   "source": [
    "def convertListToString(l):\n",
    "    print(' '.join(l))"
   ]
  },
  {
   "cell_type": "code",
   "execution_count": 68,
   "id": "6e034114-7e66-4c72-912e-bb4ff1b66082",
   "metadata": {},
   "outputs": [
    {
     "name": "stdout",
     "output_type": "stream",
     "text": [
      "Life is too short\n"
     ]
    }
   ],
   "source": [
    "convertListToString(list)"
   ]
  },
  {
   "cell_type": "code",
   "execution_count": 70,
   "id": "1c5e6b14-9e2a-4df2-95f3-e48600feb812",
   "metadata": {},
   "outputs": [
    {
     "name": "stdout",
     "output_type": "stream",
     "text": [
      "a#b#c#d\n"
     ]
    }
   ],
   "source": [
    "def replaceColonWithHash(s):\n",
    "    sp = s.split(':')\n",
    "    return '#'.join(sp)\n",
    "print(replaceColonWithHash(\"a:b:c:d\"))"
   ]
  },
  {
   "cell_type": "code",
   "execution_count": 72,
   "id": "a969fcde-98a3-4420-ad48-c7956ea97696",
   "metadata": {},
   "outputs": [
    {
     "name": "stdout",
     "output_type": "stream",
     "text": [
      "abc\n"
     ]
    }
   ],
   "source": [
    "my_list= [1, 2, 3, ['a', 'b', 'c']]\n",
    "\n",
    "result = ''.join(my_list[-1])\n",
    "print(result)"
   ]
  },
  {
   "cell_type": "code",
   "execution_count": 88,
   "id": "fc87358d-f902-4b46-909f-d6cf4b446e52",
   "metadata": {},
   "outputs": [],
   "source": [
    "my_list3 = [10, \"Python\", 20, \"is\", 30, \"great\"]"
   ]
  },
  {
   "cell_type": "code",
   "execution_count": 95,
   "id": "4098d89b-8cab-4ac9-b74c-83e9fc15bb5f",
   "metadata": {},
   "outputs": [],
   "source": [
    "def changeValue(l):\n",
    "    new = []\n",
    "    s = []\n",
    "    \n",
    "    for element in l:\n",
    "        if isinstance(element, int):\n",
    "            new.append(element * 2)\n",
    "        else:\n",
    "            new.append(element)\n",
    "            s.append(element)\n",
    "    s = ' '.join(s)\n",
    "    new *= 2\n",
    "    return new.append(s)"
   ]
  },
  {
   "cell_type": "code",
   "execution_count": 96,
   "id": "d177ce15-67d2-420e-987e-9e19c1922cd2",
   "metadata": {},
   "outputs": [
    {
     "name": "stdout",
     "output_type": "stream",
     "text": [
      "None\n"
     ]
    }
   ],
   "source": [
    "print(changeValue(my_list3))"
   ]
  },
  {
   "cell_type": "code",
   "execution_count": 94,
   "id": "c31fb0f8-7bf7-438f-8042-70aa2836d729",
   "metadata": {},
   "outputs": [
    {
     "name": "stdout",
     "output_type": "stream",
     "text": [
      "[]\n",
      "[20]\n",
      "[20, 'Python']\n",
      "[20, 'Python', 40]\n",
      "[20, 'Python', 40, 'is']\n",
      "[20, 'Python', 40, 'is', 60]\n",
      "['Python', 'is', 'great']\n",
      "[20, 'Python', 40, 'is', 60, 'great', 20, 'Python', 40, 'is', 60, 'great', 'Pythonisgreat']\n"
     ]
    }
   ],
   "source": [
    "    l = [10, \"Python\", 20, \"is\", 30, \"great\"]\n",
    "    new = []\n",
    "    s = []\n",
    "    \n",
    "    for element in l:\n",
    "        print(new)\n",
    "        if isinstance(element, int):\n",
    "            new.append(element * 2)\n",
    "        else:\n",
    "            new.append(element)\n",
    "            s.append(element)\n",
    "    print(s)\n",
    "    s = ''.join(s)\n",
    "    new *= 2\n",
    "    new.append(s)\n",
    "    print(new)"
   ]
  },
  {
   "cell_type": "code",
   "execution_count": 102,
   "id": "411d10c0-9c61-44aa-8333-2a1ab31a8d39",
   "metadata": {},
   "outputs": [],
   "source": [
    "programming_languages= [\"Python\", \"Java\", \"C++\", \"JavaScript\"]\n",
    "programming_languages.insert(programming_languages.index(\"C++\"), \"hi\")"
   ]
  },
  {
   "cell_type": "code",
   "execution_count": 104,
   "id": "cc848651-5187-43fc-bbe9-4e06d35b2276",
   "metadata": {},
   "outputs": [
    {
     "data": {
      "text/plain": [
       "['Python', 'Java', 'hi', 'C++', 'JavaScript']"
      ]
     },
     "execution_count": 104,
     "metadata": {},
     "output_type": "execute_result"
    }
   ],
   "source": [
    "programming_languages"
   ]
  },
  {
   "cell_type": "code",
   "execution_count": 106,
   "id": "c67e5707-45dc-4a4b-af12-6f6644277904",
   "metadata": {},
   "outputs": [
    {
     "data": {
      "text/plain": [
       "['ruler', 'notebook', 'scissors', 'eraser', 'marker', 'pencil', 'pencil']"
      ]
     },
     "execution_count": 106,
     "metadata": {},
     "output_type": "execute_result"
    }
   ],
   "source": [
    "items = [\"notebook\", \"pencil\", \"eraser\", \"marker\", \"ruler\", \"pencil\", \"book\", \"pencil\", \"scissors\"]\n",
    "items.remove(\"pencil\")\n",
    "n = items.pop(3)\n",
    "items.insert(0, n)\n",
    "m = items.pop()\n",
    "items.insert(2, m)\n",
    "items.pop(items.index(\"book\"))\n",
    "items"
   ]
  },
  {
   "cell_type": "code",
   "execution_count": 110,
   "id": "69ad303c-bd20-48c6-be72-04d28e3f4807",
   "metadata": {},
   "outputs": [
    {
     "name": "stdout",
     "output_type": "stream",
     "text": [
      "[85, 93, 79, 92, 88]\n",
      "[79, 85, 88, 92, 93]\n"
     ]
    }
   ],
   "source": [
    "scores = [88, 92, 79, 93, 85]\n",
    "scores.reverse()\n",
    "print(scores)\n",
    "scores.sort()\n",
    "print(scores)\n",
    "new_des = sorted(scores)[::-1]"
   ]
  },
  {
   "cell_type": "code",
   "execution_count": 108,
   "id": "2357d721-73aa-42be-badc-8bfc9b9dbecf",
   "metadata": {},
   "outputs": [
    {
     "data": {
      "text/plain": [
       "[93, 92, 88, 85, 79]"
      ]
     },
     "execution_count": 108,
     "metadata": {},
     "output_type": "execute_result"
    }
   ],
   "source": [
    "new_des"
   ]
  },
  {
   "cell_type": "code",
   "execution_count": 113,
   "id": "7aada150-e55a-47c3-960d-c0583322183d",
   "metadata": {},
   "outputs": [
    {
     "data": {
      "text/plain": [
       "[93, 92, 88, 85, 79, 3, 3]"
      ]
     },
     "execution_count": 113,
     "metadata": {},
     "output_type": "execute_result"
    }
   ],
   "source": [
    "new_des.extend([3])\n",
    "new_des"
   ]
  },
  {
   "cell_type": "code",
   "execution_count": 3,
   "id": "6b22b6f8-8a74-44a1-a359-0293fc1f1d4b",
   "metadata": {},
   "outputs": [
    {
     "name": "stdout",
     "output_type": "stream",
     "text": [
      "[4353, 2314, 2956, 9362, 4499, 3900, 5566, 1830]\n",
      "None\n",
      "None\n",
      "=======\n",
      "[1830, 2314, 2956, 3900, 4353, 4499, 5566, 9362]\n",
      "[9362, 5566, 4499, 4353, 3900, 2956, 2314, 1830]\n",
      "<class 'list'>\n"
     ]
    }
   ],
   "source": [
    "ids = [4353, 2314, 2956, 3382, 9362, 3900]\n",
    "ids.remove(3382)\n",
    "ids.insert(ids.index(9362)+1, 4499)\n",
    "ids.extend([5566, 1830])\n",
    "print(ids)\n",
    "reversed = ids.reverse() # None\n",
    "print(reversed) # None\n",
    "sorted = ids.sort() # None\n",
    "print(sorted)# None\n",
    "print(\"=======\")\n",
    "print(ids)\n",
    "reversed_list = ids[::-1]\n",
    "print(reversed_list)\n",
    "print(type(reversed_list))"
   ]
  },
  {
   "cell_type": "code",
   "execution_count": 4,
   "id": "d64f7496-9ba0-4393-991c-6ea5dc9ee933",
   "metadata": {},
   "outputs": [
    {
     "data": {
      "text/plain": [
       "[1830, 2314, 2956, 3900, 4353, 4499, 5566, 9362]"
      ]
     },
     "execution_count": 4,
     "metadata": {},
     "output_type": "execute_result"
    }
   ],
   "source": [
    "ids"
   ]
  },
  {
   "cell_type": "code",
   "execution_count": 7,
   "id": "478f0ec3-c860-4f38-977a-93d95a8aff74",
   "metadata": {},
   "outputs": [
    {
     "ename": "TypeError",
     "evalue": "'NoneType' object is not callable",
     "output_type": "error",
     "traceback": [
      "\u001b[0;31m---------------------------------------------------------------------------\u001b[0m",
      "\u001b[0;31mTypeError\u001b[0m                                 Traceback (most recent call last)",
      "Cell \u001b[0;32mIn[7], line 1\u001b[0m\n\u001b[0;32m----> 1\u001b[0m s_l \u001b[38;5;241m=\u001b[39m \u001b[38;5;28;43msorted\u001b[39;49m\u001b[43m(\u001b[49m\u001b[43mids\u001b[49m\u001b[43m)\u001b[49m\n\u001b[1;32m      2\u001b[0m \u001b[38;5;28mprint\u001b[39m(s_l)\n",
      "\u001b[0;31mTypeError\u001b[0m: 'NoneType' object is not callable"
     ]
    }
   ],
   "source": [
    "s_l = sorted(ids)\n",
    "print(s_l)"
   ]
  },
  {
   "cell_type": "code",
   "execution_count": 8,
   "id": "830f8b6c-12f9-405e-9257-a0d410aaceab",
   "metadata": {},
   "outputs": [
    {
     "name": "stdout",
     "output_type": "stream",
     "text": [
      "Modified ids: [4353, 2314, 2956, 9362, 4499, 3900, 5566, 1830]\n",
      "Reversed ids: [1830, 5566, 3900, 4499, 9362, 2956, 2314, 4353]\n"
     ]
    },
    {
     "ename": "TypeError",
     "evalue": "'NoneType' object is not callable",
     "output_type": "error",
     "traceback": [
      "\u001b[0;31m---------------------------------------------------------------------------\u001b[0m",
      "\u001b[0;31mTypeError\u001b[0m                                 Traceback (most recent call last)",
      "Cell \u001b[0;32mIn[8], line 20\u001b[0m\n\u001b[1;32m     17\u001b[0m \u001b[38;5;28mprint\u001b[39m(\u001b[38;5;124m\"\u001b[39m\u001b[38;5;124mReversed ids:\u001b[39m\u001b[38;5;124m\"\u001b[39m, ids)\n\u001b[1;32m     19\u001b[0m \u001b[38;5;66;03m# 정렬된 새로운 리스트를 반환하고, 원본 리스트는 변경하지 않음\u001b[39;00m\n\u001b[0;32m---> 20\u001b[0m sorted_ids \u001b[38;5;241m=\u001b[39m \u001b[38;5;28;43msorted\u001b[39;49m\u001b[43m(\u001b[49m\u001b[43mids\u001b[49m\u001b[43m)\u001b[49m\n\u001b[1;32m     22\u001b[0m \u001b[38;5;28mprint\u001b[39m(\u001b[38;5;124m\"\u001b[39m\u001b[38;5;124mSorted ids:\u001b[39m\u001b[38;5;124m\"\u001b[39m, sorted_ids)\n\u001b[1;32m     24\u001b[0m \u001b[38;5;28mprint\u001b[39m(\u001b[38;5;124m\"\u001b[39m\u001b[38;5;124m=======\u001b[39m\u001b[38;5;124m\"\u001b[39m)\n",
      "\u001b[0;31mTypeError\u001b[0m: 'NoneType' object is not callable"
     ]
    }
   ],
   "source": [
    "ids = [4353, 2314, 2956, 3382, 9362, 3900]\n",
    "\n",
    "# 리스트에서 3382를 삭제\n",
    "ids.remove(3382)\n",
    "\n",
    "# 9362 다음에 4499를 삽입\n",
    "ids.insert(ids.index(9362) + 1, 4499)\n",
    "\n",
    "# 리스트를 확장하여 [5566, 1830] 추가\n",
    "ids.extend([5566, 1830])\n",
    "\n",
    "print(\"Modified ids:\", ids)\n",
    "\n",
    "# 리스트를 뒤집기 (원본 리스트를 변경하며, 반환 값은 None)\n",
    "ids.reverse()\n",
    "\n",
    "print(\"Reversed ids:\", ids)\n",
    "\n",
    "# 정렬된 새로운 리스트를 반환하고, 원본 리스트는 변경하지 않음\n",
    "sorted_ids = sorted(ids)\n",
    "\n",
    "print(\"Sorted ids:\", sorted_ids)\n",
    "\n",
    "print(\"=======\")\n",
    "print(\"Original ids:\", ids)\n",
    "\n",
    "# 슬라이싱을 사용하여 리스트를 역순으로 출력\n",
    "reversed_list = ids[::-1]\n",
    "print(\"Reversed list using slicing:\", reversed_list)\n",
    "print(\"Type of reversed_list:\", type(reversed_list))\n"
   ]
  },
  {
   "cell_type": "code",
   "execution_count": null,
   "id": "7ab09b65-8ecd-4701-ab6d-cd8c10d66a6b",
   "metadata": {},
   "outputs": [],
   "source": []
  }
 ],
 "metadata": {
  "kernelspec": {
   "display_name": "Python 3 (ipykernel)",
   "language": "python",
   "name": "python3"
  },
  "language_info": {
   "codemirror_mode": {
    "name": "ipython",
    "version": 3
   },
   "file_extension": ".py",
   "mimetype": "text/x-python",
   "name": "python",
   "nbconvert_exporter": "python",
   "pygments_lexer": "ipython3",
   "version": "3.9.13"
  }
 },
 "nbformat": 4,
 "nbformat_minor": 5
}
