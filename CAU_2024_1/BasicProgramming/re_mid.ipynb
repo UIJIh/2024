{
 "cells": [
  {
   "cell_type": "code",
   "execution_count": 2,
   "id": "e7275439-58d6-46bf-bbdc-f1f2c3af9dbe",
   "metadata": {},
   "outputs": [
    {
     "data": {
      "text/plain": [
       "1"
      ]
     },
     "execution_count": 2,
     "metadata": {},
     "output_type": "execute_result"
    }
   ],
   "source": [
    "a = ['a', 'b', 'c']\n",
    "a.count('a')"
   ]
  },
  {
   "cell_type": "code",
   "execution_count": 4,
   "id": "0e992499-97d3-4657-a81f-f35221652aa7",
   "metadata": {},
   "outputs": [
    {
     "ename": "ValueError",
     "evalue": "'d' is not in list",
     "output_type": "error",
     "traceback": [
      "\u001b[0;31m---------------------------------------------------------------------------\u001b[0m",
      "\u001b[0;31mValueError\u001b[0m                                Traceback (most recent call last)",
      "Cell \u001b[0;32mIn[4], line 1\u001b[0m\n\u001b[0;32m----> 1\u001b[0m \u001b[43ma\u001b[49m\u001b[38;5;241;43m.\u001b[39;49m\u001b[43mindex\u001b[49m\u001b[43m(\u001b[49m\u001b[38;5;124;43m'\u001b[39;49m\u001b[38;5;124;43md\u001b[39;49m\u001b[38;5;124;43m'\u001b[39;49m\u001b[43m)\u001b[49m\n",
      "\u001b[0;31mValueError\u001b[0m: 'd' is not in list"
     ]
    }
   ],
   "source": [
    "a.index('d')"
   ]
  },
  {
   "cell_type": "code",
   "execution_count": 5,
   "id": "dd574c74-c058-44c2-bc9e-97d6575269a4",
   "metadata": {},
   "outputs": [],
   "source": [
    "str = 'iloveu'"
   ]
  },
  {
   "cell_type": "code",
   "execution_count": 7,
   "id": "18b2919a-c6dd-46e7-82b3-5f9b6c1df6b4",
   "metadata": {},
   "outputs": [
    {
     "data": {
      "text/plain": [
       "1"
      ]
     },
     "execution_count": 7,
     "metadata": {},
     "output_type": "execute_result"
    }
   ],
   "source": [
    "str.count('i')"
   ]
  },
  {
   "cell_type": "code",
   "execution_count": 9,
   "id": "96ad8fa4-9508-4311-905f-21501a443df1",
   "metadata": {},
   "outputs": [
    {
     "data": {
      "text/plain": [
       "-1"
      ]
     },
     "execution_count": 9,
     "metadata": {},
     "output_type": "execute_result"
    }
   ],
   "source": [
    "str.find('y')"
   ]
  },
  {
   "cell_type": "code",
   "execution_count": 11,
   "id": "7e502f3c-cd01-49f7-8214-4fbf67694eea",
   "metadata": {},
   "outputs": [
    {
     "data": {
      "text/plain": [
       "['i', 'oveu']"
      ]
     },
     "execution_count": 11,
     "metadata": {},
     "output_type": "execute_result"
    }
   ],
   "source": [
    "str.split('l')"
   ]
  },
  {
   "cell_type": "code",
   "execution_count": 13,
   "id": "3e7d1204-9db0-498a-996f-7eaf94edd058",
   "metadata": {},
   "outputs": [],
   "source": [
    "unwanted = \" ###Hello, Python World!###a..a\""
   ]
  },
  {
   "cell_type": "code",
   "execution_count": 17,
   "id": "2904d6f1-590f-4fab-a1a9-1bd4fdbe5f3b",
   "metadata": {},
   "outputs": [
    {
     "data": {
      "text/plain": [
       "'Hello, Python World!'"
      ]
     },
     "execution_count": 17,
     "metadata": {},
     "output_type": "execute_result"
    }
   ],
   "source": [
    "a = unwanted.strip()\n",
    "a = a.rstrip('###a..a')\n",
    "a = a.lstrip('###')\n",
    "a"
   ]
  },
  {
   "cell_type": "code",
   "execution_count": 35,
   "id": "6eb8aa81-bbad-4eec-8aa8-97186369db01",
   "metadata": {},
   "outputs": [],
   "source": [
    "def switch(sen):\n",
    "    new = sen.replace(\"Python\", \"Programming\")\n",
    "    splited = new.split(\". \")\n",
    "    new_sen = \"\\n\".join(splited)\n",
    "    return new_sen"
   ]
  },
  {
   "cell_type": "code",
   "execution_count": 36,
   "id": "0434cbd0-1d5e-4fb9-960d-e2fa164a1ed7",
   "metadata": {},
   "outputs": [
    {
     "name": "stdout",
     "output_type": "stream",
     "text": [
      "Programming is an amazing language\n",
      "It supports multiple paradigms\n",
      "Programming is easy to learn and powerful\n",
      "Let's code in Programming.\n"
     ]
    }
   ],
   "source": [
    "paragraph = \"Python is an amazing language. It supports multiple paradigms. Python is easy to learn and powerful. Let's code in Python.\"\n",
    "print(switch(paragraph))"
   ]
  },
  {
   "cell_type": "code",
   "execution_count": 37,
   "id": "00ed89f8-f44a-49ea-9723-1819ecc50094",
   "metadata": {},
   "outputs": [
    {
     "data": {
      "text/plain": [
       "78.53981633974483"
      ]
     },
     "execution_count": 37,
     "metadata": {},
     "output_type": "execute_result"
    }
   ],
   "source": [
    "import math\n",
    "math.pi * 5 ** 2"
   ]
  },
  {
   "cell_type": "code",
   "execution_count": 39,
   "id": "546b3a76-7947-4463-9c56-20d6df3b3225",
   "metadata": {},
   "outputs": [],
   "source": [
    "a = 1\n",
    "b = -5\n",
    "c = 6\n",
    "\n",
    "def findX(a, b, c):\n",
    "    discriminate = (b**2) - (4*a*c)\n",
    "    if discriminate > 0:\n",
    "        val_1 = (-b + (discriminate**0.5)) / (2*a)\n",
    "        val_2 = (-b - (discriminate**0.5)) / (2*a)\n",
    "        return val_1, val_2\n",
    "    elif discriminate == 0:\n",
    "        val_1 = -b / (2*a)\n",
    "        return val_1\n",
    "    else:\n",
    "        return None"
   ]
  },
  {
   "cell_type": "code",
   "execution_count": 40,
   "id": "07110701-3e44-4af5-9a53-1b0e2d9301f7",
   "metadata": {},
   "outputs": [
    {
     "data": {
      "text/plain": [
       "(3.0, 2.0)"
      ]
     },
     "execution_count": 40,
     "metadata": {},
     "output_type": "execute_result"
    }
   ],
   "source": [
    "findX(a, b, c)"
   ]
  },
  {
   "cell_type": "code",
   "execution_count": 53,
   "id": "366e0e04-b524-4a69-b27f-1410cf600405",
   "metadata": {},
   "outputs": [],
   "source": [
    "def convert(i):\n",
    "    to_b = format(i, '#b')\n",
    "    to_oct = format(i, '#o')\n",
    "    to_hex = format(i, '#x')\n",
    "    return to_b, to_oct, to_hex"
   ]
  },
  {
   "cell_type": "code",
   "execution_count": 52,
   "id": "458a5066-17ee-4a70-9107-75526dfa27a4",
   "metadata": {},
   "outputs": [
    {
     "name": "stdout",
     "output_type": "stream",
     "text": [
      "<class 'str'>\n"
     ]
    },
    {
     "data": {
      "text/plain": [
       "('0b10', '0o2', '0x2')"
      ]
     },
     "execution_count": 52,
     "metadata": {},
     "output_type": "execute_result"
    }
   ],
   "source": [
    "convert(2)"
   ]
  },
  {
   "cell_type": "code",
   "execution_count": 58,
   "id": "70cdd810-8bc2-4967-9c76-f3a68f8343c7",
   "metadata": {},
   "outputs": [
    {
     "data": {
      "text/plain": [
       "2"
      ]
     },
     "execution_count": 58,
     "metadata": {},
     "output_type": "execute_result"
    }
   ],
   "source": [
    "division = 6 / 4\n",
    "round(division)"
   ]
  },
  {
   "cell_type": "code",
   "execution_count": 59,
   "id": "e9517cc0-1e38-4951-b937-2b5a8f0fd93c",
   "metadata": {},
   "outputs": [
    {
     "data": {
      "text/plain": [
       "1.5"
      ]
     },
     "execution_count": 59,
     "metadata": {},
     "output_type": "execute_result"
    }
   ],
   "source": [
    "division"
   ]
  },
  {
   "cell_type": "code",
   "execution_count": 60,
   "id": "4569b897-b4cc-40f6-98e6-4441f8ab41b7",
   "metadata": {},
   "outputs": [
    {
     "name": "stdout",
     "output_type": "stream",
     "text": [
      "Life is too short\n"
     ]
    }
   ],
   "source": [
    "list = ['Life', 'is', 'too', 'short']\n",
    "print(' '.join(list))"
   ]
  },
  {
   "cell_type": "code",
   "execution_count": 67,
   "id": "0833d670-059f-497c-a265-eb95a7a3c1ab",
   "metadata": {},
   "outputs": [],
   "source": [
    "def convertListToString(l):\n",
    "    print(' '.join(l))"
   ]
  },
  {
   "cell_type": "code",
   "execution_count": 68,
   "id": "6e034114-7e66-4c72-912e-bb4ff1b66082",
   "metadata": {},
   "outputs": [
    {
     "name": "stdout",
     "output_type": "stream",
     "text": [
      "Life is too short\n"
     ]
    }
   ],
   "source": [
    "convertListToString(list)"
   ]
  },
  {
   "cell_type": "code",
   "execution_count": 70,
   "id": "1c5e6b14-9e2a-4df2-95f3-e48600feb812",
   "metadata": {},
   "outputs": [
    {
     "name": "stdout",
     "output_type": "stream",
     "text": [
      "a#b#c#d\n"
     ]
    }
   ],
   "source": [
    "def replaceColonWithHash(s):\n",
    "    sp = s.split(':')\n",
    "    return '#'.join(sp)\n",
    "print(replaceColonWithHash(\"a:b:c:d\"))"
   ]
  },
  {
   "cell_type": "code",
   "execution_count": 72,
   "id": "a969fcde-98a3-4420-ad48-c7956ea97696",
   "metadata": {},
   "outputs": [
    {
     "name": "stdout",
     "output_type": "stream",
     "text": [
      "abc\n"
     ]
    }
   ],
   "source": [
    "my_list= [1, 2, 3, ['a', 'b', 'c']]\n",
    "\n",
    "result = ''.join(my_list[-1])\n",
    "print(result)"
   ]
  },
  {
   "cell_type": "code",
   "execution_count": 88,
   "id": "fc87358d-f902-4b46-909f-d6cf4b446e52",
   "metadata": {},
   "outputs": [],
   "source": [
    "my_list3 = [10, \"Python\", 20, \"is\", 30, \"great\"]"
   ]
  },
  {
   "cell_type": "code",
   "execution_count": 95,
   "id": "4098d89b-8cab-4ac9-b74c-83e9fc15bb5f",
   "metadata": {},
   "outputs": [],
   "source": [
    "def changeValue(l):\n",
    "    new = []\n",
    "    s = []\n",
    "    \n",
    "    for element in l:\n",
    "        if isinstance(element, int):\n",
    "            new.append(element * 2)\n",
    "        else:\n",
    "            new.append(element)\n",
    "            s.append(element)\n",
    "    s = ' '.join(s)\n",
    "    new *= 2\n",
    "    return new.append(s)"
   ]
  },
  {
   "cell_type": "code",
   "execution_count": 96,
   "id": "d177ce15-67d2-420e-987e-9e19c1922cd2",
   "metadata": {},
   "outputs": [
    {
     "name": "stdout",
     "output_type": "stream",
     "text": [
      "None\n"
     ]
    }
   ],
   "source": [
    "print(changeValue(my_list3))"
   ]
  },
  {
   "cell_type": "code",
   "execution_count": 94,
   "id": "c31fb0f8-7bf7-438f-8042-70aa2836d729",
   "metadata": {},
   "outputs": [
    {
     "name": "stdout",
     "output_type": "stream",
     "text": [
      "[]\n",
      "[20]\n",
      "[20, 'Python']\n",
      "[20, 'Python', 40]\n",
      "[20, 'Python', 40, 'is']\n",
      "[20, 'Python', 40, 'is', 60]\n",
      "['Python', 'is', 'great']\n",
      "[20, 'Python', 40, 'is', 60, 'great', 20, 'Python', 40, 'is', 60, 'great', 'Pythonisgreat']\n"
     ]
    }
   ],
   "source": [
    "    l = [10, \"Python\", 20, \"is\", 30, \"great\"]\n",
    "    new = []\n",
    "    s = []\n",
    "    \n",
    "    for element in l:\n",
    "        print(new)\n",
    "        if isinstance(element, int):\n",
    "            new.append(element * 2)\n",
    "        else:\n",
    "            new.append(element)\n",
    "            s.append(element)\n",
    "    print(s)\n",
    "    s = ''.join(s)\n",
    "    new *= 2\n",
    "    new.append(s)\n",
    "    print(new)"
   ]
  },
  {
   "cell_type": "code",
   "execution_count": 102,
   "id": "411d10c0-9c61-44aa-8333-2a1ab31a8d39",
   "metadata": {},
   "outputs": [],
   "source": [
    "programming_languages= [\"Python\", \"Java\", \"C++\", \"JavaScript\"]\n",
    "programming_languages.insert(programming_languages.index(\"C++\"), \"hi\")"
   ]
  },
  {
   "cell_type": "code",
   "execution_count": 104,
   "id": "cc848651-5187-43fc-bbe9-4e06d35b2276",
   "metadata": {},
   "outputs": [
    {
     "data": {
      "text/plain": [
       "['Python', 'Java', 'hi', 'C++', 'JavaScript']"
      ]
     },
     "execution_count": 104,
     "metadata": {},
     "output_type": "execute_result"
    }
   ],
   "source": [
    "programming_languages"
   ]
  },
  {
   "cell_type": "code",
   "execution_count": 106,
   "id": "c67e5707-45dc-4a4b-af12-6f6644277904",
   "metadata": {},
   "outputs": [
    {
     "data": {
      "text/plain": [
       "['ruler', 'notebook', 'scissors', 'eraser', 'marker', 'pencil', 'pencil']"
      ]
     },
     "execution_count": 106,
     "metadata": {},
     "output_type": "execute_result"
    }
   ],
   "source": [
    "items = [\"notebook\", \"pencil\", \"eraser\", \"marker\", \"ruler\", \"pencil\", \"book\", \"pencil\", \"scissors\"]\n",
    "items.remove(\"pencil\")\n",
    "n = items.pop(3)\n",
    "items.insert(0, n)\n",
    "m = items.pop()\n",
    "items.insert(2, m)\n",
    "items.pop(items.index(\"book\"))\n",
    "items"
   ]
  },
  {
   "cell_type": "code",
   "execution_count": 2,
   "id": "69ad303c-bd20-48c6-be72-04d28e3f4807",
   "metadata": {},
   "outputs": [
    {
     "name": "stdout",
     "output_type": "stream",
     "text": [
      "[85, 93, 79, 92, 88]\n",
      "[79, 85, 88, 92, 93]\n"
     ]
    }
   ],
   "source": [
    "scores = [88, 92, 79, 93, 85]\n",
    "scores.reverse()\n",
    "print(scores)\n",
    "scores.sort()\n",
    "print(scores)\n",
    "new_des = sorted(scores)[::-1]"
   ]
  },
  {
   "cell_type": "code",
   "execution_count": 108,
   "id": "2357d721-73aa-42be-badc-8bfc9b9dbecf",
   "metadata": {},
   "outputs": [
    {
     "data": {
      "text/plain": [
       "[93, 92, 88, 85, 79]"
      ]
     },
     "execution_count": 108,
     "metadata": {},
     "output_type": "execute_result"
    }
   ],
   "source": [
    "new_des"
   ]
  },
  {
   "cell_type": "code",
   "execution_count": 113,
   "id": "7aada150-e55a-47c3-960d-c0583322183d",
   "metadata": {},
   "outputs": [
    {
     "data": {
      "text/plain": [
       "[93, 92, 88, 85, 79, 3, 3]"
      ]
     },
     "execution_count": 113,
     "metadata": {},
     "output_type": "execute_result"
    }
   ],
   "source": [
    "new_des.extend([3])\n",
    "new_des"
   ]
  },
  {
   "cell_type": "code",
   "execution_count": 1,
   "id": "6b22b6f8-8a74-44a1-a359-0293fc1f1d4b",
   "metadata": {},
   "outputs": [
    {
     "name": "stdout",
     "output_type": "stream",
     "text": [
      "[4353, 2314, 2956, 9362, 4499, 3900, 5566, 1830]\n",
      "None\n",
      "None\n",
      "=======\n",
      "[1830, 2314, 2956, 3900, 4353, 4499, 5566, 9362]\n",
      "[9362, 5566, 4499, 4353, 3900, 2956, 2314, 1830]\n",
      "<class 'list'>\n"
     ]
    }
   ],
   "source": [
    "ids = [4353, 2314, 2956, 3382, 9362, 3900]\n",
    "ids.remove(3382)\n",
    "ids.insert(ids.index(9362)+1, 4499)\n",
    "ids.extend([5566, 1830])\n",
    "print(ids)\n",
    "reversed_list = ids.reverse() # None\n",
    "print(reversed_list) # None\n",
    "sorted_list = ids.sort() # None\n",
    "print(sorted_list)# None\n",
    "print(\"=======\")\n",
    "print(ids)\n",
    "reversed_list = ids[::-1]\n",
    "print(reversed_list)\n",
    "print(type(reversed_list))"
   ]
  },
  {
   "cell_type": "code",
   "execution_count": 9,
   "id": "d64f7496-9ba0-4393-991c-6ea5dc9ee933",
   "metadata": {},
   "outputs": [
    {
     "name": "stdout",
     "output_type": "stream",
     "text": [
      "[9362, 4353, 3900, 3382, 2956, 2314]\n",
      "[4353, 2314, 2956, 3382, 9362, 3900]\n"
     ]
    }
   ],
   "source": [
    "ids = [4353, 2314, 2956, 3382, 9362, 3900]\n",
    "test = sorted(ids, reverse=True)\n",
    "print(test)\n",
    "print(ids)"
   ]
  },
  {
   "cell_type": "code",
   "execution_count": 19,
   "id": "478f0ec3-c860-4f38-977a-93d95a8aff74",
   "metadata": {},
   "outputs": [
    {
     "data": {
      "text/plain": [
       "list"
      ]
     },
     "execution_count": 19,
     "metadata": {},
     "output_type": "execute_result"
    }
   ],
   "source": [
    "type(ids)"
   ]
  },
  {
   "cell_type": "code",
   "execution_count": 20,
   "id": "7ab09b65-8ecd-4701-ab6d-cd8c10d66a6b",
   "metadata": {},
   "outputs": [
    {
     "ename": "NameError",
     "evalue": "name 'rev_l' is not defined",
     "output_type": "error",
     "traceback": [
      "\u001b[1;31m---------------------------------------------------------------------------\u001b[0m",
      "\u001b[1;31mNameError\u001b[0m                                 Traceback (most recent call last)",
      "Cell \u001b[1;32mIn[20], line 1\u001b[0m\n\u001b[1;32m----> 1\u001b[0m \u001b[38;5;28mtype\u001b[39m(\u001b[43mrev_l\u001b[49m)\n",
      "\u001b[1;31mNameError\u001b[0m: name 'rev_l' is not defined"
     ]
    }
   ],
   "source": [
    "type(rev_l)"
   ]
  },
  {
   "cell_type": "code",
   "execution_count": 24,
   "id": "8b6e5540",
   "metadata": {},
   "outputs": [],
   "source": [
    "def twice(s):\n",
    "    new_s = []\n",
    "    for i, letter in enumerate(s):\n",
    "        new_s.append(letter * 2)\n",
    "    return ''.join(new_s)"
   ]
  },
  {
   "cell_type": "code",
   "execution_count": 25,
   "id": "35fa661e",
   "metadata": {},
   "outputs": [
    {
     "data": {
      "text/plain": [
       "'ppyytthhoonn'"
      ]
     },
     "execution_count": 25,
     "metadata": {},
     "output_type": "execute_result"
    }
   ],
   "source": [
    "twice('python')"
   ]
  },
  {
   "cell_type": "code",
   "execution_count": 28,
   "id": "f006f753",
   "metadata": {},
   "outputs": [],
   "source": [
    "def Fibonaccie(seq):\n",
    "    for i in range(2, 10):\n",
    "        seq.append(seq[i-1] + seq[i-2])\n",
    "    return seq"
   ]
  },
  {
   "cell_type": "code",
   "execution_count": 29,
   "id": "551edc39",
   "metadata": {},
   "outputs": [
    {
     "data": {
      "text/plain": [
       "[0, 1, 1, 2, 3, 5, 8, 13, 21, 34]"
      ]
     },
     "execution_count": 29,
     "metadata": {},
     "output_type": "execute_result"
    }
   ],
   "source": [
    "Fibonaccie([0,1])"
   ]
  },
  {
   "cell_type": "code",
   "execution_count": 30,
   "id": "c8124331",
   "metadata": {},
   "outputs": [
    {
     "name": "stdout",
     "output_type": "stream",
     "text": [
      "[1, 5, 9, 13, 17, 21, 25, 29]\n"
     ]
    }
   ],
   "source": [
    "l = []\n",
    "for i in range(1, 30, 4):\n",
    "    l.append(i)\n",
    "print(l)"
   ]
  },
  {
   "cell_type": "code",
   "execution_count": 31,
   "id": "adde054d",
   "metadata": {},
   "outputs": [
    {
     "name": "stdout",
     "output_type": "stream",
     "text": [
      "[10, 9, 8, 7, 6, 5, 4, 3, 2, 1]\n"
     ]
    }
   ],
   "source": [
    "l = []\n",
    "for i in range(10, 0, -1):\n",
    "    l.append(i)\n",
    "print(l)"
   ]
  },
  {
   "cell_type": "code",
   "execution_count": 32,
   "id": "a105d463",
   "metadata": {},
   "outputs": [],
   "source": [
    "def mirror(s):\n",
    "    re_s = s[::-1]\n",
    "    result = s + re_s\n",
    "    return result"
   ]
  },
  {
   "cell_type": "code",
   "execution_count": 33,
   "id": "7078aec3",
   "metadata": {},
   "outputs": [
    {
     "data": {
      "text/plain": [
       "'abccba'"
      ]
     },
     "execution_count": 33,
     "metadata": {},
     "output_type": "execute_result"
    }
   ],
   "source": [
    "mirror(\"abc\")"
   ]
  },
  {
   "cell_type": "code",
   "execution_count": 35,
   "id": "9f96fb08",
   "metadata": {},
   "outputs": [
    {
     "data": {
      "text/plain": [
       "[1, 4, 9, 16, 25, 36, 49, 64, 81, 100]"
      ]
     },
     "execution_count": 35,
     "metadata": {},
     "output_type": "execute_result"
    }
   ],
   "source": [
    "sqaures = [val**2 for val in range(1, 11)]\n",
    "sqaures"
   ]
  },
  {
   "cell_type": "code",
   "execution_count": 37,
   "id": "53c0f71a",
   "metadata": {},
   "outputs": [],
   "source": [
    "def atOnce(l):\n",
    "    new = [element*idx for idx,element in enumerate(l)]\n",
    "    return new"
   ]
  },
  {
   "cell_type": "code",
   "execution_count": 38,
   "id": "20d14aed",
   "metadata": {},
   "outputs": [
    {
     "data": {
      "text/plain": [
       "[0, 2, 6, 12, 20]"
      ]
     },
     "execution_count": 38,
     "metadata": {},
     "output_type": "execute_result"
    }
   ],
   "source": [
    "atOnce([1,2,3,4,5])"
   ]
  },
  {
   "cell_type": "code",
   "execution_count": 39,
   "id": "57eaf31b",
   "metadata": {},
   "outputs": [],
   "source": [
    "def sepSentence(s):\n",
    "    date = s[:s.index(\"#\")]\n",
    "    des = s[s.index(\"#\")+1 : s.index(\"@\")]\n",
    "    rating = s[s.index(\"@\")+1:]\n",
    "    return date, des, rating"
   ]
  },
  {
   "cell_type": "code",
   "execution_count": 41,
   "id": "5c5be0c0",
   "metadata": {},
   "outputs": [
    {
     "data": {
      "text/plain": [
       "('20240319', 'Sunny Day at the Beach', '95')"
      ]
     },
     "execution_count": 41,
     "metadata": {},
     "output_type": "execute_result"
    }
   ],
   "source": [
    "str = \"20240319#Sunny Day at the Beach@95\"\n",
    "sepSentence(str)"
   ]
  },
  {
   "cell_type": "code",
   "execution_count": 42,
   "id": "b4487592",
   "metadata": {},
   "outputs": [],
   "source": [
    "def containsWord(X, Y):\n",
    "    return Y.lower() in X.lower()"
   ]
  },
  {
   "cell_type": "code",
   "execution_count": 43,
   "id": "38acc277",
   "metadata": {},
   "outputs": [
    {
     "data": {
      "text/plain": [
       "True"
      ]
     },
     "execution_count": 43,
     "metadata": {},
     "output_type": "execute_result"
    }
   ],
   "source": [
    "containsWord(\"The quick brown fox jumps over the lazy dog\", \"Fox\")"
   ]
  },
  {
   "cell_type": "code",
   "execution_count": 44,
   "id": "1ec7e178",
   "metadata": {},
   "outputs": [],
   "source": [
    "def isQualified(X, Y):\n",
    "    if Y >= 5:\n",
    "        return True\n",
    "    elif X >= 30 and Y>= 3:\n",
    "        return True\n",
    "    else: \n",
    "        return False"
   ]
  },
  {
   "cell_type": "code",
   "execution_count": 45,
   "id": "c83afaa7",
   "metadata": {},
   "outputs": [
    {
     "data": {
      "text/plain": [
       "False"
      ]
     },
     "execution_count": 45,
     "metadata": {},
     "output_type": "execute_result"
    }
   ],
   "source": [
    "isQualified(6,3)"
   ]
  },
  {
   "cell_type": "code",
   "execution_count": 46,
   "id": "228cf7bb",
   "metadata": {},
   "outputs": [],
   "source": [
    "def areElementsPresent(X, Y):\n",
    "    for element in X:\n",
    "        if element in Y:\n",
    "            return True"
   ]
  },
  {
   "cell_type": "code",
   "execution_count": 47,
   "id": "4d1ba861",
   "metadata": {},
   "outputs": [
    {
     "data": {
      "text/plain": [
       "True"
      ]
     },
     "execution_count": 47,
     "metadata": {},
     "output_type": "execute_result"
    }
   ],
   "source": [
    "areElementsPresent([2, 3], [1, 2, 3, 4, 5])"
   ]
  },
  {
   "cell_type": "code",
   "execution_count": 49,
   "id": "188b7f5c",
   "metadata": {},
   "outputs": [
    {
     "data": {
      "text/plain": [
       "'hi'"
      ]
     },
     "execution_count": 49,
     "metadata": {},
     "output_type": "execute_result"
    }
   ],
   "source": [
    "hi = \"hi  \"\n",
    "hi.strip()"
   ]
  },
  {
   "cell_type": "code",
   "execution_count": 50,
   "id": "1d3d3a64",
   "metadata": {},
   "outputs": [
    {
     "data": {
      "text/plain": [
       "'hi  '"
      ]
     },
     "execution_count": 50,
     "metadata": {},
     "output_type": "execute_result"
    }
   ],
   "source": [
    "hi"
   ]
  },
  {
   "cell_type": "code",
   "execution_count": 52,
   "id": "3b7d86fe",
   "metadata": {},
   "outputs": [],
   "source": [
    "def containsWordSensitive(X, Y):\n",
    "    return Y in X"
   ]
  },
  {
   "cell_type": "code",
   "execution_count": 53,
   "id": "0980b38c",
   "metadata": {},
   "outputs": [
    {
     "data": {
      "text/plain": [
       "False"
      ]
     },
     "execution_count": 53,
     "metadata": {},
     "output_type": "execute_result"
    }
   ],
   "source": [
    "containsWordSensitive(\"The quick brown fox jumps over the lazy dog\", \"Fox\")"
   ]
  },
  {
   "cell_type": "code",
   "execution_count": 54,
   "id": "7830a9df",
   "metadata": {},
   "outputs": [
    {
     "data": {
      "text/plain": [
       "True"
      ]
     },
     "execution_count": 54,
     "metadata": {},
     "output_type": "execute_result"
    }
   ],
   "source": [
    "containsWordSensitive(\"The quick brown fox jumps over the lazy dog\", \"fox\")"
   ]
  },
  {
   "cell_type": "code",
   "execution_count": 55,
   "id": "63a0b150",
   "metadata": {},
   "outputs": [],
   "source": [
    "def isMirrorString(X, Y):\n",
    "    return X[::-1].lower() == Y.lower()"
   ]
  },
  {
   "cell_type": "code",
   "execution_count": 56,
   "id": "5eb1f7b3",
   "metadata": {},
   "outputs": [
    {
     "data": {
      "text/plain": [
       "True"
      ]
     },
     "execution_count": 56,
     "metadata": {},
     "output_type": "execute_result"
    }
   ],
   "source": [
    "isMirrorString(\"desserts\", \"Stressed\") "
   ]
  },
  {
   "cell_type": "code",
   "execution_count": 64,
   "id": "61e2ac1d",
   "metadata": {},
   "outputs": [],
   "source": [
    "def isAnagram(X, Y):\n",
    "    x_low = X.lower()\n",
    "    y_low = Y.lower()\n",
    "    x_low = x_low.replace(\" \", \"\")\n",
    "    y_low = y_low.replace(\" \", \"\")\n",
    "    x_sorted = sorted(x_low)\n",
    "    y_sorted = sorted(y_low)\n",
    "    return x_sorted == y_sorted\n"
   ]
  },
  {
   "cell_type": "code",
   "execution_count": 65,
   "id": "f51ff131",
   "metadata": {},
   "outputs": [
    {
     "data": {
      "text/plain": [
       "True"
      ]
     },
     "execution_count": 65,
     "metadata": {},
     "output_type": "execute_result"
    }
   ],
   "source": [
    "isAnagram(\"Lis ten\", \"Si le nt\")"
   ]
  },
  {
   "cell_type": "code",
   "execution_count": 66,
   "id": "d6764e6c",
   "metadata": {},
   "outputs": [],
   "source": [
    "def multiplyString(X, Y):\n",
    "    multi = Y * X\n",
    "    return multi"
   ]
  },
  {
   "cell_type": "code",
   "execution_count": 67,
   "id": "ed88d184",
   "metadata": {},
   "outputs": [
    {
     "data": {
      "text/plain": [
       "'abcabcabc'"
      ]
     },
     "execution_count": 67,
     "metadata": {},
     "output_type": "execute_result"
    }
   ],
   "source": [
    "multiplyString(3, 'abc')"
   ]
  },
  {
   "cell_type": "code",
   "execution_count": 13,
   "id": "260c28ed",
   "metadata": {},
   "outputs": [],
   "source": [
    "def sumOfDigits(integer):\n",
    "    i_str = f'{integer}'\n",
    "    result = 0\n",
    "    for n in i_str:\n",
    "        result += int(n)\n",
    "    return result\n",
    "    "
   ]
  },
  {
   "cell_type": "code",
   "execution_count": 4,
   "id": "1da0b916",
   "metadata": {},
   "outputs": [],
   "source": [
    "def sumOfDigits(integer):\n",
    "    i_str = str(integer)\n",
    "    result = 0\n",
    "    for n in range(len(i_str)):\n",
    "        result += int(i_str[n])\n",
    "    return result\n",
    "    "
   ]
  },
  {
   "cell_type": "code",
   "execution_count": 98,
   "id": "2e710180",
   "metadata": {},
   "outputs": [],
   "source": [
    "def suOfDigits(i):\n",
    "    string_int = str(i)\n",
    "    result_2 = 0\n",
    "    for i in range(len(string_int)):\n",
    "        result_2 += int(string_int[i])\n",
    "    return result_2"
   ]
  },
  {
   "cell_type": "code",
   "execution_count": 14,
   "id": "9bd4affd",
   "metadata": {},
   "outputs": [
    {
     "data": {
      "text/plain": [
       "6"
      ]
     },
     "execution_count": 14,
     "metadata": {},
     "output_type": "execute_result"
    }
   ],
   "source": [
    "sumOfDigits(123)"
   ]
  },
  {
   "cell_type": "code",
   "execution_count": 12,
   "id": "94d6b40b",
   "metadata": {},
   "outputs": [
    {
     "name": "stdout",
     "output_type": "stream",
     "text": [
      "<class 'str'>\n"
     ]
    }
   ],
   "source": [
    "print(type(str(123)))"
   ]
  },
  {
   "cell_type": "code",
   "execution_count": 11,
   "id": "696703e1",
   "metadata": {},
   "outputs": [
    {
     "name": "stdout",
     "output_type": "stream",
     "text": [
      "<class 'str'>\n"
     ]
    }
   ],
   "source": [
    "print(type(f'{123}'))"
   ]
  },
  {
   "cell_type": "code",
   "execution_count": 15,
   "id": "7689f049",
   "metadata": {},
   "outputs": [
    {
     "name": "stdout",
     "output_type": "stream",
     "text": [
      "h\n",
      "i\n"
     ]
    }
   ],
   "source": [
    "hi = \"hi\"\n",
    "for letter in hi:\n",
    "    print(letter)"
   ]
  },
  {
   "cell_type": "code",
   "execution_count": 20,
   "id": "9cb97077",
   "metadata": {},
   "outputs": [],
   "source": [
    "def sumOfDigits(integer):\n",
    "    i_str = str(integer)\n",
    "    result = 0\n",
    "    for n in i_str:\n",
    "        result += int(n)\n",
    "    return result\n",
    "    "
   ]
  },
  {
   "cell_type": "code",
   "execution_count": 21,
   "id": "946d1963",
   "metadata": {},
   "outputs": [
    {
     "data": {
      "text/plain": [
       "6"
      ]
     },
     "execution_count": 21,
     "metadata": {},
     "output_type": "execute_result"
    }
   ],
   "source": [
    "sumOfDigits(123)"
   ]
  },
  {
   "cell_type": "code",
   "execution_count": 76,
   "id": "84ca2bba",
   "metadata": {},
   "outputs": [
    {
     "data": {
      "text/plain": [
       "[4, 3, 2, 1]"
      ]
     },
     "execution_count": 76,
     "metadata": {},
     "output_type": "execute_result"
    }
   ],
   "source": [
    "def reverseList(l):\n",
    "    return sorted(l, reverse=True)\n",
    "reverseList([1,2,3,4])"
   ]
  },
  {
   "cell_type": "code",
   "execution_count": 77,
   "id": "dfb6db45",
   "metadata": {},
   "outputs": [
    {
     "data": {
      "text/plain": [
       "15"
      ]
     },
     "execution_count": 77,
     "metadata": {},
     "output_type": "execute_result"
    }
   ],
   "source": [
    "def sumAllNumbers(i):\n",
    "    sum = 0\n",
    "    for i in range(1, i+1):\n",
    "        sum += i\n",
    "    return sum\n",
    "sumAllNumbers(5)"
   ]
  },
  {
   "cell_type": "code",
   "execution_count": 78,
   "id": "076621f9",
   "metadata": {},
   "outputs": [],
   "source": [
    "def createSequence(i):\n",
    "    new = []\n",
    "    for i in range(i):\n",
    "        new.append(i)\n",
    "    return new"
   ]
  },
  {
   "cell_type": "code",
   "execution_count": 79,
   "id": "48dc9798",
   "metadata": {},
   "outputs": [
    {
     "data": {
      "text/plain": [
       "[0, 1, 2]"
      ]
     },
     "execution_count": 79,
     "metadata": {},
     "output_type": "execute_result"
    }
   ],
   "source": [
    "createSequence(3)"
   ]
  },
  {
   "cell_type": "code",
   "execution_count": 22,
   "id": "5a0045f7",
   "metadata": {},
   "outputs": [],
   "source": [
    "def sumOfDigits(i):\n",
    "    i = str(i)\n",
    "    sum = 0\n",
    "    for n in i:\n",
    "        sum += int(n)\n",
    "    return sum"
   ]
  },
  {
   "cell_type": "code",
   "execution_count": 23,
   "id": "37b6cc72",
   "metadata": {},
   "outputs": [
    {
     "data": {
      "text/plain": [
       "6"
      ]
     },
     "execution_count": 23,
     "metadata": {},
     "output_type": "execute_result"
    }
   ],
   "source": [
    "sumOfDigits(123)"
   ]
  },
  {
   "cell_type": "code",
   "execution_count": 24,
   "id": "0c1187e2",
   "metadata": {},
   "outputs": [
    {
     "name": "stdout",
     "output_type": "stream",
     "text": [
      "Python hi\n"
     ]
    }
   ],
   "source": [
    "a = \"python hi\"\n",
    "print(a.capitalize())"
   ]
  },
  {
   "cell_type": "code",
   "execution_count": 25,
   "id": "8ba70124",
   "metadata": {},
   "outputs": [],
   "source": [
    "def areElementsPresent(X, Y):\n",
    "    for element in X:\n",
    "        if element not in Y:\n",
    "            return False\n",
    "    return True "
   ]
  },
  {
   "cell_type": "code",
   "execution_count": 26,
   "id": "7349ce22",
   "metadata": {},
   "outputs": [
    {
     "data": {
      "text/plain": [
       "True"
      ]
     },
     "execution_count": 26,
     "metadata": {},
     "output_type": "execute_result"
    }
   ],
   "source": [
    "areElementsPresent([2,3],[1,2,3,4,5])"
   ]
  },
  {
   "cell_type": "code",
   "execution_count": 27,
   "id": "1a205790",
   "metadata": {},
   "outputs": [
    {
     "data": {
      "text/plain": [
       "False"
      ]
     },
     "execution_count": 27,
     "metadata": {},
     "output_type": "execute_result"
    }
   ],
   "source": [
    "areElementsPresent([2,3,6],[1,2,3,4,5])"
   ]
  },
  {
   "cell_type": "code",
   "execution_count": 33,
   "id": "8e5bdfc6",
   "metadata": {},
   "outputs": [],
   "source": [
    "def twiceCharacter(s):\n",
    "    s = str(s)\n",
    "    new = []\n",
    "    for i in s:\n",
    "        new += [str(i) * 2]\n",
    "    result = \"\".join(new)\n",
    "    return result"
   ]
  },
  {
   "cell_type": "code",
   "execution_count": 34,
   "id": "ef6f2091",
   "metadata": {},
   "outputs": [
    {
     "data": {
      "text/plain": [
       "'PPyytthhoonn'"
      ]
     },
     "execution_count": 34,
     "metadata": {},
     "output_type": "execute_result"
    }
   ],
   "source": [
    "twiceCharacter('Python')"
   ]
  },
  {
   "cell_type": "code",
   "execution_count": 42,
   "id": "830b132e",
   "metadata": {},
   "outputs": [],
   "source": [
    "def Fibonaccie(seq):\n",
    "    while len(seq) < 10:\n",
    "        seq.append(seq[-1] + seq[-2])\n",
    "    return seq"
   ]
  },
  {
   "cell_type": "code",
   "execution_count": 43,
   "id": "ae4f9e03",
   "metadata": {},
   "outputs": [
    {
     "data": {
      "text/plain": [
       "[0, 1, 1, 2, 3, 5, 8, 13, 21, 34]"
      ]
     },
     "execution_count": 43,
     "metadata": {},
     "output_type": "execute_result"
    }
   ],
   "source": [
    "Fibonaccie([0, 1])"
   ]
  },
  {
   "cell_type": "code",
   "execution_count": 44,
   "id": "fa4b205b",
   "metadata": {},
   "outputs": [],
   "source": [
    "def Fibonaccie(seq):\n",
    "    for i in range(2, 10):\n",
    "        seq.append(seq[i-1]+seq[i-2])\n",
    "    return seq"
   ]
  },
  {
   "cell_type": "code",
   "execution_count": 41,
   "id": "7ff7c2f9",
   "metadata": {},
   "outputs": [
    {
     "data": {
      "text/plain": [
       "[0, 1, 1, 2, 3, 5, 8, 13, 21, 34]"
      ]
     },
     "execution_count": 41,
     "metadata": {},
     "output_type": "execute_result"
    }
   ],
   "source": [
    "Fibonaccie([0, 1])"
   ]
  },
  {
   "cell_type": "code",
   "execution_count": 46,
   "id": "cc0e2c22",
   "metadata": {},
   "outputs": [
    {
     "data": {
      "text/plain": [
       "[1, 4, 9, 16, 25, 36, 49, 64, 81]"
      ]
     },
     "execution_count": 46,
     "metadata": {},
     "output_type": "execute_result"
    }
   ],
   "source": [
    "square = [val ** 2 for val in range(1, 10)]\n",
    "square"
   ]
  },
  {
   "cell_type": "code",
   "execution_count": 54,
   "id": "ff7907c4",
   "metadata": {},
   "outputs": [],
   "source": [
    "my_list3 = [10, \"Python\", 20, \"is\", 30, \"great\"]\n",
    "\n",
    "def changeUp(l):\n",
    "    new_str_l = []\n",
    "    new_l = []\n",
    "    for element in l:\n",
    "        if isinstance(element, int):\n",
    "            new_l.append(element * 2)\n",
    "        else:\n",
    "            new_str_l.append(element)\n",
    "            new_l.append(element)\n",
    "    new_str = ' '.join(new_str_l)\n",
    "    new_list = new_l * 2\n",
    "    new_list.append(new_str)\n",
    "    return new_list\n"
   ]
  },
  {
   "cell_type": "code",
   "execution_count": 55,
   "id": "e3b7f15c",
   "metadata": {},
   "outputs": [
    {
     "name": "stdout",
     "output_type": "stream",
     "text": [
      "[20, 'Python', 40, 'is', 60, 'great', 20, 'Python', 40, 'is', 60, 'great', 'Python is great']\n"
     ]
    }
   ],
   "source": [
    "print(changeUp(my_list3))"
   ]
  },
  {
   "cell_type": "code",
   "execution_count": 62,
   "id": "9a887179",
   "metadata": {},
   "outputs": [
    {
     "data": {
      "text/plain": [
       "[0, 2, 11, 22, 77, 44]"
      ]
     },
     "execution_count": 62,
     "metadata": {},
     "output_type": "execute_result"
    }
   ],
   "source": [
    "scores = [44, 77, 22, 11, 2, 0]\n",
    "scores.reverse() # no alpha\n",
    "scores\n"
   ]
  },
  {
   "cell_type": "code",
   "execution_count": 59,
   "id": "c7325d63",
   "metadata": {},
   "outputs": [
    {
     "data": {
      "text/plain": [
       "[0, 2, 11, 22, 44, 77]"
      ]
     },
     "execution_count": 59,
     "metadata": {},
     "output_type": "execute_result"
    }
   ],
   "source": [
    "scores.sort()\n",
    "scores # ascending"
   ]
  },
  {
   "cell_type": "code",
   "execution_count": 61,
   "id": "c2333f1d",
   "metadata": {},
   "outputs": [
    {
     "data": {
      "text/plain": [
       "[77, 44, 22, 11, 2, 0]"
      ]
     },
     "execution_count": 61,
     "metadata": {},
     "output_type": "execute_result"
    }
   ],
   "source": [
    "new_list = sorted(scores, reverse=True)\n",
    "new_list"
   ]
  },
  {
   "cell_type": "code",
   "execution_count": 63,
   "id": "ee12c333",
   "metadata": {},
   "outputs": [
    {
     "data": {
      "text/plain": [
       "[77, 44, 22, 11, 2, 0]"
      ]
     },
     "execution_count": 63,
     "metadata": {},
     "output_type": "execute_result"
    }
   ],
   "source": [
    "new_list = sorted(scores)[::-1]\n",
    "new_list"
   ]
  },
  {
   "cell_type": "code",
   "execution_count": 66,
   "id": "ff112d5b",
   "metadata": {},
   "outputs": [],
   "source": [
    "def convertInt(i):\n",
    "    to_binary = format(i, \"#b\")\n",
    "    to_octal = format(i, \"#o\")\n",
    "    to_hex = format(i, \"#x\")\n",
    "    return to_binary, to_octal, to_hex"
   ]
  },
  {
   "cell_type": "code",
   "execution_count": 67,
   "id": "36e8c367",
   "metadata": {},
   "outputs": [
    {
     "data": {
      "text/plain": [
       "('0b11', '0o3', '0x3')"
      ]
     },
     "execution_count": 67,
     "metadata": {},
     "output_type": "execute_result"
    }
   ],
   "source": [
    "convertInt(3)"
   ]
  },
  {
   "cell_type": "code",
   "execution_count": 74,
   "id": "329ae8b6",
   "metadata": {},
   "outputs": [],
   "source": [
    "def convertInt(i):\n",
    "    to_binary = int(str(i), 2)\n",
    "    to_octal = int(str(i), 8)\n",
    "    to_hex = int(str(i), 16)\n",
    "    return to_binary, to_octal, to_hex"
   ]
  },
  {
   "cell_type": "code",
   "execution_count": 75,
   "id": "3c7e67e0",
   "metadata": {},
   "outputs": [
    {
     "ename": "ValueError",
     "evalue": "invalid literal for int() with base 2: '3'",
     "output_type": "error",
     "traceback": [
      "\u001b[1;31m---------------------------------------------------------------------------\u001b[0m",
      "\u001b[1;31mValueError\u001b[0m                                Traceback (most recent call last)",
      "Cell \u001b[1;32mIn[75], line 1\u001b[0m\n\u001b[1;32m----> 1\u001b[0m \u001b[43mconvertInt\u001b[49m\u001b[43m(\u001b[49m\u001b[38;5;241;43m3\u001b[39;49m\u001b[43m)\u001b[49m\n",
      "Cell \u001b[1;32mIn[74], line 2\u001b[0m, in \u001b[0;36mconvertInt\u001b[1;34m(i)\u001b[0m\n\u001b[0;32m      1\u001b[0m \u001b[38;5;28;01mdef\u001b[39;00m \u001b[38;5;21mconvertInt\u001b[39m(i):\n\u001b[1;32m----> 2\u001b[0m     to_binary \u001b[38;5;241m=\u001b[39m \u001b[38;5;28;43mint\u001b[39;49m\u001b[43m(\u001b[49m\u001b[38;5;28;43mstr\u001b[39;49m\u001b[43m(\u001b[49m\u001b[43mi\u001b[49m\u001b[43m)\u001b[49m\u001b[43m,\u001b[49m\u001b[43m \u001b[49m\u001b[38;5;241;43m2\u001b[39;49m\u001b[43m)\u001b[49m\n\u001b[0;32m      3\u001b[0m     to_octal \u001b[38;5;241m=\u001b[39m \u001b[38;5;28mint\u001b[39m(\u001b[38;5;28mstr\u001b[39m(i), \u001b[38;5;241m8\u001b[39m)\n\u001b[0;32m      4\u001b[0m     to_hex \u001b[38;5;241m=\u001b[39m \u001b[38;5;28mint\u001b[39m(\u001b[38;5;28mstr\u001b[39m(i), \u001b[38;5;241m16\u001b[39m)\n",
      "\u001b[1;31mValueError\u001b[0m: invalid literal for int() with base 2: '3'"
     ]
    }
   ],
   "source": [
    "convertInt(3)"
   ]
  },
  {
   "cell_type": "code",
   "execution_count": 79,
   "id": "e3ad888b",
   "metadata": {},
   "outputs": [
    {
     "data": {
      "text/plain": [
       "'0x3'"
      ]
     },
     "execution_count": 79,
     "metadata": {},
     "output_type": "execute_result"
    }
   ],
   "source": [
    "hex(3)"
   ]
  },
  {
   "cell_type": "code",
   "execution_count": 86,
   "id": "28878276",
   "metadata": {},
   "outputs": [
    {
     "name": "stdout",
     "output_type": "stream",
     "text": [
      "cau.ac.kr\n"
     ]
    }
   ],
   "source": [
    "url = \"www.cau.ac.kr\"\n",
    "new_url = url.removeprefix(\"www.\")\n",
    "print(new_url)"
   ]
  },
  {
   "cell_type": "code",
   "execution_count": null,
   "id": "1ff8e634",
   "metadata": {},
   "outputs": [],
   "source": [
    "del list[3] \n",
    ".insert(idx, \"ele\")"
   ]
  },
  {
   "cell_type": "code",
   "execution_count": null,
   "id": "3b6a1c07",
   "metadata": {},
   "outputs": [],
   "source": [
    ".append(element)\n",
    ".extend([element])\n",
    "+= [element]"
   ]
  },
  {
   "cell_type": "code",
   "execution_count": 89,
   "id": "4ca91552",
   "metadata": {},
   "outputs": [
    {
     "data": {
      "text/plain": [
       "[10, 9, 8, 7, 6, 5, 4, 3, 2, 1, 0]"
      ]
     },
     "execution_count": 89,
     "metadata": {},
     "output_type": "execute_result"
    }
   ],
   "source": [
    "new = []\n",
    "for i in range(10, -1, -1):\n",
    "    new += [i]\n",
    "new"
   ]
  },
  {
   "cell_type": "code",
   "execution_count": 91,
   "id": "3bd27eec",
   "metadata": {},
   "outputs": [
    {
     "name": "stdout",
     "output_type": "stream",
     "text": [
      "1\n",
      "2\n",
      "3\n"
     ]
    }
   ],
   "source": [
    "int_eg = 123\n",
    "for i in str(int_eg):\n",
    "    print(i)"
   ]
  },
  {
   "cell_type": "code",
   "execution_count": null,
   "id": "d1206768",
   "metadata": {},
   "outputs": [],
   "source": [
    "(-b +- ((b**2 - 4*a*c) ** 0.5)) / (2*a)"
   ]
  },
  {
   "cell_type": "code",
   "execution_count": 94,
   "id": "1f5911ca",
   "metadata": {},
   "outputs": [],
   "source": [
    "def solveEquation(a, b, c):\n",
    "    test = b**2 - 4*a*c\n",
    "    if test > 0:\n",
    "        sol_1 = (-b + (test)**0.5) / (2*a)\n",
    "        sol_2 = (-b - (test)**0.5) / (2*a)\n",
    "        return sol_1, sol_2\n",
    "    elif test == 0:\n",
    "        sol = -b / (2*a)\n",
    "        return sol\n",
    "    else:\n",
    "        return None"
   ]
  },
  {
   "cell_type": "code",
   "execution_count": 95,
   "id": "548303e6",
   "metadata": {},
   "outputs": [
    {
     "data": {
      "text/plain": [
       "(3.0, 2.0)"
      ]
     },
     "execution_count": 95,
     "metadata": {},
     "output_type": "execute_result"
    }
   ],
   "source": [
    "solveEquation(1, -5, 6)"
   ]
  }
 ],
 "metadata": {
  "kernelspec": {
   "display_name": "Python 3 (ipykernel)",
   "language": "python",
   "name": "python3"
  },
  "language_info": {
   "codemirror_mode": {
    "name": "ipython",
    "version": 3
   },
   "file_extension": ".py",
   "mimetype": "text/x-python",
   "name": "python",
   "nbconvert_exporter": "python",
   "pygments_lexer": "ipython3",
   "version": "3.12.3"
  }
 },
 "nbformat": 4,
 "nbformat_minor": 5
}
