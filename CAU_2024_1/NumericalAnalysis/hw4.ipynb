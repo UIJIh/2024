{
 "cells": [
  {
   "cell_type": "markdown",
   "metadata": {},
   "source": [
    "1(1)\n",
    "\n",
    "두 점을 지나는 >> 1차\n",
    "\n",
    "f(x) = a_1 + a_2*x\n",
    "\n",
    "a + 1.4*b = 3.7<br>\n",
    "a + 1.25*b = 3.9<br>\n",
    "0.15*b = -0.2<br>\n",
    "b = -20/15<br>\n",
    "b = -4/3 <br>\n",
    "(a_2를 찾았고, a_1을 찾아야 함)"
   ]
  },
  {
   "cell_type": "code",
   "execution_count": 10,
   "metadata": {},
   "outputs": [
    {
     "name": "stdout",
     "output_type": "stream",
     "text": [
      "5.56666666662 + -1.3333333333x\n"
     ]
    }
   ],
   "source": [
    "# 1(1)\n",
    "b = -1.3333333333\n",
    "a = 3.7 - (1.4*b)\n",
    "# print(a)\n",
    "print(f'{a} + {b}x')\n"
   ]
  },
  {
   "cell_type": "markdown",
   "metadata": {},
   "source": [
    "1(2)\n",
    "\n",
    "f(x) = a_1 + a_2*x\n",
    "\n",
    "a + 4.5*b = 7.1<br>\n",
    "a + 6.1*b = 2.3<br>\n",
    "-1.6*b = 4.8<br>\n",
    "b = -48/16<br>\n",
    "b = -3"
   ]
  },
  {
   "cell_type": "code",
   "execution_count": 11,
   "metadata": {},
   "outputs": [
    {
     "name": "stdout",
     "output_type": "stream",
     "text": [
      "20.6 + -3x\n"
     ]
    }
   ],
   "source": [
    "# 1(2)\n",
    "b = -3\n",
    "a = 7.1 - (4.5*b)\n",
    "# print(a)\n",
    "print(f'{a} + {b}x')"
   ]
  },
  {
   "cell_type": "code",
   "execution_count": 1,
   "metadata": {},
   "outputs": [
    {
     "name": "stdout",
     "output_type": "stream",
     "text": [
      "0.8907015999999995\n"
     ]
    }
   ],
   "source": [
    "# 2(1)\n",
    "def Linear_interpolation(points, find_point):\n",
    "    for row in range(len(points) - 1):\n",
    "        if find_point > points[row][0] and find_point < points[row + 1][0]:\n",
    "            x1 = points[row][0]\n",
    "            x2 = points[row + 1][0]\n",
    "            y1 = points[row][1]\n",
    "            y2 = points[row + 1][1]\n",
    "            return (((y1 - y2) / (x1 - x2)) * find_point) + ((y2 * x1 - y1 * x2) / (x1 - x2))\n",
    "\n",
    "points = [[1.0, 1.0],[1.2, 0.918168],[1.4, 0.887263],[1.6, 0.893515], [1.8, 0.931338], [2.0, 1.0]]\n",
    "find_point = 1.51\n",
    "print(Linear_interpolation(points, find_point))"
   ]
  },
  {
   "cell_type": "code",
   "execution_count": 2,
   "metadata": {},
   "outputs": [
    {
     "name": "stdout",
     "output_type": "stream",
     "text": [
      "0.88846\n"
     ]
    }
   ],
   "source": [
    "# 2(2)\n",
    "points = [[1.0, 1.0],[1.2, 0.9181],[1.4, 0.8872],[1.6, 0.8935], [1.8, 0.9313], [2.0, 1.0]]\n",
    "find_point = 1.44\n",
    "print(Linear_interpolation(points, find_point))"
   ]
  },
  {
   "cell_type": "code",
   "execution_count": 6,
   "metadata": {},
   "outputs": [],
   "source": [
    "# 3 -> 손풀이"
   ]
  },
  {
   "cell_type": "code",
   "execution_count": 3,
   "metadata": {},
   "outputs": [
    {
     "name": "stdout",
     "output_type": "stream",
     "text": [
      "0.0\n"
     ]
    }
   ],
   "source": [
    "# 4(1)\n",
    "from functools import reduce\n",
    "import operator\n",
    "\n",
    "x_v = [0, 1, 3, 4]\n",
    "y_v = [2, 2, 2, 14]\n",
    "x = 2\n",
    "\n",
    "def Lagrange_interpolation(x, x_values, y_values):\n",
    "    def _basis(j):\n",
    "        p = [(x - x_values[m]) / (x_values[j] - x_values[m]) for m in range(k) if m != j]\n",
    "        return reduce(operator.mul, p, 1)  # 초기값 1을 추가합니다.\n",
    "    assert len(x_values) != 0 and (len(x_values) == len(y_values)), 'x와 y는 비어있지 않아야 하며, 같은 길이를 가져야 합니다.'\n",
    "    k = len(x_values)\n",
    "    return sum(_basis(j) * y_values[j] for j in range(k))\n",
    "\n",
    "print(Lagrange_interpolation(x, x_v, y_v))"
   ]
  },
  {
   "cell_type": "code",
   "execution_count": 4,
   "metadata": {},
   "outputs": [
    {
     "name": "stdout",
     "output_type": "stream",
     "text": [
      "2.0\n"
     ]
    }
   ],
   "source": [
    "# 4(2)\n",
    "x_v = [0, 1, 3]\n",
    "y_v = [2, 2, 2]\n",
    "x = 2\n",
    "print(Lagrange_interpolation(x, x_v, y_v))"
   ]
  },
  {
   "cell_type": "code",
   "execution_count": 5,
   "metadata": {},
   "outputs": [
    {
     "name": "stdout",
     "output_type": "stream",
     "text": [
      "-1.9999999999999996\n"
     ]
    }
   ],
   "source": [
    "# 4(3)\n",
    "x_v = [1, 3, 4]\n",
    "y_v = [2, 2, 14]\n",
    "x = 2\n",
    "print(Lagrange_interpolation(x, x_v, y_v))"
   ]
  },
  {
   "cell_type": "code",
   "execution_count": null,
   "metadata": {},
   "outputs": [],
   "source": [
    "x = [0.05, 0.15, 0.25, 0.35, 0.45, 0.55, 0.65, 0.75, 0.85, 0.95]"
   ]
  }
 ],
 "metadata": {
  "kernelspec": {
   "display_name": "Python 3",
   "language": "python",
   "name": "python3"
  },
  "language_info": {
   "codemirror_mode": {
    "name": "ipython",
    "version": 3
   },
   "file_extension": ".py",
   "mimetype": "text/x-python",
   "name": "python",
   "nbconvert_exporter": "python",
   "pygments_lexer": "ipython3",
   "version": "3.11.2"
  }
 },
 "nbformat": 4,
 "nbformat_minor": 2
}
