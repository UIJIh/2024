{
 "cells": [
  {
   "cell_type": "code",
   "execution_count": 16,
   "id": "e99bb632-673a-4a6d-b681-af282710c7fe",
   "metadata": {},
   "outputs": [
    {
     "name": "stdout",
     "output_type": "stream",
     "text": [
      "포인트 A는 로봇이 바라보는 방향에 없다.\n",
      "포인트 B는 로봇이 바라보는 방향에 있다.\n",
      "포인트 C는 로봇이 바라보는 방향에 있다.\n",
      "----------------------------------------------------------------------------------------------------\n",
      "< 넘파이 라이브러리 x >\n",
      "포인트 A는 로봇이 바라보는 방향에 없다.\n",
      "포인트 B는 로봇이 바라보는 방향에 있다.\n",
      "포인트 C는 로봇이 바라보는 방향에 있다.\n"
     ]
    }
   ],
   "source": [
    "# 1.\n",
    "import numpy as np\n",
    "\n",
    "# 로봇의 바라보는 방향 벡터\n",
    "direction_vector = np.array([1, 1, 1])\n",
    "\n",
    "# 로봇의 현재 위치\n",
    "robot_position = np.array([3, 2, 4])\n",
    "\n",
    "# 각 포인트\n",
    "points = {\n",
    "    \"A\": np.array([1, 1, 1]),\n",
    "    \"B\": np.array([10, 0, 4]),\n",
    "    \"C\": np.array([-2, 9, 6])\n",
    "}\n",
    "\n",
    "for point_name, point in points.items():\n",
    "    # 포인트를 바라보는 방향벡터\n",
    "    dir_point = point - robot_position\n",
    "    # 로봇이 바라보는 방향과의 내적 계산\n",
    "    dot_product = np.dot(direction_vector, dir_point)\n",
    "    #print(dot_product)\n",
    "    # 내적이 양수인지 확인\n",
    "    if dot_product > 0:\n",
    "        print(f\"포인트 {point_name}는 로봇이 바라보는 방향에 있다.\")\n",
    "    else:\n",
    "        print(f\"포인트 {point_name}는 로봇이 바라보는 방향에 없다.\")\n",
    "\n",
    "# 넘파이 x 버전\n",
    "print('-'*100)\n",
    "print('< 넘파이 라이브러리 x >')\n",
    "\n",
    "def dot_product(v1, v2):\n",
    "    return sum(x*y for x, y in zip(v1, v2))\n",
    "\n",
    "for point_name, point in points.items():\n",
    "    dir_point = tuple(p-r for p, r in zip(point, robot_position))\n",
    "    dot = dot_product(direction_vector, dir_point)\n",
    "    #print(dot)\n",
    "    \n",
    "    # 내적이 양수인지 확인\n",
    "    if dot > 0:\n",
    "        print(f\"포인트 {point_name}는 로봇이 바라보는 방향에 있다.\")\n",
    "    else:\n",
    "        print(f\"포인트 {point_name}는 로봇이 바라보는 방향에 없다.\")"
   ]
  },
  {
   "cell_type": "code",
   "execution_count": 25,
   "id": "4d8e0472-e9bf-41dc-8aab-28c8cfe9fb7d",
   "metadata": {
    "scrolled": true
   },
   "outputs": [
    {
     "name": "stdout",
     "output_type": "stream",
     "text": [
      "A : 포인트에서 직선까지의 최단거리는 1.5811388300841895입니다.\n",
      "B : 두 직선의 교차점은 (1.5, 1.4999999999999998)입니다.\n",
      "----------------------------------------------------------------------------------------------------\n",
      "< 넘파이 라이브러리 x >\n",
      "A : 포인트에서 직선까지의 최단거리는 1.5811388300841895입니다.\n",
      "B : 두 직선의 교차점은 (1.5, 1.5)입니다.\n"
     ]
    }
   ],
   "source": [
    "# 2.\n",
    "import numpy as np\n",
    "\n",
    "# 포인트 (x1, y1)\n",
    "x1, y1 = 3, 2\n",
    "\n",
    "# 직선 Ax + By + C = 0의 계수\n",
    "A, B, C = 3, 1, -6\n",
    "\n",
    "# A. 포인트에서 직선까지의 최단거리 계산\n",
    "distance = abs(A*x1 + B*y1 + C) / np.sqrt(A**2 + B**2)\n",
    "print(f\"A : 포인트에서 직선까지의 최단거리는 {distance}입니다.\")\n",
    "\n",
    "# B. 주어진 직선과 수직인 직선의 교차점 계산\n",
    "# 주어진 직선의 기울기는 -A/B. 수직인 직선의 기울기는 B/A\n",
    "# 포인트를 지나는 직선의 방정식 y = mx + b 에서 b를 구함\n",
    "m_perpendicular = B/A\n",
    "b_perpendicular = y1 - m_perpendicular * x1\n",
    "\n",
    "# 주어진 직선과 수직인 직선의 교차점 계산\n",
    "# 3x + y = 6 과 y = (1/3)x + b_perpendicular의 교차점을 찾음\n",
    "# 연립방정식을 풀기 위해 numpy의 linalg.solve 사용\n",
    "A_matrix = np.array([[3, 1], [-m_perpendicular, 1]])\n",
    "B_matrix = np.array([6, b_perpendicular])\n",
    "intersection = np.linalg.solve(A_matrix, B_matrix)\n",
    "\n",
    "print(f\"B : 두 직선의 교차점은 ({intersection[0]}, {intersection[1]})입니다.\")\n",
    "\n",
    "# 넘파이 x 버전\n",
    "print('-'*100)\n",
    "print('< 넘파이 라이브러리 x >')\n",
    "distance = abs(A*x1 + B*y1 + C) / ((A**2 + B**2) ** 0.5)\n",
    "print(f\"A : 포인트에서 직선까지의 최단거리는 {distance}입니다.\")\n",
    "\n",
    "m_perpendicular = B / A\n",
    "b_perpendicular = y1 - m_perpendicular * x1\n",
    "\n",
    "x_intersection = (6 - b_perpendicular) / (3 + (1/3))\n",
    "y_intersection = (1/3) * x_intersection + b_perpendicular\n",
    "\n",
    "print(f\"B : 두 직선의 교차점은 ({x_intersection}, {y_intersection})입니다.\")"
   ]
  },
  {
   "cell_type": "code",
   "execution_count": 33,
   "id": "b54b0be4-b548-4a8e-b76c-e1d3b1fb3951",
   "metadata": {},
   "outputs": [
    {
     "name": "stdout",
     "output_type": "stream",
     "text": [
      "단위 법선 벡터: (0.5812381937190965, 0.813733471206735)\n",
      "원점으로부터 직선까지의 거리: 5.347391382215687\n"
     ]
    }
   ],
   "source": [
    "# 3.c\n",
    "import math\n",
    "\n",
    "# 주어진 값\n",
    "a = 5\n",
    "b = 7\n",
    "d = 46\n",
    "\n",
    "# 단위 법선 벡터 계산\n",
    "norm = math.sqrt(a**2 + b**2)\n",
    "unit_normal_vector = (a / norm, b / norm)\n",
    "\n",
    "# 원점으로부터 직선까지의 거리 계산\n",
    "distance = d / norm\n",
    "\n",
    "print(f\"단위 법선 벡터: {unit_normal_vector}\")\n",
    "print(f\"원점으로부터 직선까지의 거리: {distance}\")"
   ]
  },
  {
   "cell_type": "code",
   "execution_count": 32,
   "id": "bc9caee0-c4fd-47e4-ba6b-f0eb468f2988",
   "metadata": {},
   "outputs": [
    {
     "name": "stdout",
     "output_type": "stream",
     "text": [
      "단위 법선 벡터: (0.49613893835683387, 0.8682431421244593)\n",
      "원점으로부터 직선까지의 거리: 5.209458852746756\n"
     ]
    }
   ],
   "source": [
    "# 4.c\n",
    "import math\n",
    "\n",
    "# 주어진 값\n",
    "a = 4\n",
    "b = 7\n",
    "d = 42\n",
    "\n",
    "# 단위 법선 벡터 계산\n",
    "norm = math.sqrt(a**2 + b**2)\n",
    "unit_normal_vector = (a / norm, b / norm)\n",
    "\n",
    "# 원점으로부터 직선까지의 거리 계산\n",
    "distance = d / norm\n",
    "\n",
    "print(f\"단위 법선 벡터: {unit_normal_vector}\")\n",
    "print(f\"원점으로부터 직선까지의 거리: {distance}\")"
   ]
  },
  {
   "cell_type": "code",
   "execution_count": 36,
   "id": "0f3fb9d3-81f2-452d-bb52-91398343ae57",
   "metadata": {},
   "outputs": [
    {
     "name": "stdout",
     "output_type": "stream",
     "text": [
      "A : 점 q와 평면까지의 거리: 1.091089451179962\n",
      "B : 두 점 a와 b는 평면을 기준으로 동일한 쪽에 있다: False\n"
     ]
    }
   ],
   "source": [
    "# 5.\n",
    "import numpy as np\n",
    "\n",
    "def calculate_distance_to_plane(n, p, q):\n",
    "    d = np.dot(n, p)\n",
    "    distance = abs(np.dot(n, q) - d) / np.linalg.norm(n)\n",
    "    return distance\n",
    "\n",
    "def check_same_side_of_plane(n, p, a, b):\n",
    "    d = np.dot(n, p)\n",
    "    sign_a = np.dot(n, a) - d\n",
    "    sign_b = np.dot(n, b) - d\n",
    "    #print(sign_a, sign_b)\n",
    "    return np.sign(sign_a) == np.sign(sign_b)\n",
    "\n",
    "# 주어진 값\n",
    "n = np.array([1, 4, 2])\n",
    "p = np.array([3, 0, 5])\n",
    "q = np.array([10, 2, -5])\n",
    "a = np.array([4, 9, 7])\n",
    "b = np.array([3, -2, 4])\n",
    "\n",
    "# A. 점 q와 평면까지의 거리 계산\n",
    "distance = calculate_distance_to_plane(n, p, q)\n",
    "print(f\"A : 점 q와 평면까지의 거리: {distance}\")\n",
    "\n",
    "# B. 두 점 a와 b가 평면을 기준으로 동일한 쪽에 있는지 확인\n",
    "same_side = check_same_side_of_plane(n, p, a, b)\n",
    "print(f\"B : 두 점 a와 b는 평면을 기준으로 동일한 쪽에 있다: {same_side}\")"
   ]
  },
  {
   "cell_type": "code",
   "execution_count": 39,
   "id": "5d7bfb4f-30b6-4648-b07d-71069945ef4b",
   "metadata": {},
   "outputs": [
    {
     "name": "stdout",
     "output_type": "stream",
     "text": [
      "< 넘파이 라이브러리 x >\n",
      "A : 점 q와 평면까지의 거리: 1.091089451179962\n",
      "B : 두 점 a와 b는 평면을 기준으로 동일한 쪽에 있는가: False\n"
     ]
    }
   ],
   "source": [
    "# 넘파이 x 버전\n",
    "print('< 넘파이 라이브러리 x >')\n",
    "\n",
    "# 법선 벡터와 평면 위의 한 점\n",
    "n = [1, 4, 2]\n",
    "p = [3, 0, 5]\n",
    "\n",
    "# 평면의 방정식 구성 요소 계산\n",
    "d = n[0]*p[0] + n[1]*p[1] + n[2]*p[2]\n",
    "\n",
    "# 점 q와 평면까지의 거리 계산 함수\n",
    "def calculate_distance(n, p, q, d):\n",
    "    numerator = abs(n[0]*q[0] + n[1]*q[1] + n[2]*q[2] - d)\n",
    "    denominator = (n[0]**2 + n[1]**2 + n[2]**2)**0.5\n",
    "    distance = numerator / denominator\n",
    "    return distance\n",
    "\n",
    "# 두 점이 평면의 동일한 쪽에 있는지 확인하는 함수\n",
    "def check_same_side(n, p, a, b, d):\n",
    "    sign_a = n[0]*a[0] + n[1]*a[1] + n[2]*a[2] - d\n",
    "    sign_b = n[0]*b[0] + n[1]*b[1] + n[2]*b[2] - d\n",
    "    return sign_a * sign_b > 0\n",
    "\n",
    "# 점 q\n",
    "q = [10, 2, -5]\n",
    "# 점 a와 b\n",
    "a = [4, 9, 7]\n",
    "b = [3, -2, 4]\n",
    "\n",
    "# A. 점 q와 평면까지의 거리 계산\n",
    "distance_q = calculate_distance(n, p, q, d)\n",
    "print(f\"A : 점 q와 평면까지의 거리: {distance_q}\")\n",
    "\n",
    "# B. 두 점 a와 b가 평면을 기준으로 동일한 쪽에 있는지 확인\n",
    "same_side = check_same_side(n, p, a, b, d)\n",
    "print(f\"B : 두 점 a와 b는 평면을 기준으로 동일한 쪽에 있는가: {same_side}\")"
   ]
  }
 ],
 "metadata": {
  "kernelspec": {
   "display_name": "Python 3 (ipykernel)",
   "language": "python",
   "name": "python3"
  },
  "language_info": {
   "codemirror_mode": {
    "name": "ipython",
    "version": 3
   },
   "file_extension": ".py",
   "mimetype": "text/x-python",
   "name": "python",
   "nbconvert_exporter": "python",
   "pygments_lexer": "ipython3",
   "version": "3.9.13"
  }
 },
 "nbformat": 4,
 "nbformat_minor": 5
}
