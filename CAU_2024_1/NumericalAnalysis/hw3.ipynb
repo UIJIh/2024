{
 "cells": [
  {
   "cell_type": "code",
   "execution_count": 149,
   "id": "116c2197-a3d7-435c-a488-11529ec54672",
   "metadata": {},
   "outputs": [
    {
     "name": "stdout",
     "output_type": "stream",
     "text": [
      "(a) Object space to world space: [7.         0.         7.46410162]\n",
      "(b) Object space to world space: [9.83012702 5.         2.3660254 ]\n",
      "(c) World space to object space: [6.69615242 2.         0.40192379]\n",
      "(d) World space to object space: [-7.42820323 18.         -3.1339746 ]\n"
     ]
    }
   ],
   "source": [
    "# 1,2\n",
    "import numpy as np\n",
    "\n",
    "# 로봇의 right, up, forward 벡터\n",
    "right = np.array([np.sqrt(3)/2, 0, -0.5])\n",
    "up = np.array([0, 1, 0])\n",
    "forward = np.array([0.5, 0, np.sqrt(3)/2])\n",
    "\n",
    "transform_matrix = np.array([right, up, forward]).T\n",
    "\n",
    "# 1번 문제 \n",
    "def object_to_world(point):\n",
    "    return np.dot(transform_matrix, point) + np.array([5, 2, 4])\n",
    "\n",
    "# 2번 문제\n",
    "def world_to_object(point):\n",
    "    return np.linalg.solve(transform_matrix, point - np.array([5, 2, 4]))\n",
    "\n",
    "# 주어진 좌표\n",
    "points = {\n",
    "    'a': np.array([0, -2, 4]),\n",
    "    'b': np.array([5, 3, 1]),\n",
    "    'c': np.array([11, 4, 1]),\n",
    "    'd': np.array([-3, 20, 5])\n",
    "}\n",
    "\n",
    "for label, point in points.items():\n",
    "    if label in ['a', 'b']:\n",
    "        transformed_point = object_to_world(point)\n",
    "        print(f\"({label}) Object space to world space: {transformed_point}\")\n",
    "    else:\n",
    "        transformed_point = world_to_object(point)\n",
    "        print(f\"({label}) World space to object space: {transformed_point}\")"
   ]
  },
  {
   "cell_type": "code",
   "execution_count": 150,
   "id": "cba7e0c9-e102-47d4-8b0e-512eb62dff9b",
   "metadata": {},
   "outputs": [
    {
     "name": "stdout",
     "output_type": "stream",
     "text": [
      "[ 6.1339746  12.         14.16025404]\n"
     ]
    }
   ],
   "source": [
    "# 3.\n",
    "T = np.array([[-np.sqrt(3)/2, 0, 1/2],\n",
    "              [0, 1, 0],\n",
    "              [1/2, 0, np.sqrt(3)/2]])\n",
    "P_origin = np.array([2, 10, 5])\n",
    "\n",
    "# Object Space의 포인트\n",
    "P_o = np.array([1, 2, 10])\n",
    "\n",
    "# World Space로 변환\n",
    "P_w = T.dot(P_o) + P_origin\n",
    "\n",
    "print(P_w)"
   ]
  },
  {
   "cell_type": "code",
   "execution_count": 152,
   "id": "044a3050-02c4-4226-bc67-97fbe54dc565",
   "metadata": {},
   "outputs": [
    {
     "name": "stdout",
     "output_type": "stream",
     "text": [
      "[ 3.3660254  -8.          3.83012702]\n"
     ]
    }
   ],
   "source": [
    "T_inv = np.linalg.inv(T)\n",
    "\n",
    "# World Space의 포인트\n",
    "P_w = np.array([1, 2, 10])\n",
    "\n",
    "# Object Space로 변환\n",
    "P_o = T_inv.dot(P_w - P_origin)\n",
    "\n",
    "print(P_o)"
   ]
  },
  {
   "cell_type": "code",
   "execution_count": 166,
   "id": "99b8f93f-49f4-4957-adc5-8ad4c9d33510",
   "metadata": {},
   "outputs": [
    {
     "name": "stdout",
     "output_type": "stream",
     "text": [
      "변환 행렬 M:\n",
      "[[  0.70710678  -0.70710678   0.           0.        ]\n",
      " [  0.70710678   0.70710678   0.          -2.        ]\n",
      " [  0.           0.           1.         -20.        ]\n",
      " [  0.           0.           0.           1.        ]]\n",
      "이동 T:\n",
      "[[  1   0   0   0]\n",
      " [  0   1   0  -2]\n",
      " [  0   0   1 -20]\n",
      " [  0   0   0   1]]\n",
      "회전 행렬 R\n",
      "[[ 0.70710678 -0.70710678  0.          0.        ]\n",
      " [ 0.70710678  0.70710678  0.          0.        ]\n",
      " [ 0.          0.          1.          0.        ]\n",
      " [ 0.          0.          0.          1.        ]]\n"
     ]
    }
   ],
   "source": [
    "# 4.\n",
    "theta = np.radians(45)\n",
    "\n",
    "# 회전 행렬 R (Z축 기준 45도 회전)\n",
    "R = np.array([[np.cos(theta), -np.sin(theta), 0],\n",
    "              [np.sin(theta), np.cos(theta), 0],\n",
    "              [0, 0, 1]])\n",
    "\n",
    "# 확장된 회전 행렬 R_extended (동차좌표를 위해)\n",
    "R_extended = np.eye(4)  # 4x4 단위행렬 생성\n",
    "R_extended[:3, :3] = R  # 상단 3x3 부분을 R로 설정\n",
    "\n",
    "# 이동 행렬 T (카메라 위치는 (0, 2, 20)이니까 - 해줘야함!)\n",
    "T = np.array([[1, 0, 0, 0],\n",
    "              [0, 1, 0, -2],\n",
    "              [0, 0, 1, -20],\n",
    "              [0, 0, 0, 1]])\n",
    "\n",
    "# 최종 변환 행렬 M = T * R_extended\n",
    "M = np.dot(T, R_extended)  # numpy의 dot 함수를 사용하여 행렬 곱셈\n",
    "\n",
    "print(\"변환 행렬 M:\")\n",
    "print(M)\n",
    "print(\"이동 T:\")\n",
    "print(T)\n",
    "print(\"회전 행렬 R\")\n",
    "print(R_extended)"
   ]
  },
  {
   "cell_type": "code",
   "execution_count": 164,
   "id": "ed49fbbf-0602-47fe-b388-6a76f637eabf",
   "metadata": {},
   "outputs": [
    {
     "data": {
      "text/plain": [
       "array([[  0.70710678,  -0.70710678,   0.        ,   0.        ],\n",
       "       [  0.70710678,   0.70710678,   0.        ,  -2.        ],\n",
       "       [  0.        ,   0.        ,   1.        , -20.        ],\n",
       "       [  0.        ,   0.        ,   0.        ,   1.        ]])"
      ]
     },
     "execution_count": 164,
     "metadata": {},
     "output_type": "execute_result"
    }
   ],
   "source": [
    "T @ R_extended"
   ]
  },
  {
   "cell_type": "code",
   "execution_count": 137,
   "id": "7bb10d69-691e-43c5-a40c-4861b5d2540b",
   "metadata": {},
   "outputs": [
    {
     "name": "stdout",
     "output_type": "stream",
     "text": [
      "x=-1.3247\n"
     ]
    },
    {
     "data": {
      "text/html": [
       "<div>\n",
       "<style scoped>\n",
       "    .dataframe tbody tr th:only-of-type {\n",
       "        vertical-align: middle;\n",
       "    }\n",
       "\n",
       "    .dataframe tbody tr th {\n",
       "        vertical-align: top;\n",
       "    }\n",
       "\n",
       "    .dataframe thead th {\n",
       "        text-align: right;\n",
       "    }\n",
       "</style>\n",
       "<table border=\"1\" class=\"dataframe\">\n",
       "  <thead>\n",
       "    <tr style=\"text-align: right;\">\n",
       "      <th></th>\n",
       "      <th>x</th>\n",
       "      <th>f(x)</th>\n",
       "    </tr>\n",
       "  </thead>\n",
       "  <tbody>\n",
       "    <tr>\n",
       "      <th>0</th>\n",
       "      <td>1.000000</td>\n",
       "      <td>1.000000</td>\n",
       "    </tr>\n",
       "    <tr>\n",
       "      <th>1</th>\n",
       "      <td>0.500000</td>\n",
       "      <td>0.625000</td>\n",
       "    </tr>\n",
       "    <tr>\n",
       "      <th>2</th>\n",
       "      <td>3.000000</td>\n",
       "      <td>25.000000</td>\n",
       "    </tr>\n",
       "    <tr>\n",
       "      <th>3</th>\n",
       "      <td>2.038462</td>\n",
       "      <td>7.432010</td>\n",
       "    </tr>\n",
       "    <tr>\n",
       "      <th>4</th>\n",
       "      <td>1.390282</td>\n",
       "      <td>2.296973</td>\n",
       "    </tr>\n",
       "    <tr>\n",
       "      <th>5</th>\n",
       "      <td>0.911612</td>\n",
       "      <td>0.845971</td>\n",
       "    </tr>\n",
       "    <tr>\n",
       "      <th>6</th>\n",
       "      <td>0.345028</td>\n",
       "      <td>0.696045</td>\n",
       "    </tr>\n",
       "    <tr>\n",
       "      <th>7</th>\n",
       "      <td>1.427751</td>\n",
       "      <td>2.482679</td>\n",
       "    </tr>\n",
       "    <tr>\n",
       "      <th>8</th>\n",
       "      <td>0.942418</td>\n",
       "      <td>0.894592</td>\n",
       "    </tr>\n",
       "    <tr>\n",
       "      <th>9</th>\n",
       "      <td>0.404949</td>\n",
       "      <td>0.661456</td>\n",
       "    </tr>\n",
       "    <tr>\n",
       "      <th>10</th>\n",
       "      <td>1.706905</td>\n",
       "      <td>4.266202</td>\n",
       "    </tr>\n",
       "  </tbody>\n",
       "</table>\n",
       "</div>"
      ],
      "text/plain": [
       "           x       f(x)\n",
       "0   1.000000   1.000000\n",
       "1   0.500000   0.625000\n",
       "2   3.000000  25.000000\n",
       "3   2.038462   7.432010\n",
       "4   1.390282   2.296973\n",
       "5   0.911612   0.845971\n",
       "6   0.345028   0.696045\n",
       "7   1.427751   2.482679\n",
       "8   0.942418   0.894592\n",
       "9   0.404949   0.661456\n",
       "10  1.706905   4.266202"
      ]
     },
     "execution_count": 137,
     "metadata": {},
     "output_type": "execute_result"
    }
   ],
   "source": [
    "# 6.\n",
    "def f(x) :\n",
    "  return  x**3 - x + 1\n",
    "\n",
    "def f_prime(x) :\n",
    "  return 3*x**2 - 1\n",
    "\n",
    "def newt(fx, f_prime, xr):\n",
    "    d = {\"x\" : [xr], \"f(x)\": [f(xr)]}\n",
    "    maxit = 50\n",
    "    iter = 0    \n",
    "    for _ in range(maxit):\n",
    "        xrold = xr\n",
    "        xr = float(xr - f(xr) / f_prime(xr))\n",
    "        d[\"x\"].append(xr)\n",
    "        d[\"f(x)\"].append(f(xr))\n",
    "        #print(xr)\n",
    "        iter = iter + 1\n",
    "\n",
    "        if xr != 0:\n",
    "            error = float(np.abs((float(xr) - float(xrold))/float(xr)) * 100)\n",
    "    root = xr\n",
    "    return root, error, iter\n",
    "\n",
    "x0 = 1\n",
    "root, error, iter = newt(f, f_prime, x0)\n",
    "\n",
    "print(f\"x={root:.4f}\")\n",
    "pd.DataFrame(d, columns=['x', 'f(x)'])"
   ]
  },
  {
   "cell_type": "code",
   "execution_count": 40,
   "id": "5de83b3d-3601-4336-a3fd-97168dc0c99e",
   "metadata": {},
   "outputs": [
    {
     "name": "stdout",
     "output_type": "stream",
     "text": [
      "x8= -5.708815995611851\n"
     ]
    }
   ],
   "source": [
    "# 7.\n",
    "def p(x):\n",
    "    return x**5 + x**3 + 3\n",
    "\n",
    "def secant_method(x0, x1, max_iterations):\n",
    "    for _ in range(max_iterations):\n",
    "        x2 = x1 - p(x1) * (x1 - x0) / (p(x1) - p(x0))\n",
    "        x0, x1 = x1, x2\n",
    "    return x2\n",
    "\n",
    "x0 = -1\n",
    "x1 = 1\n",
    "max_iterations = 7\n",
    "\n",
    "x8 = secant_method(x0, x1, max_iterations)\n",
    "print(\"x8=\",x8)"
   ]
  },
  {
   "cell_type": "code",
   "execution_count": 128,
   "id": "3ea567cd-e325-43a1-b31d-03e20092ae65",
   "metadata": {},
   "outputs": [
    {
     "name": "stdout",
     "output_type": "stream",
     "text": [
      " Iteration          x                 f(x)\n",
      "         2  -1.500000        -7.968750e+00\n",
      "         3   0.036145         3.000047e+00\n",
      "         4  -0.384002         2.935026e+00\n",
      "         5 -19.349267        -2.719447e+06\n",
      "         6  -0.384023         2.935015e+00\n",
      "         7  -0.384043         2.935004e+00\n",
      "         8  -5.708816        -6.246649e+03\n",
      "         9  -0.386544         2.933614e+00\n",
      "        10  -0.389042         2.932205e+00\n"
     ]
    }
   ],
   "source": [
    "# 7.\n",
    "import numpy as np\n",
    "\n",
    "def func(x):\n",
    "    return x**5 + x**3 + 3\n",
    "\n",
    "def secant(func, x0, x1, maxit=10, es=1e-4):\n",
    "    results = [] \n",
    "    iter = 1\n",
    "    while True:\n",
    "        xr = x1 - (func(x1) * (x1 - x0)) / (func(x1) - func(x0))\n",
    "        iter += 1\n",
    "\n",
    "        ea = abs((xr - x1) / xr) * 100 if xr != 0 else 0\n",
    "        results.append([iter, xr, func(xr)])\n",
    "\n",
    "        if ea < es or iter >= maxit:\n",
    "            break\n",
    "        x0, x1 = x1, xr    \n",
    "    return results\n",
    "    \n",
    "results = secant(func, -1, 1)\n",
    "\n",
    "print(f'{\"Iteration\":>10} {\"x\":>10} {\"f(x)\":>20}')\n",
    "for result in results:\n",
    "    print(f'{result[0]:10} {result[1]:10.6f} {result[2]:20.6e}')"
   ]
  },
  {
   "cell_type": "code",
   "execution_count": 48,
   "id": "bca5cb48-de72-4124-bb4d-49691554f550",
   "metadata": {},
   "outputs": [],
   "source": [
    "# 8\n",
    "import numpy as np\n",
    "from scipy.linalg import lu \n",
    "\n",
    "A = np.array([[4,3,2,1],[3,3,2,1],[2,2,2,1],[1,1,1,1]])\n",
    "P,L,U = lu(A)"
   ]
  },
  {
   "cell_type": "code",
   "execution_count": 49,
   "id": "df7e4ec2-d42a-449c-abb1-e19f5bb78150",
   "metadata": {},
   "outputs": [
    {
     "data": {
      "text/plain": [
       "array([[1.        , 0.        , 0.        , 0.        ],\n",
       "       [0.75      , 1.        , 0.        , 0.        ],\n",
       "       [0.5       , 0.66666667, 1.        , 0.        ],\n",
       "       [0.25      , 0.33333333, 0.5       , 1.        ]])"
      ]
     },
     "execution_count": 49,
     "metadata": {},
     "output_type": "execute_result"
    }
   ],
   "source": [
    "L"
   ]
  },
  {
   "cell_type": "code",
   "execution_count": 50,
   "id": "cf9d93ad-555b-4186-b135-3984f04ce4da",
   "metadata": {},
   "outputs": [
    {
     "data": {
      "text/plain": [
       "array([[4.        , 3.        , 2.        , 1.        ],\n",
       "       [0.        , 0.75      , 0.5       , 0.25      ],\n",
       "       [0.        , 0.        , 0.66666667, 0.33333333],\n",
       "       [0.        , 0.        , 0.        , 0.5       ]])"
      ]
     },
     "execution_count": 50,
     "metadata": {},
     "output_type": "execute_result"
    }
   ],
   "source": [
    "U"
   ]
  },
  {
   "cell_type": "code",
   "execution_count": 78,
   "id": "9b75c4cb-c00a-43f7-ab1c-17b99c0bbd68",
   "metadata": {},
   "outputs": [
    {
     "name": "stdout",
     "output_type": "stream",
     "text": [
      "x= [-15.5   3.5  -8.5]\n"
     ]
    }
   ],
   "source": [
    "# 9.\n",
    "from scipy.linalg import lu \n",
    "A = np.array([[-1, 1, 2], \n",
    "              [1, 2, -1],\n",
    "              [-2, -2, 2]])\n",
    "\n",
    "c = np.array([7, 2, 0])\n",
    "\n",
    "P, L, U = lu(A)\n",
    "y = np.linalg.solve(L, c)\n",
    "x = np.linalg.solve(U, y)\n",
    "\n",
    "print(\"x=\", x)"
   ]
  },
  {
   "cell_type": "code",
   "execution_count": 124,
   "id": "bb8c8ec2-2414-49fe-aff0-0bf8b1b6e62c",
   "metadata": {},
   "outputs": [
    {
     "name": "stdout",
     "output_type": "stream",
     "text": [
      "x=0.3320\n"
     ]
    }
   ],
   "source": [
    "# 10.\n",
    "def f(x):\n",
    "    return x**5 + 3*x - 1\n",
    "\n",
    "def f_prime(x):\n",
    "    return 5*x**4 + 3\n",
    "\n",
    "def newt(fx, f_prime, xr, threshold):\n",
    "    maxit = 50\n",
    "    iter = 0    \n",
    "    for _ in range(maxit):\n",
    "        xrold = xr\n",
    "        xr = float(xr - f(xr) / f_prime(xr))\n",
    "        iter = iter + 1\n",
    "\n",
    "        if xr != 0:\n",
    "            error = float(np.abs((float(xr) - float(xrold))/float(xr)) * 100)\n",
    "        if (error < threshold):\n",
    "            break\n",
    "    root = xr\n",
    "    return root, error, iter\n",
    "\n",
    "x0 = 0\n",
    "threshold = 0.01\n",
    "root, error, iter = newt(f, f_prime, x0, threshold)\n",
    "\n",
    "print(f\"x={root:.4f}\")"
   ]
  },
  {
   "cell_type": "code",
   "execution_count": 140,
   "id": "45d20442-3642-4d01-b000-53de300a2ae8",
   "metadata": {},
   "outputs": [
    {
     "name": "stdout",
     "output_type": "stream",
     "text": [
      "0.6363636\n",
      "0.6183816\n",
      "0.6180341\n",
      "0.6180340\n",
      "0.6180340\n",
      "0.6180340\n",
      "0.6180340\n",
      "0.6180340\n",
      "0.6180340\n",
      "0.6180340\n",
      "0.6180340\n",
      "0.6180340\n",
      "0.6180340\n",
      "0.6180340\n",
      "0.6180340\n",
      "0.6180340\n",
      "0.6180340\n",
      "0.6180340\n",
      "0.6180340\n",
      "0.6180340\n",
      "0.6180340\n",
      "0.6180340\n",
      "0.6180340\n",
      "0.6180340\n",
      "0.6180340\n",
      "0.6180340\n",
      "0.6180340\n",
      "0.6180340\n",
      "0.6180340\n",
      "0.6180340\n",
      "================================\n",
      "x=0.6180\n"
     ]
    }
   ],
   "source": [
    "# 11.\n",
    "def f(x):\n",
    "    return x**3 + 2*x**2 - 1\n",
    "\n",
    "def f_prime(x):\n",
    "    return 3*x**2 + 4*x\n",
    "\n",
    "def newt(fx, f_prime, xr):\n",
    "    maxit = 30\n",
    "    iter = 0    \n",
    "    for _ in range(maxit):\n",
    "        xrold = xr\n",
    "        xr = float(xr - f(xr) / f_prime(xr))\n",
    "        print(f'{xr:.7f}')\n",
    "        iter = iter + 1\n",
    "\n",
    "        if xr != 0:\n",
    "            error = float(np.abs((float(xr) - float(xrold))/float(xr)) * 100)\n",
    "        \n",
    "    root = xr\n",
    "    return root, error, iter\n",
    "\n",
    "x0 = 0.5\n",
    "root, _, _ = newt(f, f_prime, x0)\n",
    "print(f\"================================\\nx={root:.4f}\")"
   ]
  }
 ],
 "metadata": {
  "kernelspec": {
   "display_name": "Python 3 (ipykernel)",
   "language": "python",
   "name": "python3"
  },
  "language_info": {
   "codemirror_mode": {
    "name": "ipython",
    "version": 3
   },
   "file_extension": ".py",
   "mimetype": "text/x-python",
   "name": "python",
   "nbconvert_exporter": "python",
   "pygments_lexer": "ipython3",
   "version": "3.9.13"
  }
 },
 "nbformat": 4,
 "nbformat_minor": 5
}
