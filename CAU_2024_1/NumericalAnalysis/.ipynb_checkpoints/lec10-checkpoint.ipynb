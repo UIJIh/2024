{
 "cells": [
  {
   "cell_type": "code",
   "execution_count": 4,
   "id": "97d9ee4a-40ac-43e8-9829-07f7b643d665",
   "metadata": {},
   "outputs": [
    {
     "name": "stdout",
     "output_type": "stream",
     "text": [
      "2.2684999999999977\n"
     ]
    }
   ],
   "source": [
    "def Linear_interpolation(points, find_point):\n",
    "    for row in range(len(points) - 1):\n",
    "        if find_point > points[row][0] and find_point < points[row + 1][0]:\n",
    "            x1 = points[row][0]\n",
    "            x2 = points[row + 1][0]\n",
    "            y1 = points[row][1]\n",
    "            y2 = points[row + 1][1]\n",
    "            return (((y1 - y2) / (x1 - x2)) * find_point) + ((y2 * x1 - y1 * x2) / (x1 - x2))\n",
    "\n",
    "points = [[1, 1.5574],[1.1, 1.9648],[1.2, 2.5722],[1.3, 3.6021]]\n",
    "find_point = 1.15\n",
    "print(Linear_interpolation(points, find_point))"
   ]
  },
  {
   "cell_type": "code",
   "execution_count": 13,
   "id": "a66189cf-6fe9-4c54-b017-ff3874159672",
   "metadata": {},
   "outputs": [
    {
     "data": {
      "text/plain": [
       "2.2344969487553255"
      ]
     },
     "execution_count": 13,
     "metadata": {},
     "output_type": "execute_result"
    }
   ],
   "source": [
    "real = np.tan(1.15)\n",
    "real"
   ]
  },
  {
   "cell_type": "code",
   "execution_count": 15,
   "id": "3b3ee993-6890-457c-b2c6-0f378c72c8a3",
   "metadata": {},
   "outputs": [
    {
     "data": {
      "text/plain": [
       "1.5217318270948144"
      ]
     },
     "execution_count": 15,
     "metadata": {},
     "output_type": "execute_result"
    }
   ],
   "source": [
    "abs(real - 2.2684999999999977)/real*100.0 # abs 절대"
   ]
  },
  {
   "cell_type": "code",
   "execution_count": 2,
   "id": "4f5e41b0-0703-4b99-b8bf-bd4936abfcde",
   "metadata": {},
   "outputs": [
    {
     "data": {
      "text/plain": [
       "0.0"
      ]
     },
     "execution_count": 2,
     "metadata": {},
     "output_type": "execute_result"
    }
   ],
   "source": [
    "import numpy as np\n",
    "np.log(1)"
   ]
  },
  {
   "cell_type": "code",
   "execution_count": 5,
   "id": "9c580743-6cc2-4a72-ae98-b823bac3257b",
   "metadata": {},
   "outputs": [
    {
     "name": "stdout",
     "output_type": "stream",
     "text": [
      "0.3583518\n"
     ]
    }
   ],
   "source": [
    "points = [[1, 0],[6, 1.791759]]\n",
    "find_point = 2\n",
    "print(Linear_interpolation(points, find_point))"
   ]
  },
  {
   "cell_type": "code",
   "execution_count": 1,
   "id": "4155233b-2efb-4568-a7dd-302c7479e75e",
   "metadata": {},
   "outputs": [
    {
     "name": "stdout",
     "output_type": "stream",
     "text": [
      "4.0\n"
     ]
    }
   ],
   "source": [
    "from functools import reduce\n",
    "import operator\n",
    "\n",
    "x_v = [0, 2, 3]\n",
    "y_v = [7, 11, 28]\n",
    "x = 1\n",
    "\n",
    "def interpolate(x, x_values, y_values):\n",
    "    def _basis(j):\n",
    "        p = [(x - x_values[m]) / (x_values[j] - x_values[m]) for m in range(k) if m != j]\n",
    "        return reduce(operator.mul, p, 1)  # 초기값 1을 추가합니다.\n",
    "    assert len(x_values) != 0 and (len(x_values) == len(y_values)), 'x와 y는 비어있지 않아야 하며, 같은 길이를 가져야 합니다.'\n",
    "    k = len(x_values)\n",
    "    return sum(_basis(j) * y_values[j] for j in range(k))\n",
    "\n",
    "print(interpolate(x, x_v, y_v))"
   ]
  },
  {
   "cell_type": "code",
   "execution_count": null,
   "id": "6facb077-ed25-4785-abb5-c5624d7bf90f",
   "metadata": {},
   "outputs": [],
   "source": []
  },
  {
   "cell_type": "code",
   "execution_count": null,
   "id": "330bb97f-6c93-444d-8189-07b0fce25fe3",
   "metadata": {},
   "outputs": [],
   "source": [
    "def main():\n",
    "    points = [[0, 0], [1, 0.8415], [2, 0.9093], [3, 0.1411], [4, -0.7568], [5, -0.9589], [6, -0.2794]]  # [x][y]\n",
    "    find_point = 2.5\n",
    "    choice = int(input(\"In which way you want to solve :\\n1.Linear interpolation.\\n2.Polynomial \"\n",
    "                       \"interpolation.\\n3.Lagrange interpolation.\\n4.Neville interpolation.\\n\"))\n",
    "    print(\"Answer: \")\n",
    "    if choice == 1:\n",
    "        print(Linear_interpolation(points, find_point))\n",
    "        main()\n",
    "    elif choice == 2:\n",
    "        print(Polynomial_interpolation(points, find_point))\n",
    "        main()\n",
    "    elif choice == 3:\n",
    "        print(Lagrange_interpolation(points, find_point))\n",
    "        main()\n",
    "    elif choice == 4:\n",
    "        print(Neville_interpolation(points, find_point))\n",
    "        main()\n",
    "    else:\n",
    "        print(\"invalid input. please try again!\\n\")\n",
    "        main()\n",
    "\n",
    "\n",
    "def Linear_interpolation(points, find_point):\n",
    "    for row in range(len(points) - 1):\n",
    "        if find_point > points[row][0] and find_point < points[row + 1][0]:\n",
    "            x1 = points[row][0]\n",
    "            x2 = points[row + 1][0]\n",
    "            y1 = points[row][1]\n",
    "            y2 = points[row + 1][1]\n",
    "            return (((y1 - y2) / (x1 - x2)) * find_point) + ((y2 * x1 - y1 * x2) / (x1 - x2))\n",
    "\n",
    "\n",
    "def matrix_multiply(A, B):  # A function that calculates the multiplication of 2 matrices and returns the new matrix\n",
    "    rowsA = len(A)\n",
    "    colsA = len(A[0])\n",
    "    rowsB = len(B)\n",
    "    colsB = len(B[0])\n",
    "    if colsA != rowsB:\n",
    "        print('Number of A columns must equal number of B rows.')\n",
    "    new_matrix = []\n",
    "    while len(new_matrix) < rowsA:  # while len small the len rows\n",
    "        new_matrix.append([])  # add place\n",
    "        while len(new_matrix[-1]) < colsB:\n",
    "            new_matrix[-1].append(0.0)  # add value\n",
    "    for i in range(rowsA):\n",
    "        for j in range(colsB):\n",
    "            total = 0\n",
    "            for k in range(colsA):\n",
    "                total += A[i][k] * B[k][j]  # mul mat\n",
    "            new_matrix[i][j] = total\n",
    "    return new_matrix  # return the A*B=new matrix\n",
    "\n",
    "\n",
    "def create_I(matrix):  # A function that creates and returns the unit matrix\n",
    "    I = list(range(len(matrix)))  # make it list\n",
    "    for i in range(len(I)):\n",
    "        I[i] = list(range(len(I)))\n",
    "\n",
    "    for i in range(len(I)):\n",
    "        for j in range(len(I[i])):\n",
    "            I[i][j] = 0.0  # put the zero\n",
    "\n",
    "    for i in range(len(I)):\n",
    "        I[i][i] = 1.0  # put the pivot\n",
    "    return I  # unit matrix\n",
    "\n",
    "\n",
    "def inverse(matrix):  # A function that creates and returns the inverse matrix to matrix A\n",
    "    new_matrix = create_I(matrix)  # Creating the unit matrix\n",
    "    count = 0\n",
    "    check = False  # flag\n",
    "    while count <= len(matrix) and check == False:\n",
    "        if matrix[count][0] != 0:  # if the val in place not 0\n",
    "            check = True  # flag\n",
    "        count = count + 1  # ++\n",
    "    if not check:\n",
    "        print(\"ERROR\")\n",
    "    else:\n",
    "        temp = matrix[count - 1]\n",
    "        matrix[count - 1] = matrix[0]  # put zero\n",
    "        matrix[0] = temp\n",
    "        temp = new_matrix[count - 1]\n",
    "        new_matrix[count - 1] = new_matrix[0]\n",
    "        new_matrix[0] = temp\n",
    "\n",
    "        for x in range(len(matrix)):\n",
    "            divider = matrix[x][x]  # find the div val\n",
    "            if divider == 0:\n",
    "                divider = 1\n",
    "            for i in range(len(matrix)):\n",
    "                matrix[x][i] = matrix[x][i] / divider  # find the new index\n",
    "                new_matrix[x][i] = new_matrix[x][i] / divider\n",
    "            for row in range(len(matrix)):\n",
    "                if row != x:\n",
    "                    divider = matrix[row][x]\n",
    "                    for i in range(len(matrix)):\n",
    "                        matrix[row][i] = matrix[row][i] - divider * matrix[x][i]\n",
    "                        new_matrix[row][i] = new_matrix[row][i] - divider * new_matrix[x][i]\n",
    "    return new_matrix  # Return of the inverse matrix\n",
    "\n",
    "\n",
    "def Polynomial_interpolation(points, find_point):\n",
    "    # creating a new matrix\n",
    "    mat = list(range(len(points)))\n",
    "    for i in range(len(mat)):\n",
    "        mat[i] = list(range(len(mat)))\n",
    "    for row in range(len(points)):\n",
    "        mat[row][0] = 1\n",
    "    for row in range(len(points)):\n",
    "        for col in range(1, len(points)):\n",
    "            mat[row][col] = pow(points[row][0], col)\n",
    "    res_mat = list(range(len(points)))\n",
    "    for i in range(len(res_mat)):\n",
    "        res_mat[i] = list(range(1))\n",
    "    for row in range(len(res_mat)):\n",
    "        res_mat[row][0] = points[row][1]\n",
    "    vector_a = matrix_multiply(inverse(mat), res_mat)\n",
    "    sum = 0\n",
    "    for i in range(len(vector_a)):\n",
    "        if i == 0:\n",
    "            sum = vector_a[i][0]\n",
    "        else:\n",
    "            sum += vector_a[i][0] * find_point ** i\n",
    "\n",
    "    return sum\n",
    "\n",
    "\n",
    "def Lagrange_interpolation(points, find_point):\n",
    "    sum = 0\n",
    "    for i in range(len(points)):\n",
    "        mul = 1\n",
    "        for j in range(len(points)):\n",
    "            if i == j:\n",
    "                continue\n",
    "            mul = mul * ((find_point - points[j][0]) / (points[i][0] - points[j][0]))\n",
    "        sum = sum + mul * points[i][1]\n",
    "    return sum\n",
    "\n",
    "\n",
    "def P(m, n, points, find_point):\n",
    "    if m == n:\n",
    "        return points[m][1]\n",
    "\n",
    "    res = ((find_point - points[m][0]) * P(m + 1, n, points, find_point) - (find_point - points[n][0]) * P(m, n - 1, points, find_point)) / (points[n][0] - points[m][0])\n",
    "    return res\n",
    "\n",
    "\n",
    "def Neville_interpolation(points, find_point):\n",
    "    res_mat = list(range(len(points)))\n",
    "    for k in range(len(points)):\n",
    "        res_mat[k] = list(range(len(points)))\n",
    "\n",
    "    for i in range(len(points)):\n",
    "        for j in range(i, len(points)):\n",
    "            res_mat[i][j] = P(i, j, points, find_point)\n",
    "    return res_mat[0][len(points) - 1]\n",
    "\n",
    "\n",
    "main()"
   ]
  }
 ],
 "metadata": {
  "kernelspec": {
   "display_name": "Python 3 (ipykernel)",
   "language": "python",
   "name": "python3"
  },
  "language_info": {
   "codemirror_mode": {
    "name": "ipython",
    "version": 3
   },
   "file_extension": ".py",
   "mimetype": "text/x-python",
   "name": "python",
   "nbconvert_exporter": "python",
   "pygments_lexer": "ipython3",
   "version": "3.9.13"
  }
 },
 "nbformat": 4,
 "nbformat_minor": 5
}
