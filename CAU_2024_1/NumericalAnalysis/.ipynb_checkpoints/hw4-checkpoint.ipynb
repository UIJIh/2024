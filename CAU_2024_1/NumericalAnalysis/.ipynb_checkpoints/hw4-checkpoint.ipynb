{
 "cells": [
  {
   "cell_type": "markdown",
   "metadata": {},
   "source": [
    "1(1)\n",
    "\n",
    "두 점을 지나는 >> 1차\n",
    "\n",
    "f(x) = a_1 + a_2*x\n",
    "\n",
    "a + 1.4*b = 3.7<br>\n",
    "a + 1.25*b = 3.9<br>\n",
    "0.15*b = -0.2<br>\n",
    "b = -20/15<br>\n",
    "b = -4/3 <br>\n",
    "(a_2(b)를 찾았고, a_1을 찾아야 함)"
   ]
  },
  {
   "cell_type": "code",
   "execution_count": 19,
   "metadata": {},
   "outputs": [
    {
     "name": "stdout",
     "output_type": "stream",
     "text": [
      "f(x) = 5.56666666662 + -1.3333333333x\n",
      "f(x) = 5.5667 + -1.3333x (소수점 넷째자리까지)\n"
     ]
    }
   ],
   "source": [
    "# 1(1)\n",
    "b = -1.3333333333\n",
    "a = 3.7 - (1.4*b)\n",
    "# print(a)\n",
    "print(f'f(x) = {a} + {b}x')\n",
    "print(f'f(x) = {a:.4f} + {b:.4f}x (소수점 넷째자리까지)')"
   ]
  },
  {
   "cell_type": "markdown",
   "metadata": {},
   "source": [
    "1(2)\n",
    "\n",
    "f(x) = a_1 + a_2*x\n",
    "\n",
    "a + 4.5*b = 7.1<br>\n",
    "a + 6.1*b = 2.3<br>\n",
    "-1.6*b = 4.8<br>\n",
    "b = -48/16<br>\n",
    "b = -3"
   ]
  },
  {
   "cell_type": "code",
   "execution_count": 6,
   "metadata": {},
   "outputs": [
    {
     "name": "stdout",
     "output_type": "stream",
     "text": [
      "f(x) = 20.6 + -3x\n"
     ]
    }
   ],
   "source": [
    "# 1(2)\n",
    "b = -3\n",
    "a = 7.1 - (4.5*b)\n",
    "# print(a)\n",
    "print(f'f(x) = {a} + {b}x')"
   ]
  },
  {
   "cell_type": "code",
   "execution_count": 20,
   "metadata": {},
   "outputs": [
    {
     "name": "stdout",
     "output_type": "stream",
     "text": [
      "0.8907015999999995\n",
      "0.8907 (소수점 넷째자리까지)\n"
     ]
    }
   ],
   "source": [
    "# 2(1)\n",
    "def Linear_interpolation(points, find_point):\n",
    "    for row in range(len(points) - 1):\n",
    "        if find_point > points[row][0] and find_point < points[row + 1][0]:\n",
    "            x1 = points[row][0]\n",
    "            x2 = points[row + 1][0]\n",
    "            y1 = points[row][1]\n",
    "            y2 = points[row + 1][1]\n",
    "            return (((y1 - y2) / (x1 - x2)) * find_point) + ((y2 * x1 - y1 * x2) / (x1 - x2))\n",
    "\n",
    "points = [[1.0, 1.0],[1.2, 0.918168],[1.4, 0.887263],[1.6, 0.893515], [1.8, 0.931338], [2.0, 1.0]]\n",
    "find_point = 1.51\n",
    "print(Linear_interpolation(points, find_point))\n",
    "print(f'{Linear_interpolation(points, find_point):.4f} (소수점 넷째자리까지)')"
   ]
  },
  {
   "cell_type": "code",
   "execution_count": 21,
   "metadata": {},
   "outputs": [
    {
     "name": "stdout",
     "output_type": "stream",
     "text": [
      "0.88846\n",
      "0.8885 (소수점 넷째자리까지)\n"
     ]
    }
   ],
   "source": [
    "# 2(2)\n",
    "points = [[1.0, 1.0],[1.2, 0.9181],[1.4, 0.8872],[1.6, 0.8935], [1.8, 0.9313], [2.0, 1.0]]\n",
    "find_point = 1.44\n",
    "print(Linear_interpolation(points, find_point)) # 2(1)에서 함수 정의함\n",
    "print(f'{Linear_interpolation(points, find_point):.4f} (소수점 넷째자리까지)')"
   ]
  },
  {
   "cell_type": "code",
   "execution_count": 49,
   "metadata": {},
   "outputs": [
    {
     "name": "stdout",
     "output_type": "stream",
     "text": [
      "Polynomial : \n",
      "\n",
      "     2\n",
      "-38 x + 58.17 x - 13.17\n",
      "\n",
      "\n"
     ]
    },
    {
     "data": {
      "text/plain": [
       "poly1d([-38.        ,  58.16666667, -13.16666667])"
      ]
     },
     "execution_count": 49,
     "metadata": {},
     "output_type": "execute_result"
    }
   ],
   "source": [
    "# 3(1)\n",
    "import numpy as np\n",
    "\n",
    "def num(x_data):  # 분자\n",
    "    xd = x_data\n",
    "    n = len(xd)\n",
    "    num_0 = []\n",
    "    for k in range(0, n):\n",
    "        p = []\n",
    "        k_list = list(range(0, n))\n",
    "        k_list.remove(k)\n",
    "        for i in k_list:\n",
    "            p.extend(np.poly1d(xd[i]))\n",
    "        num_0.append(np.poly(p))\n",
    "    num_0 = np.array(num_0)\n",
    "\n",
    "    return num_0\n",
    "\n",
    "def den(x_data):  # 분모\n",
    "    xd = x_data\n",
    "    n = len(xd)\n",
    "    den = []\n",
    "    for k in range(0, n):\n",
    "        den_list = []\n",
    "        k_list = list(range(0, n))\n",
    "        k_list.remove(k)\n",
    "        for i in k_list:\n",
    "            den_list.append(1 / (xd[k] - xd[i]))\n",
    "        den.append(np.prod(den_list))\n",
    "    den = np.array(den)\n",
    "\n",
    "    return den\n",
    "\n",
    "def poly(x_data, y_data):  \n",
    "    x_data = np.array(x_data)\n",
    "    y_data = np.array(y_data)\n",
    "\n",
    "    de = den(x_data)\n",
    "    nu = num(x_data)\n",
    "    L = (nu.T * de).T\n",
    "\n",
    "    P1 = (L.T * y_data).T\n",
    "\n",
    "    P = P1.sum(axis=0)\n",
    "    P2 = np.poly1d(P)\n",
    "    print(f'Polynomial : \\n\\n{P2}\\n\\n')\n",
    "\n",
    "    return P2  # Lagrange Polynomial\n",
    "\n",
    "x_data = [0.33333333333, 0.25, 1]\n",
    "y_data = [2, -1, 7]\n",
    "\n",
    "poly(x_data, y_data)"
   ]
  },
  {
   "cell_type": "code",
   "execution_count": 53,
   "metadata": {},
   "outputs": [
    {
     "name": "stdout",
     "output_type": "stream",
     "text": [
      "Polynomial : \n",
      "\n",
      "   2\n",
      "3 x - 7 x - 2\n",
      "\n",
      "\n"
     ]
    },
    {
     "data": {
      "text/plain": [
       "poly1d([ 3., -7., -2.])"
      ]
     },
     "execution_count": 53,
     "metadata": {},
     "output_type": "execute_result"
    }
   ],
   "source": [
    "# 3(2)\n",
    "x_data = [-1, 0, 3]\n",
    "y_data = [8, -2, 4]\n",
    "\n",
    "poly(x_data, y_data)"
   ]
  },
  {
   "cell_type": "code",
   "execution_count": 10,
   "metadata": {},
   "outputs": [
    {
     "name": "stdout",
     "output_type": "stream",
     "text": [
      "0.0\n"
     ]
    }
   ],
   "source": [
    "# 4(1)\n",
    "from functools import reduce\n",
    "import operator\n",
    "\n",
    "x_v = [0, 1, 3, 4]\n",
    "y_v = [2, 2, 2, 14]\n",
    "x = 2\n",
    "\n",
    "def Lagrange_interpolation(x, x_values, y_values):\n",
    "    def _basis(j):\n",
    "        p = [(x - x_values[m]) / (x_values[j] - x_values[m]) for m in range(k) if m != j]\n",
    "        return reduce(operator.mul, p, 1)  # 초기값 1을 추가합니다.\n",
    "    assert len(x_values) != 0 and (len(x_values) == len(y_values)), 'x와 y는 비어있지 않아야 하며, 같은 길이를 가져야 합니다.'\n",
    "    k = len(x_values)\n",
    "    return sum(_basis(j) * y_values[j] for j in range(k))\n",
    "\n",
    "print(Lagrange_interpolation(x, x_v, y_v))"
   ]
  },
  {
   "cell_type": "code",
   "execution_count": 11,
   "metadata": {},
   "outputs": [
    {
     "name": "stdout",
     "output_type": "stream",
     "text": [
      "2.0\n"
     ]
    }
   ],
   "source": [
    "# 4(2)\n",
    "x_v = [0, 1, 3]\n",
    "y_v = [2, 2, 2]\n",
    "x = 2\n",
    "print(Lagrange_interpolation(x, x_v, y_v))"
   ]
  },
  {
   "cell_type": "code",
   "execution_count": 22,
   "metadata": {},
   "outputs": [
    {
     "name": "stdout",
     "output_type": "stream",
     "text": [
      "-1.9999999999999996\n",
      "-2.0000 (소수점 넷째자리까지)\n"
     ]
    }
   ],
   "source": [
    "# 4(3)\n",
    "x_v = [1, 3, 4]\n",
    "y_v = [2, 2, 14]\n",
    "x = 2\n",
    "print(Lagrange_interpolation(x, x_v, y_v))\n",
    "print(f'{Lagrange_interpolation(x, x_v, y_v):.4f} (소수점 넷째자리까지)')"
   ]
  },
  {
   "cell_type": "code",
   "execution_count": 48,
   "metadata": {
    "scrolled": true
   },
   "outputs": [
    {
     "name": "stdout",
     "output_type": "stream",
     "text": [
      "Polynomial : \n",
      "\n",
      "        10        9        8        7        6        5        4\n",
      "-306.2 x  + 1691 x - 4080 x + 5651 x - 4962 x + 2881 x - 1118 x\n",
      "          3         2\n",
      " + 287.6 x - 48.19 x + 5.979 x\n",
      "\n",
      "\n"
     ]
    },
    {
     "data": {
      "text/plain": [
       "poly1d([ -306.24979088,  1691.15315355, -4080.32420347,  5650.98233356,\n",
       "       -4962.48321462,  2880.61677775, -1118.10138767,   287.61566199,\n",
       "         -48.18872915,     5.97939894,     0.        ])"
      ]
     },
     "execution_count": 48,
     "metadata": {},
     "output_type": "execute_result"
    }
   ],
   "source": [
    "# 5\n",
    "import numpy as np\n",
    "\n",
    "def num(x_data):  # 분자\n",
    "    xd = x_data\n",
    "    n = len(xd)\n",
    "    num_0 = []\n",
    "    for k in range(0, n):\n",
    "        p = []\n",
    "        k_list = list(range(0, n))\n",
    "        k_list.remove(k)\n",
    "        for i in k_list:\n",
    "            p.extend(np.poly1d(xd[i]))\n",
    "        num_0.append(np.poly(p))\n",
    "    num_0 = np.array(num_0)\n",
    "\n",
    "    return num_0\n",
    "\n",
    "def den(x_data):  # 분모\n",
    "    xd = x_data\n",
    "    n = len(xd)\n",
    "    den = []\n",
    "    for k in range(0, n):\n",
    "        den_list = []\n",
    "        k_list = list(range(0, n))\n",
    "        k_list.remove(k)\n",
    "        for i in k_list:\n",
    "            den_list.append(1 / (xd[k] - xd[i]))\n",
    "        den.append(np.prod(den_list))\n",
    "    den = np.array(den)\n",
    "\n",
    "    return den\n",
    "\n",
    "def poly(x_data, y_data):  \n",
    "    x_data = np.array(x_data)\n",
    "    y_data = np.array(y_data)\n",
    "\n",
    "    de = den(x_data)\n",
    "    nu = num(x_data)\n",
    "    L = (nu.T * de).T\n",
    "\n",
    "    P1 = (L.T * y_data).T\n",
    "\n",
    "    P = P1.sum(axis=0)\n",
    "    P2 = np.poly1d(P)\n",
    "    print(f'Polynomial : \\n\\n{P2}\\n\\n')\n",
    "\n",
    "    return P2  # Lagrange Polynomial\n",
    "\n",
    "x_data = [0, 0.1, 0.2, 0.3, 0.4, 0.5, 0.6, 0.7, 0.8, 0.9, 1.0]\n",
    "y_data = [np.sqrt(x) for x in x_data]\n",
    "\n",
    "poly(x_data, y_data)"
   ]
  },
  {
   "cell_type": "code",
   "execution_count": 17,
   "metadata": {},
   "outputs": [
    {
     "name": "stdout",
     "output_type": "stream",
     "text": [
      "x=0.05 : 추정값=0.2083, 실제값=0.2236, 오차=0.0153 (소수점 넷째자리까지)\n",
      "x=0.15 : 추정값=0.3882, 실제값=0.3873, 오차=0.0009 (소수점 넷째자리까지)\n",
      "x=0.25 : 추정값=0.4998, 실제값=0.5000, 오차=0.0002 (소수점 넷째자리까지)\n",
      "x=0.35 : 추정값=0.5917, 실제값=0.5916, 오차=0.0001 (소수점 넷째자리까지)\n",
      "x=0.45 : 추정값=0.6708, 실제값=0.6708, 오차=0.0000 (소수점 넷째자리까지)\n",
      "x=0.55 : 추정값=0.7416, 실제값=0.7416, 오차=0.0000 (소수점 넷째자리까지)\n",
      "x=0.65 : 추정값=0.8062, 실제값=0.8062, 오차=0.0000 (소수점 넷째자리까지)\n",
      "x=0.75 : 추정값=0.8661, 실제값=0.8660, 오차=0.0001 (소수점 넷째자리까지)\n",
      "x=0.85 : 추정값=0.9218, 실제값=0.9220, 오차=0.0002 (소수점 넷째자리까지)\n",
      "x=0.95 : 추정값=0.9757, 실제값=0.9747, 오차=0.0010 (소수점 넷째자리까지)\n"
     ]
    }
   ],
   "source": [
    "# 5\n",
    "import numpy as np\n",
    "\n",
    "# f(x) = sqrt(x) 함수 정의\n",
    "def f(x):\n",
    "    return np.sqrt(x)\n",
    "\n",
    "# 0부터 1까지 0.1 간격으로 점 구성\n",
    "x_v = np.linspace(0, 1, 11)\n",
    "y_v = f(x_v)\n",
    "\n",
    "# 각 구간의 중심점에서의 추정값과 실제 값의 오차 계산\n",
    "for x in np.arange(0.05, 1, 0.1):\n",
    "    interpolated_value = Lagrange_interpolation(x, x_v, y_v)\n",
    "    actual_value = f(x)\n",
    "    error = abs(interpolated_value - actual_value)\n",
    "    print(f\"x={x:.2f} : 추정값={interpolated_value:.4f}, 실제값={actual_value:.4f}, 오차={error:.4f} (소수점 넷째자리까지)\")"
   ]
  },
  {
   "cell_type": "code",
   "execution_count": 74,
   "metadata": {},
   "outputs": [],
   "source": [
    "# 6, 7 -> 손풀이"
   ]
  },
  {
   "attachments": {
    "229814fd-4ae5-46ea-af2f-ddfc9c80c638.png": {
     "image/png": "[encoded data removed]"
    }
   },
   "cell_type": "markdown",
   "metadata": {},
   "source": [
    "# 8\n",
    "![image.png](attachment:229814fd-4ae5-46ea-af2f-ddfc9c80c638.png)"
   ]
  },
  {
   "cell_type": "code",
   "execution_count": 56,
   "metadata": {},
   "outputs": [
    {
     "data": {
      "image/png": "[encoded data removed]",
      "text/plain": [
       "<Figure size 1000x600 with 1 Axes>"
      ]
     },
     "metadata": {},
     "output_type": "display_data"
    }
   ],
   "source": [
    "# 8\n",
    "import numpy as np\n",
    "from scipy.interpolate import interp1d\n",
    "import matplotlib.pyplot as plt\n",
    "\n",
    "x = np.array([0, 1, 2, 2.5, 3, 3.5, 4])\n",
    "y = np.array([2.5, 0.5, 0.5, 1.5, 1.5, 1.125, 0])\n",
    "\n",
    "# 3차 스플라인으로 보간\n",
    "spline = interp1d(x, y, kind='cubic')\n",
    "\n",
    "x_fine = np.linspace(0, 4, 500)\n",
    "y_fine = spline(x_fine)\n",
    "\n",
    "plt.figure(figsize=(10, 6))\n",
    "plt.plot(x, y, 'o', label='Original Data')\n",
    "plt.plot(x_fine, y_fine, '-', label='Cubic Spline')\n",
    "plt.title('Cubic Spline Interpolation')\n",
    "plt.xlabel('x')\n",
    "plt.ylabel('y')\n",
    "plt.legend()\n",
    "plt.show()"
   ]
  },
  {
   "cell_type": "code",
   "execution_count": 71,
   "metadata": {},
   "outputs": [
    {
     "name": "stdout",
     "output_type": "stream",
     "text": [
      "s0(x) = 1 + 2.0(x - -1) + 0.0(x - -1)^2 + -1.0(x - -1)^3\n",
      "s1(x) = 2 + -1.0(x - 0) + -3.0(x - 0)^2 + 1.0(x - 0)^3\n"
     ]
    }
   ],
   "source": [
    "# 6\n",
    "import numpy as np\n",
    "import scipy.linalg\n",
    "\n",
    "def natural_cubic_spline(x, y):\n",
    "    n = len(x)\n",
    "    h = np.diff(x)\n",
    "    \n",
    "    # 방정식의 계수 행렬 A와 우변 행렬 B를 만듭니다.\n",
    "    A = np.zeros((n, n))\n",
    "    B = np.zeros(n)\n",
    "    \n",
    "    # 자연 스플라인 경계 조건 설정\n",
    "    A[0, 0] = 1\n",
    "    A[-1, -1] = 1\n",
    "    \n",
    "    for i in range(1, n - 1):\n",
    "        A[i, i - 1] = h[i - 1]\n",
    "        A[i, i] = 2 * (h[i - 1] + h[i])\n",
    "        A[i, i + 1] = h[i]\n",
    "        B[i] = 3 * (y[i + 1] - y[i]) / h[i] - 3 * (y[i] - y[i - 1]) / h[i - 1]\n",
    "    \n",
    "    # 2차 미분값 (M)을 구합니다.\n",
    "    M = np.zeros(n)\n",
    "    M = scipy.linalg.solve(A, B)\n",
    "    \n",
    "    # 각 구간에 대한 스플라인 계수 계산\n",
    "    splines = []\n",
    "    for i in range(n - 1):\n",
    "        a = y[i]\n",
    "        b = (y[i + 1] - y[i]) / h[i] - h[i] * (2 * M[i] + M[i + 1]) / 3\n",
    "        c = M[i] \n",
    "        d = (M[i + 1] - M[i]) / (3 * h[i])\n",
    "        splines.append((a, b, c, d))\n",
    "    \n",
    "    return splines\n",
    "\n",
    "x = [-1, 0, 1]\n",
    "y = [1, 2, -1]\n",
    "\n",
    "splines = natural_cubic_spline(x, y)\n",
    "for i, (a, b, c, d) in enumerate(splines):\n",
    "    print(f\"s{i}(x) = {a} + {b}(x - {x[i]}) + {c}(x - {x[i]})^2 + {d}(x - {x[i]})^3\")"
   ]
  }
 ],
 "metadata": {
  "kernelspec": {
   "display_name": "Python 3 (ipykernel)",
   "language": "python",
   "name": "python3"
  },
  "language_info": {
   "codemirror_mode": {
    "name": "ipython",
    "version": 3
   },
   "file_extension": ".py",
   "mimetype": "text/x-python",
   "name": "python",
   "nbconvert_exporter": "python",
   "pygments_lexer": "ipython3",
   "version": "3.9.13"
  }
 },
 "nbformat": 4,
 "nbformat_minor": 4
}
