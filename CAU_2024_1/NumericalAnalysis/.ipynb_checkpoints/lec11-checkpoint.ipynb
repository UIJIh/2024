{
 "cells": [
  {
   "cell_type": "markdown",
   "id": "fdff1fb5-b7d0-464d-808b-efe4341806e7",
   "metadata": {},
   "source": [
    "# numpy : polyfit / ployval / round / linalg.solve"
   ]
  },
  {
   "cell_type": "code",
   "execution_count": 16,
   "id": "57c3ccef-8521-477c-9388-d97ef15eba0e",
   "metadata": {},
   "outputs": [],
   "source": [
    "import numpy as np\n",
    "\n",
    "def Linear_reg(x, y):\n",
    "    n = len(x)\n",
    "    \n",
    "    sum_x = np.sum(x)\n",
    "    sum_y = np.sum(y)\n",
    "    sum_xx = np.sum(x**2)\n",
    "    sum_xy = np.sum(x*y)\n",
    "    \n",
    "    a0 = (sum_xx*sum_y - sum_xy*sum_x) / (n*sum_xx - sum_x**2)\n",
    "    a1 = (n*sum_xy - sum_x*sum_y) / (n*sum_xx - sum_x**2)\n",
    "\n",
    "    return a0, a1"
   ]
  },
  {
   "cell_type": "code",
   "execution_count": 17,
   "id": "c46862c3-33e0-4435-8060-ec8acfbead07",
   "metadata": {},
   "outputs": [],
   "source": [
    "x = np.array([3, 5, 6, 9, 10, 12])\n",
    "y = np.array([1, 2, 4, 5, 7, 8])\n",
    "s = Linear_reg(x, y)"
   ]
  },
  {
   "cell_type": "code",
   "execution_count": 19,
   "id": "8e645623-cca2-41cb-8d4c-035c33174310",
   "metadata": {},
   "outputs": [
    {
     "name": "stdout",
     "output_type": "stream",
     "text": [
      "[-1.435  0.791]\n"
     ]
    }
   ],
   "source": [
    "print(np.round(s, 3))"
   ]
  },
  {
   "cell_type": "code",
   "execution_count": 20,
   "id": "aec00520-29b4-4c73-873b-34797499a3ff",
   "metadata": {},
   "outputs": [
    {
     "ename": "TypeError",
     "evalue": "unsupported format string passed to tuple.__format__",
     "output_type": "error",
     "traceback": [
      "\u001b[0;31m---------------------------------------------------------------------------\u001b[0m",
      "\u001b[0;31mTypeError\u001b[0m                                 Traceback (most recent call last)",
      "Cell \u001b[0;32mIn[20], line 1\u001b[0m\n\u001b[0;32m----> 1\u001b[0m \u001b[38;5;28mprint\u001b[39m(\u001b[38;5;124mf\u001b[39m\u001b[38;5;124m'\u001b[39m\u001b[38;5;132;01m{\u001b[39;00ms\u001b[38;5;132;01m:\u001b[39;00m\u001b[38;5;124m.3f\u001b[39m\u001b[38;5;132;01m}\u001b[39;00m\u001b[38;5;124m'\u001b[39m)\n",
      "\u001b[0;31mTypeError\u001b[0m: unsupported format string passed to tuple.__format__"
     ]
    }
   ],
   "source": [
    "print(f'{s:.3f}') # np. 무조건 써야함 round도 그냥 쓰면 같은 오류"
   ]
  },
  {
   "cell_type": "code",
   "execution_count": 23,
   "id": "560d9bb8-80c8-42a9-9c72-b092c5da5854",
   "metadata": {},
   "outputs": [
    {
     "name": "stdout",
     "output_type": "stream",
     "text": [
      "[23.786  2.714]\n"
     ]
    }
   ],
   "source": [
    "x = np.array([1, 1.5, 2, 2.5, 3, 3.5, 4])\n",
    "y = np.array([25, 31, 27, 28, 36, 35, 32])\n",
    "s = Linear_reg(x, y)\n",
    "print(np.round(s,3))"
   ]
  },
  {
   "cell_type": "code",
   "execution_count": 24,
   "id": "c62e055c-afec-45c4-ac0f-a0ae32694de4",
   "metadata": {},
   "outputs": [
    {
     "data": {
      "text/plain": [
       "193.002"
      ]
     },
     "execution_count": 24,
     "metadata": {},
     "output_type": "execute_result"
    }
   ],
   "source": [
    "23.786*8 + 2.714"
   ]
  },
  {
   "cell_type": "code",
   "execution_count": 27,
   "id": "fdb3a667-e821-4ed7-8a58-07eec0f28049",
   "metadata": {},
   "outputs": [],
   "source": [
    "def Cubic_reg(x, y):\n",
    "    n = len(x)\n",
    "    sum_x = np.sum(x)\n",
    "    sum_x2 = np.sum(x**2)\n",
    "    sum_x3 = np.sum(x**3)\n",
    "    sum_x4 = np.sum(x**4)\n",
    "    sum_y = np.sum(y)\n",
    "    sum_xy = np.sum(x*y)\n",
    "    sum_x2y = np.sum((x**2)*y)\n",
    "    A = np.array([[n, sum_x, sum_x2], \n",
    "                  [sum_x, sum_x2, sum_x3], \n",
    "                  [sum_x2, sum_x3, sum_x4]])\n",
    "    b = np.array([sum_y, sum_xy, sum_x2y])\n",
    "    x = np.linalg.solve(A, b)\n",
    "    \n",
    "    a0, a1, a2 = x\n",
    "    #a0 = x[0], a1 = x[1], a2 = x[2]\n",
    "    \n",
    "    print('2차 다항식 회귀식 P(x) = %.4f + %.4f x + %.4f x^2' % (a0, a1, a2))\n",
    "    \n",
    "    return a0, a1, a2"
   ]
  },
  {
   "cell_type": "code",
   "execution_count": 31,
   "id": "24a91829-7b0f-4673-aec1-623e9534950e",
   "metadata": {},
   "outputs": [
    {
     "name": "stdout",
     "output_type": "stream",
     "text": [
      "2차 다항식 회귀식 P(x) = 1.0051 + 0.8642 x + 0.8437 x^2\n"
     ]
    }
   ],
   "source": [
    "x = np.array([0.0, 0.25, 0.5, 0.75, 1.0])\n",
    "y = np.array([1.0000, 1.2840, 1.6487, 2.1170, 2.7183])\n",
    "z = Cubic_reg(x, y)"
   ]
  },
  {
   "cell_type": "code",
   "execution_count": 38,
   "id": "bddb989e-dcd0-4b37-890e-4d1cf2aaa6c7",
   "metadata": {},
   "outputs": [],
   "source": [
    "x = [1.0, 1.2, 1.5, 1.8, 2.1, 2.4, 2.8]\n",
    "y = [5.5, 7.3, 14.1, 26.3, 48.2, 80.1, 111.6]"
   ]
  },
  {
   "cell_type": "code",
   "execution_count": 39,
   "id": "cd539e98-923b-4444-80d1-f896310345a5",
   "metadata": {},
   "outputs": [
    {
     "name": "stdout",
     "output_type": "stream",
     "text": [
      "[ 29.91843281 -52.34293099  26.71505279]\n"
     ]
    }
   ],
   "source": [
    "p = np.polyfit(x, y, 2)\n",
    "print(p)"
   ]
  },
  {
   "cell_type": "code",
   "execution_count": 40,
   "id": "97502897-3b8f-4a89-8050-74a0f82d6e97",
   "metadata": {},
   "outputs": [
    {
     "name": "stdout",
     "output_type": "stream",
     "text": [
      "[ 29.9184 -52.3429  26.7151]\n"
     ]
    }
   ],
   "source": [
    "print(np.round(p, 4))"
   ]
  },
  {
   "cell_type": "code",
   "execution_count": 42,
   "id": "3082bee4-c60e-434d-a26a-f5552acbda4f",
   "metadata": {},
   "outputs": [
    {
     "name": "stdout",
     "output_type": "stream",
     "text": [
      "4.2906\n"
     ]
    }
   ],
   "source": [
    "pv = np.polyval(p, 1.0)\n",
    "print(np.round(pv,4))"
   ]
  },
  {
   "cell_type": "markdown",
   "id": "74f700d9-e58d-46f9-95e5-8a76e38b87b4",
   "metadata": {},
   "source": [
    "# 오차 구하기"
   ]
  },
  {
   "cell_type": "code",
   "execution_count": 45,
   "id": "e3045254-27df-4f86-9249-22a7b8d34432",
   "metadata": {},
   "outputs": [
    {
     "name": "stdout",
     "output_type": "stream",
     "text": [
      "[ 1.20944539  0.31392115 -1.41713013 -3.13349932 -0.53518641  6.67780859\n",
      " -3.11535927]\n"
     ]
    }
   ],
   "source": [
    "e = y - np.polyval(p, x)\n",
    "print(e)"
   ]
  },
  {
   "cell_type": "code",
   "execution_count": 49,
   "id": "c67c615c-cb14-4516-bef3-f487a9cf1ad4",
   "metadata": {},
   "outputs": [
    {
     "name": "stdout",
     "output_type": "stream",
     "text": [
      "[ 1.46275815  0.09854649  2.00825781  9.81881798  0.2864245  44.59312754\n",
      "  9.70546336]\n"
     ]
    }
   ],
   "source": [
    "print(e**2) # 전체 오차"
   ]
  },
  {
   "cell_type": "markdown",
   "id": "6edfcf14-7528-4733-a7a1-09a1deba3405",
   "metadata": {},
   "source": [
    "## lse"
   ]
  },
  {
   "cell_type": "code",
   "execution_count": 50,
   "id": "8e15f085-07a0-4ff2-9955-dd04aaf954de",
   "metadata": {},
   "outputs": [
    {
     "name": "stdout",
     "output_type": "stream",
     "text": [
      "67.9734\n"
     ]
    }
   ],
   "source": [
    "print('%.4f' % sum(e**2))"
   ]
  }
 ],
 "metadata": {
  "kernelspec": {
   "display_name": "Python 3 (ipykernel)",
   "language": "python",
   "name": "python3"
  },
  "language_info": {
   "codemirror_mode": {
    "name": "ipython",
    "version": 3
   },
   "file_extension": ".py",
   "mimetype": "text/x-python",
   "name": "python",
   "nbconvert_exporter": "python",
   "pygments_lexer": "ipython3",
   "version": "3.9.13"
  }
 },
 "nbformat": 4,
 "nbformat_minor": 5
}
