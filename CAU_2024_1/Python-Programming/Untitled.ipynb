{
 "cells": [
  {
   "cell_type": "code",
   "execution_count": 1,
   "id": "208398e7-2f46-4ecf-939b-15367c3ad4b9",
   "metadata": {},
   "outputs": [
    {
     "name": "stdout",
     "output_type": "stream",
     "text": [
      "i am 0\n",
      "i am 3\n",
      "i am 4\n",
      "i am 5\n",
      "i am 6\n",
      "i am 7\n",
      "i am 8\n",
      "i am 9\n"
     ]
    }
   ],
   "source": [
    "for i in range(10):\n",
    "    if i == 1 or i == 2:\n",
    "        continue\n",
    "    print(f\"i am {i}\")"
   ]
  },
  {
   "cell_type": "code",
   "execution_count": 2,
   "id": "bb63bf3b-9266-4bd8-bdd3-91115516bb03",
   "metadata": {},
   "outputs": [
    {
     "name": "stdout",
     "output_type": "stream",
     "text": [
      "i am 0\n",
      "i am 1\n",
      "i am 2\n",
      "i am 3\n",
      "i am 4\n",
      "i am 5\n",
      "i am 6\n",
      "i am 7\n",
      "i am 8\n",
      "i am 9\n"
     ]
    }
   ],
   "source": [
    "for i in range(10):\n",
    "    if i == 1 or i == 2:\n",
    "        pass\n",
    "    print(f\"i am {i}\")"
   ]
  },
  {
   "cell_type": "code",
   "execution_count": 4,
   "id": "2c754740-ad7c-478e-99ba-0fca5774d077",
   "metadata": {},
   "outputs": [
    {
     "name": "stdout",
     "output_type": "stream",
     "text": [
      "[[0, 2, 3], [4, 0, 6], [7, 8, 0]]\n"
     ]
    }
   ],
   "source": [
    "d = [[1,2,3],[4,5,6],[7,8,9]]\n",
    "for i in range(len(d)):\n",
    "    #print(d[i][i])\n",
    "    d[i][i] = 0\n",
    "print(d)"
   ]
  },
  {
   "cell_type": "code",
   "execution_count": null,
   "id": "fc2dd12e-986c-4f99-8213-f26990784b1e",
   "metadata": {},
   "outputs": [],
   "source": []
  }
 ],
 "metadata": {
  "kernelspec": {
   "display_name": "Python 3 (ipykernel)",
   "language": "python",
   "name": "python3"
  },
  "language_info": {
   "codemirror_mode": {
    "name": "ipython",
    "version": 3
   },
   "file_extension": ".py",
   "mimetype": "text/x-python",
   "name": "python",
   "nbconvert_exporter": "python",
   "pygments_lexer": "ipython3",
   "version": "3.9.13"
  }
 },
 "nbformat": 4,
 "nbformat_minor": 5
}
