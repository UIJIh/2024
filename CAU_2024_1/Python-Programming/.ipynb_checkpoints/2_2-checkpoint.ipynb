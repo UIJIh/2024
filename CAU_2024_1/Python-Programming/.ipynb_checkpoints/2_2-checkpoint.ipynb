{
 "cells": [
  {
   "cell_type": "code",
   "execution_count": 13,
   "id": "f14cc35d-3e03-4934-9e88-5875f95d1fe4",
   "metadata": {},
   "outputs": [
    {
     "name": "stdout",
     "output_type": "stream",
     "text": [
      "Python's favorite food is perl\n"
     ]
    }
   ],
   "source": [
    "sen = \"Python's favorite food is perl\"\n",
    "print(sen)"
   ]
  },
  {
   "cell_type": "code",
   "execution_count": 14,
   "id": "b3a0925d-d650-47d4-846c-d19565c244ee",
   "metadata": {},
   "outputs": [
    {
     "name": "stdout",
     "output_type": "stream",
     "text": [
      "Albert Einstein once said, \"A person who never made a mistake never tried anything new.\"\n"
     ]
    }
   ],
   "source": [
    "author = \"Albert Einstein\"\n",
    "quote = \"A person who never made a mistake never tried anything new.\"\n",
    "print(f'{author} once said, \"{quote}\"')"
   ]
  },
  {
   "cell_type": "code",
   "execution_count": 15,
   "id": "ff47dc1c-8ce9-4f36-9470-6b2465ad2de4",
   "metadata": {},
   "outputs": [
    {
     "data": {
      "text/plain": [
       "\"python's favorite food is perl\""
      ]
     },
     "execution_count": 15,
     "metadata": {},
     "output_type": "execute_result"
    }
   ],
   "source": [
    "sen.lower()"
   ]
  },
  {
   "cell_type": "code",
   "execution_count": 16,
   "id": "cacbf522-ae9d-4ea1-bc7a-29c943262bcd",
   "metadata": {},
   "outputs": [
    {
     "data": {
      "text/plain": [
       "\"PYTHON'S FAVORITE FOOD IS PERL\""
      ]
     },
     "execution_count": 16,
     "metadata": {},
     "output_type": "execute_result"
    }
   ],
   "source": [
    "sen.upper()"
   ]
  },
  {
   "cell_type": "code",
   "execution_count": 17,
   "id": "af231a18-fae9-43e2-89f1-7b9bf33525cf",
   "metadata": {},
   "outputs": [
    {
     "data": {
      "text/plain": [
       "\"Python'S Favorite Food Is Perl\""
      ]
     },
     "execution_count": 17,
     "metadata": {},
     "output_type": "execute_result"
    }
   ],
   "source": [
    "sen.title()"
   ]
  },
  {
   "cell_type": "code",
   "execution_count": 18,
   "id": "5f0cf69d-ae80-49c9-852f-4b30fb4788d7",
   "metadata": {},
   "outputs": [
    {
     "data": {
      "text/plain": [
       "\"Python's favorite food is perl\""
      ]
     },
     "execution_count": 18,
     "metadata": {},
     "output_type": "execute_result"
    }
   ],
   "source": [
    "sen.capitalize()"
   ]
  },
  {
   "cell_type": "code",
   "execution_count": 19,
   "id": "765c8735-db93-4616-8473-26d605a4d5c6",
   "metadata": {},
   "outputs": [
    {
     "data": {
      "text/plain": [
       "\"pYTHON'S FAVORITE FOOD IS PERL\""
      ]
     },
     "execution_count": 19,
     "metadata": {},
     "output_type": "execute_result"
    }
   ],
   "source": [
    "sen.swapcase()"
   ]
  },
  {
   "cell_type": "code",
   "execution_count": 20,
   "id": "379639e4-cece-49d6-bfbb-a5d9fe0d01ac",
   "metadata": {},
   "outputs": [
    {
     "name": "stdout",
     "output_type": "stream",
     "text": [
      "Albert Einstein , A person who never made a mistake never tried anything new.\n"
     ]
    }
   ],
   "source": [
    "print(author, ',', quote)"
   ]
  },
  {
   "cell_type": "code",
   "execution_count": 23,
   "id": "4993dae6-4657-4699-9d2a-ccfdb8dfb20e",
   "metadata": {},
   "outputs": [
    {
     "data": {
      "text/plain": [
       "'Albert Einstein, A person who never made a mistake never tried anything new.'"
      ]
     },
     "execution_count": 23,
     "metadata": {},
     "output_type": "execute_result"
    }
   ],
   "source": [
    "sen2 = author + \", \" + quote\n",
    "sen2"
   ]
  },
  {
   "cell_type": "code",
   "execution_count": 29,
   "id": "45b79cbd-e4fe-425e-a4f6-778a271e4797",
   "metadata": {},
   "outputs": [
    {
     "name": "stdout",
     "output_type": "stream",
     "text": [
      "remove all ... pls...\n",
      "remove all ... pls...\n",
      "           remove all ... pls...\n"
     ]
    }
   ],
   "source": [
    "text_with_space = \"           remove all ... pls...\"\n",
    "print(text_with_space.strip())\n",
    "print(text_with_space.lstrip())\n",
    "print(text_with_space.rstrip())"
   ]
  },
  {
   "cell_type": "code",
   "execution_count": 30,
   "id": "f9902d60-002a-45b3-b8cb-d6681b7c52a4",
   "metadata": {},
   "outputs": [
    {
     "name": "stdout",
     "output_type": "stream",
     "text": [
      "           remove all ... pls\n"
     ]
    }
   ],
   "source": [
    "print(text_with_space.strip('...'))"
   ]
  },
  {
   "cell_type": "code",
   "execution_count": 75,
   "id": "0a73e018-7ead-4e12-be4f-b699b23b178b",
   "metadata": {},
   "outputs": [
    {
     "name": "stdout",
     "output_type": "stream",
     "text": [
      "cau.ac.kr\n"
     ]
    }
   ],
   "source": [
    "url = \"www.cau.ac.kr\"\n",
    "removed_url = url.removeprefix('www.')\n",
    "print(removed_url)"
   ]
  },
  {
   "cell_type": "code",
   "execution_count": 32,
   "id": "8ea49c4a-9c22-43e9-93ee-d6e9e73555ae",
   "metadata": {},
   "outputs": [
    {
     "data": {
      "text/plain": [
       "4"
      ]
     },
     "execution_count": 32,
     "metadata": {},
     "output_type": "execute_result"
    }
   ],
   "source": [
    "url.find('cau')"
   ]
  },
  {
   "cell_type": "code",
   "execution_count": 33,
   "id": "cf91fb2f-6f1e-427e-9547-7a3ee2374062",
   "metadata": {},
   "outputs": [
    {
     "data": {
      "text/plain": [
       "4"
      ]
     },
     "execution_count": 33,
     "metadata": {},
     "output_type": "execute_result"
    }
   ],
   "source": [
    "url.index('cau')"
   ]
  },
  {
   "cell_type": "code",
   "execution_count": 34,
   "id": "dbc92096-b931-4fa7-9ddc-c774abef8569",
   "metadata": {},
   "outputs": [
    {
     "data": {
      "text/plain": [
       "-1"
      ]
     },
     "execution_count": 34,
     "metadata": {},
     "output_type": "execute_result"
    }
   ],
   "source": [
    "url.find('cau', 0, 2)"
   ]
  },
  {
   "cell_type": "code",
   "execution_count": 35,
   "id": "4da4e1da-30e3-4588-93c3-f1b52c495d4e",
   "metadata": {},
   "outputs": [
    {
     "ename": "ValueError",
     "evalue": "substring not found",
     "output_type": "error",
     "traceback": [
      "\u001b[0;31m---------------------------------------------------------------------------\u001b[0m",
      "\u001b[0;31mValueError\u001b[0m                                Traceback (most recent call last)",
      "Cell \u001b[0;32mIn[35], line 1\u001b[0m\n\u001b[0;32m----> 1\u001b[0m \u001b[43murl\u001b[49m\u001b[38;5;241;43m.\u001b[39;49m\u001b[43mindex\u001b[49m\u001b[43m(\u001b[49m\u001b[38;5;124;43m'\u001b[39;49m\u001b[38;5;124;43mcau\u001b[39;49m\u001b[38;5;124;43m'\u001b[39;49m\u001b[43m,\u001b[49m\u001b[43m \u001b[49m\u001b[38;5;241;43m0\u001b[39;49m\u001b[43m,\u001b[49m\u001b[43m \u001b[49m\u001b[38;5;241;43m2\u001b[39;49m\u001b[43m)\u001b[49m\n",
      "\u001b[0;31mValueError\u001b[0m: substring not found"
     ]
    }
   ],
   "source": [
    "url.index('cau', 0, 2)"
   ]
  },
  {
   "cell_type": "code",
   "execution_count": 70,
   "id": "913deb8a-9ea2-4851-8dff-4b7e5210d4ff",
   "metadata": {},
   "outputs": [
    {
     "name": "stdout",
     "output_type": "stream",
     "text": [
      "Fruit\tPrice\n",
      "-----\t-----\n",
      "Apple\t$1.00\n",
      "Banana\t$0.50\n",
      "Cherry\t$0.75\n"
     ]
    }
   ],
   "source": [
    "col = [\"Fruit\", \"Price\"]\n",
    "groceries = {\"Apple\" : \"$1.00\", \"Banana\" : \"$0.50\", \"Cherry\" : \"$0.75\"}\n",
    "print(f'{col[0]}\\t{col[1]}\\n-----\\t-----')\n",
    "for key, value in groceries.items():\n",
    "    print(f'{key}\\t{value}')"
   ]
  },
  {
   "cell_type": "code",
   "execution_count": 77,
   "id": "fb804abc-73b7-49f6-b3ff-1e08f6534c43",
   "metadata": {},
   "outputs": [
    {
     "name": "stdout",
     "output_type": "stream",
     "text": [
      "Hello, Python World!\n"
     ]
    }
   ],
   "source": [
    "unwanted = \" ###Hello, Python World!###\"\n",
    "target = unwanted.removeprefix(' ###')\n",
    "target = target.rstrip('###')\n",
    "print(target)"
   ]
  },
  {
   "cell_type": "code",
   "execution_count": 82,
   "id": "00d7cb92-1554-44ef-898e-16d70208dd4b",
   "metadata": {},
   "outputs": [
    {
     "data": {
      "text/plain": [
       "'Hello World!'"
      ]
     },
     "execution_count": 82,
     "metadata": {},
     "output_type": "execute_result"
    }
   ],
   "source": [
    "unwanted = 'aa12a..aHello World!a..a'\n",
    "target = unwanted.replace('a', '')\n",
    "target = target.lstrip(\"12..\")\n",
    "target = target.rstrip(\"..\")\n",
    "target"
   ]
  },
  {
   "cell_type": "code",
   "execution_count": 113,
   "id": "de2e46d8-0416-4a73-a161-a17f3e93bbc4",
   "metadata": {},
   "outputs": [
    {
     "name": "stdout",
     "output_type": "stream",
     "text": [
      "Programming is an amazing language.\n",
      "It supports multiple paradigms.\n",
      "Programming is easy to learn and powerful.\n",
      "Let's code in Programming.\n"
     ]
    }
   ],
   "source": [
    "paragraph = \"Python is an amazing language. It supports multiple paradigms. Python is easy to learn and powerful. Let's code in Python.\"\n",
    "new = paragraph.replace(\"Python\", \"Programming\")\n",
    "new = new.split('. ')\n",
    "new = [sen.strip() for sen in new if sen.strip()]\n",
    "new = \".\\n\".join(new)\n",
    "print(new)"
   ]
  },
  {
   "cell_type": "code",
   "execution_count": 115,
   "id": "ccc61734-ce12-44ed-ad1e-ac9e9b931f10",
   "metadata": {},
   "outputs": [
    {
     "name": "stdout",
     "output_type": "stream",
     "text": [
      "Programming is an amazing language.\n",
      "It supports multiple paradigms.\n",
      "Programming is easy to learn and powerful.\n",
      "Let's code in Programming\n"
     ]
    }
   ],
   "source": [
    "def seperateSentences(sen):\n",
    "    new = sen.replace(\"Python\", \"Programming\")\n",
    "    new = new.split(\".\")\n",
    "    new = [sen.strip() for sen in new if sen.strip()]\n",
    "    new = \".\\n\".join(new)\n",
    "    return new\n",
    "print(seperateSentences(paragraph))"
   ]
  },
  {
   "cell_type": "code",
   "execution_count": 127,
   "id": "efea01c8-1870-4256-a446-3a9a017c82a1",
   "metadata": {},
   "outputs": [
    {
     "name": "stdout",
     "output_type": "stream",
     "text": [
      "Area of the circle with radius 3.141592653589793 is: 31.006276680299816\n"
     ]
    }
   ],
   "source": [
    "import math\n",
    "\n",
    "radius = math.pi\n",
    "num = 5\n",
    "\n",
    "# Calculate the area of a circle with radius `radius`\n",
    "area = math.pi * (radius ** 2)\n",
    "print(\"Area of the circle with radius\", radius, \"is:\", area)"
   ]
  },
  {
   "cell_type": "code",
   "execution_count": 128,
   "id": "9aa40f1b-d050-4329-9f73-e8010776b46b",
   "metadata": {},
   "outputs": [
    {
     "name": "stdout",
     "output_type": "stream",
     "text": [
      "Root 1 = 3.0\n",
      "Root 2 = 2.0\n"
     ]
    }
   ],
   "source": [
    "# Coefficients of the quadratic equation: ax^2 + bx + c = 0\n",
    "a = 1\n",
    "b = -5\n",
    "c = 6\n",
    "\n",
    "# Calculate the discriminant (b^2 - 4ac)\n",
    "discriminant = b**2 - 4*a*c\n",
    "\n",
    "# Check the value of the discriminant\n",
    "if discriminant > 0:\n",
    "    # Two distinct real roots\n",
    "    # Compute the roots using the quadratic formula\n",
    "    root1 = (-b + discriminant**0.5) / (2*a)\n",
    "    root2 = (-b - discriminant**0.5) / (2*a)\n",
    "    print(\"Root 1 =\", root1)\n",
    "    print(\"Root 2 =\", root2)\n",
    "elif discriminant == 0:\n",
    "    # One real root (repeated)\n",
    "    # Compute the single root using the quadratic formula\n",
    "    root = -b / (2*a)\n",
    "    print(\"Single Root =\", root)\n",
    "else:\n",
    "    # No real roots (complex roots)\n",
    "    print(\"No real roots exist for this quadratic equation.\")"
   ]
  },
  {
   "cell_type": "code",
   "execution_count": 131,
   "id": "3e820a84-32ed-44f0-a007-8f7b8afaddf1",
   "metadata": {},
   "outputs": [],
   "source": [
    "def SquareCube(x):\n",
    "    sq = x ** 2\n",
    "    cube = x ** 3\n",
    "    return sq, cube"
   ]
  },
  {
   "cell_type": "code",
   "execution_count": 133,
   "id": "602fdea7-4c0a-4e05-9045-653fca5dbe04",
   "metadata": {},
   "outputs": [
    {
     "data": {
      "text/plain": [
       "(4, 8)"
      ]
     },
     "execution_count": 133,
     "metadata": {},
     "output_type": "execute_result"
    }
   ],
   "source": [
    "SquareCube(2)"
   ]
  },
  {
   "cell_type": "code",
   "execution_count": 137,
   "id": "0ecd2484-e455-4f16-8be2-f43302cdfe1b",
   "metadata": {},
   "outputs": [
    {
     "name": "stdout",
     "output_type": "stream",
     "text": [
      "정수: 42\n",
      "이진수: 101010\n",
      "팔진수: 52\n",
      "십육진수: 2a\n"
     ]
    }
   ],
   "source": [
    "# 변환할 정수\n",
    "num = 42  # 예시 정수\n",
    "\n",
    "# 이진수(binary) 형식으로 변환\n",
    "binary_representation = format(num, 'b')  # 이진수 문자열 반환\n",
    "\n",
    "# 팔진수(octal) 형식으로 변환\n",
    "octal_representation = format(num, 'o')  # 팔진수 문자열 반환\n",
    "\n",
    "# 십육진수(hexadecimal) 형식으로 변환\n",
    "hexadecimal_representation = format(num, 'x')  # 십육진수 문자열 반환\n",
    "\n",
    "# 결과 출력\n",
    "print(\"정수:\", num)\n",
    "print(\"이진수:\", binary_representation)\n",
    "print(\"팔진수:\", octal_representation)\n",
    "print(\"십육진수:\", hexadecimal_representation)"
   ]
  },
  {
   "cell_type": "code",
   "execution_count": 140,
   "id": "016905e6-987c-484b-91cb-20a3efc483d7",
   "metadata": {},
   "outputs": [],
   "source": [
    "num = 42"
   ]
  },
  {
   "cell_type": "code",
   "execution_count": 144,
   "id": "95a03545-00b0-4c9a-8596-ff046fa82419",
   "metadata": {},
   "outputs": [
    {
     "data": {
      "text/plain": [
       "66"
      ]
     },
     "execution_count": 144,
     "metadata": {},
     "output_type": "execute_result"
    }
   ],
   "source": [
    "int('42', 16)"
   ]
  },
  {
   "cell_type": "code",
   "execution_count": 145,
   "id": "7eee1d47-b7cd-49a4-900c-ecf5c95820a2",
   "metadata": {},
   "outputs": [
    {
     "data": {
      "text/plain": [
       "60"
      ]
     },
     "execution_count": 145,
     "metadata": {},
     "output_type": "execute_result"
    }
   ],
   "source": [
    "int('0x3c', 16)"
   ]
  },
  {
   "cell_type": "code",
   "execution_count": 151,
   "id": "9b99fa2d-6d49-4dc8-94cd-ca8a101967d9",
   "metadata": {},
   "outputs": [
    {
     "name": "stdout",
     "output_type": "stream",
     "text": [
      "원본 정수: 26\n",
      "4로 나눈 몫: 6.5\n",
      "가장 가까운 정수로 반올림된 결과 (반올림 시 짝수로): 6\n"
     ]
    }
   ],
   "source": [
    "# 주어진 정수\n",
    "num = 26  # 예시 정수\n",
    "\n",
    "# 정수를 4로 나눈 후 몫을 구합니다\n",
    "quotient = num / 4\n",
    "\n",
    "# 반올림을 진행하여 가장 가까운 정수를 구합니다 (반올림 시 짝수로)\n",
    "rounded_quotient = round(quotient)\n",
    "\n",
    "# 결과를 출력합니다\n",
    "print(\"원본 정수:\", num)\n",
    "print(\"4로 나눈 몫:\", quotient)\n",
    "print(\"가장 가까운 정수로 반올림된 결과 (반올림 시 짝수로):\", rounded_quotient)\n"
   ]
  },
  {
   "cell_type": "code",
   "execution_count": null,
   "id": "e592c0d3-869d-4c19-b4eb-e91e7b289c88",
   "metadata": {},
   "outputs": [],
   "source": [
    "# 주어진 정수\n",
    "num = 18  # 예시 정수\n",
    "\n",
    "# 정수를 4로 나눈 후 몫을 구합니다\n",
    "quotient = num / 4\n",
    "\n",
    "# 반올림을 진행하여 가장 가까운 정수를 구합니다 (반올림 시 짝수로)\n",
    "rounded_quotient = round(quotient)\n",
    "\n",
    "# 결과를 출력합니다\n",
    "print(\"원본 정수:\", num)\n",
    "print(\"4로 나눈 몫:\", quotient)\n",
    "print(\"가장 가까운 정수로 반올림된 결과 (반올림 시 짝수로):\", rounded_quotient)\n"
   ]
  },
  {
   "cell_type": "code",
   "execution_count": 129,
   "id": "178bb805-c06f-42b8-9660-55377e093b9a",
   "metadata": {},
   "outputs": [
    {
     "name": "stdout",
     "output_type": "stream",
     "text": [
      "The Zen of Python, by Tim Peters\n",
      "\n",
      "Beautiful is better than ugly.\n",
      "Explicit is better than implicit.\n",
      "Simple is better than complex.\n",
      "Complex is better than complicated.\n",
      "Flat is better than nested.\n",
      "Sparse is better than dense.\n",
      "Readability counts.\n",
      "Special cases aren't special enough to break the rules.\n",
      "Although practicality beats purity.\n",
      "Errors should never pass silently.\n",
      "Unless explicitly silenced.\n",
      "In the face of ambiguity, refuse the temptation to guess.\n",
      "There should be one-- and preferably only one --obvious way to do it.\n",
      "Although that way may not be obvious at first unless you're Dutch.\n",
      "Now is better than never.\n",
      "Although never is often better than *right* now.\n",
      "If the implementation is hard to explain, it's a bad idea.\n",
      "If the implementation is easy to explain, it may be a good idea.\n",
      "Namespaces are one honking great idea -- let's do more of those!\n"
     ]
    }
   ],
   "source": [
    "import this"
   ]
  }
 ],
 "metadata": {
  "kernelspec": {
   "display_name": "Python 3 (ipykernel)",
   "language": "python",
   "name": "python3"
  },
  "language_info": {
   "codemirror_mode": {
    "name": "ipython",
    "version": 3
   },
   "file_extension": ".py",
   "mimetype": "text/x-python",
   "name": "python",
   "nbconvert_exporter": "python",
   "pygments_lexer": "ipython3",
   "version": "3.9.13"
  }
 },
 "nbformat": 4,
 "nbformat_minor": 5
}
