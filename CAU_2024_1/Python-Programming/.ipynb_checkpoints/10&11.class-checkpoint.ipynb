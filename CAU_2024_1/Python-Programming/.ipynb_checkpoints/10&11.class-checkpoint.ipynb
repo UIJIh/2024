{
 "cells": [
  {
   "cell_type": "code",
   "execution_count": 5,
   "metadata": {},
   "outputs": [],
   "source": [
    "class SimpleCalculator:\n",
    "    def __init__(self, a, b):\n",
    "        self.first_input = a\n",
    "        self.second_input = b\n",
    "    \n",
    "    def zero(self):\n",
    "        return 0\n",
    "    \n",
    "    def add(self):\n",
    "        return self.first_input + self.second_input\n",
    "    \n",
    "    def devide(self):        \n",
    "        if self.second_input == 0:\n",
    "            return \"CANNOT DIVIDE BY ZERO\"\n",
    "        return self.first_input / self.second_input"
   ]
  },
  {
   "cell_type": "code",
   "execution_count": 6,
   "metadata": {},
   "outputs": [
    {
     "data": {
      "text/plain": [
       "5"
      ]
     },
     "execution_count": 6,
     "metadata": {},
     "output_type": "execute_result"
    }
   ],
   "source": [
    "cal = SimpleCalculator(2, 3)\n",
    "cal.add()"
   ]
  },
  {
   "cell_type": "code",
   "execution_count": 8,
   "metadata": {},
   "outputs": [
    {
     "data": {
      "text/plain": [
       "0.6666666666666666"
      ]
     },
     "execution_count": 8,
     "metadata": {},
     "output_type": "execute_result"
    }
   ],
   "source": [
    "cal.devide()"
   ]
  },
  {
   "cell_type": "code",
   "execution_count": 2,
   "metadata": {},
   "outputs": [
    {
     "name": "stdout",
     "output_type": "stream",
     "text": [
      "세훈아, 너가 Shitty..Tattoos..하고 싶은 상황에 놓인 것은 알겠지만, 제발 시험 끝났으니 다시 Pull Yourself Together해줘.\n"
     ]
    }
   ],
   "source": [
    "class Ziralbangji:\n",
    "    def __init__(self, name, situation, advice):\n",
    "        self.name = name\n",
    "        self.situation = situation\n",
    "        self.advice = advice\n",
    "    \n",
    "    def full_advice(self):\n",
    "        text = f\"{self.name}아, 너가 {self.situation}에 놓인 것은 알겠지만, 제발 {self.advice}해줘.\"\n",
    "        return text.title()\n",
    "\n",
    "if __name__ == '__main__':\n",
    "    test = Ziralbangji('세훈', 'shitty..tattoos..하고 싶은 상황', '시험 끝났으니 다시 pull yourself together')\n",
    "    print(test.full_advice())"
   ]
  },
  {
   "cell_type": "code",
   "execution_count": 6,
   "metadata": {},
   "outputs": [
    {
     "name": "stdout",
     "output_type": "stream",
     "text": [
      "uiji\n",
      "Name:PIKAUIJI, Level:1000\n"
     ]
    }
   ],
   "source": [
    "class Pikachu1:\n",
    "    def __init__(self, name, level):\n",
    "        self.name = name\n",
    "        self.level = level\n",
    "    \n",
    "    def get_name(self):\n",
    "        return self.name\n",
    "    \n",
    "    def set_name(self, new_name):\n",
    "        self.name = new_name\n",
    "\n",
    "    def level_up(self):\n",
    "        self.level += 1\n",
    "    \n",
    "    def get_level(self):\n",
    "        return self.level\n",
    "    \n",
    "    def status(self):\n",
    "        return f\"Name:{self.name}, Level:{self.level}\"\n",
    "\n",
    "pika = Pikachu1('uiji', '1000')\n",
    "print(pika.get_name())\n",
    "pika.set_name('PIKAUIJI')\n",
    "print(pika.status())"
   ]
  },
  {
   "cell_type": "code",
   "execution_count": 7,
   "metadata": {},
   "outputs": [
    {
     "name": "stdout",
     "output_type": "stream",
     "text": [
      "1000\n"
     ]
    }
   ],
   "source": [
    "print(pika.get_level())"
   ]
  },
  {
   "cell_type": "code",
   "execution_count": 8,
   "metadata": {},
   "outputs": [],
   "source": [
    "class Pikachu2:\n",
    "    def __init__(self, name, level):\n",
    "        self.name = name\n",
    "        self.level = level\n",
    "        self.experience = 0\n",
    "    \n",
    "    def get_exp(self):\n",
    "        return self.experience\n",
    "    \n",
    "    def gain_exp(self, exp):\n",
    "        self.experience += exp\n",
    "\n",
    "        while self.experience >= 100:\n",
    "            self.level += 1\n",
    "            self.experience -= 100"
   ]
  },
  {
   "cell_type": "code",
   "execution_count": 11,
   "metadata": {},
   "outputs": [],
   "source": [
    "pik = Pikachu2('a', 0)\n",
    "pik.gain_exp(500)"
   ]
  },
  {
   "cell_type": "code",
   "execution_count": 15,
   "metadata": {},
   "outputs": [
    {
     "data": {
      "text/plain": [
       "5"
      ]
     },
     "execution_count": 15,
     "metadata": {},
     "output_type": "execute_result"
    }
   ],
   "source": [
    "class Pikachu2:\n",
    "    def __init__(self, name: str, level: int):\n",
    "        self.name = name\n",
    "        self.level = level\n",
    "        self.experience = 0\n",
    "\n",
    "    def get_exp(self) -> int:\n",
    "        return self.experience\n",
    "\n",
    "    def gain_exp(self, exp: int):\n",
    "        self.experience += exp\n",
    "        while self.experience >= 100:\n",
    "            self.level += 1\n",
    "            self.experience -= 100\n",
    "pik = Pikachu2('a', 0)\n",
    "pik.gain_exp(500)\n",
    "pik.level"
   ]
  },
  {
   "cell_type": "code",
   "execution_count": 20,
   "metadata": {},
   "outputs": [
    {
     "name": "stdout",
     "output_type": "stream",
     "text": [
      "100\n",
      "100\n",
      "0\n"
     ]
    }
   ],
   "source": [
    "class Pikachu3:\n",
    "    def __init__(self, name: str, level: int):\n",
    "        self.name = name\n",
    "        self.level = level\n",
    "\n",
    "        self.experience = 0\n",
    "        self.health = 100\n",
    "\n",
    "    def get_exp(self) -> int:\n",
    "        return self.experience\n",
    "\n",
    "    def gain_exp(self, exp: int):\n",
    "        self.experience += exp\n",
    "        while self.experience >= 100:\n",
    "            self.level += 1\n",
    "            self.experience -= 100\n",
    "    \n",
    "    def take_damage(self, damage):\n",
    "        self.health -= damage\n",
    "        if self.health <= 0:\n",
    "            self.health = 0\n",
    "\n",
    "    def use_item(self, item: str):\n",
    "        if item == 'Potion':\n",
    "            self.health += 20\n",
    "        if item == 'Rare Candy':\n",
    "            self.level += 1\n",
    "        if self.health > 100:\n",
    "            self.health = 100\n",
    "\n",
    "pik = Pikachu3('a', 0)\n",
    "print(pik.health)\n",
    "pik.use_item('Rare Candy')\n",
    "pik.use_item('Rare Candy')\n",
    "print(pik.health)\n",
    "pik.take_damage(1000)\n",
    "print(pik.health)"
   ]
  },
  {
   "cell_type": "code",
   "execution_count": 16,
   "metadata": {},
   "outputs": [],
   "source": [
    "class Pikachu3:\n",
    "    def __init__(self, name: str, level: int):\n",
    "        self.name = name\n",
    "        self.level = level\n",
    "        self.experience_points = 0\n",
    "        self.health = 100\n",
    "\n",
    "    def take_damage(self, damage: int):\n",
    "        self.health = max(self.health - damage, 0)\n",
    "\n",
    "    def use_item(self, item: str):\n",
    "        if item == \"Potion\":\n",
    "            self.health = min(self.health + 20, 100)\n",
    "        elif item == \"Rare Candy\":\n",
    "            self.level += 1"
   ]
  },
  {
   "cell_type": "code",
   "execution_count": 22,
   "metadata": {},
   "outputs": [],
   "source": [
    "class Dictionary:\n",
    "    def __init__(self):\n",
    "        self.new_dict = {}\n",
    "    def add_word(self, word: str, definition: str):\n",
    "        self.new_dict[word] = definition\n",
    "    def remove_word(self, word: str):\n",
    "        if word in self.new_dict:\n",
    "            del self.new_dict[word]"
   ]
  },
  {
   "cell_type": "code",
   "execution_count": 24,
   "metadata": {},
   "outputs": [
    {
     "name": "stdout",
     "output_type": "stream",
     "text": [
      "{'1': 2}\n",
      "{}\n"
     ]
    }
   ],
   "source": [
    "my_dict = Dictionary()\n",
    "\n",
    "my_dict.add_word(\"1\",2)\n",
    "print(my_dict.new_dict)\n",
    "my_dict.remove_word(\"1\")\n",
    "print(my_dict.new_dict)"
   ]
  }
 ],
 "metadata": {
  "language_info": {
   "name": "python"
  }
 },
 "nbformat": 4,
 "nbformat_minor": 2
}
