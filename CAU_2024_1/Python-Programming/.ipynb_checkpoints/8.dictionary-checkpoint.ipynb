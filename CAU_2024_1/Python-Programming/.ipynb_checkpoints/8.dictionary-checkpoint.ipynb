{
 "cells": [
  {
   "cell_type": "code",
   "execution_count": 1,
   "id": "b6d509c1-8638-4002-b1c0-dfca71bced75",
   "metadata": {},
   "outputs": [
    {
     "name": "stdout",
     "output_type": "stream",
     "text": [
      "Seoul\n"
     ]
    }
   ],
   "source": [
    "capitals = {\n",
    "\"South Korea\": \"Seoul\",\n",
    "\"USA\": \"Washington D.C.\",\n",
    "\"Japan\": \"Tokyo\",\n",
    "\"Germany\": \"Berlin\"\n",
    "}\n",
    "print(capitals[\"South Korea\"])"
   ]
  },
  {
   "cell_type": "code",
   "execution_count": 5,
   "id": "d0d9c028-a90a-4be9-bd12-714a26bb924c",
   "metadata": {},
   "outputs": [
    {
     "name": "stdout",
     "output_type": "stream",
     "text": [
      "B. Expert\n"
     ]
    }
   ],
   "source": [
    "library = {\n",
    "\"books\": {\n",
    "\"001\": {\n",
    "\"title\": \"Python for Beginners\",\n",
    "\"author\": \"A. Developer\"\n",
    "},\n",
    "\"002\": {\n",
    "\"title\": \"Advanced Python Programming\",\n",
    "\"author\": \"B. Expert\"}\n",
    "}\n",
    "}\n",
    "print(library[\"books\"][\"002\"][\"author\"])"
   ]
  },
  {
   "cell_type": "code",
   "execution_count": 7,
   "id": "900dacd8-9c3f-44cf-b938-11bad9472f5b",
   "metadata": {},
   "outputs": [
    {
     "name": "stdout",
     "output_type": "stream",
     "text": [
      "{'Coffee': 3.99, 'Latte': 4.5, 'Espresso': 2.99, 'Cappuccino': 4.25}\n"
     ]
    }
   ],
   "source": [
    "menu = {\n",
    "\"Coffee\": 3.99,\n",
    "\"Latte\": 4.50,\n",
    "\"Espresso\": 2.99\n",
    "}\n",
    "# add\n",
    "menu[\"Cappuccino\"] = 4.25\n",
    "print(menu)"
   ]
  },
  {
   "cell_type": "code",
   "execution_count": 16,
   "id": "2aabf78c-1ae2-4ad9-ae8c-fbb0c634b7d9",
   "metadata": {},
   "outputs": [
    {
     "ename": "KeyError",
     "evalue": "'003'",
     "output_type": "error",
     "traceback": [
      "\u001b[0;31m---------------------------------------------------------------------------\u001b[0m",
      "\u001b[0;31mKeyError\u001b[0m                                  Traceback (most recent call last)",
      "\u001b[0;32m/tmp/ipykernel_3598/2610166112.py\u001b[0m in \u001b[0;36m<module>\u001b[0;34m\u001b[0m\n\u001b[1;32m     10\u001b[0m }\n\u001b[1;32m     11\u001b[0m }\n\u001b[0;32m---> 12\u001b[0;31m \u001b[0mlibrary\u001b[0m\u001b[0;34m[\u001b[0m\u001b[0;34m\"books\"\u001b[0m\u001b[0;34m]\u001b[0m\u001b[0;34m[\u001b[0m\u001b[0;34m\"003\"\u001b[0m\u001b[0;34m]\u001b[0m\u001b[0;34m[\u001b[0m\u001b[0;34m\"title\"\u001b[0m\u001b[0;34m]\u001b[0m \u001b[0;34m=\u001b[0m \u001b[0;34m\"C. Scientist\"\u001b[0m\u001b[0;34m\u001b[0m\u001b[0;34m\u001b[0m\u001b[0m\n\u001b[0m\u001b[1;32m     13\u001b[0m \u001b[0mprint\u001b[0m\u001b[0;34m(\u001b[0m\u001b[0mlibrary\u001b[0m\u001b[0;34m)\u001b[0m\u001b[0;34m\u001b[0m\u001b[0;34m\u001b[0m\u001b[0m\n",
      "\u001b[0;31mKeyError\u001b[0m: '003'"
     ]
    }
   ],
   "source": [
    "library = {\n",
    "\"books\": {\n",
    "\"001\": {\n",
    "\"title\": \"Python for Beginners\",\n",
    "\"author\": \"A. Developer\"\n",
    "},\n",
    "\"002\": {\n",
    "\"title\": \"Advanced Python Programming\",\n",
    "\"author\": \"B. Expert\"}\n",
    "}\n",
    "}\n",
    "library[\"books\"][\"003\"][\"title\"] = \"C. Scientist\"\n",
    "print(library)"
   ]
  },
  {
   "cell_type": "code",
   "execution_count": 17,
   "id": "d421290b-615e-4508-8589-53e85c19f6f5",
   "metadata": {},
   "outputs": [
    {
     "name": "stdout",
     "output_type": "stream",
     "text": [
      "{'books': {'001': {'title': 'Python for Beginners', 'author': 'A. Developer'}, '002': {'title': 'Advanced Python Programming', 'author': 'B. Expert'}, '003': {'title': 'Machine Learning Basics', 'author': 'C. Scientist'}}}\n"
     ]
    }
   ],
   "source": [
    "library = {\n",
    "    \"books\": {\n",
    "        \"001\": {\n",
    "            \"title\": \"Python for Beginners\",\n",
    "            \"author\": \"A. Developer\"\n",
    "        },\n",
    "        \"002\": {\n",
    "            \"title\": \"Advanced Python Programming\",\n",
    "            \"author\": \"B. Expert\"\n",
    "        }\n",
    "    }\n",
    "}\n",
    "\n",
    "# 새로운 책 정보를 삽입\n",
    "library[\"books\"][\"003\"] = {\n",
    "    \"title\": \"Machine Learning Basics\",\n",
    "    \"author\": \"C. Scientist\"\n",
    "}\n",
    "\n",
    "print(library)"
   ]
  },
  {
   "cell_type": "code",
   "execution_count": 19,
   "id": "0115301c-9657-451e-9771-12f642e1755c",
   "metadata": {},
   "outputs": [
    {
     "data": {
      "text/plain": [
       "{'001': {'title': 'Python for Beginners', 'author': 'A. Developer'},\n",
       " '002': {'title': 'Advanced Python Programming', 'author': 'B. Expert'},\n",
       " '003': {'title': 'Data Science Fundamentals', 'author': 'C. Scientist'}}"
      ]
     },
     "execution_count": 19,
     "metadata": {},
     "output_type": "execute_result"
    }
   ],
   "source": [
    "library = {\n",
    "\"001\": {\n",
    "\"title\": \"Python for Beginners\",\n",
    "\"author\": \"A. Developer\"\n",
    "},\n",
    "\"002\": {\n",
    "\"title\": \"Advanced Python Programming\",\n",
    "\"author\": \"B. Expert\"\n",
    "}\n",
    "}\n",
    "library[\"003\"] = {\n",
    "    \"title\" : \"Data Science Fundamentals\",\n",
    "    \"author\": \"C. Scientist\"\n",
    "}\n",
    "library"
   ]
  },
  {
   "cell_type": "code",
   "execution_count": 20,
   "id": "42e39673-4684-4caa-872e-3d6651483256",
   "metadata": {},
   "outputs": [
    {
     "name": "stdout",
     "output_type": "stream",
     "text": [
      "{'Yeonghee': [90, 85, 88, 92], 'Cheolsu': [78, 92, 95], 'Minsu': [88, 76, 64]}\n"
     ]
    }
   ],
   "source": [
    "student_scores = {\n",
    "\"Yeonghee\": [90, 85, 88],\n",
    "\"Cheolsu\": [78, 92, 95],\n",
    "\"Minsu\": [88, 76, 64]\n",
    "}\n",
    "student_scores[\"Yeonghee\"].append(92)\n",
    "print(student_scores)"
   ]
  },
  {
   "cell_type": "code",
   "execution_count": 21,
   "id": "a59eeb75-435d-4477-8491-473904a2ae3e",
   "metadata": {},
   "outputs": [
    {
     "data": {
      "text/plain": [
       "{'apple': 5, 'banana': 6, 'cherry': 6}"
      ]
     },
     "execution_count": 21,
     "metadata": {},
     "output_type": "execute_result"
    }
   ],
   "source": [
    "list_eg = ['apple', 'banana', 'cherry']\n",
    "dict_eg = {}\n",
    "for item in list_eg:\n",
    "    dict_eg[item] = len(item)\n",
    "dict_eg"
   ]
  },
  {
   "cell_type": "code",
   "execution_count": 25,
   "id": "7986073f-beb9-471c-994c-cb993c1b08e5",
   "metadata": {},
   "outputs": [
    {
     "data": {
      "text/plain": [
       "{(0, 'Alice'): 0, (1, 'Bob'): 0, (2, 'Alice'): 0, (3, 'Charlie'): 0}"
      ]
     },
     "execution_count": 25,
     "metadata": {},
     "output_type": "execute_result"
    }
   ],
   "source": [
    "eg = ['Alice', 'Bob', 'Alice', 'Charlie']\n",
    "out = {}\n",
    "for items in enumerate(eg):\n",
    "    out[items] = eg.count(items)\n",
    "out"
   ]
  },
  {
   "cell_type": "code",
   "execution_count": 29,
   "id": "9e56594b-e06c-4507-b7a1-b82d9bf28b3d",
   "metadata": {},
   "outputs": [
    {
     "data": {
      "text/plain": [
       "'UIjjI'"
      ]
     },
     "execution_count": 29,
     "metadata": {},
     "output_type": "execute_result"
    }
   ],
   "source": [
    "fruits = ['apple', 'banana', 'apricot', 'cherry']\n",
    "sorted_fruits = {}\n",
    "for item in fruits:\n",
    "    sorted_fruits[item[0]] = []\n",
    "    for other in fruits:\n",
    "        if other\n",
    "    "
   ]
  },
  {
   "cell_type": "code",
   "execution_count": 30,
   "id": "b987af24-60aa-487b-87c2-b356e581dcf9",
   "metadata": {},
   "outputs": [
    {
     "data": {
      "text/plain": [
       "'uiJJi'"
      ]
     },
     "execution_count": 30,
     "metadata": {},
     "output_type": "execute_result"
    }
   ],
   "source": [
    "eg"
   ]
  },
  {
   "cell_type": "code",
   "execution_count": null,
   "id": "cdc09c0a-8b70-4b21-a458-e3c344a9aaf1",
   "metadata": {},
   "outputs": [],
   "source": []
  }
 ],
 "metadata": {
  "kernelspec": {
   "display_name": "Python 3 (ipykernel)",
   "language": "python",
   "name": "python3"
  },
  "language_info": {
   "codemirror_mode": {
    "name": "ipython",
    "version": 3
   },
   "file_extension": ".py",
   "mimetype": "text/x-python",
   "name": "python",
   "nbconvert_exporter": "python",
   "pygments_lexer": "ipython3",
   "version": "3.9.13"
  }
 },
 "nbformat": 4,
 "nbformat_minor": 5
}
