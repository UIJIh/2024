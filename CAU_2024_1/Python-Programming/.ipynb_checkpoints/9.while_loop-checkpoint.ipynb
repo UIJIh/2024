{
 "cells": [
  {
   "cell_type": "code",
   "execution_count": 12,
   "metadata": {},
   "outputs": [],
   "source": [
    "def capGame():\n",
    "    user = ''\n",
    "    while (user != 'Korea'):\n",
    "        user = input(\"\")\n",
    "capGame()"
   ]
  },
  {
   "cell_type": "code",
   "execution_count": 10,
   "metadata": {},
   "outputs": [],
   "source": [
    "def capGame():\n",
    "    while True:\n",
    "        user = input(\"\")\n",
    "        if user == 'korea':\n",
    "            break\n",
    "capGame()"
   ]
  },
  {
   "cell_type": "code",
   "execution_count": 14,
   "metadata": {},
   "outputs": [
    {
     "name": "stdout",
     "output_type": "stream",
     "text": [
      "열찍나없\n",
      "열찍나없\n",
      "열찍나없\n",
      "열찍나없\n",
      "열찍나없\n",
      "열찍나없\n",
      "열찍나없\n",
      "열찍나없\n",
      "열찍나없\n",
      "열찍나없\n"
     ]
    }
   ],
   "source": [
    "flg_tree = True\n",
    "cnt = 0\n",
    "while flg_tree:\n",
    "    print(\"열찍나없\")\n",
    "    cnt += 1\n",
    "    if cnt == 10:\n",
    "        flg_tree = False"
   ]
  },
  {
   "cell_type": "code",
   "execution_count": 15,
   "metadata": {},
   "outputs": [
    {
     "name": "stdout",
     "output_type": "stream",
     "text": [
      "3\n",
      "5\n"
     ]
    }
   ],
   "source": [
    "num = 1\n",
    "while num < 5:\n",
    "    num += 1\n",
    "    if num % 2 == 0:\n",
    "        continue\n",
    "    print(num)"
   ]
  }
 ],
 "metadata": {
  "language_info": {
   "name": "python"
  }
 },
 "nbformat": 4,
 "nbformat_minor": 2
}
