{
 "cells": [
  {
   "cell_type": "code",
   "execution_count": 1,
   "id": "b6d509c1-8638-4002-b1c0-dfca71bced75",
   "metadata": {},
   "outputs": [
    {
     "name": "stdout",
     "output_type": "stream",
     "text": [
      "Seoul\n"
     ]
    }
   ],
   "source": [
    "capitals = {\n",
    "\"South Korea\": \"Seoul\",\n",
    "\"USA\": \"Washington D.C.\",\n",
    "\"Japan\": \"Tokyo\",\n",
    "\"Germany\": \"Berlin\"\n",
    "}\n",
    "print(capitals[\"South Korea\"])"
   ]
  },
  {
   "cell_type": "code",
   "execution_count": 5,
   "id": "d0d9c028-a90a-4be9-bd12-714a26bb924c",
   "metadata": {},
   "outputs": [
    {
     "name": "stdout",
     "output_type": "stream",
     "text": [
      "B. Expert\n"
     ]
    }
   ],
   "source": [
    "library = {\n",
    "\"books\": {\n",
    "\"001\": {\n",
    "\"title\": \"Python for Beginners\",\n",
    "\"author\": \"A. Developer\"\n",
    "},\n",
    "\"002\": {\n",
    "\"title\": \"Advanced Python Programming\",\n",
    "\"author\": \"B. Expert\"}\n",
    "}\n",
    "}\n",
    "print(library[\"books\"][\"002\"][\"author\"])"
   ]
  },
  {
   "cell_type": "code",
   "execution_count": 7,
   "id": "900dacd8-9c3f-44cf-b938-11bad9472f5b",
   "metadata": {},
   "outputs": [
    {
     "name": "stdout",
     "output_type": "stream",
     "text": [
      "{'Coffee': 3.99, 'Latte': 4.5, 'Espresso': 2.99, 'Cappuccino': 4.25}\n"
     ]
    }
   ],
   "source": [
    "menu = {\n",
    "\"Coffee\": 3.99,\n",
    "\"Latte\": 4.50,\n",
    "\"Espresso\": 2.99\n",
    "}\n",
    "# add\n",
    "menu[\"Cappuccino\"] = 4.25\n",
    "print(menu)"
   ]
  },
  {
   "cell_type": "code",
   "execution_count": 16,
   "id": "2aabf78c-1ae2-4ad9-ae8c-fbb0c634b7d9",
   "metadata": {},
   "outputs": [
    {
     "ename": "KeyError",
     "evalue": "'003'",
     "output_type": "error",
     "traceback": [
      "\u001b[0;31m---------------------------------------------------------------------------\u001b[0m",
      "\u001b[0;31mKeyError\u001b[0m                                  Traceback (most recent call last)",
      "\u001b[0;32m/tmp/ipykernel_3598/2610166112.py\u001b[0m in \u001b[0;36m<module>\u001b[0;34m\u001b[0m\n\u001b[1;32m     10\u001b[0m }\n\u001b[1;32m     11\u001b[0m }\n\u001b[0;32m---> 12\u001b[0;31m \u001b[0mlibrary\u001b[0m\u001b[0;34m[\u001b[0m\u001b[0;34m\"books\"\u001b[0m\u001b[0;34m]\u001b[0m\u001b[0;34m[\u001b[0m\u001b[0;34m\"003\"\u001b[0m\u001b[0;34m]\u001b[0m\u001b[0;34m[\u001b[0m\u001b[0;34m\"title\"\u001b[0m\u001b[0;34m]\u001b[0m \u001b[0;34m=\u001b[0m \u001b[0;34m\"C. Scientist\"\u001b[0m\u001b[0;34m\u001b[0m\u001b[0;34m\u001b[0m\u001b[0m\n\u001b[0m\u001b[1;32m     13\u001b[0m \u001b[0mprint\u001b[0m\u001b[0;34m(\u001b[0m\u001b[0mlibrary\u001b[0m\u001b[0;34m)\u001b[0m\u001b[0;34m\u001b[0m\u001b[0;34m\u001b[0m\u001b[0m\n",
      "\u001b[0;31mKeyError\u001b[0m: '003'"
     ]
    }
   ],
   "source": [
    "library = {\n",
    "\"books\": {\n",
    "\"001\": {\n",
    "\"title\": \"Python for Beginners\",\n",
    "\"author\": \"A. Developer\"\n",
    "},\n",
    "\"002\": {\n",
    "\"title\": \"Advanced Python Programming\",\n",
    "\"author\": \"B. Expert\"}\n",
    "}\n",
    "}\n",
    "library[\"books\"][\"003\"][\"title\"] = \"C. Scientist\"\n",
    "print(library)"
   ]
  },
  {
   "cell_type": "code",
   "execution_count": 17,
   "id": "d421290b-615e-4508-8589-53e85c19f6f5",
   "metadata": {},
   "outputs": [
    {
     "name": "stdout",
     "output_type": "stream",
     "text": [
      "{'books': {'001': {'title': 'Python for Beginners', 'author': 'A. Developer'}, '002': {'title': 'Advanced Python Programming', 'author': 'B. Expert'}, '003': {'title': 'Machine Learning Basics', 'author': 'C. Scientist'}}}\n"
     ]
    }
   ],
   "source": [
    "library = {\n",
    "    \"books\": {\n",
    "        \"001\": {\n",
    "            \"title\": \"Python for Beginners\",\n",
    "            \"author\": \"A. Developer\"\n",
    "        },\n",
    "        \"002\": {\n",
    "            \"title\": \"Advanced Python Programming\",\n",
    "            \"author\": \"B. Expert\"\n",
    "        }\n",
    "    }\n",
    "}\n",
    "\n",
    "# 새로운 책 정보를 삽입\n",
    "library[\"books\"][\"003\"] = {\n",
    "    \"title\": \"Machine Learning Basics\",\n",
    "    \"author\": \"C. Scientist\"\n",
    "}\n",
    "\n",
    "print(library)"
   ]
  },
  {
   "cell_type": "code",
   "execution_count": 19,
   "id": "0115301c-9657-451e-9771-12f642e1755c",
   "metadata": {},
   "outputs": [
    {
     "data": {
      "text/plain": [
       "{'001': {'title': 'Python for Beginners', 'author': 'A. Developer'},\n",
       " '002': {'title': 'Advanced Python Programming', 'author': 'B. Expert'},\n",
       " '003': {'title': 'Data Science Fundamentals', 'author': 'C. Scientist'}}"
      ]
     },
     "execution_count": 19,
     "metadata": {},
     "output_type": "execute_result"
    }
   ],
   "source": [
    "library = {\n",
    "\"001\": {\n",
    "\"title\": \"Python for Beginners\",\n",
    "\"author\": \"A. Developer\"\n",
    "},\n",
    "\"002\": {\n",
    "\"title\": \"Advanced Python Programming\",\n",
    "\"author\": \"B. Expert\"\n",
    "}\n",
    "}\n",
    "library[\"003\"] = {\n",
    "    \"title\" : \"Data Science Fundamentals\",\n",
    "    \"author\": \"C. Scientist\"\n",
    "}\n",
    "library"
   ]
  },
  {
   "cell_type": "code",
   "execution_count": 20,
   "id": "42e39673-4684-4caa-872e-3d6651483256",
   "metadata": {},
   "outputs": [
    {
     "name": "stdout",
     "output_type": "stream",
     "text": [
      "{'Yeonghee': [90, 85, 88, 92], 'Cheolsu': [78, 92, 95], 'Minsu': [88, 76, 64]}\n"
     ]
    }
   ],
   "source": [
    "student_scores = {\n",
    "\"Yeonghee\": [90, 85, 88],\n",
    "\"Cheolsu\": [78, 92, 95],\n",
    "\"Minsu\": [88, 76, 64]\n",
    "}\n",
    "student_scores[\"Yeonghee\"].append(92)\n",
    "print(student_scores)"
   ]
  },
  {
   "cell_type": "code",
   "execution_count": 21,
   "id": "a59eeb75-435d-4477-8491-473904a2ae3e",
   "metadata": {},
   "outputs": [
    {
     "data": {
      "text/plain": [
       "{'apple': 5, 'banana': 6, 'cherry': 6}"
      ]
     },
     "execution_count": 21,
     "metadata": {},
     "output_type": "execute_result"
    }
   ],
   "source": [
    "list_eg = ['apple', 'banana', 'cherry']\n",
    "dict_eg = {}\n",
    "for item in list_eg:\n",
    "    dict_eg[item] = len(item)\n",
    "dict_eg"
   ]
  },
  {
   "cell_type": "code",
   "execution_count": 9,
   "id": "7986073f-beb9-471c-994c-cb993c1b08e5",
   "metadata": {},
   "outputs": [
    {
     "data": {
      "text/plain": [
       "{'Alice': 2, 'Bob': 1, 'Charlie': 1}"
      ]
     },
     "execution_count": 9,
     "metadata": {},
     "output_type": "execute_result"
    }
   ],
   "source": [
    "eg = ['Alice', 'Bob', 'Alice', 'Charlie']\n",
    "out = {}\n",
    "for items in (eg):\n",
    "    out[items] = eg.count(items)\n",
    "out"
   ]
  },
  {
   "cell_type": "code",
   "execution_count": 136,
   "id": "9e56594b-e06c-4507-b7a1-b82d9bf28b3d",
   "metadata": {},
   "outputs": [
    {
     "data": {
      "text/plain": [
       "{'a': ['apple', 'apricot'], 'b': ['banana'], 'c': ['cherry']}"
      ]
     },
     "execution_count": 136,
     "metadata": {},
     "output_type": "execute_result"
    }
   ],
   "source": [
    "list_eg = ['apple', 'banana', 'cherry', 'apricot']\n",
    "divison = {}\n",
    "for fruit in list_eg:\n",
    "    first = fruit[0]\n",
    "    if first not in divison:\n",
    "        divison[first] = []\n",
    "    divison[first].append(fruit)\n",
    "divison"
   ]
  },
  {
   "cell_type": "code",
   "execution_count": 12,
   "id": "b987af24-60aa-487b-87c2-b356e581dcf9",
   "metadata": {},
   "outputs": [
    {
     "name": "stdout",
     "output_type": "stream",
     "text": [
      "{'title': 'basic programming', 'publication year': 2024}\n"
     ]
    }
   ],
   "source": [
    "book = {}\n",
    "book = {\n",
    "    \"title\" : \"basic programming\",\n",
    "    \"author\" : \"Yoon Python\",\n",
    "    \"publication year\" : 2023\n",
    "}\n",
    "book[\"publication year\"] = 2024\n",
    "del book[\"author\"]\n",
    "print(book)"
   ]
  },
  {
   "cell_type": "code",
   "execution_count": 13,
   "id": "cdc09c0a-8b70-4b21-a458-e3c344a9aaf1",
   "metadata": {},
   "outputs": [
    {
     "data": {
      "text/plain": [
       "'Basic Programming'"
      ]
     },
     "execution_count": 13,
     "metadata": {},
     "output_type": "execute_result"
    }
   ],
   "source": [
    "book[\"title\"].title()"
   ]
  },
  {
   "cell_type": "code",
   "execution_count": 15,
   "id": "1b1dbf4c",
   "metadata": {},
   "outputs": [
    {
     "name": "stdout",
     "output_type": "stream",
     "text": [
      "no author info\n",
      "basic programming\n"
     ]
    }
   ],
   "source": [
    "book = {\n",
    "    \"title\" : \"basic programming\",\n",
    "    \"author\" : \"Yoon Python\",\n",
    "    \"publication year\" : 2023\n",
    "}\n",
    "del book[\"author\"]\n",
    "author_info = book.get('author', 'no author info')\n",
    "print(author_info)\n",
    "print(book.get('title'))"
   ]
  },
  {
   "cell_type": "code",
   "execution_count": 16,
   "id": "1f6823d0",
   "metadata": {},
   "outputs": [
    {
     "data": {
      "text/plain": [
       "{'c': 3, 'd': 4}"
      ]
     },
     "execution_count": 16,
     "metadata": {},
     "output_type": "execute_result"
    }
   ],
   "source": [
    "d = {'a': 1, 'b': 2, 'c': 3, 'd': 4}\n",
    "new = {}\n",
    "for key, value in d.items():\n",
    "    if value > 2:\n",
    "        new[key] = value\n",
    "new"
   ]
  },
  {
   "cell_type": "code",
   "execution_count": 18,
   "id": "987b5efc",
   "metadata": {},
   "outputs": [
    {
     "data": {
      "text/plain": [
       "{1: 'a', 2: 'b', 3: 'c', 4: 'd'}"
      ]
     },
     "execution_count": 18,
     "metadata": {},
     "output_type": "execute_result"
    }
   ],
   "source": [
    "new = {}\n",
    "for key, value in d.items():\n",
    "    new[value] = key\n",
    "new"
   ]
  },
  {
   "cell_type": "code",
   "execution_count": 29,
   "id": "dce74211",
   "metadata": {},
   "outputs": [
    {
     "name": "stdout",
     "output_type": "stream",
     "text": [
      "False\n",
      "['jiiu']\n"
     ]
    }
   ],
   "source": [
    "a = [\"uiij\"]\n",
    "b = [\"jiiu\"]\n",
    "print(a==sorted(b)[::-1])\n",
    "print(sorted(b)[::-1])"
   ]
  },
  {
   "cell_type": "code",
   "execution_count": 40,
   "id": "c9fef40c",
   "metadata": {},
   "outputs": [
    {
     "data": {
      "text/plain": [
       "True"
      ]
     },
     "execution_count": 40,
     "metadata": {},
     "output_type": "execute_result"
    }
   ],
   "source": [
    "a = [\"uiij\", \"jiiu\"]\n",
    "a[0] == a[1][::-1]"
   ]
  },
  {
   "cell_type": "code",
   "execution_count": 52,
   "id": "b7816ef4",
   "metadata": {},
   "outputs": [
    {
     "data": {
      "text/plain": [
       "0"
      ]
     },
     "execution_count": 52,
     "metadata": {},
     "output_type": "execute_result"
    }
   ],
   "source": [
    "a.index(\"uiij\")"
   ]
  },
  {
   "cell_type": "code",
   "execution_count": 74,
   "id": "87d8b86a",
   "metadata": {},
   "outputs": [
    {
     "data": {
      "text/plain": [
       "'uiij'"
      ]
     },
     "execution_count": 74,
     "metadata": {},
     "output_type": "execute_result"
    }
   ],
   "source": [
    "a = [\"uii j\", \"jiiu\"]\n",
    "new = a[0].replace(\" \", \"\")\n",
    "new"
   ]
  },
  {
   "cell_type": "code",
   "execution_count": 92,
   "id": "3975ac50",
   "metadata": {},
   "outputs": [
    {
     "name": "stdout",
     "output_type": "stream",
     "text": [
      "first second\n",
      "firstisecond\n",
      "firstsecond\n"
     ]
    }
   ],
   "source": [
    "a = [\"first\", \"second\"]\n",
    "print(\" \".join(a))\n",
    "print(\"i\".join(a))\n",
    "print(\"\".join(a))"
   ]
  },
  {
   "cell_type": "code",
   "execution_count": 93,
   "id": "9fc8b1ff",
   "metadata": {},
   "outputs": [
    {
     "ename": "TypeError",
     "evalue": "sequence item 0: expected str instance, int found",
     "output_type": "error",
     "traceback": [
      "\u001b[0;31m---------------------------------------------------------------------------\u001b[0m",
      "\u001b[0;31mTypeError\u001b[0m                                 Traceback (most recent call last)",
      "Cell \u001b[0;32mIn[93], line 2\u001b[0m\n\u001b[1;32m      1\u001b[0m a \u001b[38;5;241m=\u001b[39m [\u001b[38;5;241m1\u001b[39m, \u001b[38;5;124m\"\u001b[39m\u001b[38;5;124msecond\u001b[39m\u001b[38;5;124m\"\u001b[39m]\n\u001b[0;32m----> 2\u001b[0m \u001b[38;5;28mprint\u001b[39m(\u001b[38;5;124;43m\"\u001b[39;49m\u001b[38;5;124;43m \u001b[39;49m\u001b[38;5;124;43m\"\u001b[39;49m\u001b[38;5;241;43m.\u001b[39;49m\u001b[43mjoin\u001b[49m\u001b[43m(\u001b[49m\u001b[43ma\u001b[49m\u001b[43m)\u001b[49m)\n\u001b[1;32m      3\u001b[0m \u001b[38;5;28mprint\u001b[39m(\u001b[38;5;124m\"\u001b[39m\u001b[38;5;124mi\u001b[39m\u001b[38;5;124m\"\u001b[39m\u001b[38;5;241m.\u001b[39mjoin(a))\n\u001b[1;32m      4\u001b[0m \u001b[38;5;28mprint\u001b[39m(\u001b[38;5;124m\"\u001b[39m\u001b[38;5;124m\"\u001b[39m\u001b[38;5;241m.\u001b[39mjoin(a))\n",
      "\u001b[0;31mTypeError\u001b[0m: sequence item 0: expected str instance, int found"
     ]
    }
   ],
   "source": [
    "a = [1, \"second\"]\n",
    "print(\" \".join(a))\n",
    "print(\"i\".join(a))\n",
    "print(\"\".join(a))"
   ]
  },
  {
   "cell_type": "code",
   "execution_count": 84,
   "id": "04404120",
   "metadata": {},
   "outputs": [
    {
     "data": {
      "text/plain": [
       "'uiij'"
      ]
     },
     "execution_count": 84,
     "metadata": {},
     "output_type": "execute_result"
    }
   ],
   "source": [
    "a.replace(\" \", \"\")"
   ]
  },
  {
   "cell_type": "code",
   "execution_count": 96,
   "id": "934a907c",
   "metadata": {},
   "outputs": [
    {
     "data": {
      "text/plain": [
       "['A', 'Birst', 'second']"
      ]
     },
     "execution_count": 96,
     "metadata": {},
     "output_type": "execute_result"
    }
   ],
   "source": [
    "a = [\"Birst\", \"second\", \"A\"]\n",
    "a.sort()\n",
    "a"
   ]
  },
  {
   "cell_type": "code",
   "execution_count": 97,
   "id": "51b62ccc",
   "metadata": {},
   "outputs": [
    {
     "data": {
      "text/plain": [
       "['second', 'Birst', 'A']"
      ]
     },
     "execution_count": 97,
     "metadata": {},
     "output_type": "execute_result"
    }
   ],
   "source": [
    "a.sort(reverse=True)\n",
    "a"
   ]
  },
  {
   "cell_type": "code",
   "execution_count": 99,
   "id": "f1db1023",
   "metadata": {},
   "outputs": [
    {
     "data": {
      "text/plain": [
       "['A', 'second', 'Birst']"
      ]
     },
     "execution_count": 99,
     "metadata": {},
     "output_type": "execute_result"
    }
   ],
   "source": [
    "a = [\"Birst\", \"second\", \"A\"]\n",
    "a[::-1]"
   ]
  },
  {
   "cell_type": "code",
   "execution_count": 100,
   "id": "6c23e37e",
   "metadata": {},
   "outputs": [
    {
     "data": {
      "text/plain": [
       "['Birst', 'second', 'A']"
      ]
     },
     "execution_count": 100,
     "metadata": {},
     "output_type": "execute_result"
    }
   ],
   "source": [
    "a"
   ]
  },
  {
   "cell_type": "code",
   "execution_count": 103,
   "id": "ddfb581f",
   "metadata": {},
   "outputs": [
    {
     "data": {
      "text/plain": [
       "['second', 'Birst', 'A']"
      ]
     },
     "execution_count": 103,
     "metadata": {},
     "output_type": "execute_result"
    }
   ],
   "source": [
    "sorted(a)[::-1]"
   ]
  },
  {
   "cell_type": "code",
   "execution_count": 104,
   "id": "6a959a4d",
   "metadata": {},
   "outputs": [
    {
     "data": {
      "text/plain": [
       "<list_reverseiterator at 0x7f71544f2250>"
      ]
     },
     "execution_count": 104,
     "metadata": {},
     "output_type": "execute_result"
    }
   ],
   "source": [
    "reversed(a)"
   ]
  },
  {
   "cell_type": "code",
   "execution_count": 106,
   "id": "1ff9c66c",
   "metadata": {},
   "outputs": [
    {
     "data": {
      "text/plain": [
       "True"
      ]
     },
     "execution_count": 106,
     "metadata": {},
     "output_type": "execute_result"
    }
   ],
   "source": [
    "a = \"uiij\"\n",
    "b = \"jiiu\"\n",
    "a.lower() == b.lower()[::-1]"
   ]
  },
  {
   "cell_type": "code",
   "execution_count": 107,
   "id": "95a48a42",
   "metadata": {},
   "outputs": [
    {
     "name": "stdout",
     "output_type": "stream",
     "text": [
      "Sline  t Slinet\n"
     ]
    }
   ],
   "source": [
    "a = \"Listen\"\n",
    "b = \"Sline  t\"\n",
    "if \" \" in b:\n",
    "    no_space_b = b.replace(\" \", \"\")\n",
    "print(b, no_space_b)"
   ]
  },
  {
   "cell_type": "code",
   "execution_count": 111,
   "id": "4114cccc",
   "metadata": {},
   "outputs": [
    {
     "data": {
      "text/plain": [
       "True"
      ]
     },
     "execution_count": 111,
     "metadata": {},
     "output_type": "execute_result"
    }
   ],
   "source": [
    "sorted(a.lower()) == sorted(no_space_b.lower())"
   ]
  },
  {
   "cell_type": "code",
   "execution_count": 112,
   "id": "121c837c",
   "metadata": {},
   "outputs": [
    {
     "ename": "AttributeError",
     "evalue": "'str' object has no attribute 'reverse'",
     "output_type": "error",
     "traceback": [
      "\u001b[0;31m---------------------------------------------------------------------------\u001b[0m",
      "\u001b[0;31mAttributeError\u001b[0m                            Traceback (most recent call last)",
      "Cell \u001b[0;32mIn[112], line 1\u001b[0m\n\u001b[0;32m----> 1\u001b[0m \u001b[43ma\u001b[49m\u001b[38;5;241;43m.\u001b[39;49m\u001b[43mreverse\u001b[49m()\n",
      "\u001b[0;31mAttributeError\u001b[0m: 'str' object has no attribute 'reverse'"
     ]
    }
   ],
   "source": [
    "a.reverse()"
   ]
  },
  {
   "cell_type": "code",
   "execution_count": 119,
   "id": "c9d3586d",
   "metadata": {},
   "outputs": [
    {
     "name": "stdout",
     "output_type": "stream",
     "text": [
      "None\n"
     ]
    }
   ],
   "source": [
    "def findQuadrant(x, y):\n",
    "    if x<0 & y<0:\n",
    "        return 3\n",
    "    elif x<0 & y>0:\n",
    "        return 2\n",
    "    elif x>0 & y>0:\n",
    "        return 1\n",
    "    elif x>0 & y<0:\n",
    "        return 4\n",
    "    else:\n",
    "        return\n",
    "\n",
    "print(findQuadrant(1, -1000))"
   ]
  },
  {
   "cell_type": "markdown",
   "id": "e9e688f3",
   "metadata": {},
   "source": [
    "파이썬에서 집합 연산을 수행하는 방법을 설명하겠습니다. 이 연산들은 주로 `set` 자료형을 사용하여 수행됩니다.\n",
    "\n",
    "### 1. Union (합집합) `|`\n",
    "합집합은 두 집합의 모든 원소를 포함하는 집합입니다. 중복되는 원소는 한 번만 포함됩니다.\n",
    "\n",
    "```python\n",
    "set1 = {1, 2, 3}\n",
    "set2 = {3, 4, 5}\n",
    "\n",
    "union_set = set1 | set2\n",
    "print(union_set)  # 출력: {1, 2, 3, 4, 5}\n",
    "```\n",
    "\n",
    "또는 `union` 메서드를 사용할 수도 있습니다:\n",
    "\n",
    "```python\n",
    "union_set = set1.union(set2)\n",
    "print(union_set)  # 출력: {1, 2, 3, 4, 5}\n",
    "```\n",
    "\n",
    "### 2. Difference (차집합) `-`\n",
    "차집합은 첫 번째 집합에서 두 번째 집합의 원소를 뺀 나머지 원소들로 구성된 집합입니다.\n",
    "\n",
    "```python\n",
    "set1 = {1, 2, 3}\n",
    "set2 = {3, 4, 5}\n",
    "\n",
    "difference_set = set1 - set2\n",
    "print(difference_set)  # 출력: {1, 2}\n",
    "```\n",
    "\n",
    "또는 `difference` 메서드를 사용할 수도 있습니다:\n",
    "\n",
    "```python\n",
    "difference_set = set1.difference(set2)\n",
    "print(difference_set)  # 출력: {1, 2}\n",
    "```\n",
    "\n",
    "### 3. Intersection (교집합) `&`\n",
    "교집합은 두 집합에 모두 속하는 원소들로 구성된 집합입니다.\n",
    "\n",
    "```python\n",
    "set1 = {1, 2, 3}\n",
    "set2 = {3, 4, 5}\n",
    "\n",
    "intersection_set = set1 & set2\n",
    "print(intersection_set)  # 출력: {3}\n",
    "```\n",
    "\n",
    "또는 `intersection` 메서드를 사용할 수도 있습니다:\n",
    "\n",
    "```python\n",
    "intersection_set = set1.intersection(set2)\n",
    "print(intersection_set)  # 출력: {3}\n",
    "```\n",
    "\n",
    "### 4. Symmetric Difference (대칭 차집합) `^`\n",
    "대칭 차집합은 두 집합 중 어느 한쪽에만 속하는 원소들로 구성된 집합입니다. 즉, 한 집합에는 있지만 다른 집합에는 없는 원소들로 구성됩니다.\n",
    "\n",
    "```python\n",
    "set1 = {1, 2, 3}\n",
    "set2 = {3, 4, 5}\n",
    "\n",
    "symmetric_difference_set = set1 ^ set2\n",
    "print(symmetric_difference_set)  # 출력: {1, 2, 4, 5}\n",
    "```\n",
    "\n",
    "또는 `symmetric_difference` 메서드를 사용할 수도 있습니다:\n",
    "\n",
    "```python\n",
    "symmetric_difference_set = set1.symmetric_difference(set2)\n",
    "print(symmetric_difference_set)  # 출력: {1, 2, 4, 5}\n",
    "```\n",
    "\n",
    "### 요약\n",
    "파이썬에서 집합 연산을 수행하는 방법을 정리하면 다음과 같습니다:\n",
    "\n",
    "- **합집합**: `|` 또는 `union()`\n",
    "- **차집합**: `-` 또는 `difference()`\n",
    "- **교집합**: `&` 또는 `intersection()`\n",
    "- **대칭 차집합**: `^` 또는 `symmetric_difference()`\n",
    "\n",
    "이 연산들은 모두 `set` 자료형의 메서드 또는 연산자를 통해 쉽게 수행할 수 있습니다."
   ]
  },
  {
   "cell_type": "code",
   "execution_count": 125,
   "id": "3ad7c475",
   "metadata": {},
   "outputs": [
    {
     "data": {
      "text/plain": [
       "{1, 2, 3, 4, 5}"
      ]
     },
     "execution_count": 125,
     "metadata": {},
     "output_type": "execute_result"
    }
   ],
   "source": [
    "x = {1, 2, 3}\n",
    "y = {4, 5, 2}\n",
    "x.union(y)"
   ]
  },
  {
   "cell_type": "code",
   "execution_count": 126,
   "id": "f944c64f",
   "metadata": {},
   "outputs": [
    {
     "data": {
      "text/plain": [
       "{1, 2, 3, 4, 5}"
      ]
     },
     "execution_count": 126,
     "metadata": {},
     "output_type": "execute_result"
    }
   ],
   "source": [
    "x | y"
   ]
  },
  {
   "cell_type": "code",
   "execution_count": 127,
   "id": "e43708c3",
   "metadata": {},
   "outputs": [
    {
     "data": {
      "text/plain": [
       "{1, 3, 4, 5}"
      ]
     },
     "execution_count": 127,
     "metadata": {},
     "output_type": "execute_result"
    }
   ],
   "source": [
    "x ^ y"
   ]
  },
  {
   "cell_type": "code",
   "execution_count": 129,
   "id": "0e13acbd",
   "metadata": {},
   "outputs": [
    {
     "data": {
      "text/plain": [
       "{1, 3}"
      ]
     },
     "execution_count": 129,
     "metadata": {},
     "output_type": "execute_result"
    }
   ],
   "source": [
    "x - y"
   ]
  },
  {
   "cell_type": "code",
   "execution_count": 131,
   "id": "903292a3",
   "metadata": {},
   "outputs": [
    {
     "data": {
      "text/plain": [
       "{1, 3}"
      ]
     },
     "execution_count": 131,
     "metadata": {},
     "output_type": "execute_result"
    }
   ],
   "source": [
    "x.difference(y)"
   ]
  },
  {
   "cell_type": "code",
   "execution_count": 132,
   "id": "112af36b",
   "metadata": {},
   "outputs": [
    {
     "data": {
      "text/plain": [
       "{2}"
      ]
     },
     "execution_count": 132,
     "metadata": {},
     "output_type": "execute_result"
    }
   ],
   "source": [
    "x & y"
   ]
  },
  {
   "cell_type": "code",
   "execution_count": 133,
   "id": "b6c7cf52",
   "metadata": {},
   "outputs": [
    {
     "data": {
      "text/plain": [
       "{2}"
      ]
     },
     "execution_count": 133,
     "metadata": {},
     "output_type": "execute_result"
    }
   ],
   "source": [
    "x.intersection(y)"
   ]
  },
  {
   "cell_type": "code",
   "execution_count": 137,
   "id": "e46e67a2",
   "metadata": {},
   "outputs": [
    {
     "data": {
      "text/plain": [
       "{'b': 2}"
      ]
     },
     "execution_count": 137,
     "metadata": {},
     "output_type": "execute_result"
    }
   ],
   "source": [
    "a = {'a': 1, 'b': 2, 'c': 3}\n",
    "b = {'b': 2, 'c': 4, 'd': 3}\n",
    "intersected = {}\n",
    "for key, value in a.items():\n",
    "    for k, v in b.items():\n",
    "        if key == k and value == v:\n",
    "            intersected[key] = value\n",
    "intersected"
   ]
  },
  {
   "cell_type": "code",
   "execution_count": 138,
   "id": "5d024529",
   "metadata": {},
   "outputs": [
    {
     "data": {
      "text/plain": [
       "dict_keys(['a', 'b', 'c'])"
      ]
     },
     "execution_count": 138,
     "metadata": {},
     "output_type": "execute_result"
    }
   ],
   "source": [
    "a.keys()"
   ]
  },
  {
   "cell_type": "code",
   "execution_count": 140,
   "id": "ba1b5ec2",
   "metadata": {},
   "outputs": [
    {
     "data": {
      "text/plain": [
       "['b', 'c', 'd']"
      ]
     },
     "execution_count": 140,
     "metadata": {},
     "output_type": "execute_result"
    }
   ],
   "source": [
    "key_list = list(b.keys())\n",
    "key_list"
   ]
  },
  {
   "cell_type": "code",
   "execution_count": 142,
   "id": "a0949d59",
   "metadata": {},
   "outputs": [
    {
     "data": {
      "text/plain": [
       "{'b': 2}"
      ]
     },
     "execution_count": 142,
     "metadata": {},
     "output_type": "execute_result"
    }
   ],
   "source": [
    "a = {'a': 1, 'b': 2, 'c': 3}\n",
    "b = {'b': 2, 'c': 4, 'd': 3}\n",
    "intersected = {}\n",
    "if a.keys() & b.keys():\n",
    "    inter_key_list = list(a.keys() & b.keys())\n",
    "    for key in inter_key_list:\n",
    "        if a[key] == b[key]:\n",
    "            intersected[key] = a[key]\n",
    "intersected"
   ]
  },
  {
   "cell_type": "code",
   "execution_count": 143,
   "id": "15c9ef3a",
   "metadata": {},
   "outputs": [
    {
     "data": {
      "text/plain": [
       "{'a', 'd'}"
      ]
     },
     "execution_count": 143,
     "metadata": {},
     "output_type": "execute_result"
    }
   ],
   "source": [
    "a.keys() ^ b.keys()"
   ]
  },
  {
   "cell_type": "code",
   "execution_count": 145,
   "id": "92200f8d",
   "metadata": {},
   "outputs": [
    {
     "name": "stdout",
     "output_type": "stream",
     "text": [
      "['d', 'c', 'b']\n"
     ]
    }
   ],
   "source": [
    "print(sorted(b.keys(), reverse=True))"
   ]
  },
  {
   "cell_type": "code",
   "execution_count": 148,
   "id": "ab838399",
   "metadata": {},
   "outputs": [
    {
     "name": "stdout",
     "output_type": "stream",
     "text": [
      "['d', 'c', 'b']\n"
     ]
    }
   ],
   "source": [
    "print(sorted(b.keys())[::-1])"
   ]
  },
  {
   "cell_type": "code",
   "execution_count": 149,
   "id": "7bd1133f",
   "metadata": {},
   "outputs": [
    {
     "data": {
      "text/plain": [
       "{4, 5}"
      ]
     },
     "execution_count": 149,
     "metadata": {},
     "output_type": "execute_result"
    }
   ],
   "source": [
    "a =[1, 2, 3, 4, 5]\n",
    "b =[4, 5, 6, 7, 8]\n",
    "set(a) & set(b)"
   ]
  },
  {
   "cell_type": "code",
   "execution_count": 153,
   "id": "54f153fe",
   "metadata": {},
   "outputs": [
    {
     "name": "stdout",
     "output_type": "stream",
     "text": [
      "{'a': 1, 'b': 2, 'd': 3}\n"
     ]
    }
   ],
   "source": [
    "a = {'a': 1, 'b': 2, 'c': 1, 'd': 3}\n",
    "new = {}\n",
    "\n",
    "for key, value in a.items():\n",
    "    if value in new.values():\n",
    "        continue\n",
    "    new[key] = value\n",
    "\n",
    "print(new)"
   ]
  },
  {
   "cell_type": "code",
   "execution_count": 154,
   "id": "78a184a7",
   "metadata": {},
   "outputs": [
    {
     "data": {
      "text/plain": [
       "{1, 4}"
      ]
     },
     "execution_count": 154,
     "metadata": {},
     "output_type": "execute_result"
    }
   ],
   "source": [
    "a = set({1, 2, 3})\n",
    "b = set({2, 3, 4})\n",
    "a ^ b"
   ]
  },
  {
   "cell_type": "code",
   "execution_count": 156,
   "id": "49b1f716",
   "metadata": {},
   "outputs": [
    {
     "name": "stdout",
     "output_type": "stream",
     "text": [
      "12\n"
     ]
    }
   ],
   "source": []
  },
  {
   "cell_type": "code",
   "execution_count": 161,
   "id": "2504574f",
   "metadata": {},
   "outputs": [
    {
     "name": "stdout",
     "output_type": "stream",
     "text": [
      "['a', 'ab', 'aba', 'abab', 'ababc', 'abc', 'b', 'ba', 'bab', 'babc', 'bc', 'c']\n"
     ]
    },
    {
     "data": {
      "text/plain": [
       "12"
      ]
     },
     "execution_count": 161,
     "metadata": {},
     "output_type": "execute_result"
    }
   ],
   "source": [
    "st = 'ababc'\n",
    "st_set = set()\n",
    "for i in range(len(st)):\n",
    "    make_st = ''\n",
    "    for j in range(i, len(st)):\n",
    "        make_st += st[j]\n",
    "        st_set.add(make_st)\n",
    "print(sorted(st_set))\n",
    "len(st_set)"
   ]
  },
  {
   "cell_type": "code",
   "execution_count": 168,
   "id": "e19e7c67",
   "metadata": {},
   "outputs": [
    {
     "name": "stdout",
     "output_type": "stream",
     "text": [
      "['a.b', 'a.c', 'd.e.f']\n"
     ]
    }
   ],
   "source": [
    "def find_leaf_paths(dictionary, parent_key=''):\n",
    "    paths = []\n",
    "    for key, value in dictionary.items():\n",
    "        current_key = f\"{parent_key}.{key}\" if parent_key else key\n",
    "        if isinstance(value, dict):\n",
    "            paths.extend(find_leaf_paths(value, current_key))\n",
    "        else:\n",
    "            paths.append(current_key)\n",
    "    return paths\n",
    "\n",
    "# Example input\n",
    "input_dict = {'a': {'b': 1, 'c': 2}, 'd': {'e': {'f': 3}}}\n",
    "\n",
    "# Generate list of paths to leaf values\n",
    "output_paths = find_leaf_paths(input_dict)\n",
    "\n",
    "# Print the result\n",
    "print(output_paths)  # Output: ['a.b', 'a.c', 'd.e.f']"
   ]
  },
  {
   "cell_type": "code",
   "execution_count": 173,
   "id": "4933ae5b",
   "metadata": {},
   "outputs": [
    {
     "name": "stdout",
     "output_type": "stream",
     "text": [
      "{2: 1, 3: 1, 4: 1, 1: 1, 5: 1}\n"
     ]
    }
   ],
   "source": [
    "def count_items(x : list) :\n",
    "    empty_dict = {}\n",
    "    for i in x :\n",
    "        if empty_dict.get(i) == None :\n",
    "            empty_dict[i] = 1\n",
    "    return empty_dict\n",
    "\n",
    "x = [2, 3, 4, 1, 2, 5]\n",
    "print(count_items(x))"
   ]
  },
  {
   "cell_type": "code",
   "execution_count": 180,
   "id": "c973ac6c",
   "metadata": {},
   "outputs": [],
   "source": [
    "def koreanGame():\n",
    "    for i in range(1,100):\n",
    "        if i % 3 ==0:\n",
    "            print(i)"
   ]
  },
  {
   "cell_type": "code",
   "execution_count": 198,
   "id": "fd3bc9b1",
   "metadata": {},
   "outputs": [],
   "source": [
    "def leaf_value(dic, parent_key=''):\n",
    "    leaf_list = []\n",
    "    for key, val in dic.items():\n",
    "        current_leaf = f\"{parent_key}.{key}\" if parent_key else key # 이 전에 부모가 없으면 그냥 현재 key가 젤 부모지\n",
    "        if isinstance(val, dict):\n",
    "            leaf_list.extend(leaf_value(val, current_leaf))\n",
    "        else:\n",
    "            leaf_list.append(current_leaf)\n",
    "    return leaf_list"
   ]
  },
  {
   "cell_type": "code",
   "execution_count": 199,
   "id": "b1b2bac1",
   "metadata": {},
   "outputs": [
    {
     "name": "stdout",
     "output_type": "stream",
     "text": [
      "['a.b', 'a.c', 'd.e.f']\n"
     ]
    }
   ],
   "source": [
    "input_dict = {'a': {'b': 1, 'c': 2}, 'd': {'e': {'f': 3}}}\n",
    "print(leaf_value(input_dict))"
   ]
  },
  {
   "cell_type": "code",
   "execution_count": 1,
   "id": "ca6181ac",
   "metadata": {},
   "outputs": [
    {
     "name": "stdout",
     "output_type": "stream",
     "text": [
      "player2\n"
     ]
    }
   ],
   "source": [
    "d = {'player1': 24, 'player2': 47, 'player3': 32}\n",
    "high = max(list(d.values()))\n",
    "for player in d.keys():\n",
    "    if d[player] == int(high):\n",
    "        print(player)"
   ]
  }
 ],
 "metadata": {
  "kernelspec": {
   "display_name": "Python 3 (ipykernel)",
   "language": "python",
   "name": "python3"
  },
  "language_info": {
   "codemirror_mode": {
    "name": "ipython",
    "version": 3
   },
   "file_extension": ".py",
   "mimetype": "text/x-python",
   "name": "python",
   "nbconvert_exporter": "python",
   "pygments_lexer": "ipython3",
   "version": "3.9.13"
  }
 },
 "nbformat": 4,
 "nbformat_minor": 5
}
