{
 "cells": [
  {
   "cell_type": "code",
   "execution_count": 14,
   "id": "b650df74-aa07-40f8-8e95-7ab47183b89b",
   "metadata": {},
   "outputs": [
    {
     "data": {
      "text/plain": [
       "array([[ 0,  1,  2],\n",
       "       [ 3,  4,  5],\n",
       "       [ 6,  7,  8],\n",
       "       [ 9, 10, 11],\n",
       "       [12, 13, 14],\n",
       "       [15, 16, 17],\n",
       "       [18, 19, 20]])"
      ]
     },
     "execution_count": 14,
     "metadata": {},
     "output_type": "execute_result"
    }
   ],
   "source": [
    "import numpy as np\n",
    "W = np.arange(21).reshape(7, 3)\n",
    "W"
   ]
  },
  {
   "cell_type": "code",
   "execution_count": 2,
   "id": "1a6c1f50-5fa2-4a0a-b9ef-75d1b6337e1e",
   "metadata": {},
   "outputs": [
    {
     "data": {
      "text/plain": [
       "array([6, 7, 8])"
      ]
     },
     "execution_count": 2,
     "metadata": {},
     "output_type": "execute_result"
    }
   ],
   "source": [
    "W[2]"
   ]
  },
  {
   "cell_type": "code",
   "execution_count": 17,
   "id": "500d3444-fde7-4b9a-a543-5294059f4994",
   "metadata": {},
   "outputs": [
    {
     "data": {
      "text/plain": [
       "array([[ 3,  4,  5],\n",
       "       [ 9, 10, 11],\n",
       "       [ 0,  1,  2],\n",
       "       [ 3,  4,  5]])"
      ]
     },
     "execution_count": 17,
     "metadata": {},
     "output_type": "execute_result"
    }
   ],
   "source": [
    "idx = np.array([1, 3, 0, 1])\n",
    "W[idx] # 여러 행을 한꺼번에 추출"
   ]
  },
  {
   "cell_type": "code",
   "execution_count": 22,
   "id": "8448b4ec-a76b-4497-94af-74c86ae77c94",
   "metadata": {},
   "outputs": [],
   "source": [
    "class Embedding:\n",
    "    def __init__(self, W):\n",
    "        self.params = [W] # list\n",
    "        self.grads = [np.zeros_like(W)]\n",
    "        self.idx = None\n",
    "\n",
    "    def forward(self, idx): # np.array\n",
    "        W, = self.params\n",
    "        self.idx = idx\n",
    "        out = W[idx]\n",
    "        return out"
   ]
  },
  {
   "cell_type": "code",
   "execution_count": 19,
   "id": "9ca1bb2f-5f05-459a-a49e-3768d7c0910c",
   "metadata": {},
   "outputs": [
    {
     "data": {
      "text/plain": [
       "array([[ 3,  4,  5],\n",
       "       [ 9, 10, 11],\n",
       "       [ 0,  1,  2],\n",
       "       [ 3,  4,  5]])"
      ]
     },
     "execution_count": 19,
     "metadata": {},
     "output_type": "execute_result"
    }
   ],
   "source": [
    "emb = Embedding(W)\n",
    "emb.forward(idx)"
   ]
  },
  {
   "cell_type": "code",
   "execution_count": 23,
   "id": "741ca7e6-71f9-4a10-9718-50b0051a9c04",
   "metadata": {},
   "outputs": [],
   "source": [
    "    def backward(self, dout):\n",
    "        dW, = self.grads\n",
    "        dW[...] = 0 # 0으로 덮어 씀\n",
    "        dW[self.idx] = dout # 실은 나쁜 예 (기존 가중치 특정 행 갱신 가능함)\n",
    "        return None"
   ]
  },
  {
   "cell_type": "code",
   "execution_count": 26,
   "id": "364d3377-8bdd-4909-9021-4f13c60067bd",
   "metadata": {},
   "outputs": [],
   "source": [
    "class Embedding:\n",
    "    def __init__(self, W):\n",
    "        self.params = [W] # list\n",
    "        self.grads = [np.zeros_like(W)]\n",
    "        self.idx = None\n",
    "\n",
    "    def forward(self, idx): # np.array\n",
    "        W, = self.params\n",
    "        self.idx = idx\n",
    "        out = W[idx]\n",
    "        return out\n",
    "\n",
    "    def backward(self, dout):\n",
    "        dW, = self.grads\n",
    "        dW[...] = 0\n",
    "\n",
    "#       for i, word_id in enumerate(self.idx):\n",
    "#           dW[word_id] += dout[i]\n",
    "\n",
    "        np.add.at(dW, self.idx, dout) # dout를 dw의 idx 행에 더해줌\n",
    "\n",
    "        return None"
   ]
  },
  {
   "cell_type": "code",
   "execution_count": 37,
   "id": "62de3ebb-1d6f-480c-920b-057c1e619595",
   "metadata": {},
   "outputs": [],
   "source": [
    "class EmbeddingDot:\n",
    "    def __init__(self, W):\n",
    "        self.embed = Embedding(W)\n",
    "        self.params = self.embed.params\n",
    "        self.grads = self.embed.grads\n",
    "        self.cache = None # 순전파 시 계산 결과를 잠시 유지하기 위함\n",
    "\n",
    "    def forward(self, h, idx):\n",
    "        '''\n",
    "        W        : (hidden, vocab) -> 굳이 행/열 방향 안바꿔도 됨, 걍 뽑아낼 것\n",
    "        idx      : (#mini_batch,) -> 정답 idx 각 각\n",
    "        target_W : (#mini_batch, hidden)\n",
    "        h        : (#mini_batch, hidden)\n",
    "        \n",
    "        target_W\n",
    "        * h      : (#mini_batch, hidden) -> element-wise\n",
    "\n",
    "        out      : (hidden,)\n",
    "        '''\n",
    "               \n",
    "        target_W = self.embed.forward(idx) \n",
    "        out = np.sum(target_W * h, axis=1) # dot product : (h,)*(h,1)=(h,1)\n",
    "                                           \n",
    "        "
   ]
  },
  {
   "cell_type": "code",
   "execution_count": 29,
   "id": "f56e6202-7ce3-444e-a9f5-2aee63cbe99b",
   "metadata": {
    "scrolled": true
   },
   "outputs": [
    {
     "data": {
      "text/plain": [
       "array([[ 0,  1,  2,  3,  4,  5],\n",
       "       [ 6,  7,  8,  9, 10, 11],\n",
       "       [12, 13, 14, 15, 16, 17]])"
      ]
     },
     "execution_count": 29,
     "metadata": {},
     "output_type": "execute_result"
    }
   ],
   "source": [
    "W = np.arange(18).reshape(3, 6)\n",
    "W"
   ]
  },
  {
   "cell_type": "code",
   "execution_count": 31,
   "id": "59bd21de-7de9-497a-81a3-deab8cb1106c",
   "metadata": {},
   "outputs": [],
   "source": [
    "new = [W]"
   ]
  },
  {
   "cell_type": "code",
   "execution_count": 34,
   "id": "0ced939b-0cf9-4fc5-b8f3-f15da3bae188",
   "metadata": {},
   "outputs": [
    {
     "ename": "IndexError",
     "evalue": "index 4 is out of bounds for axis 0 with size 3",
     "output_type": "error",
     "traceback": [
      "\u001b[0;31m---------------------------------------------------------------------------\u001b[0m",
      "\u001b[0;31mIndexError\u001b[0m                                Traceback (most recent call last)",
      "Cell \u001b[0;32mIn[34], line 3\u001b[0m\n\u001b[1;32m      1\u001b[0m new, \u001b[38;5;241m=\u001b[39m new\n\u001b[1;32m      2\u001b[0m idx \u001b[38;5;241m=\u001b[39m np\u001b[38;5;241m.\u001b[39marray([\u001b[38;5;241m1\u001b[39m, \u001b[38;5;241m4\u001b[39m])\n\u001b[0;32m----> 3\u001b[0m \u001b[43mnew\u001b[49m\u001b[43m[\u001b[49m\u001b[43midx\u001b[49m\u001b[43m]\u001b[49m\n",
      "\u001b[0;31mIndexError\u001b[0m: index 4 is out of bounds for axis 0 with size 3"
     ]
    }
   ],
   "source": [
    "new, = new\n",
    "idx = np.array([1, 4])\n",
    "new[idx]"
   ]
  },
  {
   "cell_type": "code",
   "execution_count": 36,
   "id": "7b9fc0ee-a1bd-4c7f-86fc-3de982cc40c9",
   "metadata": {},
   "outputs": [
    {
     "name": "stdout",
     "output_type": "stream",
     "text": [
      "[array([[ 0,  1,  2],\n",
      "       [ 3,  4,  5],\n",
      "       [ 6,  7,  8],\n",
      "       [ 9, 10, 11],\n",
      "       [12, 13, 14],\n",
      "       [15, 16, 17]])]\n"
     ]
    },
    {
     "data": {
      "text/plain": [
       "array([[ 3,  4,  5],\n",
       "       [12, 13, 14]])"
      ]
     },
     "execution_count": 36,
     "metadata": {},
     "output_type": "execute_result"
    }
   ],
   "source": [
    "W = np.arange(18).reshape(6, 3)\n",
    "new = [W]\n",
    "print(new)\n",
    "new, = new\n",
    "idx = np.array([1, 4])\n",
    "new[idx]"
   ]
  },
  {
   "cell_type": "code",
   "execution_count": 24,
   "id": "0a553e13-0dca-44f0-a1a7-7ede4137910c",
   "metadata": {},
   "outputs": [
    {
     "name": "stdout",
     "output_type": "stream",
     "text": [
      "(6, 2, 7)\n",
      "h0 (6, 3)\n",
      "h (6, 3)\n",
      "[[-0.00215463  0.00203248 -0.01218489]\n",
      " [ 0.00158647  0.00582324  0.00845241]\n",
      " [ 0.00145745  0.00199188  0.00410468]\n",
      " [ 0.00158647  0.00582324  0.00845241]\n",
      " [-0.0011291   0.00438889  0.01679553]\n",
      " [-0.0058708  -0.00579223  0.01247176]]\n"
     ]
    },
    {
     "data": {
      "text/plain": [
       "1.945911603779739"
      ]
     },
     "execution_count": 24,
     "metadata": {},
     "output_type": "execute_result"
    }
   ],
   "source": [
    "import sys\n",
    "sys.path.append('..')\n",
    "import numpy as np\n",
    "from common.layers import MatMul, SoftmaxWithLoss\n",
    "from common.util import preprocess, create_contexts_target, convert_one_hot\n",
    "\n",
    "class SimpleCBOW:\n",
    "    def __init__(self, vocab_size, hidden_size):\n",
    "        V, H = vocab_size, hidden_size\n",
    "\n",
    "        # 1. 가중치 초기화\n",
    "        W_in = 0.01 * np.random.randn(V, H).astype('f')\n",
    "        W_out = 0.01 * np.random.randn(H, V).astype('f')\n",
    "\n",
    "        # 2. 계층 생성 (contexts 2개)\n",
    "        self.in_layer0 = MatMul(W_in) # context1\n",
    "        self.in_layer1 = MatMul(W_in) # context2\n",
    "        self.out_layer = MatMul(W_out)\n",
    "        self.loss_layer = SoftmaxWithLoss()\n",
    "\n",
    "        # 3. 모든 가중치와 기울기를 리스트에 모은다.\n",
    "        layers = [self.in_layer0, self.in_layer1, self.out_layer]\n",
    "        self.params, self.grads = [], []\n",
    "        for layer in layers:\n",
    "            self.params += layer.params\n",
    "            self.grads += layer.grads\n",
    "\n",
    "        # 4. 인스턴스 변수에 단어의 분산 표현을 저장한다.\n",
    "        self.word_vecs = W_in\n",
    "    def forward(self, contexts, target):\n",
    "        h0 = self.in_layer0.forward(contexts[:,0]) # MatMul.forward()\n",
    "        print(contexts.shape)\n",
    "        print('h0',h0.shape)\n",
    "        h1 = self.in_layer1.forward(contexts[:,1])\n",
    "        h = (h0 + h1) * 0.5 # 평균\n",
    "        print('h', h.shape)\n",
    "        print(h)\n",
    "        score = self.out_layer.forward(h)\n",
    "        loss = self.loss_layer.forward(score, target)\n",
    "        return loss\n",
    "\n",
    "    def backward(self, dout=1):\n",
    "        ds = self.loss_layer.backward(dout)\n",
    "        da = self.out_layer.backward(ds)\n",
    "        da *= 0.5 # 순전파 입력을 서로 바꿔 기울기에 곱\n",
    "        self.in_layer1.backward(da) # 그대로 흘림\n",
    "        self.in_layer0.backward(da) # 그대로 흘림\n",
    "        return None   \n",
    "        \n",
    "model = SimpleCBOW(7, 3)\n",
    "text = 'You say goodbye and I say hello.'\n",
    "corpus, word_to_id, id_to_word = preprocess(text)\n",
    "\n",
    "# 3. ont hot encoding\n",
    "vocab_size = len(word_to_id)\n",
    "contexts, target = create_contexts_target(corpus, 1)\n",
    "target = convert_one_hot(target, vocab_size)\n",
    "contexts = convert_one_hot(contexts, vocab_size)\n",
    "\n",
    "model.forward(contexts, target)"
   ]
  },
  {
   "cell_type": "code",
   "execution_count": 25,
   "id": "01f5b163-30b0-4472-93c6-f6c11b297d77",
   "metadata": {},
   "outputs": [
    {
     "data": {
      "text/plain": [
       "(8,)"
      ]
     },
     "execution_count": 25,
     "metadata": {},
     "output_type": "execute_result"
    }
   ],
   "source": [
    "corpus.shape"
   ]
  },
  {
   "cell_type": "code",
   "execution_count": 26,
   "id": "9f3a5dea-7ea9-4912-baa9-22724954b279",
   "metadata": {},
   "outputs": [
    {
     "data": {
      "text/plain": [
       "7"
      ]
     },
     "execution_count": 26,
     "metadata": {},
     "output_type": "execute_result"
    }
   ],
   "source": [
    "vocab_size"
   ]
  },
  {
   "cell_type": "code",
   "execution_count": null,
   "id": "dcd5037e-f49e-4a4f-8b48-07ff8941198d",
   "metadata": {},
   "outputs": [],
   "source": []
  }
 ],
 "metadata": {
  "kernelspec": {
   "display_name": "Python 3 (ipykernel)",
   "language": "python",
   "name": "python3"
  },
  "language_info": {
   "codemirror_mode": {
    "name": "ipython",
    "version": 3
   },
   "file_extension": ".py",
   "mimetype": "text/x-python",
   "name": "python",
   "nbconvert_exporter": "python",
   "pygments_lexer": "ipython3",
   "version": "3.9.13"
  }
 },
 "nbformat": 4,
 "nbformat_minor": 5
}
