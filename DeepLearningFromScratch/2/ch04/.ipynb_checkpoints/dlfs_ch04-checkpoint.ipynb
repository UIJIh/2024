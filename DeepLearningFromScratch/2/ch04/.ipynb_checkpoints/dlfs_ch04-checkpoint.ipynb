{
 "cells": [
  {
   "cell_type": "code",
   "execution_count": 3,
   "id": "b650df74-aa07-40f8-8e95-7ab47183b89b",
   "metadata": {},
   "outputs": [
    {
     "data": {
      "text/plain": [
       "array([[ 0,  1,  2],\n",
       "       [ 3,  4,  5],\n",
       "       [ 6,  7,  8],\n",
       "       [ 9, 10, 11],\n",
       "       [12, 13, 14],\n",
       "       [15, 16, 17],\n",
       "       [18, 19, 20]])"
      ]
     },
     "execution_count": 3,
     "metadata": {},
     "output_type": "execute_result"
    }
   ],
   "source": [
    "import numpy as np\n",
    "W = np.arange(21).reshape(7, 3)\n",
    "W"
   ]
  },
  {
   "cell_type": "code",
   "execution_count": 2,
   "id": "1a6c1f50-5fa2-4a0a-b9ef-75d1b6337e1e",
   "metadata": {},
   "outputs": [
    {
     "data": {
      "text/plain": [
       "array([6, 7, 8])"
      ]
     },
     "execution_count": 2,
     "metadata": {},
     "output_type": "execute_result"
    }
   ],
   "source": [
    "W[2]"
   ]
  },
  {
   "cell_type": "code",
   "execution_count": 17,
   "id": "500d3444-fde7-4b9a-a543-5294059f4994",
   "metadata": {},
   "outputs": [
    {
     "data": {
      "text/plain": [
       "array([[ 3,  4,  5],\n",
       "       [ 9, 10, 11],\n",
       "       [ 0,  1,  2],\n",
       "       [ 3,  4,  5]])"
      ]
     },
     "execution_count": 17,
     "metadata": {},
     "output_type": "execute_result"
    }
   ],
   "source": [
    "idx = np.array([1, 3, 0, 1])\n",
    "W[idx] # 여러 행을 한꺼번에 추출"
   ]
  },
  {
   "cell_type": "code",
   "execution_count": 4,
   "id": "8448b4ec-a76b-4497-94af-74c86ae77c94",
   "metadata": {},
   "outputs": [],
   "source": [
    "class Embedding:\n",
    "    def __init__(self, W):\n",
    "        self.params = [W] # list\n",
    "        self.grads = [np.zeros_like(W)]\n",
    "        self.idx = None\n",
    "\n",
    "    def forward(self, idx): # np.array\n",
    "        W, = self.params\n",
    "        self.idx = idx\n",
    "        out = W[idx]\n",
    "        return out"
   ]
  },
  {
   "cell_type": "code",
   "execution_count": 19,
   "id": "9ca1bb2f-5f05-459a-a49e-3768d7c0910c",
   "metadata": {},
   "outputs": [
    {
     "data": {
      "text/plain": [
       "array([[ 3,  4,  5],\n",
       "       [ 9, 10, 11],\n",
       "       [ 0,  1,  2],\n",
       "       [ 3,  4,  5]])"
      ]
     },
     "execution_count": 19,
     "metadata": {},
     "output_type": "execute_result"
    }
   ],
   "source": [
    "emb = Embedding(W)\n",
    "emb.forward(idx)"
   ]
  },
  {
   "cell_type": "code",
   "execution_count": 23,
   "id": "741ca7e6-71f9-4a10-9718-50b0051a9c04",
   "metadata": {},
   "outputs": [],
   "source": [
    "    def backward(self, dout):\n",
    "        dW, = self.grads\n",
    "        dW[...] = 0 # 0으로 덮어 씀\n",
    "        dW[self.idx] = dout # 실은 나쁜 예 (기존 가중치 특정 행 갱신 가능함)\n",
    "        return None"
   ]
  },
  {
   "cell_type": "code",
   "execution_count": 5,
   "id": "364d3377-8bdd-4909-9021-4f13c60067bd",
   "metadata": {},
   "outputs": [],
   "source": [
    "class Embedding:\n",
    "    def __init__(self, W):\n",
    "        self.params = [W] # list\n",
    "        self.grads = [np.zeros_like(W)]\n",
    "        self.idx = None\n",
    "\n",
    "    def forward(self, idx): # np.array\n",
    "        W, = self.params\n",
    "        self.idx = idx\n",
    "        out = W[idx]\n",
    "        return out\n",
    "\n",
    "    def backward(self, dout):\n",
    "        dW, = self.grads\n",
    "        dW[...] = 0\n",
    "\n",
    "#       for i, word_id in enumerate(self.idx):\n",
    "#           dW[word_id] += dout[i]\n",
    "\n",
    "        np.add.at(dW, self.idx, dout) # dout를 dw의 idx 행에 더해줌 (중복 문제)\n",
    "\n",
    "        return None"
   ]
  },
  {
   "cell_type": "code",
   "execution_count": 34,
   "id": "62de3ebb-1d6f-480c-920b-057c1e619595",
   "metadata": {},
   "outputs": [],
   "source": [
    "class EmbeddingDot:\n",
    "    def __init__(self, W):\n",
    "        self.embed = Embedding(W)\n",
    "        self.params = self.embed.params\n",
    "        self.grads = self.embed.grads\n",
    "        self.cache = None # 역전파 때 쓰기 위해 순전파 결과 저장(h, target_W)\n",
    "\n",
    "    def forward(self, h, idx):\n",
    "        '''\n",
    "        W        : (vocab, hidden) -> 원래는 h,v \n",
    "        idx      : (#mini_batch,) -> 정답 idx 각 각\n",
    "        target_W : (#mini_batch, hidden)\n",
    "        h        : (#mini_batch, hidden)\n",
    "        \n",
    "        target_W\n",
    "        * h      : (#mini_batch, hidden) -> np * -> element-wise\n",
    "\n",
    "        out      : (hidden,)\n",
    "        '''\n",
    "               \n",
    "        target_W = self.embed.forward(idx) \n",
    "        out = np.sum(target_W * h, axis=1) # dot product\n",
    "                                           # * 연산하면 shape 안맞춰줘도 돼서 편함\n",
    "                                           # 어차피 (h,)*(h,)\n",
    "        self.cache = (h, target_W)\n",
    "        return out\n",
    "                                           \n",
    "    def backward(self, dout): # sigmoid with loss (batch,)\n",
    "        # 그냥 흘려보내면 된다.\n",
    "        h, target_W = self.cache        \n",
    "        # dout = (batch,) -> 행렬 곱 수행 위해 reshape\n",
    "        dout = dout.reshape(dout.shape[0], 1)\n",
    "\n",
    "        dtarget_W = dout * h # (batch,1) * (batch, hidden)\n",
    "        self.embed.backward(dtarget_W)\n",
    "        dh = dout * target_W\n",
    "        return dh        "
   ]
  },
  {
   "cell_type": "code",
   "execution_count": 31,
   "id": "f56e6202-7ce3-444e-a9f5-2aee63cbe99b",
   "metadata": {
    "scrolled": true
   },
   "outputs": [],
   "source": [
    "W = np.arange(18).reshape(6, 3)"
   ]
  },
  {
   "cell_type": "code",
   "execution_count": 29,
   "id": "59bd21de-7de9-497a-81a3-deab8cb1106c",
   "metadata": {},
   "outputs": [],
   "source": [
    "idx = np.array([1, 3, 0, 2 ,4 ,1])\n",
    "embed = Embedding(W)\n",
    "target_W = embed.forward(idx)"
   ]
  },
  {
   "cell_type": "code",
   "execution_count": 30,
   "id": "d7105848-ccd7-4359-a6e7-598d70dbfa17",
   "metadata": {},
   "outputs": [
    {
     "name": "stdout",
     "output_type": "stream",
     "text": [
      "[[ 3  4  5]\n",
      " [ 9 10 11]\n",
      " [ 0  1  2]\n",
      " [ 6  7  8]\n",
      " [12 13 14]\n",
      " [ 3  4  5]]\n",
      "\n",
      "\n",
      "[[ 0.0035595   0.00218908 -0.01752615]\n",
      " [ 0.0725463   0.0873808  -0.10238899]\n",
      " [ 0.         -0.00618628  0.00131548]\n",
      " [ 0.04836444  0.06116656 -0.07446472]\n",
      " [-0.00578628 -0.06258408 -0.04283076]\n",
      " [ 0.02235036 -0.0087354  -0.03980735]]\n",
      "\n",
      "\n",
      "[-0.01177757  0.05753811 -0.0048708   0.03506628 -0.11120112 -0.02619239]\n"
     ]
    }
   ],
   "source": [
    "embDot = EmbeddingDot(W)\n",
    "h = np.array([[0.0011865, 0.00054727, -0.00350523],\n",
    " [ 0.0080607,  0.00873808, -0.00930809],\n",
    " [ 0.00719375 ,-0.00618628,  0.00065774],\n",
    " [ 0.00806074 , 0.00873808 ,-0.00930809],\n",
    " [-0.00048219,-0.00481416, -0.00305934],\n",
    " [ 0.00745012, -0.00218385 ,-0.00796147]])\n",
    "embDot.forward(h, idx)\n",
    "#print(target_W)\n",
    "#print(target_W * h)\n",
    "#print(out)"
   ]
  },
  {
   "cell_type": "code",
   "execution_count": 35,
   "id": "dcd5037e-f49e-4a4f-8b48-07ff8941198d",
   "metadata": {},
   "outputs": [
    {
     "ename": "ValueError",
     "evalue": "operands could not be broadcast together with shapes (6,) (6,3) ",
     "output_type": "error",
     "traceback": [
      "\u001b[0;31m---------------------------------------------------------------------------\u001b[0m",
      "\u001b[0;31mValueError\u001b[0m                                Traceback (most recent call last)",
      "Cell \u001b[0;32mIn[35], line 2\u001b[0m\n\u001b[1;32m      1\u001b[0m dout \u001b[38;5;241m=\u001b[39m np\u001b[38;5;241m.\u001b[39mrandom\u001b[38;5;241m.\u001b[39mrandn(\u001b[38;5;241m6\u001b[39m)\n\u001b[0;32m----> 2\u001b[0m \u001b[43mdout\u001b[49m\u001b[43m \u001b[49m\u001b[38;5;241;43m*\u001b[39;49m\u001b[43m \u001b[49m\u001b[43mh\u001b[49m\n",
      "\u001b[0;31mValueError\u001b[0m: operands could not be broadcast together with shapes (6,) (6,3) "
     ]
    }
   ],
   "source": [
    "dout = np.random.randn(6)\n",
    "dout * h"
   ]
  },
  {
   "cell_type": "code",
   "execution_count": 36,
   "id": "e100ce65-f957-482a-84d0-b8f6ebd2582c",
   "metadata": {},
   "outputs": [
    {
     "data": {
      "text/plain": [
       "array([[-0.00120147, -0.00055417,  0.00354946],\n",
       "       [-0.00120087, -0.00130178,  0.0013867 ],\n",
       "       [-0.0026712 ,  0.0022971 , -0.00024423],\n",
       "       [ 0.0024513 ,  0.00265729, -0.00283063],\n",
       "       [ 0.00029956,  0.00299074,  0.00190058],\n",
       "       [-0.00189828,  0.00055644,  0.00202857]])"
      ]
     },
     "execution_count": 36,
     "metadata": {},
     "output_type": "execute_result"
    }
   ],
   "source": [
    "dout = np.random.randn(6)\n",
    "dout = dout.reshape(dout.shape[0], 1)\n",
    "dout * h"
   ]
  },
  {
   "cell_type": "code",
   "execution_count": 55,
   "id": "79e5b424-5be6-46de-a79a-dbd662349e69",
   "metadata": {},
   "outputs": [
    {
     "name": "stdout",
     "output_type": "stream",
     "text": [
      "say\n",
      "['I' 'say' '.' 'I' 'you']\n",
      "['hello' 'goodbye' 'you' 'say' '.']\n",
      "you\n"
     ]
    }
   ],
   "source": [
    "# np.random.choice()\n",
    "words = ['you', 'say', 'goodbye', 'I', 'hello', '.']\n",
    "print(np.random.choice(words))\n",
    "print(np.random.choice(words, size=5)) # 중복 있음\n",
    "print(np.random.choice(words, size=5, replace=False)) # 중복 없음\n",
    "\n",
    "# 확률분포에 따라\n",
    "p = [0.5, 0.1, 0.05, 0.2, 0.05, 0.1] # 합 1이어야 함!!\n",
    "print(np.random.choice(words, p=p)) # 분포 높으면 많이 추출"
   ]
  },
  {
   "cell_type": "code",
   "execution_count": 45,
   "id": "6e6a9cd9-167e-4392-bcd4-4ea7e76b6cab",
   "metadata": {},
   "outputs": [
    {
     "name": "stdout",
     "output_type": "stream",
     "text": [
      "['hello' 'goodbye']\n"
     ]
    }
   ],
   "source": [
    "print(np.random.choice(words, size=2))"
   ]
  },
  {
   "cell_type": "code",
   "execution_count": 57,
   "id": "54c1bd6b-eecc-4923-b95a-2a3b22124398",
   "metadata": {},
   "outputs": [
    {
     "name": "stdout",
     "output_type": "stream",
     "text": [
      "[0.64196878 0.33150408 0.02652714]\n"
     ]
    }
   ],
   "source": [
    "p = [0.7, 0.29, 0.01]\n",
    "new_p = np.power(p, 0.75)\n",
    "new_p /= np.sum(new_p)\n",
    "print(new_p)"
   ]
  },
  {
   "cell_type": "code",
   "execution_count": null,
   "id": "4587c802-b423-49a7-bc4b-460a66e52eeb",
   "metadata": {},
   "outputs": [],
   "source": [
    "corpus = np.array([0, 1, 2, 3, 4, 1, 2, 3])\n",
    "power = 0.75\n",
    "sample_size = 2\n",
    "\n",
    "sampler = UnigramSampler(corpus, power, sample_size) # (단어ID목록, 확률분포에제곱, 샘플링횟수)\n",
    "target = np.array([1, 3, 0]) # positive 3개 미니배치\n",
    "negative_sample = sampler.get_negative_sample(target)\n",
    "print(negative_sample) # 각각 1/3/0 이 아닌 negative\n",
    "# [[0 3]\n",
    "#  [1 2]\n",
    "#  [2 3]]"
   ]
  },
  {
   "cell_type": "code",
   "execution_count": null,
   "id": "77e72fc6-11a6-4578-a294-a4b8616409fb",
   "metadata": {},
   "outputs": [],
   "source": [
    "class NegativeSamplingLoss:\n",
    "    def __init__(self, W, corpus, power=0.75, sample_size=5):\n",
    "        self.sample_size = "
   ]
  }
 ],
 "metadata": {
  "kernelspec": {
   "display_name": "Python 3 (ipykernel)",
   "language": "python",
   "name": "python3"
  },
  "language_info": {
   "codemirror_mode": {
    "name": "ipython",
    "version": 3
   },
   "file_extension": ".py",
   "mimetype": "text/x-python",
   "name": "python",
   "nbconvert_exporter": "python",
   "pygments_lexer": "ipython3",
   "version": "3.9.13"
  }
 },
 "nbformat": 4,
 "nbformat_minor": 5
}
