{
 "cells": [
  {
   "cell_type": "code",
   "execution_count": 2,
   "id": "945daf1a-3634-485e-9348-d5725a256ea3",
   "metadata": {},
   "outputs": [],
   "source": [
    "import numpy as np"
   ]
  },
  {
   "cell_type": "code",
   "execution_count": 4,
   "id": "a0298885-78d9-4923-9bb3-b447194a22a7",
   "metadata": {},
   "outputs": [],
   "source": [
    "W1 = np.random.randn(2, 4)\n",
    "b1 = np.random.randn(4)\n",
    "x = np.random.randn(10, 2)\n",
    "h = np.matmul(x, W1) + b1"
   ]
  },
  {
   "cell_type": "code",
   "execution_count": 8,
   "id": "ef22175f-8b1a-4865-a2f3-b8a6683c54cb",
   "metadata": {},
   "outputs": [],
   "source": [
    "# activation function 비선형효과 부여"
   ]
  },
  {
   "cell_type": "code",
   "execution_count": 5,
   "id": "a894066c-7221-4093-b7a3-ab49ea47325c",
   "metadata": {},
   "outputs": [],
   "source": [
    "def sigmoid(x):\n",
    "    return 1 / (1 + np.exp(-x))"
   ]
  },
  {
   "cell_type": "code",
   "execution_count": 13,
   "id": "69bafebc-7833-40b1-85a6-c39dc584d0e5",
   "metadata": {},
   "outputs": [],
   "source": [
    "a = sigmoid(h)"
   ]
  },
  {
   "cell_type": "code",
   "execution_count": 14,
   "id": "8ca6b580-9d72-4f39-9b07-913716caa69f",
   "metadata": {},
   "outputs": [],
   "source": [
    "x = np.random.randn(10, 2)\n",
    "W1 = np.random.randn(2, 4)\n",
    "b1 = np.random.randn(4)\n",
    "W2 = np.random.randn(4, 3)\n",
    "b2 = np.random.randn(3)\n",
    "\n",
    "h = np.matmul(x, W1) + b1 # 은닉층\n",
    "a = sigmoid(a)\n",
    "s = np.matmul(a, W2) + b2 # 출력층"
   ]
  },
  {
   "cell_type": "code",
   "execution_count": 16,
   "id": "f5b110dc-0f87-4dfe-83f9-8b90f453a523",
   "metadata": {},
   "outputs": [
    {
     "data": {
      "text/plain": [
       "(10, 3)"
      ]
     },
     "execution_count": 16,
     "metadata": {},
     "output_type": "execute_result"
    }
   ],
   "source": [
    "s.shape"
   ]
  },
  {
   "cell_type": "markdown",
   "id": "72b7ccd9-c066-4f06-a052-ac78e15f2485",
   "metadata": {},
   "source": [
    "## (10, 3) \n",
    "## = 3차원 데이터(벡터)!! -> 각 차원의 값을 이용하여 3 클래스 분류가 가능\n",
    "## = 벡터의 각 차원은 각 클래스에 대응하는 score임\n",
    "## = 첫 번째 뉴런이 첫 번째 클래스, 두 번째 뉴런이 두 번째 클래스 ...\n",
    "## = 가장 큰 값을 내뱉는 뉴런에 해당하는 클래스가 예측 결과가 될 것"
   ]
  },
  {
   "attachments": {
    "5022cba0-9ef0-4c2a-ac6c-8f5bde15c3d1.png": {
     "image/png": "[encoded data removed]"
    }
   },
   "cell_type": "markdown",
   "id": "cabc223f-44f7-43e0-8f5c-a73a11501e16",
   "metadata": {},
   "source": [
    "### 붓꽃 품종 맞추기\n",
    "![image.png](attachment:5022cba0-9ef0-4c2a-ac6c-8f5bde15c3d1.png)\n"
   ]
  },
  {
   "cell_type": "code",
   "execution_count": 24,
   "id": "3587be6a-0606-4fe8-a1d6-2bc3a540ccd2",
   "metadata": {},
   "outputs": [],
   "source": [
    "class Sigmoid:\n",
    "    def __init__(self):\n",
    "        self.params = []\n",
    "\n",
    "    def forward(self, x):\n",
    "        return 1 / (1 + np.exp(-x))"
   ]
  },
  {
   "cell_type": "code",
   "execution_count": 25,
   "id": "d3aaf505-2de6-4e81-9107-fe8b355a0f4a",
   "metadata": {},
   "outputs": [],
   "source": [
    "class Affine:\n",
    "    def __init__(self, W, b):\n",
    "        self.params = [W, b]\n",
    "\n",
    "    def forward(self, x):\n",
    "        W, b = self.params\n",
    "        out = np.matmul(x, W) + b\n",
    "        return out"
   ]
  },
  {
   "cell_type": "code",
   "execution_count": 32,
   "id": "3a55f9ba-4550-47fc-a107-68c3aa5a1e88",
   "metadata": {},
   "outputs": [],
   "source": [
    "class TwoLayerNet:\n",
    "    def __init__(self, input_size, hidden_size, output_size):\n",
    "        I, H, O = input_size, hidden_size, output_size\n",
    "\n",
    "        # 가중치와 편향 초기화\n",
    "        W1 = np.random.randn(I, H)\n",
    "        b1 = np.random.randn(H)\n",
    "        W2 = np.random.randn(H, O)\n",
    "        b2 = np.random.randn(O)\n",
    "\n",
    "        # 계층 생성\n",
    "        self.layers = [\n",
    "            Affine(W1, b1),\n",
    "            Sigmoid(),\n",
    "            Affine(W2, b2)\n",
    "        ]\n",
    "\n",
    "        # 모든 가중치를 리스트에 모은다.\n",
    "        self.params = []\n",
    "        for layer in self.layers:\n",
    "            self.params += layer.params # 리스트 결합\n",
    "\n",
    "    def predict(self, x):\n",
    "        for layer in self.layers:\n",
    "            x = layer.forward(x)\n",
    "        return x"
   ]
  },
  {
   "cell_type": "code",
   "execution_count": 30,
   "id": "96a7deb1-a49d-4574-8182-dd431608eade",
   "metadata": {},
   "outputs": [],
   "source": [
    "x = np.random.randn(10, 2) # inputsize=2, batchsize=10\n",
    "model = TwoLayerNet(2, 4, 3)\n",
    "s = model.predict(x)"
   ]
  },
  {
   "cell_type": "code",
   "execution_count": 31,
   "id": "1fe72bea-6825-4452-baf7-086a8e8d29e3",
   "metadata": {},
   "outputs": [
    {
     "data": {
      "text/plain": [
       "array([[-3.28661628, -1.22765418, -1.08979583],\n",
       "       [-1.85323764, -1.24374713, -1.62315044],\n",
       "       [-2.82858738, -1.24826536, -1.3923242 ],\n",
       "       [-2.79624053, -1.46811475, -1.62287565],\n",
       "       [-2.47109932, -1.28343043, -1.61665677],\n",
       "       [-2.26572148, -1.3342943 , -1.79630713],\n",
       "       [-2.88874242, -1.54890245, -1.59739935],\n",
       "       [-2.89958188, -0.99958813, -0.98373656],\n",
       "       [-2.97685565, -1.4001447 , -1.43086628],\n",
       "       [-2.83688876, -1.32111401, -1.46308228]])"
      ]
     },
     "execution_count": 31,
     "metadata": {},
     "output_type": "execute_result"
    }
   ],
   "source": [
    "s"
   ]
  },
  {
   "cell_type": "code",
   "execution_count": 3,
   "id": "308aca5f-e2db-4152-9f50-29183ac3939b",
   "metadata": {},
   "outputs": [],
   "source": [
    "# softmax with loss\n",
    "class SoftmaxWithLoss:\n",
    "    def __init__(self):\n",
    "        self.params, self.grads = [], []\n",
    "        self.y = None\n",
    "        self.t = None\n",
    "\n",
    "    def forward(self, x, t):\n",
    "        self.t = t\n",
    "        self.y = softmax(x)\n",
    "\n",
    "        if self.t.size == self.y.size:\n",
    "            self.t = self.t.argmax(axis=1)\n",
    "\n",
    "        loss = cross_entropy_error(self.y, self.t)\n",
    "        # return -np.sum(np.log(y[np.arange(batch_size), t] + 1e-7)) / batch_size\n",
    "        return loss\n",
    "\n",
    "    def backward(self, dout=1):\n",
    "        batch_size = self.t.shape[0]\n",
    "\n",
    "        dx = self.y.copy()\n",
    "        # 출력 - (정답 레이블) = 오차\n",
    "        dx[np.arange(batch_size), self.t] -= 1\n",
    "        dx *= dout\n",
    "        #데이터 1개당 오차를 전파\n",
    "        dx = dx / batch_size\n",
    "\n",
    "        return dx"
   ]
  },
  {
   "cell_type": "code",
   "execution_count": 19,
   "id": "c775ba81-0145-4036-9c81-8add1e936c79",
   "metadata": {},
   "outputs": [],
   "source": [
    "import numpy as np\n",
    "D, N = 8, 7\n",
    "x = np.random.randn(1, D)               # 입력\n",
    "y = np.repeat(x, N ,axis=0)             # 순전파 (col 방향 복제)\n",
    "dy = np.random.randn(N, D)              # 무작위 기울기\n",
    "dx = np.sum(dy, axis=0, keepdims=True)  # 역전파 (false면 (D), true면 2차원 유지 (1, D))"
   ]
  },
  {
   "cell_type": "code",
   "execution_count": 20,
   "id": "7b84a986-d694-4fb1-92a6-e5d90d17ffc9",
   "metadata": {},
   "outputs": [
    {
     "data": {
      "text/plain": [
       "(1, 56)"
      ]
     },
     "execution_count": 20,
     "metadata": {},
     "output_type": "execute_result"
    }
   ],
   "source": [
    "test = np.repeat(x, N ,axis=1) \n",
    "test.shape"
   ]
  },
  {
   "cell_type": "code",
   "execution_count": 21,
   "id": "de40be2a-5d82-41a6-8577-fcc0af8e0221",
   "metadata": {},
   "outputs": [
    {
     "data": {
      "text/plain": [
       "(7, 8)"
      ]
     },
     "execution_count": 21,
     "metadata": {},
     "output_type": "execute_result"
    }
   ],
   "source": [
    "y.shape"
   ]
  },
  {
   "cell_type": "code",
   "execution_count": 22,
   "id": "87e1a6bf-837d-4db4-bda5-3975e6e162d6",
   "metadata": {},
   "outputs": [
    {
     "data": {
      "text/plain": [
       "array([[-0.16381714,  0.71719857, -0.63125648,  0.28874617, -0.01783836,\n",
       "        -0.19016685, -0.45107601, -1.81517715],\n",
       "       [-0.16381714,  0.71719857, -0.63125648,  0.28874617, -0.01783836,\n",
       "        -0.19016685, -0.45107601, -1.81517715],\n",
       "       [-0.16381714,  0.71719857, -0.63125648,  0.28874617, -0.01783836,\n",
       "        -0.19016685, -0.45107601, -1.81517715],\n",
       "       [-0.16381714,  0.71719857, -0.63125648,  0.28874617, -0.01783836,\n",
       "        -0.19016685, -0.45107601, -1.81517715],\n",
       "       [-0.16381714,  0.71719857, -0.63125648,  0.28874617, -0.01783836,\n",
       "        -0.19016685, -0.45107601, -1.81517715],\n",
       "       [-0.16381714,  0.71719857, -0.63125648,  0.28874617, -0.01783836,\n",
       "        -0.19016685, -0.45107601, -1.81517715],\n",
       "       [-0.16381714,  0.71719857, -0.63125648,  0.28874617, -0.01783836,\n",
       "        -0.19016685, -0.45107601, -1.81517715]])"
      ]
     },
     "execution_count": 22,
     "metadata": {},
     "output_type": "execute_result"
    }
   ],
   "source": [
    "y"
   ]
  },
  {
   "cell_type": "code",
   "execution_count": 23,
   "id": "3b46d4f7-8d8a-4da1-a0d3-9b52201c4a4f",
   "metadata": {},
   "outputs": [],
   "source": [
    "D, N = 8, 7\n",
    "x = np.random.randn(N, D)            # 입력\n",
    "y = np.sum(x, axis=0, keepdims=True) # 순전파"
   ]
  },
  {
   "cell_type": "code",
   "execution_count": 24,
   "id": "badfc576-772e-4cb1-b8f1-594aa223f034",
   "metadata": {},
   "outputs": [],
   "source": [
    "dy = np.random.randn(1, D)           # 무작위 기울기\n",
    "dx = np.repeat(dy, N, axis=0)        # 역전파"
   ]
  },
  {
   "cell_type": "code",
   "execution_count": 25,
   "id": "dd462b7d-b2a3-41ca-91c8-6a961b7f48da",
   "metadata": {},
   "outputs": [
    {
     "data": {
      "text/plain": [
       "array([[ 0.35219025, -0.45495367,  0.36368266, -0.74996849, -0.38662153,\n",
       "         0.03725416, -0.82056994, -1.00337554]])"
      ]
     },
     "execution_count": 25,
     "metadata": {},
     "output_type": "execute_result"
    }
   ],
   "source": [
    "dy"
   ]
  },
  {
   "cell_type": "code",
   "execution_count": 26,
   "id": "3134cfdc-ffdc-45f5-a48b-8b56344864c1",
   "metadata": {},
   "outputs": [
    {
     "data": {
      "text/plain": [
       "array([[ 0.35219025, -0.45495367,  0.36368266, -0.74996849, -0.38662153,\n",
       "         0.03725416, -0.82056994, -1.00337554],\n",
       "       [ 0.35219025, -0.45495367,  0.36368266, -0.74996849, -0.38662153,\n",
       "         0.03725416, -0.82056994, -1.00337554],\n",
       "       [ 0.35219025, -0.45495367,  0.36368266, -0.74996849, -0.38662153,\n",
       "         0.03725416, -0.82056994, -1.00337554],\n",
       "       [ 0.35219025, -0.45495367,  0.36368266, -0.74996849, -0.38662153,\n",
       "         0.03725416, -0.82056994, -1.00337554],\n",
       "       [ 0.35219025, -0.45495367,  0.36368266, -0.74996849, -0.38662153,\n",
       "         0.03725416, -0.82056994, -1.00337554],\n",
       "       [ 0.35219025, -0.45495367,  0.36368266, -0.74996849, -0.38662153,\n",
       "         0.03725416, -0.82056994, -1.00337554],\n",
       "       [ 0.35219025, -0.45495367,  0.36368266, -0.74996849, -0.38662153,\n",
       "         0.03725416, -0.82056994, -1.00337554]])"
      ]
     },
     "execution_count": 26,
     "metadata": {},
     "output_type": "execute_result"
    }
   ],
   "source": [
    "dx"
   ]
  },
  {
   "attachments": {
    "c7107b0c-e25a-4e52-a4ef-e4455c22e52f.png": {
     "image/png": "[encoded data removed]"
    }
   },
   "cell_type": "markdown",
   "id": "b6eaca82-b5a7-475c-8df5-fc92d2ceb834",
   "metadata": {},
   "source": [
    "https://velog.io/@sue1199842/%ED%8C%8C%EC%9D%B4%EC%8D%AC-%EC%96%95%EC%9D%80-%EB%B3%B5%EC%82%AC%EC%99%80-%EA%B9%8A%EC%9D%80-%EB%B3%B5%EC%82%AC\n",
    "\n",
    "![image.png](attachment:c7107b0c-e25a-4e52-a4ef-e4455c22e52f.png)\n",
    "\n",
    "- a = b : 메모리 위치가 같아짐\n",
    "- a[...] = b : 메모리 위치는 변하지 않고, 실제 데이터(원소) 복사"
   ]
  },
  {
   "cell_type": "code",
   "execution_count": 21,
   "id": "c8e3485a-87fa-4be5-9424-256e2f27226d",
   "metadata": {},
   "outputs": [],
   "source": [
    "class MatMul:\n",
    "    def __init__(self, W):\n",
    "        self.params = [W] # list\n",
    "        self.grads = [np.zeros_like(W)] # list '안'에 넘파이 어레이 1개\n",
    "                                        # (input, output)\n",
    "        self.x = None\n",
    "\n",
    "    def forward(self, x):\n",
    "        W, = self.params\n",
    "        out = np.matmul(x, W)\n",
    "        self.x = x\n",
    "        return out\n",
    "\n",
    "    def backward(self, dout):\n",
    "        W, = self.params\n",
    "        dx = np.matmul(dout, W.T)\n",
    "        dW = np.matmul(self.x.T, dout)\n",
    "        self.grads[0][...] = dW       # deep copy -> (...) 생략 ellipsis 기호, 메모리 위치 고정 \n",
    "                                      # shallow copy -> grads[0] = dW, 할당\n",
    "        return dx        "
   ]
  },
  {
   "cell_type": "code",
   "execution_count": 2,
   "id": "0a0c66c9-3916-4afe-ba9a-2b0bb0b0d28e",
   "metadata": {},
   "outputs": [],
   "source": [
    "import numpy as np"
   ]
  },
  {
   "cell_type": "code",
   "execution_count": 8,
   "id": "e7c0b38d-e7a4-495c-9ee9-f4661cbd404f",
   "metadata": {
    "scrolled": true
   },
   "outputs": [],
   "source": [
    "W = np.random.randn(8, 10)\n",
    "grads = [np.zeros_like(W)]"
   ]
  },
  {
   "cell_type": "code",
   "execution_count": 14,
   "id": "f6d89f05-1cb0-4faa-ad24-69d7c3f0d907",
   "metadata": {},
   "outputs": [
    {
     "data": {
      "text/plain": [
       "array([[0., 0., 0., 0., 0., 0., 0., 0., 0., 0.],\n",
       "       [0., 0., 0., 0., 0., 0., 0., 0., 0., 0.],\n",
       "       [0., 0., 0., 0., 0., 0., 0., 0., 0., 0.],\n",
       "       [0., 0., 0., 0., 0., 0., 0., 0., 0., 0.],\n",
       "       [0., 0., 0., 0., 0., 0., 0., 0., 0., 0.],\n",
       "       [0., 0., 0., 0., 0., 0., 0., 0., 0., 0.],\n",
       "       [0., 0., 0., 0., 0., 0., 0., 0., 0., 0.],\n",
       "       [0., 0., 0., 0., 0., 0., 0., 0., 0., 0.]])"
      ]
     },
     "execution_count": 14,
     "metadata": {},
     "output_type": "execute_result"
    }
   ],
   "source": [
    "grads[0]"
   ]
  },
  {
   "cell_type": "code",
   "execution_count": 20,
   "id": "7d33c410-79aa-49d7-b249-1223d9787a10",
   "metadata": {},
   "outputs": [
    {
     "data": {
      "text/plain": [
       "[array([[0., 0., 0., 0., 0., 0., 0., 0., 0., 0.],\n",
       "        [0., 0., 0., 0., 0., 0., 0., 0., 0., 0.],\n",
       "        [0., 0., 0., 0., 0., 0., 0., 0., 0., 0.],\n",
       "        [0., 0., 0., 0., 0., 0., 0., 0., 0., 0.],\n",
       "        [0., 0., 0., 0., 0., 0., 0., 0., 0., 0.],\n",
       "        [0., 0., 0., 0., 0., 0., 0., 0., 0., 0.],\n",
       "        [0., 0., 0., 0., 0., 0., 0., 0., 0., 0.],\n",
       "        [0., 0., 0., 0., 0., 0., 0., 0., 0., 0.]])]"
      ]
     },
     "execution_count": 20,
     "metadata": {},
     "output_type": "execute_result"
    }
   ],
   "source": [
    "grads"
   ]
  },
  {
   "cell_type": "code",
   "execution_count": 22,
   "id": "dd0b1f6d-09c4-4ec2-804b-88baf12677d2",
   "metadata": {},
   "outputs": [],
   "source": [
    "class Sigmoid:\n",
    "    def __init__(self):\n",
    "        self.params, self.grads = [], [] # list\n",
    "        self.out = out # backprop 때 사용 : y(1-y)\n",
    "\n",
    "    def forward(self, x):\n",
    "        out = 1 / (1 + np.exp(-x))\n",
    "        self.out = out\n",
    "        return out\n",
    "\n",
    "    def backward(self, dout):\n",
    "        dx = dout * (1.0 - self.out) * self.out # 0~1 실수\n",
    "        return dx"
   ]
  },
  {
   "cell_type": "code",
   "execution_count": 23,
   "id": "8f793153-7198-47fa-a941-5c3c3a8ebeb6",
   "metadata": {},
   "outputs": [],
   "source": [
    "class Affine:\n",
    "    def __init__ (self, W, b):\n",
    "        self.params = [W, b]\n",
    "        self.grads = [np.zeros_like(W), np.zeors_like(b)]\n",
    "        self.x = None\n",
    "\n",
    "    def forward(self, x):\n",
    "        W, b = self.params\n",
    "        out = np.matmul(x, W) + b # b, Repeat 노드 np.repeat(b, N, axis=0)\n",
    "                                  #                         = 배열b(output)를 N번 복제\n",
    "        self.x = x\n",
    "        return out\n",
    "\n",
    "    def backward(self, dout):\n",
    "        W, b = self.params\n",
    "        dx = np.matmul(dout, W.T)\n",
    "        dW = np.matmul(self.x.T, dout)\n",
    "        db = np.sum(dout, axis=0) # repeat node 역전파 = sum\n",
    "\n",
    "        self.grads[0][...] = dW\n",
    "        self.grads[1][...] = db\n",
    "        \n",
    "        return dx"
   ]
  },
  {
   "cell_type": "code",
   "execution_count": 24,
   "id": "6a5e9098-ca7d-449a-bfe1-bcf8c30340c1",
   "metadata": {},
   "outputs": [],
   "source": [
    "class SGD:\n",
    "    def __init__(self, lr=0.01):\n",
    "        self.lr = lr\n",
    "\n",
    "    def update(self, params, grads):\n",
    "        for i in range(len(params)):\n",
    "            params[i] -= self.lr * grads[i]"
   ]
  },
  {
   "cell_type": "markdown",
   "id": "95e4b04f-fed7-466b-bd7e-7299fe53571f",
   "metadata": {},
   "source": [
    "model = TwoLayerNet(...)<br>\n",
    "optimizer = SGD()<br><br>\n",
    "\n",
    "for i in range(10000):<br>\n",
    "            ...<br>\n",
    "            model.backward()<br>\n",
    "            optimizer.update(model.params, model.grads)  # update(p, g) 공통 메서드<br>\n",
    "            ..."
   ]
  },
  {
   "cell_type": "code",
   "execution_count": 25,
   "id": "ae023120-8aff-4d59-a9d7-ad5733dc36f3",
   "metadata": {},
   "outputs": [],
   "source": [
    "# coding: utf-8\n",
    "import numpy as np\n",
    "\n",
    "def load_data(seed=1984):\n",
    "    np.random.seed(seed)\n",
    "    N = 100  # 클래스당 샘플 수\n",
    "    DIM = 2  # 데어터 요소 수\n",
    "    CLS_NUM = 3  # 클래스 수\n",
    "\n",
    "    x = np.zeros((N*CLS_NUM, DIM))\n",
    "    t = np.zeros((N*CLS_NUM, CLS_NUM), dtype=np.int)\n",
    "\n",
    "    for j in range(CLS_NUM):\n",
    "        for i in range(N): # N*j, N*(j+1)):\n",
    "            rate = i / N\n",
    "            radius = 1.0*rate\n",
    "            theta = j*4.0 + 4.0*rate + np.random.randn()*0.2\n",
    "\n",
    "            ix = N*j + i\n",
    "            x[ix] = np.array([radius*np.sin(theta),\n",
    "                              radius*np.cos(theta)]).flatten()\n",
    "            t[ix, j] = 1\n",
    "\n",
    "    return x, t"
   ]
  },
  {
   "cell_type": "code",
   "execution_count": 3,
   "id": "54e5bc47-3818-44e7-a42f-11f8ca4e135d",
   "metadata": {},
   "outputs": [
    {
     "name": "stdout",
     "output_type": "stream",
     "text": [
      "x (300, 2)\n",
      "t (300, 3)\n"
     ]
    }
   ],
   "source": [
    "import sys\n",
    "sys.path.append('..') # os.pardir\n",
    "from dataset import spiral\n",
    "import matplotlib.pyplot as plt\n",
    "\n",
    "x, t = spiral.load_data()\n",
    "print('x', x.shape)\n",
    "print('t', t.shape)\n",
    "\n",
    "# 나선형, 입력2차원, 3중클래스 분류 -> 비선형 분리 학습해야 함!!"
   ]
  },
  {
   "cell_type": "code",
   "execution_count": 18,
   "id": "0b583d74-3439-4d4d-a069-c7fdfe4a0a3b",
   "metadata": {},
   "outputs": [],
   "source": [
    "import sys\n",
    "sys.path.append('..')\n",
    "import numpy as np\n",
    "from common.layers import Affine, Sigmoid, SoftmaxWithLoss\n",
    "\n",
    "class TwoLayerNet:\n",
    "    def __init__(self, input_size, hidden_size, output_size):\n",
    "        I, H, O = input_size, hidden_size, output_size\n",
    "\n",
    "        # 가중치 편향 초기화\n",
    "        W1 = 0.01 * np.random.randn(I, H)\n",
    "        b1 = np.zeros(H)\n",
    "        W2 = 0.01 * np.random.randn(H, O)\n",
    "        b2 = np.zeros(O)\n",
    "    \n",
    "        # 계층 생성\n",
    "        self.layers = [\n",
    "            Affine(W1, b1),\n",
    "            Sigmoid(),\n",
    "            Affine(W2, b2)\n",
    "        ]\n",
    "        self.loss_layer = SoftmaxWithLoss()\n",
    "    \n",
    "        # 모든 가중치와 기울기를 리스트에 모은다.\n",
    "        self.params, self.grads = [], []\n",
    "        for layer in self.layers:\n",
    "            self.params += layer.params\n",
    "            self.grads += layer.grads\n",
    "\n",
    "    def predict(self, x):\n",
    "        for layer in self.layers:\n",
    "            x = layer.forward(x)\n",
    "        return x\n",
    "\n",
    "    def forward(self, x, t):\n",
    "        score = self.predict(x)\n",
    "        loss = self.loss_layer.forward(score, t)\n",
    "        return loss\n",
    "\n",
    "    def backward(self, dout=1):\n",
    "        dout = self.loss_layer.backward(dout)\n",
    "        for layer in reversed(self.layers):\n",
    "            dout = layer.backward(dout)\n",
    "        return dout\n",
    "\n",
    "    def accuracy(self, x, t):\n",
    "        y = self.predict(x)\n",
    "        y = np.argmax(y, axis=1)\n",
    "        if t.ndim != 1 : t = np.argmax(t, axis=1)\n",
    "\n",
    "        accuracy = np.sum(y == t) / float(x.shape[0])\n",
    "        return accuracy"
   ]
  },
  {
   "cell_type": "code",
   "execution_count": null,
   "id": "a35c2e1b-5f96-4261-8170-53e8b9c1d9a5",
   "metadata": {
    "scrolled": true
   },
   "outputs": [],
   "source": [
    "import sys\n",
    "sys.path.append('..')\n",
    "import numpy as np\n",
    "from common.optimizer import SGD\n",
    "from dataset import spiral\n",
    "import matplotlib.pyplot as plt\n",
    "#from two_layer_net import TwoLayerNet\n",
    "\n",
    "# ==== 1. 하이퍼 파라미터 설정 (에폭 수, 미니배치 크기, 히든 뉴런 수, 학습률) =====\n",
    "max_epoch = 300\n",
    "batch_size = 30\n",
    "hidden_size = 10\n",
    "learning_rate = 1.0\n",
    "\n",
    "# ==== 2. 데이터 읽기 & 모델 & 옵티마이저 설정 ====\n",
    "x, t = spiral.load_data()\n",
    "model = TwoLayerNet(input_size=2, hidden_size=hidden_size, output_size=3)\n",
    "optimizer = SGD(lr=learning_rate)\n",
    "\n",
    "# 학습에 사용하는 변수\n",
    "data_size = len(x)\n",
    "max_iters = data_size // batch_size # 1에폭 : 10\n",
    "total_loss = 0\n",
    "loss_count = 0\n",
    "loss_list = []\n",
    "\n",
    "for epoch in range(max_epoch):\n",
    "    # ==== 3. 데이터 뒤섞기 ====\n",
    "    idx = np.random.permutation(data_size) # 인덱스 무작위 순서 생성\n",
    "    x = x[idx]\n",
    "    t = t[idx]\n",
    "\n",
    "    for iters in range(max_iters):\n",
    "        batch_x = x[iters*batch_size:(iters+1)*batch_size]\n",
    "        batch_t = t[iters*batch_size:(iters+1)*batch_size]\n",
    "\n",
    "        # ==== 4. 기울기를 구해 매개변수 갱신 (loss=for, back, opti) ====\n",
    "        loss = model.forward(batch_x, batch_t)\n",
    "        model.backward()\n",
    "        optimizer.update(model.params, model.grads)\n",
    "\n",
    "        total_loss += loss\n",
    "        loss_count += 1\n",
    "\n",
    "        # ==== 5. 학습 경과 출력 ====\n",
    "        if (iters+1) % 10 == 0: # 10회마다 (=1에폭마다)\n",
    "            avg_loss = total_loss / loss_count # loss 평균!\n",
    "            print('| 에폭 %d | 반복 %d / %d | 손실 %.2f' \n",
    "                  % (epoch + 1, iters + 1, max_iters, avg_loss))\n",
    "            loss_list.append(avg_loss)\n",
    "            total_loss, loss_count = 0, 0 # 다시 초기화            "
   ]
  },
  {
   "cell_type": "code",
   "execution_count": 20,
   "id": "b0e40a27-5c87-491a-ad1f-97e307af25ad",
   "metadata": {},
   "outputs": [],
   "source": [
    "accuracy = model.accuracy(x, t)"
   ]
  },
  {
   "cell_type": "code",
   "execution_count": 21,
   "id": "c9527fe6-b4cb-4021-81db-952efcf43dd0",
   "metadata": {},
   "outputs": [
    {
     "data": {
      "text/plain": [
       "0.97"
      ]
     },
     "execution_count": 21,
     "metadata": {},
     "output_type": "execute_result"
    }
   ],
   "source": [
    "accuracy"
   ]
  },
  {
   "cell_type": "code",
   "execution_count": 2,
   "id": "bf42e1a1-2f30-4fb9-8960-12a5281047c3",
   "metadata": {},
   "outputs": [
    {
     "data": {
      "image/png": "[encoded data removed]",
      "text/plain": [
       "<Figure size 640x480 with 1 Axes>"
      ]
     },
     "metadata": {},
     "output_type": "display_data"
    },
    {
     "data": {
      "image/png": "[encoded data removed]",
      "text/plain": [
       "<Figure size 640x480 with 1 Axes>"
      ]
     },
     "metadata": {},
     "output_type": "display_data"
    }
   ],
   "source": [
    "# 학습 결과 플롯\n",
    "plt.plot(np.arange(len(loss_list)), loss_list, label='train')\n",
    "plt.xlabel('iterations (x10)')\n",
    "plt.ylabel('loss')\n",
    "plt.show()\n",
    "\n",
    "# 경계 영역 플롯\n",
    "h = 0.001\n",
    "x_min, x_max = x[:, 0].min() - .1, x[:, 0].max() + .1\n",
    "y_min, y_max = x[:, 1].min() - .1, x[:, 1].max() + .1\n",
    "xx, yy = np.meshgrid(np.arange(x_min, x_max, h), np.arange(y_min, y_max, h))\n",
    "X = np.c_[xx.ravel(), yy.ravel()]\n",
    "score = model.predict(X)\n",
    "predict_cls = np.argmax(score, axis=1)\n",
    "Z = predict_cls.reshape(xx.shape)\n",
    "plt.contourf(xx, yy, Z)\n",
    "plt.axis('off')\n",
    "\n",
    "# 데이터점 플롯\n",
    "x, t = spiral.load_data()\n",
    "N = 100\n",
    "CLS_NUM = 3\n",
    "markers = ['o', 'x', '^']\n",
    "for i in range(CLS_NUM):\n",
    "    plt.scatter(x[i*N:(i+1)*N, 0], x[i*N:(i+1)*N, 1], s=40, marker=markers[i])\n",
    "plt.show()"
   ]
  },
  {
   "cell_type": "code",
   "execution_count": 4,
   "id": "91f96f1a-57f5-4cc9-b076-6829959a7827",
   "metadata": {},
   "outputs": [
    {
     "name": "stdout",
     "output_type": "stream",
     "text": [
      "| 에폭 1 |  반복 1 / 9 | 시간 0[s] | 손실 1.10\n",
      "| 에폭 2 |  반복 1 / 9 | 시간 0[s] | 손실 1.18\n",
      "| 에폭 3 |  반복 1 / 9 | 시간 0[s] | 손실 1.17\n",
      "| 에폭 4 |  반복 1 / 9 | 시간 0[s] | 손실 1.17\n",
      "| 에폭 5 |  반복 1 / 9 | 시간 0[s] | 손실 1.13\n",
      "| 에폭 6 |  반복 1 / 9 | 시간 0[s] | 손실 1.11\n",
      "| 에폭 7 |  반복 1 / 9 | 시간 0[s] | 손실 1.12\n",
      "| 에폭 8 |  반복 1 / 9 | 시간 0[s] | 손실 1.14\n",
      "| 에폭 9 |  반복 1 / 9 | 시간 0[s] | 손실 1.12\n",
      "| 에폭 10 |  반복 1 / 9 | 시간 0[s] | 손실 1.11\n",
      "| 에폭 11 |  반복 1 / 9 | 시간 0[s] | 손실 1.12\n",
      "| 에폭 12 |  반복 1 / 9 | 시간 0[s] | 손실 1.11\n",
      "| 에폭 13 |  반복 1 / 9 | 시간 0[s] | 손실 1.12\n",
      "| 에폭 14 |  반복 1 / 9 | 시간 0[s] | 손실 1.13\n",
      "| 에폭 15 |  반복 1 / 9 | 시간 0[s] | 손실 1.08\n",
      "| 에폭 16 |  반복 1 / 9 | 시간 0[s] | 손실 1.11\n",
      "| 에폭 17 |  반복 1 / 9 | 시간 0[s] | 손실 1.07\n",
      "| 에폭 18 |  반복 1 / 9 | 시간 0[s] | 손실 1.02\n",
      "| 에폭 19 |  반복 1 / 9 | 시간 0[s] | 손실 1.00\n",
      "| 에폭 20 |  반복 1 / 9 | 시간 0[s] | 손실 0.98\n",
      "| 에폭 21 |  반복 1 / 9 | 시간 0[s] | 손실 0.91\n",
      "| 에폭 22 |  반복 1 / 9 | 시간 0[s] | 손실 0.90\n",
      "| 에폭 23 |  반복 1 / 9 | 시간 0[s] | 손실 0.86\n",
      "| 에폭 24 |  반복 1 / 9 | 시간 0[s] | 손실 0.85\n",
      "| 에폭 25 |  반복 1 / 9 | 시간 0[s] | 손실 0.82\n",
      "| 에폭 26 |  반복 1 / 9 | 시간 0[s] | 손실 0.83\n",
      "| 에폭 27 |  반복 1 / 9 | 시간 0[s] | 손실 0.80\n",
      "| 에폭 28 |  반복 1 / 9 | 시간 0[s] | 손실 0.77\n",
      "| 에폭 29 |  반복 1 / 9 | 시간 0[s] | 손실 0.79\n",
      "| 에폭 30 |  반복 1 / 9 | 시간 0[s] | 손실 0.76\n"
     ]
    },
    {
     "data": {
      "image/png": "[encoded data removed]",
      "text/plain": [
       "<Figure size 640x480 with 1 Axes>"
      ]
     },
     "metadata": {},
     "output_type": "display_data"
    }
   ],
   "source": [
    "import sys\n",
    "sys.path.append('..')\n",
    "from common.optimizer import SGD\n",
    "from common.trainer import Trainer\n",
    "from dataset import spiral\n",
    "from two_layer_net import TwoLayerNet\n",
    "\n",
    "# 1. hyperparams\n",
    "max_epochs = 300\n",
    "batch_size = 30\n",
    "hidden_size = 10\n",
    "learning_rate = 1.0\n",
    "\n",
    "# 2. data & model & optimizer\n",
    "x, t = spiral.load_data()\n",
    "model = TwoLayerNet(input_size=2, hidden_size=hidden_size, output_size=3)\n",
    "optimizer = SGD(lr=learning_rate)\n",
    "\n",
    "# train\n",
    "trainer = Trainer(model, optimizer)\n",
    "trainer.fit(x, t, batch_size, eval_interval=10) # eval_interval (손실 등 출력 간격)\n",
    "                                                # max_grad (기울기 최대 norm, clipping)\n",
    "plt.rcParams['font.family'] = 'NanumGothic'\n",
    "trainer.plot()"
   ]
  },
  {
   "cell_type": "code",
   "execution_count": 6,
   "id": "5ea0b2f5-cc14-42d1-9f5b-3c99cb6c611b",
   "metadata": {},
   "outputs": [
    {
     "data": {
      "text/plain": [
       "dtype('float64')"
      ]
     },
     "execution_count": 6,
     "metadata": {},
     "output_type": "execute_result"
    }
   ],
   "source": [
    "a = np.random.randn(3)\n",
    "a.dtype"
   ]
  },
  {
   "cell_type": "code",
   "execution_count": 8,
   "id": "9a16e9c1-53f3-48dc-92f2-f3103f8d5f3f",
   "metadata": {},
   "outputs": [
    {
     "data": {
      "text/plain": [
       "dtype('float32')"
      ]
     },
     "execution_count": 8,
     "metadata": {},
     "output_type": "execute_result"
    }
   ],
   "source": [
    "b = a.astype(np.float32)\n",
    "b.dtype"
   ]
  },
  {
   "cell_type": "code",
   "execution_count": 12,
   "id": "fe493b94-0ca7-4e93-a30f-0244f2eb6d36",
   "metadata": {},
   "outputs": [
    {
     "data": {
      "text/plain": [
       "dtype('float32')"
      ]
     },
     "execution_count": 12,
     "metadata": {},
     "output_type": "execute_result"
    }
   ],
   "source": [
    "c = np.random.randn(3).astype('f')\n",
    "c.dtype"
   ]
  },
  {
   "cell_type": "code",
   "execution_count": null,
   "id": "0a63b6d0-b721-4ed7-bda4-7288fa74d514",
   "metadata": {},
   "outputs": [],
   "source": [
    "import cupy as cp\n",
    "x = cp.arange(6).reshape(2, 3).astype('f')\n",
    "x.sum(axis=1)"
   ]
  }
 ],
 "metadata": {
  "kernelspec": {
   "display_name": "Python 3 (ipykernel)",
   "language": "python",
   "name": "python3"
  },
  "language_info": {
   "codemirror_mode": {
    "name": "ipython",
    "version": 3
   },
   "file_extension": ".py",
   "mimetype": "text/x-python",
   "name": "python",
   "nbconvert_exporter": "python",
   "pygments_lexer": "ipython3",
   "version": "3.9.13"
  }
 },
 "nbformat": 4,
 "nbformat_minor": 5
}
