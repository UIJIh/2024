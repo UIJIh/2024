{
 "cells": [
  {
   "cell_type": "code",
   "execution_count": 2,
   "id": "6175b797-92b5-4a5b-9ae3-cb2d47f9c1eb",
   "metadata": {},
   "outputs": [
    {
     "name": "stdout",
     "output_type": "stream",
     "text": [
      "[[0.34881815 1.72459666 1.04010204]]\n"
     ]
    }
   ],
   "source": [
    "import numpy as np\n",
    "\n",
    "c = np.array([[1, 0, 0, 0, 0, 0, 0]]) # input\n",
    "W = np.random.randn(7, 3)          # weight\n",
    "h = np.matmul(c, W)                # 중간 노드\n",
    "print(h)"
   ]
  },
  {
   "cell_type": "code",
   "execution_count": 6,
   "id": "c171bee7-4ef5-4558-82ab-6ead9ca3a4bc",
   "metadata": {},
   "outputs": [],
   "source": [
    "class MatMul:\n",
    "    def __init__(self, W):\n",
    "        self.params = [W]\n",
    "        self.grads = [np.zeros_like(W)]\n",
    "        self.x = None\n",
    "\n",
    "    def forward(self, x):\n",
    "        W, = self.params\n",
    "        out = np.dot(x, W)\n",
    "        self.x = x\n",
    "        return out\n",
    "\n",
    "    def backward(self, dout):\n",
    "        W, = self.params\n",
    "        dx = np.dot(dout, W.T)\n",
    "        dW = np.dot(self.x.T, dout)\n",
    "        self.grads[0][...] = dW\n",
    "        return dx"
   ]
  },
  {
   "cell_type": "code",
   "execution_count": 7,
   "id": "dae2c2df-af41-4e80-97a7-67a11774fcb3",
   "metadata": {},
   "outputs": [
    {
     "data": {
      "text/plain": [
       "[array([[-1.00454817,  0.81768279, -0.74224535],\n",
       "        [ 0.098616  , -1.08278578, -1.30831411]])]"
      ]
     },
     "execution_count": 7,
     "metadata": {},
     "output_type": "execute_result"
    }
   ],
   "source": [
    "W = np.random.randn(2, 3)\n",
    "new_W = [W]\n",
    "new_W"
   ]
  },
  {
   "cell_type": "code",
   "execution_count": 10,
   "id": "1124c210-7dbe-4c96-871b-721b5b107119",
   "metadata": {},
   "outputs": [
    {
     "name": "stdout",
     "output_type": "stream",
     "text": [
      "[[-0.59647672 -1.64404408 -1.72826619]]\n"
     ]
    }
   ],
   "source": [
    "import sys\n",
    "sys.path.append('..')\n",
    "import numpy as np\n",
    "from common.layers import MatMul\n",
    "\n",
    "c = np.array([[1, 0, 0, 0, 0, 0, 0]]) # input (1,7)\n",
    "W = np.random.randn(7, 3)             # weight (7, 3)\n",
    "layer = MatMul(W) # 인스턴스 변수 : (params, grads)\n",
    "h = layer.forward(c)                  # output (1, 3)\n",
    "\n",
    "print(h)"
   ]
  },
  {
   "cell_type": "code",
   "execution_count": 39,
   "id": "378cba35-9cd5-4f2f-aa8d-f1da13db434c",
   "metadata": {},
   "outputs": [
    {
     "name": "stdout",
     "output_type": "stream",
     "text": [
      "[[-0.07974227 -0.66596643 -0.178495    0.58824254 -0.50354894 -0.58708193\n",
      "   0.62156087]]\n"
     ]
    }
   ],
   "source": [
    "import sys\n",
    "sys.path.append('..')\n",
    "import numpy as np\n",
    "from common.layers import MatMul\n",
    "\n",
    "# 샘플 맥락 데이터\n",
    "c0 = np.array([[1, 0, 0, 0, 0, 0, 0]])\n",
    "c1 = np.array([[0, 0, 1, 0, 0, 0, 0]])\n",
    "\n",
    "# 가중치 초기화\n",
    "W_in = np.random.randn(7, 3) # 분산 표현\n",
    "W_out = np.random.randn(3, 7)\n",
    "\n",
    "# 계층 생성\n",
    "in_layer0 = MatMul(W_in)\n",
    "in_layer1 = MatMul(W_in)\n",
    "out_layer = MatMul(W_out)\n",
    "\n",
    "# 순전파\n",
    "h0 = in_layer0.forward(c0)   # 1. matmul\n",
    "h1 = in_layer1.forward(c1)\n",
    "h = 0.5 * (h0 + h1)          # 2. 더한다.\n",
    "                             # 3. 평균\n",
    "s = out_layer.forward(h)     # 4. matmul\n",
    "\n",
    "print(s)                     # 각 단어의 점수 (높은 점수, 높은 확률)"
   ]
  },
  {
   "cell_type": "code",
   "execution_count": 40,
   "id": "af8c198c-a58b-410d-b5c1-38fddbf70a21",
   "metadata": {},
   "outputs": [
    {
     "name": "stdout",
     "output_type": "stream",
     "text": [
      "[0 1 2 3 4 1 5 6]\n",
      "{0: 'you', 1: 'say', 2: 'goodbye', 3: 'and', 4: 'i', 5: 'hello', 6: '.'}\n"
     ]
    }
   ],
   "source": [
    "import sys\n",
    "sys.path.append('..')\n",
    "from common.util import preprocess\n",
    "\n",
    "text = 'You say goodbye and I say hello.'\n",
    "corpus, word_to_id, id_to_word = preprocess(text)\n",
    "print(corpus)\n",
    "print(id_to_word)"
   ]
  },
  {
   "cell_type": "code",
   "execution_count": 41,
   "id": "62acbb88-de51-4959-a242-e8561df7bdf3",
   "metadata": {},
   "outputs": [],
   "source": [
    "def create_contexts_target(corpus, window_size=1):\n",
    "    # 1. target : 양 끝 제외!!\n",
    "    target = corpus[window_size:-window_size] \n",
    "    \n",
    "    # 2. contexts    \n",
    "    contexts = [] # list\n",
    "    for idx in range(window_size, len(corpus)-window_size): # target기준, corpus[window_size:-window_size]\n",
    "        cs = []   # list\n",
    "        for t in range(-window_size, window_size + 1): # 윈도우만큼 왼/오\n",
    "            if t == 0: # 가운데는 target\n",
    "                continue\n",
    "            cs.append(corpus[idx + t])\n",
    "        contexts.append(cs)\n",
    "        \n",
    "    return np.array(contexts), np.array(target)"
   ]
  },
  {
   "cell_type": "code",
   "execution_count": 8,
   "id": "4199e7aa-b1c2-4360-b145-81436409c7ae",
   "metadata": {},
   "outputs": [
    {
     "data": {
      "text/plain": [
       "array([0, 1, 2, 3, 4, 1, 5, 6])"
      ]
     },
     "execution_count": 8,
     "metadata": {},
     "output_type": "execute_result"
    }
   ],
   "source": [
    "corpus"
   ]
  },
  {
   "cell_type": "code",
   "execution_count": 9,
   "id": "aa001052-093e-4ce0-83b0-fdae5f476b72",
   "metadata": {},
   "outputs": [
    {
     "data": {
      "text/plain": [
       "array([1, 2, 3, 4, 1, 5])"
      ]
     },
     "execution_count": 9,
     "metadata": {},
     "output_type": "execute_result"
    }
   ],
   "source": [
    "corpus[1:-1]"
   ]
  },
  {
   "cell_type": "code",
   "execution_count": 10,
   "id": "34a9b0af-1d5c-4ba0-b4ce-0da3d8a369ca",
   "metadata": {},
   "outputs": [
    {
     "data": {
      "text/plain": [
       "array([2, 3, 4, 1])"
      ]
     },
     "execution_count": 10,
     "metadata": {},
     "output_type": "execute_result"
    }
   ],
   "source": [
    "corpus[2:-2]"
   ]
  },
  {
   "cell_type": "code",
   "execution_count": 11,
   "id": "48976e14-3666-4688-87ea-53ec2d1fec3f",
   "metadata": {},
   "outputs": [
    {
     "data": {
      "text/plain": [
       "array([3, 4])"
      ]
     },
     "execution_count": 11,
     "metadata": {},
     "output_type": "execute_result"
    }
   ],
   "source": [
    "corpus[3:-3]"
   ]
  },
  {
   "cell_type": "code",
   "execution_count": 42,
   "id": "72e8707e-719d-4b29-a411-27dffb7855d4",
   "metadata": {},
   "outputs": [
    {
     "name": "stdout",
     "output_type": "stream",
     "text": [
      "corpus : [0 1 2 3 4 1 5 6] \n",
      "\n",
      "contexts \n",
      "[[0 2]\n",
      " [1 3]\n",
      " [2 4]\n",
      " [3 1]\n",
      " [4 5]\n",
      " [1 6]]\n",
      "\n",
      "target \n",
      "[1 2 3 4 1 5]\n"
     ]
    }
   ],
   "source": [
    "contexts, target = create_contexts_target(corpus, window_size=1)\n",
    "\n",
    "print(f'corpus : {corpus} \\n')\n",
    "\n",
    "print(f'contexts \\n{contexts}')\n",
    "print(f'\\ntarget \\n{target}')"
   ]
  },
  {
   "cell_type": "code",
   "execution_count": 27,
   "id": "91951ef6-d5f1-4e8f-acaf-f1a6035a222c",
   "metadata": {},
   "outputs": [
    {
     "data": {
      "text/plain": [
       "array([[0, 1, 0, 0, 0, 0, 0],\n",
       "       [0, 0, 1, 0, 0, 0, 0],\n",
       "       [0, 0, 0, 1, 0, 0, 0],\n",
       "       [0, 0, 0, 0, 1, 0, 0],\n",
       "       [0, 1, 0, 0, 0, 0, 0],\n",
       "       [0, 0, 0, 0, 0, 1, 0]], dtype=int32)"
      ]
     },
     "execution_count": 27,
     "metadata": {},
     "output_type": "execute_result"
    }
   ],
   "source": [
    "import sys\n",
    "sys.path.append('..')\n",
    "from common.util import preprocess, create_contexts_target, convert_one_hot\n",
    "\n",
    "text = 'You say goodbye and I say hello.'\n",
    "corpus, word_to_id, id_to_word = preprocess(text)\n",
    "\n",
    "contexts, target = create_contexts_target(corpus, window_size=1)\n",
    "\n",
    "vocab_size = len(word_to_id)\n",
    "target = convert_one_hot(target, vocab_size)\n",
    "contexts = convert_one_hot(contexts, vocab_size)\n",
    "\n",
    "target"
   ]
  },
  {
   "cell_type": "code",
   "execution_count": 28,
   "id": "1d3d238c-41b4-4964-93d8-a1f703944ff2",
   "metadata": {},
   "outputs": [
    {
     "data": {
      "text/plain": [
       "array([[[1, 0, 0, 0, 0, 0, 0],\n",
       "        [0, 0, 1, 0, 0, 0, 0]],\n",
       "\n",
       "       [[0, 1, 0, 0, 0, 0, 0],\n",
       "        [0, 0, 0, 1, 0, 0, 0]],\n",
       "\n",
       "       [[0, 0, 1, 0, 0, 0, 0],\n",
       "        [0, 0, 0, 0, 1, 0, 0]],\n",
       "\n",
       "       [[0, 0, 0, 1, 0, 0, 0],\n",
       "        [0, 1, 0, 0, 0, 0, 0]],\n",
       "\n",
       "       [[0, 0, 0, 0, 1, 0, 0],\n",
       "        [0, 0, 0, 0, 0, 1, 0]],\n",
       "\n",
       "       [[0, 1, 0, 0, 0, 0, 0],\n",
       "        [0, 0, 0, 0, 0, 0, 1]]], dtype=int32)"
      ]
     },
     "execution_count": 28,
     "metadata": {},
     "output_type": "execute_result"
    }
   ],
   "source": [
    "contexts"
   ]
  },
  {
   "cell_type": "code",
   "execution_count": 29,
   "id": "ead26d65-9c0f-4d42-bdf1-47146335ea88",
   "metadata": {},
   "outputs": [
    {
     "data": {
      "text/plain": [
       "array([0, 1, 2, 3, 4, 1, 5, 6])"
      ]
     },
     "execution_count": 29,
     "metadata": {},
     "output_type": "execute_result"
    }
   ],
   "source": [
    "corpus"
   ]
  },
  {
   "cell_type": "code",
   "execution_count": 30,
   "id": "62158b04-4ddb-48ae-8f83-917c52d3c3c5",
   "metadata": {},
   "outputs": [
    {
     "data": {
      "text/plain": [
       "{'you': 0, 'say': 1, 'goodbye': 2, 'and': 3, 'i': 4, 'hello': 5, '.': 6}"
      ]
     },
     "execution_count": 30,
     "metadata": {},
     "output_type": "execute_result"
    }
   ],
   "source": [
    "word_to_id"
   ]
  },
  {
   "cell_type": "code",
   "execution_count": 45,
   "id": "f1a5cb5c-3839-476e-acec-280fc1967c6e",
   "metadata": {},
   "outputs": [],
   "source": [
    "def convert_one_hot(corpus, vocab_size):\n",
    "    '''원핫 표현으로 변환\n",
    "\n",
    "    :param corpus: target/contexts 단어 ID 목록(1차원 또는 2차원 넘파이 배열)\n",
    "    :param vocab_size: 어휘 수 -> 고정 길이 벡터 위함!!\n",
    "    :return: 원핫 표현(2차원 또는 3차원 넘파이 배열)\n",
    "    '''\n",
    "    N = corpus.shape[0] # target(1차원)/contexts(2차원) 개수\n",
    "\n",
    "    if corpus.ndim == 1:  # target이라면 (N,) -> (N, vocab_size)\n",
    "        one_hot = np.zeros((N, vocab_size), dtype=np.int32)\n",
    "        for idx, word_id in enumerate(corpus):\n",
    "            one_hot[idx, word_id] = 1  # [2] -> [0 0 1 0 0 ...]\n",
    "\n",
    "    elif corpus.ndim == 2: # contexts라면 (N, win*2) -> (N, win*2, vocab_size)\n",
    "        C = corpus.shape[1] # win*2\n",
    "        one_hot = np.zeros((N, C, vocab_size), dtype=np.int32) # 어휘 당 vocab_size 고정길이벡터\n",
    "        for idx_0, word_ids in enumerate(corpus): # contexts IDs 한 줄씩(N,C) [0,2] [1,3]...\n",
    "            for idx_1, word_id in enumerate(word_ids): # 한 줄안에 IDs 각각 변환(vocab_size)\n",
    "                one_hot[idx_0, idx_1, word_id] = 1     # [0, 0, 2(2번째,해당context)]\n",
    "\n",
    "    return one_hot"
   ]
  },
  {
   "cell_type": "code",
   "execution_count": 43,
   "id": "907f1552-9125-4728-99f8-eff508832704",
   "metadata": {},
   "outputs": [
    {
     "name": "stdout",
     "output_type": "stream",
     "text": [
      "corpus : (0, array([0, 2]))\n",
      "corpus : (1, array([1, 3]))\n",
      "corpus : (2, array([2, 4]))\n",
      "corpus : (3, array([3, 1]))\n",
      "corpus : (4, array([4, 5]))\n",
      "corpus : (5, array([1, 6]))\n"
     ]
    }
   ],
   "source": [
    "corpus = contexts\n",
    "N = corpus.shape[0]\n",
    "C = corpus.shape[1]\n",
    "one_hot = np.zeros((N, C, vocab_size), dtype=np.int32)\n",
    "for idx_0, word_ids in enumerate(corpus): # contexts ID\n",
    "    print(f'corpus : {idx_0, word_ids}')\n",
    "    for idx_1, word_id in enumerate(word_ids):\n",
    "        one_hot[idx_0, idx_1, word_id] = 1"
   ]
  },
  {
   "cell_type": "code",
   "execution_count": 49,
   "id": "299f7d54-c2d3-4c4e-b635-8d73526b3f25",
   "metadata": {},
   "outputs": [],
   "source": [
    "import sys\n",
    "sys.path.append('..')\n",
    "import numpy as np\n",
    "from common.layers import MatMul, SoftmaxWithLoss\n",
    "\n",
    "class SimpleCBOW:\n",
    "    def __init__(self, vocab_size, hidden_size):\n",
    "        '''\n",
    "        인스턴스 변수\n",
    "        params, grads, ! word_vecs !\n",
    "        '''\n",
    "        \n",
    "        V, H = vocab_size, hidden_size\n",
    "\n",
    "        # 1. 가중치 초기화\n",
    "        W_in = 0.01 * np.random.randn(V, H).astype('f')\n",
    "        W_out = 0.01 * np.random.randn(H, V).astype('f')\n",
    "\n",
    "        # 2. 계층 생성 (contexts 2개)\n",
    "        self.in_layer0 = MatMul(W_in) # context1\n",
    "        self.in_layer1 = MatMul(W_in) # context2\n",
    "        self.out_layer = MatMul(W_out)\n",
    "        self.loss_layer = SoftmaxWithLoss()\n",
    "\n",
    "        # 3. 모든 가중치와 기울기를 리스트에 모은다.\n",
    "        layers = [self.in_layer0, self.in_layer1, self.out_layer]\n",
    "        self.params, self.grads = [], []\n",
    "        for layer in layers:\n",
    "            self.params += layer.params\n",
    "            self.grads += layer.grads\n",
    "\n",
    "        # 4. 인스턴스 변수에 단어의 분산 표현을 저장한다.\n",
    "        self.word_vecs = W_in"
   ]
  },
  {
   "cell_type": "code",
   "execution_count": 51,
   "id": "1239ebe4-b56b-4059-9b8d-1276155b906f",
   "metadata": {},
   "outputs": [
    {
     "data": {
      "text/plain": [
       "dtype('float32')"
      ]
     },
     "execution_count": 51,
     "metadata": {},
     "output_type": "execute_result"
    }
   ],
   "source": [
    "mat = np.random.randn(2, 3).astype('f')\n",
    "mat.dtype"
   ]
  },
  {
   "cell_type": "code",
   "execution_count": 52,
   "id": "9fd2ed56-75f3-4244-b8fd-a3ff6a4323db",
   "metadata": {},
   "outputs": [],
   "source": [
    "def forward(self, contexts, target):\n",
    "    '''\n",
    "    - contexts 3차원\n",
    "        0차원 : 미니배치 수\n",
    "        1차원 : 윈도우 크기*2\n",
    "        2차원 : 원핫 벡터(vocab_size)\n",
    "\n",
    "    - target 2차원(배치 수, 원핫)\n",
    "    '''\n",
    "    \n",
    "    h0 = self.in_layer0.forward(contexts[:,0]) # MatMul.forward()\n",
    "    h1 = self.in_layer1.forward(contexts[:,1])\n",
    "    h = (h0 + h1) * 0.5 # 평균\n",
    "    score = self.out_layer.forward(h)\n",
    "    loss = self.loss_layer.forward(score, target)\n",
    "    return loss\n",
    "\n",
    "def backward(self, dout=1):\n",
    "    ds = self.loss_layer.backward(dout)\n",
    "    da = self.out_layer.backward(ds)\n",
    "    da *= 0.5 # 순전파 입력을 서로 바꿔 기울기에 곱\n",
    "    self.in_layer1.backward(da) # 그대로 흘림\n",
    "    self.in_layer0.backward(da) # 그대로 흘림\n",
    "    return None   "
   ]
  },
  {
   "cell_type": "code",
   "execution_count": null,
   "id": "d46655ba-2214-43ce-b3c1-676445ce4962",
   "metadata": {},
   "outputs": [],
   "source": [
    "import sys\n",
    "sys.path.append('..')\n",
    "from common.trainer import Trainer\n",
    "from common.optimizer import Adam\n",
    "from simple_cbow import SimpleCBOW\n",
    "from common.util import preprocess, create_contexts_target, convert_one_hot\n",
    "import time\n",
    "import matplotlib.pyplot as plt\n",
    "\n",
    "# 1. hyperparameter\n",
    "window_size = 1\n",
    "hidden_size = 5\n",
    "batch_size = 3\n",
    "max_epoch = 1000\n",
    "\n",
    "# 2. data preprcessing\n",
    "text = 'You say goodbye and I say hello.'\n",
    "corpus, word_to_id, id_to_word = preprocess(text)\n",
    "\n",
    "# 3. ont hot encoding\n",
    "vocab_size = len(word_to_id)\n",
    "contexts, target = create_contexts_target(corpus, window_size)\n",
    "target = convert_one_hot(target, vocab_size)\n",
    "contexts = convert_one_hot(contexts, vocab_size)\n",
    "\n",
    "# 4. model, optmizing 설정\n",
    "model = SimpleCBOW(vocab_size, hidden_size)\n",
    "optimizer = Adam()\n",
    "\n",
    "# 5. training\n",
    "trainer = Trainer(model, optimizer) # 초기화\n",
    "start = time.time()\n",
    "trainer.fit(contexts, target, max_epoch, batch_size) # 학습\n",
    "end = time.time()\n",
    "print(f'train 시간 : {end - start}')\n",
    "plt.rcParams['font.family'] = 'NanumGothic'\n",
    "trainer.plot()"
   ]
  },
  {
   "cell_type": "code",
   "execution_count": 62,
   "id": "62f480b3-9a3a-4d7e-98b2-6b2b800cd766",
   "metadata": {},
   "outputs": [
    {
     "name": "stdout",
     "output_type": "stream",
     "text": [
      "you [ 1.1532531 -1.1418407  1.2303407  1.110218   1.2824609]\n",
      "say [-1.166328   1.1573849 -1.1366129 -1.1592271 -1.1936855]\n",
      "goodbye [ 0.7540316 -0.8852815  0.7349647  0.8277173  0.5871788]\n",
      "and [-1.3707105  0.5840955 -1.3476586 -1.2760708 -1.0317676]\n",
      "i [ 0.7664322  -0.8615656   0.72736514  0.79449564  0.6079713 ]\n",
      "hello [ 1.1727468 -1.1495329  1.2120796  1.1009737  1.2720854]\n",
      ". [-0.3369583   1.3809209  -0.24255209 -0.58218616 -1.0300624 ]\n"
     ]
    }
   ],
   "source": [
    "word_vecs = model.word_vecs # 각 row에는 vocab의 분산 표현! = 밀집 벡터!!\n",
    "for word_id, word in id_to_word.items():\n",
    "    print(word, word_vecs[word_id])"
   ]
  },
  {
   "cell_type": "code",
   "execution_count": 70,
   "id": "01a8cac2-717d-4620-97df-2eda21f067b3",
   "metadata": {},
   "outputs": [],
   "source": [
    "import sys\n",
    "sys.path.append('..')\n",
    "import numpy as np\n",
    "from common.layers import MatMul, SoftmaxWithLoss\n",
    "\n",
    "class SimpleSkipGram:\n",
    "    def __init__(self, vocab_size, hidden_size):\n",
    "        V, H = vocab_size, hidden_size\n",
    "        \n",
    "        # 1. 가중치 초기화\n",
    "        W_in = 0.01 * np.random.randn(V, H).astype('f')\n",
    "        W_out = 0.01 * np.random.randn(H, V).astype('f')\n",
    "\n",
    "        # 2. 계층 생성\n",
    "        self.in_layer = MatMul(W_in)\n",
    "        self.out_layer = MatMul(W_out)\n",
    "        # window만큼 output/loss 층!!\n",
    "        self.loss_layer1 = SoftmaxWithLoss()\n",
    "        self.loss_layer2 = SoftmaxWithLoss()\n",
    "\n",
    "        # 3. 모든 가중치와 기울기를 리스트에 모은다.\n",
    "        layers = [self.in_layer, self.out_layer]\n",
    "        self.params, self.grads = [], []\n",
    "        for layer in layers:\n",
    "            self.params += layer.params\n",
    "            self.grads += layer.grads\n",
    "\n",
    "        # 4. 인스턴스 변수에 단어의 분산 표현을 저장한다.\n",
    "        self.word_vecs = W_in\n",
    "\n",
    "    def forward(self, contexts, target):\n",
    "        h = self.in_layer.forward(target)\n",
    "        s = self.out_layer.forward(h)\n",
    "        l1 = self.loss_layer1.forward(s, contexts[:, 0]) # window_size 1이면,\n",
    "                                                         # contexts 2개 중 첫번째\n",
    "        l2 = self.loss_layer2.forward(s, contexts[:, 1])\n",
    "        loss = l1 + l2 # 합!\n",
    "        return loss\n",
    "\n",
    "    def backward(self, dout=1):\n",
    "        # loss 합 -> loss 각자 -> affine 출력 -> affine 입력 -> 입력 \n",
    "        dl1 = self.loss_layer1.backward(dout)\n",
    "        dl2 = self.loss_layer2.backward(dout)\n",
    "        ds = dl1 + dl2 # 총 손실 기울기\n",
    "        dh = self.out_layer.backward(ds)\n",
    "        self.in_layer.backward(dh)\n",
    "        return None"
   ]
  },
  {
   "cell_type": "code",
   "execution_count": 65,
   "id": "720002ab-b113-42e2-bee6-aa0c6aff6d78",
   "metadata": {},
   "outputs": [
    {
     "data": {
      "text/plain": [
       "array([[1, 0, 0, 0, 0, 0, 0],\n",
       "       [0, 1, 0, 0, 0, 0, 0],\n",
       "       [0, 0, 1, 0, 0, 0, 0],\n",
       "       [0, 0, 0, 1, 0, 0, 0],\n",
       "       [0, 0, 0, 0, 1, 0, 0],\n",
       "       [0, 1, 0, 0, 0, 0, 0]], dtype=int32)"
      ]
     },
     "execution_count": 65,
     "metadata": {},
     "output_type": "execute_result"
    }
   ],
   "source": [
    "contexts[:,0]"
   ]
  },
  {
   "cell_type": "code",
   "execution_count": 68,
   "id": "d8f6a9ba-eece-45db-8648-148178e4f726",
   "metadata": {},
   "outputs": [
    {
     "data": {
      "text/plain": [
       "array([[[1, 0, 0, 0, 0, 0, 0],\n",
       "        [0, 0, 1, 0, 0, 0, 0]],\n",
       "\n",
       "       [[0, 1, 0, 0, 0, 0, 0],\n",
       "        [0, 0, 0, 1, 0, 0, 0]],\n",
       "\n",
       "       [[0, 0, 1, 0, 0, 0, 0],\n",
       "        [0, 0, 0, 0, 1, 0, 0]],\n",
       "\n",
       "       [[0, 0, 0, 1, 0, 0, 0],\n",
       "        [0, 1, 0, 0, 0, 0, 0]],\n",
       "\n",
       "       [[0, 0, 0, 0, 1, 0, 0],\n",
       "        [0, 0, 0, 0, 0, 1, 0]],\n",
       "\n",
       "       [[0, 1, 0, 0, 0, 0, 0],\n",
       "        [0, 0, 0, 0, 0, 0, 1]]], dtype=int32)"
      ]
     },
     "execution_count": 68,
     "metadata": {},
     "output_type": "execute_result"
    }
   ],
   "source": [
    "contexts"
   ]
  }
 ],
 "metadata": {
  "kernelspec": {
   "display_name": "Python 3 (ipykernel)",
   "language": "python",
   "name": "python3"
  },
  "language_info": {
   "codemirror_mode": {
    "name": "ipython",
    "version": 3
   },
   "file_extension": ".py",
   "mimetype": "text/x-python",
   "name": "python",
   "nbconvert_exporter": "python",
   "pygments_lexer": "ipython3",
   "version": "3.9.13"
  }
 },
 "nbformat": 4,
 "nbformat_minor": 5
}
