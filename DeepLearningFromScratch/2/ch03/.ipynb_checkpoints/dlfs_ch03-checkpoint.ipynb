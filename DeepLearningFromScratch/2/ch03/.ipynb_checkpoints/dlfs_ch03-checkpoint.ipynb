{
 "cells": [
  {
   "cell_type": "code",
   "execution_count": 2,
   "id": "6175b797-92b5-4a5b-9ae3-cb2d47f9c1eb",
   "metadata": {},
   "outputs": [
    {
     "name": "stdout",
     "output_type": "stream",
     "text": [
      "[[0.34881815 1.72459666 1.04010204]]\n"
     ]
    }
   ],
   "source": [
    "import numpy as np\n",
    "\n",
    "c = np.array([[1, 0, 0, 0, 0, 0, 0]]) # input\n",
    "W = np.random.randn(7, 3)          # weight\n",
    "h = np.matmul(c, W)                # 중간 노드\n",
    "print(h)"
   ]
  },
  {
   "cell_type": "code",
   "execution_count": 6,
   "id": "c171bee7-4ef5-4558-82ab-6ead9ca3a4bc",
   "metadata": {},
   "outputs": [],
   "source": [
    "class MatMul:\n",
    "    def __init__(self, W):\n",
    "        self.params = [W]\n",
    "        self.grads = [np.zeros_like(W)]\n",
    "        self.x = None\n",
    "\n",
    "    def forward(self, x):\n",
    "        W, = self.params\n",
    "        out = np.dot(x, W)\n",
    "        self.x = x\n",
    "        return out\n",
    "\n",
    "    def backward(self, dout):\n",
    "        W, = self.params\n",
    "        dx = np.dot(dout, W.T)\n",
    "        dW = np.dot(self.x.T, dout)\n",
    "        self.grads[0][...] = dW\n",
    "        return dx"
   ]
  },
  {
   "cell_type": "code",
   "execution_count": 7,
   "id": "dae2c2df-af41-4e80-97a7-67a11774fcb3",
   "metadata": {},
   "outputs": [
    {
     "data": {
      "text/plain": [
       "[array([[-1.00454817,  0.81768279, -0.74224535],\n",
       "        [ 0.098616  , -1.08278578, -1.30831411]])]"
      ]
     },
     "execution_count": 7,
     "metadata": {},
     "output_type": "execute_result"
    }
   ],
   "source": [
    "W = np.random.randn(2, 3)\n",
    "new_W = [W]\n",
    "new_W"
   ]
  },
  {
   "cell_type": "code",
   "execution_count": 10,
   "id": "1124c210-7dbe-4c96-871b-721b5b107119",
   "metadata": {},
   "outputs": [
    {
     "name": "stdout",
     "output_type": "stream",
     "text": [
      "[[-0.59647672 -1.64404408 -1.72826619]]\n"
     ]
    }
   ],
   "source": [
    "import sys\n",
    "sys.path.append('..')\n",
    "import numpy as np\n",
    "from common.layers import MatMul\n",
    "\n",
    "c = np.array([[1, 0, 0, 0, 0, 0, 0]]) # input (1,7)\n",
    "W = np.random.randn(7, 3)             # weight (7, 3)\n",
    "layer = MatMul(W) # 인스턴스 변수 : (params, grads)\n",
    "h = layer.forward(c)                  # output (1, 3)\n",
    "\n",
    "print(h)"
   ]
  },
  {
   "cell_type": "code",
   "execution_count": 16,
   "id": "378cba35-9cd5-4f2f-aa8d-f1da13db434c",
   "metadata": {},
   "outputs": [
    {
     "name": "stdout",
     "output_type": "stream",
     "text": [
      "[[-0.28044711  0.67498588 -0.18453456 -0.62744991 -0.17920611  0.27997548\n",
      "  -0.41853408]]\n"
     ]
    }
   ],
   "source": [
    "import sys\n",
    "sys.path.append('..')\n",
    "import numpy as np\n",
    "from common.layers import MatMul\n",
    "\n",
    "# 샘플 맥락 데이터\n",
    "c0 = np.array([[1, 0, 0, 0, 0, 0, 0]])\n",
    "c1 = np.array([[0, 0, 1, 0, 0, 0, 0]])\n",
    "\n",
    "# 가중치 초기화\n",
    "W_in = np.random.randn(7, 3) # 분산 표현\n",
    "W_out = np.random.randn(3, 7)\n",
    "\n",
    "# 계층 생성\n",
    "in_layer0 = MatMul(W_in)\n",
    "in_layer1 = MatMul(W_in)\n",
    "out_layer = MatMul(W_out)\n",
    "\n",
    "# 순전파\n",
    "h0 = in_layer0.forward(c0)   # 1. matmul\n",
    "h1 = in_layer1.forward(c1)\n",
    "h = 0.5 * (h0 + h1)          # 2. 더한다.\n",
    "                             # 3. 평균\n",
    "s = out_layer.forward(h)     # 4. matmul\n",
    "\n",
    "print(s)                     # 각 단어의 점수 (높은 점수, 높은 확률)"
   ]
  },
  {
   "cell_type": "code",
   "execution_count": 17,
   "id": "af8c198c-a58b-410d-b5c1-38fddbf70a21",
   "metadata": {},
   "outputs": [
    {
     "name": "stdout",
     "output_type": "stream",
     "text": [
      "[0 1 2 3 4 1 5 6]\n",
      "{0: 'you', 1: 'say', 2: 'goodbye', 3: 'and', 4: 'i', 5: 'hello', 6: '.'}\n"
     ]
    }
   ],
   "source": [
    "import sys\n",
    "sys.path.append('..')\n",
    "from common.util import preprocess\n",
    "\n",
    "text = 'You say goodbye and I say hello.'\n",
    "corpus, word_to_id, id_to_word = preprocess(text)\n",
    "print(corpus)\n",
    "print(id_to_word)"
   ]
  },
  {
   "cell_type": "code",
   "execution_count": null,
   "id": "62acbb88-de51-4959-a242-e8561df7bdf3",
   "metadata": {},
   "outputs": [],
   "source": [
    "def create_contexts_target(corpus, windo_size=1):\n",
    "    target = corpus[window_size:-window_size] # 양 끝 제외!!!\n",
    "    contexts = []\n",
    "\n",
    "    for idx in range(window_size, len(corpus)-window_size):\n",
    "        cs = []\n",
    "        for t in range(-window_size, window_size + 1):\n",
    "            "
   ]
  },
  {
   "cell_type": "code",
   "execution_count": 18,
   "id": "4199e7aa-b1c2-4360-b145-81436409c7ae",
   "metadata": {},
   "outputs": [
    {
     "data": {
      "text/plain": [
       "array([0, 1, 2, 3, 4, 1, 5, 6])"
      ]
     },
     "execution_count": 18,
     "metadata": {},
     "output_type": "execute_result"
    }
   ],
   "source": [
    "corpus"
   ]
  },
  {
   "cell_type": "code",
   "execution_count": 20,
   "id": "aa001052-093e-4ce0-83b0-fdae5f476b72",
   "metadata": {},
   "outputs": [
    {
     "data": {
      "text/plain": [
       "array([1, 2, 3, 4, 1, 5])"
      ]
     },
     "execution_count": 20,
     "metadata": {},
     "output_type": "execute_result"
    }
   ],
   "source": [
    "corpus[1:-1]"
   ]
  },
  {
   "cell_type": "code",
   "execution_count": 21,
   "id": "34a9b0af-1d5c-4ba0-b4ce-0da3d8a369ca",
   "metadata": {},
   "outputs": [
    {
     "data": {
      "text/plain": [
       "array([2, 3, 4, 1])"
      ]
     },
     "execution_count": 21,
     "metadata": {},
     "output_type": "execute_result"
    }
   ],
   "source": [
    "corpus[2:-2]"
   ]
  },
  {
   "cell_type": "code",
   "execution_count": 22,
   "id": "48976e14-3666-4688-87ea-53ec2d1fec3f",
   "metadata": {},
   "outputs": [
    {
     "data": {
      "text/plain": [
       "array([3, 4])"
      ]
     },
     "execution_count": 22,
     "metadata": {},
     "output_type": "execute_result"
    }
   ],
   "source": [
    "corpus[3:-3]"
   ]
  },
  {
   "cell_type": "code",
   "execution_count": null,
   "id": "47415a44-b53c-4695-a0b0-e876bf199a02",
   "metadata": {},
   "outputs": [],
   "source": []
  }
 ],
 "metadata": {
  "kernelspec": {
   "display_name": "Python 3 (ipykernel)",
   "language": "python",
   "name": "python3"
  },
  "language_info": {
   "codemirror_mode": {
    "name": "ipython",
    "version": 3
   },
   "file_extension": ".py",
   "mimetype": "text/x-python",
   "name": "python",
   "nbconvert_exporter": "python",
   "pygments_lexer": "ipython3",
   "version": "3.9.13"
  }
 },
 "nbformat": 4,
 "nbformat_minor": 5
}
