{
  "nbformat": 4,
  "nbformat_minor": 0,
  "metadata": {
    "colab": {
      "provenance": []
    },
    "kernelspec": {
      "name": "python3",
      "display_name": "Python 3"
    },
    "language_info": {
      "name": "python"
    }
  },
  "cells": [
    {
      "cell_type": "code",
      "source": [
        "import sys\n",
        "sys.path.append('..')\n",
        "import numpy as np\n",
        "from util import most_similar, create_co_matrix, ppmi\n",
        "from dataset import ptb\n",
        "import time\n",
        "\n",
        "window_size = 2\n",
        "wordvec_size = 100 # PCA\n",
        "\n",
        "corpus, word_to_id, id_to_word = ptb.load_data('train')\n",
        "\n",
        "vocab_size = len(word_to_id)\n",
        "print('동시발생 수 계산 ...')\n",
        "C = create_co_matrix(corpus, vocab_size, window_size)\n",
        "\n",
        "print('PPMI 계산')\n",
        "W = ppmi(C, verbose=False)\n",
        "\n",
        "print('SVD 계산')\n",
        "try:\n",
        "    # truncated SVD 빠르다!!\n",
        "    from sklearn.utils.extmath import randomized_svd\n",
        "    start_time = time.time()\n",
        "    U, S, V = randomized_svd(W, n_components=wordvec_size, n_iter=5, random_state=None)\n",
        "    end_time = time.time()\n",
        "    elapsed_time = end_time - start_time\n",
        "    print(f\"svd 시간: {elapsed_time}초\")\n",
        "\n",
        "except ImportError:\n",
        "    # SVD 느리다!!\n",
        "    U, S, V = np.linalg.svd(W)\n",
        "\n",
        "word_vecs = U[:, :wordvec_size]\n",
        "\n",
        "querys = ['you', 'year', 'car', 'toyota']\n",
        "for query in querys:\n",
        "    most_similar(query, word_to_id, id_to_word, word_vecs, top=5)"
      ],
      "metadata": {
        "colab": {
          "base_uri": "https://localhost:8080/"
        },
        "id": "vI6gnMG4wjA3",
        "outputId": "abe3285a-6cda-42e4-aaa2-63cf82dd22bd"
      },
      "execution_count": 3,
      "outputs": [
        {
          "output_type": "stream",
          "name": "stdout",
          "text": [
            "동시발생 수 계산 ...\n",
            "PPMI 계산\n",
            "SVD 계산\n",
            "svd 시간: 6.928858518600464초\n",
            "\n",
            "[query] you\n",
            " i: 0.7239861488342285\n",
            " do: 0.5852458477020264\n",
            " we: 0.5700516700744629\n",
            " anybody: 0.5218107104301453\n",
            " else: 0.49804362654685974\n",
            "\n",
            "[query] year\n",
            " month: 0.7203280329704285\n",
            " last: 0.655461311340332\n",
            " june: 0.6536615490913391\n",
            " earlier: 0.6290881633758545\n",
            " quarter: 0.6160520911216736\n",
            "\n",
            "[query] car\n",
            " auto: 0.6939246654510498\n",
            " luxury: 0.6176043152809143\n",
            " corsica: 0.5572240948677063\n",
            " domestic: 0.5143604278564453\n",
            " vehicle: 0.5043001770973206\n",
            "\n",
            "[query] toyota\n",
            " motor: 0.7402074933052063\n",
            " motors: 0.6707565188407898\n",
            " lexus: 0.6406665444374084\n",
            " honda: 0.6306739449501038\n",
            " nissan: 0.6257067322731018\n"
          ]
        }
      ]
    },
    {
      "cell_type": "code",
      "source": [
        "import sys\n",
        "sys.path.append('..')\n",
        "import numpy as np\n",
        "from util import most_similar, create_co_matrix, ppmi\n",
        "from dataset import ptb\n",
        "import time\n",
        "\n",
        "window_size = 2\n",
        "wordvec_size = 100 # PCA\n",
        "\n",
        "corpus, word_to_id, id_to_word = ptb.load_data('train')\n",
        "\n",
        "vocab_size = len(word_to_id)\n",
        "print('동시발생 수 계산 ...')\n",
        "C = create_co_matrix(corpus, vocab_size, window_size)\n",
        "\n",
        "print('PPMI 계산')\n",
        "W = ppmi(C, verbose=False)\n",
        "\n",
        "print('SVD 계산')\n",
        "start_time = time.time()\n",
        "U, S, V = np.linalg.svd(W)\n",
        "end_time = time.time()\n",
        "elapsed_time = end_time - start_time\n",
        "print(f\"svd 시간: {elapsed_time}초\")\n",
        "\n",
        "word_vecs = U[:, :wordvec_size]\n",
        "\n",
        "querys = ['you', 'year', 'car', 'toyota']\n",
        "for query in querys:\n",
        "    most_similar(query, word_to_id, id_to_word, word_vecs, top=5)"
      ],
      "metadata": {
        "id": "U-zd6ovHwgzg",
        "colab": {
          "base_uri": "https://localhost:8080/"
        },
        "outputId": "d7dffb2e-be9a-4ad8-8118-84eb016458e7"
      },
      "execution_count": 4,
      "outputs": [
        {
          "output_type": "stream",
          "name": "stdout",
          "text": [
            "동시발생 수 계산 ...\n",
            "PPMI 계산\n",
            "SVD 계산\n",
            "svd 시간: 884.5938124656677초\n",
            "\n",
            "[query] you\n",
            " i: 0.700317919254303\n",
            " we: 0.6367185115814209\n",
            " anybody: 0.565764307975769\n",
            " do: 0.563567042350769\n",
            " 'll: 0.5127798318862915\n",
            "\n",
            "[query] year\n",
            " month: 0.6961644291877747\n",
            " quarter: 0.6884941458702087\n",
            " earlier: 0.6663320660591125\n",
            " last: 0.6281364560127258\n",
            " next: 0.6175755858421326\n",
            "\n",
            "[query] car\n",
            " luxury: 0.6728832125663757\n",
            " auto: 0.6452109813690186\n",
            " vehicle: 0.6097723245620728\n",
            " cars: 0.6032834053039551\n",
            " corsica: 0.5698372721672058\n",
            "\n",
            "[query] toyota\n",
            " motor: 0.7585658431053162\n",
            " nissan: 0.7148030996322632\n",
            " motors: 0.6926157474517822\n",
            " lexus: 0.6583304405212402\n",
            " honda: 0.6350275278091431\n"
          ]
        }
      ]
    }
  ]
}