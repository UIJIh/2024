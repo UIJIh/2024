{
 "cells": [
  {
   "cell_type": "code",
   "execution_count": 1,
   "id": "73b68d80-59f5-466f-8f27-529313bd945e",
   "metadata": {},
   "outputs": [],
   "source": [
    "# 곱셈 계층"
   ]
  },
  {
   "cell_type": "code",
   "execution_count": 4,
   "id": "8613cc4a-454d-40c7-b8d5-51091d6aeb50",
   "metadata": {},
   "outputs": [],
   "source": [
    "class MulLayer:\n",
    "    def __init__(self):\n",
    "        self.x = None\n",
    "        self.y = None\n",
    "\n",
    "    def forward(self, x, y):\n",
    "        self.x = x\n",
    "        self.y = y\n",
    "        out = x * y        # 곱셈\n",
    "\n",
    "        return out\n",
    "\n",
    "    def backward(self, dout): # dout = 상류에서 넘어온 미분\n",
    "        dx = dout * self.y # x와 y를 바꾼다\n",
    "        #print(f'{dout}의 이전 y값:{self.y}')\n",
    "        dy = dout * self.x\n",
    "        #print(f'{dout}의 이전 x값:{self.x}')\n",
    "\n",
    "        return dx, dy"
   ]
  },
  {
   "cell_type": "code",
   "execution_count": 23,
   "id": "bd6ae740-e0f3-459b-bbfd-b999444172fa",
   "metadata": {},
   "outputs": [
    {
     "name": "stdout",
     "output_type": "stream",
     "text": [
      "220.00000000000003\n"
     ]
    }
   ],
   "source": [
    "# 사과 100원, 2개 구입\n",
    "# 소비세 10%\n",
    "apple = 100\n",
    "apple_num = 2\n",
    "tax = 1.1\n",
    "\n",
    "# 계층들\n",
    "mul_apple_layer = MulLayer() # init no arg\n",
    "mul_tax_layer = MulLayer()\n",
    "\n",
    "# 순전파\n",
    "apple_price = mul_apple_layer.forward(apple, apple_num)\n",
    "price = mul_tax_layer.forward(apple_price, tax)\n",
    "\n",
    "print(price) # 220"
   ]
  },
  {
   "cell_type": "code",
   "execution_count": 26,
   "id": "b543fa7e-43e0-4374-a89a-ab1d43f54f3b",
   "metadata": {},
   "outputs": [
    {
     "name": "stdout",
     "output_type": "stream",
     "text": [
      "역전파 첫번째\n",
      "1의 이전 y값:1.1\n",
      "1의 이전 x값:200\n",
      "\n",
      "역전파 두번째\n",
      "1.1의 이전 y값:2\n",
      "1.1의 이전 x값:100\n",
      "2.2 110.00000000000001 200\n"
     ]
    }
   ],
   "source": [
    "# 역전파\n",
    "dprice = 1\n",
    "print('역전파 첫번째')\n",
    "dapple_price, dtax = mul_tax_layer.backward(dprice)\n",
    "print('\\n역전파 두번째')\n",
    "dapple, dapple_num = mul_apple_layer.backward(dapple_price)\n",
    "\n",
    "print(dapple, dapple_num, dtax) # 2.2 110 200"
   ]
  },
  {
   "cell_type": "code",
   "execution_count": 27,
   "id": "46ad6356-7dda-41c0-b56e-85d2c6925c3c",
   "metadata": {},
   "outputs": [],
   "source": [
    "# 덧셈"
   ]
  },
  {
   "cell_type": "code",
   "execution_count": 2,
   "id": "d61ba588-2731-4db0-9c36-1dd7e5b1dc4c",
   "metadata": {},
   "outputs": [],
   "source": [
    "class AddLayer:\n",
    "    def __init__(self):\n",
    "        pass             # do nothing\n",
    "\n",
    "    def forward(self, x, y):\n",
    "        out = x + y\n",
    "        return out\n",
    "\n",
    "    def backward(self, dout):\n",
    "        dx = dout * 1\n",
    "        dy = dout * 1\n",
    "        return dx, dy"
   ]
  },
  {
   "cell_type": "code",
   "execution_count": 5,
   "id": "924e2deb-c903-4b1b-8aab-00ddce833ef6",
   "metadata": {},
   "outputs": [
    {
     "name": "stdout",
     "output_type": "stream",
     "text": [
      "715.0000000000001\n",
      "110.00000000000001 2.2 3.3000000000000003 165.0 650\n"
     ]
    }
   ],
   "source": [
    "apple = 100\n",
    "apple_num = 2\n",
    "orange = 150\n",
    "orange_num = 3\n",
    "tax = 1.1\n",
    "\n",
    "# 계층들\n",
    "mul_apple_layer = MulLayer()\n",
    "mul_orange_layer = MulLayer()\n",
    "add_apple_orange_layer = AddLayer()\n",
    "mul_tax_layer = MulLayer()\n",
    "\n",
    "# 순전파\n",
    "apple_price = mul_apple_layer.forward(apple, apple_num)  #(1)\n",
    "orange_price = mul_orange_layer.forward(orange, orange_num)  #(2)\n",
    "all_price = add_apple_orange_layer.forward(apple_price, orange_price) #(3)\n",
    "price = mul_tax_layer.forward(all_price, tax) #(4)\n",
    "\n",
    "# 역전파\n",
    "dprice = 1\n",
    "dall_price, dtax = mul_tax_layer.backward(dprice) #(4)\n",
    "dapple_price, dorange_price = add_apple_orange_layer.backward(dall_price) #(3)\n",
    "dorange, dorange_num = mul_orange_layer.backward(dorange_price) #(2)\n",
    "dapple, dapple_num = mul_apple_layer.backward(dapple_price) #(1)\n",
    "\n",
    "print(price) # 715\n",
    "print(dapple_num, dapple, dorange, dorange_num, dtax) # 110 2.2 3.3 165 650"
   ]
  },
  {
   "cell_type": "code",
   "execution_count": 66,
   "id": "96b97b04-1905-4b0e-a564-f389155e269d",
   "metadata": {},
   "outputs": [
    {
     "name": "stdout",
     "output_type": "stream",
     "text": [
      "110 2.2 3.3 165 650\n"
     ]
    }
   ],
   "source": [
    "print(\"{} {:.1f} {:.1f} {:.0f} {}\".format(round(dapple_num), dapple, dorange, dorange_num, dtax))"
   ]
  },
  {
   "cell_type": "code",
   "execution_count": 6,
   "id": "cb48307e-f4f2-422a-8c16-fcc186b9a887",
   "metadata": {},
   "outputs": [
    {
     "name": "stdout",
     "output_type": "stream",
     "text": [
      "110 2.2 3.3000000000000003 165.0 650\n"
     ]
    }
   ],
   "source": [
    "print(\"{} {} {} {} {}\".format(round(dapple_num), dapple, dorange, dorange_num, dtax))"
   ]
  },
  {
   "cell_type": "code",
   "execution_count": 7,
   "id": "af55ad67-1229-48cb-be43-fe25e62d2cda",
   "metadata": {},
   "outputs": [],
   "source": [
    "# Relu"
   ]
  },
  {
   "cell_type": "code",
   "execution_count": 52,
   "id": "c10b04f9-a447-40f0-bb46-33f175e178d2",
   "metadata": {},
   "outputs": [],
   "source": [
    "class ReLu:\n",
    "    def __init__(self):\n",
    "        self.mask = None\n",
    "\n",
    "    def forward(self, x):\n",
    "        self.mask = (x <= 0) # 0 이하인 '인덱스' True\n",
    "        out = x.copy()       # deep\n",
    "        print(f'x : \\n{x}')\n",
    "        print(f'self.mask : \\n{self.mask}')\n",
    "        print(f'out[self.mask] : \\n{out[self.mask]}')\n",
    "        out[self.mask] = 0   # y\n",
    "        \n",
    "        return out\n",
    "\n",
    "    def backward(self, dout):\n",
    "        dout[self.mask] = 0\n",
    "        dx = dout           # 0 이하인 애들 0 만듦 or dout 유지\n",
    "\n",
    "        return dx"
   ]
  },
  {
   "cell_type": "code",
   "execution_count": 53,
   "id": "6981ec6b-0a21-4530-89e3-835e465244e1",
   "metadata": {},
   "outputs": [],
   "source": [
    "test_relu = ReLu()"
   ]
  },
  {
   "cell_type": "code",
   "execution_count": 54,
   "id": "93b6bd80-3e50-4f4a-a738-5eccf3d31de1",
   "metadata": {},
   "outputs": [],
   "source": [
    "x = np.array( [[1.0, -0.5], [-2.0, 3.0]] )"
   ]
  },
  {
   "cell_type": "code",
   "execution_count": 55,
   "id": "0e0ee7f1-c3fc-4f85-81e1-52d474cb43b5",
   "metadata": {},
   "outputs": [
    {
     "name": "stdout",
     "output_type": "stream",
     "text": [
      "x : \n",
      "[[ 1.  -0.5]\n",
      " [-2.   3. ]]\n",
      "self.mask : \n",
      "[[False  True]\n",
      " [ True False]]\n",
      "out[self.mask] : \n",
      "[-0.5 -2. ]\n"
     ]
    },
    {
     "data": {
      "text/plain": [
       "array([[1., 0.],\n",
       "       [0., 3.]])"
      ]
     },
     "execution_count": 55,
     "metadata": {},
     "output_type": "execute_result"
    }
   ],
   "source": [
    "test_relu.forward(x=x)"
   ]
  },
  {
   "cell_type": "code",
   "execution_count": 30,
   "id": "2155b198-d0ff-4f78-b1be-13e79c5a613c",
   "metadata": {},
   "outputs": [],
   "source": [
    "import numpy as np"
   ]
  },
  {
   "cell_type": "code",
   "execution_count": 15,
   "id": "69e2d8cd-3d03-4b11-9f7b-dc2c2807397e",
   "metadata": {},
   "outputs": [
    {
     "name": "stdout",
     "output_type": "stream",
     "text": [
      "[[ 1.  -0.5]\n",
      " [-2.   3. ]]\n"
     ]
    }
   ],
   "source": [
    "print(x)"
   ]
  },
  {
   "cell_type": "code",
   "execution_count": 16,
   "id": "4209e063-fd12-4b49-8a3f-ed480db43ac3",
   "metadata": {},
   "outputs": [],
   "source": [
    "mask = (x <= 0)"
   ]
  },
  {
   "cell_type": "code",
   "execution_count": 17,
   "id": "075d3eae-7362-477f-8563-57e400ff21c8",
   "metadata": {},
   "outputs": [
    {
     "name": "stdout",
     "output_type": "stream",
     "text": [
      "[[False  True]\n",
      " [ True False]]\n"
     ]
    }
   ],
   "source": [
    "print(mask)"
   ]
  },
  {
   "cell_type": "code",
   "execution_count": 19,
   "id": "31097334-0293-42b7-9292-3bab1039e5c4",
   "metadata": {},
   "outputs": [],
   "source": [
    "out = x.copy()"
   ]
  },
  {
   "cell_type": "code",
   "execution_count": 20,
   "id": "83353033-4911-4d10-a0f5-2a5c7ca03a43",
   "metadata": {},
   "outputs": [
    {
     "name": "stdout",
     "output_type": "stream",
     "text": [
      "[[ 1.  -0.5]\n",
      " [-2.   3. ]]\n"
     ]
    }
   ],
   "source": [
    "print(out)"
   ]
  },
  {
   "cell_type": "code",
   "execution_count": 22,
   "id": "f86195c8-0b0a-4f68-896c-9e53868e7ecd",
   "metadata": {},
   "outputs": [
    {
     "name": "stdout",
     "output_type": "stream",
     "text": [
      "[-0.5 -2. ]\n"
     ]
    }
   ],
   "source": [
    "print(out[mask]) # true인 값들만"
   ]
  },
  {
   "cell_type": "code",
   "execution_count": 24,
   "id": "b5e32c91-d009-40f7-9728-37d62adf48b1",
   "metadata": {},
   "outputs": [],
   "source": [
    "out[mask] = # true인(x=0) 애들 0"
   ]
  },
  {
   "cell_type": "code",
   "execution_count": 26,
   "id": "b19134a6-f489-45d6-aabd-01b1142053a2",
   "metadata": {},
   "outputs": [
    {
     "name": "stdout",
     "output_type": "stream",
     "text": [
      "[[1. 0.]\n",
      " [0. 3.]]\n"
     ]
    }
   ],
   "source": [
    "print(out)"
   ]
  },
  {
   "cell_type": "code",
   "execution_count": 68,
   "id": "768713d4-b5b5-4443-8293-69493604d475",
   "metadata": {},
   "outputs": [
    {
     "data": {
      "text/plain": [
       "array([[ 1. , -0.5],\n",
       "       [-2. ,  3. ]])"
      ]
     },
     "execution_count": 68,
     "metadata": {},
     "output_type": "execute_result"
    }
   ],
   "source": [
    "x"
   ]
  },
  {
   "cell_type": "code",
   "execution_count": 73,
   "id": "62310368-0864-4b41-b9d7-cc237973a1e1",
   "metadata": {},
   "outputs": [],
   "source": [
    "b = np.array([[True, True], [False, True]])"
   ]
  },
  {
   "cell_type": "code",
   "execution_count": 74,
   "id": "4092ec4e-9534-4a08-b0ac-a86486fc2ee5",
   "metadata": {},
   "outputs": [
    {
     "data": {
      "text/plain": [
       "array([[ True,  True],\n",
       "       [False,  True]])"
      ]
     },
     "execution_count": 74,
     "metadata": {},
     "output_type": "execute_result"
    }
   ],
   "source": [
    "b"
   ]
  },
  {
   "cell_type": "code",
   "execution_count": 75,
   "id": "52bd17d3-6a03-4db7-ad5f-4adc7b5dbb5d",
   "metadata": {},
   "outputs": [
    {
     "data": {
      "text/plain": [
       "array([ 1. , -0.5,  3. ])"
      ]
     },
     "execution_count": 75,
     "metadata": {},
     "output_type": "execute_result"
    }
   ],
   "source": [
    "x[b]"
   ]
  },
  {
   "cell_type": "code",
   "execution_count": 76,
   "id": "65084b4d-a6ea-44ab-8eb7-181e1f399631",
   "metadata": {},
   "outputs": [
    {
     "name": "stdout",
     "output_type": "stream",
     "text": [
      "[[ 1.  -0.5]\n",
      " [-2.   3. ]]\n"
     ]
    }
   ],
   "source": [
    "print(x)"
   ]
  },
  {
   "cell_type": "code",
   "execution_count": 80,
   "id": "f4ee3ea3-5c85-4fb2-ac9a-570f99173e74",
   "metadata": {},
   "outputs": [
    {
     "data": {
      "text/plain": [
       "array([-0.5, -2. ])"
      ]
     },
     "execution_count": 80,
     "metadata": {},
     "output_type": "execute_result"
    }
   ],
   "source": [
    "x[x<=0]"
   ]
  },
  {
   "cell_type": "code",
   "execution_count": 82,
   "id": "09ed5d71-e032-4f0a-b55b-4e54f3f53d74",
   "metadata": {},
   "outputs": [],
   "source": [
    "class ReLu:\n",
    "    def __init__(self):\n",
    "        #self.mask = None\n",
    "        pass\n",
    "\n",
    "    def forward(self, x):\n",
    "        #self.mask = (x <= 0) # 0 이하인 '인덱스' True\n",
    "        out = x.copy()       # deep\n",
    "        #print(f'x : \\n{x}')\n",
    "        #print(f'self.mask : \\n{self.mask}')\n",
    "        #print(f'out[self.mask] : \\n{out[self.mask]}')\n",
    "        out[out<=0] = 0   # y\n",
    "        \n",
    "        return out\n",
    "\n",
    "    def backward(self, dout):\n",
    "        dout[dout<=0] = 0\n",
    "        dx = dout           # 0 이하인 애들 0 만듦 or dout 유지\n",
    "\n",
    "        return dx"
   ]
  },
  {
   "cell_type": "code",
   "execution_count": 84,
   "id": "11f00634-1cba-40a7-a28e-40dc865b918d",
   "metadata": {},
   "outputs": [
    {
     "data": {
      "text/plain": [
       "array([[1., 0.],\n",
       "       [0., 3.]])"
      ]
     },
     "execution_count": 84,
     "metadata": {},
     "output_type": "execute_result"
    }
   ],
   "source": [
    "test_relu = ReLu()\n",
    "x = np.array( [[1.0, -0.5], [-2.0, 3.0]] )\n",
    "test_relu.forward(x=x)"
   ]
  },
  {
   "cell_type": "code",
   "execution_count": 87,
   "id": "01416e83-8e82-4c48-ae2f-3bcf1aaf7d00",
   "metadata": {},
   "outputs": [
    {
     "name": "stdout",
     "output_type": "stream",
     "text": [
      "ReLuWithoutMask 실행 시간: 89.09718762500052\n",
      "ReLuWithMask 실행 시간: 95.90141745599976\n"
     ]
    }
   ],
   "source": [
    "import numpy as np\n",
    "import timeit\n",
    "\n",
    "class ReLuWithoutMask:\n",
    "    def __init__(self):\n",
    "        pass\n",
    "\n",
    "    def forward(self, x):\n",
    "        out = x.copy()\n",
    "        out[out <= 0] = 0\n",
    "        return out\n",
    "\n",
    "    def backward(self, dout):\n",
    "        dout[dout <= 0] = 0\n",
    "        dx = dout\n",
    "        return dx\n",
    "\n",
    "class ReLuWithMask:\n",
    "    def __init__(self):\n",
    "        self.mask = None\n",
    "\n",
    "    def forward(self, x):\n",
    "        self.mask = (x <= 0)\n",
    "        out = x.copy()\n",
    "        out[self.mask] = 0\n",
    "        return out\n",
    "\n",
    "    def backward(self, dout):\n",
    "        dout[self.mask] = 0\n",
    "        dx = dout\n",
    "        return dx\n",
    "\n",
    "x = np.random.randn(1000, 1000)\n",
    "without_mask_time = timeit.timeit(lambda: ReLuWithoutMask().forward(x), number=10000)\n",
    "with_mask_time = timeit.timeit(lambda: ReLuWithMask().forward(x), number=10000)\n",
    "\n",
    "print(\"ReLuWithoutMask 실행 시간:\", without_mask_time)\n",
    "print(\"ReLuWithMask 실행 시간:\", with_mask_time)"
   ]
  },
  {
   "cell_type": "code",
   "execution_count": 89,
   "id": "d7867b98-b96f-4248-8f5a-05a59d5d2acb",
   "metadata": {},
   "outputs": [],
   "source": [
    "class Sigmoid:\n",
    "    def __init__(self):\n",
    "        self.out = None   # 출력으로 backprop\n",
    "\n",
    "    def forward(self, x):\n",
    "        out = 1 / (1 + np.exp(-x))\n",
    "        self.out = out\n",
    "\n",
    "        return out\n",
    "\n",
    "    def backward(self, dout):\n",
    "        dx = dout * (1.0 - self.out) * self.out\n",
    "                   # real\n",
    "        return dx"
   ]
  },
  {
   "cell_type": "code",
   "execution_count": 90,
   "id": "e1289305-2429-4c71-9fcb-43f196747070",
   "metadata": {},
   "outputs": [],
   "source": [
    "# 5.6.2"
   ]
  },
  {
   "cell_type": "code",
   "execution_count": 94,
   "id": "1203a6aa-fb96-412f-9b8c-df34e80013cf",
   "metadata": {},
   "outputs": [],
   "source": [
    "X_dot_W = np.array([[0, 0, 0], [10, 10, 10]]) # (2,3)"
   ]
  },
  {
   "cell_type": "code",
   "execution_count": 95,
   "id": "471e9f9d-2b7c-426d-b75d-a59c23674ba0",
   "metadata": {},
   "outputs": [],
   "source": [
    "B = np.array([1, 2, 3]) # (3,)"
   ]
  },
  {
   "cell_type": "code",
   "execution_count": 96,
   "id": "561b94e5-a361-492f-a550-cf48ce28c194",
   "metadata": {},
   "outputs": [
    {
     "data": {
      "text/plain": [
       "array([[ 0,  0,  0],\n",
       "       [10, 10, 10]])"
      ]
     },
     "execution_count": 96,
     "metadata": {},
     "output_type": "execute_result"
    }
   ],
   "source": [
    "X_dot_W"
   ]
  },
  {
   "cell_type": "code",
   "execution_count": 98,
   "id": "5746c5b7-7a74-481a-8ee9-664c8dabfb08",
   "metadata": {},
   "outputs": [
    {
     "data": {
      "text/plain": [
       "array([[ 1,  2,  3],\n",
       "       [11, 12, 13]])"
      ]
     },
     "execution_count": 98,
     "metadata": {},
     "output_type": "execute_result"
    }
   ],
   "source": [
    "X_dot_W + B  # (2,3) + (3,)"
   ]
  },
  {
   "cell_type": "code",
   "execution_count": 100,
   "id": "24d5c4f3-92d8-4d3b-b3ee-d2a164b85e8a",
   "metadata": {},
   "outputs": [],
   "source": [
    "dY = np.array([[1, 2, 3], [4, 5, 6]]) # (2,3)"
   ]
  },
  {
   "cell_type": "code",
   "execution_count": 101,
   "id": "2f06ded6-7ddd-4ac8-963b-2140a9d58760",
   "metadata": {},
   "outputs": [
    {
     "data": {
      "text/plain": [
       "array([[1, 2, 3],\n",
       "       [4, 5, 6]])"
      ]
     },
     "execution_count": 101,
     "metadata": {},
     "output_type": "execute_result"
    }
   ],
   "source": [
    "dY"
   ]
  },
  {
   "cell_type": "code",
   "execution_count": 103,
   "id": "7b0f0de1-fb0c-4469-a567-b1a79a52ca09",
   "metadata": {},
   "outputs": [],
   "source": [
    "dB = np.sum(dY, axis=0)"
   ]
  },
  {
   "cell_type": "code",
   "execution_count": 104,
   "id": "bca2b963-3b14-4b2c-a438-19152afa7dfa",
   "metadata": {},
   "outputs": [
    {
     "data": {
      "text/plain": [
       "array([5, 7, 9])"
      ]
     },
     "execution_count": 104,
     "metadata": {},
     "output_type": "execute_result"
    }
   ],
   "source": [
    "dB"
   ]
  },
  {
   "cell_type": "code",
   "execution_count": 105,
   "id": "3f9b6584-8ab5-4270-88fd-6be0cbd230e0",
   "metadata": {},
   "outputs": [],
   "source": [
    "class Affine:\n",
    "    def __init__(self, W, b):\n",
    "        self.W = W\n",
    "        self.b = b\n",
    "        self.x = None\n",
    "        self.dW = None\n",
    "        self.db = None\n",
    "\n",
    "    def forward(self, x):\n",
    "        self.x = x\n",
    "        out = np.dot(x, self.W) + self.b\n",
    "\n",
    "        return out\n",
    "\n",
    "    def backward(self, dout):\n",
    "        dx = np.dot(dout, self.W.T)\n",
    "        self.dW = np.dot(self.x.T, dout)\n",
    "        self.db = np.sum(dout, axis=0)\n",
    "\n",
    "        return dx"
   ]
  },
  {
   "cell_type": "code",
   "execution_count": 134,
   "id": "7ca0fd19-3798-422c-ba60-3ce5b3fe1ee3",
   "metadata": {},
   "outputs": [],
   "source": [
    "class Affine: # 4차원 데이터(tensor)\n",
    "    def __init__(self, W, b):\n",
    "        self.W = W\n",
    "        self.b = b\n",
    "        \n",
    "        self.x = None\n",
    "        self.original_x_shape = None\n",
    "        self.dW = None\n",
    "        self.db = None\n",
    "\n",
    "    def forward(self, x):\n",
    "        self.original_x_shape = x.shape # shape을 저장해놓고\n",
    "        x = x.reshape(x.shape[0], -1)   # 1d만 지키고 남은 차원들 통합, 2d flatten\n",
    "        self.x = x\n",
    "\n",
    "        out = np.dot(self.x, self.W) + self.b\n",
    "\n",
    "        return out\n",
    "\n",
    "    def backward(self, dout):\n",
    "        dx = np.dot(dout, self.W.T)\n",
    "        self.dW = np.dot(self.x.T, dout)\n",
    "        self.db = np.sum(dout, axis=0)\n",
    "        \n",
    "        dx = dx.reshape(*self.original_x_shape)  # 원래의 (x)input 'shape'으로 되돌리기\n",
    "                    # * unpacking 연산자\n",
    "        return dx"
   ]
  },
  {
   "cell_type": "markdown",
   "id": "635f32a5-71c6-4b1d-a17a-430a384c1245",
   "metadata": {},
   "source": [
    "주어진 코드에서 물음표가 있는 부분은 다음과 같습니다:\n",
    "\n",
    "1. `x = x.reshape(x.shape[0], -1)`: 이 코드는 입력 데이터 `x`의 형태를 변경하는 부분입니다. 여기서 `x.shape[0]`는 입력 데이터의 첫 번째 차원의 크기를 의미하며, `-1`은 나머지 차원을 자동으로 결정하도록 지정합니다. 따라서 이 코드는 입력 데이터의 형태를 `(데이터 수, 나머지 차원의 크기)`로 변경합니다. 이 작업은 주로 다차원 데이터를 2차원으로 평탄화(flatten)하는 용도로 사용됩니다. 예를 들어, 이미지 데이터를 처리할 때 2차원 이미지를 1차원 벡터로 변환할 때 사용됩니다.\n",
    "\n",
    "2. `dx = dx.reshape(*self.original_x_shape)`: 이 코드는 역전파(backward) 과정에서 계산된 그래디언트 `dx`의 형태를 이전에 저장해둔 원래 입력 데이터 `x`의 형태로 되돌리는 부분입니다. `self.original_x_shape`에는 입력 데이터 `x`의 형태가 저장되어 있습니다. 이 코드에서 `*`는 언패킹(unpacking) 연산자로, 리스트나 튜플의 요소를 풀어서 전달하는 역할을 합니다. 따라서 `reshape` 함수에 `*self.original_x_shape`를 전달하면 `self.original_x_shape`에 저장된 형태를 각각의 인수로 전달하는 효과를 갖습니다. 따라서 `dx`를 이전의 입력 데이터 `x`의 형태로 변환하여 반환합니다.\n",
    "\n",
    "이 두 부분은 모두 입력 데이터의 형태를 변경하는 작업을 수행합니다. Forward 과정에서는 다차원 데이터를 2차원으로 평탄화하여 처리하고, Backward 과정에서는 다시 이전의 다차원 형태로 변환하여 그래디언트를 전파합니다."
   ]
  },
  {
   "cell_type": "code",
   "execution_count": 135,
   "id": "673e0560-a1fd-45fd-8b8e-3d038f9ac093",
   "metadata": {},
   "outputs": [
    {
     "data": {
      "text/plain": [
       "(2, 3, 4, 5)"
      ]
     },
     "execution_count": 135,
     "metadata": {},
     "output_type": "execute_result"
    }
   ],
   "source": [
    "x = np.random.randn(2, 3, 4, 5) # ~N(0,1)\n",
    "x.shape"
   ]
  },
  {
   "cell_type": "code",
   "execution_count": 136,
   "id": "63b09677-f2df-4885-ab60-1d3b5e22c3df",
   "metadata": {},
   "outputs": [
    {
     "data": {
      "text/plain": [
       "(2, 60)"
      ]
     },
     "execution_count": 136,
     "metadata": {},
     "output_type": "execute_result"
    }
   ],
   "source": [
    "x_flatten = x.reshape(x.shape[0], -1)\n",
    "x_flatten.shape"
   ]
  },
  {
   "cell_type": "code",
   "execution_count": 137,
   "id": "f1c5cfb3-8345-4678-a196-33caf7476195",
   "metadata": {},
   "outputs": [
    {
     "data": {
      "text/plain": [
       "(2, 3, 4, 5)"
      ]
     },
     "execution_count": 137,
     "metadata": {},
     "output_type": "execute_result"
    }
   ],
   "source": [
    "x_restore = x_flatten.reshape(x.shape)\n",
    "x_restore.shape"
   ]
  },
  {
   "cell_type": "code",
   "execution_count": 138,
   "id": "79f3e4b3-afae-45ce-94cd-719c2680a11d",
   "metadata": {},
   "outputs": [
    {
     "name": "stdout",
     "output_type": "stream",
     "text": [
      "common_reshape() 소요 시간: <function common_reshape at 0x7fb039884280>\n",
      "unpacking_reshape() 소요 시간: 748.258341674009\n"
     ]
    }
   ],
   "source": [
    "import timeit\n",
    "\n",
    "def common_reshape():\n",
    "    x = np.random.randn(10000, 3, 27, 27)\n",
    "    x_flatten = x.reshape(x.shape[0], -1)\n",
    "    x_restore = x_flatten.reshape(x.shape)\n",
    "\n",
    "def unpacking_reshape():\n",
    "    x = np.random.randn(10000, 3, 27, 27)\n",
    "    x_flatten = x.reshape(x.shape[0], -1)\n",
    "    x_restore = x_flatten.reshape(*x.shape)\n",
    "\n",
    "time_common = timeit.timeit(common_reshape, number=1000)\n",
    "time_unpacking = timeit.timeit(unpacking_reshape, number=1000)\n",
    "\n",
    "print(\"common_reshape() 소요 시간:\", common_reshape)\n",
    "print(\"unpacking_reshape() 소요 시간:\", time_unpacking)\n"
   ]
  },
  {
   "cell_type": "code",
   "execution_count": 141,
   "id": "74f7dec3-4335-432c-a53e-4f09f93f4a34",
   "metadata": {},
   "outputs": [
    {
     "name": "stdout",
     "output_type": "stream",
     "text": [
      "common_reshape() 소요 시간: 831.8620941349945\n",
      "unpacking_reshape() 소요 시간: 748.258341674009\n"
     ]
    }
   ],
   "source": [
    "print(\"common_reshape() 소요 시간:\", time_common)\n",
    "print(\"unpacking_reshape() 소요 시간:\", time_unpacking)"
   ]
  },
  {
   "cell_type": "code",
   "execution_count": 132,
   "id": "8e5d88c5-1052-4ff1-87f7-9631b9cf5732",
   "metadata": {},
   "outputs": [
    {
     "data": {
      "text/plain": [
       "array([-1.09105512,  1.08837714, -0.76850246, -1.08917505,  0.98175046,\n",
       "        0.80993194, -0.47148039, -0.37565567,  0.10997967, -1.15081712,\n",
       "       -0.98288957,  2.32263917,  1.16621094,  0.11370951,  0.18983766,\n",
       "        0.74145662, -0.21852271, -0.21762675,  2.26404549,  0.03645246,\n",
       "        0.53168403,  1.59924068, -0.84064314,  0.63877372,  0.40418275,\n",
       "       -1.10761651, -0.3267589 ,  0.23792598,  0.9547426 ,  0.14510421,\n",
       "        0.83594262, -1.47503835,  0.73783638,  0.63700297, -0.92139148,\n",
       "        0.16325814,  0.83221676, -0.4312375 , -0.64239382,  2.02542287,\n",
       "       -0.63367443,  0.15825906, -1.54824389, -0.08717685,  0.07820253,\n",
       "       -0.29697742, -0.66146929, -0.31293898,  0.77964716, -1.26016714,\n",
       "        1.66798314, -1.20407144,  0.92399183,  0.84064381,  0.46899336,\n",
       "        0.3144379 ,  1.01381137, -1.34059923, -2.48663704, -1.26144489])"
      ]
     },
     "execution_count": 132,
     "metadata": {},
     "output_type": "execute_result"
    }
   ],
   "source": [
    "x_flatten[0]"
   ]
  },
  {
   "cell_type": "code",
   "execution_count": 133,
   "id": "a77b0640-64af-49b5-baca-4138a60af01b",
   "metadata": {},
   "outputs": [
    {
     "data": {
      "text/plain": [
       "array([[[-1.09105512,  1.08837714, -0.76850246, -1.08917505,\n",
       "          0.98175046],\n",
       "        [ 0.80993194, -0.47148039, -0.37565567,  0.10997967,\n",
       "         -1.15081712],\n",
       "        [-0.98288957,  2.32263917,  1.16621094,  0.11370951,\n",
       "          0.18983766],\n",
       "        [ 0.74145662, -0.21852271, -0.21762675,  2.26404549,\n",
       "          0.03645246]],\n",
       "\n",
       "       [[ 0.53168403,  1.59924068, -0.84064314,  0.63877372,\n",
       "          0.40418275],\n",
       "        [-1.10761651, -0.3267589 ,  0.23792598,  0.9547426 ,\n",
       "          0.14510421],\n",
       "        [ 0.83594262, -1.47503835,  0.73783638,  0.63700297,\n",
       "         -0.92139148],\n",
       "        [ 0.16325814,  0.83221676, -0.4312375 , -0.64239382,\n",
       "          2.02542287]],\n",
       "\n",
       "       [[-0.63367443,  0.15825906, -1.54824389, -0.08717685,\n",
       "          0.07820253],\n",
       "        [-0.29697742, -0.66146929, -0.31293898,  0.77964716,\n",
       "         -1.26016714],\n",
       "        [ 1.66798314, -1.20407144,  0.92399183,  0.84064381,\n",
       "          0.46899336],\n",
       "        [ 0.3144379 ,  1.01381137, -1.34059923, -2.48663704,\n",
       "         -1.26144489]]])"
      ]
     },
     "execution_count": 133,
     "metadata": {},
     "output_type": "execute_result"
    }
   ],
   "source": [
    "x_restore[0]"
   ]
  },
  {
   "cell_type": "code",
   "execution_count": 126,
   "id": "dfb78695-1ac9-45bc-985d-1e933adf2d0d",
   "metadata": {},
   "outputs": [
    {
     "data": {
      "text/plain": [
       "(2, 3, 4, 5)"
      ]
     },
     "execution_count": 126,
     "metadata": {},
     "output_type": "execute_result"
    }
   ],
   "source": [
    "x_restore.shape"
   ]
  },
  {
   "cell_type": "code",
   "execution_count": 142,
   "id": "057b8861-7b51-4c28-82af-cef647b46f29",
   "metadata": {},
   "outputs": [],
   "source": [
    "# softmax with error"
   ]
  },
  {
   "cell_type": "code",
   "execution_count": 143,
   "id": "18f6f407-3de4-4be3-a586-de9eb3c6f6c0",
   "metadata": {},
   "outputs": [],
   "source": [
    "class SoftmaxWithLoss:\n",
    "    def __init__(self):\n",
    "        self.loss = None # 손실\n",
    "        self.y = None    # softmax의 출력\n",
    "        self.t = None    # 정답 레이블(원-핫 벡터)\n",
    "\n",
    "    def forward(self, x, t):\n",
    "        self.t = t\n",
    "        self.y = softmax(x)\n",
    "        self.loss = cross_entropy_error(self.y, self.t)\n",
    "        return self.loss\n",
    "\n",
    "    def backward(self, dout=1):\n",
    "        batch_size = self.t.shape[0]\n",
    "        dx = (self.y - self.t) / batch_size\n",
    "\n",
    "        return dx"
   ]
  },
  {
   "cell_type": "code",
   "execution_count": 148,
   "id": "5768891e-4760-4d32-8ccc-17d7326500b8",
   "metadata": {},
   "outputs": [
    {
     "data": {
      "text/plain": [
       "array([[-0.80106681,  1.23334719, -0.57446975,  0.04577687,  1.38834648,\n",
       "         0.17406109, -1.34245565,  1.26152576, -0.81539228,  1.18087396],\n",
       "       [ 0.63988838, -1.23568103, -1.25813379,  1.52135974, -0.45498018,\n",
       "        -0.18845806, -0.03542981, -1.51926686,  1.55875307, -0.73656339],\n",
       "       [ 0.97248443,  0.85969971, -1.00941345,  1.37777689,  0.33277791,\n",
       "        -0.81426006,  0.24166078,  0.33519699, -1.13822   , -2.74557194],\n",
       "       [-2.12143732, -0.90328842, -0.03026234,  0.14722747,  0.73906156,\n",
       "        -0.7056792 , -0.1317313 , -1.21237044,  0.40328427, -1.98748566],\n",
       "       [-0.45659229,  0.95578618,  1.18954295,  0.64639864,  0.20548371,\n",
       "        -0.81297194, -0.26828605, -0.0366776 ,  0.4678154 ,  1.26959178]])"
      ]
     },
     "execution_count": 148,
     "metadata": {},
     "output_type": "execute_result"
    }
   ],
   "source": [
    "batch_size = 5\n",
    "y = np.random.randn(batch_size, 10) # 0~9\n",
    "t = [2, 7, 9 ,0, 4] # 정답 레이블 (원핫인코딩x)\n",
    "dx = y.copy()  # y를 바꾸면 안되니까\n",
    "dx[np.arange(batch_size),t] -= 1\n",
    "dx"
   ]
  },
  {
   "cell_type": "code",
   "execution_count": 149,
   "id": "28d6e79f-98ca-487b-b531-cf68ddd97429",
   "metadata": {},
   "outputs": [
    {
     "data": {
      "text/plain": [
       "array([[-0.16021336,  0.24666944, -0.11489395,  0.00915537,  0.2776693 ,\n",
       "         0.03481222, -0.26849113,  0.25230515, -0.16307846,  0.23617479],\n",
       "       [ 0.12797768, -0.24713621, -0.25162676,  0.30427195, -0.09099604,\n",
       "        -0.03769161, -0.00708596, -0.30385337,  0.31175061, -0.14731268],\n",
       "       [ 0.19449689,  0.17193994, -0.20188269,  0.27555538,  0.06655558,\n",
       "        -0.16285201,  0.04833216,  0.0670394 , -0.227644  , -0.54911439],\n",
       "       [-0.42428746, -0.18065768, -0.00605247,  0.02944549,  0.14781231,\n",
       "        -0.14113584, -0.02634626, -0.24247409,  0.08065685, -0.39749713],\n",
       "       [-0.09131846,  0.19115724,  0.23790859,  0.12927973,  0.04109674,\n",
       "        -0.16259439, -0.05365721, -0.00733552,  0.09356308,  0.25391836]])"
      ]
     },
     "execution_count": 149,
     "metadata": {},
     "output_type": "execute_result"
    }
   ],
   "source": [
    "dx / batch_size"
   ]
  },
  {
   "cell_type": "code",
   "execution_count": 150,
   "id": "d30a399c-97eb-414b-b5a0-da7f9701e827",
   "metadata": {},
   "outputs": [],
   "source": [
    "# 5.7.2"
   ]
  },
  {
   "cell_type": "code",
   "execution_count": null,
   "id": "88dcacfa-21b4-4d1e-a922-03593756909c",
   "metadata": {},
   "outputs": [],
   "source": [
    "import sys, os\n",
    "sys.path.append(os.pardir)\n",
    "import numpy as np\n",
    "from common.layers import *\n",
    "from common.gradient import numerical_gradient\n",
    "from collections import OrderedDict\n",
    "\n",
    "class TwoLayerNet:\n",
    "\n",
    "    def __init__(self, input_size, hidden_size, output_size, \n",
    "                 weight_init_std=0.01):\n",
    "        # 가중치 초기화 (다음장)\n",
    "        self.params = {}\n",
    "        self.params['W1'] =  weight_init * np.random.randn(input_size, hidden_size)\n",
    "        self.params['b1'] =  np.zeros(hidden_size)\n",
    "        self.params['W2'] =  weight_init * np.random.randn(hidden_size, output_size)\n",
    "        self.params['b2'] =  np.zeros(output_size)\n",
    "\n",
    "        # 계층 생성\n",
    "        self.layers = OrderedDict()\n",
    "        self.layers['Affine1'] =\\\n",
    "            Affine(self.params['W1'], self.params['b1'])\n",
    "        self.layers['Relu1'] = Relu()\n",
    "        self.layer['Affine2'] = \\\n",
    "            Affine(self.params['W2'], self.params['b2'])\n",
    "\n",
    "        self.lastLayer = SoftmaxWithLoss()\n",
    "\n",
    "    def predict(self, x):\n",
    "        for layer in self.layers.values():  # 순서대로 호출(ordereddict)\n",
    "            x = layer.forward(x)\n",
    "\n",
    "        return x  # lastLayer(softmaxwithloss) 들어가기 전\n",
    "\n",
    "    # x : 입력 데이터, t : 정답 레이블\n",
    "    def loss(self, x, t):\n",
    "        y = self.predict(x)\n",
    "        return self.lastLayer.forward(y, t)\n",
    "\n",
    "    def accuracy(self, x, t):\n",
    "        y = self.predict(x)  # batch가 아니라 전체에 대해(per epoch)\n",
    "        y = np.argmax(y, axis=1)  # softmax\\wloss 전\n",
    "        if t.ndim != 1 : t = np.argmax(t, axis=1) \n",
    "        # 원핫인코딩이 안됐다면, 가장 큰 인덱스 반환해라\n",
    "\n",
    "        accuracy = np.sum(y == t) / float(x.shape[0])\n",
    "        return accuracy\n",
    "\n",
    "    # x : 입력 데이터, t : 정답 레이블\n",
    "    def numerical_gradient(self, x, t):\n",
    "        loss_W = lambda W: self.loss(x, t)\n",
    "\n",
    "        grads = {}\n",
    "        grads['W1'] = numerical_gradient(loss_W, self.params['W1'])\n",
    "        grads['b1'] = numerical_gradient(loss_W, self.params['b1'])\n",
    "        grads['W2'] = numerical_gradient(loss_W, self.params['W1'])\n",
    "        grads['b2'] = numerical_gradient(loss_W, self.params['b2'])\n",
    "        return grads\n",
    "\n",
    "    # 이 전 챕터에서 성능 향상이라고 했던 것\n",
    "    def gradient(self, x, t):\n",
    "        # 순전파  \n",
    "        self.loss(x, t)  # loss() 안에 predict, predict 안에 forward\n",
    "\n",
    "        # 역전파\n",
    "        dout = 1\n",
    "        dout = self.lastLayer.backward(dout)\n",
    "\n",
    "        layers = list(self.layers.values())  \n",
    "        layers.reverse() # backward!\n",
    "        for layer in layers:                 # def predict()와 동일\n",
    "            dout = layer.backward(dout)\n",
    "\n",
    "        # 결과 저장\n",
    "        grads = {} # 인스턴스변수 불러오기만 하면 됨\n",
    "        grads['W1'] = self.layers['Affine1'].dW\n",
    "        grads['b1'] = self.layers['Affine1'].db\n",
    "        grads['W2'] = self.layers['Affine2'].dW\n",
    "        grads['b2'] = self.layers['Affine2'].db\n",
    "        return grads"
   ]
  },
  {
   "cell_type": "markdown",
   "id": "b4d17d5a-4711-4443-ba01-c755eee61cd5",
   "metadata": {},
   "source": [
    "이 코드는 정답 레이블 `t`가 원-핫 인코딩되어 있지 않은 경우, 즉 `t`가 1차원 배열이 아니라면 원-핫 인코딩된 형태로 변환하는 역할을 합니다.\r\n",
    "\r\n",
    "여기서 `ndim`은 배열의 차원 수를 반환하는 NumPy 배열 속성입니다. 정답 레이블이 원-핫 인코딩된 경우, 즉 클래스를 나타내는 차원이 1차원인 경우에는 `t.ndim`이 1이 됩니다. 그러나 원-핫 인코딩되지 않은 경우에는 클래스를 나타내는 차원이 추가로 증가하여 2차원 이상이 됩니다.\r\n",
    "\r\n",
    "따라서 `if t.ndim != 1`은 정답 레이블이 원-핫 인코딩되지 않은 경우를 확인하고, `t`를 원-핫 인코딩된 형태로 변환하기 위해 `np.argmax()` 함수를 사용합니다. `np.argmax(t, axis=1)`은 각 행에서 최댓값을 가지는 인덱스를 찾아 해당 인덱스를 반환하는 함수이며, 이를 통해 원-핫 인코딩된 형태로 변환됩니다.\r\n",
    "\r\n",
    "즉, `t`가 원-핫 인코딩되어 있지 않은 경우에는 `np.argmax(t, axis=1)`를 통해 각 행에서 가장 큰 값의 인덱스를 가져와서 `t`를 원-핫 인코딩된 형태로 변환합니다. 따라서 코드에서는 이러한 처리를 수행하고 있습니다."
   ]
  },
  {
   "cell_type": "code",
   "execution_count": 217,
   "id": "267e74d1-42d5-4a0c-b383-d98534033a26",
   "metadata": {},
   "outputs": [
    {
     "ename": "TypeError",
     "evalue": "reversed() takes 0 positional arguments but 1 was given",
     "output_type": "error",
     "traceback": [
      "\u001b[0;31m---------------------------------------------------------------------------\u001b[0m",
      "\u001b[0;31mTypeError\u001b[0m                                 Traceback (most recent call last)",
      "Cell \u001b[0;32mIn[217], line 7\u001b[0m\n\u001b[1;32m      4\u001b[0m ordered_dict \u001b[38;5;241m=\u001b[39m OrderedDict([(\u001b[38;5;124m'\u001b[39m\u001b[38;5;124mlayer1\u001b[39m\u001b[38;5;124m'\u001b[39m, \u001b[38;5;241m1\u001b[39m), (\u001b[38;5;124m'\u001b[39m\u001b[38;5;124mlayer2\u001b[39m\u001b[38;5;124m'\u001b[39m, \u001b[38;5;241m2\u001b[39m), (\u001b[38;5;124m'\u001b[39m\u001b[38;5;124mlayer3\u001b[39m\u001b[38;5;124m'\u001b[39m, \u001b[38;5;241m3\u001b[39m)])\n\u001b[1;32m      6\u001b[0m \u001b[38;5;66;03m# 키를 역순으로 반복하여 값 출력\u001b[39;00m\n\u001b[0;32m----> 7\u001b[0m \u001b[38;5;28;01mfor\u001b[39;00m item \u001b[38;5;129;01min\u001b[39;00m \u001b[38;5;28;43mreversed\u001b[39;49m\u001b[43m(\u001b[49m\u001b[43mordered_dict\u001b[49m\u001b[43m)\u001b[49m:\n\u001b[1;32m      8\u001b[0m     \u001b[38;5;28mprint\u001b[39m(item)\n",
      "\u001b[0;31mTypeError\u001b[0m: reversed() takes 0 positional arguments but 1 was given"
     ]
    }
   ],
   "source": [
    "from collections import OrderedDict\n",
    "\n",
    "# OrderedDict 객체 생성\n",
    "ordered_dict = OrderedDict([('layer1', 1), ('layer2', 2), ('layer3', 3)])\n",
    "\n",
    "# 키를 역순으로 반복하여 값 출력\n",
    "for item in reversed(ordered_dict):\n",
    "    print(item)"
   ]
  },
  {
   "cell_type": "code",
   "execution_count": 208,
   "id": "6c19634b-2cf1-465d-891e-f7d5f4a7fc67",
   "metadata": {},
   "outputs": [
    {
     "name": "stdout",
     "output_type": "stream",
     "text": [
      "3\n",
      "2\n",
      "1\n"
     ]
    }
   ],
   "source": [
    "layers = OrderedDict([('layer1', 1), ('layer2', 2), ('layer3', 3)])\n",
    "layers = list(layers.values())\n",
    "layers.reverse()\n",
    "for value in layers:\n",
    "    print(value)"
   ]
  },
  {
   "cell_type": "code",
   "execution_count": 213,
   "id": "ed4d2369-ba18-4ce1-aa6b-e6cabb612d6f",
   "metadata": {},
   "outputs": [
    {
     "name": "stdout",
     "output_type": "stream",
     "text": [
      "시작 : 1\n",
      "6\n",
      "시작 : 6\n",
      "11\n",
      "시작 : 11\n",
      "16\n",
      "시작 : 16\n",
      "21\n",
      "시작 : 21\n",
      "26\n",
      "시작 : 26\n",
      "31\n",
      "시작 : 31\n",
      "36\n",
      "시작 : 36\n",
      "41\n",
      "시작 : 41\n",
      "46\n",
      "시작 : 46\n",
      "51\n"
     ]
    }
   ],
   "source": [
    "dout = 1\n",
    "for i in range(10):                \n",
    "     print(f'시작 : {dout}')\n",
    "     dout += 5\n",
    "     print(dout)"
   ]
  },
  {
   "cell_type": "code",
   "execution_count": null,
   "id": "0969af71-8a40-4af7-af30-883bfdc06ad1",
   "metadata": {},
   "outputs": [],
   "source": []
  }
 ],
 "metadata": {
  "kernelspec": {
   "display_name": "Python 3 (ipykernel)",
   "language": "python",
   "name": "python3"
  },
  "language_info": {
   "codemirror_mode": {
    "name": "ipython",
    "version": 3
   },
   "file_extension": ".py",
   "mimetype": "text/x-python",
   "name": "python",
   "nbconvert_exporter": "python",
   "pygments_lexer": "ipython3",
   "version": "3.9.13"
  }
 },
 "nbformat": 4,
 "nbformat_minor": 5
}
