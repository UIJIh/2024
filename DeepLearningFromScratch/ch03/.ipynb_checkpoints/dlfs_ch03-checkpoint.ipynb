{
 "cells": [
  {
   "cell_type": "code",
   "execution_count": 1,
   "id": "6ed95998-aa5a-4f56-b296-0ff1fe89bfda",
   "metadata": {},
   "outputs": [],
   "source": [
    "# 3.2.2\n",
    "def step_function(x):\n",
    "    if x > 0:\n",
    "        return 1\n",
    "    else:\n",
    "        return 0"
   ]
  },
  {
   "cell_type": "code",
   "execution_count": null,
   "id": "55a901fb-e48c-4be2-ae7e-3ff1fcea1d37",
   "metadata": {},
   "outputs": [],
   "source": [
    "step_function(np.array([1.0, 2.0]))"
   ]
  },
  {
   "cell_type": "markdown",
   "id": "c095eb27-e41d-4dc4-94e2-7fed07bb8274",
   "metadata": {},
   "source": [
    "이 오류는 NumPy 배열에 대한 조건문(`if x > 0`)을 사용할 때 발생합니다. NumPy 배열은 스칼라가 아니라 여러 개의 요소를 가지고 있기 때문에, 조건문에서 어떤 기준으로 참/거짓을 판단해야 할지 모호한 상황이 발생합니다.\n",
    "\n",
    "좀 더 구체적으로 설명하면, `x > 0`는 각 배열 요소에 대해 비교를 수행하고 해당 요소의 참/거짓 여부를 담은 불리언 배열을 반환합니다. 그러나 이 배열 전체에 대해 단일한 참/거짓 값을 만들지 않고 각 요소에 대한 참/거짓 여부를 따로따로 확인해야 합니다. 그렇기 때문에 명시적으로 어떤 기준으로 참/거짓을 판단할지 지정해주어야 합니다.\n",
    "\n",
    "이 문제를 해결하기 위해서는 `np.any()`나 `np.all()`과 같은 함수를 사용하여 배열 전체에 대한 참/거짓 여부를 얻을 수 있습니다. 아래는 수정된 코드의 예시입니다:\n",
    "\n",
    "```python\n",
    "import numpy as np\n",
    "\n",
    "def step_function(x):\n",
    "    return np.where(x > 0, 1, 0)\n",
    "\n",
    "result = step_function(np.array([1.0, 2.0]))\n",
    "print(result)\n",
    "```\n",
    "\n",
    "이렇게 하면 `np.where()` 함수를 사용하여 배열 전체에 대해 조건을 적용하고, 해당 조건이 참이면 1을 반환하고 거짓이면 0을 반환합니다."
   ]
  },
  {
   "cell_type": "markdown",
   "id": "84845fca-a7d9-49da-b82a-89a2a6826490",
   "metadata": {},
   "source": [
    "`np.where()`, `np.any()`, 그리고 `np.all()`은 NumPy 라이브러리에서 제공하는 함수들입니다.\n",
    "\n",
    "1. **`np.where(condition, x, y)`**: 조건에 따라 값을 선택하는 함수입니다. 조건이 참이면 `x`를 선택하고, 거짓이면 `y`를 선택합니다. 반환 값은 새로운 배열입니다.\n",
    "\n",
    "    ```python\n",
    "    import numpy as np\n",
    "\n",
    "    arr = np.array([1, 2, 3, 4, 5])\n",
    "    result = np.where(arr > 3, 'yes', 'no')\n",
    "    print(result)\n",
    "    ```\n",
    "\n",
    "    출력:\n",
    "    ```\n",
    "    ['no' 'no' 'no' 'yes' 'yes']\n",
    "    ```\n",
    "\n",
    "2. **`np.any(array)`**: 배열의 요소 중 하나라도 참이면 `True`를 반환하고, 모든 요소가 거짓일 경우에만 `False`를 반환합니다.\n",
    "\n",
    "    ```python\n",
    "    import numpy as np\n",
    "\n",
    "    arr = np.array([False, False, True])\n",
    "    result = np.any(arr)\n",
    "    print(result)\n",
    "    ```\n",
    "\n",
    "    출력:\n",
    "    ```\n",
    "    True\n",
    "    ```\n",
    "\n",
    "3. **`np.all(array)`**: 배열의 모든 요소가 참이면 `True`를 반환하고, 하나라도 거짓이면 `False`를 반환합니다.\n",
    "\n",
    "    ```python\n",
    "    import numpy as np\n",
    "\n",
    "    arr = np.array([True, True, True])\n",
    "    result = np.all(arr)\n",
    "    print(result)\n",
    "    ```\n",
    "\n",
    "    출력:\n",
    "    ```\n",
    "    True\n",
    "    ```\n",
    "\n",
    "이 함수들은 NumPy에서 다양한 배열 연산과 조건 처리에 유용하게 사용됩니다."
   ]
  },
  {
   "cell_type": "code",
   "execution_count": 3,
   "id": "80965195-f8d0-4867-a241-f3fea9a228c1",
   "metadata": {},
   "outputs": [],
   "source": [
    "def step_function(x):\n",
    "    y = x > 0\n",
    "    return y.astype(np.int)"
   ]
  },
  {
   "cell_type": "code",
   "execution_count": 4,
   "id": "dcbe3c50-2c1e-4be6-9b45-8eee98c46344",
   "metadata": {},
   "outputs": [],
   "source": [
    "import numpy as np"
   ]
  },
  {
   "cell_type": "code",
   "execution_count": 5,
   "id": "95d63cfe-10e8-476b-a6cc-6edada29d525",
   "metadata": {},
   "outputs": [],
   "source": [
    "x = np.array([-1.0, 1.0, 2.0])"
   ]
  },
  {
   "cell_type": "code",
   "execution_count": 6,
   "id": "c5970587-e742-425d-aaf5-1a3d62accda7",
   "metadata": {},
   "outputs": [
    {
     "data": {
      "text/plain": [
       "array([-1.,  1.,  2.])"
      ]
     },
     "execution_count": 6,
     "metadata": {},
     "output_type": "execute_result"
    }
   ],
   "source": [
    "x"
   ]
  },
  {
   "cell_type": "code",
   "execution_count": 7,
   "id": "7cde0107-aec0-4161-af94-c7c7c2a302eb",
   "metadata": {},
   "outputs": [],
   "source": [
    "y = x > 0"
   ]
  },
  {
   "cell_type": "code",
   "execution_count": 8,
   "id": "9b81c83f-320f-40a9-822c-f56c70d1e876",
   "metadata": {},
   "outputs": [
    {
     "data": {
      "text/plain": [
       "array([False,  True,  True])"
      ]
     },
     "execution_count": 8,
     "metadata": {},
     "output_type": "execute_result"
    }
   ],
   "source": [
    "y"
   ]
  },
  {
   "cell_type": "code",
   "execution_count": 9,
   "id": "a2f43bd5-57db-4665-b456-4c2c853e12b3",
   "metadata": {
    "scrolled": true
   },
   "outputs": [
    {
     "name": "stderr",
     "output_type": "stream",
     "text": [
      "/tmp/ipykernel_4326/329137046.py:1: DeprecationWarning: `np.int` is a deprecated alias for the builtin `int`. To silence this warning, use `int` by itself. Doing this will not modify any behavior and is safe. When replacing `np.int`, you may wish to use e.g. `np.int64` or `np.int32` to specify the precision. If you wish to review your current use, check the release note link for additional information.\n",
      "Deprecated in NumPy 1.20; for more details and guidance: https://numpy.org/devdocs/release/1.20.0-notes.html#deprecations\n",
      "  y = y.astype(np.int)\n"
     ]
    }
   ],
   "source": [
    "y = y.astype(np.int)"
   ]
  },
  {
   "cell_type": "markdown",
   "id": "c361df52-a332-48ef-8d23-df2c42d82071",
   "metadata": {},
   "source": [
    "이 경고는 NumPy 버전 1.20에서 `np.int`의 사용이 폐지되었음을 나타냅니다. 경고는 코드에서 `np.int`를 사용하는 부분을 수정하라는 의미입니다.\n",
    "\n",
    "예를 들어, 코드에서 다음과 같이 `np.int`를 사용하고 있다면:\n",
    "\n",
    "```python\n",
    "y = y.astype(np.int)\n",
    "```\n",
    "\n",
    "이를 경고 없이 사용하려면 다음과 같이 수정할 수 있습니다:\n",
    "\n",
    "```python\n",
    "y = y.astype(int)\n",
    "```\n",
    "\n",
    "또는 정수의 크기를 명시적으로 지정하려면 `np.int64` 또는 `np.int32` 등을 사용할 수 있습니다. 경고에서 제안하는 대로 `np.int64` 또는 `np.int32`를 사용하여 정확한 크기를 명시하는 것이 좋습니다.\n",
    "\n",
    "```python\n",
    "y = y.astype(np.int64)  # 또는 np.int32 등\n",
    "```\n",
    "\n",
    "이렇게 수정하면 코드가 NumPy의 최신 버전에서도 정상적으로 동작하고 더 이상의 경고가 발생하지 않습니다."
   ]
  },
  {
   "cell_type": "code",
   "execution_count": 10,
   "id": "9b7585f4-72cd-42df-8ed2-d7efe4526536",
   "metadata": {},
   "outputs": [
    {
     "data": {
      "text/plain": [
       "array([0, 1, 1])"
      ]
     },
     "execution_count": 10,
     "metadata": {},
     "output_type": "execute_result"
    }
   ],
   "source": [
    "y"
   ]
  },
  {
   "cell_type": "code",
   "execution_count": 11,
   "id": "4c52af5a-af4b-417d-8f7d-c5d4369a8640",
   "metadata": {},
   "outputs": [
    {
     "name": "stderr",
     "output_type": "stream",
     "text": [
      "/tmp/ipykernel_4326/2932857095.py:2: DeprecationWarning: `np.int` is a deprecated alias for the builtin `int`. To silence this warning, use `int` by itself. Doing this will not modify any behavior and is safe. When replacing `np.int`, you may wish to use e.g. `np.int64` or `np.int32` to specify the precision. If you wish to review your current use, check the release note link for additional information.\n",
      "Deprecated in NumPy 1.20; for more details and guidance: https://numpy.org/devdocs/release/1.20.0-notes.html#deprecations\n",
      "  y = y.astype(np.int)\n"
     ]
    },
    {
     "data": {
      "text/plain": [
       "array([0, 1, 1])"
      ]
     },
     "execution_count": 11,
     "metadata": {},
     "output_type": "execute_result"
    }
   ],
   "source": [
    "y = np.array([False,  True,  True])\n",
    "y = y.astype(np.int)\n",
    "y"
   ]
  },
  {
   "cell_type": "code",
   "execution_count": 12,
   "id": "76c48a3d-cd03-49a9-938d-bb0bb981c43a",
   "metadata": {},
   "outputs": [
    {
     "data": {
      "text/plain": [
       "array([0, 1, 1])"
      ]
     },
     "execution_count": 12,
     "metadata": {},
     "output_type": "execute_result"
    }
   ],
   "source": [
    "y = np.array([False,  True,  True])\n",
    "y = y.astype(int)\n",
    "y"
   ]
  },
  {
   "cell_type": "code",
   "execution_count": 13,
   "id": "f19a532a-bf47-497c-a391-d5f39dc15bbb",
   "metadata": {},
   "outputs": [
    {
     "data": {
      "text/plain": [
       "array([0, 1, 1])"
      ]
     },
     "execution_count": 13,
     "metadata": {},
     "output_type": "execute_result"
    }
   ],
   "source": [
    "y = np.array([False,  True,  True])\n",
    "y = y.astype(np.int_)\n",
    "y"
   ]
  },
  {
   "cell_type": "code",
   "execution_count": 14,
   "id": "4552e2e8-4b46-4f76-a856-ba65749bdb83",
   "metadata": {},
   "outputs": [],
   "source": [
    "# 3.2.3"
   ]
  },
  {
   "cell_type": "code",
   "execution_count": 15,
   "id": "258811ff-25b4-4cbb-a4ca-7777b153c3c1",
   "metadata": {},
   "outputs": [
    {
     "name": "stderr",
     "output_type": "stream",
     "text": [
      "/tmp/ipykernel_4326/1892499688.py:5: DeprecationWarning: `np.int` is a deprecated alias for the builtin `int`. To silence this warning, use `int` by itself. Doing this will not modify any behavior and is safe. When replacing `np.int`, you may wish to use e.g. `np.int64` or `np.int32` to specify the precision. If you wish to review your current use, check the release note link for additional information.\n",
      "Deprecated in NumPy 1.20; for more details and guidance: https://numpy.org/devdocs/release/1.20.0-notes.html#deprecations\n",
      "  return np.array(x > 0, dtype=np.int)\n"
     ]
    },
    {
     "data": {
      "image/png": "[encoded data removed]",
      "text/plain": [
       "<Figure size 640x480 with 1 Axes>"
      ]
     },
     "metadata": {},
     "output_type": "display_data"
    }
   ],
   "source": [
    "import numpy as np\n",
    "import matplotlib.pylab as plt\n",
    "\n",
    "def step_function(x):\n",
    "    return np.array(x > 0, dtype=np.int)\n",
    "\n",
    "x = np.arange(-5.0, 5.0, 0.1)\n",
    "y = step_function(x)\n",
    "plt.plot(x, y)\n",
    "plt.ylim(-0.1, 1.1)   # y축의 범위 지정\n",
    "plt.show()"
   ]
  },
  {
   "cell_type": "code",
   "execution_count": 16,
   "id": "39e56b30-0744-4aab-bcb7-3a08be0bd866",
   "metadata": {},
   "outputs": [],
   "source": [
    "# 3.2.4"
   ]
  },
  {
   "cell_type": "code",
   "execution_count": 5,
   "id": "1a15502f-8e88-4829-bdd7-ec7716c23a1b",
   "metadata": {},
   "outputs": [],
   "source": [
    "def sigmoid(x):\n",
    "    return 1 / (1 + np.exp(-x))"
   ]
  },
  {
   "cell_type": "code",
   "execution_count": 18,
   "id": "60153c1c-7e83-431f-8ee2-3e16d45905b4",
   "metadata": {},
   "outputs": [],
   "source": [
    "x = np.array([-1.0, 1.0, 2.0])"
   ]
  },
  {
   "cell_type": "code",
   "execution_count": 19,
   "id": "4f59e345-e1ce-4cc5-b81f-ae9dd96f9ab4",
   "metadata": {},
   "outputs": [
    {
     "data": {
      "text/plain": [
       "array([0.26894142, 0.73105858, 0.88079708])"
      ]
     },
     "execution_count": 19,
     "metadata": {},
     "output_type": "execute_result"
    }
   ],
   "source": [
    "sigmoid(x)"
   ]
  },
  {
   "cell_type": "code",
   "execution_count": 20,
   "id": "a18d0ad9-c408-4adb-b2a9-d517f00d570f",
   "metadata": {},
   "outputs": [],
   "source": [
    "t = np.array([1.0, 2.0, 3.0])"
   ]
  },
  {
   "cell_type": "code",
   "execution_count": 21,
   "id": "a5302d90-5c10-42a6-bea5-2ee84f5fddef",
   "metadata": {},
   "outputs": [
    {
     "data": {
      "text/plain": [
       "array([2., 3., 4.])"
      ]
     },
     "execution_count": 21,
     "metadata": {},
     "output_type": "execute_result"
    }
   ],
   "source": [
    "1.0 + t"
   ]
  },
  {
   "cell_type": "code",
   "execution_count": 22,
   "id": "7b010203-3398-498a-84b4-2cea91017edc",
   "metadata": {},
   "outputs": [
    {
     "data": {
      "text/plain": [
       "array([1.        , 0.5       , 0.33333333])"
      ]
     },
     "execution_count": 22,
     "metadata": {},
     "output_type": "execute_result"
    }
   ],
   "source": [
    "1.0 / t"
   ]
  },
  {
   "cell_type": "code",
   "execution_count": 7,
   "id": "b8d47e8a-bc68-4935-aa67-1fecbf452196",
   "metadata": {},
   "outputs": [
    {
     "data": {
      "image/png": "[encoded data removed]",
      "text/plain": [
       "<Figure size 640x480 with 1 Axes>"
      ]
     },
     "metadata": {},
     "output_type": "display_data"
    }
   ],
   "source": [
    "x = np.arange(-5.0, 5.0, 0.1)\n",
    "y = sigmoid(x)\n",
    "plt.plot(x, y)\n",
    "plt.ylim(-0.1, 1.1)   # y축 범위 지정\n",
    "plt.show()"
   ]
  },
  {
   "cell_type": "code",
   "execution_count": 6,
   "id": "1695a98a-291a-4756-8cd2-3de7727d158e",
   "metadata": {},
   "outputs": [
    {
     "data": {
      "image/png": "[encoded data removed]",
      "text/plain": [
       "<Figure size 640x480 with 1 Axes>"
      ]
     },
     "metadata": {},
     "output_type": "display_data"
    }
   ],
   "source": [
    "import matplotlib.ticker as mticker\n",
    "import matplotlib.pyplot as plt\n",
    "import numpy as np\n",
    "\n",
    "fig, ax = plt.subplots()  # fig와 ax를 생성합니다.\n",
    "\n",
    "ax.xaxis.get_major_locator().set_params(nbins=9, steps=[1, 2, 5, 10])\n",
    "x = np.arange(-5.0, 5.0, 0.1)\n",
    "y = sigmoid(x)\n",
    "ax.plot(x, y)\n",
    "\n",
    "plt.show()"
   ]
  },
  {
   "cell_type": "code",
   "execution_count": 24,
   "id": "2d98b986-cb52-48ba-9beb-c58b3a9c0a21",
   "metadata": {},
   "outputs": [],
   "source": [
    "# 3.2.5"
   ]
  },
  {
   "cell_type": "code",
   "execution_count": 25,
   "id": "86141740-da83-4288-8197-e7890bed3fd8",
   "metadata": {},
   "outputs": [
    {
     "data": {
      "image/png": "[encoded data removed]",
      "text/plain": [
       "<Figure size 640x480 with 1 Axes>"
      ]
     },
     "metadata": {},
     "output_type": "display_data"
    }
   ],
   "source": [
    "import numpy as np\n",
    "import matplotlib.pylab as plt\n",
    "\n",
    "def sigmoid(x):\n",
    "    return 1 / (1 + np.exp(-x))\n",
    "\n",
    "def step_function(x):\n",
    "    return np.array(x > 0, dtype=int)\n",
    "\n",
    "x = np.arange(-5.0, 5.0, 0.1)\n",
    "y1 = sigmoid(x)\n",
    "y2 = step_function(x)\n",
    "\n",
    "plt.plot(x, y1)\n",
    "plt.plot(x, y2, \"k--\")     # k = black (linestyle=\"--\")\n",
    "plt.ylim(-0.1, 1.1)\n",
    "plt.show()"
   ]
  },
  {
   "cell_type": "code",
   "execution_count": 26,
   "id": "b4e95bab-a57c-43ec-85e5-f465f23f355a",
   "metadata": {},
   "outputs": [],
   "source": [
    "# 3.2.7"
   ]
  },
  {
   "cell_type": "code",
   "execution_count": 27,
   "id": "2d789052-dc9a-4e74-b353-ac0381354f35",
   "metadata": {},
   "outputs": [],
   "source": [
    "def relu(x):\n",
    "    return np.maximum(0, x)"
   ]
  },
  {
   "cell_type": "code",
   "execution_count": 28,
   "id": "b7f83f3d-c2d4-427f-a53b-8c0f0d12701e",
   "metadata": {},
   "outputs": [],
   "source": [
    "# 3.3"
   ]
  },
  {
   "cell_type": "code",
   "execution_count": 29,
   "id": "99d2c10d-96e5-45cc-9ae3-dbe4a64e3c09",
   "metadata": {},
   "outputs": [],
   "source": [
    "import numpy as np"
   ]
  },
  {
   "cell_type": "code",
   "execution_count": 30,
   "id": "2e31be32-a100-46c5-8af8-dc5c95ec8a0a",
   "metadata": {},
   "outputs": [],
   "source": [
    "A = np.array([1, 2, 3, 4])"
   ]
  },
  {
   "cell_type": "code",
   "execution_count": 31,
   "id": "37a4a3a9-c160-4c11-8f5b-61c29296f490",
   "metadata": {},
   "outputs": [
    {
     "name": "stdout",
     "output_type": "stream",
     "text": [
      "[1 2 3 4]\n"
     ]
    }
   ],
   "source": [
    "print(A)"
   ]
  },
  {
   "cell_type": "code",
   "execution_count": 32,
   "id": "be3d51e2-d30f-4296-90e2-d30ff282910f",
   "metadata": {},
   "outputs": [
    {
     "data": {
      "text/plain": [
       "1"
      ]
     },
     "execution_count": 32,
     "metadata": {},
     "output_type": "execute_result"
    }
   ],
   "source": [
    "np.ndim(A)"
   ]
  },
  {
   "cell_type": "code",
   "execution_count": 33,
   "id": "0d9bdcb7-d25d-4e05-bc6a-2f74734dfcb9",
   "metadata": {},
   "outputs": [
    {
     "data": {
      "text/plain": [
       "(4,)"
      ]
     },
     "execution_count": 33,
     "metadata": {},
     "output_type": "execute_result"
    }
   ],
   "source": [
    "A.shape"
   ]
  },
  {
   "cell_type": "code",
   "execution_count": 34,
   "id": "7ee4a6ab-9cf2-4eee-817d-ac403043810d",
   "metadata": {},
   "outputs": [
    {
     "data": {
      "text/plain": [
       "4"
      ]
     },
     "execution_count": 34,
     "metadata": {},
     "output_type": "execute_result"
    }
   ],
   "source": [
    "A.shape[0]"
   ]
  },
  {
   "cell_type": "code",
   "execution_count": 35,
   "id": "f9cce6a0-911a-4648-8f2d-39ee8b0701cf",
   "metadata": {},
   "outputs": [],
   "source": [
    "B = np.array([[1, 2], [3, 4], [5, 6]])"
   ]
  },
  {
   "cell_type": "code",
   "execution_count": 36,
   "id": "7ea8ae96-cc01-44a7-9162-2205fbc74e42",
   "metadata": {},
   "outputs": [
    {
     "name": "stdout",
     "output_type": "stream",
     "text": [
      "[[1 2]\n",
      " [3 4]\n",
      " [5 6]]\n"
     ]
    }
   ],
   "source": [
    "print(B)"
   ]
  },
  {
   "cell_type": "code",
   "execution_count": 37,
   "id": "68226f54-99a4-47b5-adfe-756e0b1e9f7a",
   "metadata": {},
   "outputs": [
    {
     "data": {
      "text/plain": [
       "2"
      ]
     },
     "execution_count": 37,
     "metadata": {},
     "output_type": "execute_result"
    }
   ],
   "source": [
    "np.ndim(B)"
   ]
  },
  {
   "cell_type": "code",
   "execution_count": 38,
   "id": "c53c8a88-a2a7-4308-a965-b085a84a6948",
   "metadata": {},
   "outputs": [
    {
     "data": {
      "text/plain": [
       "(3, 2)"
      ]
     },
     "execution_count": 38,
     "metadata": {},
     "output_type": "execute_result"
    }
   ],
   "source": [
    "B.shape"
   ]
  },
  {
   "cell_type": "code",
   "execution_count": 39,
   "id": "738cfc91-726e-4876-879a-5fc63f5a2800",
   "metadata": {},
   "outputs": [],
   "source": [
    "# 3.3.2"
   ]
  },
  {
   "cell_type": "code",
   "execution_count": 40,
   "id": "8aca077b-3cea-43e9-b832-fe44cc945353",
   "metadata": {},
   "outputs": [],
   "source": [
    "A = np.array([[1, 2], [3, 4]])"
   ]
  },
  {
   "cell_type": "code",
   "execution_count": 41,
   "id": "a0c7b0c8-c430-4b21-8d1d-bda38391626e",
   "metadata": {},
   "outputs": [
    {
     "data": {
      "text/plain": [
       "(2, 2)"
      ]
     },
     "execution_count": 41,
     "metadata": {},
     "output_type": "execute_result"
    }
   ],
   "source": [
    "A.shape"
   ]
  },
  {
   "cell_type": "code",
   "execution_count": 42,
   "id": "23d36a47-ef95-4712-af1c-d609193c6db9",
   "metadata": {},
   "outputs": [
    {
     "data": {
      "text/plain": [
       "(2, 2)"
      ]
     },
     "execution_count": 42,
     "metadata": {},
     "output_type": "execute_result"
    }
   ],
   "source": [
    "B = np.array([[5, 6], [7, 8]])\n",
    "B.shape"
   ]
  },
  {
   "cell_type": "code",
   "execution_count": 43,
   "id": "fb4a47fe-abff-43b2-a3e0-83d0169f196a",
   "metadata": {},
   "outputs": [
    {
     "data": {
      "text/plain": [
       "array([[19, 22],\n",
       "       [43, 50]])"
      ]
     },
     "execution_count": 43,
     "metadata": {},
     "output_type": "execute_result"
    }
   ],
   "source": [
    "np.dot(A, B)"
   ]
  },
  {
   "cell_type": "code",
   "execution_count": 44,
   "id": "d2d192c2-a145-49ea-9c9d-0b93c16261f7",
   "metadata": {},
   "outputs": [],
   "source": [
    "A = np.array([[1, 2, 3], [4, 5, 6]])"
   ]
  },
  {
   "cell_type": "code",
   "execution_count": 45,
   "id": "725f43d5-8614-4ba5-96fb-98473b724281",
   "metadata": {},
   "outputs": [
    {
     "data": {
      "text/plain": [
       "(2, 3)"
      ]
     },
     "execution_count": 45,
     "metadata": {},
     "output_type": "execute_result"
    }
   ],
   "source": [
    "A.shape"
   ]
  },
  {
   "cell_type": "code",
   "execution_count": 46,
   "id": "c80e07e3-7d86-41a9-8c9f-25153b58769a",
   "metadata": {},
   "outputs": [],
   "source": [
    "B = np.array([[1, 2], [3, 4], [5, 6]])"
   ]
  },
  {
   "cell_type": "code",
   "execution_count": 47,
   "id": "5ea67c81-8cc2-4db6-b790-9d88c95b466f",
   "metadata": {},
   "outputs": [
    {
     "data": {
      "text/plain": [
       "(3, 2)"
      ]
     },
     "execution_count": 47,
     "metadata": {},
     "output_type": "execute_result"
    }
   ],
   "source": [
    "B.shape"
   ]
  },
  {
   "cell_type": "code",
   "execution_count": 48,
   "id": "645ed092-da59-480c-b744-d8b75eb29ef2",
   "metadata": {},
   "outputs": [
    {
     "data": {
      "text/plain": [
       "array([[22, 28],\n",
       "       [49, 64]])"
      ]
     },
     "execution_count": 48,
     "metadata": {},
     "output_type": "execute_result"
    }
   ],
   "source": [
    "np.dot(A, B)"
   ]
  },
  {
   "cell_type": "code",
   "execution_count": 49,
   "id": "e8b8f559-b569-415e-8698-0c942aaf0ca6",
   "metadata": {},
   "outputs": [],
   "source": [
    "C = np.array([[1, 2], [3, 4]])"
   ]
  },
  {
   "cell_type": "code",
   "execution_count": 50,
   "id": "fdf24814-3502-42d8-8f3a-e3948f2a8186",
   "metadata": {},
   "outputs": [
    {
     "data": {
      "text/plain": [
       "(2, 2)"
      ]
     },
     "execution_count": 50,
     "metadata": {},
     "output_type": "execute_result"
    }
   ],
   "source": [
    "C.shape"
   ]
  },
  {
   "cell_type": "code",
   "execution_count": 51,
   "id": "1edd147d-69f2-4d31-950d-37ff44d32742",
   "metadata": {},
   "outputs": [
    {
     "data": {
      "text/plain": [
       "(2, 3)"
      ]
     },
     "execution_count": 51,
     "metadata": {},
     "output_type": "execute_result"
    }
   ],
   "source": [
    "A.shape"
   ]
  },
  {
   "cell_type": "code",
   "execution_count": 52,
   "id": "f93354fa-2720-45d9-9750-6995c15bbd93",
   "metadata": {},
   "outputs": [
    {
     "ename": "ValueError",
     "evalue": "shapes (2,3) and (2,2) not aligned: 3 (dim 1) != 2 (dim 0)",
     "output_type": "error",
     "traceback": [
      "\u001b[0;31m---------------------------------------------------------------------------\u001b[0m",
      "\u001b[0;31mValueError\u001b[0m                                Traceback (most recent call last)",
      "Cell \u001b[0;32mIn[52], line 1\u001b[0m\n\u001b[0;32m----> 1\u001b[0m \u001b[43mnp\u001b[49m\u001b[38;5;241;43m.\u001b[39;49m\u001b[43mdot\u001b[49m\u001b[43m(\u001b[49m\u001b[43mA\u001b[49m\u001b[43m,\u001b[49m\u001b[43m \u001b[49m\u001b[43mC\u001b[49m\u001b[43m)\u001b[49m\n",
      "File \u001b[0;32m<__array_function__ internals>:180\u001b[0m, in \u001b[0;36mdot\u001b[0;34m(*args, **kwargs)\u001b[0m\n",
      "\u001b[0;31mValueError\u001b[0m: shapes (2,3) and (2,2) not aligned: 3 (dim 1) != 2 (dim 0)"
     ]
    }
   ],
   "source": [
    "np.dot(A, C)"
   ]
  },
  {
   "cell_type": "code",
   "execution_count": 53,
   "id": "bbded536-75d9-4acf-b04f-af59cacd01b1",
   "metadata": {},
   "outputs": [],
   "source": [
    "A = np.array([[1,2], [3, 4], [5,6]])"
   ]
  },
  {
   "cell_type": "code",
   "execution_count": 54,
   "id": "a81e4202-685a-4035-9731-df7e9ead24aa",
   "metadata": {},
   "outputs": [
    {
     "data": {
      "text/plain": [
       "(3, 2)"
      ]
     },
     "execution_count": 54,
     "metadata": {},
     "output_type": "execute_result"
    }
   ],
   "source": [
    "A.shape"
   ]
  },
  {
   "cell_type": "code",
   "execution_count": 55,
   "id": "f6dc6966-4f48-4764-a353-97ad2d765cec",
   "metadata": {},
   "outputs": [],
   "source": [
    "B = np.array([7,8])"
   ]
  },
  {
   "cell_type": "code",
   "execution_count": 56,
   "id": "c78ed464-ff94-4399-8dbf-aafe235f837e",
   "metadata": {},
   "outputs": [
    {
     "data": {
      "text/plain": [
       "(2,)"
      ]
     },
     "execution_count": 56,
     "metadata": {},
     "output_type": "execute_result"
    }
   ],
   "source": [
    "B.shape"
   ]
  },
  {
   "cell_type": "code",
   "execution_count": 57,
   "id": "23a4ec23-9eac-4bc5-98d1-d2c99eccf800",
   "metadata": {},
   "outputs": [
    {
     "data": {
      "text/plain": [
       "array([23, 53, 83])"
      ]
     },
     "execution_count": 57,
     "metadata": {},
     "output_type": "execute_result"
    }
   ],
   "source": [
    "np.dot(A, B)"
   ]
  },
  {
   "cell_type": "code",
   "execution_count": 58,
   "id": "085ca24a-9d39-4a89-ae15-2b269ab6bafe",
   "metadata": {},
   "outputs": [],
   "source": [
    "# 3.3.3"
   ]
  },
  {
   "cell_type": "code",
   "execution_count": 59,
   "id": "bed48629-eec3-4060-991d-5e5c2e3ffd93",
   "metadata": {},
   "outputs": [],
   "source": [
    "X = np.array([1, 2])"
   ]
  },
  {
   "cell_type": "code",
   "execution_count": 60,
   "id": "a2c6f217-91b2-4ee9-98af-713a13108d85",
   "metadata": {},
   "outputs": [
    {
     "data": {
      "text/plain": [
       "(2,)"
      ]
     },
     "execution_count": 60,
     "metadata": {},
     "output_type": "execute_result"
    }
   ],
   "source": [
    "X.shape"
   ]
  },
  {
   "cell_type": "code",
   "execution_count": 61,
   "id": "b06dfcb4-6280-435d-be20-79ec87b887d5",
   "metadata": {},
   "outputs": [],
   "source": [
    "W = np.array([[1, 3, 5], [2, 4, 6]])"
   ]
  },
  {
   "cell_type": "code",
   "execution_count": 62,
   "id": "f7355151-d84a-4fbd-acea-0d7081b865f9",
   "metadata": {},
   "outputs": [
    {
     "name": "stdout",
     "output_type": "stream",
     "text": [
      "[[1 3 5]\n",
      " [2 4 6]]\n"
     ]
    }
   ],
   "source": [
    "print(W)"
   ]
  },
  {
   "cell_type": "code",
   "execution_count": 63,
   "id": "85c0cfcd-8088-4114-b470-9032b2d3f56b",
   "metadata": {},
   "outputs": [
    {
     "data": {
      "text/plain": [
       "(2, 3)"
      ]
     },
     "execution_count": 63,
     "metadata": {},
     "output_type": "execute_result"
    }
   ],
   "source": [
    "W.shape"
   ]
  },
  {
   "cell_type": "code",
   "execution_count": 64,
   "id": "e9d86c93-fe47-47ae-8c45-c86ad855b7d1",
   "metadata": {},
   "outputs": [],
   "source": [
    "Y = np.dot(X, W)"
   ]
  },
  {
   "cell_type": "code",
   "execution_count": 65,
   "id": "209342ab-cf7c-4110-a557-9516f8eb5590",
   "metadata": {},
   "outputs": [
    {
     "name": "stdout",
     "output_type": "stream",
     "text": [
      "[ 5 11 17]\n"
     ]
    }
   ],
   "source": [
    "print(Y)"
   ]
  },
  {
   "cell_type": "code",
   "execution_count": 66,
   "id": "eac757cc-4ab1-4658-a8fc-f1d7a0267b2a",
   "metadata": {},
   "outputs": [],
   "source": [
    "# 3.4.2"
   ]
  },
  {
   "cell_type": "code",
   "execution_count": 67,
   "id": "f511bf1e-2bab-4991-985e-4ade2d1b59da",
   "metadata": {},
   "outputs": [
    {
     "name": "stdout",
     "output_type": "stream",
     "text": [
      "(2, 3)\n",
      "(2,)\n",
      "(2,)\n"
     ]
    }
   ],
   "source": [
    "X = np.array([1.0, 0.5])\n",
    "W1 = np.array([[0.1, 0.3, 0.5], [0.2, 0.4, 0.6]])\n",
    "B1 = np.array([0.1, 0.2, 0.3])\n",
    "\n",
    "print(W1.shape)  # (2, 3)\n",
    "print(X.shape)   # (1, 2)\n",
    "print(B.shape)   # (1, 3)\n",
    "\n",
    "A1 = np.dot(X, W1) + B1"
   ]
  },
  {
   "cell_type": "code",
   "execution_count": 68,
   "id": "c0d26b00-2287-4429-95d6-f7c53c6c511d",
   "metadata": {},
   "outputs": [
    {
     "name": "stdout",
     "output_type": "stream",
     "text": [
      "[0.3 0.7 1.1]\n",
      "[0.57444252 0.66818777 0.75026011]\n"
     ]
    }
   ],
   "source": [
    "Z1 = sigmoid(A1)\n",
    "\n",
    "print(A1)  # [0.3, 0.7, 1.1]\n",
    "print(Z1)  # [0.57444252, 0.66818777, 0.75026011]"
   ]
  },
  {
   "cell_type": "code",
   "execution_count": 69,
   "id": "a0e16782-c4d4-45ba-84d8-4f5763a667d3",
   "metadata": {},
   "outputs": [
    {
     "name": "stdout",
     "output_type": "stream",
     "text": [
      "(3,)\n",
      "(3, 2)\n",
      "(2,)\n"
     ]
    }
   ],
   "source": [
    "W2 = np.array([[0.1, 0.4], [0.2, 0.5], [0.3, 0.6]])\n",
    "B2 = np.array([0.1, 0.2])\n",
    "\n",
    "print(Z1.shape)  # (3,)\n",
    "print(W2.shape)  # (3, 2)\n",
    "print(B2.shape)  # (2,)\n",
    "\n",
    "A2 = np.dot(Z1, W2) + B2\n",
    "Z2 = sigmoid(A2)"
   ]
  },
  {
   "cell_type": "code",
   "execution_count": 70,
   "id": "cafcfc4b-7502-448f-bad3-2c3bf3451c4b",
   "metadata": {},
   "outputs": [],
   "source": [
    "def identity_function(x):\n",
    "    return x\n",
    "\n",
    "W3 = np.array([[0.1, 0.3], [0.2, 0.4]])\n",
    "B3 = np.array([0.1, 0.2])\n",
    "\n",
    "A3 = np.dot(Z2, W3) + B3\n",
    "Y = identity_function(A3)   # 혹은 Y = A3"
   ]
  },
  {
   "cell_type": "code",
   "execution_count": 71,
   "id": "6e873f1b-b5ee-4825-b3f9-51a9af3ad22b",
   "metadata": {},
   "outputs": [],
   "source": [
    "# 3.4.3"
   ]
  },
  {
   "cell_type": "code",
   "execution_count": 72,
   "id": "3a762eb6-12eb-456c-b7d2-d0e9f60777af",
   "metadata": {},
   "outputs": [
    {
     "name": "stdout",
     "output_type": "stream",
     "text": [
      "[0.31682708 0.69627909]\n"
     ]
    }
   ],
   "source": [
    "def init_network():\n",
    "    network = {}\n",
    "    network['W1'] = np.array([[0.1, 0.3, 0.5], [0.2, 0.4, 0.6]])\n",
    "    network['b1'] = np.array([0.1, 0.2, 0.3])\n",
    "    network['W2'] = np.array([[0.1, 0.4], [0.2, 0.5], [0.3, 0.6]])\n",
    "    network['b2'] = np.array([0.1, 0.2])\n",
    "    network['W3'] = np.array([[0.1, 0.3], [0.2, 0.4]])\n",
    "    network['b3'] = np.array([0.1, 0.2])\n",
    "\n",
    "    return network\n",
    "\n",
    "def forward(network, x):\n",
    "    W1, W2, W3 = network['W1'], network['W2'], network['W3']\n",
    "    b1, b2, b3 = network['b1'], network['b2'], network['b3']\n",
    "\n",
    "    a1 = np.dot(x, W1) + b1\n",
    "    z1 = sigmoid(a1)\n",
    "    a2 = np.dot(z1, W2) + b2\n",
    "    z2 = sigmoid(a2)\n",
    "    a3 = np.dot(z2, W3) + b3\n",
    "    y = identity_function(a3)\n",
    "\n",
    "    return y\n",
    "\n",
    "network = init_network()\n",
    "x = np.array([1.0, 0.5])\n",
    "y = forward(network, x)\n",
    "print(y)  # [ 0.31682708 0.69627909]"
   ]
  },
  {
   "cell_type": "code",
   "execution_count": 73,
   "id": "3161aff2-3bbb-47a5-bb15-e19946061521",
   "metadata": {},
   "outputs": [],
   "source": [
    "# 3.5.1"
   ]
  },
  {
   "cell_type": "code",
   "execution_count": 74,
   "id": "8a2fde11-31dc-4b40-b929-76cc1f850294",
   "metadata": {},
   "outputs": [
    {
     "name": "stdout",
     "output_type": "stream",
     "text": [
      "[ 1.34985881 18.17414537 54.59815003]\n",
      "74.1221542101633\n",
      "[0.01821127 0.24519181 0.73659691]\n"
     ]
    }
   ],
   "source": [
    "import numpy as np\n",
    "\n",
    "a = np.array([0.3,2.9,4.0])\n",
    "\n",
    "exp_a = np.exp(a)\n",
    "print(exp_a)\n",
    "\n",
    "sum_exp_a = np.sum(exp_a)\n",
    "print(sum_exp_a)\n",
    "\n",
    "y = exp_a / sum_exp_a\n",
    "print(y)"
   ]
  },
  {
   "cell_type": "code",
   "execution_count": 75,
   "id": "5d28bbd7-e490-4908-99b0-9ffbfd5e7b5b",
   "metadata": {},
   "outputs": [],
   "source": [
    "def softman(a):\n",
    "    exp_a = np.exp(a)\n",
    "    sum_exp_a = np.sum(exp_a)\n",
    "    y = exp_a / sum_exp_a\n",
    "\n",
    "    return y"
   ]
  },
  {
   "cell_type": "code",
   "execution_count": 76,
   "id": "943c639a-6a73-4cee-846e-79615be53247",
   "metadata": {},
   "outputs": [
    {
     "name": "stdout",
     "output_type": "stream",
     "text": [
      "<class 'float'>\n",
      "0.3333333333333333\n",
      "-----------------------\n",
      "<class 'decimal.Decimal'>\n",
      "0.3333333333333333333333333333\n"
     ]
    }
   ],
   "source": [
    "from decimal import Decimal\n",
    "\n",
    "x = 1 / 3\n",
    "print(type(x))\n",
    "print(x)\n",
    "\n",
    "print(\"-----------------------\")\n",
    "\n",
    "y = Decimal(1) / Decimal(3)\n",
    "print(type(y))\n",
    "print(y)\n",
    "\n",
    "# The Decimal has a default precision of 28 places, while the float has 18 places."
   ]
  },
  {
   "cell_type": "code",
   "execution_count": 77,
   "id": "5a0db155-0f46-4050-99e9-4186469a0318",
   "metadata": {},
   "outputs": [],
   "source": [
    "# 3.5.2"
   ]
  },
  {
   "cell_type": "code",
   "execution_count": 78,
   "id": "9a235b5f-ad34-4f1c-adbf-13a9a82e17f3",
   "metadata": {},
   "outputs": [],
   "source": [
    "a = np.array([1010, 1000, 990])"
   ]
  },
  {
   "cell_type": "code",
   "execution_count": 79,
   "id": "c2ebe5a8-1dbf-4758-aec9-0231db662f30",
   "metadata": {},
   "outputs": [
    {
     "name": "stderr",
     "output_type": "stream",
     "text": [
      "/tmp/ipykernel_4326/3233825418.py:1: RuntimeWarning: overflow encountered in exp\n",
      "  np.exp(a) / np.sum(np.exp(a))  # 소프트맥수 함수의 계산\n",
      "/tmp/ipykernel_4326/3233825418.py:1: RuntimeWarning: invalid value encountered in true_divide\n",
      "  np.exp(a) / np.sum(np.exp(a))  # 소프트맥수 함수의 계산\n"
     ]
    },
    {
     "data": {
      "text/plain": [
       "array([nan, nan, nan])"
      ]
     },
     "execution_count": 79,
     "metadata": {},
     "output_type": "execute_result"
    }
   ],
   "source": [
    "np.exp(a) / np.sum(np.exp(a))  # 소프트맥수 함수의 계산"
   ]
  },
  {
   "cell_type": "code",
   "execution_count": 80,
   "id": "4a024eef-c851-4f12-882c-4339bbeebbef",
   "metadata": {},
   "outputs": [],
   "source": [
    "def softmax(a):\n",
    "    c = np.max(a)\n",
    "    exp_a = np.exp(a - c)  # 오버플로 대책\n",
    "    sum_exp_a = np.sum(exp_a)\n",
    "    y = exp_a / sum_exp_a\n",
    "\n",
    "    return y"
   ]
  },
  {
   "cell_type": "code",
   "execution_count": 81,
   "id": "865086f7-5046-4514-bab4-a4b70be0cae1",
   "metadata": {},
   "outputs": [],
   "source": [
    "a = np.array([0.3, 2.9, 4.0])"
   ]
  },
  {
   "cell_type": "code",
   "execution_count": 82,
   "id": "ce0802cf-52b4-4564-9a82-9788d59d0751",
   "metadata": {},
   "outputs": [],
   "source": [
    "y = softmax(a)"
   ]
  },
  {
   "cell_type": "code",
   "execution_count": 83,
   "id": "ea3954c1-ff33-4195-80ca-9f57ff5b5ac5",
   "metadata": {},
   "outputs": [
    {
     "name": "stdout",
     "output_type": "stream",
     "text": [
      "[0.01821127 0.24519181 0.73659691]\n"
     ]
    }
   ],
   "source": [
    "print(y)"
   ]
  },
  {
   "cell_type": "code",
   "execution_count": 84,
   "id": "629d6bf2-15b6-451c-aa79-9f954475e270",
   "metadata": {},
   "outputs": [
    {
     "data": {
      "text/plain": [
       "1.0"
      ]
     },
     "execution_count": 84,
     "metadata": {},
     "output_type": "execute_result"
    }
   ],
   "source": [
    "np.sum(y)"
   ]
  },
  {
   "cell_type": "code",
   "execution_count": 85,
   "id": "649465f8-b4db-402b-a8bd-3e58e0e12d9a",
   "metadata": {},
   "outputs": [],
   "source": [
    "# 손글씨 숫자 인식"
   ]
  },
  {
   "cell_type": "code",
   "execution_count": 86,
   "id": "671da3f4-3fff-4d0e-a7cc-ae4aaa8ea01e",
   "metadata": {},
   "outputs": [
    {
     "name": "stdout",
     "output_type": "stream",
     "text": [
      "(60000, 784)\n",
      "(60000,)\n",
      "(10000, 784)\n",
      "(10000,)\n"
     ]
    }
   ],
   "source": [
    "import sys, os\n",
    "sys.path.append(os.pardir)  # 부모 디렉터리의 파일을 가져올 수 있도록 설정\n",
    "from dataset.mnist import load_mnist\n",
    "\n",
    "# 처음 한 번은 몇 분 정도 걸립니다.\n",
    "(x_train, t_train), (x_test, t_test) = \\\n",
    "    load_mnist(flatten=True, normalize=False)\n",
    "\n",
    "# 각 데이터의 형상 출력\n",
    "print(x_train.shape) # (60000, 784)\n",
    "print(t_train.shape) # (60000,)\n",
    "print(x_test.shape) # (10000, 784)\n",
    "print(t_test.shape) # (10000,)"
   ]
  },
  {
   "cell_type": "code",
   "execution_count": 87,
   "id": "29aa8921-1015-4e59-bc24-9c3f23adff39",
   "metadata": {},
   "outputs": [
    {
     "name": "stdout",
     "output_type": "stream",
     "text": [
      "5\n",
      "(784,)\n",
      "(28, 28)\n"
     ]
    },
    {
     "data": {
      "image/jpeg": "[encoded data removed]",
      "image/png": "[encoded data removed]",
      "text/plain": [
       "<PIL.Image.Image image mode=L size=28x28>"
      ]
     },
     "metadata": {},
     "output_type": "display_data"
    }
   ],
   "source": [
    "import sys, os\n",
    "sys.path.append(os.pardir)\n",
    "import numpy as np\n",
    "from dataset.mnist import load_mnist\n",
    "from PIL import Image\n",
    "\n",
    "def img_show(img):\n",
    "    pil_img = Image.fromarray(np.uint8(img))\n",
    "    pil_img.show()\n",
    "\n",
    "(x_train, t_train), (x_test, t_test) = \\\n",
    "    load_mnist(flatten=True, normalize=False)\n",
    "\n",
    "img = x_train[0]\n",
    "label = t_train[0]\n",
    "print(label) # 5\n",
    "\n",
    "print(img.shape)            # (784,)\n",
    "img = img.reshape(28, 28)   # 원래 이미지의 모양으로 변형\n",
    "print(img.shape)            # (28, 28)\n",
    "\n",
    "img_show(img)"
   ]
  },
  {
   "cell_type": "code",
   "execution_count": 1,
   "id": "1fe30d92-c141-4b3d-b49a-3b7c37a9a3f3",
   "metadata": {},
   "outputs": [
    {
     "name": "stdout",
     "output_type": "stream",
     "text": [
      "5\n",
      "(784,)\n",
      "(28, 28)\n"
     ]
    },
    {
     "data": {
      "image/jpeg": "[encoded data removed]",
      "image/png": "[encoded data removed]",
      "text/plain": [
       "<PIL.Image.Image image mode=L size=28x28>"
      ]
     },
     "metadata": {},
     "output_type": "display_data"
    }
   ],
   "source": [
    "import sys, os\n",
    "sys.path.append(os.pardir) # 부모 directory\n",
    "import numpy as np\n",
    "from dataset.mnist import load_mnist # 데이터셋\n",
    "from PIL import Image # 이미지 표시를 위한 모듈(Python Image Library)\n",
    "\n",
    "def img_show(img, save_path=None):\n",
    "    pil_img = Image.fromarray(np.uint8(img)) #  NumPy 배열 형태 이미지 데이터를 PIL 이미지 객체로 변환\n",
    "    if save_path:\n",
    "        pil_img.save(save_path)\n",
    "    else:\n",
    "        pil_img.show()\n",
    "\n",
    "(x_train, t_train), (x_test, t_test) = \\\n",
    "    load_mnist(flatten=True, normalize=False)\n",
    "\n",
    "img = x_train[0] # 첫번째 데이터\n",
    "label = t_train[0]\n",
    "print(label) # 5\n",
    "\n",
    "print(img.shape)            # (784,)\n",
    "img = img.reshape(28, 28)   # 원래 이미지의 모양으로 변형\n",
    "print(img.shape)            # (28, 28)\n",
    "\n",
    "#img_show(img)\n",
    "\n",
    "# 이미지를 BMP 파일로 저장\n",
    "save_path = \"tmp2ojurv7v.bmp\"\n",
    "img_show(img, save_path)"
   ]
  },
  {
   "cell_type": "code",
   "execution_count": 89,
   "id": "5a8d7dad-3a92-490a-a081-6bfdbb2be1fa",
   "metadata": {},
   "outputs": [],
   "source": [
    "def get_data():\n",
    "    (x_train, t_train), (x_test, t_test) = \\\n",
    "        load_mnist(normalize=True, flatten=True, one_hot_label=False)\n",
    "    return x_test, t_test\n",
    "\n",
    "def init_network():\n",
    "    # with 생성 >> 사용 >> 소멸(파일자동닫기)\n",
    "    with open(\"sample_weight.pkl\", 'rb') as f:\n",
    "        network = pickle.load(f)\n",
    "\n",
    "    return network\n",
    "\n",
    "def predict(network, x):\n",
    "    W1, W2, W3 = network['W1'], network['W2'], network['W3']\n",
    "    b1, b2, b3 = network['b1'], network['b2'], network['b3']\n",
    "\n",
    "    a1 = np.dot(x, W1) + b1\n",
    "    z1 = sigmoid(a1)\n",
    "    a2 = np.dot(z1, W2) + b2\n",
    "    z2 = sigmoid(a2)\n",
    "    a3 = np.dot(z2, W3) + b3\n",
    "    y = softmax(a3)\n",
    "\n",
    "    return y"
   ]
  },
  {
   "cell_type": "code",
   "execution_count": 95,
   "id": "8de20260-5acf-42b5-94b6-94c1667e8771",
   "metadata": {},
   "outputs": [
    {
     "name": "stdout",
     "output_type": "stream",
     "text": [
      "9352\n",
      "Accuracy:0.9352\n"
     ]
    }
   ],
   "source": [
    "import pickle\n",
    "\n",
    "x, t = get_data()\n",
    "network = init_network()\n",
    "\n",
    "accuracy_cnt = 0\n",
    "for i in range(len(x)):\n",
    "    y = predict(network, x[i])\n",
    "    #print(y)\n",
    "    p = np.argmax(y)  # 확률이 가장 높은 원소의 인덱스를 얻는다.\n",
    "    #print(p)\n",
    "    if p == t[i]:\n",
    "        accuracy_cnt += 1\n",
    "#print(accuracy_cnt)\n",
    "print(\"Accuracy:\" + str(float(accuracy_cnt) / len(x)))"
   ]
  },
  {
   "cell_type": "code",
   "execution_count": 97,
   "id": "699eea0f-71ae-4ad1-a9e0-51bc8db5004a",
   "metadata": {},
   "outputs": [
    {
     "name": "stdout",
     "output_type": "stream",
     "text": [
      "Accuracy:0.9352\n",
      "0.9352\n"
     ]
    }
   ],
   "source": [
    "import pickle\n",
    "\n",
    "x, t = get_data()\n",
    "network = init_network()\n",
    "\n",
    "accuracy_cnt = 0\n",
    "for i in range(len(x)):\n",
    "    y = predict(network, x[i])\n",
    "    #print(y)\n",
    "    p = np.argmax(y)  # 확률이 가장 높은 원소의 인덱스를 얻는다.\n",
    "    #print(p)\n",
    "    if p == t[i]:\n",
    "        accuracy_cnt += 1\n",
    "#print(accuracy_cnt)\n",
    "print(\"Accuracy:\" + str(float(accuracy_cnt) / len(x)))\n",
    "print(float(accuracy_cnt) / len(x))"
   ]
  },
  {
   "cell_type": "code",
   "execution_count": 99,
   "id": "2790903a-0828-426d-b76e-e15607051c8a",
   "metadata": {},
   "outputs": [],
   "source": [
    "x, _ = get_data() #_ : 레이블 데이터에 해당하는 값을 무시\n",
    "network = init_network()\n",
    "W1, W2, W3 = network['W1'], network['W2'], network['W3']"
   ]
  },
  {
   "cell_type": "code",
   "execution_count": 100,
   "id": "3f900d24-69f1-4ad7-ac8d-c95fc3aeccd6",
   "metadata": {},
   "outputs": [
    {
     "data": {
      "text/plain": [
       "(10000, 784)"
      ]
     },
     "execution_count": 100,
     "metadata": {},
     "output_type": "execute_result"
    }
   ],
   "source": [
    "x.shape"
   ]
  },
  {
   "cell_type": "code",
   "execution_count": 101,
   "id": "872e9626-3340-409c-9e27-27cf4fe8cb80",
   "metadata": {},
   "outputs": [
    {
     "data": {
      "text/plain": [
       "(784,)"
      ]
     },
     "execution_count": 101,
     "metadata": {},
     "output_type": "execute_result"
    }
   ],
   "source": [
    "x[0].shape"
   ]
  },
  {
   "cell_type": "code",
   "execution_count": 102,
   "id": "62439e70-e2c8-4438-92ea-38e081611d54",
   "metadata": {},
   "outputs": [
    {
     "data": {
      "text/plain": [
       "(784, 50)"
      ]
     },
     "execution_count": 102,
     "metadata": {},
     "output_type": "execute_result"
    }
   ],
   "source": [
    "W1.shape"
   ]
  },
  {
   "cell_type": "code",
   "execution_count": 103,
   "id": "f809a6c1-d521-483e-b5ea-02d8b2982b13",
   "metadata": {},
   "outputs": [
    {
     "data": {
      "text/plain": [
       "(50, 100)"
      ]
     },
     "execution_count": 103,
     "metadata": {},
     "output_type": "execute_result"
    }
   ],
   "source": [
    "W2.shape"
   ]
  },
  {
   "cell_type": "code",
   "execution_count": 104,
   "id": "cbf6b627-d9c9-4aa0-9ea1-6da1a2299fd1",
   "metadata": {},
   "outputs": [
    {
     "data": {
      "text/plain": [
       "(100, 10)"
      ]
     },
     "execution_count": 104,
     "metadata": {},
     "output_type": "execute_result"
    }
   ],
   "source": [
    "W3.shape"
   ]
  },
  {
   "cell_type": "code",
   "execution_count": 105,
   "id": "c988b49f-30d9-4e9a-8d9a-444dd8b9f4df",
   "metadata": {},
   "outputs": [
    {
     "name": "stdout",
     "output_type": "stream",
     "text": [
      "Accuracy:0.9352\n"
     ]
    }
   ],
   "source": [
    "x, t = get_data()\n",
    "network = init_network()\n",
    "\n",
    "batch_size = 100 # 배치 크기\n",
    "accuracy_cnt = 0\n",
    "\n",
    "for i in range(0, len(x), batch_size):\n",
    "    batch_in = x[i:i+batch_size]\n",
    "    y = predict(network, batch_in)\n",
    "    p = np.argmax(y, axis=1)\n",
    "    accuracy_cnt += np.sum(p==t[i:i+batch_size])\n",
    "\n",
    "print(\"Accuracy:\" + str(float(accuracy_cnt) / len(x)))"
   ]
  },
  {
   "cell_type": "code",
   "execution_count": 106,
   "id": "a3605a0e-426b-46d9-839a-7d79f2cd3796",
   "metadata": {},
   "outputs": [
    {
     "name": "stdout",
     "output_type": "stream",
     "text": [
      "[ True  True False  True]\n"
     ]
    }
   ],
   "source": [
    "y = np.array([1, 2, 1, 0])\n",
    "t = np.array([1, 2, 0, 0])\n",
    "print(y==t)"
   ]
  }
 ],
 "metadata": {
  "kernelspec": {
   "display_name": "Python 3 (ipykernel)",
   "language": "python",
   "name": "python3"
  },
  "language_info": {
   "codemirror_mode": {
    "name": "ipython",
    "version": 3
   },
   "file_extension": ".py",
   "mimetype": "text/x-python",
   "name": "python",
   "nbconvert_exporter": "python",
   "pygments_lexer": "ipython3",
   "version": "3.9.13"
  }
 },
 "nbformat": 4,
 "nbformat_minor": 5
}
