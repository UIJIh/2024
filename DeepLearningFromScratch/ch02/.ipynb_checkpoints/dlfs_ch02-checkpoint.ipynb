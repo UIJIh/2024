{
 "cells": [
  {
   "cell_type": "code",
   "execution_count": 9,
   "id": "c68538f2-8522-4ff4-afb7-bd73635a6b24",
   "metadata": {},
   "outputs": [],
   "source": [
    "def AND(x1, x2):\n",
    "    w1, w2, theta = 0.5, 0.5, 0.7\n",
    "    tmp = x1*w1 + x2*w2\n",
    "    if tmp <= theta:\n",
    "        return 0\n",
    "    elif tmp > theta:\n",
    "        return 1"
   ]
  },
  {
   "cell_type": "code",
   "execution_count": 10,
   "id": "e2d3606c-5c7a-41c7-8070-a03c634182ef",
   "metadata": {},
   "outputs": [
    {
     "data": {
      "text/plain": [
       "1"
      ]
     },
     "execution_count": 10,
     "metadata": {},
     "output_type": "execute_result"
    }
   ],
   "source": [
    "AND(0, 0) # 0을 출력\n",
    "AND(1, 0) # 0을 출력\n",
    "AND(0, 1) # 0을 출력\n",
    "AND(1, 1) # 1을 출력"
   ]
  },
  {
   "cell_type": "code",
   "execution_count": 11,
   "id": "7d3c4f9a-b3c4-4b4d-b505-ede542b34195",
   "metadata": {},
   "outputs": [
    {
     "name": "stdout",
     "output_type": "stream",
     "text": [
      "0\n",
      "0\n",
      "0\n",
      "1\n"
     ]
    }
   ],
   "source": [
    "print(AND(0, 0))  # 0 출력\n",
    "print(AND(1, 0))  # 0 출력\n",
    "print(AND(0, 1))  # 0 출력\n",
    "print(AND(1, 1))  # 1 출력"
   ]
  },
  {
   "cell_type": "code",
   "execution_count": 12,
   "id": "383163be-f63c-4f60-aa50-4e0ed700f3bd",
   "metadata": {},
   "outputs": [],
   "source": [
    "# 2.3.2"
   ]
  },
  {
   "cell_type": "code",
   "execution_count": 13,
   "id": "8bf03335-60c3-467b-88e3-0b893b582670",
   "metadata": {},
   "outputs": [],
   "source": [
    "import numpy as np"
   ]
  },
  {
   "cell_type": "code",
   "execution_count": 23,
   "id": "b27af612-f874-447e-b247-72c80704cb0b",
   "metadata": {},
   "outputs": [],
   "source": [
    "x = np.array([0, 1])     # 입력"
   ]
  },
  {
   "cell_type": "code",
   "execution_count": 24,
   "id": "536961ca-d5ab-4c6d-b354-eb246d5c34ce",
   "metadata": {},
   "outputs": [],
   "source": [
    "w = np.array([0.5, 0.5]) # 가중치"
   ]
  },
  {
   "cell_type": "code",
   "execution_count": 25,
   "id": "cd15db43-3098-4504-bf83-b469ac70ad2a",
   "metadata": {},
   "outputs": [],
   "source": [
    "b = -0.7                 # 편향"
   ]
  },
  {
   "cell_type": "code",
   "execution_count": 26,
   "id": "7f9472fb-efa6-4d35-90a1-778814042d18",
   "metadata": {},
   "outputs": [
    {
     "data": {
      "text/plain": [
       "array([0. , 0.5])"
      ]
     },
     "execution_count": 26,
     "metadata": {},
     "output_type": "execute_result"
    }
   ],
   "source": [
    "w*x"
   ]
  },
  {
   "cell_type": "code",
   "execution_count": 27,
   "id": "feb24dd5-f3e0-4646-aa0d-5d804e82bbfb",
   "metadata": {},
   "outputs": [
    {
     "data": {
      "text/plain": [
       "0.5"
      ]
     },
     "execution_count": 27,
     "metadata": {},
     "output_type": "execute_result"
    }
   ],
   "source": [
    "np.sum(w*x)"
   ]
  },
  {
   "cell_type": "code",
   "execution_count": 28,
   "id": "5b249c3c-e206-40dd-9584-0cd97c1739bd",
   "metadata": {},
   "outputs": [
    {
     "data": {
      "text/plain": [
       "-0.19999999999999996"
      ]
     },
     "execution_count": 28,
     "metadata": {},
     "output_type": "execute_result"
    }
   ],
   "source": [
    "np.sum(w*x) + b"
   ]
  },
  {
   "cell_type": "code",
   "execution_count": 29,
   "id": "93f7562c-ab96-4be2-9a34-4fcaf68bc995",
   "metadata": {},
   "outputs": [],
   "source": [
    "# 대략 -0.2 (부동소수점 수에 의한 연산 오차)"
   ]
  },
  {
   "cell_type": "code",
   "execution_count": 30,
   "id": "54ef3924-faa6-4167-93b9-176b4fa1fcea",
   "metadata": {},
   "outputs": [],
   "source": [
    "# 2.3.3"
   ]
  },
  {
   "cell_type": "code",
   "execution_count": 31,
   "id": "44ab0221-28d8-4964-88b2-4673236e7dc9",
   "metadata": {},
   "outputs": [],
   "source": [
    "def AND(x1, x2):\n",
    "    x = np.array([x1, x2])\n",
    "    w = np.array([0.5, 0.5])\n",
    "    b = -0.7\n",
    "    tmp = np.sum(x*w) + b\n",
    "    if tmp <= 0:\n",
    "        return 0\n",
    "    else:\n",
    "        return 1"
   ]
  },
  {
   "cell_type": "code",
   "execution_count": 32,
   "id": "27c2689b-02b3-4dc4-a78a-059b9a534549",
   "metadata": {},
   "outputs": [
    {
     "name": "stdout",
     "output_type": "stream",
     "text": [
      "0\n",
      "0\n",
      "0\n",
      "1\n"
     ]
    }
   ],
   "source": [
    "print(AND(0, 0))  # 0 출력\n",
    "print(AND(1, 0))  # 0 출력\n",
    "print(AND(0, 1))  # 0 출력\n",
    "print(AND(1, 1))  # 1 출력"
   ]
  },
  {
   "cell_type": "code",
   "execution_count": 33,
   "id": "b53d2165-93d0-4f7d-be6a-242d782cbecb",
   "metadata": {},
   "outputs": [],
   "source": [
    "def NAND(x1, x2):\n",
    "    x = np.array([x1, x2])\n",
    "    w = np.array([-0.5, -0.5]) # AND와는 가중치(w와 b)만 다르다!\n",
    "    b = 0.7\n",
    "    tmp = np.sum(x*w) + b\n",
    "    if tmp <= 0:\n",
    "        return 0\n",
    "    else:\n",
    "        return 1\n",
    "\n",
    "def OR(x1, x2):\n",
    "    x = np.array([x1, x2])\n",
    "    w = np.array([0.5, 0.5])   # AND와는 가중치(w와 b)만 다르다!\n",
    "    b = -0.2\n",
    "    tmp = np.sum(w*x) + b\n",
    "    if tmp <= 0:\n",
    "        return 0\n",
    "    else:\n",
    "        return 1"
   ]
  },
  {
   "cell_type": "code",
   "execution_count": 34,
   "id": "f91c6b76-7ee7-4d59-86de-24ec9f229444",
   "metadata": {},
   "outputs": [
    {
     "name": "stdout",
     "output_type": "stream",
     "text": [
      "1\n",
      "1\n",
      "1\n",
      "0\n"
     ]
    }
   ],
   "source": [
    "print(NAND(0, 0))  \n",
    "print(NAND(1, 0)) \n",
    "print(NAND(0, 1))  \n",
    "print(NAND(1, 1))  "
   ]
  },
  {
   "cell_type": "code",
   "execution_count": 35,
   "id": "75456463-0dca-471e-844b-76cc1a4b62fb",
   "metadata": {},
   "outputs": [
    {
     "name": "stdout",
     "output_type": "stream",
     "text": [
      "0\n",
      "1\n",
      "1\n",
      "1\n"
     ]
    }
   ],
   "source": [
    "print(OR(0, 0))  \n",
    "print(OR(1, 0)) \n",
    "print(OR(0, 1))  \n",
    "print(OR(1, 1))"
   ]
  },
  {
   "cell_type": "code",
   "execution_count": 37,
   "id": "737c1464-7aea-40e9-8613-d9740754e9cb",
   "metadata": {},
   "outputs": [],
   "source": [
    "# 2.5.2"
   ]
  },
  {
   "cell_type": "code",
   "execution_count": 38,
   "id": "d353dcae-0e8c-439e-967c-e000d2361994",
   "metadata": {},
   "outputs": [],
   "source": [
    "def XOR(x1, x2):\n",
    "    s1 = NAND(x1, x2)\n",
    "    s2 = OR(x1, x2)\n",
    "    y = AND(s1, s2)\n",
    "    return y"
   ]
  },
  {
   "cell_type": "code",
   "execution_count": 39,
   "id": "3161994f-7960-4bdc-87d8-61813949201b",
   "metadata": {},
   "outputs": [
    {
     "data": {
      "text/plain": [
       "0"
      ]
     },
     "execution_count": 39,
     "metadata": {},
     "output_type": "execute_result"
    }
   ],
   "source": [
    "XOR(0, 0) # 0을 출력\n",
    "XOR(1, 0) # 1을 출력\n",
    "XOR(0, 1) # 1을 출력\n",
    "XOR(1, 1) # 0을 출력"
   ]
  },
  {
   "cell_type": "code",
   "execution_count": 41,
   "id": "804da32e-60e3-438b-830b-9231b8ac55f3",
   "metadata": {},
   "outputs": [
    {
     "name": "stdout",
     "output_type": "stream",
     "text": [
      "0\n",
      "1\n",
      "1\n",
      "0\n"
     ]
    }
   ],
   "source": [
    "print(XOR(0, 0)) # 0을 출력\n",
    "print(XOR(1, 0)) # 1을 출력\n",
    "print(XOR(0, 1)) # 1을 출력\n",
    "print(XOR(1, 1)) # 0을 출력"
   ]
  }
 ],
 "metadata": {
  "kernelspec": {
   "display_name": "Python 3 (ipykernel)",
   "language": "python",
   "name": "python3"
  },
  "language_info": {
   "codemirror_mode": {
    "name": "ipython",
    "version": 3
   },
   "file_extension": ".py",
   "mimetype": "text/x-python",
   "name": "python",
   "nbconvert_exporter": "python",
   "pygments_lexer": "ipython3",
   "version": "3.9.13"
  }
 },
 "nbformat": 4,
 "nbformat_minor": 5
}
