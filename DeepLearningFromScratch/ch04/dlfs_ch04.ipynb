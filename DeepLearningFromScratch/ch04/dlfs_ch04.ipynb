{
 "cells": [
  {
   "cell_type": "code",
   "execution_count": 9,
   "id": "a7e5a44a-a1c0-473f-95e1-2256213e908a",
   "metadata": {},
   "outputs": [],
   "source": [
    "import numpy as np"
   ]
  },
  {
   "cell_type": "code",
   "execution_count": 6,
   "id": "265e6c34-a7cb-4acc-8809-2fea073f132c",
   "metadata": {},
   "outputs": [],
   "source": [
    "y = [0.1, 0.05, 0.6, 0.0, 0.05, 0.1, 0.0, 0.1, 0.0, 0.0]\n",
    "t = [0, 0, 1, 0, 0, 0, 0, 0, 0, 0]"
   ]
  },
  {
   "cell_type": "code",
   "execution_count": 27,
   "id": "433ee72d-1dfe-4be9-9b8d-ffd14a4062d1",
   "metadata": {},
   "outputs": [],
   "source": [
    "def sum_squares_error(y, t):\n",
    "\treturn 0.5 * np.sum((y-t)**2)"
   ]
  },
  {
   "cell_type": "code",
   "execution_count": 28,
   "id": "d7cf2f0b-9cb7-462f-8cfa-6d4d9fceca0d",
   "metadata": {},
   "outputs": [],
   "source": [
    "# 정답은 '1'"
   ]
  },
  {
   "cell_type": "code",
   "execution_count": 29,
   "id": "0047a80d-f587-46b3-a95e-afd8b94702af",
   "metadata": {},
   "outputs": [],
   "source": [
    "t = [0, 0, 1, 0, 0, 0, 0, 0, 0, 0]"
   ]
  },
  {
   "cell_type": "code",
   "execution_count": 30,
   "id": "6c9ae932-60e0-4c56-a37a-4a582e66d164",
   "metadata": {},
   "outputs": [],
   "source": [
    "# 예1 : '2'일 확률이 가장 높다고 추정함 ( 0. 6 )"
   ]
  },
  {
   "cell_type": "code",
   "execution_count": 31,
   "id": "d9be119d-4feb-4943-8013-dfb6c02107db",
   "metadata": {},
   "outputs": [],
   "source": [
    "y = [0.1, 0.05, 0.6, 0.0, 0.05, 0.1, 0.0, 0.1, 0.0, 0.0]"
   ]
  },
  {
   "cell_type": "code",
   "execution_count": 33,
   "id": "233b9f1e-2b35-4530-9a98-747cc42ea6c4",
   "metadata": {},
   "outputs": [
    {
     "name": "stdout",
     "output_type": "stream",
     "text": [
      "0.09750000000000003\n"
     ]
    }
   ],
   "source": [
    "print(sum_squares_error(np.array(y), np.array(t)))"
   ]
  },
  {
   "cell_type": "code",
   "execution_count": 34,
   "id": "ac4b47a4-54c1-424a-8fc5-8b770c90b9b0",
   "metadata": {},
   "outputs": [],
   "source": [
    "# 예2 : '7'일 확률이 가장 높다고 추정함 ( 0. 6 )"
   ]
  },
  {
   "cell_type": "code",
   "execution_count": 36,
   "id": "3c06c9c9-de45-42e4-89e9-10621b56d823",
   "metadata": {},
   "outputs": [],
   "source": [
    "y = [0.1, 0.05, 0.1, 0.0, 0.05, 0.1, 0.0, 0.6, 0.0, 0.0]"
   ]
  },
  {
   "cell_type": "code",
   "execution_count": 37,
   "id": "0a3448e2-28fb-4a4b-9b3e-812443d099c1",
   "metadata": {},
   "outputs": [
    {
     "name": "stdout",
     "output_type": "stream",
     "text": [
      "0.5975\n"
     ]
    }
   ],
   "source": [
    "print(sum_squares_error(np.array(y), np.array(t)))"
   ]
  },
  {
   "cell_type": "code",
   "execution_count": 38,
   "id": "e591a16c-b91c-40a6-9cd2-bbad4187be5d",
   "metadata": {},
   "outputs": [],
   "source": [
    "def cross_entropy_error(y, t):\n",
    "    delta = 1e-7\n",
    "    return -np.sum(t * np.log(y + delta))"
   ]
  },
  {
   "cell_type": "code",
   "execution_count": 39,
   "id": "b706ed53-b895-4eae-9c74-ffc7f9a20d81",
   "metadata": {},
   "outputs": [],
   "source": [
    "t = [0, 0, 1, 0, 0, 0, 0, 0, 0, 0]"
   ]
  },
  {
   "cell_type": "code",
   "execution_count": 40,
   "id": "fea04917-3de6-4b22-9b8f-fa835d486064",
   "metadata": {},
   "outputs": [],
   "source": [
    "y = [0.1, 0.05, 0.6, 0.0, 0.05, 0.1, 0.0, 0.1, 0.0, 0.0]"
   ]
  },
  {
   "cell_type": "code",
   "execution_count": 42,
   "id": "9e08026e-1d42-4613-9091-b384c2350cbe",
   "metadata": {},
   "outputs": [
    {
     "name": "stdout",
     "output_type": "stream",
     "text": [
      "0.510825457099338\n"
     ]
    }
   ],
   "source": [
    "print(cross_entropy_error(np.array(y), np.array(t)))"
   ]
  },
  {
   "cell_type": "code",
   "execution_count": 46,
   "id": "d0b3cfb7-0be2-4353-aa69-df152c354273",
   "metadata": {},
   "outputs": [],
   "source": [
    "y = [0.1, 0.05, 0.1, 0.0, 0.05, 0.1, 0.0, 0.6, 0.0, 0.0]"
   ]
  },
  {
   "cell_type": "code",
   "execution_count": 47,
   "id": "9b749766-b6f4-499d-8cfc-e8970a23407c",
   "metadata": {},
   "outputs": [
    {
     "name": "stdout",
     "output_type": "stream",
     "text": [
      "2.302584092994546\n"
     ]
    }
   ],
   "source": [
    "print(cross_entropy_error(np.array(y), np.array(t)))"
   ]
  },
  {
   "cell_type": "code",
   "execution_count": 48,
   "id": "92ddcb2f-5d23-4743-be46-5e85f704c9b5",
   "metadata": {},
   "outputs": [
    {
     "name": "stdout",
     "output_type": "stream",
     "text": [
      "(60000, 784)\n",
      "(60000, 10)\n"
     ]
    }
   ],
   "source": [
    "import sys, os\n",
    "sys.path.append(os.pardir)\n",
    "import numpy as np\n",
    "from dataset.mnist import load_mnist\n",
    "\n",
    "(x_train, t_train), (x_test, t_test) = \\\n",
    "    load_mnist(normalize=True, one_hot_label=True)\n",
    "\n",
    "print(x_train.shape) # (60000, 784)\n",
    "print(t_train.shape) # (60000, 10)"
   ]
  },
  {
   "cell_type": "code",
   "execution_count": 50,
   "id": "64406458-a916-4450-8b4d-c77ce489c301",
   "metadata": {},
   "outputs": [],
   "source": [
    "train_size = x_train.shape[0]\n",
    "batch_size = 10\n",
    "batch_mask = np.random.choice(train_size, batch_size)\n",
    "x_batch = x_train[batch_mask]\n",
    "t_batch = t_train[batch_mask]"
   ]
  },
  {
   "cell_type": "code",
   "execution_count": 51,
   "id": "0e87ba42-c0e1-4d6f-9300-5a9d62b8e530",
   "metadata": {},
   "outputs": [
    {
     "data": {
      "text/plain": [
       "array([ 2034, 24166, 27007, 12447, 56632, 46922, 18548, 26100, 59865,\n",
       "       47796])"
      ]
     },
     "execution_count": 51,
     "metadata": {},
     "output_type": "execute_result"
    }
   ],
   "source": [
    "np.random.choice(60000, 10)"
   ]
  },
  {
   "cell_type": "code",
   "execution_count": 52,
   "id": "674b348f-76a9-4d6c-b4f9-dd6c5cbc3fee",
   "metadata": {},
   "outputs": [
    {
     "name": "stdout",
     "output_type": "stream",
     "text": [
      "[[0. 0. 0. ... 0. 0. 0.]\n",
      " [0. 0. 0. ... 0. 0. 0.]\n",
      " [0. 0. 0. ... 0. 0. 0.]\n",
      " ...\n",
      " [0. 0. 0. ... 0. 0. 0.]\n",
      " [0. 0. 0. ... 0. 0. 0.]\n",
      " [0. 0. 0. ... 0. 0. 0.]]\n"
     ]
    }
   ],
   "source": [
    "print(x_batch)"
   ]
  },
  {
   "cell_type": "code",
   "execution_count": 53,
   "id": "6b517ab6-de19-46c8-ae8a-f280b70e881f",
   "metadata": {},
   "outputs": [
    {
     "data": {
      "text/plain": [
       "(10, 784)"
      ]
     },
     "execution_count": 53,
     "metadata": {},
     "output_type": "execute_result"
    }
   ],
   "source": [
    "x_batch.shape"
   ]
  },
  {
   "cell_type": "code",
   "execution_count": 54,
   "id": "11da03c4-c62e-42a3-a1d5-c6c10a675bd3",
   "metadata": {},
   "outputs": [
    {
     "data": {
      "text/plain": [
       "array([0.        , 0.        , 0.        , 0.        , 0.        ,\n",
       "       0.        , 0.        , 0.        , 0.        , 0.        ,\n",
       "       0.        , 0.        , 0.        , 0.        , 0.        ,\n",
       "       0.        , 0.        , 0.        , 0.        , 0.        ,\n",
       "       0.        , 0.        , 0.        , 0.        , 0.        ,\n",
       "       0.        , 0.        , 0.        , 0.        , 0.        ,\n",
       "       0.        , 0.        , 0.        , 0.        , 0.        ,\n",
       "       0.        , 0.        , 0.        , 0.        , 0.        ,\n",
       "       0.        , 0.        , 0.        , 0.        , 0.        ,\n",
       "       0.        , 0.        , 0.        , 0.        , 0.        ,\n",
       "       0.        , 0.        , 0.        , 0.        , 0.        ,\n",
       "       0.        , 0.        , 0.        , 0.        , 0.        ,\n",
       "       0.        , 0.        , 0.        , 0.        , 0.        ,\n",
       "       0.        , 0.        , 0.        , 0.        , 0.        ,\n",
       "       0.        , 0.        , 0.        , 0.        , 0.        ,\n",
       "       0.        , 0.        , 0.        , 0.        , 0.        ,\n",
       "       0.        , 0.        , 0.        , 0.        , 0.        ,\n",
       "       0.        , 0.        , 0.        , 0.        , 0.        ,\n",
       "       0.        , 0.        , 0.        , 0.        , 0.        ,\n",
       "       0.        , 0.        , 0.        , 0.        , 0.        ,\n",
       "       0.        , 0.        , 0.        , 0.        , 0.        ,\n",
       "       0.        , 0.        , 0.        , 0.        , 0.        ,\n",
       "       0.        , 0.        , 0.        , 0.        , 0.        ,\n",
       "       0.        , 0.        , 0.        , 0.        , 0.        ,\n",
       "       0.        , 0.        , 0.        , 0.        , 0.        ,\n",
       "       0.        , 0.        , 0.        , 0.        , 0.        ,\n",
       "       0.        , 0.        , 0.        , 0.        , 0.        ,\n",
       "       0.        , 0.        , 0.        , 0.        , 0.        ,\n",
       "       0.        , 0.        , 0.        , 0.        , 0.        ,\n",
       "       0.        , 0.        , 0.        , 0.        , 0.        ,\n",
       "       0.        , 0.        , 0.        , 0.        , 0.        ,\n",
       "       0.        , 0.        , 0.        , 0.        , 0.        ,\n",
       "       0.        , 0.        , 0.        , 0.        , 0.        ,\n",
       "       0.        , 0.        , 0.        , 0.        , 0.        ,\n",
       "       0.        , 0.        , 0.        , 0.        , 0.        ,\n",
       "       0.        , 0.        , 0.        , 0.        , 0.        ,\n",
       "       0.        , 0.        , 0.        , 0.        , 0.        ,\n",
       "       0.        , 0.        , 0.        , 0.        , 0.        ,\n",
       "       0.        , 0.        , 0.        , 0.        , 0.        ,\n",
       "       0.        , 0.        , 0.        , 0.        , 0.        ,\n",
       "       0.        , 0.        , 0.        , 0.        , 0.        ,\n",
       "       0.        , 0.        , 0.        , 0.        , 0.        ,\n",
       "       0.17254902, 0.8235294 , 0.2509804 , 0.        , 0.        ,\n",
       "       0.        , 0.        , 0.        , 0.        , 0.        ,\n",
       "       0.        , 0.        , 0.        , 0.        , 0.        ,\n",
       "       0.        , 0.        , 0.        , 0.        , 0.        ,\n",
       "       0.        , 0.        , 0.        , 0.        , 0.        ,\n",
       "       0.        , 0.        , 0.3882353 , 0.9137255 , 0.99215686,\n",
       "       0.7372549 , 0.09019608, 0.09019608, 0.18431373, 0.5176471 ,\n",
       "       0.5176471 , 0.5176471 , 0.8392157 , 0.7607843 , 0.        ,\n",
       "       0.        , 0.        , 0.        , 0.        , 0.        ,\n",
       "       0.        , 0.        , 0.        , 0.        , 0.        ,\n",
       "       0.        , 0.        , 0.        , 0.        , 0.21176471,\n",
       "       0.9019608 , 0.9882353 , 0.99215686, 0.9882353 , 0.9882353 ,\n",
       "       0.9882353 , 0.9882353 , 0.9882353 , 0.9882353 , 0.9882353 ,\n",
       "       0.9882353 , 0.9882353 , 0.        , 0.        , 0.        ,\n",
       "       0.        , 0.        , 0.        , 0.        , 0.        ,\n",
       "       0.        , 0.        , 0.        , 0.        , 0.        ,\n",
       "       0.        , 0.03529412, 0.90588236, 0.9882353 , 0.9882353 ,\n",
       "       0.99215686, 0.9882353 , 0.9882353 , 0.9882353 , 0.9882353 ,\n",
       "       0.9882353 , 0.9882353 , 0.9882353 , 0.88235295, 0.45882353,\n",
       "       0.        , 0.        , 0.        , 0.        , 0.        ,\n",
       "       0.        , 0.        , 0.        , 0.        , 0.        ,\n",
       "       0.        , 0.        , 0.        , 0.16862746, 0.8745098 ,\n",
       "       0.9882353 , 0.9882353 , 0.6117647 , 0.6156863 , 0.6745098 ,\n",
       "       0.5137255 , 0.2901961 , 0.08235294, 0.08235294, 0.08235294,\n",
       "       0.08235294, 0.05882353, 0.        , 0.        , 0.        ,\n",
       "       0.        , 0.        , 0.        , 0.        , 0.        ,\n",
       "       0.        , 0.        , 0.        , 0.        , 0.        ,\n",
       "       0.03921569, 0.64705884, 0.9882353 , 0.9882353 , 0.9882353 ,\n",
       "       0.9882353 , 0.99215686, 0.8901961 , 0.10588235, 0.        ,\n",
       "       0.        , 0.        , 0.        , 0.        , 0.        ,\n",
       "       0.        , 0.        , 0.        , 0.        , 0.        ,\n",
       "       0.        , 0.        , 0.        , 0.        , 0.        ,\n",
       "       0.        , 0.        , 0.        , 0.5372549 , 0.9882353 ,\n",
       "       0.9882353 , 0.9882353 , 0.9882353 , 0.9882353 , 0.99215686,\n",
       "       0.9882353 , 0.36078432, 0.        , 0.        , 0.        ,\n",
       "       0.        , 0.        , 0.        , 0.        , 0.        ,\n",
       "       0.        , 0.        , 0.        , 0.        , 0.        ,\n",
       "       0.        , 0.        , 0.        , 0.        , 0.        ,\n",
       "       0.        , 0.64705884, 0.9882353 , 0.9882353 , 0.7254902 ,\n",
       "       0.5568628 , 0.74509805, 0.99215686, 0.9882353 , 0.36078432,\n",
       "       0.        , 0.        , 0.        , 0.        , 0.        ,\n",
       "       0.        , 0.        , 0.        , 0.        , 0.        ,\n",
       "       0.        , 0.        , 0.        , 0.        , 0.        ,\n",
       "       0.        , 0.        , 0.        , 0.        , 0.28627452,\n",
       "       0.43529412, 0.22745098, 0.        , 0.        , 0.43529412,\n",
       "       1.        , 0.99215686, 0.17254902, 0.        , 0.        ,\n",
       "       0.        , 0.        , 0.        , 0.        , 0.        ,\n",
       "       0.        , 0.        , 0.        , 0.        , 0.        ,\n",
       "       0.        , 0.        , 0.        , 0.        , 0.        ,\n",
       "       0.        , 0.        , 0.        , 0.        , 0.        ,\n",
       "       0.        , 0.08235294, 0.7647059 , 0.99215686, 0.92156863,\n",
       "       0.1254902 , 0.        , 0.        , 0.        , 0.        ,\n",
       "       0.        , 0.        , 0.        , 0.        , 0.        ,\n",
       "       0.        , 0.        , 0.        , 0.        , 0.        ,\n",
       "       0.        , 0.63529414, 0.81960785, 0.46666667, 0.1882353 ,\n",
       "       0.        , 0.        , 0.        , 0.        , 0.4745098 ,\n",
       "       0.9882353 , 0.99215686, 0.56078434, 0.        , 0.        ,\n",
       "       0.        , 0.        , 0.        , 0.        , 0.        ,\n",
       "       0.        , 0.        , 0.        , 0.        , 0.        ,\n",
       "       0.        , 0.        , 0.        , 0.        , 0.99215686,\n",
       "       0.9882353 , 0.9882353 , 0.4745098 , 0.        , 0.        ,\n",
       "       0.        , 0.12941177, 0.8666667 , 0.9882353 , 0.83137256,\n",
       "       0.01176471, 0.        , 0.        , 0.        , 0.        ,\n",
       "       0.        , 0.        , 0.        , 0.        , 0.        ,\n",
       "       0.        , 0.        , 0.        , 0.        , 0.        ,\n",
       "       0.        , 0.        , 0.70980394, 0.9882353 , 0.9882353 ,\n",
       "       0.4745098 , 0.        , 0.        , 0.21960784, 0.85490197,\n",
       "       0.9882353 , 0.9882353 , 0.34117648, 0.        , 0.        ,\n",
       "       0.        , 0.        , 0.        , 0.        , 0.        ,\n",
       "       0.        , 0.        , 0.        , 0.        , 0.        ,\n",
       "       0.        , 0.        , 0.        , 0.        , 0.        ,\n",
       "       0.4117647 , 0.9882353 , 0.9882353 , 0.8784314 , 0.7764706 ,\n",
       "       0.7764706 , 0.972549  , 0.9882353 , 0.9882353 , 0.5019608 ,\n",
       "       0.        , 0.        , 0.        , 0.        , 0.        ,\n",
       "       0.        , 0.        , 0.        , 0.        , 0.        ,\n",
       "       0.        , 0.        , 0.        , 0.        , 0.        ,\n",
       "       0.        , 0.        , 0.        , 0.07058824, 0.627451  ,\n",
       "       0.98039216, 0.9882353 , 0.9882353 , 0.9882353 , 0.9882353 ,\n",
       "       0.87058824, 0.19607843, 0.01176471, 0.        , 0.        ,\n",
       "       0.        , 0.        , 0.        , 0.        , 0.        ,\n",
       "       0.        , 0.        , 0.        , 0.        , 0.        ,\n",
       "       0.        , 0.        , 0.        , 0.        , 0.        ,\n",
       "       0.        , 0.        , 0.        , 0.32156864, 0.3882353 ,\n",
       "       0.3882353 , 0.3882353 , 0.36862746, 0.        , 0.        ,\n",
       "       0.        , 0.        , 0.        , 0.        , 0.        ,\n",
       "       0.        , 0.        , 0.        , 0.        , 0.        ,\n",
       "       0.        , 0.        , 0.        , 0.        , 0.        ,\n",
       "       0.        , 0.        , 0.        , 0.        , 0.        ,\n",
       "       0.        , 0.        , 0.        , 0.        , 0.        ,\n",
       "       0.        , 0.        , 0.        , 0.        , 0.        ,\n",
       "       0.        , 0.        , 0.        , 0.        , 0.        ,\n",
       "       0.        , 0.        , 0.        , 0.        , 0.        ,\n",
       "       0.        , 0.        , 0.        , 0.        , 0.        ,\n",
       "       0.        , 0.        , 0.        , 0.        , 0.        ,\n",
       "       0.        , 0.        , 0.        , 0.        , 0.        ,\n",
       "       0.        , 0.        , 0.        , 0.        , 0.        ,\n",
       "       0.        , 0.        , 0.        , 0.        , 0.        ,\n",
       "       0.        , 0.        , 0.        , 0.        , 0.        ,\n",
       "       0.        , 0.        , 0.        , 0.        , 0.        ,\n",
       "       0.        , 0.        , 0.        , 0.        , 0.        ,\n",
       "       0.        , 0.        , 0.        , 0.        , 0.        ,\n",
       "       0.        , 0.        , 0.        , 0.        , 0.        ,\n",
       "       0.        , 0.        , 0.        , 0.        , 0.        ,\n",
       "       0.        , 0.        , 0.        , 0.        , 0.        ,\n",
       "       0.        , 0.        , 0.        , 0.        , 0.        ,\n",
       "       0.        , 0.        , 0.        , 0.        , 0.        ,\n",
       "       0.        , 0.        , 0.        , 0.        , 0.        ,\n",
       "       0.        , 0.        , 0.        , 0.        , 0.        ,\n",
       "       0.        , 0.        , 0.        , 0.        , 0.        ,\n",
       "       0.        , 0.        , 0.        , 0.        , 0.        ,\n",
       "       0.        , 0.        , 0.        , 0.        , 0.        ,\n",
       "       0.        , 0.        , 0.        , 0.        , 0.        ,\n",
       "       0.        , 0.        , 0.        , 0.        , 0.        ,\n",
       "       0.        , 0.        , 0.        , 0.        , 0.        ,\n",
       "       0.        , 0.        , 0.        , 0.        ], dtype=float32)"
      ]
     },
     "execution_count": 54,
     "metadata": {},
     "output_type": "execute_result"
    }
   ],
   "source": [
    "x_batch[0]"
   ]
  },
  {
   "cell_type": "code",
   "execution_count": 55,
   "id": "17db203a-6a1b-4c01-bd96-ddb8b1645483",
   "metadata": {},
   "outputs": [
    {
     "data": {
      "text/plain": [
       "array([0., 0., 0., 0., 0., 0., 0., 1., 0., 0.])"
      ]
     },
     "execution_count": 55,
     "metadata": {},
     "output_type": "execute_result"
    }
   ],
   "source": [
    "t_test[0]"
   ]
  },
  {
   "cell_type": "code",
   "execution_count": 57,
   "id": "d743e192-148c-4738-9e43-9c3849e62728",
   "metadata": {},
   "outputs": [
    {
     "data": {
      "text/plain": [
       "array([0., 0., 0., 0., 0., 1., 0., 0., 0., 0.])"
      ]
     },
     "execution_count": 57,
     "metadata": {},
     "output_type": "execute_result"
    }
   ],
   "source": [
    "t_train[0]"
   ]
  },
  {
   "cell_type": "code",
   "execution_count": 58,
   "id": "0b6c9942-1b97-4a45-b7bd-740f8563f129",
   "metadata": {},
   "outputs": [
    {
     "name": "stdout",
     "output_type": "stream",
     "text": [
      "(60000, 784)\n",
      "(60000,)\n"
     ]
    }
   ],
   "source": [
    "import sys, os\n",
    "sys.path.append(os.pardir)\n",
    "import numpy as np\n",
    "from dataset.mnist import load_mnist\n",
    "\n",
    "(x_train, t_train), (x_test, t_test) = \\\n",
    "    load_mnist(normalize=True, one_hot_label=False)\n",
    "\n",
    "print(x_train.shape) # (60000, 784)\n",
    "print(t_train.shape) # (60000, 10)"
   ]
  },
  {
   "cell_type": "code",
   "execution_count": 59,
   "id": "83c1378a-4ec5-4291-b55b-21b1b745fe68",
   "metadata": {},
   "outputs": [
    {
     "data": {
      "text/plain": [
       "5"
      ]
     },
     "execution_count": 59,
     "metadata": {},
     "output_type": "execute_result"
    }
   ],
   "source": [
    "t_train[0]"
   ]
  },
  {
   "cell_type": "code",
   "execution_count": 60,
   "id": "c98daa72-e4b3-4262-ba2d-0225a5a4b2eb",
   "metadata": {},
   "outputs": [
    {
     "data": {
      "text/plain": [
       "array([0.        , 0.        , 0.        , 0.        , 0.        ,\n",
       "       0.        , 0.        , 0.        , 0.        , 0.        ,\n",
       "       0.        , 0.        , 0.        , 0.        , 0.        ,\n",
       "       0.        , 0.        , 0.        , 0.        , 0.        ,\n",
       "       0.        , 0.        , 0.        , 0.        , 0.        ,\n",
       "       0.        , 0.        , 0.        , 0.        , 0.        ,\n",
       "       0.        , 0.        , 0.        , 0.        , 0.        ,\n",
       "       0.        , 0.        , 0.        , 0.        , 0.        ,\n",
       "       0.        , 0.        , 0.        , 0.        , 0.        ,\n",
       "       0.        , 0.        , 0.        , 0.        , 0.        ,\n",
       "       0.        , 0.        , 0.        , 0.        , 0.        ,\n",
       "       0.        , 0.        , 0.        , 0.        , 0.        ,\n",
       "       0.        , 0.        , 0.        , 0.        , 0.        ,\n",
       "       0.        , 0.        , 0.        , 0.        , 0.        ,\n",
       "       0.        , 0.        , 0.        , 0.        , 0.        ,\n",
       "       0.        , 0.        , 0.        , 0.        , 0.        ,\n",
       "       0.        , 0.        , 0.        , 0.        , 0.        ,\n",
       "       0.        , 0.        , 0.        , 0.        , 0.        ,\n",
       "       0.        , 0.        , 0.        , 0.        , 0.        ,\n",
       "       0.        , 0.        , 0.        , 0.        , 0.        ,\n",
       "       0.        , 0.        , 0.        , 0.        , 0.        ,\n",
       "       0.        , 0.        , 0.        , 0.        , 0.        ,\n",
       "       0.        , 0.        , 0.        , 0.        , 0.        ,\n",
       "       0.        , 0.        , 0.        , 0.        , 0.        ,\n",
       "       0.        , 0.        , 0.        , 0.        , 0.        ,\n",
       "       0.        , 0.        , 0.        , 0.        , 0.        ,\n",
       "       0.        , 0.        , 0.        , 0.        , 0.        ,\n",
       "       0.        , 0.        , 0.        , 0.        , 0.        ,\n",
       "       0.        , 0.        , 0.        , 0.        , 0.        ,\n",
       "       0.        , 0.        , 0.        , 0.        , 0.        ,\n",
       "       0.        , 0.        , 0.01176471, 0.07058824, 0.07058824,\n",
       "       0.07058824, 0.49411765, 0.53333336, 0.6862745 , 0.10196079,\n",
       "       0.6509804 , 1.        , 0.96862745, 0.49803922, 0.        ,\n",
       "       0.        , 0.        , 0.        , 0.        , 0.        ,\n",
       "       0.        , 0.        , 0.        , 0.        , 0.        ,\n",
       "       0.        , 0.11764706, 0.14117648, 0.36862746, 0.6039216 ,\n",
       "       0.6666667 , 0.99215686, 0.99215686, 0.99215686, 0.99215686,\n",
       "       0.99215686, 0.88235295, 0.6745098 , 0.99215686, 0.9490196 ,\n",
       "       0.7647059 , 0.2509804 , 0.        , 0.        , 0.        ,\n",
       "       0.        , 0.        , 0.        , 0.        , 0.        ,\n",
       "       0.        , 0.        , 0.        , 0.19215687, 0.93333334,\n",
       "       0.99215686, 0.99215686, 0.99215686, 0.99215686, 0.99215686,\n",
       "       0.99215686, 0.99215686, 0.99215686, 0.9843137 , 0.3647059 ,\n",
       "       0.32156864, 0.32156864, 0.21960784, 0.15294118, 0.        ,\n",
       "       0.        , 0.        , 0.        , 0.        , 0.        ,\n",
       "       0.        , 0.        , 0.        , 0.        , 0.        ,\n",
       "       0.        , 0.07058824, 0.85882354, 0.99215686, 0.99215686,\n",
       "       0.99215686, 0.99215686, 0.99215686, 0.7764706 , 0.7137255 ,\n",
       "       0.96862745, 0.94509804, 0.        , 0.        , 0.        ,\n",
       "       0.        , 0.        , 0.        , 0.        , 0.        ,\n",
       "       0.        , 0.        , 0.        , 0.        , 0.        ,\n",
       "       0.        , 0.        , 0.        , 0.        , 0.        ,\n",
       "       0.3137255 , 0.6117647 , 0.41960785, 0.99215686, 0.99215686,\n",
       "       0.8039216 , 0.04313726, 0.        , 0.16862746, 0.6039216 ,\n",
       "       0.        , 0.        , 0.        , 0.        , 0.        ,\n",
       "       0.        , 0.        , 0.        , 0.        , 0.        ,\n",
       "       0.        , 0.        , 0.        , 0.        , 0.        ,\n",
       "       0.        , 0.        , 0.        , 0.        , 0.05490196,\n",
       "       0.00392157, 0.6039216 , 0.99215686, 0.3529412 , 0.        ,\n",
       "       0.        , 0.        , 0.        , 0.        , 0.        ,\n",
       "       0.        , 0.        , 0.        , 0.        , 0.        ,\n",
       "       0.        , 0.        , 0.        , 0.        , 0.        ,\n",
       "       0.        , 0.        , 0.        , 0.        , 0.        ,\n",
       "       0.        , 0.        , 0.        , 0.        , 0.54509807,\n",
       "       0.99215686, 0.74509805, 0.00784314, 0.        , 0.        ,\n",
       "       0.        , 0.        , 0.        , 0.        , 0.        ,\n",
       "       0.        , 0.        , 0.        , 0.        , 0.        ,\n",
       "       0.        , 0.        , 0.        , 0.        , 0.        ,\n",
       "       0.        , 0.        , 0.        , 0.        , 0.        ,\n",
       "       0.        , 0.        , 0.04313726, 0.74509805, 0.99215686,\n",
       "       0.27450982, 0.        , 0.        , 0.        , 0.        ,\n",
       "       0.        , 0.        , 0.        , 0.        , 0.        ,\n",
       "       0.        , 0.        , 0.        , 0.        , 0.        ,\n",
       "       0.        , 0.        , 0.        , 0.        , 0.        ,\n",
       "       0.        , 0.        , 0.        , 0.        , 0.        ,\n",
       "       0.        , 0.13725491, 0.94509804, 0.88235295, 0.627451  ,\n",
       "       0.42352942, 0.00392157, 0.        , 0.        , 0.        ,\n",
       "       0.        , 0.        , 0.        , 0.        , 0.        ,\n",
       "       0.        , 0.        , 0.        , 0.        , 0.        ,\n",
       "       0.        , 0.        , 0.        , 0.        , 0.        ,\n",
       "       0.        , 0.        , 0.        , 0.        , 0.        ,\n",
       "       0.31764707, 0.9411765 , 0.99215686, 0.99215686, 0.46666667,\n",
       "       0.09803922, 0.        , 0.        , 0.        , 0.        ,\n",
       "       0.        , 0.        , 0.        , 0.        , 0.        ,\n",
       "       0.        , 0.        , 0.        , 0.        , 0.        ,\n",
       "       0.        , 0.        , 0.        , 0.        , 0.        ,\n",
       "       0.        , 0.        , 0.        , 0.        , 0.1764706 ,\n",
       "       0.7294118 , 0.99215686, 0.99215686, 0.5882353 , 0.10588235,\n",
       "       0.        , 0.        , 0.        , 0.        , 0.        ,\n",
       "       0.        , 0.        , 0.        , 0.        , 0.        ,\n",
       "       0.        , 0.        , 0.        , 0.        , 0.        ,\n",
       "       0.        , 0.        , 0.        , 0.        , 0.        ,\n",
       "       0.        , 0.        , 0.        , 0.0627451 , 0.3647059 ,\n",
       "       0.9882353 , 0.99215686, 0.73333335, 0.        , 0.        ,\n",
       "       0.        , 0.        , 0.        , 0.        , 0.        ,\n",
       "       0.        , 0.        , 0.        , 0.        , 0.        ,\n",
       "       0.        , 0.        , 0.        , 0.        , 0.        ,\n",
       "       0.        , 0.        , 0.        , 0.        , 0.        ,\n",
       "       0.        , 0.        , 0.        , 0.9764706 , 0.99215686,\n",
       "       0.9764706 , 0.2509804 , 0.        , 0.        , 0.        ,\n",
       "       0.        , 0.        , 0.        , 0.        , 0.        ,\n",
       "       0.        , 0.        , 0.        , 0.        , 0.        ,\n",
       "       0.        , 0.        , 0.        , 0.        , 0.        ,\n",
       "       0.        , 0.        , 0.        , 0.18039216, 0.50980395,\n",
       "       0.7176471 , 0.99215686, 0.99215686, 0.8117647 , 0.00784314,\n",
       "       0.        , 0.        , 0.        , 0.        , 0.        ,\n",
       "       0.        , 0.        , 0.        , 0.        , 0.        ,\n",
       "       0.        , 0.        , 0.        , 0.        , 0.        ,\n",
       "       0.        , 0.        , 0.        , 0.        , 0.15294118,\n",
       "       0.5803922 , 0.8980392 , 0.99215686, 0.99215686, 0.99215686,\n",
       "       0.98039216, 0.7137255 , 0.        , 0.        , 0.        ,\n",
       "       0.        , 0.        , 0.        , 0.        , 0.        ,\n",
       "       0.        , 0.        , 0.        , 0.        , 0.        ,\n",
       "       0.        , 0.        , 0.        , 0.        , 0.        ,\n",
       "       0.09411765, 0.44705883, 0.8666667 , 0.99215686, 0.99215686,\n",
       "       0.99215686, 0.99215686, 0.7882353 , 0.30588236, 0.        ,\n",
       "       0.        , 0.        , 0.        , 0.        , 0.        ,\n",
       "       0.        , 0.        , 0.        , 0.        , 0.        ,\n",
       "       0.        , 0.        , 0.        , 0.        , 0.        ,\n",
       "       0.        , 0.09019608, 0.25882354, 0.8352941 , 0.99215686,\n",
       "       0.99215686, 0.99215686, 0.99215686, 0.7764706 , 0.31764707,\n",
       "       0.00784314, 0.        , 0.        , 0.        , 0.        ,\n",
       "       0.        , 0.        , 0.        , 0.        , 0.        ,\n",
       "       0.        , 0.        , 0.        , 0.        , 0.        ,\n",
       "       0.        , 0.        , 0.07058824, 0.67058825, 0.85882354,\n",
       "       0.99215686, 0.99215686, 0.99215686, 0.99215686, 0.7647059 ,\n",
       "       0.3137255 , 0.03529412, 0.        , 0.        , 0.        ,\n",
       "       0.        , 0.        , 0.        , 0.        , 0.        ,\n",
       "       0.        , 0.        , 0.        , 0.        , 0.        ,\n",
       "       0.        , 0.        , 0.        , 0.21568628, 0.6745098 ,\n",
       "       0.8862745 , 0.99215686, 0.99215686, 0.99215686, 0.99215686,\n",
       "       0.95686275, 0.52156866, 0.04313726, 0.        , 0.        ,\n",
       "       0.        , 0.        , 0.        , 0.        , 0.        ,\n",
       "       0.        , 0.        , 0.        , 0.        , 0.        ,\n",
       "       0.        , 0.        , 0.        , 0.        , 0.        ,\n",
       "       0.        , 0.53333336, 0.99215686, 0.99215686, 0.99215686,\n",
       "       0.83137256, 0.5294118 , 0.5176471 , 0.0627451 , 0.        ,\n",
       "       0.        , 0.        , 0.        , 0.        , 0.        ,\n",
       "       0.        , 0.        , 0.        , 0.        , 0.        ,\n",
       "       0.        , 0.        , 0.        , 0.        , 0.        ,\n",
       "       0.        , 0.        , 0.        , 0.        , 0.        ,\n",
       "       0.        , 0.        , 0.        , 0.        , 0.        ,\n",
       "       0.        , 0.        , 0.        , 0.        , 0.        ,\n",
       "       0.        , 0.        , 0.        , 0.        , 0.        ,\n",
       "       0.        , 0.        , 0.        , 0.        , 0.        ,\n",
       "       0.        , 0.        , 0.        , 0.        , 0.        ,\n",
       "       0.        , 0.        , 0.        , 0.        , 0.        ,\n",
       "       0.        , 0.        , 0.        , 0.        , 0.        ,\n",
       "       0.        , 0.        , 0.        , 0.        , 0.        ,\n",
       "       0.        , 0.        , 0.        , 0.        , 0.        ,\n",
       "       0.        , 0.        , 0.        , 0.        , 0.        ,\n",
       "       0.        , 0.        , 0.        , 0.        , 0.        ,\n",
       "       0.        , 0.        , 0.        , 0.        , 0.        ,\n",
       "       0.        , 0.        , 0.        , 0.        , 0.        ,\n",
       "       0.        , 0.        , 0.        , 0.        , 0.        ,\n",
       "       0.        , 0.        , 0.        , 0.        , 0.        ,\n",
       "       0.        , 0.        , 0.        , 0.        ], dtype=float32)"
      ]
     },
     "execution_count": 60,
     "metadata": {},
     "output_type": "execute_result"
    }
   ],
   "source": [
    "x_train[0]"
   ]
  },
  {
   "cell_type": "code",
   "execution_count": 63,
   "id": "5311ca64-c048-4ac0-8a1f-e201b9fdb18e",
   "metadata": {},
   "outputs": [],
   "source": [
    "def cross_entropy_error(y, t):\n",
    "    if y.dim == 1: # 데이터 한 개, 1차원\n",
    "        t = t.reshape(1, t.size)  #  batch_size \"1\"\n",
    "        y = y.reshape(1, y.size)\n",
    "\n",
    "    batch_size = y.shape[0]  # 개수\n",
    "    return -np.sum(t * np.log(y + 1e-7)) / batch_size   # 정규화  -> 1장당 error"
   ]
  },
  {
   "cell_type": "code",
   "execution_count": 64,
   "id": "e797201d-1fa8-4fbe-8485-d7cf8b2e9d52",
   "metadata": {},
   "outputs": [],
   "source": [
    "def cross_entropy_error(y, t):\n",
    "    if y.dim == 1: \n",
    "        t = t.reshape(1, t.size)  \n",
    "        y = y.reshape(1, y.size)\n",
    "\n",
    "    batch_size = y.shape[0] \n",
    "    # 위 동일\n",
    "    return -np.sum(np,log(y[np.arange(batch_size), t] + 1e-7)) / batch_size "
   ]
  },
  {
   "cell_type": "code",
   "execution_count": 66,
   "id": "b56e2ffa-4212-416c-bfbd-fb444471366c",
   "metadata": {},
   "outputs": [],
   "source": [
    "# 미분"
   ]
  },
  {
   "cell_type": "code",
   "execution_count": 67,
   "id": "9103f726-0117-4df9-ae44-fde1b020f68e",
   "metadata": {},
   "outputs": [],
   "source": [
    "# 나쁜 구현 예\n",
    "def numerical_diff(f, x):\n",
    "    h = 1e-50  # 엄청 작은 값\n",
    "    return (f(x + h) - f(x)) / h"
   ]
  },
  {
   "cell_type": "code",
   "execution_count": 68,
   "id": "d0053573-4f3b-494b-9766-f17d90f6bf93",
   "metadata": {},
   "outputs": [
    {
     "data": {
      "text/plain": [
       "0.0"
      ]
     },
     "execution_count": 68,
     "metadata": {},
     "output_type": "execute_result"
    }
   ],
   "source": [
    "np.float32(1e-50)"
   ]
  },
  {
   "cell_type": "code",
   "execution_count": 76,
   "id": "00f3d929-e51f-4c11-a6e8-b24a7b95d12c",
   "metadata": {},
   "outputs": [
    {
     "name": "stdout",
     "output_type": "stream",
     "text": [
      "<class 'numpy.float32'>\n",
      "0.33333334\n"
     ]
    }
   ],
   "source": [
    "x = np.float32(1 / 3)\n",
    "print(type(x))\n",
    "print(x)"
   ]
  },
  {
   "cell_type": "code",
   "execution_count": 78,
   "id": "f40cb46f-2638-402b-9e86-dc52a8662b76",
   "metadata": {},
   "outputs": [
    {
     "name": "stdout",
     "output_type": "stream",
     "text": [
      "<class 'float'>\n",
      "0.3333333333333333 float\n"
     ]
    }
   ],
   "source": [
    "x = float(1 / 3)\n",
    "print(type(x))\n",
    "print(x, type(x).__name__)"
   ]
  },
  {
   "cell_type": "code",
   "execution_count": 75,
   "id": "44c42d9a-6d2b-4b7e-81ab-96c1750021fe",
   "metadata": {},
   "outputs": [
    {
     "name": "stdout",
     "output_type": "stream",
     "text": [
      "0.3333333333333333\n"
     ]
    }
   ],
   "source": [
    "x = np.float64(1 / 3)\n",
    "print(x)"
   ]
  },
  {
   "cell_type": "code",
   "execution_count": 55,
   "id": "5f18631e-6760-44b6-86c8-7e07b73d2813",
   "metadata": {},
   "outputs": [],
   "source": [
    "def numerical_diff(f, x):\n",
    "    h = 1e-4 # 0.0001\n",
    "    return (f(x+h) - f(x-h)) / (2*h)"
   ]
  },
  {
   "cell_type": "code",
   "execution_count": 80,
   "id": "f968ee95-00f8-47b0-afa0-7ab003d4a06a",
   "metadata": {},
   "outputs": [],
   "source": [
    "# 4.3.2"
   ]
  },
  {
   "cell_type": "code",
   "execution_count": 2,
   "id": "12ae9ad0-a8ef-4d80-a6db-1b13775e4d13",
   "metadata": {},
   "outputs": [],
   "source": [
    "def function_1(x):\n",
    "    return 0.01*x**2 + 0.1*x"
   ]
  },
  {
   "cell_type": "code",
   "execution_count": 3,
   "id": "3db7e928-2331-4929-a8ac-a92b060d2c8a",
   "metadata": {},
   "outputs": [
    {
     "data": {
      "image/png": "[encoded data removed]",
      "text/plain": [
       "<Figure size 640x480 with 1 Axes>"
      ]
     },
     "metadata": {},
     "output_type": "display_data"
    }
   ],
   "source": [
    "import numpy as np\n",
    "import matplotlib.pylab as plt\n",
    "\n",
    "x = np.arange(0.0, 20.0, 0.1) # 0에서 20까지 0.1 간격의 배열 x를 만든다(20은 미포함).\n",
    "y = function_1(x)\n",
    "plt.xlabel(\"x\")\n",
    "plt.ylabel(\"f(x)\")\n",
    "plt.plot(x, y)\n",
    "plt.show()"
   ]
  },
  {
   "cell_type": "code",
   "execution_count": 88,
   "id": "ef890af2-9d83-45c3-baff-bdd7c64d72cc",
   "metadata": {},
   "outputs": [
    {
     "data": {
      "text/plain": [
       "0.1999999999990898"
      ]
     },
     "execution_count": 88,
     "metadata": {},
     "output_type": "execute_result"
    }
   ],
   "source": [
    "numerical_diff(function_1, 5)"
   ]
  },
  {
   "cell_type": "code",
   "execution_count": 87,
   "id": "cd5138fd-765c-440e-acb9-c57b4e550916",
   "metadata": {},
   "outputs": [
    {
     "data": {
      "text/plain": [
       "0.2999999999986347"
      ]
     },
     "execution_count": 87,
     "metadata": {},
     "output_type": "execute_result"
    }
   ],
   "source": [
    "numerical_diff(function_1, 10)"
   ]
  },
  {
   "cell_type": "code",
   "execution_count": 90,
   "id": "26da7110-99bb-4626-ae8d-b8baf471c141",
   "metadata": {},
   "outputs": [
    {
     "name": "stdout",
     "output_type": "stream",
     "text": [
      "0.1999999999990898\n"
     ]
    },
    {
     "data": {
      "image/png": "[encoded data removed]",
      "text/plain": [
       "<Figure size 640x480 with 1 Axes>"
      ]
     },
     "metadata": {},
     "output_type": "display_data"
    }
   ],
   "source": [
    "def function_1(x):\n",
    "    return 0.01*x**2 + 0.1*x \n",
    "def numerical_diff(f, x):\n",
    "    h = 1e-4 # 0.0001\n",
    "    return (f(x+h) - f(x-h)) / (2*h)\n",
    "\n",
    "x = np.arange(0.0, 20.0, 0.1)\n",
    "y = function_1(x)\n",
    "plt.xlabel(\"x\")\n",
    "plt.ylabel(\"f(x)\")\n",
    "\n",
    "def tangent_line(f, x):\n",
    "    d = numerical_diff(f, x) # 기울기\n",
    "    print(d)\n",
    "    y = f(x) - d*x\n",
    "    return lambda t: d*t + y\n",
    "     \n",
    "tf = tangent_line(function_1, 5) # 5로 numerical differentiation\n",
    "y2 = tf(x)\n",
    "\n",
    "plt.plot(x, y)\n",
    "plt.plot(x, y2)\n",
    "plt.show()"
   ]
  },
  {
   "cell_type": "markdown",
   "id": "b01ce2d0-874b-4421-8a65-c94a794b00d5",
   "metadata": {},
   "source": [
    "`numerical_diff` 함수는 주어진 함수 `f`의 특정 지점 `x`에서의 기울기(도함수의 근사값)를 계산하는 함수입니다.\n",
    "\n",
    "`tangent_line` 함수는 주어진 함수 `f`와 특정 지점 `x`에서의 기울기를 이용하여 해당 점에서의 접선을 나타내는 함수를 반환합니다. 접선의 방정식은 일반적으로 `y = mx + b` 형태로 나타낼 수 있습니다. 여기서 `m`은 기울기, `b`는 y 절편입니다.\n",
    "\n",
    "1. `d = numerical_diff(f, x)`: `numerical_diff` 함수를 사용하여 함수 `f`에서 지점 `x`에서의 기울기를 계산합니다. 이 값은 `d`에 저장됩니다.\n",
    "\n",
    "2. `y = f(x) - d * x`: 접선의 방정식에서 `b`에 해당하는 부분을 계산합니다. `f(x)`는 해당 지점에서의 함수 값이고, `d * x`는 기울기를 곱한 부분입니다. 이렇게 계산된 `y`는 접선의 y 절편에 해당합니다.\n",
    "\n",
    "3. `return lambda t: d * t + y`: 기울기 `d`와 y 절편 `y`를 이용하여 접선의 방정식을 나타내는 람다 함수를 반환합니다. 이 함수는 주어진 `t`에 대해 접선 상의 점 `(t, d * t + y)`를 반환합니다.\n",
    "\n",
    "따라서 `tf`는 주어진 함수 `function_1`과 점 `x=5`에서의 기울기를 이용하여 계산된 접선을 나타내는 함수입니다. 이후 `y2 = tf(x)`는 x 값에 따른 해당 접선 상의 y 값을 계산합니다."
   ]
  },
  {
   "cell_type": "code",
   "execution_count": 91,
   "id": "7be82764-baf8-4a0b-a60f-11a84c0a5053",
   "metadata": {},
   "outputs": [],
   "source": [
    "# 편미분"
   ]
  },
  {
   "cell_type": "code",
   "execution_count": 146,
   "id": "9477dd4f-8717-4fc1-8fba-5981b6e8dcc7",
   "metadata": {},
   "outputs": [],
   "source": [
    "def function_2(x):\n",
    "    return x[0]**2 + x[1]**2\n",
    "    # 또는 return np.sum(x**2)"
   ]
  },
  {
   "cell_type": "code",
   "execution_count": 147,
   "id": "5b07458c-0345-43d5-aaaf-74f33175b80f",
   "metadata": {},
   "outputs": [
    {
     "data": {
      "image/png": "[encoded data removed]",
      "text/plain": [
       "<Figure size 640x480 with 1 Axes>"
      ]
     },
     "metadata": {},
     "output_type": "display_data"
    }
   ],
   "source": [
    "from mpl_toolkits.mplot3d import Axes3D\n",
    "\n",
    "# range\n",
    "x0 = np.linspace(-3, 3, 23) # 23개 생성\n",
    "x1 = np.linspace(-3, 3, 23)\n",
    "\n",
    "# 값 조합\n",
    "X0, X1 = np.meshgrid(x0, x1)\n",
    "\n",
    "Z = function_2([X0, X1])\n",
    "\n",
    "fig = plt.figure() # 그래프 객체 생성\n",
    "ax = fig.add_subplot(111, projection='3d') # Axes3D축을 fig에 추가\n",
    "\n",
    "# 함수 값 등고선\n",
    "ax.plot_surface(X0, X1, Z, edgecolors='black', alpha=0.08, shade=False, linewidth=0.2)  \n",
    "\n",
    "ax.set_xlabel('x0')\n",
    "ax.set_ylabel('x1')\n",
    "ax.set_zlabel('f(x)')\n",
    "plt.show()"
   ]
  },
  {
   "cell_type": "code",
   "execution_count": 33,
   "id": "b80b2f81-fa91-4835-a1cc-987ec2408c04",
   "metadata": {},
   "outputs": [
    {
     "data": {
      "image/png": "[encoded data removed]",
      "text/plain": [
       "<Figure size 640x480 with 1 Axes>"
      ]
     },
     "metadata": {},
     "output_type": "display_data"
    }
   ],
   "source": [
    "import numpy as np\n",
    "import matplotlib.pylab as plt\n",
    "\n",
    "def numerical_diff(f, x):\n",
    "    h = 1e-4 # 0.0001\n",
    "    return (f(x+h) - f(x-h)) / (2*h)\n",
    "\n",
    "def function_1(x):\n",
    "    return 0.01*x**2 + 0.1*x \n",
    "\n",
    "def tangent_line(f, x): # 접선 : y - f(a) = f'(a)(x - a)\n",
    "    d = numerical_diff(f, x) # f'(x)\n",
    "    # print(d)\n",
    "    y = f(x) - d*x # y = f(x) - f'(x)*x\n",
    "    return lambda t: d*t + y # g(t) = f'(x)(t-x) + f(x)\n",
    "\n",
    "x = np.arange(0.0, 20.0, 0.1)\n",
    "y = function_1(x)\n",
    "plt.xlabel(\"x\")\n",
    "plt.ylabel(\"f(x)\")\n",
    "\n",
    "# x=5에서의 접선\n",
    "tf = tangent_line(function_1, 10)\n",
    "y2 = tf(x)\n",
    "\n",
    "plt.xticks(np.arange(min(x), max(x)+1, 5))  # x축의 눈금을 정수로 설정\n",
    "plt.plot(10, function_1(10), 'o')  # x=10에서의 점\n",
    "plt.plot([10, 10], [-1, function_1(10)], 'k--')  # x축(y=-1)까지의 점선\n",
    "plt.plot([0, 10], [function_1(10), function_1(10)], 'k--')  # y축까지의 점선\n",
    "plt.plot(x, y)\n",
    "plt.plot(x, y2)\n",
    "plt.show()"
   ]
  },
  {
   "cell_type": "code",
   "execution_count": 14,
   "id": "8e89fcde-aa5a-4c75-9f3b-1c1012db6563",
   "metadata": {},
   "outputs": [
    {
     "data": {
      "text/plain": [
       "0.0"
      ]
     },
     "execution_count": 14,
     "metadata": {},
     "output_type": "execute_result"
    }
   ],
   "source": [
    "min(x)"
   ]
  },
  {
   "cell_type": "code",
   "execution_count": 15,
   "id": "da12db89-3a5a-434e-a7c8-2c3bdd5a5421",
   "metadata": {},
   "outputs": [
    {
     "data": {
      "text/plain": [
       "19.900000000000002"
      ]
     },
     "execution_count": 15,
     "metadata": {},
     "output_type": "execute_result"
    }
   ],
   "source": [
    "max(x)"
   ]
  },
  {
   "cell_type": "code",
   "execution_count": 16,
   "id": "50fdb76a-5917-4cfb-ac20-f4ad0f025113",
   "metadata": {},
   "outputs": [
    {
     "data": {
      "text/plain": [
       "array([ 0.,  5., 10., 15., 20.])"
      ]
     },
     "execution_count": 16,
     "metadata": {},
     "output_type": "execute_result"
    }
   ],
   "source": [
    "np.arange(min(x), max(x)+1, 5)"
   ]
  },
  {
   "cell_type": "markdown",
   "id": "f07eb292-8a5a-4d60-98b8-d23401b54afa",
   "metadata": {},
   "source": [
    "네, 좀 더 자세히 설명해드리겠습니다.\n",
    "\n",
    "주어진 함수 `tangent_line(f, x)`는 다음과 같은 작업을 수행합니다:\n",
    "\n",
    "1. `numerical_diff(f, x)`를 호출하여 함수 `f`의 x에서의 기울기를 계산합니다.\n",
    "2. 이렇게 계산된 기울기를 `d`에 저장합니다.\n",
    "3. 그런 다음, 함수 `f`를 접선의 방정식으로 변환합니다. 접선의 방정식은 일반적으로 `y = mx + b` 형태를 가지는데요. 여기서 `m`은 기울기이고, `b`는 y 절편입니다. `f(x)`는 주어진 점 `x`에서의 `f`의 값이고, `d * x`는 해당 점에서의 접선의 기울기에 x를 곱한 값입니다. 따라서 `f(x) - d * x`를 계산하여 y 절편을 구합니다.\n",
    "4. 마지막으로, 주어진 `t`값에 대해 접선의 방정식을 이용하여 해당 점에서의 접선의 `y` 값을 계산하는 익명 함수를 반환합니다.\n",
    "\n",
    "간단히 말해서, 이 함수는 어떤 함수 `f`가 주어졌을 때, 특정 점 `x`에서의 그 함수의 접선을 구하는 역할을 합니다."
   ]
  },
  {
   "cell_type": "code",
   "execution_count": 56,
   "id": "013cea17-7276-40b6-b764-281099097feb",
   "metadata": {},
   "outputs": [],
   "source": [
    "def function_tmp1(x0):\n",
    "    return x0*x0 + 4.0**2.0  # x1 고정"
   ]
  },
  {
   "cell_type": "code",
   "execution_count": 57,
   "id": "670ddc24-97b4-4035-bf22-724aab3c33b1",
   "metadata": {},
   "outputs": [
    {
     "data": {
      "text/plain": [
       "6.00000000000378"
      ]
     },
     "execution_count": 57,
     "metadata": {},
     "output_type": "execute_result"
    }
   ],
   "source": [
    "numerical_diff(function_tmp1, 3.0)"
   ]
  },
  {
   "cell_type": "code",
   "execution_count": 62,
   "id": "b632e6f9-a074-4d79-ae15-7b7f41c494c6",
   "metadata": {},
   "outputs": [],
   "source": [
    "def function_tmp2(x1):\n",
    "    return 3.0**2.0 + x1*x1  # x0 고정"
   ]
  },
  {
   "cell_type": "code",
   "execution_count": 63,
   "id": "d76f2207-222c-4d71-a7a3-57f283fedbb8",
   "metadata": {},
   "outputs": [
    {
     "data": {
      "text/plain": [
       "7.999999999999119"
      ]
     },
     "execution_count": 63,
     "metadata": {},
     "output_type": "execute_result"
    }
   ],
   "source": [
    "numerical_diff(function_tmp2, 4.0)"
   ]
  },
  {
   "cell_type": "code",
   "execution_count": 64,
   "id": "d0990e43-9a87-4cdf-8b1c-ecb7bb65d590",
   "metadata": {},
   "outputs": [],
   "source": [
    "# 4.4"
   ]
  },
  {
   "cell_type": "code",
   "execution_count": 126,
   "id": "4b2acd41-ea1b-4f21-a61b-7267028c0154",
   "metadata": {},
   "outputs": [],
   "source": [
    "def numerical_gradient(f, x):\n",
    "    h = 1e-4 # 0.0001\n",
    "    grad = np.zeros_like(x) # x와 형상이 같은 배열을 생성\n",
    "    print(grad)\n",
    "    print(\"input x size:\", x.size)\n",
    "    for idx in range(x.size):\n",
    "        print(f'current x[{idx}] = {x[idx]}')\n",
    "        tmp_val = x[idx]\n",
    "        # f(x+h)계산\n",
    "        x[idx] = tmp_val + h\n",
    "        print(x[idx])\n",
    "        fxh1 = f(x) \n",
    "        print(fxh1)   # 25\n",
    "\n",
    "        # f(x-h)계산\n",
    "        x[idx] = tmp_val - h\n",
    "        fxh2 = f(x)   # 25\n",
    "        \n",
    "        grad[idx] = (fxh1 - fxh2) / (2*h) # 결국 빼면 0이 됨\n",
    "        x[idx] = tmp_val \n",
    "        \n",
    "    return grad"
   ]
  },
  {
   "cell_type": "code",
   "execution_count": 127,
   "id": "0fb8a880-cc16-4f01-9735-e170b033ad0d",
   "metadata": {},
   "outputs": [
    {
     "name": "stdout",
     "output_type": "stream",
     "text": [
      "[0. 0. 0. 0.]\n",
      "input x size: 4\n",
      "current x[0] = 3.0\n",
      "3.0001\n",
      "25.00060001\n",
      "current x[1] = 4.0\n",
      "4.0001\n",
      "25.00080001\n",
      "current x[2] = 3.3\n",
      "3.3001\n",
      "25.0\n",
      "current x[3] = 15.1\n",
      "15.1001\n",
      "25.0\n"
     ]
    },
    {
     "data": {
      "text/plain": [
       "array([6., 8., 0., 0.])"
      ]
     },
     "execution_count": 127,
     "metadata": {},
     "output_type": "execute_result"
    }
   ],
   "source": [
    "numerical_gradient(function_2, np.array([3.0, 4.0, 3.3, 15.1]))"
   ]
  },
  {
   "cell_type": "code",
   "execution_count": 80,
   "id": "6ce02242-b622-4c47-a91b-69e1ed9ab98e",
   "metadata": {},
   "outputs": [
    {
     "data": {
      "text/plain": [
       "array([0., 4.])"
      ]
     },
     "execution_count": 80,
     "metadata": {},
     "output_type": "execute_result"
    }
   ],
   "source": [
    "numerical_gradient(function_2, np.array([0.0, 2.0]))"
   ]
  },
  {
   "cell_type": "code",
   "execution_count": 81,
   "id": "535f226d-5205-41d8-8e6a-7949f552173b",
   "metadata": {},
   "outputs": [
    {
     "data": {
      "text/plain": [
       "array([6., 0.])"
      ]
     },
     "execution_count": 81,
     "metadata": {},
     "output_type": "execute_result"
    }
   ],
   "source": [
    "numerical_gradient(function_2, np.array([3.0, 0.0]))"
   ]
  },
  {
   "cell_type": "markdown",
   "id": "72cefe56-ecb7-42f7-836f-d49b3c8e9ad4",
   "metadata": {},
   "source": [
    "enumerate 함수는 순서가 있는 자료형(리스트, 튜플, 문자열 등)을 입력으로 받아 인덱스(index)와 값(value)을 함께 순회할 수 있는 반복 가능한 객체(enumerate 객체)를 반환합니다. 이 객체는 주로 for 루프에서 사용되며, 각 순회(iteration) 단계에서 인덱스와 값을 쉽게 가져와 활용할 수 있게 해줍니다.\n",
    "\n",
    "현재 스크립트가 직접 실행될 때만 해당 블록의 코드를 실행하도록 하는 일종의 보호장치입니다. 만약 다른 스크립트에서 이 스크립트를 모듈로서 임포트하면 해당 블록의 코드는 실행되지 않습니다."
   ]
  },
  {
   "cell_type": "code",
   "execution_count": 164,
   "id": "5de0fa7e-2b30-4558-b4ab-07aaacfd93bd",
   "metadata": {},
   "outputs": [
    {
     "data": {
      "image/png": "[encoded data removed]",
      "text/plain": [
       "<Figure size 640x480 with 1 Axes>"
      ]
     },
     "metadata": {},
     "output_type": "display_data"
    }
   ],
   "source": [
    "def _numerical_gradient_no_batch(f, x):\n",
    "    h = 1e-4 # 0.0001\n",
    "    grad = np.zeros_like(x) # x와 형상이 같은 배열을 생성\n",
    "    for idx in range(x.size):\n",
    "        tmp_val = x[idx]\n",
    "        # f(x+h) 계산\n",
    "        x[idx] = float(tmp_val) + h\n",
    "        fxh1 = f(x)\n",
    "        # f(x-h) 계산\n",
    "        x[idx] = tmp_val - h \n",
    "        fxh2 = f(x) \n",
    "        grad[idx] = (fxh1 - fxh2) / (2*h)\n",
    "        x[idx] = tmp_val # 값 복원\n",
    "    return grad\n",
    "\n",
    "def numerical_gradient(f, X):\n",
    "    if X.ndim == 1:\n",
    "        return _numerical_gradient_no_batch(f, X)\n",
    "    else:\n",
    "        grad = np.zeros_like(X)        \n",
    "        for idx, x in enumerate(X):  # 인덱스랑 벡터값\n",
    "            grad[idx] = _numerical_gradient_no_batch(f, x)  # 한장씩(row)\n",
    "        \n",
    "        return grad\n",
    "\n",
    "def function_2(x):\n",
    "    if x.ndim == 1:\n",
    "        return np.sum(x**2) # 2변수\n",
    "    else:\n",
    "        return np.sum(x**2, axis=1) # row(한장)에 대한 sum (0=col)\n",
    "\n",
    "# x에서의 기울기를 이용, 접선의 방정식을 반환\n",
    "def tangent_line(f, x):\n",
    "    d = numerical_gradient(f, x) \n",
    "    print(d)  # gradient\n",
    "    y = f(x) - d*x\n",
    "    return lambda t: d*t + y\n",
    "     \n",
    "if __name__ == '__main__':\n",
    "    x0 = np.arange(-2, 2.5, 0.25) # 0.25 간격\n",
    "    x1 = np.arange(-2, 2.5, 0.25)\n",
    "    X, Y = np.meshgrid(x0, x1)    # 조합 (각각 2d)    \n",
    "    # 1차원으로 펼침\n",
    "    X = X.flatten()\n",
    "    Y = Y.flatten()    \n",
    "    grad = numerical_gradient(function_2, np.array([X, Y]))\n",
    "    #print(X.shape)  # (324,)\n",
    "    #print((np.array([X,Y]).shape)) # (2, 324)\n",
    "    \n",
    "    plt.figure()\n",
    "    # 각 지점에서 기울기를 화살표로        # x/y의방향         # 회색 계열\n",
    "    plt.quiver(X, Y, -grad[0], -grad[1], angles=\"xy\", color=\"#666666\")#,headwidth=10,scale=40,color=\"#444444\") # 각도 단위 xy좌표\n",
    "                    # 방향\n",
    "    plt.xlim([-2, 2])\n",
    "    plt.ylim([-2, 2])\n",
    "    plt.xlabel('x0')\n",
    "    plt.ylabel('x1')\n",
    "    plt.grid()\n",
    "    # plt.legend() # 범례\n",
    "    plt.draw()\n",
    "    plt.show()"
   ]
  },
  {
   "cell_type": "markdown",
   "id": "6cc7b06b-08fe-4669-a3f2-7491456bd54f",
   "metadata": {},
   "source": [
    "\"color\"는 CSS(웹페이지 스타일링 언어)에서 사용되는 속성으로, 텍스트의 색상을 지정하는 데 사용됩니다. 여기서 `\"#666666\"`은 16진수 코드로, 회색 계열의 색상을 나타냅니다. 이 구체적인 색상 코드는 회색의 다양한 음영 중 하나를 나타냅니다."
   ]
  },
  {
   "cell_type": "markdown",
   "id": "d3349f68-9905-4cdd-89a5-a6f607fc8a60",
   "metadata": {},
   "source": [
    "https://matplotlib.org/stable/api/_as_gen/matplotlib.axes.Axes.quiver.html\n",
    "\n",
    "각도 {'uv', 'xy'} 또는 유사 배열, 기본값: 'uv'\r\n",
    "화살표의 각도를 결정하는 방법.\r\n",
    "\r\n",
    "'uv': 화면 좌표의 화살표 방향입니다. 화살표가 X , Y 데이터 좌표를 기반으로 하지 않는 수량을 상징하는 경우 이를 사용합니다 .\r\n",
    "\r\n",
    "U == V 인 경우 플롯의 화살표 방향은 수평 축에서 시계 반대 방향으로 45도입니다(오른쪽 양수).\r\n",
    "\r\n",
    "'xy': 데이터 좌표의 화살표 방향, 즉 화살표는 (x, y)에서 (x+u, y+v)를 가리킵니다. 예를 들어 그라디언트 필드를 그리는 데 이것을 사용하십시오.\r\n",
    "\r\n",
    "임의의 각도는 수평 축에서 시계 반대 방향으로 도 단위 값의 배열로 명시적으로 지정될 수 있습니다.\r\n",
    "\r\n",
    "이 경우 U , V는 화살표의 길이를 결정하는 데에만 사용됩니다.\r\n",
    "\r\n",
    "참고: 데이터 축을 반전시키면 화살표만 반전됩니다 angles='xy'."
   ]
  },
  {
   "cell_type": "markdown",
   "id": "b26efe5d-5f60-4f20-afe8-ce20ff4f5f85",
   "metadata": {},
   "source": [
    "# 그래서 if __name__ == \"__main__\" 이건 대체 왜 쓰는거임?\n",
    "저 __name__이라는 친구에겐 신기한 특징이 하나 있습니다.\n",
    "\n",
    "```python\n",
    "# test1.py\n",
    "print(__name__)\n",
    "# 출력 : __main__\n",
    "```\n",
    "\n",
    "파이썬 파일을 커맨드라인이나 인터페이스를 통해 직접 실행한 경우 ​​__name__에는 __main__이라는 값(네임스페이스)이 설정됩니다.\n",
    "\n",
    "```python\n",
    "# test2.py\n",
    "import test1\n",
    "\n",
    "print(test1.__name__)\n",
    "# 출력 : test1\n",
    "```\n",
    "\n",
    "하지만 파이썬 파일을 모듈로서 사용, 즉 다른 파일에서 불러와 사용하는 경우 __name__에는 모듈 이름이 설정됩니다.\n",
    "\n",
    "정리하자면 if __name__ == \"__main__\" 은 해당 구문이 사용된 파이썬 파일을 직접 실행했을 때만 아래 코드를 실행하겠다 라는 의미입니다.\n",
    "\n",
    "이는 파이썬 개발자들이 저지를 수 있는 실수를 막아줍니다.\n",
    "\n",
    "```python\n",
    "### test1.py\n",
    "print(\"메롱\")\n",
    "\n",
    "### test2.py\n",
    "import test1\n",
    "\n",
    "print(\"ㅎㅇ\")\n",
    "```\n",
    "\n",
    "test2.py를 실행하면 어떻게 될까요? 겉으로 보기엔 test1을 임포트만 했으니 아무런 영향이 없을 것 같지만..\n",
    "\n",
    "메롱\n",
    "ㅎㅇ\n",
    "test1에 있던 print문이 출력되는 모습입니다. test1모듈에 아무런 조치를 취하지 않았기에 이런 일이 발생하게 된 것입니다.\n",
    "\n",
    "```python\n",
    "### test1.py\n",
    "if __name__ == \"__main__\":    \n",
    "    print(\"메롱\")\n",
    "test1모듈에 위와 같이 __name__을 이용한 구문을 넣어주면 모듈이 임포트 되면서 실행되는 참사를 막을 수 있습니다.\n",
    "```\n",
    "https://tibetsandfox.tistory.com/44"
   ]
  },
  {
   "cell_type": "code",
   "execution_count": 132,
   "id": "5eb9b442-b02e-4e19-be2a-9bfa45a20960",
   "metadata": {},
   "outputs": [
    {
     "data": {
      "text/plain": [
       "(3, 2)"
      ]
     },
     "execution_count": 132,
     "metadata": {},
     "output_type": "execute_result"
    }
   ],
   "source": [
    "grad = np.array([[1, 2], [2, 3], [3, 4]])\n",
    "grad.shape"
   ]
  },
  {
   "cell_type": "code",
   "execution_count": 133,
   "id": "fdc73f46-075f-4425-9ef7-5e77d1551a95",
   "metadata": {},
   "outputs": [
    {
     "name": "stdout",
     "output_type": "stream",
     "text": [
      "[2 3]\n"
     ]
    }
   ],
   "source": [
    "print(grad[1])"
   ]
  },
  {
   "cell_type": "code",
   "execution_count": 184,
   "id": "5e124848-d818-4632-b277-dc4578f555e1",
   "metadata": {},
   "outputs": [],
   "source": [
    "def gradient_descent(f, init_x, lr=0.01, step_num=100):\n",
    "    x = init_x\n",
    "\n",
    "    for i in range(step_num):\n",
    "        grad = numerical_gradient(f, x)\n",
    "        x -= lr * grad\n",
    "\n",
    "    return x"
   ]
  },
  {
   "cell_type": "code",
   "execution_count": 166,
   "id": "e4b99d4d-466a-4af6-947d-ab1643e589ff",
   "metadata": {},
   "outputs": [],
   "source": [
    "def function_2(x):\n",
    "    return x[0]**2 + x[1]**2 # np.sum(x**2)"
   ]
  },
  {
   "cell_type": "code",
   "execution_count": 167,
   "id": "3c09b99f-f479-42a9-bbf7-4a483238b260",
   "metadata": {},
   "outputs": [],
   "source": [
    "init_x = np.array([-3.0, -4.0])"
   ]
  },
  {
   "cell_type": "code",
   "execution_count": 168,
   "id": "2e07bd47-7d2d-488e-910c-f1804b322cc9",
   "metadata": {},
   "outputs": [
    {
     "data": {
      "text/plain": [
       "array([-6.11110793e-10, -8.14814391e-10])"
      ]
     },
     "execution_count": 168,
     "metadata": {},
     "output_type": "execute_result"
    }
   ],
   "source": [
    "gradient_descent(function_2, init_x=init_x, lr=0.1, step_num=100)"
   ]
  },
  {
   "cell_type": "code",
   "execution_count": 170,
   "id": "9d74c7c2-6142-4e1e-8447-1c38a68582c1",
   "metadata": {},
   "outputs": [
    {
     "name": "stdout",
     "output_type": "stream",
     "text": [
      "[-6.11110793e-10 -8.14814391e-10]\n"
     ]
    }
   ],
   "source": [
    "print(init_x)"
   ]
  },
  {
   "cell_type": "code",
   "execution_count": 173,
   "id": "d78245d2-1b05-488c-a28e-3529bf4c0b85",
   "metadata": {},
   "outputs": [],
   "source": [
    "# 학습률이 너무 큰 예 : lr=10.0\n",
    "init_x = np.array([-3.0, -4.0])"
   ]
  },
  {
   "cell_type": "code",
   "execution_count": 174,
   "id": "a6aae61b-1052-4d17-ae78-8e37a9f56b77",
   "metadata": {},
   "outputs": [
    {
     "data": {
      "text/plain": [
       "array([-2.58983747e+13,  1.29524862e+12])"
      ]
     },
     "execution_count": 174,
     "metadata": {},
     "output_type": "execute_result"
    }
   ],
   "source": [
    "gradient_descent(function_2, init_x=init_x, lr=10.0, step_num=100)"
   ]
  },
  {
   "cell_type": "code",
   "execution_count": 178,
   "id": "adcaf5de-2e41-484d-a3ed-35bbf50100f1",
   "metadata": {},
   "outputs": [],
   "source": [
    "# 학습률이 너무 작은 예 : lr = 1e-10\n",
    "init_x = np.array([-3.0, -4.0])"
   ]
  },
  {
   "cell_type": "code",
   "execution_count": 187,
   "id": "e0ce8c39-4880-4be1-ba60-0d4a09442ab2",
   "metadata": {},
   "outputs": [
    {
     "data": {
      "text/plain": [
       "array([-0.03458764,  0.04611686])"
      ]
     },
     "execution_count": 187,
     "metadata": {},
     "output_type": "execute_result"
    }
   ],
   "source": [
    "gradient_descent(function_2, init_x=init_x, lr=1e-10, step_num=100)"
   ]
  },
  {
   "cell_type": "code",
   "execution_count": 1,
   "id": "d073ff6a-ab5b-416c-b0a7-883dcced9b5b",
   "metadata": {
    "scrolled": true
   },
   "outputs": [
    {
     "data": {
      "image/png": "[encoded data removed]",
      "text/plain": [
       "<Figure size 640x480 with 1 Axes>"
      ]
     },
     "metadata": {},
     "output_type": "display_data"
    }
   ],
   "source": [
    "import numpy as np\n",
    "import matplotlib.pylab as plt\n",
    "#from gradient_2d import numerical_gradient\n",
    "\n",
    "def _numerical_gradient_no_batch(f, x):\n",
    "    h = 1e-4 # 0.0001\n",
    "    grad = np.zeros_like(x)\n",
    "    for idx in range(x.size):\n",
    "        tmp_val = x[idx]        \n",
    "        # f(x+h) 계산\n",
    "        x[idx] = float(tmp_val) + h\n",
    "        fxh1 = f(x)\n",
    "        # f(x-h) 계산\n",
    "        x[idx] = tmp_val - h \n",
    "        fxh2 = f(x)         \n",
    "        grad[idx] = (fxh1 - fxh2) / (2*h)\n",
    "        x[idx] = tmp_val # 값 복원        \n",
    "    return grad\n",
    "    \n",
    "def numerical_gradient(f, X):\n",
    "    if X.ndim == 1:\n",
    "        return _numerical_gradient_no_batch(f, X)\n",
    "    else:\n",
    "        grad = np.zeros_like(X)        \n",
    "        for idx, x in enumerate(X):\n",
    "            grad[idx] = _numerical_gradient_no_batch(f, x)        \n",
    "        return grad\n",
    "# 위 동일\n",
    "def gradient_descent(f, init_x, lr=0.01, step_num=100):\n",
    "    x = init_x\n",
    "    x_history = []\n",
    "\n",
    "    for i in range(step_num):\n",
    "        x_history.append( x.copy() ) # to prevent reference copy(->deep copy)\n",
    "\n",
    "        grad = numerical_gradient(f, x)\n",
    "        x -= lr * grad\n",
    "\n",
    "    return x, np.array(x_history)\n",
    "\n",
    "def function_2(x):\n",
    "    return x[0]**2 + x[1]**2\n",
    "\n",
    "init_x = np.array([-3.0, 4.0])    \n",
    "\n",
    "lr = 0.1\n",
    "step_num = 20\n",
    "x, x_history = gradient_descent(function_2, init_x, lr=lr, step_num=step_num)\n",
    "\n",
    "#  (-5, 0)에서 (5, 0)까지의 수평선과 (0, -5)에서 (0, 5)까지의 수직선(x/y)\n",
    "plt.plot( [-5, 5], [0,0], '--r') # blue는 b\n",
    "plt.plot( [0,0], [-5, 5], '--r')\n",
    "plt.plot(x_history[:,0], x_history[:,1], 'o') # dot 'o'\n",
    "plt.xlim(-3.5, 3.5) # 표시 영역\n",
    "plt.ylim(-4.5, 4.5)\n",
    "plt.xlabel(\"X0\")\n",
    "plt.ylabel(\"X1\")\n",
    "plt.show()"
   ]
  },
  {
   "cell_type": "code",
   "execution_count": 2,
   "id": "f85741f7-d776-43ea-b294-3b6857775ccb",
   "metadata": {},
   "outputs": [
    {
     "data": {
      "text/plain": [
       "array([[-3.        ,  4.        ],\n",
       "       [-2.4       ,  3.2       ],\n",
       "       [-1.92      ,  2.56      ],\n",
       "       [-1.536     ,  2.048     ],\n",
       "       [-1.2288    ,  1.6384    ],\n",
       "       [-0.98304   ,  1.31072   ],\n",
       "       [-0.786432  ,  1.048576  ],\n",
       "       [-0.6291456 ,  0.8388608 ],\n",
       "       [-0.50331648,  0.67108864],\n",
       "       [-0.40265318,  0.53687091],\n",
       "       [-0.32212255,  0.42949673],\n",
       "       [-0.25769804,  0.34359738],\n",
       "       [-0.20615843,  0.27487791],\n",
       "       [-0.16492674,  0.21990233],\n",
       "       [-0.1319414 ,  0.17592186],\n",
       "       [-0.10555312,  0.14073749],\n",
       "       [-0.08444249,  0.11258999],\n",
       "       [-0.06755399,  0.09007199],\n",
       "       [-0.0540432 ,  0.07205759],\n",
       "       [-0.04323456,  0.05764608]])"
      ]
     },
     "execution_count": 2,
     "metadata": {},
     "output_type": "execute_result"
    }
   ],
   "source": [
    "x_history"
   ]
  },
  {
   "cell_type": "code",
   "execution_count": 3,
   "id": "7cf95c12-cb4d-42cd-b5e5-db78416514b4",
   "metadata": {},
   "outputs": [
    {
     "data": {
      "text/plain": [
       "(20, 2)"
      ]
     },
     "execution_count": 3,
     "metadata": {},
     "output_type": "execute_result"
    }
   ],
   "source": [
    "x_history.shape"
   ]
  },
  {
   "cell_type": "markdown",
   "id": "a3a9a37e-7820-4c2f-8cf8-269afc2fadaa",
   "metadata": {},
   "source": [
    "plt.plot([-5, 5], [0, 0], '--b'): 이 명령은 파란색 점선으로 x축을 나타냅니다. [-5, 5]는 x축의 범위를 나타내며, [0, 0]은 해당 범위에서 y값이 0인 지점을 나타냅니다.\n",
    "\n",
    "plt.plot([0, 0], [-5, 5], '--b'): 이 명령은 파란색 점선으로 y축을 나타냅니다. [0, 0]은 x축에서의 위치를 나타내며, [-5, 5]는 y축의 범위를 나타냅니다.\n",
    "\n",
    "plt.plot(x_history[:,0], x_history[:,1], 'o'): 이 명령은 x_history 배열에서 x좌표는 첫 번째 열, y좌표는 두 번째 열을 사용하여 각 단계에서의 경사 하강법에 의한 점을 나타냅니다. o는 점을 의미합니다."
   ]
  },
  {
   "cell_type": "code",
   "execution_count": 206,
   "id": "139c981c-0e82-4265-9fae-fc84e4940dd9",
   "metadata": {},
   "outputs": [],
   "source": [
    "import sys, os\n",
    "sys.path.append(os.pardir)\n",
    "import numpy as np\n",
    "from common.functions import softmax, cross_entropy_error\n",
    "from common.gradient import numerical_gradient\n",
    "\n",
    "class simpleNet:\n",
    "    def __init__(self):\n",
    "        self.W = np.random.randn(2, 3) # 정규분포로 초기화 : ~N(0,1) 분포에서 추출\n",
    "\n",
    "    def predict(self, x):\n",
    "        return np.dot(x, self.W)\n",
    "\n",
    "    def loss(self, x, t):\n",
    "        z = self.predict(x)\n",
    "        y = softmax(z)\n",
    "        loss = cross_entropy_error(y, t)\n",
    "        \n",
    "        return loss"
   ]
  },
  {
   "cell_type": "markdown",
   "id": "b3db04cf-9bc0-4046-a426-fabaa412b7d1",
   "metadata": {},
   "source": [
    "`np.random.randn`은 표준 정규 분포(standard normal distribution)에서 난수를 생성하는 NumPy 함수입니다. 이 함수는 평균이 0이고 표준 편차가 1인 분포에서 난수를 추출합니다. 정규 분포는 종 모양의 분포로, 대부분의 값이 평균 근처에 있고 멀어질수록 확률이 감소하는 형태를 갖고 있습니다.\n",
    "\n",
    "간단히 말하면, `np.random.randn(2, 3)`은 크기가 2x3인 행렬을 생성하며, 이 행렬의 각 원소는 평균이 0이고 표준 편차가 1인 정규 분포에서 무작위로 추출된 값입니다. 이러한 무작위 초기화는 신경망 학습에서 가중치 초기화에 주로 사용됩니다."
   ]
  },
  {
   "cell_type": "code",
   "execution_count": 207,
   "id": "0b9fbfa6-cd08-4382-bd17-7d6065e8e248",
   "metadata": {},
   "outputs": [],
   "source": [
    "net = simpleNet()"
   ]
  },
  {
   "cell_type": "code",
   "execution_count": 208,
   "id": "55e231d7-6baf-4f85-9dc9-6b83701dbaef",
   "metadata": {},
   "outputs": [
    {
     "name": "stdout",
     "output_type": "stream",
     "text": [
      "[[ 0.73080028  0.83050574  1.75320686]\n",
      " [ 1.99084002 -1.09580045 -0.69927769]]\n"
     ]
    }
   ],
   "source": [
    "print(net.W)"
   ]
  },
  {
   "cell_type": "code",
   "execution_count": 209,
   "id": "49da60ec-de2f-41a6-aa8f-bb34d0d7fd83",
   "metadata": {},
   "outputs": [],
   "source": [
    "x = np.array([0.6, 0.9])"
   ]
  },
  {
   "cell_type": "code",
   "execution_count": 210,
   "id": "c7d2535f-a434-40e3-b52d-1276d2903b0e",
   "metadata": {},
   "outputs": [],
   "source": [
    "p = net.predict(x)"
   ]
  },
  {
   "cell_type": "code",
   "execution_count": 211,
   "id": "3888d76b-3f51-4ede-9b07-064490039c18",
   "metadata": {},
   "outputs": [
    {
     "name": "stdout",
     "output_type": "stream",
     "text": [
      "[ 2.23023619 -0.48791696  0.4225742 ]\n"
     ]
    }
   ],
   "source": [
    "print(p)"
   ]
  },
  {
   "cell_type": "code",
   "execution_count": 212,
   "id": "a52c7046-94f0-4cbb-b32a-7e26d9386678",
   "metadata": {},
   "outputs": [
    {
     "data": {
      "text/plain": [
       "0"
      ]
     },
     "execution_count": 212,
     "metadata": {},
     "output_type": "execute_result"
    }
   ],
   "source": [
    "np.argmax(p) # 최댓값의 인덱스"
   ]
  },
  {
   "cell_type": "code",
   "execution_count": 213,
   "id": "473545ed-2805-47ee-bc0a-e55be8d091da",
   "metadata": {},
   "outputs": [],
   "source": [
    "t = np.array([0, 0, 1]) # 정답 레이블"
   ]
  },
  {
   "cell_type": "code",
   "execution_count": 214,
   "id": "e84fa340-73ff-4a0e-a5be-d48d218f2358",
   "metadata": {},
   "outputs": [
    {
     "data": {
      "text/plain": [
       "2.01470284265298"
      ]
     },
     "execution_count": 214,
     "metadata": {},
     "output_type": "execute_result"
    }
   ],
   "source": [
    "net.loss(x, t)"
   ]
  },
  {
   "cell_type": "code",
   "execution_count": 219,
   "id": "f1953f41-7045-441a-abf8-9c2905b52203",
   "metadata": {},
   "outputs": [],
   "source": [
    "def f(W): # W dummy\n",
    "    return net.loss(x, t)    "
   ]
  },
  {
   "cell_type": "code",
   "execution_count": 217,
   "id": "530cf02b-1afd-4908-bdd1-e7bbf3faaf8e",
   "metadata": {},
   "outputs": [],
   "source": [
    "dW = numerical_gradient(f, net.W)"
   ]
  },
  {
   "cell_type": "code",
   "execution_count": 218,
   "id": "82887d41-4780-46cc-8236-8d1ec985fe5e",
   "metadata": {},
   "outputs": [
    {
     "name": "stdout",
     "output_type": "stream",
     "text": [
      "[[ 0.48779113  0.03219252 -0.51998365]\n",
      " [ 0.7316867   0.04828878 -0.77997548]]\n"
     ]
    }
   ],
   "source": [
    "print(dW)"
   ]
  },
  {
   "cell_type": "code",
   "execution_count": 220,
   "id": "bd766c3e-7300-495c-ae5e-ded52c13dabb",
   "metadata": {},
   "outputs": [],
   "source": [
    "f = lambda w: net.loss(x, t)"
   ]
  },
  {
   "cell_type": "code",
   "execution_count": 222,
   "id": "dd5b64c7-4ec4-433b-8930-406c26bd7b89",
   "metadata": {},
   "outputs": [],
   "source": [
    "dw = numerical_gradient(f, net.W)"
   ]
  },
  {
   "cell_type": "code",
   "execution_count": 223,
   "id": "a8124d0e-77f5-4f9d-895e-d47c3f52257f",
   "metadata": {},
   "outputs": [],
   "source": [
    "def numerical_gradient(f, x):\n",
    "    h = 1e-4 # 0.0001\n",
    "    grad = np.zeros_like(x)\n",
    "    \n",
    "    it = np.nditer(x, flags=['multi_index'], op_flags=['readwrite'])\n",
    "    while not it.finished:\n",
    "        idx = it.multi_index\n",
    "        tmp_val = x[idx]\n",
    "        x[idx] = float(tmp_val) + h\n",
    "        fxh1 = f(x) # f(x+h)\n",
    "        \n",
    "        x[idx] = tmp_val - h \n",
    "        fxh2 = f(x) # f(x-h)\n",
    "        grad[idx] = (fxh1 - fxh2) / (2*h)\n",
    "        \n",
    "        x[idx] = tmp_val # 값 복원\n",
    "        it.iternext()   \n",
    "        \n",
    "    return grad"
   ]
  },
  {
   "cell_type": "markdown",
   "id": "d901de9d-6161-4d11-96d9-8cf5e9facb1c",
   "metadata": {},
   "source": [
    "`np.nditer`는 NumPy 배열의 요소에 대한 반복자(iterator)를 생성하는 기능을 제공하는 클래스입니다. 이를 사용하여 배열의 각 요소에 대한 반복 작업을 수행할 수 있습니다. `it.multi_index`를 통해 현재 반복 중인 요소의 다차원 인덱스를 얻을 수 있습니다.\r\n",
    "\r\n",
    "여기서 `np.nditer`를 사용하는 목적은 배열의 각 요소를 하나씩 업데이트하면서 수치 미분을 계산하기 위함입니다. `it`을 통해 각 요소의 인덱스를 얻고, 해당 인덱스에 대해 값을 조정하여 함수 `f`를 계산하고 그레디언트를 구합니다.\r\n",
    "\r\n",
    "구체적으로 아래와 같은 흐름으로 동작합니다:\r\n",
    "\r\n",
    "1. `np.nditer`를 사용하여 배열 `x`의 각 요소에 대한 반복자 `it`를 생성합니다.\r\n",
    "2. `it.multi_index`를 통해 현재 반복 중인 요소의 다차원 인덱스를 얻습니다.\r\n",
    "3. 현재 요소의 값을 `tmp_val`에 저장합니다.\r\n",
    "4. 현재 요소에 대해 `h`를 더한 상태에서 함수 `f`를 계산하여 `fxh1`을 구합니다.\r\n",
    "5. 현재 요소에 대해 `h`를 뺀 상태에서 함수 `f`를 계산하여 `fxh2`을 구합니다.\r\n",
    "6. 중심 차분을 이용하여 그레디언트를 계산하고 `grad` 배열에 저장합니다.\r\n",
    "7. 현재 요소의 값을 `tmp_val`로 복원합니다.\r\n",
    "8. `it.iternext()`를 호출하여 다음 요소로 이동합니다.\r\n",
    "9. 2~8 단계를 반복하여 모든 요소에 대한 그레디언트를 계산합니다.\r\n",
    "\r\n",
    "이렇게 하면 배열의 각 요소에 대해 수치 미분을 계산할 수 있습니다."
   ]
  },
  {
   "cell_type": "markdown",
   "id": "8742c3f6-4d58-4c38-9840-1fc6702cef05",
   "metadata": {},
   "source": [
    "`op_flags`는 NumPy의 `np.nditer`에서 사용되는 플래그로, 반복 중에 어떤 종류의 연산이 허용되는지를 지정합니다. 여기서 'op'은 'operation'의 약어입니다. 주로 다음과 같은 플래그를 사용합니다:\r\n",
    "\r\n",
    "- `'readwrite'`: 읽기 및 쓰기가 허용됩니다. 즉, 값을 읽을 수 있고 값을 변경할 수 있습니다.\r\n",
    "- `'readonly'`: 읽기만 허용됩니다. 값을 읽을 수 있지만 변경할 수는 없습니다.\r\n",
    "- `'writeonly'`: 쓰기만 허용됩니다. 값을 변경할 수 있지만 읽을 수는 없습니다.\r\n",
    "\r\n",
    "`op_flags=['readwrite']`로 설정된 경우, `np.nditer`를 통해 얻은 반복자가 배열의 각 요소에 대해 읽기 및 쓰기를 수행할 수 있도록 허용됩니다."
   ]
  },
  {
   "cell_type": "code",
   "execution_count": 224,
   "id": "4d6a3d87-5615-4aea-bb89-b4f73f258764",
   "metadata": {},
   "outputs": [],
   "source": [
    "# 4.5.1"
   ]
  },
  {
   "cell_type": "code",
   "execution_count": 226,
   "id": "5bfd1acf-33cc-4860-b5e7-9b5a198aab92",
   "metadata": {},
   "outputs": [],
   "source": [
    "import sys, os\n",
    "sys.path.append(os.pardir) \n",
    "from common.functions import * # 모든 함수 불러옴\n",
    "from common.gradient import numerical_gradient\n",
    "\n",
    "class TwoLayerNet: \n",
    "    # 초기화 메서드\n",
    "    def __init__(self, input_size, hidden_size, output_size, \n",
    "                 weight_init_std=0.01): #가중치 초기화 시 표준편차를 지정하여 얼마나 랜덤하게 초기화할지\n",
    "        # 가중치 초기화(후에 배움)\n",
    "        self.params = {} # dictionary\n",
    "        self.params['W1'] = weight_init_std * \\ \n",
    "                            np.random.randn(input_size, hidden_size)\n",
    "        self.params['b1'] = np.zeros(hidden_size)\n",
    "        self.params['W2'] = weight_init_std * \\\n",
    "                            np.random.randn(hidden_size, output_size)\n",
    "        self.params['b2'] = np.zeros(output_size)\n",
    "\n",
    "    def predict(self, x):\n",
    "        W1, W2 = self.params['W1'], self.params['W2']\n",
    "        b1, b2 = self.params['b1'], self.params['b2']\n",
    "    \n",
    "        a1 = np.dot(x, W1) + b1\n",
    "        z1 = sigmoid(a1)\n",
    "        a2 = np.dot(z1, W2) + b2\n",
    "        y = softmax(a2)\n",
    "         \n",
    "        return y\n",
    "        \n",
    "    # x : 입력 데이터, t : 정답 레이블\n",
    "    def loss(self, x, t):\n",
    "        y = self.predict(x)\n",
    "        \n",
    "        return cross_entropy_error(y, t)\n",
    "    \n",
    "    def accuracy(self, x, t):\n",
    "        y = self.predict(x)\n",
    "        y = np.argmax(y, axis=1) # 각 row\n",
    "        t = np.argmax(t, axis=1)\n",
    "        \n",
    "        accuracy = np.sum(y == t) / float(x.shape[0]) # 총 일치 개수 / 전체 데이터\n",
    "        return accuracy\n",
    "        \n",
    "    # x : 입력 데이터, t : 정답 레이블\n",
    "    def numerical_gradient(self, x, t):\n",
    "        loss_W = lambda W: self.loss(x, t)  # loss_W(W): return ~.\n",
    "        \n",
    "        grads = {} # dictionary (기울기 보관)\n",
    "        grads['W1'] = numerical_gradient(loss_W, self.params['W1']) # gradient of params\n",
    "        grads['b1'] = numerical_gradient(loss_W, self.params['b1'])\n",
    "        grads['W2'] = numerical_gradient(loss_W, self.params['W2'])\n",
    "        grads['b2'] = numerical_gradient(loss_W, self.params['b2'])\n",
    "        \n",
    "        return grads\n",
    "        \n",
    "# 다음 장에서 배울 내용-----numerical 대신 오차역전파로 기울기 구하기-----    \n",
    "    def gradient(self, x, t):\n",
    "        W1, W2 = self.params['W1'], self.params['W2']\n",
    "        b1, b2 = self.params['b1'], self.params['b2']\n",
    "        grads = {}\n",
    "        \n",
    "        batch_num = x.shape[0] # input data\n",
    "        \n",
    "        # forward\n",
    "        a1 = np.dot(x, W1) + b1\n",
    "        z1 = sigmoid(a1)\n",
    "        a2 = np.dot(z1, W2) + b2\n",
    "        y = softmax(a2)\n",
    "        \n",
    "        # backward\n",
    "        dy = (y - t) / batch_num\n",
    "        grads['W2'] = np.dot(z1.T, dy)\n",
    "        grads['b2'] = np.sum(dy, axis=0)\n",
    "        \n",
    "        da1 = np.dot(dy, W2.T)\n",
    "        dz1 = sigmoid_grad(a1) * da1\n",
    "        grads['W1'] = np.dot(x.T, dz1)\n",
    "        grads['b1'] = np.sum(dz1, axis=0)\n",
    "\n",
    "        return grads"
   ]
  },
  {
   "cell_type": "code",
   "execution_count": 229,
   "id": "489f1fd4-cb6e-40d6-9c77-877067b37e82",
   "metadata": {},
   "outputs": [
    {
     "data": {
      "text/plain": [
       "(784, 100)"
      ]
     },
     "execution_count": 229,
     "metadata": {},
     "output_type": "execute_result"
    }
   ],
   "source": [
    "net = TwoLayerNet(input_size=784, hidden_size=100, output_size=10)\n",
    "net.params['W1'].shape # (784, 100)"
   ]
  },
  {
   "cell_type": "code",
   "execution_count": 230,
   "id": "d4b61f11-b48d-43a7-826b-61a50948c98f",
   "metadata": {},
   "outputs": [
    {
     "data": {
      "text/plain": [
       "(100,)"
      ]
     },
     "execution_count": 230,
     "metadata": {},
     "output_type": "execute_result"
    }
   ],
   "source": [
    "net.params['b1'].shape # (100,)"
   ]
  },
  {
   "cell_type": "code",
   "execution_count": 231,
   "id": "c79a9590-c488-41bd-a2bb-b81c7430f48e",
   "metadata": {},
   "outputs": [
    {
     "data": {
      "text/plain": [
       "(100, 10)"
      ]
     },
     "execution_count": 231,
     "metadata": {},
     "output_type": "execute_result"
    }
   ],
   "source": [
    "net.params['W2'].shape # (100, 10)"
   ]
  },
  {
   "cell_type": "code",
   "execution_count": 232,
   "id": "bc09cd6b-3f91-44be-b124-c107fba00078",
   "metadata": {},
   "outputs": [
    {
     "data": {
      "text/plain": [
       "(10,)"
      ]
     },
     "execution_count": 232,
     "metadata": {},
     "output_type": "execute_result"
    }
   ],
   "source": [
    "net.params['b2'].shape # (10,)"
   ]
  },
  {
   "cell_type": "code",
   "execution_count": 233,
   "id": "d742037c-118b-4473-bd11-df5c1b9e045a",
   "metadata": {},
   "outputs": [],
   "source": [
    "x = np.random.rand(100, 784) # 더미 입력 데이터(100장 분량)\n",
    "y = net.predict(x)"
   ]
  },
  {
   "cell_type": "code",
   "execution_count": 234,
   "id": "a597a9a0-a717-45c7-ad65-935633fc760f",
   "metadata": {},
   "outputs": [],
   "source": [
    "# 미니배치"
   ]
  },
  {
   "cell_type": "code",
   "execution_count": null,
   "id": "ac4da4a4-9445-4a5c-b974-216899b10edb",
   "metadata": {},
   "outputs": [],
   "source": [
    "import numpy as np\n",
    "from dataset.mnist import load_mnist\n",
    "from two_layer_net import TwoLayerNet # 저장해놨음\n",
    "\n",
    "(x_train, t_train), (x_test, t_test) = \\\n",
    "    load_mnist(normalize=True, one_hot_label=True)\n",
    "\n",
    "train_loss_list = []\n",
    "\n",
    "# 하이퍼 파라미터\n",
    "iters_num = 10000 # 반복 횟수\n",
    "train_size = x_train.shape[0] # 60000개\n",
    "batch_size = 100  # 미니배치 크기\n",
    "learning_rate = 0.1\n",
    "\n",
    "network = TwoLayerNet(input_size=784, hidden_size=50, output_size=10)\n",
    "\n",
    "for i in range(iters_num):\n",
    "    # 미니배치 획득\n",
    "    batch_mask = np.random.choice(train_size, batch_size)\n",
    "    x_batch = x_train[batch_mask]\n",
    "    t_batch = t_train[batch_mask]\n",
    "\n",
    "    # 기울기 계산\n",
    "    grad = network.numerical_gradient(x_batch, t_batch) # loss fun -> return grads\n",
    "    # grad = network.gradient(x_batch, t_batch) # 성능 개선판!\n",
    "\n",
    "    # 매개변수 갱신 (하강법)\n",
    "    for key in ('W1', 'b1', 'W2', 'b2'):\n",
    "        network.params[key] -= learning_rate * grad[key]\n",
    "\n",
    "    # 학습 경과 기록\n",
    "    loss = network.loss(x_batch, t_batch)\n",
    "    train_loss_list.append(loss)"
   ]
  },
  {
   "cell_type": "code",
   "execution_count": null,
   "id": "6da9c8b9-e1d5-4870-9618-af9a2d58bf6e",
   "metadata": {},
   "outputs": [],
   "source": [
    "import matplotlib.pyplot as plt\n",
    "\n",
    "x = np.arange(len(train_loss_list)) # for i in range(iters_num)\n",
    "plt.plot(x, train_loss_list, label='loss')\n",
    "plt.xlabel(\"iteration')\n",
    "plt.ylabel(\"loss\")\n",
    "plt.legend(loc='upper right')\n",
    "plt.show()"
   ]
  },
  {
   "cell_type": "code",
   "execution_count": null,
   "id": "952904c8-0897-4990-99c5-c1dac4aadc0f",
   "metadata": {},
   "outputs": [],
   "source": [
    "len(train_loss_list)"
   ]
  },
  {
   "cell_type": "code",
   "execution_count": null,
   "id": "8db1ba96-f233-4669-9b79-027caa367f30",
   "metadata": {},
   "outputs": [],
   "source": [
    "import numpy as np\n",
    "from sample_data.mnist import load_mnist\n",
    "\n",
    "\n",
    "(x_train, t_train), (x_test, t_test) = \\\n",
    "    load_mnist(normalize=True, one_hot_label=True)\n",
    "\n",
    "# 하이퍼파라미터\n",
    "iters_num = 10000\n",
    "train_size = x_train.shape[0]\n",
    "batch_size = 100  # 미니배치 크기\n",
    "learning_rate = 0.1\n",
    "\n",
    "train_loss_list = []\n",
    "train_acc_list = []\n",
    "test_acc_list = []\n",
    "\n",
    "# 1에폭당 반복 수\n",
    "iter_per_epoch = max(train_size / batch_size, 1)  #\n",
    "\n",
    "for i in range(iters_num):\n",
    "  # 미니배치 획득\n",
    "  batch_mask = np.random.choice(train_size, batch_size)\n",
    "  x_batch = x_train[batch_mask]\n",
    "  t_batch = t_train[batch_mask]\n",
    "\n",
    "  # 기울기 계산\n",
    "  #grad = network.numerical_gradient(x_batch, t_batch) # loss -> return grads, grads dictionary-key는 params\n",
    "  grad = network.gradient(x_batch, t_batch) # 성능 개선판!\n",
    "\n",
    "  # 매개변수 갱신\n",
    "  for key in ('W1', 'b1', 'W2', 'b2'):\n",
    "    network.params[key] -= learning_rate * grad[key] \n",
    "\n",
    "  # 학습 경과 기록\n",
    "  loss = network.loss(x_batch, t_batch)\n",
    "  train_loss_list.append(loss)\n",
    "\n",
    "  # 1에폭당 정확도 계산\n",
    "  if i % iter_per_epoch == 0:\n",
    "    train_acc = network.accuracy(x_train, t_train)\n",
    "    test_acc = network.accuracy(x_test, t_test)\n",
    "    train_acc_list.append(train_acc)\n",
    "    test_acc_list.append(test_acc)\n",
    "    print(\"train acc, test acc | \"\n",
    "        + str(train_acc) + \", \" + str(test_acc))"
   ]
  },
  {
   "cell_type": "code",
   "execution_count": 15,
   "id": "5d9d0ebd-1660-4602-a368-2df78acd3ded",
   "metadata": {
    "scrolled": true
   },
   "outputs": [
    {
     "data": {
      "text/plain": [
       "array([[ 3.27959306,  0.51368794, -0.66492569,  0.63820133, -0.03809331,\n",
       "        -0.91192065,  0.39257218, -1.24826858,  0.38109542,  0.5726248 ],\n",
       "       [ 0.14886935, -0.75726522, -0.29520342,  0.50330986, -0.06962009,\n",
       "        -0.91219339, -0.15727181,  0.59929101,  0.61382461,  0.09829283],\n",
       "       [-2.80093705,  2.45164227, -0.69650745, -1.10225257, -0.61946968,\n",
       "         0.14105414,  1.6322726 ,  1.29115024, -0.77483423, -0.21045115],\n",
       "       [-0.05246329, -1.73143799,  0.00658946, -0.18124361,  1.86005048,\n",
       "        -0.7516411 ,  1.82876709,  1.25888773, -1.18140699, -0.47021644],\n",
       "       [ 0.43453735,  0.94872639, -0.28335545,  0.06613321,  0.66584519,\n",
       "         0.87423595,  1.15993902,  2.54842258,  0.90959381, -1.07597636]])"
      ]
     },
     "execution_count": 15,
     "metadata": {},
     "output_type": "execute_result"
    }
   ],
   "source": [
    "batch_size = 5\n",
    "y = np.random.randn(batch_size, 10) # 0~9\n",
    "y"
   ]
  },
  {
   "cell_type": "code",
   "execution_count": 18,
   "id": "c6faa7f1-f577-4a4e-9ecf-042de9957dd1",
   "metadata": {},
   "outputs": [
    {
     "name": "stdout",
     "output_type": "stream",
     "text": [
      "[0 1 2 3 4] [2, 7, 9, 0, 4]\n"
     ]
    }
   ],
   "source": [
    "t = [2, 7, 9 ,0, 4] # 정답 레이블 (원핫인코딩x)\n",
    "print(np.arange(batch_size),t)"
   ]
  },
  {
   "cell_type": "code",
   "execution_count": 21,
   "id": "4b0b80e6-b1f4-4aea-addb-48f89ca6fcaa",
   "metadata": {},
   "outputs": [
    {
     "data": {
      "text/plain": [
       "array([-0.66492569,  0.59929101, -0.21045115, -0.05246329,  0.66584519])"
      ]
     },
     "execution_count": 21,
     "metadata": {},
     "output_type": "execute_result"
    }
   ],
   "source": [
    "y[np.arange(batch_size),t] # 순서쌍 0,2 1,7 ..."
   ]
  },
  {
   "cell_type": "code",
   "execution_count": 22,
   "id": "e7987368-d5d3-47f8-81c4-121ad2486e57",
   "metadata": {
    "scrolled": true
   },
   "outputs": [
    {
     "data": {
      "text/plain": [
       "array([-0.13298514,  0.1198582 , -0.04209023, -0.01049266,  0.13316904])"
      ]
     },
     "execution_count": 22,
     "metadata": {},
     "output_type": "execute_result"
    }
   ],
   "source": [
    "y[np.arange(batch_size),t] / batch_size"
   ]
  },
  {
   "cell_type": "code",
   "execution_count": 1,
   "id": "3ccc7ae5-2dfd-42ef-8b3d-3cd14529afde",
   "metadata": {},
   "outputs": [
    {
     "name": "stderr",
     "output_type": "stream",
     "text": [
      "No artists with labels found to put in legend.  Note that artists whose label start with an underscore are ignored when legend() is called with no argument.\n"
     ]
    },
    {
     "data": {
      "image/png": "[encoded data removed]",
      "text/plain": [
       "<Figure size 640x480 with 1 Axes>"
      ]
     },
     "metadata": {},
     "output_type": "display_data"
    }
   ],
   "source": [
    "# coding: utf-8\n",
    "# cf.http://d.hatena.ne.jp/white_wheels/20100327/p3\n",
    "import numpy as np\n",
    "import matplotlib.pylab as plt\n",
    "from mpl_toolkits.mplot3d import Axes3D\n",
    "\n",
    "\n",
    "def _numerical_gradient_no_batch(f, x):\n",
    "    h = 1e-4 # 0.0001\n",
    "    grad = np.zeros_like(x) # x와 형상이 같은 배열을 생성\n",
    "    \n",
    "    for idx in range(x.size):\n",
    "        tmp_val = x[idx]\n",
    "        \n",
    "        # f(x+h) 계산\n",
    "        x[idx] = float(tmp_val) + h\n",
    "        fxh1 = f(x)\n",
    "        \n",
    "        # f(x-h) 계산\n",
    "        x[idx] = tmp_val - h \n",
    "        fxh2 = f(x) \n",
    "        \n",
    "        grad[idx] = (fxh1 - fxh2) / (2*h)\n",
    "        x[idx] = tmp_val # 값 복원\n",
    "        \n",
    "    return grad\n",
    "\n",
    "\n",
    "def numerical_gradient(f, X):\n",
    "    if X.ndim == 1:\n",
    "        return _numerical_gradient_no_batch(f, X)\n",
    "    else:\n",
    "        grad = np.zeros_like(X)\n",
    "        \n",
    "        for idx, x in enumerate(X):\n",
    "            grad[idx] = _numerical_gradient_no_batch(f, x)\n",
    "        \n",
    "        return grad\n",
    "\n",
    "\n",
    "def function_2(x):\n",
    "    if x.ndim == 1:\n",
    "        return np.sum(x**2)\n",
    "    else:\n",
    "        return np.sum(x**2, axis=1)\n",
    "\n",
    "\n",
    "def tangent_line(f, x):\n",
    "    d = numerical_gradient(f, x)\n",
    "    print(d)\n",
    "    y = f(x) - d*x\n",
    "    return lambda t: d*t + y\n",
    "     \n",
    "if __name__ == '__main__':\n",
    "    x0 = np.arange(-2, 2.5, 0.25)\n",
    "    x1 = np.arange(-2, 2.5, 0.25)\n",
    "    X, Y = np.meshgrid(x0, x1) \n",
    "    \n",
    "    X = X.flatten()\n",
    "    Y = Y.flatten()\n",
    "    \n",
    "    grad = numerical_gradient(function_2, np.array([X, Y]) )\n",
    "    \n",
    "    plt.figure()\n",
    "    plt.quiver(X, Y, -grad[0], -grad[1],  angles=\"xy\",color=\"#666666\")#,headwidth=10,scale=40,color=\"#444444\")\n",
    "    plt.xlim([-2, 2])\n",
    "    plt.ylim([-2, 2])\n",
    "    plt.xlabel('x0')\n",
    "    plt.ylabel('x1')\n",
    "    plt.grid()\n",
    "    plt.legend()\n",
    "    plt.draw()\n",
    "    plt.show()"
   ]
  },
  {
   "cell_type": "code",
   "execution_count": null,
   "id": "c1da64ce-da60-4e2e-ad97-8346383cd1ae",
   "metadata": {},
   "outputs": [],
   "source": []
  }
 ],
 "metadata": {
  "kernelspec": {
   "display_name": "Python 3 (ipykernel)",
   "language": "python",
   "name": "python3"
  },
  "language_info": {
   "codemirror_mode": {
    "name": "ipython",
    "version": 3
   },
   "file_extension": ".py",
   "mimetype": "text/x-python",
   "name": "python",
   "nbconvert_exporter": "python",
   "pygments_lexer": "ipython3",
   "version": "3.9.13"
  }
 },
 "nbformat": 4,
 "nbformat_minor": 5
}
